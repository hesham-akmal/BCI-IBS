{
 "cells": [
  {
   "cell_type": "code",
   "execution_count": 1,
   "metadata": {},
   "outputs": [],
   "source": [
    "import math\n",
    "import pandas as pd\n",
    "import numpy as np\n",
    "from skimage import data , io , filters #Data for images , io for imshow , filters for prewitt\n",
    "import matplotlib.pyplot as plt\n",
    "import colorsys\n",
    "%matplotlib inline\n",
    "#from CarDetection_SVM.py import p"
   ]
  },
  {
   "cell_type": "code",
   "execution_count": 2,
   "metadata": {},
   "outputs": [],
   "source": [
    "def display(img, isgray):\n",
    "    plt.figure(dpi=150)\n",
    "    if(isgray):\n",
    "        plt.imshow(img, cmap='gray')\n",
    "    else:\n",
    "        plt.imshow(img)\n",
    "    plt.show()"
   ]
  },
  {
   "cell_type": "code",
   "execution_count": 3,
   "metadata": {},
   "outputs": [],
   "source": [
    "def get_mags_and_dirs(img):\n",
    "    r, c = img.shape[0], img.shape[1]\n",
    "    mags = np.zeros((r, c, 3), dtype=float)\n",
    "    dirs = np.zeros((r, c, 3), dtype=float)\n",
    "    for i in range(3):\n",
    "        comp = img[:,:,i]\n",
    "        mags[:,:,i] = filters.sobel(comp)\n",
    "        dirs[:,:,i] = np.arctan2(filters.sobel_h(comp), filters.sobel_v(comp))*180.0/np.pi\n",
    "    return mags, dirs"
   ]
  },
  {
   "cell_type": "code",
   "execution_count": 4,
   "metadata": {},
   "outputs": [],
   "source": [
    "def get_hist_grid(sub_img, cell_size):\n",
    "    ri, ci = sub_img.shape[0], sub_img.shape[1] \n",
    "    r, c = (ri-1)//cell_size+1, (ci-1)//cell_size+1\n",
    "    hist_grid = np.zeros((r, c, 18), dtype=float)\n",
    "    for i in range(r):\n",
    "        for j in range(c):\n",
    "            cur_cell = np.zeros((cell_size, cell_size, 3), sub_img.dtype)\n",
    "            ilo, iup, jlo, jup = i*cell_size, min((i+1)*cell_size, ri), j*cell_size, min((j+1)*cell_size, ci)\n",
    "            cur_cell[:min(cell_size, iup-ilo),:min(cell_size, jup-jlo),:] = sub_img[ilo:iup,jlo:jup,:]\n",
    "            mags, dirs = get_mags_and_dirs(cur_cell)\n",
    "            for k in range(cell_size):\n",
    "                for l in range(cell_size):\n",
    "                    max_mag, its_dir = 0, 0\n",
    "                    for m in range(3):\n",
    "                        if(mags[k, l, m] > max_mag):\n",
    "                            max_mag, its_dir = mags[k, l, m], dirs[k, l, m]\n",
    "                    if(its_dir < 0):\n",
    "                        its_dir = 360 + its_dir\n",
    "                    flr = int(np.floor(its_dir/20))\n",
    "                    lo, up = flr*20, (flr+1)*20\n",
    "                    dl, du = its_dir-lo, up-its_dir\n",
    "                    hist_grid[i, j, (lo//20)%18] += (1-dl/20.0)*max_mag\n",
    "                    hist_grid[i, j, (up//20)%18] += (1-du/20.0)*max_mag\n",
    "    return hist_grid"
   ]
  },
  {
   "cell_type": "code",
   "execution_count": 5,
   "metadata": {},
   "outputs": [],
   "source": [
    "def Block_Normalization(h_array):\n",
    "    R,C = len(h_array),len(h_array[0])\n",
    "    giant_hist = []\n",
    "    \n",
    "    for i in range(R-1):\n",
    "        for j in range(C-1):\n",
    "            #Row-major concatenation\n",
    "            big_hist = list(h_array[i][j]) + list(h_array[i][j+1]) + list(h_array[i+1][j]) + list(h_array[i+1][j+1])\n",
    "            \n",
    "            #Squaring the values\n",
    "            big_hist_sq = [h ** 2 for h in big_hist]\n",
    "            \n",
    "            #Adding the values\n",
    "            big_hist_sum = sum(big_hist_sq)\n",
    "            \n",
    "            #Getting the histogram magnitude\n",
    "            big_hist_mag = math.sqrt(big_hist_sum)\n",
    "            \n",
    "            #Normalizing the historgram\n",
    "            big_hist_norm = [0.0 if big_hist_mag == 0 else m / big_hist_mag for m in big_hist]\n",
    "            \n",
    "            #Concatinating all the histograms\n",
    "            giant_hist += big_hist_norm\n",
    "            \n",
    "    return giant_hist"
   ]
  },
  {
   "cell_type": "code",
   "execution_count": 6,
   "metadata": {},
   "outputs": [
    {
     "data": {
      "text/plain": [
       "'\\nimg = io.imread(\\'image0974.png\\')\\ndisplay(img, True)\\nprint(img.shape)\\nhist_grid = get_hist_grid(img, 8)\\n#print(\"element \", 11, \", \", 16, \" in histogram grid: \", hist_grid[11, 16, :])\\ngiant_hist = Block_Normalization(hist_grid)\\nprint(\"length of giant histogram: \", len(giant_hist))\\n'"
      ]
     },
     "execution_count": 6,
     "metadata": {},
     "output_type": "execute_result"
    }
   ],
   "source": [
    "'''\n",
    "img = io.imread('image0974.png')\n",
    "display(img, True)\n",
    "print(img.shape)\n",
    "hist_grid = get_hist_grid(img, 8)\n",
    "#print(\"element \", 11, \", \", 16, \" in histogram grid: \", hist_grid[11, 16, :])\n",
    "giant_hist = Block_Normalization(hist_grid)\n",
    "print(\"length of giant histogram: \", len(giant_hist))\n",
    "'''"
   ]
  }
 ],
 "metadata": {
  "kernelspec": {
   "display_name": "Python 3",
   "language": "python",
   "name": "python3"
  },
  "language_info": {
   "codemirror_mode": {
    "name": "ipython",
    "version": 3
   },
   "file_extension": ".py",
   "mimetype": "text/x-python",
   "name": "python",
   "nbconvert_exporter": "python",
   "pygments_lexer": "ipython3",
   "version": "3.7.0"
  }
 },
 "nbformat": 4,
 "nbformat_minor": 2
}
