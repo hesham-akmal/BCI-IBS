{
 "cells": [
  {
   "cell_type": "code",
   "execution_count": 7,
   "metadata": {},
   "outputs": [],
   "source": [
    "import numpy as np\n",
    "from skimage import io\n",
    "from CarDetection_HOG import display , get_hist_grid , Block_Normalization\n",
    "from sklearn.metrics import accuracy_score\n",
    "from sklearn.model_selection import train_test_split  \n",
    "from sklearn.svm import SVC  "
   ]
  },
  {
   "cell_type": "code",
   "execution_count": 9,
   "metadata": {},
   "outputs": [
    {
     "name": "stdout",
     "output_type": "stream",
     "text": [
      "<class 'numpy.float64'>\n",
      "<class 'numpy.int64'>\n",
      "Prediction  [0 1 1 0 0 0 1 0 0 1 1 0 0 0 0 0 1 1 1 1]\n",
      "Accuracy  0.45\n"
     ]
    }
   ],
   "source": [
    "x = np.zeros((99,3528) , dtype=np.float)\n",
    "y = (np.random.rand((99))*2).astype(np.int64)\n",
    "for i in range(1,100):\n",
    "    img = io.imread(\"D:\\\\CESS Courses\\\\Brain ADAS\\\\Computer Vision\\\\vehicles\\\\KITTI_extracted\\\\\"+str(i)+\".png\")\n",
    "    x[i-1,:] = Block_Normalization(get_hist_grid(img, 8))\n",
    "    \n",
    "x_train , x_test , y_train , y_test = train_test_split(x , y, test_size = 0.20)    \n",
    "clf = SVC(kernel='linear')\n",
    "print(type(x_train[0,0]))\n",
    "print(type(y_train[0]))\n",
    "clf.fit(x_train , y_train)\n",
    "\n",
    "p = clf.predict(x_test)\n",
    "print('Prediction ',p)\n",
    "print('Accuracy ' , accuracy_score(y_test , p))"
   ]
  }
 ],
 "metadata": {
  "kernelspec": {
   "display_name": "Python 3",
   "language": "python",
   "name": "python3"
  },
  "language_info": {
   "codemirror_mode": {
    "name": "ipython",
    "version": 3
   },
   "file_extension": ".py",
   "mimetype": "text/x-python",
   "name": "python",
   "nbconvert_exporter": "python",
   "pygments_lexer": "ipython3",
   "version": "3.7.0"
  }
 },
 "nbformat": 4,
 "nbformat_minor": 2
}
