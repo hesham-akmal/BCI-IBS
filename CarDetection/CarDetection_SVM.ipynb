{
 "cells": [
  {
   "cell_type": "code",
   "execution_count": 39,
   "metadata": {},
   "outputs": [],
   "source": [
    "import numpy as np , math\n",
    "from skimage import io\n",
    "from CarDetection_HOG import display , get_hist_grid , Block_Normalization\n",
    "from sklearn.metrics import accuracy_score\n",
    "from sklearn.model_selection import train_test_split\n",
    "from sklearn.svm import SVC  \n",
    "from skimage.transform import resize"
   ]
  },
  {
   "cell_type": "code",
   "execution_count": 2,
   "metadata": {},
   "outputs": [],
   "source": [
    "x = np.zeros((17584,3528) , dtype=np.float)\n",
    "y = np.zeros((17584) , dtype=np.float)\n",
    "\n",
    "img_index = 1\n",
    "#Reading Vehicles & Non-Vehicles images:\n",
    "for i in range(0 , 8792 , 2):\n",
    "    img = io.imread(\"D:\\\\CESS Courses\\\\Brain ADAS\\\\Computer Vision\\\\Vehicles\\\\\"+ \"v_ (\" + str(img_index) + \").png\")\n",
    "    x[i,:] = Block_Normalization(get_hist_grid(img , 8))\n",
    "    y[i] = 1.0\n",
    "    \n",
    "    img = io.imread(\"D:\\\\CESS Courses\\\\Brain ADAS\\\\Computer Vision\\\\Non-Vehicles\\\\\"+ \"nv_ (\" + str(img_index) + \").png\")\n",
    "    x[i+1,:] = Block_Normalization(get_hist_grid(img , 8))\n",
    "    y[i+1] = 0.0\n",
    "    \n",
    "    img_index += 1"
   ]
  },
  {
   "cell_type": "code",
   "execution_count": 3,
   "metadata": {},
   "outputs": [
    {
     "name": "stdout",
     "output_type": "stream",
     "text": [
      "Prediction  [0. 0. 0. ... 0. 0. 0.]\n",
      "Accuracy  0.978675007108331\n"
     ]
    }
   ],
   "source": [
    "x_train , x_test , y_train , y_test = train_test_split(x , y, test_size = 0.20)\n",
    "clf = SVC(kernel='linear')\n",
    "clf.fit(x_train , y_train)\n",
    "p = clf.predict(x_test)\n",
    "print('Prediction ', p)\n",
    "print('Accuracy ' , accuracy_score(y_test , p))"
   ]
  },
  {
   "cell_type": "code",
   "execution_count": 4,
   "metadata": {},
   "outputs": [],
   "source": [
    "def Classify(img):\n",
    "    res = clf.predict(img)\n",
    "    return res[0]"
   ]
  },
  {
   "cell_type": "code",
   "execution_count": 36,
   "metadata": {},
   "outputs": [],
   "source": [
    "def Crop_Image(img):\n",
    "    return img[img.shape[0]//2 : img.shape[0]]"
   ]
  },
  {
   "cell_type": "code",
   "execution_count": 45,
   "metadata": {},
   "outputs": [],
   "source": [
    "def Slide_Window(img , window_size , step , scale):\n",
    "    img = Crop_Image(img)\n",
    "    img = resize(img, (scale, scale), anti_aliasing=True)\n",
    "    h = ((img.shape[0] - window_size) + 1) // step\n",
    "    w = ((img.shape[1] - window_size) + 1) // step\n",
    "    \n",
    "    R,C = img.shape[0] , img.shape[1]\n",
    "    mat = np.zeros((h,w) , dtype = np.byte)\n",
    "    window = np.zeros((1,3528) , dtype=np.float)\n",
    "    i = -1\n",
    "    \n",
    "    for I in range(0 , R , step):\n",
    "        if(R-I >= window_size):\n",
    "            i += 1\n",
    "            j = 0\n",
    "            for J in range(0 , C , step):\n",
    "                if(C-J >= window_size):\n",
    "                    window[0,:] = Block_Normalization(get_hist_grid(img[I : I+window_size , J : J+window_size] , 8))\n",
    "                    mat[i][j] = Classify(window)\n",
    "                    \n",
    "                    j += 1\n",
    "        \n",
    "                else:\n",
    "                    break\n",
    "        else:\n",
    "            break\n",
    "                              \n",
    "    return mat"
   ]
  },
  {
   "cell_type": "code",
   "execution_count": 46,
   "metadata": {},
   "outputs": [
    {
     "name": "stderr",
     "output_type": "stream",
     "text": [
      "C:\\Anaconda3\\lib\\site-packages\\skimage\\transform\\_warps.py:105: UserWarning: The default mode, 'constant', will be changed to 'reflect' in skimage 0.15.\n",
      "  warn(\"The default mode, 'constant', will be changed to 'reflect' in \"\n"
     ]
    },
    {
     "name": "stdout",
     "output_type": "stream",
     "text": [
      "[[0 0 0 ... 0 0 0]\n",
      " [0 0 0 ... 0 0 0]\n",
      " [0 0 0 ... 0 0 0]\n",
      " ...\n",
      " [0 0 0 ... 0 0 0]\n",
      " [0 0 0 ... 0 0 0]\n",
      " [0 0 0 ... 0 0 0]]\n"
     ]
    }
   ],
   "source": [
    "im = io.imread('x.jpeg')\n",
    "qt = Slide_Window(im , 64 , 1 , 128)\n",
    "print(qt)"
   ]
  },
  {
   "cell_type": "code",
   "execution_count": null,
   "metadata": {},
   "outputs": [],
   "source": []
  }
 ],
 "metadata": {
  "kernelspec": {
   "display_name": "Python 3",
   "language": "python",
   "name": "python3"
  },
  "language_info": {
   "codemirror_mode": {
    "name": "ipython",
    "version": 3
   },
   "file_extension": ".py",
   "mimetype": "text/x-python",
   "name": "python",
   "nbconvert_exporter": "python",
   "pygments_lexer": "ipython3",
   "version": "3.7.0"
  }
 },
 "nbformat": 4,
 "nbformat_minor": 2
}
