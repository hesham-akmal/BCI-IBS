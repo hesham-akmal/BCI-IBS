{
 "cells": [
  {
   "cell_type": "code",
   "execution_count": 1,
   "metadata": {},
   "outputs": [],
   "source": [
    "import time , os\n",
    "from bs4 import BeautifulSoup\n",
    "from selenium import webdriver\n",
    "from selenium.common.exceptions import NoSuchElementException"
   ]
  },
  {
   "cell_type": "code",
   "execution_count": 2,
   "metadata": {},
   "outputs": [],
   "source": [
    "def headset_data_recorder(file_name , session_timeout):\n",
    "    path = os.getcwd() + '\\CyKITv2 Win Python2\\Web\\CyKITv2.html'\n",
    "    driver = webdriver.Chrome()\n",
    "\n",
    "    try:\n",
    "        #Parse the html file\n",
    "        soup = BeautifulSoup(open(path) , 'html5lib')\n",
    "        driver.get('file://' + path)\n",
    "        \n",
    "        #Click on Connect button then wait 5 secs\n",
    "        driver.find_element_by_xpath('//*[@id=\"cyConnect\"]').click()\n",
    "        time.sleep(5)\n",
    "        \n",
    "        #Click on Recording tab\n",
    "        driver.find_element_by_xpath('/html/body/div[4]/button[4]').click()\n",
    "        \n",
    "        #Change the output file's name\n",
    "        driver.find_element_by_xpath('//*[@id=\"cyRecordFile\"]').click()\n",
    "        driver.find_element_by_xpath('//*[@id=\"cyRecordFile\"]').clear()\n",
    "        driver.find_element_by_xpath('//*[@id=\"cyRecordFile\"]').send_keys(file_name)\n",
    "        \n",
    "        #Click on Record button\n",
    "        driver.find_element_by_xpath('//*[@id=\"cyStartRecord\"]').click()\n",
    "        \n",
    "        #Wait for the session to end then click on Stop button\n",
    "        time.sleep(session_timeout)\n",
    "        driver.find_element_by_xpath('//*[@id=\"cyStopRecord\"]').click()\n",
    "        \n",
    "        #Exit\n",
    "        driver.close()\n",
    "\n",
    "    except NoSuchElementException as e:\n",
    "        print(e)"
   ]
  },
  {
   "cell_type": "code",
   "execution_count": 3,
   "metadata": {},
   "outputs": [
    {
     "name": "stdout",
     "output_type": "stream",
     "text": [
      "How many subjects do you want to run the script for? 2\n",
      "Output file name? lmao\n",
      "Session period in minutes: 10\n",
      "Output file name? hesham\n",
      "Session period in minutes: 5\n"
     ]
    }
   ],
   "source": [
    "N = input('How many subjects do you want to run the script for? ')\n",
    "for i in range(int(N)):\n",
    "    file_name = input('Output file name? ')\n",
    "    session_timeout = input('Session period in minutes: ')\n",
    "    headset_data_recorder(file_name , int(session_timeout)*60)"
   ]
  }
 ],
 "metadata": {
  "kernelspec": {
   "display_name": "Python 3",
   "language": "python",
   "name": "python3"
  },
  "language_info": {
   "codemirror_mode": {
    "name": "ipython",
    "version": 3
   },
   "file_extension": ".py",
   "mimetype": "text/x-python",
   "name": "python",
   "nbconvert_exporter": "python",
   "pygments_lexer": "ipython3",
   "version": "3.7.0"
  }
 },
 "nbformat": 4,
 "nbformat_minor": 2
}
