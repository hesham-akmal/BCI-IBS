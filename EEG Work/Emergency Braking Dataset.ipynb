{
 "cells": [
  {
   "cell_type": "code",
   "execution_count": 3,
   "metadata": {},
   "outputs": [
    {
     "name": "stderr",
     "output_type": "stream",
     "text": [
      "\u001b[31mW1025 20:29:04 19192 minpy.dispatch.registry:register:47]\u001b[0m Type MXNet for name reshape has already existed\n"
     ]
    }
   ],
   "source": [
    "import h5py\n",
    "import matplotlib.pyplot as plt\n",
    "import pandas as pd\n",
    "import minpy.numpy as np\n",
    "from minpy.context import gpu\n",
    "import gc\n",
    "\n",
    "%matplotlib inline"
   ]
  },
  {
   "cell_type": "markdown",
   "metadata": {},
   "source": [
    "# This work is only for one subject. "
   ]
  },
  {
   "cell_type": "code",
   "execution_count": 1,
   "metadata": {
    "collapsed": true
   },
   "outputs": [],
   "source": [
    "def changeFormat(fPath):\n",
    "    f = h5py.File(fPath)\n",
    "    return f"
   ]
  },
  {
   "cell_type": "code",
   "execution_count": 28,
   "metadata": {},
   "outputs": [
    {
     "data": {
      "text/plain": [
       "['#refs#', 'cnt', 'mnt', 'mrk']"
      ]
     },
     "execution_count": 28,
     "metadata": {},
     "output_type": "execute_result"
    }
   ],
   "source": [
    "list(f1)"
   ]
  },
  {
   "cell_type": "code",
   "execution_count": 48,
   "metadata": {},
   "outputs": [
    {
     "data": {
      "text/plain": [
       "0"
      ]
     },
     "execution_count": 48,
     "metadata": {},
     "output_type": "execute_result"
    }
   ],
   "source": [
    "gc.collect()"
   ]
  },
  {
   "cell_type": "code",
   "execution_count": 7,
   "metadata": {
    "collapsed": true
   },
   "outputs": [],
   "source": [
    "#you can change the path here\n",
    "f = changeFormat(\"Dataset/VPdx.mat\")"
   ]
  },
  {
   "cell_type": "markdown",
   "metadata": {},
   "source": [
    "##  #refs# is used by the h5py reference objects."
   ]
  },
  {
   "cell_type": "markdown",
   "metadata": {},
   "source": [
    "## mnt (electrode positions): "
   ]
  },
  {
   "cell_type": "markdown",
   "metadata": {},
   "source": [
    "#### ps: not very important, it is just for plotting the position of each electrode."
   ]
  },
  {
   "cell_type": "code",
   "execution_count": 23,
   "metadata": {
    "collapsed": true
   },
   "outputs": [
    {
     "data": {
      "text/plain": [
       "['box', 'box_sz', 'clab', 'pos_3d', 'scale_box', 'scale_box_sz', 'x', 'y']"
      ]
     },
     "execution_count": 23,
     "metadata": {},
     "output_type": "execute_result"
    }
   ],
   "source": [
    "list(f['mnt'])"
   ]
  },
  {
   "cell_type": "code",
   "execution_count": 147,
   "metadata": {
    "collapsed": true
   },
   "outputs": [
    {
     "data": {
      "image/png": "[encoded data removed]",
      "text/plain": [
       "<matplotlib.figure.Figure at 0x28fb1d0d5f8>"
      ]
     },
     "metadata": {},
     "output_type": "display_data"
    }
   ],
   "source": [
    "plt.plot(f['mnt']['x'], f['mnt']['y'], 'ro')\n",
    "plt.show()"
   ]
  },
  {
   "cell_type": "markdown",
   "metadata": {},
   "source": [
    "## cnt (data):"
   ]
  },
  {
   "cell_type": "code",
   "execution_count": 27,
   "metadata": {
    "collapsed": true
   },
   "outputs": [
    {
     "data": {
      "text/plain": [
       "['T', 'clab', 'file', 'fs', 'title', 'x']"
      ]
     },
     "execution_count": 27,
     "metadata": {},
     "output_type": "execute_result"
    }
   ],
   "source": [
    "list(f['cnt'])"
   ]
  },
  {
   "cell_type": "code",
   "execution_count": 85,
   "metadata": {
    "collapsed": true
   },
   "outputs": [
    {
     "data": {
      "text/plain": [
       "array([[ 539974.],\n",
       "       [ 539992.],\n",
       "       [ 539974.]])"
      ]
     },
     "execution_count": 85,
     "metadata": {},
     "output_type": "execute_result"
    }
   ],
   "source": [
    "#unknown yet\n",
    "#number of samples per each block\n",
    "f['cnt']['T'][:]"
   ]
  },
  {
   "cell_type": "markdown",
   "metadata": {},
   "source": [
    "###  clab is the electrode names:"
   ]
  },
  {
   "cell_type": "code",
   "execution_count": 78,
   "metadata": {
    "collapsed": true
   },
   "outputs": [
    {
     "data": {
      "text/plain": [
       "<HDF5 dataset \"clab\": shape (69, 1), type \"|O\">"
      ]
     },
     "execution_count": 78,
     "metadata": {},
     "output_type": "execute_result"
    }
   ],
   "source": [
    "#channel labels, it represents th ascii of the chars\n",
    "f['cnt']['clab']"
   ]
  },
  {
   "cell_type": "code",
   "execution_count": 152,
   "metadata": {
    "collapsed": true
   },
   "outputs": [
    {
     "data": {
      "text/plain": [
       "<HDF5 object reference>"
      ]
     },
     "execution_count": 152,
     "metadata": {},
     "output_type": "execute_result"
    }
   ],
   "source": [
    "f['cnt']['clab'][0][0]"
   ]
  },
  {
   "cell_type": "code",
   "execution_count": 247,
   "metadata": {
    "collapsed": true
   },
   "outputs": [
    {
     "data": {
      "text/plain": [
       "array([[79],\n",
       "       [49]], dtype=uint16)"
      ]
     },
     "execution_count": 247,
     "metadata": {},
     "output_type": "execute_result"
    }
   ],
   "source": [
    "f[h5py.h5r.get_name(f['cnt']['clab'][58][0], f.id)].value"
   ]
  },
  {
   "cell_type": "code",
   "execution_count": 11,
   "metadata": {
    "collapsed": true
   },
   "outputs": [],
   "source": [
    "def channel_labels():\n",
    "    channels = []\n",
    "    for i in range(69):\n",
    "        l = len(f[h5py.h5r.get_name(f['cnt']['clab'][i][0], f.id)].value)\n",
    "        channel = ''\n",
    "        for j in range(l):\n",
    "            channel += chr(f[h5py.h5r.get_name(f['cnt']['clab'][i][0], f.id)].value[j])\n",
    "        print(str(i) + ', ' + channel)\n",
    "        channels.append(channel)\n",
    "    return channels"
   ]
  },
  {
   "cell_type": "code",
   "execution_count": 12,
   "metadata": {},
   "outputs": [
    {
     "name": "stdout",
     "output_type": "stream",
     "text": [
      "0, EOGv\n",
      "1, Fp1\n",
      "2, Fp2\n",
      "3, AF3\n",
      "4, AF4\n",
      "5, EOGh\n",
      "6, F7\n",
      "7, F5\n",
      "8, F3\n",
      "9, F1\n",
      "10, Fz\n",
      "11, F2\n",
      "12, F4\n",
      "13, F6\n",
      "14, F8\n",
      "15, FT7\n",
      "16, FC5\n",
      "17, FC3\n",
      "18, FC1\n",
      "19, FCz\n",
      "20, FC2\n",
      "21, FC4\n",
      "22, FC6\n",
      "23, FT8\n",
      "24, T7\n",
      "25, C5\n",
      "26, C3\n",
      "27, C1\n",
      "28, Cz\n",
      "29, C2\n",
      "30, C4\n",
      "31, C6\n",
      "32, T8\n",
      "33, TP7\n",
      "34, CP5\n",
      "35, CP3\n",
      "36, CP1\n",
      "37, CPz\n",
      "38, CP2\n",
      "39, CP4\n",
      "40, CP6\n",
      "41, TP8\n",
      "42, P9\n",
      "43, P7\n",
      "44, P5\n",
      "45, P3\n",
      "46, P1\n",
      "47, Pz\n",
      "48, P2\n",
      "49, P4\n",
      "50, P6\n",
      "51, P8\n",
      "52, P10\n",
      "53, PO7\n",
      "54, PO3\n",
      "55, POz\n",
      "56, PO4\n",
      "57, PO8\n",
      "58, O1\n",
      "59, Oz\n",
      "60, O2\n",
      "61, EMGf\n",
      "62, lead_gas\n",
      "63, lead_brake\n",
      "64, dist_to_lead\n",
      "65, wheel_X\n",
      "66, wheel_Y\n",
      "67, gas\n",
      "68, brake\n"
     ]
    }
   ],
   "source": [
    "channels = channel_labels()"
   ]
  },
  {
   "cell_type": "code",
   "execution_count": 8,
   "metadata": {
    "collapsed": true
   },
   "outputs": [],
   "source": [
    "df = pd.DataFrame(columns = channels)"
   ]
  },
  {
   "cell_type": "code",
   "execution_count": 8,
   "metadata": {
    "collapsed": true
   },
   "outputs": [
    {
     "data": {
      "text/html": [
       "<div>\n",
       "<style>\n",
       "    .dataframe thead tr:only-child th {\n",
       "        text-align: right;\n",
       "    }\n",
       "\n",
       "    .dataframe thead th {\n",
       "        text-align: left;\n",
       "    }\n",
       "\n",
       "    .dataframe tbody tr th {\n",
       "        vertical-align: top;\n",
       "    }\n",
       "</style>\n",
       "<table border=\"1\" class=\"dataframe\">\n",
       "  <thead>\n",
       "    <tr style=\"text-align: right;\">\n",
       "      <th></th>\n",
       "      <th>EOGv</th>\n",
       "      <th>Fp1</th>\n",
       "      <th>Fp2</th>\n",
       "      <th>AF3</th>\n",
       "      <th>AF4</th>\n",
       "      <th>EOGh</th>\n",
       "      <th>F7</th>\n",
       "      <th>F5</th>\n",
       "      <th>F3</th>\n",
       "      <th>F1</th>\n",
       "      <th>...</th>\n",
       "      <th>Oz</th>\n",
       "      <th>O2</th>\n",
       "      <th>EMGf</th>\n",
       "      <th>lead_gas</th>\n",
       "      <th>lead_brake</th>\n",
       "      <th>dist_to_lead</th>\n",
       "      <th>wheel_X</th>\n",
       "      <th>wheel_Y</th>\n",
       "      <th>gas</th>\n",
       "      <th>brake</th>\n",
       "    </tr>\n",
       "  </thead>\n",
       "  <tbody>\n",
       "  </tbody>\n",
       "</table>\n",
       "<p>0 rows × 69 columns</p>\n",
       "</div>"
      ],
      "text/plain": [
       "Empty DataFrame\n",
       "Columns: [EOGv, Fp1, Fp2, AF3, AF4, EOGh, F7, F5, F3, F1, Fz, F2, F4, F6, F8, FT7, FC5, FC3, FC1, FCz, FC2, FC4, FC6, FT8, T7, C5, C3, C1, Cz, C2, C4, C6, T8, TP7, CP5, CP3, CP1, CPz, CP2, CP4, CP6, TP8, P9, P7, P5, P3, P1, Pz, P2, P4, P6, P8, P10, PO7, PO3, POz, PO4, PO8, O1, Oz, O2, EMGf, lead_gas, lead_brake, dist_to_lead, wheel_X, wheel_Y, gas, brake]\n",
       "Index: []\n",
       "\n",
       "[0 rows x 69 columns]"
      ]
     },
     "execution_count": 8,
     "metadata": {},
     "output_type": "execute_result"
    }
   ],
   "source": [
    "df"
   ]
  },
  {
   "cell_type": "markdown",
   "metadata": {},
   "source": [
    "### file is just file name:"
   ]
  },
  {
   "cell_type": "code",
   "execution_count": 194,
   "metadata": {
    "collapsed": true
   },
   "outputs": [
    {
     "data": {
      "text/plain": [
       "<HDF5 dataset \"file\": shape (9, 1), type \"<u2\">"
      ]
     },
     "execution_count": 194,
     "metadata": {},
     "output_type": "execute_result"
    }
   ],
   "source": [
    "f['cnt']['file']"
   ]
  },
  {
   "cell_type": "code",
   "execution_count": 195,
   "metadata": {
    "collapsed": true
   },
   "outputs": [
    {
     "name": "stdout",
     "output_type": "stream",
     "text": [
      "VPsaj.mat\n"
     ]
    }
   ],
   "source": [
    "file = ''\n",
    "for i in range(9):\n",
    "    file += chr(f['cnt']['file'][i])\n",
    "print(file)"
   ]
  },
  {
   "cell_type": "markdown",
   "metadata": {},
   "source": [
    "### fs is sampling rate:"
   ]
  },
  {
   "cell_type": "code",
   "execution_count": 108,
   "metadata": {
    "collapsed": true
   },
   "outputs": [
    {
     "data": {
      "text/plain": [
       "array([[ 200.]])"
      ]
     },
     "execution_count": 108,
     "metadata": {},
     "output_type": "execute_result"
    }
   ],
   "source": [
    "f['cnt']['fs'][:]"
   ]
  },
  {
   "cell_type": "markdown",
   "metadata": {},
   "source": [
    "### title:"
   ]
  },
  {
   "cell_type": "code",
   "execution_count": 190,
   "metadata": {
    "collapsed": true
   },
   "outputs": [
    {
     "name": "stdout",
     "output_type": "stream",
     "text": [
      "emergency braking VPsaj\n"
     ]
    }
   ],
   "source": [
    "title = ''\n",
    "for i in range(23):\n",
    "    title += chr(f['cnt']['title'][i])\n",
    "print(title)"
   ]
  },
  {
   "cell_type": "markdown",
   "metadata": {},
   "source": [
    "### x is continuous multivariate data:"
   ]
  },
  {
   "cell_type": "code",
   "execution_count": 92,
   "metadata": {
    "collapsed": true
   },
   "outputs": [
    {
     "data": {
      "text/plain": [
       "<HDF5 dataset \"x\": shape (69, 1619940), type \"<f8\">"
      ]
     },
     "execution_count": 92,
     "metadata": {},
     "output_type": "execute_result"
    }
   ],
   "source": [
    "f['cnt']['x']"
   ]
  },
  {
   "cell_type": "code",
   "execution_count": 9,
   "metadata": {
    "collapsed": true
   },
   "outputs": [],
   "source": [
    "def dataFrame_fill():\n",
    "    for i in range(len(df.columns)):\n",
    "        df[df.columns[i]] = f['cnt']['x'][i]"
   ]
  },
  {
   "cell_type": "code",
   "execution_count": 10,
   "metadata": {
    "collapsed": true
   },
   "outputs": [],
   "source": [
    "dataFrame_fill()"
   ]
  },
  {
   "cell_type": "code",
   "execution_count": 183,
   "metadata": {},
   "outputs": [
    {
     "data": {
      "text/html": [
       "<div>\n",
       "<style>\n",
       "    .dataframe thead tr:only-child th {\n",
       "        text-align: right;\n",
       "    }\n",
       "\n",
       "    .dataframe thead th {\n",
       "        text-align: left;\n",
       "    }\n",
       "\n",
       "    .dataframe tbody tr th {\n",
       "        vertical-align: top;\n",
       "    }\n",
       "</style>\n",
       "<table border=\"1\" class=\"dataframe\">\n",
       "  <thead>\n",
       "    <tr style=\"text-align: right;\">\n",
       "      <th></th>\n",
       "      <th>Fp1</th>\n",
       "      <th>Fp2</th>\n",
       "      <th>AF3</th>\n",
       "      <th>AF4</th>\n",
       "      <th>F7</th>\n",
       "      <th>F5</th>\n",
       "      <th>F3</th>\n",
       "      <th>F1</th>\n",
       "      <th>Fz</th>\n",
       "      <th>F2</th>\n",
       "      <th>...</th>\n",
       "      <th>P10</th>\n",
       "      <th>PO7</th>\n",
       "      <th>PO3</th>\n",
       "      <th>POz</th>\n",
       "      <th>PO4</th>\n",
       "      <th>PO8</th>\n",
       "      <th>O1</th>\n",
       "      <th>Oz</th>\n",
       "      <th>O2</th>\n",
       "      <th>y</th>\n",
       "    </tr>\n",
       "  </thead>\n",
       "  <tbody>\n",
       "    <tr>\n",
       "      <th>0</th>\n",
       "      <td>-1.648735</td>\n",
       "      <td>-1.802094</td>\n",
       "      <td>-1.905543</td>\n",
       "      <td>-1.904026</td>\n",
       "      <td>-1.901450</td>\n",
       "      <td>-1.829971</td>\n",
       "      <td>-2.004213</td>\n",
       "      <td>-1.702436</td>\n",
       "      <td>-2.009347</td>\n",
       "      <td>-2.190422</td>\n",
       "      <td>...</td>\n",
       "      <td>-2.108614</td>\n",
       "      <td>-1.910360</td>\n",
       "      <td>-1.557860</td>\n",
       "      <td>-1.809201</td>\n",
       "      <td>-1.442225</td>\n",
       "      <td>-1.597648</td>\n",
       "      <td>-2.059600</td>\n",
       "      <td>-1.460199</td>\n",
       "      <td>-1.774708</td>\n",
       "      <td>-</td>\n",
       "    </tr>\n",
       "    <tr>\n",
       "      <th>1</th>\n",
       "      <td>-7.269421</td>\n",
       "      <td>-8.309656</td>\n",
       "      <td>-8.524799</td>\n",
       "      <td>-8.518012</td>\n",
       "      <td>-8.106180</td>\n",
       "      <td>-7.908090</td>\n",
       "      <td>-9.018957</td>\n",
       "      <td>-7.811177</td>\n",
       "      <td>-8.810213</td>\n",
       "      <td>-9.558205</td>\n",
       "      <td>...</td>\n",
       "      <td>-9.438560</td>\n",
       "      <td>-8.043623</td>\n",
       "      <td>-7.010370</td>\n",
       "      <td>-8.141403</td>\n",
       "      <td>-6.303059</td>\n",
       "      <td>-7.289268</td>\n",
       "      <td>-8.924931</td>\n",
       "      <td>-6.205844</td>\n",
       "      <td>-7.986184</td>\n",
       "      <td>-</td>\n",
       "    </tr>\n",
       "    <tr>\n",
       "      <th>2</th>\n",
       "      <td>-18.435850</td>\n",
       "      <td>-22.125712</td>\n",
       "      <td>-22.164476</td>\n",
       "      <td>-22.046619</td>\n",
       "      <td>-20.815871</td>\n",
       "      <td>-20.195039</td>\n",
       "      <td>-23.349077</td>\n",
       "      <td>-20.329089</td>\n",
       "      <td>-23.030206</td>\n",
       "      <td>-24.791595</td>\n",
       "      <td>...</td>\n",
       "      <td>-24.399681</td>\n",
       "      <td>-19.606330</td>\n",
       "      <td>-17.986202</td>\n",
       "      <td>-21.006830</td>\n",
       "      <td>-16.345221</td>\n",
       "      <td>-19.271627</td>\n",
       "      <td>-22.913045</td>\n",
       "      <td>-15.879659</td>\n",
       "      <td>-20.941550</td>\n",
       "      <td>-</td>\n",
       "    </tr>\n",
       "    <tr>\n",
       "      <th>3</th>\n",
       "      <td>-32.899749</td>\n",
       "      <td>-41.448166</td>\n",
       "      <td>-40.718450</td>\n",
       "      <td>-40.485609</td>\n",
       "      <td>-37.728766</td>\n",
       "      <td>-36.338000</td>\n",
       "      <td>-42.589518</td>\n",
       "      <td>-37.053020</td>\n",
       "      <td>-42.273567</td>\n",
       "      <td>-45.700168</td>\n",
       "      <td>...</td>\n",
       "      <td>-44.280903</td>\n",
       "      <td>-33.682670</td>\n",
       "      <td>-32.573438</td>\n",
       "      <td>-38.495770</td>\n",
       "      <td>-30.233317</td>\n",
       "      <td>-36.246636</td>\n",
       "      <td>-41.706890</td>\n",
       "      <td>-28.656396</td>\n",
       "      <td>-38.925255</td>\n",
       "      <td>-</td>\n",
       "    </tr>\n",
       "  </tbody>\n",
       "</table>\n",
       "<p>4 rows × 60 columns</p>\n",
       "</div>"
      ],
      "text/plain": [
       "         Fp1        Fp2        AF3        AF4         F7         F5  \\\n",
       "0  -1.648735  -1.802094  -1.905543  -1.904026  -1.901450  -1.829971   \n",
       "1  -7.269421  -8.309656  -8.524799  -8.518012  -8.106180  -7.908090   \n",
       "2 -18.435850 -22.125712 -22.164476 -22.046619 -20.815871 -20.195039   \n",
       "3 -32.899749 -41.448166 -40.718450 -40.485609 -37.728766 -36.338000   \n",
       "\n",
       "          F3         F1         Fz         F2 ...        P10        PO7  \\\n",
       "0  -2.004213  -1.702436  -2.009347  -2.190422 ...  -2.108614  -1.910360   \n",
       "1  -9.018957  -7.811177  -8.810213  -9.558205 ...  -9.438560  -8.043623   \n",
       "2 -23.349077 -20.329089 -23.030206 -24.791595 ... -24.399681 -19.606330   \n",
       "3 -42.589518 -37.053020 -42.273567 -45.700168 ... -44.280903 -33.682670   \n",
       "\n",
       "         PO3        POz        PO4        PO8         O1         Oz  \\\n",
       "0  -1.557860  -1.809201  -1.442225  -1.597648  -2.059600  -1.460199   \n",
       "1  -7.010370  -8.141403  -6.303059  -7.289268  -8.924931  -6.205844   \n",
       "2 -17.986202 -21.006830 -16.345221 -19.271627 -22.913045 -15.879659   \n",
       "3 -32.573438 -38.495770 -30.233317 -36.246636 -41.706890 -28.656396   \n",
       "\n",
       "          O2  y  \n",
       "0  -1.774708  -  \n",
       "1  -7.986184  -  \n",
       "2 -20.941550  -  \n",
       "3 -38.925255  -  \n",
       "\n",
       "[4 rows x 60 columns]"
      ]
     },
     "execution_count": 183,
     "metadata": {},
     "output_type": "execute_result"
    }
   ],
   "source": [
    "#dataframe sample\n",
    "df[0:4]"
   ]
  },
  {
   "cell_type": "markdown",
   "metadata": {},
   "source": [
    "The sampling rate of the frames from the simulator is 67 Hz"
   ]
  },
  {
   "cell_type": "code",
   "execution_count": 30,
   "metadata": {
    "collapsed": true
   },
   "outputs": [
    {
     "name": "stdout",
     "output_type": "stream",
     "text": [
      "prev= 0   i= 9337    diff = 9337\n",
      "prev= 46545   i= 46549    diff = 4\n",
      "prev= 539973   i= 549351    diff = 9378\n",
      "prev= 858679   i= 858683    diff = 4\n",
      "prev= 1072309   i= 1072313    diff = 4\n",
      "prev= 1072327   i= 1072344    diff = 17\n",
      "prev= 1079965   i= 1089344    diff = 9379\n"
     ]
    }
   ],
   "source": [
    "prev = 0\n",
    "dur = []\n",
    "for i in range (1619940):\n",
    "    if (df['dist_to_lead'][i] != 0):\n",
    "        if (i - prev != 1): \n",
    "            dur.append(prev)\n",
    "            dur.append(i)\n",
    "            print(\"prev= \" + str(prev) + \"   i= \" + str(i) + \"    diff = \" + str(i - prev))\n",
    "        prev = i"
   ]
  },
  {
   "cell_type": "code",
   "execution_count": 15,
   "metadata": {
    "collapsed": true
   },
   "outputs": [
    {
     "data": {
      "text/html": [
       "<div>\n",
       "<style>\n",
       "    .dataframe thead tr:only-child th {\n",
       "        text-align: right;\n",
       "    }\n",
       "\n",
       "    .dataframe thead th {\n",
       "        text-align: left;\n",
       "    }\n",
       "\n",
       "    .dataframe tbody tr th {\n",
       "        vertical-align: top;\n",
       "    }\n",
       "</style>\n",
       "<table border=\"1\" class=\"dataframe\">\n",
       "  <thead>\n",
       "    <tr style=\"text-align: right;\">\n",
       "      <th></th>\n",
       "      <th>EOGv</th>\n",
       "      <th>Fp1</th>\n",
       "      <th>Fp2</th>\n",
       "      <th>AF3</th>\n",
       "      <th>AF4</th>\n",
       "      <th>EOGh</th>\n",
       "      <th>F7</th>\n",
       "      <th>F5</th>\n",
       "      <th>F3</th>\n",
       "      <th>F1</th>\n",
       "      <th>...</th>\n",
       "      <th>Oz</th>\n",
       "      <th>O2</th>\n",
       "      <th>EMGf</th>\n",
       "      <th>lead_gas</th>\n",
       "      <th>lead_brake</th>\n",
       "      <th>dist_to_lead</th>\n",
       "      <th>wheel_X</th>\n",
       "      <th>wheel_Y</th>\n",
       "      <th>gas</th>\n",
       "      <th>brake</th>\n",
       "    </tr>\n",
       "  </thead>\n",
       "  <tbody>\n",
       "    <tr>\n",
       "      <th>9337</th>\n",
       "      <td>33.384904</td>\n",
       "      <td>5.620686</td>\n",
       "      <td>19.823036</td>\n",
       "      <td>9.7283</td>\n",
       "      <td>22.748102</td>\n",
       "      <td>-10.424508</td>\n",
       "      <td>28.321594</td>\n",
       "      <td>22.809284</td>\n",
       "      <td>-14.730963</td>\n",
       "      <td>24.735394</td>\n",
       "      <td>...</td>\n",
       "      <td>15.697134</td>\n",
       "      <td>60.754159</td>\n",
       "      <td>0.878467</td>\n",
       "      <td>0.14296</td>\n",
       "      <td>0.0</td>\n",
       "      <td>-9.552266</td>\n",
       "      <td>0.0</td>\n",
       "      <td>0.0</td>\n",
       "      <td>0.0</td>\n",
       "      <td>-0.000022</td>\n",
       "    </tr>\n",
       "  </tbody>\n",
       "</table>\n",
       "<p>1 rows × 69 columns</p>\n",
       "</div>"
      ],
      "text/plain": [
       "           EOGv       Fp1        Fp2     AF3        AF4       EOGh         F7  \\\n",
       "9337  33.384904  5.620686  19.823036  9.7283  22.748102 -10.424508  28.321594   \n",
       "\n",
       "             F5         F3         F1    ...            Oz         O2  \\\n",
       "9337  22.809284 -14.730963  24.735394    ...     15.697134  60.754159   \n",
       "\n",
       "          EMGf  lead_gas  lead_brake  dist_to_lead  wheel_X  wheel_Y  gas  \\\n",
       "9337  0.878467   0.14296         0.0     -9.552266      0.0      0.0  0.0   \n",
       "\n",
       "         brake  \n",
       "9337 -0.000022  \n",
       "\n",
       "[1 rows x 69 columns]"
      ]
     },
     "execution_count": 15,
     "metadata": {},
     "output_type": "execute_result"
    }
   ],
   "source": [
    "df[9337:9338]"
   ]
  },
  {
   "cell_type": "code",
   "execution_count": 16,
   "metadata": {
    "collapsed": true
   },
   "outputs": [
    {
     "data": {
      "text/plain": [
       "(1619940, 69)"
      ]
     },
     "execution_count": 16,
     "metadata": {},
     "output_type": "execute_result"
    }
   ],
   "source": [
    "df.shape"
   ]
  },
  {
   "cell_type": "markdown",
   "metadata": {},
   "source": [
    "## mrk (braking event):"
   ]
  },
  {
   "cell_type": "code",
   "execution_count": 197,
   "metadata": {
    "collapsed": true
   },
   "outputs": [
    {
     "data": {
      "text/plain": [
       "['className', 'event', 'time', 'y']"
      ]
     },
     "execution_count": 197,
     "metadata": {},
     "output_type": "execute_result"
    }
   ],
   "source": [
    "list(f['mrk'])"
   ]
  },
  {
   "cell_type": "markdown",
   "metadata": {},
   "source": [
    "### ClassName:"
   ]
  },
  {
   "cell_type": "code",
   "execution_count": 203,
   "metadata": {
    "collapsed": true
   },
   "outputs": [
    {
     "data": {
      "text/plain": [
       "<HDF5 object reference>"
      ]
     },
     "execution_count": 203,
     "metadata": {},
     "output_type": "execute_result"
    }
   ],
   "source": [
    "f['mrk']['className'][0][0]"
   ]
  },
  {
   "cell_type": "code",
   "execution_count": 13,
   "metadata": {
    "collapsed": true
   },
   "outputs": [],
   "source": [
    "def events():\n",
    "    eventsList = []\n",
    "    for i in range(5):\n",
    "        l = len(f[h5py.h5r.get_name(f['mrk']['className'][i][0], f.id)].value)\n",
    "        event = ''\n",
    "        for j in range(l):\n",
    "            event += chr(f[h5py.h5r.get_name(f['mrk']['className'][i][0], f.id)].value[j])\n",
    "        print(str(i) + ', ' + event)\n",
    "        eventsList.append(event)\n",
    "    return eventsList"
   ]
  },
  {
   "cell_type": "code",
   "execution_count": 14,
   "metadata": {},
   "outputs": [
    {
     "name": "stdout",
     "output_type": "stream",
     "text": [
      "0, car_normal\n",
      "1, car_brake\n",
      "2, car_hold\n",
      "3, car_collision\n",
      "4, react_emg\n"
     ]
    }
   ],
   "source": [
    "eventsList = events()"
   ]
  },
  {
   "cell_type": "markdown",
   "metadata": {},
   "source": [
    "### event: the time between car_brake and react_emg"
   ]
  },
  {
   "cell_type": "code",
   "execution_count": 76,
   "metadata": {
    "collapsed": true
   },
   "outputs": [
    {
     "data": {
      "text/plain": [
       "<HDF5 dataset \"react\": shape (1, 1146), type \"<f8\">"
      ]
     },
     "execution_count": 76,
     "metadata": {},
     "output_type": "execute_result"
    }
   ],
   "source": [
    "f['mrk']['event']['react']"
   ]
  },
  {
   "cell_type": "code",
   "execution_count": 5,
   "metadata": {
    "collapsed": true
   },
   "outputs": [],
   "source": [
    "#this fn calculates how many times the user responded to the emergency event and avg response time\n",
    "#for the first subject callc number of reacts and react emg\n",
    "def calcNumberOfReacts():\n",
    "    cnt = 0.0\n",
    "    s = 0.0\n",
    "    for i in range(len(f['mrk']['event']['react'][0])):\n",
    "        if (f['mrk']['event']['react'][0][i] >=0):\n",
    "            cnt += 1\n",
    "            s += f['mrk']['event']['react'][0][i]\n",
    "    print(\"numebr of response times= \" + str(cnt))\n",
    "    print(\"avg of response time= \" + str(s/cnt) + \" ms\")\n",
    "    c = 0\n",
    "    for i in range(len(f['mrk']['y'])):\n",
    "        if (f['mrk']['y'][i][4] == 1):\n",
    "            c += 1\n",
    "    print(\"numebr of react emg times= \" + str(c))"
   ]
  },
  {
   "cell_type": "code",
   "execution_count": 8,
   "metadata": {},
   "outputs": [
    {
     "name": "stdout",
     "output_type": "stream",
     "text": [
      "numebr of response times= 206.0\n",
      "avg of response time= 490.412621359 ms\n",
      "numebr of react emg times= 206\n"
     ]
    }
   ],
   "source": [
    "calcNumberOfReacts()"
   ]
  },
  {
   "cell_type": "code",
   "execution_count": 44,
   "metadata": {
    "collapsed": true
   },
   "outputs": [],
   "source": [
    "#you can change the path here\n",
    "f = changeFormat(\"Dataset/VPbba.mat\")"
   ]
  },
  {
   "cell_type": "markdown",
   "metadata": {},
   "source": [
    "### time: timestamp for each event in milliseconds"
   ]
  },
  {
   "cell_type": "code",
   "execution_count": 115,
   "metadata": {
    "collapsed": true
   },
   "outputs": [
    {
     "data": {
      "text/plain": [
       "array([[ 26470.],\n",
       "       [ 26825.]])"
      ]
     },
     "execution_count": 115,
     "metadata": {},
     "output_type": "execute_result"
    }
   ],
   "source": [
    "f['mrk']['time'][0:2] #5294, 5365"
   ]
  },
  {
   "cell_type": "markdown",
   "metadata": {},
   "source": [
    "### y: binary matrix telling which of the five types each event is"
   ]
  },
  {
   "cell_type": "code",
   "execution_count": 24,
   "metadata": {},
   "outputs": [
    {
     "data": {
      "text/plain": [
       "array([ 0.,  1.,  0.,  0.,  0.])"
      ]
     },
     "execution_count": 24,
     "metadata": {},
     "output_type": "execute_result"
    }
   ],
   "source": [
    "f['mrk']['y'][0]"
   ]
  },
  {
   "cell_type": "code",
   "execution_count": 58,
   "metadata": {
    "collapsed": true
   },
   "outputs": [
    {
     "data": {
      "text/plain": [
       "array([[ 0.,  1.,  0.,  0.,  0.],\n",
       "       [ 0.,  0.,  0.,  0.,  1.],\n",
       "       [ 0.,  0.,  1.,  0.,  0.],\n",
       "       [ 1.,  0.,  0.,  0.,  0.]])"
      ]
     },
     "execution_count": 58,
     "metadata": {},
     "output_type": "execute_result"
    }
   ],
   "source": [
    "f['mrk']['y'][0:4]"
   ]
  },
  {
   "cell_type": "code",
   "execution_count": 64,
   "metadata": {
    "collapsed": true
   },
   "outputs": [],
   "source": [
    "def addEvents():\n",
    "    y = ['-']*(1619940)\n",
    "    for i in range(f['mrk']['y'].shape[0]):\n",
    "        t = int(f['mrk']['time'][i]*(0.2))\n",
    "        evIndex = np.where(f['mrk']['y'][i] == 1)[0][0]\n",
    "        y[t] = (eventsList[evIndex])\n",
    "    return y"
   ]
  },
  {
   "cell_type": "code",
   "execution_count": 65,
   "metadata": {
    "collapsed": true
   },
   "outputs": [],
   "source": [
    "y = addEvents()"
   ]
  },
  {
   "cell_type": "code",
   "execution_count": 66,
   "metadata": {
    "collapsed": true
   },
   "outputs": [],
   "source": [
    "df['y'] = y"
   ]
  },
  {
   "cell_type": "markdown",
   "metadata": {},
   "source": [
    "cols = [0, 5, 61, 62, 63, 64, 65, 66, 67, 68]\n",
    "df.drop(df.columns[cols], axis=1, inplace=True)"
   ]
  },
  {
   "cell_type": "code",
   "execution_count": 69,
   "metadata": {},
   "outputs": [
    {
     "data": {
      "text/html": [
       "<div>\n",
       "<style>\n",
       "    .dataframe thead tr:only-child th {\n",
       "        text-align: right;\n",
       "    }\n",
       "\n",
       "    .dataframe thead th {\n",
       "        text-align: left;\n",
       "    }\n",
       "\n",
       "    .dataframe tbody tr th {\n",
       "        vertical-align: top;\n",
       "    }\n",
       "</style>\n",
       "<table border=\"1\" class=\"dataframe\">\n",
       "  <thead>\n",
       "    <tr style=\"text-align: right;\">\n",
       "      <th></th>\n",
       "      <th>Fp1</th>\n",
       "      <th>Fp2</th>\n",
       "      <th>AF3</th>\n",
       "      <th>AF4</th>\n",
       "      <th>F7</th>\n",
       "      <th>F5</th>\n",
       "      <th>F3</th>\n",
       "      <th>F1</th>\n",
       "      <th>Fz</th>\n",
       "      <th>F2</th>\n",
       "      <th>...</th>\n",
       "      <th>P10</th>\n",
       "      <th>PO7</th>\n",
       "      <th>PO3</th>\n",
       "      <th>POz</th>\n",
       "      <th>PO4</th>\n",
       "      <th>PO8</th>\n",
       "      <th>O1</th>\n",
       "      <th>Oz</th>\n",
       "      <th>O2</th>\n",
       "      <th>y</th>\n",
       "    </tr>\n",
       "  </thead>\n",
       "  <tbody>\n",
       "    <tr>\n",
       "      <th>0</th>\n",
       "      <td>-1.648735</td>\n",
       "      <td>-1.802094</td>\n",
       "      <td>-1.905543</td>\n",
       "      <td>-1.904026</td>\n",
       "      <td>-1.901450</td>\n",
       "      <td>-1.829971</td>\n",
       "      <td>-2.004213</td>\n",
       "      <td>-1.702436</td>\n",
       "      <td>-2.009347</td>\n",
       "      <td>-2.190422</td>\n",
       "      <td>...</td>\n",
       "      <td>-2.108614</td>\n",
       "      <td>-1.910360</td>\n",
       "      <td>-1.557860</td>\n",
       "      <td>-1.809201</td>\n",
       "      <td>-1.442225</td>\n",
       "      <td>-1.597648</td>\n",
       "      <td>-2.059600</td>\n",
       "      <td>-1.460199</td>\n",
       "      <td>-1.774708</td>\n",
       "      <td>-</td>\n",
       "    </tr>\n",
       "    <tr>\n",
       "      <th>1</th>\n",
       "      <td>-7.269421</td>\n",
       "      <td>-8.309656</td>\n",
       "      <td>-8.524799</td>\n",
       "      <td>-8.518012</td>\n",
       "      <td>-8.106180</td>\n",
       "      <td>-7.908090</td>\n",
       "      <td>-9.018957</td>\n",
       "      <td>-7.811177</td>\n",
       "      <td>-8.810213</td>\n",
       "      <td>-9.558205</td>\n",
       "      <td>...</td>\n",
       "      <td>-9.438560</td>\n",
       "      <td>-8.043623</td>\n",
       "      <td>-7.010370</td>\n",
       "      <td>-8.141403</td>\n",
       "      <td>-6.303059</td>\n",
       "      <td>-7.289268</td>\n",
       "      <td>-8.924931</td>\n",
       "      <td>-6.205844</td>\n",
       "      <td>-7.986184</td>\n",
       "      <td>-</td>\n",
       "    </tr>\n",
       "    <tr>\n",
       "      <th>2</th>\n",
       "      <td>-18.435850</td>\n",
       "      <td>-22.125712</td>\n",
       "      <td>-22.164476</td>\n",
       "      <td>-22.046619</td>\n",
       "      <td>-20.815871</td>\n",
       "      <td>-20.195039</td>\n",
       "      <td>-23.349077</td>\n",
       "      <td>-20.329089</td>\n",
       "      <td>-23.030206</td>\n",
       "      <td>-24.791595</td>\n",
       "      <td>...</td>\n",
       "      <td>-24.399681</td>\n",
       "      <td>-19.606330</td>\n",
       "      <td>-17.986202</td>\n",
       "      <td>-21.006830</td>\n",
       "      <td>-16.345221</td>\n",
       "      <td>-19.271627</td>\n",
       "      <td>-22.913045</td>\n",
       "      <td>-15.879659</td>\n",
       "      <td>-20.941550</td>\n",
       "      <td>-</td>\n",
       "    </tr>\n",
       "    <tr>\n",
       "      <th>3</th>\n",
       "      <td>-32.899749</td>\n",
       "      <td>-41.448166</td>\n",
       "      <td>-40.718450</td>\n",
       "      <td>-40.485609</td>\n",
       "      <td>-37.728766</td>\n",
       "      <td>-36.338000</td>\n",
       "      <td>-42.589518</td>\n",
       "      <td>-37.053020</td>\n",
       "      <td>-42.273567</td>\n",
       "      <td>-45.700168</td>\n",
       "      <td>...</td>\n",
       "      <td>-44.280903</td>\n",
       "      <td>-33.682670</td>\n",
       "      <td>-32.573438</td>\n",
       "      <td>-38.495770</td>\n",
       "      <td>-30.233317</td>\n",
       "      <td>-36.246636</td>\n",
       "      <td>-41.706890</td>\n",
       "      <td>-28.656396</td>\n",
       "      <td>-38.925255</td>\n",
       "      <td>-</td>\n",
       "    </tr>\n",
       "  </tbody>\n",
       "</table>\n",
       "<p>4 rows × 60 columns</p>\n",
       "</div>"
      ],
      "text/plain": [
       "         Fp1        Fp2        AF3        AF4         F7         F5  \\\n",
       "0  -1.648735  -1.802094  -1.905543  -1.904026  -1.901450  -1.829971   \n",
       "1  -7.269421  -8.309656  -8.524799  -8.518012  -8.106180  -7.908090   \n",
       "2 -18.435850 -22.125712 -22.164476 -22.046619 -20.815871 -20.195039   \n",
       "3 -32.899749 -41.448166 -40.718450 -40.485609 -37.728766 -36.338000   \n",
       "\n",
       "          F3         F1         Fz         F2 ...        P10        PO7  \\\n",
       "0  -2.004213  -1.702436  -2.009347  -2.190422 ...  -2.108614  -1.910360   \n",
       "1  -9.018957  -7.811177  -8.810213  -9.558205 ...  -9.438560  -8.043623   \n",
       "2 -23.349077 -20.329089 -23.030206 -24.791595 ... -24.399681 -19.606330   \n",
       "3 -42.589518 -37.053020 -42.273567 -45.700168 ... -44.280903 -33.682670   \n",
       "\n",
       "         PO3        POz        PO4        PO8         O1         Oz  \\\n",
       "0  -1.557860  -1.809201  -1.442225  -1.597648  -2.059600  -1.460199   \n",
       "1  -7.010370  -8.141403  -6.303059  -7.289268  -8.924931  -6.205844   \n",
       "2 -17.986202 -21.006830 -16.345221 -19.271627 -22.913045 -15.879659   \n",
       "3 -32.573438 -38.495770 -30.233317 -36.246636 -41.706890 -28.656396   \n",
       "\n",
       "          O2  y  \n",
       "0  -1.774708  -  \n",
       "1  -7.986184  -  \n",
       "2 -20.941550  -  \n",
       "3 -38.925255  -  \n",
       "\n",
       "[4 rows x 60 columns]"
      ]
     },
     "execution_count": 69,
     "metadata": {},
     "output_type": "execute_result"
    }
   ],
   "source": [
    "df[0:4]"
   ]
  },
  {
   "cell_type": "markdown",
   "metadata": {},
   "source": [
    "### Selected electrodes:"
   ]
  },
  {
   "cell_type": "code",
   "execution_count": 15,
   "metadata": {
    "collapsed": true
   },
   "outputs": [],
   "source": [
    "#avg of all events was taken\n",
    "def drawElectodeBehav(e, file):\n",
    "    brake_signals = np.zeros(300)\n",
    "    no_brake_signals = np.zeros(300)\n",
    "    cnt = 0\n",
    "    for i in range (1146):\n",
    "        if(file['mrk']['y'][i][4] == 1):\n",
    "            car_brake = int((file['mrk']['time'][i] - file['mrk']['event']['react'][0][i])*0.2)\n",
    "            brake_signals += file['cnt']['x'][e][car_brake:car_brake+300]\n",
    "            no_brake_signals += file['cnt']['x'][e][car_brake+600:car_brake+900]\n",
    "            cnt += 1\n",
    "            mean_brake = brake_signals / cnt\n",
    "            mean_no_brake = no_brake_signals / cnt\n",
    "            print(i)\n",
    "    return mean_brake, mean_no_brake"
   ]
  },
  {
   "cell_type": "code",
   "execution_count": 22,
   "metadata": {
    "collapsed": true
   },
   "outputs": [
    {
     "name": "stdout",
     "output_type": "stream",
     "text": [
      "1\n",
      "6\n",
      "12\n",
      "32\n",
      "35\n",
      "55\n",
      "60\n",
      "64\n",
      "68\n",
      "71\n",
      "76\n",
      "79\n",
      "84\n",
      "88\n",
      "92\n",
      "96\n",
      "100\n",
      "103\n",
      "108\n",
      "112\n",
      "116\n",
      "120\n",
      "123\n",
      "127\n",
      "132\n",
      "136\n",
      "140\n",
      "144\n",
      "147\n",
      "152\n",
      "156\n",
      "159\n",
      "164\n",
      "168\n",
      "172\n",
      "176\n",
      "180\n",
      "184\n",
      "188\n",
      "191\n",
      "202\n",
      "206\n",
      "210\n",
      "214\n",
      "218\n",
      "222\n",
      "225\n",
      "242\n",
      "246\n",
      "250\n",
      "254\n",
      "258\n",
      "264\n",
      "269\n",
      "273\n",
      "276\n",
      "280\n",
      "284\n",
      "302\n",
      "322\n",
      "326\n",
      "330\n",
      "334\n",
      "338\n",
      "341\n",
      "346\n",
      "350\n",
      "353\n",
      "357\n",
      "362\n",
      "366\n",
      "370\n",
      "374\n",
      "378\n",
      "381\n",
      "386\n",
      "390\n",
      "394\n",
      "398\n",
      "402\n",
      "406\n",
      "409\n",
      "428\n",
      "433\n",
      "454\n",
      "458\n",
      "462\n",
      "465\n",
      "470\n",
      "473\n",
      "478\n",
      "481\n",
      "485\n",
      "490\n",
      "494\n",
      "497\n",
      "502\n",
      "506\n",
      "510\n",
      "514\n",
      "518\n",
      "522\n",
      "528\n",
      "535\n",
      "540\n",
      "544\n",
      "548\n",
      "551\n",
      "556\n",
      "560\n",
      "563\n",
      "568\n",
      "572\n",
      "587\n",
      "592\n",
      "598\n",
      "602\n",
      "610\n",
      "613\n",
      "618\n",
      "621\n",
      "626\n",
      "630\n",
      "633\n",
      "637\n",
      "642\n",
      "646\n",
      "650\n",
      "654\n",
      "658\n",
      "662\n",
      "665\n",
      "669\n",
      "688\n",
      "692\n",
      "697\n",
      "701\n",
      "705\n",
      "709\n",
      "729\n",
      "732\n",
      "736\n",
      "739\n",
      "744\n",
      "748\n",
      "751\n",
      "756\n",
      "760\n",
      "764\n",
      "768\n",
      "772\n",
      "776\n",
      "780\n",
      "783\n",
      "788\n",
      "791\n",
      "796\n",
      "800\n",
      "804\n",
      "808\n",
      "811\n",
      "816\n",
      "819\n",
      "824\n",
      "828\n",
      "832\n",
      "836\n",
      "839\n",
      "844\n",
      "847\n",
      "851\n",
      "870\n",
      "874\n",
      "878\n",
      "896\n",
      "899\n",
      "904\n",
      "908\n",
      "911\n",
      "916\n",
      "928\n",
      "932\n",
      "937\n",
      "941\n",
      "944\n",
      "948\n",
      "953\n",
      "957\n",
      "961\n",
      "964\n",
      "967\n",
      "984\n",
      "988\n",
      "992\n",
      "997\n",
      "1001\n",
      "1004\n",
      "1022\n",
      "1026\n",
      "1030\n",
      "1034\n",
      "1038\n",
      "1041\n",
      "1061\n",
      "1078\n",
      "1081\n",
      "1086\n",
      "1089\n",
      "1094\n",
      "1098\n",
      "1102\n",
      "1106\n",
      "1109\n",
      "1114\n",
      "1118\n",
      "1122\n",
      "1125\n",
      "1139\n",
      "1144\n"
     ]
    }
   ],
   "source": [
    "with gpu(0):\n",
    "    mean_brake_O1, mean_no_brake_O1 = drawElectodeBehav(58)"
   ]
  },
  {
   "cell_type": "code",
   "execution_count": 23,
   "metadata": {},
   "outputs": [
    {
     "data": {
      "image/png": "[encoded data removed]",
      "text/plain": [
       "<matplotlib.figure.Figure at 0x1c025cf6710>"
      ]
     },
     "metadata": {},
     "output_type": "display_data"
    }
   ],
   "source": [
    "plt.ylim(20, 80)\n",
    "plt.title(\"O1\", fontsize=16, fontweight='bold')\n",
    "plt.plot(mean_brake_O1.asnumpy(), label=\"Braking Event\")\n",
    "plt.plot(mean_no_brake_O1.asnumpy(), label=\"Normal Driving\")\n",
    "plt.legend()\n",
    "plt.show()"
   ]
  },
  {
   "cell_type": "code",
   "execution_count": null,
   "metadata": {
    "collapsed": true
   },
   "outputs": [],
   "source": [
    "with gpu(0):\n",
    "    mean_brake_O2, mean_no_brake_O2 = drawElectodeBehav(60)"
   ]
  },
  {
   "cell_type": "code",
   "execution_count": 177,
   "metadata": {},
   "outputs": [
    {
     "data": {
      "image/png": "[encoded data removed]",
      "text/plain": [
       "<matplotlib.figure.Figure at 0x21433b29780>"
      ]
     },
     "metadata": {},
     "output_type": "display_data"
    }
   ],
   "source": [
    "plt.ylim(20, 80)\n",
    "plt.title(\"O2\", fontsize=16, fontweight='bold')\n",
    "plt.plot(mean_brake_O2.asnumpy(), label=\"Braking Event\")\n",
    "plt.plot(mean_no_brake_O2.asnumpy(), label=\"Normal Driving\")\n",
    "plt.legend()\n",
    "plt.show()"
   ]
  },
  {
   "cell_type": "code",
   "execution_count": null,
   "metadata": {
    "collapsed": true
   },
   "outputs": [],
   "source": [
    "with gpu(0):\n",
    "    mean_brake_Oz, mean_no_brake_OZ = drawElectodeBehav(59)"
   ]
  },
  {
   "cell_type": "code",
   "execution_count": 178,
   "metadata": {},
   "outputs": [
    {
     "data": {
      "image/png": "[encoded data removed]",
      "text/plain": [
       "<matplotlib.figure.Figure at 0x2143a272ba8>"
      ]
     },
     "metadata": {},
     "output_type": "display_data"
    }
   ],
   "source": [
    "plt.ylim(20, 80)\n",
    "plt.title(\"Oz\", fontsize=16, fontweight='bold')\n",
    "plt.plot(mean_brake_Oz.asnumpy(), label=\"Braking Event\")\n",
    "plt.plot(mean_no_brake_OZ.asnumpy(), label=\"Normal Driving\")\n",
    "plt.legend()\n",
    "plt.show()"
   ]
  },
  {
   "cell_type": "code",
   "execution_count": null,
   "metadata": {
    "collapsed": true
   },
   "outputs": [],
   "source": [
    "with gpu(0):\n",
    "    mean_brake_CP3, mean_no_brake_CP3 = drawElectodeBehav(35)"
   ]
  },
  {
   "cell_type": "code",
   "execution_count": 179,
   "metadata": {},
   "outputs": [
    {
     "data": {
      "image/png": "[encoded data removed]",
      "text/plain": [
       "<matplotlib.figure.Figure at 0x2144a022da0>"
      ]
     },
     "metadata": {},
     "output_type": "display_data"
    }
   ],
   "source": [
    "plt.ylim(20, 80)\n",
    "plt.title(\"CP3\", fontsize=16, fontweight='bold')\n",
    "plt.plot(mean_brake_CP3.asnumpy(), label=\"Braking Event\")\n",
    "plt.plot(mean_no_brake_CP3.asnumpy(), label=\"Normal Driving\")\n",
    "plt.legend()\n",
    "plt.show()"
   ]
  },
  {
   "cell_type": "code",
   "execution_count": null,
   "metadata": {
    "collapsed": true
   },
   "outputs": [],
   "source": [
    "mean_brake_Pz, mean_no_brake_Pz = drawElectodeBehav(47)"
   ]
  },
  {
   "cell_type": "code",
   "execution_count": 176,
   "metadata": {},
   "outputs": [
    {
     "data": {
      "image/png": "[encoded data removed]",
      "text/plain": [
       "<matplotlib.figure.Figure at 0x21487d455f8>"
      ]
     },
     "metadata": {},
     "output_type": "display_data"
    }
   ],
   "source": [
    "plt.ylim(20, 80)\n",
    "plt.title(\"Pz\", fontsize=16, fontweight='bold')\n",
    "plt.plot(mean_brake_Pz, label=\"Braking Event\")\n",
    "plt.plot(mean_no_brake_Pz, label=\"Normal Driving\")\n",
    "plt.legend()\n",
    "plt.show()"
   ]
  },
  {
   "cell_type": "code",
   "execution_count": null,
   "metadata": {
    "collapsed": true
   },
   "outputs": [],
   "source": [
    "with gpu(0):\n",
    "    mean_brake_P7, mean_no_brake_P7 = drawElectodeBehav(43)"
   ]
  },
  {
   "cell_type": "code",
   "execution_count": 180,
   "metadata": {},
   "outputs": [
    {
     "data": {
      "image/png": "[encoded data removed]",
      "text/plain": [
       "<matplotlib.figure.Figure at 0x21434e4c198>"
      ]
     },
     "metadata": {},
     "output_type": "display_data"
    }
   ],
   "source": [
    "plt.ylim(0, 70)\n",
    "plt.title(\"P7\", fontsize=16, fontweight='bold')\n",
    "plt.plot(mean_brake_P7.asnumpy(), label=\"Braking Event\")\n",
    "plt.plot(mean_no_brake_P7.asnumpy(), label=\"Normal Driving\")\n",
    "plt.legend()\n",
    "plt.show()"
   ]
  },
  {
   "cell_type": "code",
   "execution_count": null,
   "metadata": {
    "collapsed": true
   },
   "outputs": [],
   "source": [
    "with gpu(0):\n",
    "    mean_brake_P8, mean_no_brake_P8 = drawElectodeBehav(51)"
   ]
  },
  {
   "cell_type": "code",
   "execution_count": 181,
   "metadata": {},
   "outputs": [
    {
     "data": {
      "image/png": "[encoded data removed]",
      "text/plain": [
       "<matplotlib.figure.Figure at 0x21487d8b048>"
      ]
     },
     "metadata": {},
     "output_type": "display_data"
    }
   ],
   "source": [
    "plt.ylim(20, 80)\n",
    "plt.title(\"P8\", fontsize=16, fontweight='bold')\n",
    "plt.plot(mean_brake_P8.asnumpy(), label=\"Braking Event\")\n",
    "plt.plot(mean_no_brake_P8.asnumpy(), label=\"Normal Driving\")\n",
    "plt.legend()\n",
    "plt.show()"
   ]
  },
  {
   "cell_type": "code",
   "execution_count": null,
   "metadata": {
    "collapsed": true
   },
   "outputs": [],
   "source": [
    "with gpu(0):\n",
    "    mean_brake_F3, mean_no_brake_F3 = drawElectodeBehav(8)"
   ]
  },
  {
   "cell_type": "code",
   "execution_count": 175,
   "metadata": {},
   "outputs": [
    {
     "data": {
      "image/png": "[encoded data removed]",
      "text/plain": [
       "<matplotlib.figure.Figure at 0x21433af54e0>"
      ]
     },
     "metadata": {},
     "output_type": "display_data"
    }
   ],
   "source": [
    "plt.ylim(-10, 40)\n",
    "plt.title(\"F3\", fontsize=16, fontweight='bold')\n",
    "plt.plot(mean_brake_F3.asnumpy(), label=\"Braking Event\")\n",
    "plt.plot(mean_no_brake_F3.asnumpy(), label=\"Normal Driving\")\n",
    "plt.legend()\n",
    "plt.show()"
   ]
  },
  {
   "cell_type": "code",
   "execution_count": null,
   "metadata": {
    "collapsed": true
   },
   "outputs": [],
   "source": [
    "with gpu(0):\n",
    "    mean_brake_F4, mean_no_brake_F4 = drawElectodeBehav(12)"
   ]
  },
  {
   "cell_type": "code",
   "execution_count": 187,
   "metadata": {},
   "outputs": [
    {
     "data": {
      "image/png": "[encoded data removed]",
      "text/plain": [
       "<matplotlib.figure.Figure at 0x21434c2ac50>"
      ]
     },
     "metadata": {},
     "output_type": "display_data"
    }
   ],
   "source": [
    "plt.ylim(20, 80)\n",
    "plt.title(\"F4\", fontsize=16, fontweight='bold')\n",
    "plt.plot(mean_brake_F4.asnumpy(), label=\"Braking Event\")\n",
    "plt.plot(mean_no_brake_F4.asnumpy(), label=\"Normal Driving\")\n",
    "plt.legend()\n",
    "plt.show()"
   ]
  },
  {
   "cell_type": "code",
   "execution_count": 13,
   "metadata": {
    "collapsed": true
   },
   "outputs": [
    {
     "name": "stdout",
     "output_type": "stream",
     "text": [
      "1\n",
      "6\n",
      "12\n",
      "32\n",
      "35\n",
      "55\n",
      "60\n",
      "64\n",
      "68\n",
      "71\n",
      "76\n",
      "79\n",
      "84\n",
      "88\n",
      "92\n",
      "96\n",
      "100\n",
      "103\n",
      "108\n",
      "112\n",
      "116\n",
      "120\n",
      "123\n",
      "127\n",
      "132\n",
      "136\n",
      "140\n",
      "144\n",
      "147\n",
      "152\n",
      "156\n",
      "159\n",
      "164\n",
      "168\n",
      "172\n",
      "176\n",
      "180\n",
      "184\n",
      "188\n",
      "191\n",
      "202\n",
      "206\n",
      "210\n",
      "214\n",
      "218\n",
      "222\n",
      "225\n",
      "242\n",
      "246\n",
      "250\n",
      "254\n",
      "258\n",
      "264\n",
      "269\n",
      "273\n",
      "276\n",
      "280\n",
      "284\n",
      "302\n",
      "322\n",
      "326\n",
      "330\n",
      "334\n",
      "338\n",
      "341\n",
      "346\n",
      "350\n",
      "353\n",
      "357\n",
      "362\n",
      "366\n",
      "370\n",
      "374\n",
      "378\n",
      "381\n",
      "386\n",
      "390\n",
      "394\n",
      "398\n",
      "402\n",
      "406\n",
      "409\n",
      "428\n",
      "433\n",
      "454\n",
      "458\n",
      "462\n",
      "465\n",
      "470\n",
      "473\n",
      "478\n",
      "481\n",
      "485\n",
      "490\n",
      "494\n",
      "497\n",
      "502\n",
      "506\n",
      "510\n",
      "514\n",
      "518\n",
      "522\n",
      "528\n",
      "535\n",
      "540\n",
      "544\n",
      "548\n",
      "551\n",
      "556\n",
      "560\n",
      "563\n",
      "568\n",
      "572\n",
      "587\n",
      "592\n",
      "598\n",
      "602\n",
      "610\n",
      "613\n",
      "618\n",
      "621\n",
      "626\n",
      "630\n",
      "633\n",
      "637\n",
      "642\n",
      "646\n",
      "650\n",
      "654\n",
      "658\n",
      "662\n",
      "665\n",
      "669\n",
      "688\n",
      "692\n",
      "697\n",
      "701\n",
      "705\n",
      "709\n",
      "729\n",
      "732\n",
      "736\n",
      "739\n",
      "744\n",
      "748\n",
      "751\n",
      "756\n",
      "760\n",
      "764\n",
      "768\n",
      "772\n",
      "776\n",
      "780\n",
      "783\n",
      "788\n",
      "791\n",
      "796\n",
      "800\n",
      "804\n",
      "808\n",
      "811\n",
      "816\n",
      "819\n",
      "824\n",
      "828\n",
      "832\n",
      "836\n",
      "839\n",
      "844\n",
      "847\n",
      "851\n",
      "870\n",
      "874\n",
      "878\n",
      "896\n",
      "899\n",
      "904\n",
      "908\n",
      "911\n",
      "916\n",
      "928\n",
      "932\n",
      "937\n",
      "941\n",
      "944\n",
      "948\n",
      "953\n",
      "957\n",
      "961\n",
      "964\n",
      "967\n",
      "984\n",
      "988\n",
      "992\n",
      "997\n",
      "1001\n",
      "1004\n",
      "1022\n",
      "1026\n",
      "1030\n",
      "1034\n",
      "1038\n",
      "1041\n",
      "1061\n",
      "1078\n",
      "1081\n",
      "1086\n",
      "1089\n",
      "1094\n",
      "1098\n",
      "1102\n",
      "1106\n",
      "1109\n",
      "1114\n",
      "1118\n",
      "1122\n",
      "1125\n",
      "1139\n",
      "1144\n"
     ]
    }
   ],
   "source": [
    "with gpu(0):\n",
    "    mean_brake_FC6, mean_no_brake_FC6 = drawElectodeBehav(22)"
   ]
  },
  {
   "cell_type": "code",
   "execution_count": 14,
   "metadata": {},
   "outputs": [
    {
     "data": {
      "image/png": "[encoded data removed]",
      "text/plain": [
       "<matplotlib.figure.Figure at 0x1c04c0089b0>"
      ]
     },
     "metadata": {},
     "output_type": "display_data"
    }
   ],
   "source": [
    "plt.ylim(20, 80)\n",
    "plt.title(\"FC6\", fontsize=16, fontweight='bold')\n",
    "plt.plot(mean_brake_FC6.asnumpy(), label=\"Braking Event\")\n",
    "plt.plot(mean_no_brake_FC6.asnumpy(), label=\"Normal Driving\")\n",
    "plt.legend()\n",
    "plt.show()"
   ]
  },
  {
   "cell_type": "code",
   "execution_count": 4,
   "metadata": {},
   "outputs": [
    {
     "ename": "NameError",
     "evalue": "name 'drawElectodeBehav' is not defined",
     "output_type": "error",
     "traceback": [
      "\u001b[1;31m---------------------------------------------------------------------------\u001b[0m",
      "\u001b[1;31mNameError\u001b[0m                                 Traceback (most recent call last)",
      "\u001b[1;32m<ipython-input-4-2bf78440f778>\u001b[0m in \u001b[0;36m<module>\u001b[1;34m()\u001b[0m\n\u001b[1;32m----> 1\u001b[1;33m \u001b[0mmean_brake_FC5\u001b[0m\u001b[1;33m,\u001b[0m \u001b[0mmean_no_brake_FC5\u001b[0m \u001b[1;33m=\u001b[0m \u001b[0mdrawElectodeBehav\u001b[0m\u001b[1;33m(\u001b[0m\u001b[1;36m16\u001b[0m\u001b[1;33m)\u001b[0m\u001b[1;33m\u001b[0m\u001b[0m\n\u001b[0m",
      "\u001b[1;31mNameError\u001b[0m: name 'drawElectodeBehav' is not defined"
     ]
    }
   ],
   "source": [
    "mean_brake_FC5, mean_no_brake_FC5 = drawElectodeBehav(16)"
   ]
  },
  {
   "cell_type": "code",
   "execution_count": 21,
   "metadata": {},
   "outputs": [
    {
     "ename": "NameError",
     "evalue": "name 'mean_brake_FC5' is not defined",
     "output_type": "error",
     "traceback": [
      "\u001b[1;31m---------------------------------------------------------------------------\u001b[0m",
      "\u001b[1;31mNameError\u001b[0m                                 Traceback (most recent call last)",
      "\u001b[1;32m<ipython-input-21-e86144d3ec41>\u001b[0m in \u001b[0;36m<module>\u001b[1;34m()\u001b[0m\n\u001b[0;32m      1\u001b[0m \u001b[0mplt\u001b[0m\u001b[1;33m.\u001b[0m\u001b[0mylim\u001b[0m\u001b[1;33m(\u001b[0m\u001b[1;33m-\u001b[0m\u001b[1;36m20\u001b[0m\u001b[1;33m,\u001b[0m \u001b[1;36m50\u001b[0m\u001b[1;33m)\u001b[0m\u001b[1;33m\u001b[0m\u001b[0m\n\u001b[0;32m      2\u001b[0m \u001b[0mplt\u001b[0m\u001b[1;33m.\u001b[0m\u001b[0mtitle\u001b[0m\u001b[1;33m(\u001b[0m\u001b[1;34m\"FC5\"\u001b[0m\u001b[1;33m,\u001b[0m \u001b[0mfontsize\u001b[0m\u001b[1;33m=\u001b[0m\u001b[1;36m16\u001b[0m\u001b[1;33m,\u001b[0m \u001b[0mfontweight\u001b[0m\u001b[1;33m=\u001b[0m\u001b[1;34m'bold'\u001b[0m\u001b[1;33m)\u001b[0m\u001b[1;33m\u001b[0m\u001b[0m\n\u001b[1;32m----> 3\u001b[1;33m \u001b[0mplt\u001b[0m\u001b[1;33m.\u001b[0m\u001b[0mplot\u001b[0m\u001b[1;33m(\u001b[0m\u001b[0mmean_brake_FC5\u001b[0m\u001b[1;33m.\u001b[0m\u001b[0masnumpy\u001b[0m\u001b[1;33m(\u001b[0m\u001b[1;33m)\u001b[0m\u001b[1;33m,\u001b[0m \u001b[0mlabel\u001b[0m\u001b[1;33m=\u001b[0m\u001b[1;34m\"Braking Event\"\u001b[0m\u001b[1;33m)\u001b[0m\u001b[1;33m\u001b[0m\u001b[0m\n\u001b[0m\u001b[0;32m      4\u001b[0m \u001b[0mplt\u001b[0m\u001b[1;33m.\u001b[0m\u001b[0mplot\u001b[0m\u001b[1;33m(\u001b[0m\u001b[0mmean_no_brake_FC5\u001b[0m\u001b[1;33m.\u001b[0m\u001b[0masnumpy\u001b[0m\u001b[1;33m(\u001b[0m\u001b[1;33m)\u001b[0m\u001b[1;33m,\u001b[0m \u001b[0mlabel\u001b[0m\u001b[1;33m=\u001b[0m\u001b[1;34m\"Normal Driving\"\u001b[0m\u001b[1;33m)\u001b[0m\u001b[1;33m\u001b[0m\u001b[0m\n\u001b[0;32m      5\u001b[0m \u001b[0mplt\u001b[0m\u001b[1;33m.\u001b[0m\u001b[0mlegend\u001b[0m\u001b[1;33m(\u001b[0m\u001b[1;33m)\u001b[0m\u001b[1;33m\u001b[0m\u001b[0m\n",
      "\u001b[1;31mNameError\u001b[0m: name 'mean_brake_FC5' is not defined"
     ]
    },
    {
     "data": {
      "image/png": "[encoded data removed]",
      "text/plain": [
       "<matplotlib.figure.Figure at 0x1ebe725b7b8>"
      ]
     },
     "metadata": {},
     "output_type": "display_data"
    }
   ],
   "source": [
    "plt.ylim(-20, 50)\n",
    "plt.title(\"FC5\", fontsize=16, fontweight='bold')\n",
    "plt.plot(mean_brake_FC5.asnumpy(), label=\"Braking Event\")\n",
    "plt.plot(mean_no_brake_FC5.asnumpy(), label=\"Normal Driving\")\n",
    "plt.legend()\n",
    "plt.show()"
   ]
  },
  {
   "cell_type": "code",
   "execution_count": 17,
   "metadata": {
    "collapsed": true
   },
   "outputs": [
    {
     "name": "stdout",
     "output_type": "stream",
     "text": [
      "1\n",
      "6\n",
      "12\n",
      "32\n",
      "35\n",
      "55\n",
      "60\n",
      "64\n",
      "68\n",
      "71\n",
      "76\n",
      "79\n",
      "84\n",
      "88\n",
      "92\n",
      "96\n",
      "100\n",
      "103\n",
      "108\n",
      "112\n",
      "116\n",
      "120\n",
      "123\n",
      "127\n",
      "132\n",
      "136\n",
      "140\n",
      "144\n",
      "147\n",
      "152\n",
      "156\n",
      "159\n",
      "164\n",
      "168\n",
      "172\n",
      "176\n",
      "180\n",
      "184\n",
      "188\n",
      "191\n",
      "202\n",
      "206\n",
      "210\n",
      "214\n",
      "218\n",
      "222\n",
      "225\n",
      "242\n",
      "246\n",
      "250\n",
      "254\n",
      "258\n",
      "264\n",
      "269\n",
      "273\n",
      "276\n",
      "280\n",
      "284\n",
      "302\n",
      "322\n",
      "326\n",
      "330\n",
      "334\n",
      "338\n",
      "341\n",
      "346\n",
      "350\n",
      "353\n",
      "357\n",
      "362\n",
      "366\n",
      "370\n",
      "374\n",
      "378\n",
      "381\n",
      "386\n",
      "390\n",
      "394\n",
      "398\n",
      "402\n",
      "406\n",
      "409\n",
      "428\n",
      "433\n",
      "454\n",
      "458\n",
      "462\n",
      "465\n",
      "470\n",
      "473\n",
      "478\n",
      "481\n",
      "485\n",
      "490\n",
      "494\n",
      "497\n",
      "502\n",
      "506\n",
      "510\n",
      "514\n",
      "518\n",
      "522\n",
      "528\n",
      "535\n",
      "540\n",
      "544\n",
      "548\n",
      "551\n",
      "556\n",
      "560\n",
      "563\n",
      "568\n",
      "572\n",
      "587\n",
      "592\n",
      "598\n",
      "602\n",
      "610\n",
      "613\n",
      "618\n",
      "621\n",
      "626\n",
      "630\n",
      "633\n",
      "637\n",
      "642\n",
      "646\n",
      "650\n",
      "654\n",
      "658\n",
      "662\n",
      "665\n",
      "669\n",
      "688\n",
      "692\n",
      "697\n",
      "701\n",
      "705\n",
      "709\n",
      "729\n",
      "732\n",
      "736\n",
      "739\n",
      "744\n",
      "748\n",
      "751\n",
      "756\n",
      "760\n",
      "764\n",
      "768\n",
      "772\n",
      "776\n",
      "780\n",
      "783\n",
      "788\n",
      "791\n",
      "796\n",
      "800\n",
      "804\n",
      "808\n",
      "811\n",
      "816\n",
      "819\n",
      "824\n",
      "828\n",
      "832\n",
      "836\n",
      "839\n",
      "844\n",
      "847\n",
      "851\n",
      "870\n",
      "874\n",
      "878\n",
      "896\n",
      "899\n",
      "904\n",
      "908\n",
      "911\n",
      "916\n",
      "928\n",
      "932\n",
      "937\n",
      "941\n",
      "944\n",
      "948\n",
      "953\n",
      "957\n",
      "961\n",
      "964\n",
      "967\n",
      "984\n",
      "988\n",
      "992\n",
      "997\n",
      "1001\n",
      "1004\n",
      "1022\n",
      "1026\n",
      "1030\n",
      "1034\n",
      "1038\n",
      "1041\n",
      "1061\n",
      "1078\n",
      "1081\n",
      "1086\n",
      "1089\n",
      "1094\n",
      "1098\n",
      "1102\n",
      "1106\n",
      "1109\n",
      "1114\n",
      "1118\n",
      "1122\n",
      "1125\n",
      "1139\n",
      "1144\n"
     ]
    }
   ],
   "source": [
    "with gpu(0):\n",
    "    mean_brake_T7, mean_no_brake_T7 = drawElectodeBehav(24)"
   ]
  },
  {
   "cell_type": "code",
   "execution_count": 18,
   "metadata": {},
   "outputs": [
    {
     "data": {
      "image/png": "[encoded data removed]",
      "text/plain": [
       "<matplotlib.figure.Figure at 0x1c017e9c7b8>"
      ]
     },
     "metadata": {},
     "output_type": "display_data"
    }
   ],
   "source": [
    "plt.ylim(20, 80)\n",
    "plt.title(\"T7\", fontsize=16, fontweight='bold')\n",
    "plt.plot(mean_brake_T7.asnumpy(), label=\"Braking Event\")\n",
    "plt.plot(mean_no_brake_T7.asnumpy(), label=\"Normal Driving\")\n",
    "plt.legend()\n",
    "plt.show()"
   ]
  },
  {
   "cell_type": "code",
   "execution_count": 19,
   "metadata": {
    "collapsed": true
   },
   "outputs": [
    {
     "name": "stdout",
     "output_type": "stream",
     "text": [
      "1\n",
      "6\n",
      "12\n",
      "32\n",
      "35\n",
      "55\n",
      "60\n",
      "64\n",
      "68\n",
      "71\n",
      "76\n",
      "79\n",
      "84\n",
      "88\n",
      "92\n",
      "96\n",
      "100\n",
      "103\n",
      "108\n",
      "112\n",
      "116\n",
      "120\n",
      "123\n",
      "127\n",
      "132\n",
      "136\n",
      "140\n",
      "144\n",
      "147\n",
      "152\n",
      "156\n",
      "159\n",
      "164\n",
      "168\n",
      "172\n",
      "176\n",
      "180\n",
      "184\n",
      "188\n",
      "191\n",
      "202\n",
      "206\n",
      "210\n",
      "214\n",
      "218\n",
      "222\n",
      "225\n",
      "242\n",
      "246\n",
      "250\n",
      "254\n",
      "258\n",
      "264\n",
      "269\n",
      "273\n",
      "276\n",
      "280\n",
      "284\n",
      "302\n",
      "322\n",
      "326\n",
      "330\n",
      "334\n",
      "338\n",
      "341\n",
      "346\n",
      "350\n",
      "353\n",
      "357\n",
      "362\n",
      "366\n",
      "370\n",
      "374\n",
      "378\n",
      "381\n",
      "386\n",
      "390\n",
      "394\n",
      "398\n",
      "402\n",
      "406\n",
      "409\n",
      "428\n",
      "433\n",
      "454\n",
      "458\n",
      "462\n",
      "465\n",
      "470\n",
      "473\n",
      "478\n",
      "481\n",
      "485\n",
      "490\n",
      "494\n",
      "497\n",
      "502\n",
      "506\n",
      "510\n",
      "514\n",
      "518\n",
      "522\n",
      "528\n",
      "535\n",
      "540\n",
      "544\n",
      "548\n",
      "551\n",
      "556\n",
      "560\n",
      "563\n",
      "568\n",
      "572\n",
      "587\n",
      "592\n",
      "598\n",
      "602\n",
      "610\n",
      "613\n",
      "618\n",
      "621\n",
      "626\n",
      "630\n",
      "633\n",
      "637\n",
      "642\n",
      "646\n",
      "650\n",
      "654\n",
      "658\n",
      "662\n",
      "665\n",
      "669\n",
      "688\n",
      "692\n",
      "697\n",
      "701\n",
      "705\n",
      "709\n",
      "729\n",
      "732\n",
      "736\n",
      "739\n",
      "744\n",
      "748\n",
      "751\n",
      "756\n",
      "760\n",
      "764\n",
      "768\n",
      "772\n",
      "776\n",
      "780\n",
      "783\n",
      "788\n",
      "791\n",
      "796\n",
      "800\n",
      "804\n",
      "808\n",
      "811\n",
      "816\n",
      "819\n",
      "824\n",
      "828\n",
      "832\n",
      "836\n",
      "839\n",
      "844\n",
      "847\n",
      "851\n",
      "870\n",
      "874\n",
      "878\n",
      "896\n",
      "899\n",
      "904\n",
      "908\n",
      "911\n",
      "916\n",
      "928\n",
      "932\n",
      "937\n",
      "941\n",
      "944\n",
      "948\n",
      "953\n",
      "957\n",
      "961\n",
      "964\n",
      "967\n",
      "984\n",
      "988\n",
      "992\n",
      "997\n",
      "1001\n",
      "1004\n",
      "1022\n",
      "1026\n",
      "1030\n",
      "1034\n",
      "1038\n",
      "1041\n",
      "1061\n",
      "1078\n",
      "1081\n",
      "1086\n",
      "1089\n",
      "1094\n",
      "1098\n",
      "1102\n",
      "1106\n",
      "1109\n",
      "1114\n",
      "1118\n",
      "1122\n",
      "1125\n",
      "1139\n",
      "1144\n"
     ]
    }
   ],
   "source": [
    "with gpu(0):\n",
    "    mean_brake_T8, mean_no_brake_T8 = drawElectodeBehav(32)"
   ]
  },
  {
   "cell_type": "code",
   "execution_count": 20,
   "metadata": {},
   "outputs": [
    {
     "data": {
      "image/png": "[encoded data removed]",
      "text/plain": [
       "<matplotlib.figure.Figure at 0x1c020c40f28>"
      ]
     },
     "metadata": {},
     "output_type": "display_data"
    }
   ],
   "source": [
    "plt.ylim(20, 80)\n",
    "plt.title(\"T8\", fontsize=16, fontweight='bold')\n",
    "plt.plot(mean_brake_T8.asnumpy(), label=\"Braking Event\")\n",
    "plt.plot(mean_no_brake_T8.asnumpy(), label=\"Normal Driving\")\n",
    "plt.legend()\n",
    "plt.show()"
   ]
  },
  {
   "cell_type": "code",
   "execution_count": 188,
   "metadata": {
    "collapsed": true
   },
   "outputs": [],
   "source": [
    "def checkTimeDiff():\n",
    "    for i in range (1146):\n",
    "        if(f['mrk']['y'][i][4] == 1):\n",
    "            start = int((f['mrk']['time'][i] - f['mrk']['event']['react'][0][i]))\n",
    "            for j in range (i, 1146):\n",
    "                 if(f['mrk']['y'][j][1] == 1):\n",
    "                    print(\"diff = \" + str(f['mrk']['time'][j]- start))\n",
    "                    break"
   ]
  },
  {
   "cell_type": "markdown",
   "metadata": {},
   "source": [
    "# Try another subject:"
   ]
  },
  {
   "cell_type": "code",
   "execution_count": 33,
   "metadata": {
    "collapsed": true
   },
   "outputs": [
    {
     "name": "stdout",
     "output_type": "stream",
     "text": [
      "1\n",
      "6\n",
      "10\n",
      "13\n",
      "17\n",
      "22\n",
      "25\n",
      "30\n",
      "34\n",
      "38\n",
      "41\n",
      "46\n",
      "62\n",
      "66\n",
      "70\n",
      "74\n",
      "77\n",
      "82\n",
      "85\n",
      "90\n",
      "93\n",
      "113\n",
      "146\n",
      "149\n",
      "154\n",
      "157\n",
      "172\n",
      "176\n",
      "179\n",
      "194\n",
      "199\n",
      "203\n",
      "207\n",
      "211\n",
      "214\n",
      "218\n",
      "222\n",
      "241\n",
      "245\n",
      "248\n",
      "293\n",
      "297\n",
      "300\n",
      "319\n",
      "365\n",
      "369\n",
      "372\n",
      "376\n",
      "381\n",
      "385\n",
      "388\n",
      "393\n",
      "396\n",
      "404\n",
      "429\n",
      "432\n",
      "450\n",
      "453\n",
      "458\n",
      "462\n",
      "466\n",
      "470\n",
      "473\n",
      "477\n",
      "494\n",
      "515\n",
      "518\n",
      "522\n",
      "526\n",
      "530\n",
      "535\n",
      "538\n",
      "542\n",
      "547\n",
      "551\n",
      "554\n",
      "558\n",
      "562\n",
      "566\n",
      "583\n",
      "586\n",
      "590\n",
      "594\n",
      "599\n",
      "603\n",
      "607\n",
      "611\n",
      "615\n",
      "618\n",
      "642\n",
      "645\n",
      "649\n",
      "667\n",
      "670\n",
      "674\n",
      "678\n",
      "692\n",
      "710\n",
      "713\n",
      "717\n",
      "721\n",
      "725\n",
      "758\n",
      "779\n",
      "797\n",
      "815\n",
      "818\n",
      "911\n",
      "915\n",
      "918\n",
      "922\n",
      "927\n",
      "930\n",
      "935\n",
      "938\n",
      "943\n",
      "947\n",
      "967\n",
      "989\n",
      "993\n",
      "996\n",
      "1001\n",
      "1004\n",
      "1023\n",
      "1027\n",
      "1030\n",
      "1034\n",
      "1039\n",
      "1043\n",
      "1047\n",
      "1069\n",
      "1072\n",
      "1076\n",
      "1081\n",
      "1085\n",
      "1088\n",
      "1093\n",
      "1097\n",
      "1113\n",
      "1117\n",
      "1120\n",
      "1129\n"
     ]
    }
   ],
   "source": [
    "with gpu(0):\n",
    "    mean_brake_O1_f1, mean_no_brake_O1_f1 = drawElectodeBehav(58, f1)"
   ]
  },
  {
   "cell_type": "code",
   "execution_count": 34,
   "metadata": {},
   "outputs": [
    {
     "data": {
      "image/png": "[encoded data removed]",
      "text/plain": [
       "<matplotlib.figure.Figure at 0x1c025dc9278>"
      ]
     },
     "metadata": {},
     "output_type": "display_data"
    }
   ],
   "source": [
    "plt.ylim(20, 80)\n",
    "plt.title(\"O1\", fontsize=16, fontweight='bold')\n",
    "plt.plot(mean_brake_O1_f1.asnumpy(), label=\"Braking Event\")\n",
    "plt.plot(mean_no_brake_O1_f1.asnumpy(), label=\"Normal Driving\")\n",
    "plt.legend()\n",
    "plt.show()"
   ]
  },
  {
   "cell_type": "code",
   "execution_count": 35,
   "metadata": {
    "collapsed": true
   },
   "outputs": [
    {
     "name": "stdout",
     "output_type": "stream",
     "text": [
      "1\n",
      "6\n",
      "10\n",
      "13\n",
      "17\n",
      "22\n",
      "25\n",
      "30\n",
      "34\n",
      "38\n",
      "41\n",
      "46\n",
      "62\n",
      "66\n",
      "70\n",
      "74\n",
      "77\n",
      "82\n",
      "85\n",
      "90\n",
      "93\n",
      "113\n",
      "146\n",
      "149\n",
      "154\n",
      "157\n",
      "172\n",
      "176\n",
      "179\n",
      "194\n",
      "199\n",
      "203\n",
      "207\n",
      "211\n",
      "214\n",
      "218\n",
      "222\n",
      "241\n",
      "245\n",
      "248\n",
      "293\n",
      "297\n",
      "300\n",
      "319\n",
      "365\n",
      "369\n",
      "372\n",
      "376\n",
      "381\n",
      "385\n",
      "388\n",
      "393\n",
      "396\n",
      "404\n",
      "429\n",
      "432\n",
      "450\n",
      "453\n",
      "458\n",
      "462\n",
      "466\n",
      "470\n",
      "473\n",
      "477\n",
      "494\n",
      "515\n",
      "518\n",
      "522\n",
      "526\n",
      "530\n",
      "535\n",
      "538\n",
      "542\n",
      "547\n",
      "551\n",
      "554\n",
      "558\n",
      "562\n",
      "566\n",
      "583\n",
      "586\n",
      "590\n",
      "594\n",
      "599\n",
      "603\n",
      "607\n",
      "611\n",
      "615\n",
      "618\n",
      "642\n",
      "645\n",
      "649\n",
      "667\n",
      "670\n",
      "674\n",
      "678\n",
      "692\n",
      "710\n",
      "713\n",
      "717\n",
      "721\n",
      "725\n",
      "758\n",
      "779\n",
      "797\n",
      "815\n",
      "818\n",
      "911\n",
      "915\n",
      "918\n",
      "922\n",
      "927\n",
      "930\n",
      "935\n",
      "938\n",
      "943\n",
      "947\n",
      "967\n",
      "989\n",
      "993\n",
      "996\n",
      "1001\n",
      "1004\n",
      "1023\n",
      "1027\n",
      "1030\n",
      "1034\n",
      "1039\n",
      "1043\n",
      "1047\n",
      "1069\n",
      "1072\n",
      "1076\n",
      "1081\n",
      "1085\n",
      "1088\n",
      "1093\n",
      "1097\n",
      "1113\n",
      "1117\n",
      "1120\n",
      "1129\n"
     ]
    }
   ],
   "source": [
    "with gpu(0):\n",
    "    mean_brake_O2_f1, mean_no_brake_O2_f1 = drawElectodeBehav(60, f1)"
   ]
  },
  {
   "cell_type": "code",
   "execution_count": 36,
   "metadata": {},
   "outputs": [
    {
     "data": {
      "image/png": "[encoded data removed]",
      "text/plain": [
       "<matplotlib.figure.Figure at 0x1c025cf69e8>"
      ]
     },
     "metadata": {},
     "output_type": "display_data"
    }
   ],
   "source": [
    "plt.ylim(20, 80)\n",
    "plt.title(\"O2\", fontsize=16, fontweight='bold')\n",
    "plt.plot(mean_brake_O2_f1.asnumpy(), label=\"Braking Event\")\n",
    "plt.plot(mean_no_brake_O2_f1.asnumpy(), label=\"Normal Driving\")\n",
    "plt.legend()\n",
    "plt.show()"
   ]
  },
  {
   "cell_type": "code",
   "execution_count": 17,
   "metadata": {
    "collapsed": true
   },
   "outputs": [
    {
     "name": "stdout",
     "output_type": "stream",
     "text": [
      "1\n",
      "6\n",
      "10\n",
      "13\n",
      "17\n",
      "22\n",
      "25\n",
      "30\n",
      "34\n",
      "38\n",
      "41\n",
      "46\n",
      "62\n",
      "66\n",
      "70\n",
      "74\n",
      "77\n",
      "82\n",
      "85\n",
      "90\n",
      "93\n",
      "113\n",
      "146\n",
      "149\n",
      "154\n",
      "157\n",
      "172\n",
      "176\n",
      "179\n",
      "194\n",
      "199\n",
      "203\n",
      "207\n",
      "211\n",
      "214\n",
      "218\n",
      "222\n",
      "241\n",
      "245\n",
      "248\n",
      "293\n",
      "297\n",
      "300\n",
      "319\n",
      "365\n",
      "369\n",
      "372\n",
      "376\n",
      "381\n",
      "385\n",
      "388\n",
      "393\n",
      "396\n",
      "404\n",
      "429\n",
      "432\n",
      "450\n",
      "453\n",
      "458\n",
      "462\n",
      "466\n",
      "470\n",
      "473\n",
      "477\n",
      "494\n",
      "515\n",
      "518\n",
      "522\n",
      "526\n",
      "530\n",
      "535\n",
      "538\n",
      "542\n",
      "547\n",
      "551\n",
      "554\n",
      "558\n",
      "562\n",
      "566\n",
      "583\n",
      "586\n",
      "590\n",
      "594\n",
      "599\n",
      "603\n",
      "607\n",
      "611\n",
      "615\n",
      "618\n",
      "642\n",
      "645\n",
      "649\n",
      "667\n",
      "670\n",
      "674\n",
      "678\n",
      "692\n",
      "710\n",
      "713\n",
      "717\n",
      "721\n",
      "725\n",
      "758\n",
      "779\n",
      "797\n",
      "815\n",
      "818\n",
      "911\n",
      "915\n",
      "918\n",
      "922\n",
      "927\n",
      "930\n",
      "935\n",
      "938\n",
      "943\n",
      "947\n",
      "967\n",
      "989\n",
      "993\n",
      "996\n",
      "1001\n",
      "1004\n",
      "1023\n",
      "1027\n",
      "1030\n",
      "1034\n",
      "1039\n",
      "1043\n",
      "1047\n",
      "1069\n",
      "1072\n",
      "1076\n",
      "1081\n",
      "1085\n",
      "1088\n",
      "1093\n",
      "1097\n",
      "1113\n",
      "1117\n",
      "1120\n",
      "1129\n"
     ]
    }
   ],
   "source": [
    "with gpu(0):\n",
    "    mean_brake_Pz_f1, mean_no_brake_Pz_f1 = drawElectodeBehav(47, f1)"
   ]
  },
  {
   "cell_type": "code",
   "execution_count": 20,
   "metadata": {},
   "outputs": [
    {
     "data": {
      "image/png": "[encoded data removed]",
      "text/plain": [
       "<matplotlib.figure.Figure at 0x1ebd2e3c940>"
      ]
     },
     "metadata": {},
     "output_type": "display_data"
    }
   ],
   "source": [
    "plt.ylim(20, 80)\n",
    "plt.title(\"Pz\", fontsize=16, fontweight='bold')\n",
    "plt.plot(mean_brake_Pz_f1.asnumpy(), label=\"Braking Event\")\n",
    "plt.plot(mean_no_brake_Pz_f1.asnumpy(), label=\"Normal Driving\")\n",
    "plt.legend()\n",
    "plt.show()"
   ]
  },
  {
   "cell_type": "code",
   "execution_count": 22,
   "metadata": {
    "collapsed": true
   },
   "outputs": [
    {
     "name": "stdout",
     "output_type": "stream",
     "text": [
      "1\n",
      "6\n",
      "10\n",
      "13\n",
      "17\n",
      "22\n",
      "25\n",
      "30\n",
      "34\n",
      "38\n",
      "41\n",
      "46\n",
      "62\n",
      "66\n",
      "70\n",
      "74\n",
      "77\n",
      "82\n",
      "85\n",
      "90\n",
      "93\n",
      "113\n",
      "146\n",
      "149\n",
      "154\n",
      "157\n",
      "172\n",
      "176\n",
      "179\n",
      "194\n",
      "199\n",
      "203\n",
      "207\n",
      "211\n",
      "214\n",
      "218\n",
      "222\n",
      "241\n",
      "245\n",
      "248\n",
      "293\n",
      "297\n",
      "300\n",
      "319\n",
      "365\n",
      "369\n",
      "372\n",
      "376\n",
      "381\n",
      "385\n",
      "388\n",
      "393\n",
      "396\n",
      "404\n",
      "429\n",
      "432\n",
      "450\n",
      "453\n",
      "458\n",
      "462\n",
      "466\n",
      "470\n",
      "473\n",
      "477\n",
      "494\n",
      "515\n",
      "518\n",
      "522\n",
      "526\n",
      "530\n",
      "535\n",
      "538\n",
      "542\n",
      "547\n",
      "551\n",
      "554\n",
      "558\n",
      "562\n",
      "566\n",
      "583\n",
      "586\n",
      "590\n",
      "594\n",
      "599\n",
      "603\n",
      "607\n",
      "611\n",
      "615\n",
      "618\n",
      "642\n",
      "645\n",
      "649\n",
      "667\n",
      "670\n",
      "674\n",
      "678\n",
      "692\n",
      "710\n",
      "713\n",
      "717\n",
      "721\n",
      "725\n",
      "758\n",
      "779\n",
      "797\n",
      "815\n",
      "818\n",
      "911\n",
      "915\n",
      "918\n",
      "922\n",
      "927\n",
      "930\n",
      "935\n",
      "938\n",
      "943\n",
      "947\n",
      "967\n",
      "989\n",
      "993\n",
      "996\n",
      "1001\n",
      "1004\n",
      "1023\n",
      "1027\n",
      "1030\n",
      "1034\n",
      "1039\n",
      "1043\n",
      "1047\n",
      "1069\n",
      "1072\n",
      "1076\n",
      "1081\n",
      "1085\n",
      "1088\n",
      "1093\n",
      "1097\n",
      "1113\n",
      "1117\n",
      "1120\n",
      "1129\n"
     ]
    }
   ],
   "source": [
    "with gpu(0):\n",
    "    mean_brake_T7_f1, mean_no_brake_T7 = drawElectodeBehav(24, f1)"
   ]
  },
  {
   "cell_type": "code",
   "execution_count": 24,
   "metadata": {},
   "outputs": [
    {
     "data": {
      "image/png": "[encoded data removed]",
      "text/plain": [
       "<matplotlib.figure.Figure at 0x1ebeff22128>"
      ]
     },
     "metadata": {},
     "output_type": "display_data"
    }
   ],
   "source": [
    "plt.ylim(20, 80)\n",
    "plt.title(\"T7\", fontsize=16, fontweight='bold')\n",
    "plt.plot(mean_brake_T7_f1.asnumpy(), label=\"Braking Event\")\n",
    "plt.plot(mean_no_brake_T7.asnumpy(), label=\"Normal Driving\")\n",
    "plt.legend()\n",
    "plt.show()"
   ]
  },
  {
   "cell_type": "code",
   "execution_count": 36,
   "metadata": {
    "collapsed": true
   },
   "outputs": [],
   "source": [
    "x = [1, 2, 3, 3, 3, 3]\n"
   ]
  },
  {
   "cell_type": "code",
   "execution_count": null,
   "metadata": {
    "collapsed": true
   },
   "outputs": [],
   "source": []
  }
 ],
 "metadata": {
  "kernelspec": {
   "display_name": "Python 3",
   "language": "python",
   "name": "python3"
  },
  "language_info": {
   "codemirror_mode": {
    "name": "ipython",
    "version": 3
   },
   "file_extension": ".py",
   "mimetype": "text/x-python",
   "name": "python",
   "nbconvert_exporter": "python",
   "pygments_lexer": "ipython3",
   "version": "3.6.1"
  }
 },
 "nbformat": 4,
 "nbformat_minor": 2
}
