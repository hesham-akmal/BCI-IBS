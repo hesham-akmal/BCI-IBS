{
 "cells": [
  {
   "cell_type": "code",
   "execution_count": 1,
   "metadata": {
    "collapsed": true
   },
   "outputs": [],
   "source": [
    "import h5py\n",
    "import matplotlib.pyplot as plt\n",
    "import pandas as pd\n",
    "import numpy as np\n",
    "\n",
    "%matplotlib inline"
   ]
  },
  {
   "cell_type": "markdown",
   "metadata": {},
   "source": [
    "# This work is only for one subject. "
   ]
  },
  {
   "cell_type": "code",
   "execution_count": 2,
   "metadata": {
    "collapsed": true
   },
   "outputs": [],
   "source": [
    "def changeFormat(fPath):\n",
    "    f = h5py.File(fPath)\n",
    "    return f"
   ]
  },
  {
   "cell_type": "code",
   "execution_count": 3,
   "metadata": {
    "collapsed": true
   },
   "outputs": [],
   "source": [
    "#you can change the path here\n",
    "f = changeFormat(\"Dataset/VPsaj.mat\")"
   ]
  },
  {
   "cell_type": "code",
   "execution_count": 15,
   "metadata": {},
   "outputs": [
    {
     "data": {
      "text/plain": [
       "['#refs#', 'cnt', 'mnt', 'mrk']"
      ]
     },
     "execution_count": 15,
     "metadata": {},
     "output_type": "execute_result"
    }
   ],
   "source": [
    "list(f)"
   ]
  },
  {
   "cell_type": "markdown",
   "metadata": {},
   "source": [
    "##  #refs# is used by the h5py reference objects."
   ]
  },
  {
   "cell_type": "markdown",
   "metadata": {},
   "source": [
    "## mnt (electrode positions): "
   ]
  },
  {
   "cell_type": "markdown",
   "metadata": {},
   "source": [
    "#### ps: not very important, it is just for plotting the position of each electrode."
   ]
  },
  {
   "cell_type": "code",
   "execution_count": 23,
   "metadata": {},
   "outputs": [
    {
     "data": {
      "text/plain": [
       "['box', 'box_sz', 'clab', 'pos_3d', 'scale_box', 'scale_box_sz', 'x', 'y']"
      ]
     },
     "execution_count": 23,
     "metadata": {},
     "output_type": "execute_result"
    }
   ],
   "source": [
    "list(f['mnt'])"
   ]
  },
  {
   "cell_type": "code",
   "execution_count": 174,
   "metadata": {},
   "outputs": [
    {
     "data": {
      "image/png": "[encoded data removed]",
      "text/plain": [
       "<matplotlib.figure.Figure at 0x1d998ce1908>"
      ]
     },
     "metadata": {},
     "output_type": "display_data"
    }
   ],
   "source": [
    "plt.plot(f['mnt']['x'], f['mnt']['y'], 'ro')\n",
    "plt.show()"
   ]
  },
  {
   "cell_type": "markdown",
   "metadata": {},
   "source": [
    "## cnt (data):"
   ]
  },
  {
   "cell_type": "code",
   "execution_count": 27,
   "metadata": {},
   "outputs": [
    {
     "data": {
      "text/plain": [
       "['T', 'clab', 'file', 'fs', 'title', 'x']"
      ]
     },
     "execution_count": 27,
     "metadata": {},
     "output_type": "execute_result"
    }
   ],
   "source": [
    "list(f['cnt'])"
   ]
  },
  {
   "cell_type": "code",
   "execution_count": 85,
   "metadata": {},
   "outputs": [
    {
     "data": {
      "text/plain": [
       "array([[ 539974.],\n",
       "       [ 539992.],\n",
       "       [ 539974.]])"
      ]
     },
     "execution_count": 85,
     "metadata": {},
     "output_type": "execute_result"
    }
   ],
   "source": [
    "#unknown yet\n",
    "#the three 45 mins blocks (not sure)\n",
    "f['cnt']['T'][:]"
   ]
  },
  {
   "cell_type": "markdown",
   "metadata": {},
   "source": [
    "###  clab is the electrode names:"
   ]
  },
  {
   "cell_type": "code",
   "execution_count": 78,
   "metadata": {},
   "outputs": [
    {
     "data": {
      "text/plain": [
       "<HDF5 dataset \"clab\": shape (69, 1), type \"|O\">"
      ]
     },
     "execution_count": 78,
     "metadata": {},
     "output_type": "execute_result"
    }
   ],
   "source": [
    "#channel labels, it represents th ascii of the chars\n",
    "f['cnt']['clab']"
   ]
  },
  {
   "cell_type": "code",
   "execution_count": 152,
   "metadata": {},
   "outputs": [
    {
     "data": {
      "text/plain": [
       "<HDF5 object reference>"
      ]
     },
     "execution_count": 152,
     "metadata": {},
     "output_type": "execute_result"
    }
   ],
   "source": [
    "f['cnt']['clab'][0][0]"
   ]
  },
  {
   "cell_type": "code",
   "execution_count": 247,
   "metadata": {},
   "outputs": [
    {
     "data": {
      "text/plain": [
       "array([[79],\n",
       "       [49]], dtype=uint16)"
      ]
     },
     "execution_count": 247,
     "metadata": {},
     "output_type": "execute_result"
    }
   ],
   "source": [
    "f[h5py.h5r.get_name(f['cnt']['clab'][58][0], f.id)].value"
   ]
  },
  {
   "cell_type": "code",
   "execution_count": 9,
   "metadata": {
    "collapsed": true
   },
   "outputs": [],
   "source": [
    "def channel_labels():\n",
    "    channels = []\n",
    "    for i in range(69):\n",
    "        l = len(f[h5py.h5r.get_name(f['cnt']['clab'][i][0], f.id)].value)\n",
    "        channel = ''\n",
    "        for j in range(l):\n",
    "            channel += chr(f[h5py.h5r.get_name(f['cnt']['clab'][i][0], f.id)].value[j])\n",
    "        #print(str(i) + ', ' + channel)\n",
    "        channels.append(channel)\n",
    "    return channels"
   ]
  },
  {
   "cell_type": "code",
   "execution_count": 10,
   "metadata": {
    "collapsed": true
   },
   "outputs": [],
   "source": [
    "channels = channel_labels()"
   ]
  },
  {
   "cell_type": "code",
   "execution_count": 11,
   "metadata": {
    "collapsed": true
   },
   "outputs": [],
   "source": [
    "df = pd.DataFrame(columns = channels)"
   ]
  },
  {
   "cell_type": "code",
   "execution_count": 12,
   "metadata": {},
   "outputs": [
    {
     "data": {
      "text/html": [
       "<div>\n",
       "<style>\n",
       "    .dataframe thead tr:only-child th {\n",
       "        text-align: right;\n",
       "    }\n",
       "\n",
       "    .dataframe thead th {\n",
       "        text-align: left;\n",
       "    }\n",
       "\n",
       "    .dataframe tbody tr th {\n",
       "        vertical-align: top;\n",
       "    }\n",
       "</style>\n",
       "<table border=\"1\" class=\"dataframe\">\n",
       "  <thead>\n",
       "    <tr style=\"text-align: right;\">\n",
       "      <th></th>\n",
       "      <th>EOGv</th>\n",
       "      <th>Fp1</th>\n",
       "      <th>Fp2</th>\n",
       "      <th>AF3</th>\n",
       "      <th>AF4</th>\n",
       "      <th>EOGh</th>\n",
       "      <th>F7</th>\n",
       "      <th>F5</th>\n",
       "      <th>F3</th>\n",
       "      <th>F1</th>\n",
       "      <th>...</th>\n",
       "      <th>Oz</th>\n",
       "      <th>O2</th>\n",
       "      <th>EMGf</th>\n",
       "      <th>lead_gas</th>\n",
       "      <th>lead_brake</th>\n",
       "      <th>dist_to_lead</th>\n",
       "      <th>wheel_X</th>\n",
       "      <th>wheel_Y</th>\n",
       "      <th>gas</th>\n",
       "      <th>brake</th>\n",
       "    </tr>\n",
       "  </thead>\n",
       "  <tbody>\n",
       "  </tbody>\n",
       "</table>\n",
       "<p>0 rows × 69 columns</p>\n",
       "</div>"
      ],
      "text/plain": [
       "Empty DataFrame\n",
       "Columns: [EOGv, Fp1, Fp2, AF3, AF4, EOGh, F7, F5, F3, F1, Fz, F2, F4, F6, F8, FT7, FC5, FC3, FC1, FCz, FC2, FC4, FC6, FT8, T7, C5, C3, C1, Cz, C2, C4, C6, T8, TP7, CP5, CP3, CP1, CPz, CP2, CP4, CP6, TP8, P9, P7, P5, P3, P1, Pz, P2, P4, P6, P8, P10, PO7, PO3, POz, PO4, PO8, O1, Oz, O2, EMGf, lead_gas, lead_brake, dist_to_lead, wheel_X, wheel_Y, gas, brake]\n",
       "Index: []\n",
       "\n",
       "[0 rows x 69 columns]"
      ]
     },
     "execution_count": 12,
     "metadata": {},
     "output_type": "execute_result"
    }
   ],
   "source": [
    "df"
   ]
  },
  {
   "cell_type": "markdown",
   "metadata": {},
   "source": [
    "### file is just file name:"
   ]
  },
  {
   "cell_type": "code",
   "execution_count": 194,
   "metadata": {},
   "outputs": [
    {
     "data": {
      "text/plain": [
       "<HDF5 dataset \"file\": shape (9, 1), type \"<u2\">"
      ]
     },
     "execution_count": 194,
     "metadata": {},
     "output_type": "execute_result"
    }
   ],
   "source": [
    "f['cnt']['file']"
   ]
  },
  {
   "cell_type": "code",
   "execution_count": 195,
   "metadata": {},
   "outputs": [
    {
     "name": "stdout",
     "output_type": "stream",
     "text": [
      "VPsaj.mat\n"
     ]
    }
   ],
   "source": [
    "file = ''\n",
    "for i in range(9):\n",
    "    file += chr(f['cnt']['file'][i])\n",
    "print(file)"
   ]
  },
  {
   "cell_type": "markdown",
   "metadata": {},
   "source": [
    "### fs is sampling rate:"
   ]
  },
  {
   "cell_type": "code",
   "execution_count": 108,
   "metadata": {},
   "outputs": [
    {
     "data": {
      "text/plain": [
       "array([[ 200.]])"
      ]
     },
     "execution_count": 108,
     "metadata": {},
     "output_type": "execute_result"
    }
   ],
   "source": [
    "f['cnt']['fs'][:]"
   ]
  },
  {
   "cell_type": "markdown",
   "metadata": {},
   "source": [
    "### title:"
   ]
  },
  {
   "cell_type": "code",
   "execution_count": 190,
   "metadata": {},
   "outputs": [
    {
     "name": "stdout",
     "output_type": "stream",
     "text": [
      "emergency braking VPsaj\n"
     ]
    }
   ],
   "source": [
    "title = ''\n",
    "for i in range(23):\n",
    "    title += chr(f['cnt']['title'][i])\n",
    "print(title)"
   ]
  },
  {
   "cell_type": "markdown",
   "metadata": {},
   "source": [
    "### x is continuous multivariate data:"
   ]
  },
  {
   "cell_type": "code",
   "execution_count": 92,
   "metadata": {},
   "outputs": [
    {
     "data": {
      "text/plain": [
       "<HDF5 dataset \"x\": shape (69, 1619940), type \"<f8\">"
      ]
     },
     "execution_count": 92,
     "metadata": {},
     "output_type": "execute_result"
    }
   ],
   "source": [
    "f['cnt']['x']"
   ]
  },
  {
   "cell_type": "code",
   "execution_count": 13,
   "metadata": {
    "collapsed": true
   },
   "outputs": [],
   "source": [
    "def dataFrame_fill():\n",
    "    for i in range(len(df.columns)):\n",
    "        df[df.columns[i]] = f['cnt']['x'][i]"
   ]
  },
  {
   "cell_type": "code",
   "execution_count": 14,
   "metadata": {
    "collapsed": true
   },
   "outputs": [],
   "source": [
    "dataFrame_fill()"
   ]
  },
  {
   "cell_type": "code",
   "execution_count": 15,
   "metadata": {},
   "outputs": [
    {
     "data": {
      "text/html": [
       "<div>\n",
       "<style>\n",
       "    .dataframe thead tr:only-child th {\n",
       "        text-align: right;\n",
       "    }\n",
       "\n",
       "    .dataframe thead th {\n",
       "        text-align: left;\n",
       "    }\n",
       "\n",
       "    .dataframe tbody tr th {\n",
       "        vertical-align: top;\n",
       "    }\n",
       "</style>\n",
       "<table border=\"1\" class=\"dataframe\">\n",
       "  <thead>\n",
       "    <tr style=\"text-align: right;\">\n",
       "      <th></th>\n",
       "      <th>EOGv</th>\n",
       "      <th>Fp1</th>\n",
       "      <th>Fp2</th>\n",
       "      <th>AF3</th>\n",
       "      <th>AF4</th>\n",
       "      <th>EOGh</th>\n",
       "      <th>F7</th>\n",
       "      <th>F5</th>\n",
       "      <th>F3</th>\n",
       "      <th>F1</th>\n",
       "      <th>...</th>\n",
       "      <th>Oz</th>\n",
       "      <th>O2</th>\n",
       "      <th>EMGf</th>\n",
       "      <th>lead_gas</th>\n",
       "      <th>lead_brake</th>\n",
       "      <th>dist_to_lead</th>\n",
       "      <th>wheel_X</th>\n",
       "      <th>wheel_Y</th>\n",
       "      <th>gas</th>\n",
       "      <th>brake</th>\n",
       "    </tr>\n",
       "  </thead>\n",
       "  <tbody>\n",
       "    <tr>\n",
       "      <th>0</th>\n",
       "      <td>0.629904</td>\n",
       "      <td>-1.648735</td>\n",
       "      <td>-1.802094</td>\n",
       "      <td>-1.905543</td>\n",
       "      <td>-1.904026</td>\n",
       "      <td>-1.078397</td>\n",
       "      <td>-1.901450</td>\n",
       "      <td>-1.829971</td>\n",
       "      <td>-2.004213</td>\n",
       "      <td>-1.702436</td>\n",
       "      <td>...</td>\n",
       "      <td>-1.460199</td>\n",
       "      <td>-1.774708</td>\n",
       "      <td>7.291278</td>\n",
       "      <td>0.0</td>\n",
       "      <td>0.0</td>\n",
       "      <td>0.0</td>\n",
       "      <td>0.0</td>\n",
       "      <td>0.0</td>\n",
       "      <td>0.0</td>\n",
       "      <td>-0.000111</td>\n",
       "    </tr>\n",
       "    <tr>\n",
       "      <th>1</th>\n",
       "      <td>2.519615</td>\n",
       "      <td>-7.269421</td>\n",
       "      <td>-8.309656</td>\n",
       "      <td>-8.524799</td>\n",
       "      <td>-8.518012</td>\n",
       "      <td>-4.583189</td>\n",
       "      <td>-8.106180</td>\n",
       "      <td>-7.908090</td>\n",
       "      <td>-9.018957</td>\n",
       "      <td>-7.811177</td>\n",
       "      <td>...</td>\n",
       "      <td>-6.205844</td>\n",
       "      <td>-7.986184</td>\n",
       "      <td>6.456735</td>\n",
       "      <td>0.0</td>\n",
       "      <td>0.0</td>\n",
       "      <td>0.0</td>\n",
       "      <td>0.0</td>\n",
       "      <td>0.0</td>\n",
       "      <td>0.0</td>\n",
       "      <td>-0.000266</td>\n",
       "    </tr>\n",
       "    <tr>\n",
       "      <th>2</th>\n",
       "      <td>6.676981</td>\n",
       "      <td>-18.435850</td>\n",
       "      <td>-22.125712</td>\n",
       "      <td>-22.164476</td>\n",
       "      <td>-22.046619</td>\n",
       "      <td>-11.233306</td>\n",
       "      <td>-20.815871</td>\n",
       "      <td>-20.195039</td>\n",
       "      <td>-23.349077</td>\n",
       "      <td>-20.329089</td>\n",
       "      <td>...</td>\n",
       "      <td>-15.879659</td>\n",
       "      <td>-20.941550</td>\n",
       "      <td>36.500316</td>\n",
       "      <td>0.0</td>\n",
       "      <td>0.0</td>\n",
       "      <td>0.0</td>\n",
       "      <td>0.0</td>\n",
       "      <td>0.0</td>\n",
       "      <td>0.0</td>\n",
       "      <td>0.000244</td>\n",
       "    </tr>\n",
       "    <tr>\n",
       "      <th>3</th>\n",
       "      <td>11.968173</td>\n",
       "      <td>-32.899749</td>\n",
       "      <td>-41.448166</td>\n",
       "      <td>-40.718450</td>\n",
       "      <td>-40.485609</td>\n",
       "      <td>-19.411152</td>\n",
       "      <td>-37.728766</td>\n",
       "      <td>-36.338000</td>\n",
       "      <td>-42.589518</td>\n",
       "      <td>-37.053020</td>\n",
       "      <td>...</td>\n",
       "      <td>-28.656396</td>\n",
       "      <td>-38.925255</td>\n",
       "      <td>4.304490</td>\n",
       "      <td>0.0</td>\n",
       "      <td>0.0</td>\n",
       "      <td>0.0</td>\n",
       "      <td>0.0</td>\n",
       "      <td>0.0</td>\n",
       "      <td>0.0</td>\n",
       "      <td>-0.000133</td>\n",
       "    </tr>\n",
       "  </tbody>\n",
       "</table>\n",
       "<p>4 rows × 69 columns</p>\n",
       "</div>"
      ],
      "text/plain": [
       "        EOGv        Fp1        Fp2        AF3        AF4       EOGh  \\\n",
       "0   0.629904  -1.648735  -1.802094  -1.905543  -1.904026  -1.078397   \n",
       "1   2.519615  -7.269421  -8.309656  -8.524799  -8.518012  -4.583189   \n",
       "2   6.676981 -18.435850 -22.125712 -22.164476 -22.046619 -11.233306   \n",
       "3  11.968173 -32.899749 -41.448166 -40.718450 -40.485609 -19.411152   \n",
       "\n",
       "          F7         F5         F3         F1    ...            Oz         O2  \\\n",
       "0  -1.901450  -1.829971  -2.004213  -1.702436    ...     -1.460199  -1.774708   \n",
       "1  -8.106180  -7.908090  -9.018957  -7.811177    ...     -6.205844  -7.986184   \n",
       "2 -20.815871 -20.195039 -23.349077 -20.329089    ...    -15.879659 -20.941550   \n",
       "3 -37.728766 -36.338000 -42.589518 -37.053020    ...    -28.656396 -38.925255   \n",
       "\n",
       "        EMGf  lead_gas  lead_brake  dist_to_lead  wheel_X  wheel_Y  gas  \\\n",
       "0   7.291278       0.0         0.0           0.0      0.0      0.0  0.0   \n",
       "1   6.456735       0.0         0.0           0.0      0.0      0.0  0.0   \n",
       "2  36.500316       0.0         0.0           0.0      0.0      0.0  0.0   \n",
       "3   4.304490       0.0         0.0           0.0      0.0      0.0  0.0   \n",
       "\n",
       "      brake  \n",
       "0 -0.000111  \n",
       "1 -0.000266  \n",
       "2  0.000244  \n",
       "3 -0.000133  \n",
       "\n",
       "[4 rows x 69 columns]"
      ]
     },
     "execution_count": 15,
     "metadata": {},
     "output_type": "execute_result"
    }
   ],
   "source": [
    "#dataframe sample\n",
    "df[0:4]"
   ]
  },
  {
   "cell_type": "code",
   "execution_count": 16,
   "metadata": {},
   "outputs": [
    {
     "data": {
      "text/plain": [
       "(1619940, 69)"
      ]
     },
     "execution_count": 16,
     "metadata": {},
     "output_type": "execute_result"
    }
   ],
   "source": [
    "df.shape"
   ]
  },
  {
   "cell_type": "markdown",
   "metadata": {},
   "source": [
    "## mrk (braking event):"
   ]
  },
  {
   "cell_type": "code",
   "execution_count": 197,
   "metadata": {},
   "outputs": [
    {
     "data": {
      "text/plain": [
       "['className', 'event', 'time', 'y']"
      ]
     },
     "execution_count": 197,
     "metadata": {},
     "output_type": "execute_result"
    }
   ],
   "source": [
    "list(f['mrk'])"
   ]
  },
  {
   "cell_type": "markdown",
   "metadata": {},
   "source": [
    "### ClassName:"
   ]
  },
  {
   "cell_type": "code",
   "execution_count": 203,
   "metadata": {},
   "outputs": [
    {
     "data": {
      "text/plain": [
       "<HDF5 object reference>"
      ]
     },
     "execution_count": 203,
     "metadata": {},
     "output_type": "execute_result"
    }
   ],
   "source": [
    "f['mrk']['className'][0][0]"
   ]
  },
  {
   "cell_type": "code",
   "execution_count": 4,
   "metadata": {
    "collapsed": true
   },
   "outputs": [],
   "source": [
    "def events():\n",
    "    eventsList = []\n",
    "    for i in range(5):\n",
    "        l = len(f[h5py.h5r.get_name(f['mrk']['className'][i][0], f.id)].value)\n",
    "        event = ''\n",
    "        for j in range(l):\n",
    "            event += chr(f[h5py.h5r.get_name(f['mrk']['className'][i][0], f.id)].value[j])\n",
    "        print(str(i) + ', ' + event)\n",
    "        eventsList.append(event)\n",
    "    return eventsList"
   ]
  },
  {
   "cell_type": "code",
   "execution_count": 5,
   "metadata": {},
   "outputs": [
    {
     "name": "stdout",
     "output_type": "stream",
     "text": [
      "0, car_normal\n",
      "1, car_brake\n",
      "2, car_hold\n",
      "3, car_collision\n",
      "4, react_emg\n"
     ]
    }
   ],
   "source": [
    "eventsList = events()"
   ]
  },
  {
   "cell_type": "markdown",
   "metadata": {},
   "source": [
    "### event: the time between car_brake and react_emg"
   ]
  },
  {
   "cell_type": "code",
   "execution_count": 210,
   "metadata": {},
   "outputs": [
    {
     "data": {
      "text/plain": [
       "<HDF5 dataset \"react\": shape (1, 1146), type \"<f8\">"
      ]
     },
     "execution_count": 210,
     "metadata": {},
     "output_type": "execute_result"
    }
   ],
   "source": [
    "f['mrk']['event']['react']"
   ]
  },
  {
   "cell_type": "markdown",
   "metadata": {},
   "source": [
    "### time: timestamp for each event in milliseconds"
   ]
  },
  {
   "cell_type": "code",
   "execution_count": 211,
   "metadata": {},
   "outputs": [
    {
     "data": {
      "text/plain": [
       "<HDF5 dataset \"time\": shape (1146, 1), type \"<f8\">"
      ]
     },
     "execution_count": 211,
     "metadata": {},
     "output_type": "execute_result"
    }
   ],
   "source": [
    "f['mrk']['time']"
   ]
  },
  {
   "cell_type": "markdown",
   "metadata": {},
   "source": [
    "### y: binary matrix telling which of the five types each event is"
   ]
  },
  {
   "cell_type": "code",
   "execution_count": 212,
   "metadata": {},
   "outputs": [
    {
     "data": {
      "text/plain": [
       "<HDF5 dataset \"y\": shape (1146, 5), type \"<f8\">"
      ]
     },
     "execution_count": 212,
     "metadata": {},
     "output_type": "execute_result"
    }
   ],
   "source": [
    "f['mrk']['y']"
   ]
  },
  {
   "cell_type": "code",
   "execution_count": 6,
   "metadata": {},
   "outputs": [
    {
     "data": {
      "text/plain": [
       "array([ 0.,  1.,  0.,  0.,  0.])"
      ]
     },
     "execution_count": 6,
     "metadata": {},
     "output_type": "execute_result"
    }
   ],
   "source": [
    "f['mrk']['y'][0]"
   ]
  },
  {
   "cell_type": "code",
   "execution_count": 17,
   "metadata": {
    "collapsed": true
   },
   "outputs": [],
   "source": [
    "def addEvents():\n",
    "    y = []\n",
    "    event = []\n",
    "    j = 0\n",
    "    for i in range(df.shape[0]):\n",
    "        if (i == f['mrk']['time'][j]):\n",
    "            evIndex = np.where(f['mrk']['y'][j] == 1)[0][0]\n",
    "            y.append(eventsList[evIndex])\n",
    "            if (evIndex == 4):\n",
    "                event.append(f['mrk']['event']['react'][0][j])\n",
    "            else:\n",
    "                event.append('-')\n",
    "            j += 1\n",
    "        else:\n",
    "            y.append(eventsList[0])\n",
    "            event.append('-')\n",
    "    return y, event"
   ]
  },
  {
   "cell_type": "code",
   "execution_count": 18,
   "metadata": {},
   "outputs": [],
   "source": [
    "y, event = addEvents()"
   ]
  },
  {
   "cell_type": "code",
   "execution_count": 19,
   "metadata": {
    "collapsed": true
   },
   "outputs": [],
   "source": [
    "df['y'] = y\n",
    "df['event'] = event"
   ]
  },
  {
   "cell_type": "code",
   "execution_count": 20,
   "metadata": {},
   "outputs": [
    {
     "data": {
      "text/html": [
       "<div>\n",
       "<style>\n",
       "    .dataframe thead tr:only-child th {\n",
       "        text-align: right;\n",
       "    }\n",
       "\n",
       "    .dataframe thead th {\n",
       "        text-align: left;\n",
       "    }\n",
       "\n",
       "    .dataframe tbody tr th {\n",
       "        vertical-align: top;\n",
       "    }\n",
       "</style>\n",
       "<table border=\"1\" class=\"dataframe\">\n",
       "  <thead>\n",
       "    <tr style=\"text-align: right;\">\n",
       "      <th></th>\n",
       "      <th>EOGv</th>\n",
       "      <th>Fp1</th>\n",
       "      <th>Fp2</th>\n",
       "      <th>AF3</th>\n",
       "      <th>AF4</th>\n",
       "      <th>EOGh</th>\n",
       "      <th>F7</th>\n",
       "      <th>F5</th>\n",
       "      <th>F3</th>\n",
       "      <th>F1</th>\n",
       "      <th>...</th>\n",
       "      <th>EMGf</th>\n",
       "      <th>lead_gas</th>\n",
       "      <th>lead_brake</th>\n",
       "      <th>dist_to_lead</th>\n",
       "      <th>wheel_X</th>\n",
       "      <th>wheel_Y</th>\n",
       "      <th>gas</th>\n",
       "      <th>brake</th>\n",
       "      <th>y</th>\n",
       "      <th>event</th>\n",
       "    </tr>\n",
       "  </thead>\n",
       "  <tbody>\n",
       "    <tr>\n",
       "      <th>26470</th>\n",
       "      <td>25.196154</td>\n",
       "      <td>1.348965</td>\n",
       "      <td>12.814892</td>\n",
       "      <td>-2.607585</td>\n",
       "      <td>7.415681</td>\n",
       "      <td>-4.313589</td>\n",
       "      <td>28.321594</td>\n",
       "      <td>3.398518</td>\n",
       "      <td>-35.674985</td>\n",
       "      <td>-12.417769</td>\n",
       "      <td>...</td>\n",
       "      <td>10.585531</td>\n",
       "      <td>0.105702</td>\n",
       "      <td>0.0</td>\n",
       "      <td>-20.28369</td>\n",
       "      <td>-0.007813</td>\n",
       "      <td>-0.007841</td>\n",
       "      <td>0.088275</td>\n",
       "      <td>0.001839</td>\n",
       "      <td>car_brake</td>\n",
       "      <td>-</td>\n",
       "    </tr>\n",
       "  </tbody>\n",
       "</table>\n",
       "<p>1 rows × 71 columns</p>\n",
       "</div>"
      ],
      "text/plain": [
       "            EOGv       Fp1        Fp2       AF3       AF4      EOGh  \\\n",
       "26470  25.196154  1.348965  12.814892 -2.607585  7.415681 -4.313589   \n",
       "\n",
       "              F7        F5         F3         F1  ...         EMGf  lead_gas  \\\n",
       "26470  28.321594  3.398518 -35.674985 -12.417769  ...    10.585531  0.105702   \n",
       "\n",
       "       lead_brake  dist_to_lead   wheel_X   wheel_Y       gas     brake  \\\n",
       "26470         0.0     -20.28369 -0.007813 -0.007841  0.088275  0.001839   \n",
       "\n",
       "               y  event  \n",
       "26470  car_brake      -  \n",
       "\n",
       "[1 rows x 71 columns]"
      ]
     },
     "execution_count": 20,
     "metadata": {},
     "output_type": "execute_result"
    }
   ],
   "source": [
    "df[26470:26471]"
   ]
  },
  {
   "cell_type": "code",
   "execution_count": null,
   "metadata": {
    "collapsed": true
   },
   "outputs": [],
   "source": []
  }
 ],
 "metadata": {
  "kernelspec": {
   "display_name": "Python 3",
   "language": "python",
   "name": "python3"
  },
  "language_info": {
   "codemirror_mode": {
    "name": "ipython",
    "version": 3
   },
   "file_extension": ".py",
   "mimetype": "text/x-python",
   "name": "python",
   "nbconvert_exporter": "python",
   "pygments_lexer": "ipython3",
   "version": "3.6.1"
  }
 },
 "nbformat": 4,
 "nbformat_minor": 2
}
