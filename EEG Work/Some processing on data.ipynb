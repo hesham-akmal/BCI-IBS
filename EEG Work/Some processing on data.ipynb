{
 "cells": [
  {
   "cell_type": "code",
   "execution_count": 2,
   "metadata": {
    "collapsed": true
   },
   "outputs": [],
   "source": [
    "import pandas as pd\n",
    "import numpy as np\n",
    "import matplotlib.pyplot as plt\n",
    "\n",
    "from sklearn.linear_model import LogisticRegression\n",
    "from sklearn.model_selection import train_test_split\n",
    "from sklearn.utils import shuffle\n",
    "from sklearn.metrics import confusion_matrix\n",
    "from sklearn.decomposition import PCA\n",
    "from sklearn.preprocessing import StandardScaler\n",
    "\n",
    "%matplotlib inline"
   ]
  },
  {
   "cell_type": "code",
   "execution_count": 3,
   "metadata": {
    "collapsed": true
   },
   "outputs": [],
   "source": [
    "def LoadData(negFilePath, posFilePath):\n",
    "    negFileContent = pd.read_csv(negFilePath)\n",
    "    posFileContent = pd.read_csv(posFilePath)\n",
    "    df = negFileContent.append(posFileContent)\n",
    "    df = shuffle(df)\n",
    "    del negFileContent\n",
    "    del posFileContent\n",
    "    return df"
   ]
  },
  {
   "cell_type": "code",
   "execution_count": 4,
   "metadata": {
    "collapsed": true
   },
   "outputs": [],
   "source": [
    "def SplitData(df):\n",
    "    # get features and labels\n",
    "    featuresColumns = df.columns[0:len(df.columns) - 1]\n",
    "    lablesColumn = df.columns[len(df.columns) - 1]\n",
    "    trainingFeaturesX = df.loc[:, featuresColumns]\n",
    "    trainingLabely = df.loc[:, lablesColumn]\n",
    "    # split the data into training and test\n",
    "    traningFeatures, testFeatures, trainingLabels, actualResults = train_test_split(trainingFeaturesX, trainingLabely,test_size=0.33, random_state=42)\n",
    "    return traningFeatures, testFeatures, trainingLabels, actualResults"
   ]
  },
  {
   "cell_type": "code",
   "execution_count": 5,
   "metadata": {
    "collapsed": true
   },
   "outputs": [],
   "source": [
    "def classify(X_train, Y_train, X_test, Y_test):\n",
    "    classifier = LogisticRegression()\n",
    "    classifier.fit(X_train, Y_train)\n",
    "    Y_pred = classifier.predict(X_test)\n",
    "    cm = confusion_matrix(Y_test, Y_pred)                \n",
    "    print \"Logistic Regression\"\n",
    "    print cm\n",
    "        \n",
    "    fig = plt.figure()\n",
    "    ax = fig.add_subplot(111)\n",
    "    cax = ax.matshow(cm)\n",
    "    plt.title('Confusion matrix of the classifier')\n",
    "    fig.colorbar(cax)\n",
    "    labels= ['break signal', 'no break signal']\n",
    "    ax.set_xticklabels([''] + labels)\n",
    "    ax.set_yticklabels([''] + labels)\n",
    "    plt.xlabel('Predicted')\n",
    "    plt.ylabel('True')\n",
    "    plt.show()"
   ]
  },
  {
   "cell_type": "markdown",
   "metadata": {},
   "source": [
    "Load data of 1 subject (VPae) from 2; positive and negative files, into 1 dataframe"
   ]
  },
  {
   "cell_type": "code",
   "execution_count": 6,
   "metadata": {
    "collapsed": true
   },
   "outputs": [],
   "source": [
    "df = LoadData(\"csv/negVPae.csv\", \"csv/posVPae.csv\")"
   ]
  },
  {
   "cell_type": "markdown",
   "metadata": {},
   "source": [
    "Removing columns that were not used in the paper (https://www.frontiersin.org/articles/10.3389/fninf.2018.00029/full?fbclid=IwAR3kXD7YAUnxuhdfnd1hHKIdI6IFY5__7vKqVjZFhwARO7me_-nRVC_Rbkc_) leaving only 7 electrodes which are : F3, F4, C3, Cz, C4, P3, P4 Note: In our headset we only have F3 and F4 electrodes"
   ]
  },
  {
   "cell_type": "code",
   "execution_count": 7,
   "metadata": {
    "collapsed": true
   },
   "outputs": [],
   "source": [
    "df.drop(df.columns[0:1800], axis=1, inplace=True)\n",
    "df.drop(df.columns[300:1200], axis=1, inplace=True)\n",
    "df.drop(df.columns[600:4500], axis=1, inplace=True)\n",
    "df.drop(df.columns[900:1200], axis=1, inplace=True)\n",
    "df.drop(df.columns[1200:1500], axis=1, inplace=True)\n",
    "df.drop(df.columns[1500:5700], axis=1, inplace=True)\n",
    "df.drop(df.columns[1800:2700], axis=1, inplace=True)\n",
    "df.drop(df.columns[2100:len(df.columns) - 1], axis=1, inplace=True)"
   ]
  },
  {
   "cell_type": "code",
   "execution_count": 8,
   "metadata": {
    "collapsed": true
   },
   "outputs": [],
   "source": [
    "traningFeatures, testFeatures, trainingLabels, actualResults = SplitData(df)"
   ]
  },
  {
   "cell_type": "code",
   "execution_count": 9,
   "metadata": {
    "collapsed": false,
    "scrolled": true
   },
   "outputs": [
    {
     "name": "stdout",
     "output_type": "stream",
     "text": [
      "Logistic Regression\n",
      "[[  40   39]\n",
      " [ 165 1412]]\n"
     ]
    },
    {
     "data": {
      "image/png": "[encoded data removed]",
      "text/plain": [
       "<matplotlib.figure.Figure at 0x5a84cc0>"
      ]
     },
     "metadata": {},
     "output_type": "display_data"
    }
   ],
   "source": [
    "dictModels = classify(traningFeatures, trainingLabels, testFeatures, actualResults)"
   ]
  },
  {
   "cell_type": "markdown",
   "metadata": {},
   "source": [
    "# After standardizing the data in the cells below then applying PCA the result is worse, The classifier classified all instances as no brake (normal events) and totally neglected breaking events"
   ]
  },
  {
   "cell_type": "code",
   "execution_count": 10,
   "metadata": {
    "collapsed": true
   },
   "outputs": [],
   "source": [
    "scaler = StandardScaler()\n",
    "\n",
    "# Fit on training set only.\n",
    "scaler.fit(traningFeatures)\n",
    "\n",
    "# Apply transform to both the training set and the test set.\n",
    "train_img = scaler.transform(traningFeatures)\n",
    "test_img = scaler.transform(testFeatures)"
   ]
  },
  {
   "cell_type": "code",
   "execution_count": 11,
   "metadata": {
    "collapsed": true
   },
   "outputs": [],
   "source": [
    "pca = PCA(.95)\n",
    "pca.fit(train_img)\n",
    "PCA_training_features = pca.transform(train_img)\n",
    "PCA_testing_features = pca.transform(test_img)"
   ]
  },
  {
   "cell_type": "code",
   "execution_count": 12,
   "metadata": {
    "collapsed": false
   },
   "outputs": [
    {
     "name": "stdout",
     "output_type": "stream",
     "text": [
      "Logistic Regression\n",
      "[[   0   79]\n",
      " [   0 1577]]\n"
     ]
    },
    {
     "data": {
      "image/png": "[encoded data removed]",
      "text/plain": [
       "<matplotlib.figure.Figure at 0xca2b710>"
      ]
     },
     "metadata": {},
     "output_type": "display_data"
    }
   ],
   "source": [
    "dictModels2 = classify(PCA_training_features, trainingLabels, PCA_testing_features, actualResults)"
   ]
  },
  {
   "cell_type": "markdown",
   "metadata": {},
   "source": [
    "Under sampling unsuccessful trials. I guess we need to do this on the original data"
   ]
  },
  {
   "cell_type": "code",
   "execution_count": 20,
   "metadata": {
    "collapsed": false
   },
   "outputs": [],
   "source": [
    "# Class count\n",
    "count_class_0, count_class_1 = trainingLabels.value_counts()\n",
    "\n",
    "# Divide by class\n",
    "df_class_0 = traningFeatures[trainingLabels == 'normal']\n",
    "df_class_1 = traningFeatures[trainingLabels == 'brake']"
   ]
  },
  {
   "cell_type": "code",
   "execution_count": 21,
   "metadata": {
    "collapsed": false,
    "scrolled": true
   },
   "outputs": [],
   "source": [
    "df_class_0_under = df_class_0.sample(count_class_1)\n",
    "df_test_under = pd.concat([df_class_0_under, df_class_1], axis=0)"
   ]
  },
  {
   "cell_type": "code",
   "execution_count": 24,
   "metadata": {
    "collapsed": false
   },
   "outputs": [
    {
     "name": "stdout",
     "output_type": "stream",
     "text": [
      "(246, 2100)\n"
     ]
    }
   ],
   "source": [
    "print df_test_under.shape"
   ]
  },
  {
   "cell_type": "code",
   "execution_count": 26,
   "metadata": {
    "collapsed": false
   },
   "outputs": [
    {
     "data": {
      "text/plain": [
       "(3238, 2100)"
      ]
     },
     "execution_count": 26,
     "metadata": {},
     "output_type": "execute_result"
    }
   ],
   "source": [
    "traningFeatures[trainingLabels == 'normal'].shape\n"
   ]
  },
  {
   "cell_type": "code",
   "execution_count": 27,
   "metadata": {
    "collapsed": false,
    "scrolled": true
   },
   "outputs": [
    {
     "data": {
      "text/plain": [
       "(123, 2100)"
      ]
     },
     "execution_count": 27,
     "metadata": {},
     "output_type": "execute_result"
    }
   ],
   "source": [
    "traningFeatures[trainingLabels == 'brake'].shape"
   ]
  },
  {
   "cell_type": "code",
   "execution_count": null,
   "metadata": {
    "collapsed": true
   },
   "outputs": [],
   "source": []
  }
 ],
 "metadata": {
  "kernelspec": {
   "display_name": "py36-test",
   "language": "python",
   "name": "py36-test"
  },
  "language_info": {
   "codemirror_mode": {
    "name": "ipython",
    "version": 2
   },
   "file_extension": ".py",
   "mimetype": "text/x-python",
   "name": "python",
   "nbconvert_exporter": "python",
   "pygments_lexer": "ipython2",
   "version": "2.7.14"
  }
 },
 "nbformat": 4,
 "nbformat_minor": 0
}
