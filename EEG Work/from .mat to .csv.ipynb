{
 "cells": [
  {
   "cell_type": "code",
   "execution_count": null,
   "metadata": {},
   "outputs": [],
   "source": [
    "import h5py\n",
    "import matplotlib.pyplot as plt\n",
    "import pandas as pd\n",
    "import numpy as np\n",
    "import os\n",
    "import gc\n",
    "#import minpy.numpy as np\n",
    "from minpy.context import gpu\n",
    "\n",
    "%matplotlib inline"
   ]
  },
  {
   "cell_type": "code",
   "execution_count": null,
   "metadata": {
    "collapsed": true
   },
   "outputs": [],
   "source": [
    "def upload_all_files(dirName):\n",
    "    files = []\n",
    "    directory = os.fsencode(dirName)\n",
    "    for file in os.listdir(directory):\n",
    "        filename = os.fsdecode(file)\n",
    "        f = h5py.File(dirName + '/' + filename)\n",
    "        files.append(f)\n",
    "    return files"
   ]
  },
  {
   "cell_type": "code",
   "execution_count": null,
   "metadata": {
    "collapsed": true
   },
   "outputs": [],
   "source": [
    "files = upload_all_files(\"Dataset\")"
   ]
  },
  {
   "cell_type": "code",
   "execution_count": null,
   "metadata": {
    "collapsed": true
   },
   "outputs": [],
   "source": [
    "def upload_file(fPath):\n",
    "    f = h5py.File(fPath)\n",
    "    return f"
   ]
  },
  {
   "cell_type": "code",
   "execution_count": null,
   "metadata": {
    "collapsed": true
   },
   "outputs": [],
   "source": [
    "def channel_labels():\n",
    "    channels = []\n",
    "    f = files[0]\n",
    "    for i in range(69):\n",
    "        l = len(f[h5py.h5r.get_name(f['cnt']['clab'][i][0], f.id)].value)\n",
    "        channel = ''\n",
    "        for j in range(l):\n",
    "            channel += chr(f[h5py.h5r.get_name(f['cnt']['clab'][i][0], f.id)].value[j])\n",
    "        #print(str(i) + ', ' + channel)\n",
    "        channels.append(channel)\n",
    "    return channels"
   ]
  },
  {
   "cell_type": "code",
   "execution_count": null,
   "metadata": {
    "collapsed": true
   },
   "outputs": [],
   "source": [
    "channels = channel_labels()"
   ]
  },
  {
   "cell_type": "code",
   "execution_count": null,
   "metadata": {
    "collapsed": true
   },
   "outputs": [],
   "source": [
    "def dataframe_fill(df, j):\n",
    "    for i in range(len(df.columns)):\n",
    "        df[df.columns[i]] = files[j]['cnt']['x'][i]\n",
    "    return df"
   ]
  },
  {
   "cell_type": "code",
   "execution_count": null,
   "metadata": {
    "collapsed": true
   },
   "outputs": [],
   "source": [
    "def files_to_dfs():\n",
    "    dfs = []\n",
    "    for i in range(len(files)):\n",
    "        dfs.append(pd.DataFrame(columns = channels))\n",
    "        dataframe_fill(dfs[i], i)\n",
    "        print(i)\n",
    "    return dfs"
   ]
  },
  {
   "cell_type": "code",
   "execution_count": null,
   "metadata": {
    "collapsed": true
   },
   "outputs": [],
   "source": [
    "dfs = files_to_dfs()"
   ]
  },
  {
   "cell_type": "code",
   "execution_count": null,
   "metadata": {
    "collapsed": true
   },
   "outputs": [],
   "source": [
    "def drop_cols():\n",
    "    for i in range(len(dfs)):\n",
    "        cols = [0, 5, 61, 62, 63, 64, 65, 66, 67, 68]\n",
    "        dfs[i].drop(dfs[i].columns[cols], axis=1, inplace=True)"
   ]
  },
  {
   "cell_type": "code",
   "execution_count": null,
   "metadata": {
    "collapsed": true
   },
   "outputs": [],
   "source": [
    "def events():\n",
    "    eventsList = []\n",
    "    for i in range(5):\n",
    "        l = len(files[0][h5py.h5r.get_name(files[0]['mrk']['className'][i][0], files[0].id)].value)\n",
    "        event = ''\n",
    "        for j in range(l):\n",
    "            event += chr(files[0][h5py.h5r.get_name(files[0]['mrk']['className'][i][0], files[0].id)].value[j])\n",
    "        print(str(i) + ', ' + event)\n",
    "        eventsList.append(event)\n",
    "    return eventsList"
   ]
  },
  {
   "cell_type": "code",
   "execution_count": null,
   "metadata": {
    "collapsed": true
   },
   "outputs": [],
   "source": [
    "eventsList = events()"
   ]
  },
  {
   "cell_type": "code",
   "execution_count": null,
   "metadata": {
    "collapsed": true
   },
   "outputs": [],
   "source": [
    "def events_to_lists():\n",
    "    ys = []\n",
    "    for j in range(len(files)):\n",
    "        ys.append([])\n",
    "        for i in range(files[j]['mrk']['y'].shape[0]):\n",
    "            evIndex = np.where(files[j]['mrk']['y'][i] == 1)[0][0]\n",
    "            ys[j].append(eventsList[evIndex])\n",
    "    return ys"
   ]
  },
  {
   "cell_type": "code",
   "execution_count": null,
   "metadata": {
    "collapsed": true
   },
   "outputs": [],
   "source": [
    "ys = events_to_lists()"
   ]
  },
  {
   "cell_type": "code",
   "execution_count": null,
   "metadata": {
    "collapsed": true
   },
   "outputs": [],
   "source": [
    "def timestamp_list():\n",
    "    stamps = []\n",
    "    for j in range (len(files)):\n",
    "        stamps.append([])\n",
    "        for i in range(len(files[j]['mrk']['time'])):\n",
    "            stamps[j].append(files[j]['mrk']['time'][i][0])\n",
    "    return stamps"
   ]
  },
  {
   "cell_type": "code",
   "execution_count": null,
   "metadata": {
    "collapsed": true
   },
   "outputs": [],
   "source": [
    "stamps = timestamp_list()"
   ]
  },
  {
   "cell_type": "code",
   "execution_count": null,
   "metadata": {
    "collapsed": true
   },
   "outputs": [],
   "source": [
    "def reacts_list():\n",
    "    reacts = []\n",
    "    for j in range (len(files)):\n",
    "        reacts.append([])\n",
    "        for i in range(len(files[j]['mrk']['event']['react'][0])):\n",
    "            reacts[j].append(files[j]['mrk']['event']['react'][0][i])\n",
    "    return reacts"
   ]
  },
  {
   "cell_type": "code",
   "execution_count": null,
   "metadata": {
    "collapsed": true
   },
   "outputs": [],
   "source": [
    "reacts = reacts_list()"
   ]
  },
  {
   "cell_type": "code",
   "execution_count": null,
   "metadata": {
    "collapsed": true
   },
   "outputs": [],
   "source": [
    "def make_columns():\n",
    "    newCols = []\n",
    "    for col in dfs[0].columns:\n",
    "        for i in range(300):\n",
    "            newCols.append(col + '.' + str(i))\n",
    "    newCols.append('y')\n",
    "    return newCols"
   ]
  },
  {
   "cell_type": "code",
   "execution_count": null,
   "metadata": {
    "collapsed": true
   },
   "outputs": [],
   "source": [
    "newCols = make_columns()"
   ]
  },
  {
   "cell_type": "code",
   "execution_count": null,
   "metadata": {
    "collapsed": true
   },
   "outputs": [],
   "source": [
    "def positive_events():\n",
    "    #positive events\n",
    "    #3oo cols for each electrode\n",
    "    posDfs = []\n",
    "    for i in range(len(dfs)):\n",
    "        print(\"i: \" + str(i))\n",
    "        posDfs.append(pd.DataFrame(columns = newCols))\n",
    "        for j in range (len(stamps[i])):\n",
    "            if (ys[i][j] == \"react_emg\"):\n",
    "                car_brake = int((stamps[i][j] - reacts[i][j])*0.2)\n",
    "                if (car_brake+300 < len(dfs[i])):\n",
    "                    posDfs[i].loc[len(posDfs[i])] = convert_to_row(car_brake, i, \"brake\")\n",
    "                    #print(j)\n",
    "        print(\"length= \" + str(len(posDfs[i])))\n",
    "    return posDfs   "
   ]
  },
  {
   "cell_type": "code",
   "execution_count": null,
   "metadata": {
    "collapsed": true
   },
   "outputs": [],
   "source": [
    "def add_negative_events(i):\n",
    "    negDf = pd.DataFrame(columns = newCols)\n",
    "    print(\"i:  \" + str(i))\n",
    "    j = 0\n",
    "    k = 0\n",
    "    while(k < len(dfs[i])-300):\n",
    "        if (j == len(stamps[i]) or (stamps[i][j]*0.2 - k > 300 and ys[i][j] == \"car_brake\")):\n",
    "            negDf.loc[len(negDf)] = convert_to_row(int(k), i, \"normal\")\n",
    "            print(k)\n",
    "            k += 300\n",
    "        else:\n",
    "            k = stamps[i][j]*0.2 + 600\n",
    "            j += 1\n",
    "            while(j < len(stamps[i]) and ys[i][j] != \"car_brake\"):\n",
    "                j +=1\n",
    "    print(\"length= \" + str(len(negDf)))   \n",
    "    return negDf"
   ]
  },
  {
   "cell_type": "code",
   "execution_count": null,
   "metadata": {
    "collapsed": true
   },
   "outputs": [],
   "source": [
    "def convert_to_row(start, i, label):\n",
    "    row = []\n",
    "    for col in dfs[i].columns:\n",
    "        row += dfs[i][col][start:start+300].tolist()\n",
    "    row += [label]\n",
    "    return row"
   ]
  },
  {
   "cell_type": "code",
   "execution_count": null,
   "metadata": {
    "collapsed": true
   },
   "outputs": [],
   "source": [
    "fnames = [\"VPae\", \"VPbad\", \"VPbax\", \"VPbba\", \"VPgaa\", \"VPgab\", \"VPgac\", \"VPgae\", \"VPgag\", \"VPgah\", \"VPgal\", \"VPgam\", \n",
    "         \"VPih\", \"VPii\", \"VPja\", \"VPsaj\", \"VPsal\"]"
   ]
  },
  {
   "cell_type": "code",
   "execution_count": null,
   "metadata": {},
   "outputs": [],
   "source": [
    "for f in fnames:\n",
    "    print(f)\n",
    "    files = []\n",
    "    gc.collect()\n",
    "    files.append(upload_file(\"Dataset/\" + f + \".mat\"))\n",
    "    dfs = files_to_dfs()\n",
    "    drop_cols()\n",
    "    eventsList = events()\n",
    "    ys = events_to_lists()\n",
    "    stamps = timestamp_list()\n",
    "    reacts = reacts_list()\n",
    "    gc.collect()\n",
    "    posDf = positive_events()\n",
    "    posDf[0].to_csv(r\"csv/\"+\"pos\"+f+\".csv\", index = False)\n",
    "    del posDf\n",
    "    gc.collect()\n",
    "    negDf = add_negative_events(0)\n",
    "    negDf.to_csv(r\"csv/\"+\"neg\"+f+\".csv\", index = False)\n",
    "    del negDf\n",
    "    del dfs"
   ]
  },
  {
   "cell_type": "code",
   "execution_count": null,
   "metadata": {
    "collapsed": true
   },
   "outputs": [],
   "source": []
  }
 ],
 "metadata": {
  "kernelspec": {
   "display_name": "Python 3",
   "language": "python",
   "name": "python3"
  },
  "language_info": {
   "codemirror_mode": {
    "name": "ipython",
    "version": 3
   },
   "file_extension": ".py",
   "mimetype": "text/x-python",
   "name": "python",
   "nbconvert_exporter": "python",
   "pygments_lexer": "ipython3",
   "version": "3.6.1"
  }
 },
 "nbformat": 4,
 "nbformat_minor": 2
}
