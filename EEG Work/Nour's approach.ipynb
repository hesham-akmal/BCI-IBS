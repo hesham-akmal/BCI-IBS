{
 "cells": [
  {
   "cell_type": "code",
   "execution_count": 1,
   "metadata": {},
   "outputs": [],
   "source": [
    "import pandas as pd\n",
    "import numpy as np\n",
    "from sklearn.utils import shuffle\n",
    "import matplotlib.pyplot as plt\n",
    "    \n",
    "from sklearn.linear_model import LogisticRegression\n",
    "from sklearn.svm import SVC\n",
    "from sklearn.model_selection import train_test_split\n",
    "from sklearn.metrics import confusion_matrix\n",
    "from sklearn import metrics\n",
    "from sklearn.decomposition import PCA\n",
    "from sklearn.preprocessing import StandardScaler\n",
    "from sklearn.neighbors import KNeighborsClassifier\n",
    "from sklearn import tree\n",
    "from sklearn.neural_network import MLPClassifier\n",
    "from sklearn.ensemble import GradientBoostingClassifier\n",
    "from sklearn.ensemble import RandomForestClassifier\n",
    "from sklearn.naive_bayes import GaussianNB\n",
    "from sklearn.gaussian_process.kernels import RBF\n",
    "from sklearn.ensemble import AdaBoostClassifier\n",
    "from sklearn.gaussian_process import GaussianProcessClassifier\n",
    "\n",
    "%matplotlib inline"
   ]
  },
  {
   "cell_type": "code",
   "execution_count": 2,
   "metadata": {},
   "outputs": [],
   "source": [
    "dict_classifiers = {\n",
    "    \"Logistic Regression\": LogisticRegression(),\n",
    "    \"Nearest Neighbors\": KNeighborsClassifier(3),\n",
    "    \"Linear SVM\": SVC(kernel=\"linear\", C=0.025),\n",
    "    \"Gradient Boosting Classifier\": GradientBoostingClassifier(n_estimators=1000),\n",
    "    \"Decision Tree\": tree.DecisionTreeClassifier(),\n",
    "    \"Random Forest\": RandomForestClassifier(n_estimators=1000),\n",
    "    \"Neural Net\": MLPClassifier(alpha = 1),\n",
    "    \"Naive Bayes\": GaussianNB(),\n",
    "    \"AdaBoost\": AdaBoostClassifier(),\n",
    "    \"Gaussian Process\": GaussianProcessClassifier()\n",
    "}"
   ]
  },
  {
   "cell_type": "code",
   "execution_count": 3,
   "metadata": {},
   "outputs": [],
   "source": [
    "def LoadData(negFilePath, posFilePath):\n",
    "    negFileContent = pd.read_csv(negFilePath)\n",
    "    posFileContent = pd.read_csv(posFilePath)\n",
    "    df = negFileContent.append(posFileContent)\n",
    "    df = shuffle(df)\n",
    "    del negFileContent\n",
    "    del posFileContent\n",
    "    return df"
   ]
  },
  {
   "cell_type": "code",
   "execution_count": 4,
   "metadata": {},
   "outputs": [],
   "source": [
    "def SplitData(df):\n",
    "    # get features and labels\n",
    "    featuresColumns = df.columns[0:len(df.columns) - 1]\n",
    "    lablesColumn = df.columns[len(df.columns) - 1]\n",
    "    trainingFeaturesX = df.loc[:, featuresColumns]\n",
    "    trainingLabely = df.loc[:, lablesColumn]\n",
    "    # split the data into training and test\n",
    "    traningFeatures, testFeatures, trainingLabels, actualResults = train_test_split(trainingFeaturesX, trainingLabely,test_size=0.33, random_state=42)\n",
    "    return traningFeatures, testFeatures, trainingLabels, actualResults"
   ]
  },
  {
   "cell_type": "code",
   "execution_count": 5,
   "metadata": {},
   "outputs": [],
   "source": [
    "def CAR_Filter(df):\n",
    "    dfCAR = pd.DataFrame().reindex_like(df)\n",
    "    for j in range (df.shape[1]-1):\n",
    "        avg = df.iloc[:,j].mean()\n",
    "        for i in range (df.shape[0]):\n",
    "            dfCAR.iloc[i,j] = df.iloc[i,j] - avg\n",
    "    dfCAR.iloc[:,df.shape[1]-1] = pd.Series(df.iloc[:,df.shape[1]-1])\n",
    "    return dfCAR"
   ]
  },
  {
   "cell_type": "code",
   "execution_count": 6,
   "metadata": {},
   "outputs": [],
   "source": [
    "def batch_classify(X_train, Y_train, X_test, Y_test, no_classifiers = 1):\n",
    "\n",
    "    for classifier_name, classifier in list(dict_classifiers.items())[:no_classifiers]:\n",
    "        classifier.fit(X_train, Y_train)\n",
    "        Y_pred = classifier.predict(X_test)\n",
    "        \n",
    "        cm = confusion_matrix(Y_test, Y_pred)    \n",
    "        print (classifier_name)\n",
    "        print (cm)\n",
    "        fpr, tpr, thresholds = metrics.roc_curve(Y_test, Y_pred)\n",
    "        auc = metrics.auc(fpr, tpr)\n",
    "        print (auc)\n",
    "        \n",
    "        #fig = plt.figure()\n",
    "        #ax = fig.add_subplot(111)\n",
    "        #cax = ax.matshow(cm)\n",
    "        #fig.colorbar(cax)\n",
    "        #labels= ['no brake signal', 'brake signal']\n",
    "        #ax.set_xticklabels([''] + labels)\n",
    "        #ax.set_yticklabels([''] + labels)\n",
    "        #plt.xlabel('Predicted')\n",
    "        #plt.ylabel('True')\n",
    "        #plt.show()"
   ]
  },
  {
   "cell_type": "code",
   "execution_count": 7,
   "metadata": {},
   "outputs": [],
   "source": [
    "fnames = [\"Fatema\", \"Yousef\", \"Hesham\", \"Tair2\", \"Mohamed EL-Tair\", \"Mohamed Wagih\", \"Wagih2\", \"Hesham2\"]"
   ]
  },
  {
   "cell_type": "code",
   "execution_count": 8,
   "metadata": {},
   "outputs": [
    {
     "name": "stdout",
     "output_type": "stream",
     "text": [
      "=================================================================\n",
      "=================================================================\n",
      "Results for  Fatema\n",
      "(599, 2689)\n",
      "=================================================================\n",
      "=================================================================\n",
      "=================================================================\n",
      "Training 10 different classifiers on raw data\n",
      "=================================================================\n"
     ]
    },
    {
     "name": "stderr",
     "output_type": "stream",
     "text": [
      "C:\\Users\\Nour Al-Hoda\\Anaconda3\\lib\\site-packages\\sklearn\\linear_model\\logistic.py:433: FutureWarning: Default solver will be changed to 'lbfgs' in 0.22. Specify a solver to silence this warning.\n",
      "  FutureWarning)\n",
      "C:\\Users\\Nour Al-Hoda\\Anaconda3\\lib\\site-packages\\sklearn\\svm\\base.py:922: ConvergenceWarning: Liblinear failed to converge, increase the number of iterations.\n",
      "  \"the number of iterations.\", ConvergenceWarning)\n"
     ]
    },
    {
     "name": "stdout",
     "output_type": "stream",
     "text": [
      "Logistic Regression\n",
      "[[187   2]\n",
      " [  3   6]]\n",
      "0.828042328042328\n",
      "Nearest Neighbors\n",
      "[[189   0]\n",
      " [  9   0]]\n",
      "0.5\n",
      "Linear SVM\n",
      "[[187   2]\n",
      " [  3   6]]\n",
      "0.828042328042328\n",
      "Gradient Boosting Classifier\n",
      "[[186   3]\n",
      " [  6   3]]\n",
      "0.6587301587301587\n",
      "Decision Tree\n",
      "[[182   7]\n",
      " [  6   3]]\n",
      "0.6481481481481481\n",
      "Random Forest\n",
      "[[187   2]\n",
      " [  6   3]]\n",
      "0.6613756613756614\n",
      "Neural Net\n",
      "[[189   0]\n",
      " [  9   0]]\n",
      "0.5\n",
      "Naive Bayes\n",
      "[[ 36 153]\n",
      " [  0   9]]\n",
      "0.5952380952380952\n",
      "AdaBoost\n",
      "[[188   1]\n",
      " [  7   2]]\n",
      "0.6084656084656085\n",
      "Gaussian Process\n",
      "[[189   0]\n",
      " [  9   0]]\n",
      "0.5\n",
      "(599, 2689)\n",
      "=================================================================\n",
      "Training 10 different classifiers on data after applying CAR filter\n",
      "=================================================================\n"
     ]
    },
    {
     "name": "stderr",
     "output_type": "stream",
     "text": [
      "C:\\Users\\Nour Al-Hoda\\Anaconda3\\lib\\site-packages\\sklearn\\linear_model\\logistic.py:433: FutureWarning: Default solver will be changed to 'lbfgs' in 0.22. Specify a solver to silence this warning.\n",
      "  FutureWarning)\n"
     ]
    },
    {
     "name": "stdout",
     "output_type": "stream",
     "text": [
      "Logistic Regression\n",
      "[[106  83]\n",
      " [  0   9]]\n",
      "0.7804232804232805\n",
      "Nearest Neighbors\n",
      "[[189   0]\n",
      " [  9   0]]\n",
      "0.5\n",
      "Linear SVM\n",
      "[[187   2]\n",
      " [  3   6]]\n",
      "0.828042328042328\n",
      "Gradient Boosting Classifier\n",
      "[[186   3]\n",
      " [  6   3]]\n",
      "0.6587301587301587\n",
      "Decision Tree\n",
      "[[182   7]\n",
      " [  6   3]]\n",
      "0.6481481481481481\n",
      "Random Forest\n",
      "[[187   2]\n",
      " [  7   2]]\n",
      "0.6058201058201058\n",
      "Neural Net\n",
      "[[175  14]\n",
      " [  4   5]]\n",
      "0.7407407407407408\n",
      "Naive Bayes\n",
      "[[ 36 153]\n",
      " [  0   9]]\n",
      "0.5952380952380952\n",
      "AdaBoost\n",
      "[[188   1]\n",
      " [  7   2]]\n",
      "0.6084656084656085\n",
      "Gaussian Process\n",
      "[[189   0]\n",
      " [  9   0]]\n",
      "0.5\n",
      "=================================================================\n",
      "Training 10 different classifiers, and different PCA components without CAR filter\n",
      "=================================================================\n",
      "=================================================================\n",
      "Results for  15  PCA components\n",
      "=================================================================\n"
     ]
    },
    {
     "name": "stderr",
     "output_type": "stream",
     "text": [
      "C:\\Users\\Nour Al-Hoda\\Anaconda3\\lib\\site-packages\\sklearn\\linear_model\\logistic.py:433: FutureWarning: Default solver will be changed to 'lbfgs' in 0.22. Specify a solver to silence this warning.\n",
      "  FutureWarning)\n"
     ]
    },
    {
     "name": "stdout",
     "output_type": "stream",
     "text": [
      "Logistic Regression\n",
      "[[186   3]\n",
      " [  7   2]]\n",
      "0.6031746031746033\n",
      "Nearest Neighbors\n",
      "[[185   4]\n",
      " [  7   2]]\n",
      "0.6005291005291006\n",
      "Linear SVM\n",
      "[[189   0]\n",
      " [  9   0]]\n",
      "0.5\n",
      "Gradient Boosting Classifier\n",
      "[[185   4]\n",
      " [  7   2]]\n",
      "0.6005291005291006\n",
      "Decision Tree\n",
      "[[176  13]\n",
      " [  3   6]]\n",
      "0.7989417989417988\n",
      "Random Forest\n",
      "[[189   0]\n",
      " [  8   1]]\n",
      "0.5555555555555556\n",
      "Neural Net\n",
      "[[187   2]\n",
      " [  6   3]]\n",
      "0.6613756613756614\n",
      "Naive Bayes\n",
      "[[107  82]\n",
      " [  2   7]]\n",
      "0.671957671957672\n",
      "AdaBoost\n",
      "[[184   5]\n",
      " [  3   6]]\n",
      "0.82010582010582\n",
      "Gaussian Process\n",
      "[[180   9]\n",
      " [  7   2]]\n",
      "0.5873015873015872\n",
      "=================================================================\n",
      "Results for  30  PCA components\n",
      "=================================================================\n",
      "Logistic Regression\n",
      "[[184   5]\n",
      " [  5   4]]\n",
      "0.708994708994709\n",
      "Nearest Neighbors\n",
      "[[188   1]\n",
      " [  7   2]]\n",
      "0.6084656084656085\n",
      "Linear SVM\n",
      "[[185   4]\n",
      " [  4   5]]\n",
      "0.7671957671957672\n"
     ]
    },
    {
     "name": "stderr",
     "output_type": "stream",
     "text": [
      "C:\\Users\\Nour Al-Hoda\\Anaconda3\\lib\\site-packages\\sklearn\\linear_model\\logistic.py:433: FutureWarning: Default solver will be changed to 'lbfgs' in 0.22. Specify a solver to silence this warning.\n",
      "  FutureWarning)\n"
     ]
    },
    {
     "name": "stdout",
     "output_type": "stream",
     "text": [
      "Gradient Boosting Classifier\n",
      "[[187   2]\n",
      " [  5   4]]\n",
      "0.716931216931217\n",
      "Decision Tree\n",
      "[[175  14]\n",
      " [  5   4]]\n",
      "0.6851851851851852\n",
      "Random Forest\n",
      "[[187   2]\n",
      " [  8   1]]\n",
      "0.5502645502645502\n",
      "Neural Net\n",
      "[[185   4]\n",
      " [  4   5]]\n",
      "0.7671957671957672\n",
      "Naive Bayes\n",
      "[[169  20]\n",
      " [  0   9]]\n",
      "0.9470899470899471\n",
      "AdaBoost\n",
      "[[185   4]\n",
      " [  4   5]]\n",
      "0.7671957671957672\n",
      "Gaussian Process\n",
      "[[183   6]\n",
      " [  6   3]]\n",
      "0.6507936507936507\n",
      "=================================================================\n",
      "Results for  45  PCA components\n",
      "=================================================================\n",
      "Logistic Regression\n",
      "[[179  10]\n",
      " [  2   7]]\n"
     ]
    },
    {
     "name": "stderr",
     "output_type": "stream",
     "text": [
      "C:\\Users\\Nour Al-Hoda\\Anaconda3\\lib\\site-packages\\sklearn\\linear_model\\logistic.py:433: FutureWarning: Default solver will be changed to 'lbfgs' in 0.22. Specify a solver to silence this warning.\n",
      "  FutureWarning)\n"
     ]
    },
    {
     "name": "stdout",
     "output_type": "stream",
     "text": [
      "0.8624338624338624\n",
      "Nearest Neighbors\n",
      "[[188   1]\n",
      " [  8   1]]\n",
      "0.5529100529100529\n",
      "Linear SVM\n",
      "[[180   9]\n",
      " [  4   5]]\n",
      "0.753968253968254\n",
      "Gradient Boosting Classifier\n",
      "[[181   8]\n",
      " [  5   4]]\n",
      "0.701058201058201\n",
      "Decision Tree\n",
      "[[181   8]\n",
      " [  7   2]]\n",
      "0.58994708994709\n",
      "Random Forest\n",
      "[[185   4]\n",
      " [  9   0]]\n",
      "0.4894179894179894\n",
      "Neural Net\n",
      "[[188   1]\n",
      " [  5   4]]\n",
      "0.7195767195767195\n",
      "Naive Bayes\n",
      "[[178  11]\n",
      " [  1   8]]\n",
      "0.9153439153439153\n",
      "AdaBoost\n",
      "[[186   3]\n",
      " [  4   5]]\n",
      "0.7698412698412699\n",
      "Gaussian Process\n",
      "[[186   3]\n",
      " [  6   3]]\n",
      "0.6587301587301587\n",
      "=================================================================\n",
      "Results for  60  PCA components\n",
      "=================================================================\n",
      "Logistic Regression\n",
      "[[181   8]\n",
      " [  3   6]]\n",
      "0.8121693121693121\n",
      "Nearest Neighbors\n",
      "[[188   1]\n",
      " [  8   1]]\n"
     ]
    },
    {
     "name": "stderr",
     "output_type": "stream",
     "text": [
      "C:\\Users\\Nour Al-Hoda\\Anaconda3\\lib\\site-packages\\sklearn\\linear_model\\logistic.py:433: FutureWarning: Default solver will be changed to 'lbfgs' in 0.22. Specify a solver to silence this warning.\n",
      "  FutureWarning)\n"
     ]
    },
    {
     "name": "stdout",
     "output_type": "stream",
     "text": [
      "0.5529100529100529\n",
      "Linear SVM\n",
      "[[181   8]\n",
      " [  2   7]]\n",
      "0.8677248677248677\n",
      "Gradient Boosting Classifier\n",
      "[[178  11]\n",
      " [  7   2]]\n",
      "0.5820105820105821\n",
      "Decision Tree\n",
      "[[173  16]\n",
      " [  7   2]]\n",
      "0.5687830687830688\n",
      "Random Forest\n",
      "[[185   4]\n",
      " [  9   0]]\n",
      "0.4894179894179894\n",
      "Neural Net\n",
      "[[187   2]\n",
      " [  5   4]]\n",
      "0.716931216931217\n",
      "Naive Bayes\n",
      "[[184   5]\n",
      " [  3   6]]\n",
      "0.82010582010582\n",
      "AdaBoost\n",
      "[[187   2]\n",
      " [  6   3]]\n",
      "0.6613756613756614\n",
      "Gaussian Process\n",
      "[[186   3]\n",
      " [  6   3]]\n",
      "0.6587301587301587\n",
      "=================================================================\n",
      "Results for  75  PCA components\n",
      "=================================================================\n",
      "Logistic Regression\n",
      "[[183   6]\n",
      " [  3   6]]\n",
      "0.8174603174603174\n",
      "Nearest Neighbors\n",
      "[[188   1]\n",
      " [  8   1]]\n",
      "0.5529100529100529\n",
      "Linear SVM\n",
      "[[181   8]\n",
      " [  3   6]]\n",
      "0.8121693121693121\n"
     ]
    },
    {
     "name": "stderr",
     "output_type": "stream",
     "text": [
      "C:\\Users\\Nour Al-Hoda\\Anaconda3\\lib\\site-packages\\sklearn\\linear_model\\logistic.py:433: FutureWarning: Default solver will be changed to 'lbfgs' in 0.22. Specify a solver to silence this warning.\n",
      "  FutureWarning)\n"
     ]
    },
    {
     "name": "stdout",
     "output_type": "stream",
     "text": [
      "Gradient Boosting Classifier\n",
      "[[181   8]\n",
      " [  8   1]]\n",
      "0.5343915343915344\n",
      "Decision Tree\n",
      "[[174  15]\n",
      " [  8   1]]\n",
      "0.5158730158730159\n",
      "Random Forest\n",
      "[[183   6]\n",
      " [  9   0]]\n",
      "0.48412698412698413\n",
      "Neural Net\n",
      "[[188   1]\n",
      " [  5   4]]\n",
      "0.7195767195767195\n",
      "Naive Bayes\n",
      "[[183   6]\n",
      " [  4   5]]\n",
      "0.7619047619047619\n",
      "AdaBoost\n",
      "[[188   1]\n",
      " [  6   3]]\n",
      "0.664021164021164\n",
      "Gaussian Process\n",
      "[[187   2]\n",
      " [  6   3]]\n",
      "0.6613756613756614\n",
      "=================================================================\n",
      "Results for  90  PCA components\n",
      "=================================================================\n",
      "Logistic Regression\n",
      "[[182   7]\n",
      " [  4   5]]\n",
      "0.7592592592592593\n",
      "Nearest Neighbors\n",
      "[[188   1]\n",
      " [  8   1]]\n",
      "0.5529100529100529\n",
      "Linear SVM\n",
      "[[181   8]\n",
      " [  4   5]]\n",
      "0.7566137566137566\n"
     ]
    },
    {
     "name": "stderr",
     "output_type": "stream",
     "text": [
      "C:\\Users\\Nour Al-Hoda\\Anaconda3\\lib\\site-packages\\sklearn\\linear_model\\logistic.py:433: FutureWarning: Default solver will be changed to 'lbfgs' in 0.22. Specify a solver to silence this warning.\n",
      "  FutureWarning)\n"
     ]
    },
    {
     "name": "stdout",
     "output_type": "stream",
     "text": [
      "Gradient Boosting Classifier\n",
      "[[180   9]\n",
      " [  9   0]]\n",
      "0.47619047619047616\n",
      "Decision Tree\n",
      "[[179  10]\n",
      " [  8   1]]\n",
      "0.5291005291005292\n",
      "Random Forest\n",
      "[[182   7]\n",
      " [  9   0]]\n",
      "0.4814814814814815\n",
      "Neural Net\n",
      "[[188   1]\n",
      " [  5   4]]\n",
      "0.7195767195767195\n",
      "Naive Bayes\n",
      "[[182   7]\n",
      " [  4   5]]\n",
      "0.7592592592592593\n",
      "AdaBoost\n",
      "[[187   2]\n",
      " [  5   4]]\n",
      "0.716931216931217\n",
      "Gaussian Process\n",
      "[[188   1]\n",
      " [  7   2]]\n",
      "0.6084656084656085\n",
      "=================================================================\n",
      "Results for  105  PCA components\n",
      "=================================================================\n",
      "Logistic Regression\n",
      "[[183   6]\n",
      " [  2   7]]\n",
      "0.873015873015873\n",
      "Nearest Neighbors\n",
      "[[188   1]\n",
      " [  8   1]]\n",
      "0.5529100529100529\n",
      "Linear SVM\n",
      "[[182   7]\n",
      " [  4   5]]\n",
      "0.7592592592592593\n"
     ]
    },
    {
     "name": "stderr",
     "output_type": "stream",
     "text": [
      "C:\\Users\\Nour Al-Hoda\\Anaconda3\\lib\\site-packages\\sklearn\\linear_model\\logistic.py:433: FutureWarning: Default solver will be changed to 'lbfgs' in 0.22. Specify a solver to silence this warning.\n",
      "  FutureWarning)\n"
     ]
    },
    {
     "name": "stdout",
     "output_type": "stream",
     "text": [
      "Gradient Boosting Classifier\n",
      "[[183   6]\n",
      " [  7   2]]\n",
      "0.5952380952380952\n",
      "Decision Tree\n",
      "[[175  14]\n",
      " [  7   2]]\n",
      "0.5740740740740741\n",
      "Random Forest\n",
      "[[185   4]\n",
      " [  9   0]]\n",
      "0.4894179894179894\n",
      "Neural Net\n",
      "[[188   1]\n",
      " [  5   4]]\n",
      "0.7195767195767195\n",
      "Naive Bayes\n",
      "[[179  10]\n",
      " [  3   6]]\n",
      "0.8068783068783069\n",
      "AdaBoost\n",
      "[[188   1]\n",
      " [  3   6]]\n",
      "0.8306878306878305\n",
      "Gaussian Process\n",
      "[[188   1]\n",
      " [  7   2]]\n",
      "0.6084656084656085\n",
      "=================================================================\n",
      "Results for  120  PCA components\n",
      "=================================================================\n",
      "Logistic Regression\n",
      "[[186   3]\n",
      " [  4   5]]\n",
      "0.7698412698412699\n",
      "Nearest Neighbors\n",
      "[[188   1]\n",
      " [  8   1]]\n",
      "0.5529100529100529\n",
      "Linear SVM\n",
      "[[183   6]\n",
      " [  5   4]]\n",
      "0.7063492063492064\n"
     ]
    },
    {
     "name": "stderr",
     "output_type": "stream",
     "text": [
      "C:\\Users\\Nour Al-Hoda\\Anaconda3\\lib\\site-packages\\sklearn\\linear_model\\logistic.py:433: FutureWarning: Default solver will be changed to 'lbfgs' in 0.22. Specify a solver to silence this warning.\n",
      "  FutureWarning)\n"
     ]
    },
    {
     "name": "stdout",
     "output_type": "stream",
     "text": [
      "Gradient Boosting Classifier\n",
      "[[181   8]\n",
      " [  7   2]]\n",
      "0.58994708994709\n",
      "Decision Tree\n",
      "[[174  15]\n",
      " [  7   2]]\n",
      "0.5714285714285716\n",
      "Random Forest\n",
      "[[185   4]\n",
      " [  9   0]]\n",
      "0.4894179894179894\n",
      "Neural Net\n",
      "[[187   2]\n",
      " [  5   4]]\n",
      "0.716931216931217\n",
      "Naive Bayes\n",
      "[[178  11]\n",
      " [  4   5]]\n",
      "0.7486772486772488\n",
      "AdaBoost\n",
      "[[187   2]\n",
      " [  4   5]]\n",
      "0.7724867724867726\n",
      "Gaussian Process\n",
      "[[188   1]\n",
      " [  7   2]]\n",
      "0.6084656084656085\n",
      "=================================================================\n",
      "Results for  135  PCA components\n",
      "=================================================================\n",
      "Logistic Regression\n",
      "[[186   3]\n",
      " [  3   6]]\n",
      "0.8253968253968254\n",
      "Nearest Neighbors\n",
      "[[188   1]\n",
      " [  8   1]]\n",
      "0.5529100529100529\n",
      "Linear SVM\n",
      "[[183   6]\n",
      " [  5   4]]\n",
      "0.7063492063492064\n"
     ]
    },
    {
     "name": "stderr",
     "output_type": "stream",
     "text": [
      "C:\\Users\\Nour Al-Hoda\\Anaconda3\\lib\\site-packages\\sklearn\\linear_model\\logistic.py:433: FutureWarning: Default solver will be changed to 'lbfgs' in 0.22. Specify a solver to silence this warning.\n",
      "  FutureWarning)\n"
     ]
    },
    {
     "name": "stdout",
     "output_type": "stream",
     "text": [
      "Gradient Boosting Classifier\n",
      "[[182   7]\n",
      " [  7   2]]\n",
      "0.5925925925925927\n",
      "Decision Tree\n",
      "[[183   6]\n",
      " [  8   1]]\n",
      "0.5396825396825398\n",
      "Random Forest\n",
      "[[185   4]\n",
      " [  9   0]]\n",
      "0.4894179894179894\n",
      "Neural Net\n",
      "[[188   1]\n",
      " [  5   4]]\n",
      "0.7195767195767195\n",
      "Naive Bayes\n",
      "[[177  12]\n",
      " [  3   6]]\n",
      "0.8015873015873015\n",
      "AdaBoost\n",
      "[[187   2]\n",
      " [  5   4]]\n",
      "0.716931216931217\n",
      "Gaussian Process\n",
      "[[189   0]\n",
      " [  7   2]]\n",
      "0.6111111111111112\n",
      "=================================================================\n",
      "Results for  150  PCA components\n",
      "=================================================================\n",
      "Logistic Regression\n",
      "[[186   3]\n",
      " [  3   6]]\n",
      "0.8253968253968254\n",
      "Nearest Neighbors\n",
      "[[188   1]\n",
      " [  8   1]]\n",
      "0.5529100529100529\n",
      "Linear SVM\n",
      "[[184   5]\n",
      " [  3   6]]\n",
      "0.82010582010582\n"
     ]
    },
    {
     "name": "stderr",
     "output_type": "stream",
     "text": [
      "C:\\Users\\Nour Al-Hoda\\Anaconda3\\lib\\site-packages\\sklearn\\linear_model\\logistic.py:433: FutureWarning: Default solver will be changed to 'lbfgs' in 0.22. Specify a solver to silence this warning.\n",
      "  FutureWarning)\n"
     ]
    },
    {
     "name": "stdout",
     "output_type": "stream",
     "text": [
      "Gradient Boosting Classifier\n",
      "[[182   7]\n",
      " [  7   2]]\n",
      "0.5925925925925927\n",
      "Decision Tree\n",
      "[[178  11]\n",
      " [  6   3]]\n",
      "0.6375661375661376\n",
      "Random Forest\n",
      "[[184   5]\n",
      " [  9   0]]\n",
      "0.48677248677248675\n",
      "Neural Net\n",
      "[[188   1]\n",
      " [  5   4]]\n",
      "0.7195767195767195\n",
      "Naive Bayes\n",
      "[[177  12]\n",
      " [  2   7]]\n",
      "0.8571428571428571\n",
      "AdaBoost\n",
      "[[186   3]\n",
      " [  5   4]]\n",
      "0.7142857142857143\n",
      "Gaussian Process\n",
      "[[189   0]\n",
      " [  8   1]]\n",
      "0.5555555555555556\n",
      "=================================================================\n",
      "Results for  165  PCA components\n",
      "=================================================================\n",
      "Logistic Regression\n",
      "[[186   3]\n",
      " [  3   6]]\n",
      "0.8253968253968254\n",
      "Nearest Neighbors\n",
      "[[188   1]\n",
      " [  8   1]]\n",
      "0.5529100529100529\n",
      "Linear SVM\n",
      "[[184   5]\n",
      " [  3   6]]\n",
      "0.82010582010582\n"
     ]
    },
    {
     "name": "stderr",
     "output_type": "stream",
     "text": [
      "C:\\Users\\Nour Al-Hoda\\Anaconda3\\lib\\site-packages\\sklearn\\linear_model\\logistic.py:433: FutureWarning: Default solver will be changed to 'lbfgs' in 0.22. Specify a solver to silence this warning.\n",
      "  FutureWarning)\n"
     ]
    },
    {
     "name": "stdout",
     "output_type": "stream",
     "text": [
      "Gradient Boosting Classifier\n",
      "[[178  11]\n",
      " [  7   2]]\n",
      "0.5820105820105821\n",
      "Decision Tree\n",
      "[[177  12]\n",
      " [  7   2]]\n",
      "0.5793650793650794\n",
      "Random Forest\n",
      "[[184   5]\n",
      " [  9   0]]\n",
      "0.48677248677248675\n",
      "Neural Net\n",
      "[[185   4]\n",
      " [  3   6]]\n",
      "0.8227513227513227\n",
      "Naive Bayes\n",
      "[[175  14]\n",
      " [  3   6]]\n",
      "0.7962962962962963\n",
      "AdaBoost\n",
      "[[188   1]\n",
      " [  5   4]]\n",
      "0.7195767195767195\n",
      "Gaussian Process\n",
      "[[189   0]\n",
      " [  8   1]]\n",
      "0.5555555555555556\n",
      "=================================================================\n",
      "Results for  180  PCA components\n",
      "=================================================================\n",
      "Logistic Regression\n",
      "[[186   3]\n",
      " [  3   6]]\n",
      "0.8253968253968254\n",
      "Nearest Neighbors\n",
      "[[188   1]\n",
      " [  9   0]]\n",
      "0.4973544973544973\n",
      "Linear SVM\n",
      "[[184   5]\n",
      " [  4   5]]\n",
      "0.7645502645502645\n"
     ]
    },
    {
     "name": "stderr",
     "output_type": "stream",
     "text": [
      "C:\\Users\\Nour Al-Hoda\\Anaconda3\\lib\\site-packages\\sklearn\\linear_model\\logistic.py:433: FutureWarning: Default solver will be changed to 'lbfgs' in 0.22. Specify a solver to silence this warning.\n",
      "  FutureWarning)\n"
     ]
    },
    {
     "name": "stdout",
     "output_type": "stream",
     "text": [
      "Gradient Boosting Classifier\n",
      "[[182   7]\n",
      " [  8   1]]\n",
      "0.5370370370370371\n",
      "Decision Tree\n",
      "[[172  17]\n",
      " [  5   4]]\n",
      "0.6772486772486772\n",
      "Random Forest\n",
      "[[184   5]\n",
      " [  9   0]]\n",
      "0.48677248677248675\n",
      "Neural Net\n",
      "[[187   2]\n",
      " [  5   4]]\n",
      "0.716931216931217\n",
      "Naive Bayes\n",
      "[[178  11]\n",
      " [  3   6]]\n",
      "0.8042328042328042\n",
      "AdaBoost\n",
      "[[185   4]\n",
      " [  7   2]]\n",
      "0.6005291005291006\n",
      "Gaussian Process\n",
      "[[189   0]\n",
      " [  8   1]]\n",
      "0.5555555555555556\n",
      "=================================================================\n",
      "Results for  195  PCA components\n",
      "=================================================================\n",
      "Logistic Regression\n",
      "[[187   2]\n",
      " [  3   6]]\n",
      "0.828042328042328\n",
      "Nearest Neighbors\n",
      "[[188   1]\n",
      " [  9   0]]\n",
      "0.4973544973544973\n",
      "Linear SVM\n",
      "[[184   5]\n",
      " [  3   6]]\n",
      "0.82010582010582\n"
     ]
    },
    {
     "name": "stderr",
     "output_type": "stream",
     "text": [
      "C:\\Users\\Nour Al-Hoda\\Anaconda3\\lib\\site-packages\\sklearn\\linear_model\\logistic.py:433: FutureWarning: Default solver will be changed to 'lbfgs' in 0.22. Specify a solver to silence this warning.\n",
      "  FutureWarning)\n"
     ]
    },
    {
     "name": "stdout",
     "output_type": "stream",
     "text": [
      "Gradient Boosting Classifier\n",
      "[[182   7]\n",
      " [  7   2]]\n",
      "0.5925925925925927\n",
      "Decision Tree\n",
      "[[180   9]\n",
      " [  5   4]]\n",
      "0.6984126984126984\n",
      "Random Forest\n",
      "[[183   6]\n",
      " [  9   0]]\n",
      "0.48412698412698413\n",
      "Neural Net\n",
      "[[187   2]\n",
      " [  4   5]]\n",
      "0.7724867724867726\n",
      "Naive Bayes\n",
      "[[178  11]\n",
      " [  2   7]]\n",
      "0.8597883597883598\n",
      "AdaBoost\n",
      "[[189   0]\n",
      " [  3   6]]\n",
      "0.8333333333333333\n",
      "Gaussian Process\n",
      "[[189   0]\n",
      " [  8   1]]\n",
      "0.5555555555555556\n",
      "=================================================================\n",
      "Results for  210  PCA components\n",
      "=================================================================\n",
      "Logistic Regression\n",
      "[[186   3]\n",
      " [  3   6]]\n",
      "0.8253968253968254\n",
      "Nearest Neighbors\n",
      "[[188   1]\n",
      " [  9   0]]\n",
      "0.4973544973544973\n",
      "Linear SVM\n",
      "[[184   5]\n",
      " [  3   6]]\n",
      "0.82010582010582\n"
     ]
    },
    {
     "name": "stderr",
     "output_type": "stream",
     "text": [
      "C:\\Users\\Nour Al-Hoda\\Anaconda3\\lib\\site-packages\\sklearn\\linear_model\\logistic.py:433: FutureWarning: Default solver will be changed to 'lbfgs' in 0.22. Specify a solver to silence this warning.\n",
      "  FutureWarning)\n"
     ]
    },
    {
     "name": "stdout",
     "output_type": "stream",
     "text": [
      "Gradient Boosting Classifier\n",
      "[[178  11]\n",
      " [  7   2]]\n",
      "0.5820105820105821\n",
      "Decision Tree\n",
      "[[176  13]\n",
      " [  5   4]]\n",
      "0.6878306878306878\n",
      "Random Forest\n",
      "[[183   6]\n",
      " [  9   0]]\n",
      "0.48412698412698413\n",
      "Neural Net\n",
      "[[188   1]\n",
      " [  5   4]]\n",
      "0.7195767195767195\n",
      "Naive Bayes\n",
      "[[178  11]\n",
      " [  4   5]]\n",
      "0.7486772486772488\n",
      "AdaBoost\n",
      "[[187   2]\n",
      " [  5   4]]\n",
      "0.716931216931217\n",
      "Gaussian Process\n",
      "[[189   0]\n",
      " [  8   1]]\n",
      "0.5555555555555556\n",
      "=================================================================\n",
      "Results for  225  PCA components\n",
      "=================================================================\n",
      "Logistic Regression\n",
      "[[186   3]\n",
      " [  3   6]]\n",
      "0.8253968253968254\n",
      "Nearest Neighbors\n",
      "[[188   1]\n",
      " [  9   0]]\n",
      "0.4973544973544973\n",
      "Linear SVM\n",
      "[[184   5]\n",
      " [  3   6]]\n",
      "0.82010582010582\n"
     ]
    },
    {
     "name": "stderr",
     "output_type": "stream",
     "text": [
      "C:\\Users\\Nour Al-Hoda\\Anaconda3\\lib\\site-packages\\sklearn\\linear_model\\logistic.py:433: FutureWarning: Default solver will be changed to 'lbfgs' in 0.22. Specify a solver to silence this warning.\n",
      "  FutureWarning)\n"
     ]
    },
    {
     "name": "stdout",
     "output_type": "stream",
     "text": [
      "Gradient Boosting Classifier\n",
      "[[181   8]\n",
      " [  7   2]]\n",
      "0.58994708994709\n",
      "Decision Tree\n",
      "[[178  11]\n",
      " [  7   2]]\n",
      "0.5820105820105821\n",
      "Random Forest\n",
      "[[183   6]\n",
      " [  9   0]]\n",
      "0.48412698412698413\n",
      "Neural Net\n",
      "[[188   1]\n",
      " [  5   4]]\n",
      "0.7195767195767195\n",
      "Naive Bayes\n",
      "[[181   8]\n",
      " [  5   4]]\n",
      "0.701058201058201\n",
      "AdaBoost\n",
      "[[188   1]\n",
      " [  6   3]]\n",
      "0.664021164021164\n",
      "Gaussian Process\n",
      "[[189   0]\n",
      " [  8   1]]\n",
      "0.5555555555555556\n",
      "=================================================================\n",
      "Results for  240  PCA components\n",
      "=================================================================\n",
      "Logistic Regression\n",
      "[[186   3]\n",
      " [  3   6]]\n",
      "0.8253968253968254\n",
      "Nearest Neighbors\n",
      "[[188   1]\n",
      " [  9   0]]\n",
      "0.4973544973544973\n",
      "Linear SVM\n",
      "[[184   5]\n",
      " [  3   6]]\n",
      "0.82010582010582\n"
     ]
    },
    {
     "name": "stderr",
     "output_type": "stream",
     "text": [
      "C:\\Users\\Nour Al-Hoda\\Anaconda3\\lib\\site-packages\\sklearn\\linear_model\\logistic.py:433: FutureWarning: Default solver will be changed to 'lbfgs' in 0.22. Specify a solver to silence this warning.\n",
      "  FutureWarning)\n"
     ]
    },
    {
     "name": "stdout",
     "output_type": "stream",
     "text": [
      "Gradient Boosting Classifier\n",
      "[[182   7]\n",
      " [  7   2]]\n",
      "0.5925925925925927\n",
      "Decision Tree\n",
      "[[180   9]\n",
      " [  5   4]]\n",
      "0.6984126984126984\n",
      "Random Forest\n",
      "[[183   6]\n",
      " [  9   0]]\n",
      "0.48412698412698413\n",
      "Neural Net\n",
      "[[187   2]\n",
      " [  5   4]]\n",
      "0.716931216931217\n",
      "Naive Bayes\n",
      "[[184   5]\n",
      " [  7   2]]\n",
      "0.5978835978835979\n",
      "AdaBoost\n",
      "[[186   3]\n",
      " [  5   4]]\n",
      "0.7142857142857143\n",
      "Gaussian Process\n",
      "[[189   0]\n",
      " [  8   1]]\n",
      "0.5555555555555556\n",
      "=================================================================\n",
      "Results for  255  PCA components\n",
      "=================================================================\n",
      "Logistic Regression\n",
      "[[186   3]\n",
      " [  3   6]]\n",
      "0.8253968253968254\n",
      "Nearest Neighbors\n",
      "[[188   1]\n",
      " [  8   1]]\n",
      "0.5529100529100529\n",
      "Linear SVM\n",
      "[[184   5]\n",
      " [  3   6]]\n",
      "0.82010582010582\n"
     ]
    },
    {
     "name": "stderr",
     "output_type": "stream",
     "text": [
      "C:\\Users\\Nour Al-Hoda\\Anaconda3\\lib\\site-packages\\sklearn\\linear_model\\logistic.py:433: FutureWarning: Default solver will be changed to 'lbfgs' in 0.22. Specify a solver to silence this warning.\n",
      "  FutureWarning)\n"
     ]
    },
    {
     "name": "stdout",
     "output_type": "stream",
     "text": [
      "Gradient Boosting Classifier\n",
      "[[181   8]\n",
      " [  7   2]]\n",
      "0.58994708994709\n",
      "Decision Tree\n",
      "[[178  11]\n",
      " [  5   4]]\n",
      "0.6931216931216931\n",
      "Random Forest\n",
      "[[183   6]\n",
      " [  9   0]]\n",
      "0.48412698412698413\n",
      "Neural Net\n",
      "[[189   0]\n",
      " [  7   2]]\n",
      "0.6111111111111112\n",
      "Naive Bayes\n",
      "[[189   0]\n",
      " [  8   1]]\n",
      "0.5555555555555556\n",
      "AdaBoost\n",
      "[[187   2]\n",
      " [  6   3]]\n",
      "0.6613756613756614\n",
      "Gaussian Process\n",
      "[[189   0]\n",
      " [  8   1]]\n",
      "0.5555555555555556\n",
      "=================================================================\n",
      "Results for  270  PCA components\n",
      "=================================================================\n",
      "Logistic Regression\n",
      "[[186   3]\n",
      " [  3   6]]\n",
      "0.8253968253968254\n",
      "Nearest Neighbors\n",
      "[[188   1]\n",
      " [  8   1]]\n",
      "0.5529100529100529\n",
      "Linear SVM\n",
      "[[184   5]\n",
      " [  3   6]]\n",
      "0.82010582010582\n"
     ]
    },
    {
     "name": "stderr",
     "output_type": "stream",
     "text": [
      "C:\\Users\\Nour Al-Hoda\\Anaconda3\\lib\\site-packages\\sklearn\\linear_model\\logistic.py:433: FutureWarning: Default solver will be changed to 'lbfgs' in 0.22. Specify a solver to silence this warning.\n",
      "  FutureWarning)\n"
     ]
    },
    {
     "name": "stdout",
     "output_type": "stream",
     "text": [
      "Gradient Boosting Classifier\n",
      "[[182   7]\n",
      " [  8   1]]\n",
      "0.5370370370370371\n",
      "Decision Tree\n",
      "[[170  19]\n",
      " [  7   2]]\n",
      "0.5608465608465609\n",
      "Random Forest\n",
      "[[183   6]\n",
      " [  9   0]]\n",
      "0.48412698412698413\n",
      "Neural Net\n",
      "[[187   2]\n",
      " [  3   6]]\n",
      "0.828042328042328\n",
      "Naive Bayes\n",
      "[[189   0]\n",
      " [  9   0]]\n",
      "0.5\n",
      "AdaBoost\n",
      "[[189   0]\n",
      " [  6   3]]\n",
      "0.6666666666666666\n",
      "Gaussian Process\n",
      "[[189   0]\n",
      " [  8   1]]\n",
      "0.5555555555555556\n",
      "=================================================================\n",
      "Results for  285  PCA components\n",
      "=================================================================\n",
      "Logistic Regression\n",
      "[[186   3]\n",
      " [  3   6]]\n",
      "0.8253968253968254\n",
      "Nearest Neighbors\n",
      "[[188   1]\n",
      " [  8   1]]\n",
      "0.5529100529100529\n",
      "Linear SVM\n",
      "[[184   5]\n",
      " [  3   6]]\n",
      "0.82010582010582\n"
     ]
    },
    {
     "name": "stderr",
     "output_type": "stream",
     "text": [
      "C:\\Users\\Nour Al-Hoda\\Anaconda3\\lib\\site-packages\\sklearn\\linear_model\\logistic.py:433: FutureWarning: Default solver will be changed to 'lbfgs' in 0.22. Specify a solver to silence this warning.\n",
      "  FutureWarning)\n"
     ]
    },
    {
     "name": "stdout",
     "output_type": "stream",
     "text": [
      "Gradient Boosting Classifier\n",
      "[[181   8]\n",
      " [  7   2]]\n",
      "0.58994708994709\n",
      "Decision Tree\n",
      "[[178  11]\n",
      " [  7   2]]\n",
      "0.5820105820105821\n",
      "Random Forest\n",
      "[[183   6]\n",
      " [  9   0]]\n",
      "0.48412698412698413\n",
      "Neural Net\n",
      "[[188   1]\n",
      " [  4   5]]\n",
      "0.775132275132275\n",
      "Naive Bayes\n",
      "[[189   0]\n",
      " [  9   0]]\n",
      "0.5\n",
      "AdaBoost\n",
      "[[188   1]\n",
      " [  6   3]]\n",
      "0.664021164021164\n",
      "Gaussian Process\n",
      "[[189   0]\n",
      " [  8   1]]\n",
      "0.5555555555555556\n",
      "=================================================================\n",
      "Results for  300  PCA components\n",
      "=================================================================\n",
      "Logistic Regression\n",
      "[[186   3]\n",
      " [  3   6]]\n",
      "0.8253968253968254\n",
      "Nearest Neighbors\n",
      "[[188   1]\n",
      " [  8   1]]\n",
      "0.5529100529100529\n",
      "Linear SVM\n",
      "[[184   5]\n",
      " [  3   6]]\n"
     ]
    },
    {
     "name": "stderr",
     "output_type": "stream",
     "text": [
      "C:\\Users\\Nour Al-Hoda\\Anaconda3\\lib\\site-packages\\sklearn\\linear_model\\logistic.py:433: FutureWarning: Default solver will be changed to 'lbfgs' in 0.22. Specify a solver to silence this warning.\n",
      "  FutureWarning)\n"
     ]
    },
    {
     "name": "stdout",
     "output_type": "stream",
     "text": [
      "0.82010582010582\n",
      "Gradient Boosting Classifier\n",
      "[[181   8]\n",
      " [  7   2]]\n",
      "0.58994708994709\n",
      "Decision Tree\n",
      "[[180   9]\n",
      " [  7   2]]\n",
      "0.5873015873015872\n",
      "Random Forest\n",
      "[[183   6]\n",
      " [  9   0]]\n",
      "0.48412698412698413\n",
      "Neural Net\n",
      "[[189   0]\n",
      " [  9   0]]\n",
      "0.5\n",
      "Naive Bayes\n",
      "[[189   0]\n",
      " [  9   0]]\n",
      "0.5\n",
      "AdaBoost\n",
      "[[187   2]\n",
      " [  7   2]]\n",
      "0.6058201058201058\n",
      "Gaussian Process\n",
      "[[189   0]\n",
      " [  8   1]]\n",
      "0.5555555555555556\n",
      "=================================================================\n",
      "Results for  315  PCA components\n",
      "=================================================================\n",
      "Logistic Regression\n",
      "[[186   3]\n",
      " [  3   6]]\n",
      "0.8253968253968254\n",
      "Nearest Neighbors\n",
      "[[188   1]\n",
      " [  8   1]]\n",
      "0.5529100529100529\n",
      "Linear SVM\n",
      "[[184   5]\n",
      " [  3   6]]\n"
     ]
    },
    {
     "name": "stderr",
     "output_type": "stream",
     "text": [
      "C:\\Users\\Nour Al-Hoda\\Anaconda3\\lib\\site-packages\\sklearn\\linear_model\\logistic.py:433: FutureWarning: Default solver will be changed to 'lbfgs' in 0.22. Specify a solver to silence this warning.\n",
      "  FutureWarning)\n"
     ]
    },
    {
     "name": "stdout",
     "output_type": "stream",
     "text": [
      "0.82010582010582\n",
      "Gradient Boosting Classifier\n",
      "[[181   8]\n",
      " [  7   2]]\n",
      "0.58994708994709\n",
      "Decision Tree\n",
      "[[181   8]\n",
      " [  5   4]]\n",
      "0.701058201058201\n",
      "Random Forest\n",
      "[[183   6]\n",
      " [  9   0]]\n",
      "0.48412698412698413\n",
      "Neural Net\n",
      "[[187   2]\n",
      " [  7   2]]\n",
      "0.6058201058201058\n",
      "Naive Bayes\n",
      "[[189   0]\n",
      " [  9   0]]\n",
      "0.5\n",
      "AdaBoost\n",
      "[[189   0]\n",
      " [  5   4]]\n",
      "0.7222222222222222\n",
      "Gaussian Process\n",
      "[[189   0]\n",
      " [  8   1]]\n",
      "0.5555555555555556\n",
      "=================================================================\n",
      "Results for  330  PCA components\n",
      "=================================================================\n",
      "Logistic Regression\n",
      "[[186   3]\n",
      " [  3   6]]\n",
      "0.8253968253968254\n",
      "Nearest Neighbors\n",
      "[[188   1]\n",
      " [  8   1]]\n",
      "0.5529100529100529\n",
      "Linear SVM\n",
      "[[184   5]\n",
      " [  3   6]]\n",
      "0.82010582010582\n"
     ]
    },
    {
     "name": "stderr",
     "output_type": "stream",
     "text": [
      "C:\\Users\\Nour Al-Hoda\\Anaconda3\\lib\\site-packages\\sklearn\\linear_model\\logistic.py:433: FutureWarning: Default solver will be changed to 'lbfgs' in 0.22. Specify a solver to silence this warning.\n",
      "  FutureWarning)\n"
     ]
    },
    {
     "name": "stdout",
     "output_type": "stream",
     "text": [
      "Gradient Boosting Classifier\n",
      "[[182   7]\n",
      " [  8   1]]\n",
      "0.5370370370370371\n",
      "Decision Tree\n",
      "[[178  11]\n",
      " [  7   2]]\n",
      "0.5820105820105821\n",
      "Random Forest\n",
      "[[183   6]\n",
      " [  9   0]]\n",
      "0.48412698412698413\n",
      "Neural Net\n",
      "[[188   1]\n",
      " [  3   6]]\n",
      "0.8306878306878305\n",
      "Naive Bayes\n",
      "[[189   0]\n",
      " [  9   0]]\n",
      "0.5\n",
      "AdaBoost\n",
      "[[187   2]\n",
      " [  4   5]]\n",
      "0.7724867724867726\n",
      "Gaussian Process\n",
      "[[189   0]\n",
      " [  8   1]]\n",
      "0.5555555555555556\n",
      "=================================================================\n",
      "Results for  345  PCA components\n",
      "=================================================================\n",
      "Logistic Regression\n",
      "[[187   2]\n",
      " [  3   6]]\n",
      "0.828042328042328\n",
      "Nearest Neighbors\n",
      "[[188   1]\n",
      " [  8   1]]\n",
      "0.5529100529100529\n"
     ]
    },
    {
     "name": "stderr",
     "output_type": "stream",
     "text": [
      "C:\\Users\\Nour Al-Hoda\\Anaconda3\\lib\\site-packages\\sklearn\\linear_model\\logistic.py:433: FutureWarning: Default solver will be changed to 'lbfgs' in 0.22. Specify a solver to silence this warning.\n",
      "  FutureWarning)\n"
     ]
    },
    {
     "name": "stdout",
     "output_type": "stream",
     "text": [
      "Linear SVM\n",
      "[[184   5]\n",
      " [  3   6]]\n",
      "0.82010582010582\n",
      "Gradient Boosting Classifier\n",
      "[[181   8]\n",
      " [  7   2]]\n",
      "0.58994708994709\n",
      "Decision Tree\n",
      "[[175  14]\n",
      " [  3   6]]\n",
      "0.7962962962962963\n",
      "Random Forest\n",
      "[[183   6]\n",
      " [  9   0]]\n",
      "0.48412698412698413\n",
      "Neural Net\n",
      "[[188   1]\n",
      " [  3   6]]\n",
      "0.8306878306878305\n",
      "Naive Bayes\n",
      "[[189   0]\n",
      " [  9   0]]\n",
      "0.5\n",
      "AdaBoost\n",
      "[[188   1]\n",
      " [  5   4]]\n",
      "0.7195767195767195\n",
      "Gaussian Process\n",
      "[[189   0]\n",
      " [  8   1]]\n",
      "0.5555555555555556\n",
      "=================================================================\n",
      "Results for  360  PCA components\n",
      "=================================================================\n",
      "Logistic Regression\n",
      "[[187   2]\n",
      " [  3   6]]\n",
      "0.828042328042328\n",
      "Nearest Neighbors\n",
      "[[188   1]\n",
      " [  8   1]]\n",
      "0.5529100529100529\n"
     ]
    },
    {
     "name": "stderr",
     "output_type": "stream",
     "text": [
      "C:\\Users\\Nour Al-Hoda\\Anaconda3\\lib\\site-packages\\sklearn\\linear_model\\logistic.py:433: FutureWarning: Default solver will be changed to 'lbfgs' in 0.22. Specify a solver to silence this warning.\n",
      "  FutureWarning)\n"
     ]
    },
    {
     "name": "stdout",
     "output_type": "stream",
     "text": [
      "Linear SVM\n",
      "[[184   5]\n",
      " [  3   6]]\n",
      "0.82010582010582\n",
      "Gradient Boosting Classifier\n",
      "[[181   8]\n",
      " [  7   2]]\n",
      "0.58994708994709\n",
      "Decision Tree\n",
      "[[181   8]\n",
      " [  6   3]]\n",
      "0.6455026455026455\n",
      "Random Forest\n",
      "[[183   6]\n",
      " [  9   0]]\n",
      "0.48412698412698413\n",
      "Neural Net\n",
      "[[187   2]\n",
      " [  5   4]]\n",
      "0.716931216931217\n",
      "Naive Bayes\n",
      "[[189   0]\n",
      " [  9   0]]\n",
      "0.5\n",
      "AdaBoost\n",
      "[[189   0]\n",
      " [  7   2]]\n",
      "0.6111111111111112\n",
      "Gaussian Process\n",
      "[[189   0]\n",
      " [  8   1]]\n",
      "0.5555555555555556\n",
      "=================================================================\n",
      "Results for  375  PCA components\n",
      "=================================================================\n",
      "Logistic Regression\n",
      "[[187   2]\n",
      " [  3   6]]\n",
      "0.828042328042328\n",
      "Nearest Neighbors\n",
      "[[188   1]\n",
      " [  8   1]]\n",
      "0.5529100529100529\n"
     ]
    },
    {
     "name": "stderr",
     "output_type": "stream",
     "text": [
      "C:\\Users\\Nour Al-Hoda\\Anaconda3\\lib\\site-packages\\sklearn\\linear_model\\logistic.py:433: FutureWarning: Default solver will be changed to 'lbfgs' in 0.22. Specify a solver to silence this warning.\n",
      "  FutureWarning)\n"
     ]
    },
    {
     "name": "stdout",
     "output_type": "stream",
     "text": [
      "Linear SVM\n",
      "[[184   5]\n",
      " [  3   6]]\n",
      "0.82010582010582\n",
      "Gradient Boosting Classifier\n",
      "[[181   8]\n",
      " [  7   2]]\n",
      "0.58994708994709\n",
      "Decision Tree\n",
      "[[171  18]\n",
      " [  7   2]]\n",
      "0.5634920634920635\n",
      "Random Forest\n",
      "[[183   6]\n",
      " [  9   0]]\n",
      "0.48412698412698413\n",
      "Neural Net\n",
      "[[188   1]\n",
      " [  5   4]]\n",
      "0.7195767195767195\n",
      "Naive Bayes\n",
      "[[189   0]\n",
      " [  9   0]]\n",
      "0.5\n",
      "AdaBoost\n",
      "[[185   4]\n",
      " [  5   4]]\n",
      "0.7116402116402116\n",
      "Gaussian Process\n",
      "[[189   0]\n",
      " [  8   1]]\n",
      "0.5555555555555556\n",
      "=================================================================\n",
      "Results for  390  PCA components\n",
      "=================================================================\n",
      "Logistic Regression\n",
      "[[187   2]\n",
      " [  3   6]]\n",
      "0.828042328042328\n",
      "Nearest Neighbors\n",
      "[[188   1]\n",
      " [  8   1]]\n",
      "0.5529100529100529"
     ]
    },
    {
     "name": "stderr",
     "output_type": "stream",
     "text": [
      "C:\\Users\\Nour Al-Hoda\\Anaconda3\\lib\\site-packages\\sklearn\\linear_model\\logistic.py:433: FutureWarning: Default solver will be changed to 'lbfgs' in 0.22. Specify a solver to silence this warning.\n",
      "  FutureWarning)\n"
     ]
    },
    {
     "name": "stdout",
     "output_type": "stream",
     "text": [
      "\n",
      "Linear SVM\n",
      "[[184   5]\n",
      " [  3   6]]\n",
      "0.82010582010582\n",
      "Gradient Boosting Classifier\n",
      "[[181   8]\n",
      " [  7   2]]\n",
      "0.58994708994709\n",
      "Decision Tree\n",
      "[[169  20]\n",
      " [  6   3]]\n",
      "0.6137566137566137\n",
      "Random Forest\n",
      "[[183   6]\n",
      " [  9   0]]\n",
      "0.48412698412698413\n",
      "Neural Net\n",
      "[[186   3]\n",
      " [  4   5]]\n",
      "0.7698412698412699\n",
      "Naive Bayes\n",
      "[[189   0]\n",
      " [  9   0]]\n",
      "0.5\n",
      "AdaBoost\n",
      "[[185   4]\n",
      " [  5   4]]\n",
      "0.7116402116402116\n",
      "Gaussian Process\n",
      "[[189   0]\n",
      " [  8   1]]\n",
      "0.5555555555555556\n",
      "=================================================================\n",
      "Training 10 different classifiers, and different PCA components after CAR filter\n",
      "=================================================================\n",
      "=================================================================\n",
      "Results for  15  PCA components\n",
      "=================================================================\n"
     ]
    },
    {
     "name": "stderr",
     "output_type": "stream",
     "text": [
      "C:\\Users\\Nour Al-Hoda\\Anaconda3\\lib\\site-packages\\sklearn\\linear_model\\logistic.py:433: FutureWarning: Default solver will be changed to 'lbfgs' in 0.22. Specify a solver to silence this warning.\n",
      "  FutureWarning)\n"
     ]
    },
    {
     "name": "stdout",
     "output_type": "stream",
     "text": [
      "Logistic Regression\n",
      "[[186   3]\n",
      " [  7   2]]\n",
      "0.6031746031746033\n",
      "Nearest Neighbors\n",
      "[[185   4]\n",
      " [  7   2]]\n",
      "0.6005291005291006\n",
      "Linear SVM\n",
      "[[189   0]\n",
      " [  9   0]]\n",
      "0.5\n",
      "Gradient Boosting Classifier\n",
      "[[185   4]\n",
      " [  6   3]]\n",
      "0.656084656084656\n",
      "Decision Tree\n",
      "[[175  14]\n",
      " [  6   3]]\n",
      "0.6296296296296295\n",
      "Random Forest\n",
      "[[189   0]\n",
      " [  8   1]]\n",
      "0.5555555555555556\n",
      "Neural Net\n",
      "[[189   0]\n",
      " [  8   1]]\n",
      "0.5555555555555556\n",
      "Naive Bayes\n",
      "[[107  82]\n",
      " [  2   7]]\n",
      "0.671957671957672\n",
      "AdaBoost\n",
      "[[184   5]\n",
      " [  3   6]]\n",
      "0.82010582010582\n",
      "Gaussian Process\n",
      "[[180   9]\n",
      " [  7   2]]\n",
      "0.5873015873015872\n",
      "=================================================================\n",
      "Results for  30  PCA components\n",
      "=================================================================\n",
      "Logistic Regression\n",
      "[[184   5]\n",
      " [  5   4]]\n",
      "0.708994708994709\n",
      "Nearest Neighbors\n",
      "[[188   1]\n",
      " [  7   2]]\n",
      "0.6084656084656085\n",
      "Linear SVM\n",
      "[[184   5]\n",
      " [  4   5]]\n",
      "0.7645502645502645\n"
     ]
    },
    {
     "name": "stderr",
     "output_type": "stream",
     "text": [
      "C:\\Users\\Nour Al-Hoda\\Anaconda3\\lib\\site-packages\\sklearn\\linear_model\\logistic.py:433: FutureWarning: Default solver will be changed to 'lbfgs' in 0.22. Specify a solver to silence this warning.\n",
      "  FutureWarning)\n"
     ]
    },
    {
     "name": "stdout",
     "output_type": "stream",
     "text": [
      "Gradient Boosting Classifier\n",
      "[[185   4]\n",
      " [  5   4]]\n",
      "0.7116402116402116\n",
      "Decision Tree\n",
      "[[179  10]\n",
      " [  4   5]]\n",
      "0.7513227513227513\n",
      "Random Forest\n",
      "[[187   2]\n",
      " [  8   1]]\n",
      "0.5502645502645502\n",
      "Neural Net\n",
      "[[188   1]\n",
      " [  5   4]]\n",
      "0.7195767195767195\n",
      "Naive Bayes\n",
      "[[170  19]\n",
      " [  0   9]]\n",
      "0.9497354497354498\n",
      "AdaBoost\n",
      "[[185   4]\n",
      " [  4   5]]\n",
      "0.7671957671957672\n",
      "Gaussian Process\n",
      "[[183   6]\n",
      " [  6   3]]\n",
      "0.6507936507936507\n",
      "=================================================================\n",
      "Results for  45  PCA components\n",
      "=================================================================\n",
      "Logistic Regression\n",
      "[[181   8]\n",
      " [  3   6]]\n",
      "0.8121693121693121\n",
      "Nearest Neighbors\n",
      "[[188   1]\n",
      " [  8   1]]\n",
      "0.5529100529100529\n",
      "Linear SVM\n",
      "[[179  10]\n",
      " [  3   6]]\n"
     ]
    },
    {
     "name": "stderr",
     "output_type": "stream",
     "text": [
      "C:\\Users\\Nour Al-Hoda\\Anaconda3\\lib\\site-packages\\sklearn\\linear_model\\logistic.py:433: FutureWarning: Default solver will be changed to 'lbfgs' in 0.22. Specify a solver to silence this warning.\n",
      "  FutureWarning)\n"
     ]
    },
    {
     "name": "stdout",
     "output_type": "stream",
     "text": [
      "0.8068783068783069\n",
      "Gradient Boosting Classifier\n",
      "[[187   2]\n",
      " [  6   3]]\n",
      "0.6613756613756614\n",
      "Decision Tree\n",
      "[[179  10]\n",
      " [  6   3]]\n",
      "0.6402116402116402\n",
      "Random Forest\n",
      "[[186   3]\n",
      " [  9   0]]\n",
      "0.4920634920634921\n",
      "Neural Net\n",
      "[[186   3]\n",
      " [  4   5]]\n",
      "0.7698412698412699\n",
      "Naive Bayes\n",
      "[[180   9]\n",
      " [  1   8]]\n",
      "0.9206349206349206\n",
      "AdaBoost\n",
      "[[184   5]\n",
      " [  5   4]]\n",
      "0.708994708994709\n",
      "Gaussian Process\n",
      "[[186   3]\n",
      " [  6   3]]\n",
      "0.6587301587301587\n",
      "=================================================================\n",
      "Results for  60  PCA components\n",
      "=================================================================\n",
      "Logistic Regression\n",
      "[[181   8]\n",
      " [  3   6]]\n",
      "0.8121693121693121\n",
      "Nearest Neighbors\n",
      "[[188   1]\n",
      " [  8   1]]\n",
      "0.5529100529100529\n",
      "Linear SVM\n",
      "[[181   8]\n",
      " [  3   6]]\n",
      "0.8121693121693121\n"
     ]
    },
    {
     "name": "stderr",
     "output_type": "stream",
     "text": [
      "C:\\Users\\Nour Al-Hoda\\Anaconda3\\lib\\site-packages\\sklearn\\linear_model\\logistic.py:433: FutureWarning: Default solver will be changed to 'lbfgs' in 0.22. Specify a solver to silence this warning.\n",
      "  FutureWarning)\n"
     ]
    },
    {
     "name": "stdout",
     "output_type": "stream",
     "text": [
      "Gradient Boosting Classifier\n",
      "[[181   8]\n",
      " [  8   1]]\n",
      "0.5343915343915344\n",
      "Decision Tree\n",
      "[[174  15]\n",
      " [  7   2]]\n",
      "0.5714285714285716\n",
      "Random Forest\n",
      "[[186   3]\n",
      " [  9   0]]\n",
      "0.4920634920634921\n",
      "Neural Net\n",
      "[[189   0]\n",
      " [  3   6]]\n",
      "0.8333333333333333\n",
      "Naive Bayes\n",
      "[[184   5]\n",
      " [  3   6]]\n",
      "0.82010582010582\n",
      "AdaBoost\n",
      "[[188   1]\n",
      " [  6   3]]\n",
      "0.664021164021164\n",
      "Gaussian Process\n",
      "[[186   3]\n",
      " [  6   3]]\n",
      "0.6587301587301587\n",
      "=================================================================\n",
      "Results for  75  PCA components\n",
      "=================================================================\n",
      "Logistic Regression\n",
      "[[182   7]\n",
      " [  3   6]]\n",
      "0.8148148148148149\n",
      "Nearest Neighbors\n",
      "[[188   1]\n",
      " [  8   1]]\n",
      "0.5529100529100529\n",
      "Linear SVM\n",
      "[[181   8]\n",
      " [  3   6]]\n",
      "0.8121693121693121\n"
     ]
    },
    {
     "name": "stderr",
     "output_type": "stream",
     "text": [
      "C:\\Users\\Nour Al-Hoda\\Anaconda3\\lib\\site-packages\\sklearn\\linear_model\\logistic.py:433: FutureWarning: Default solver will be changed to 'lbfgs' in 0.22. Specify a solver to silence this warning.\n",
      "  FutureWarning)\n"
     ]
    },
    {
     "name": "stdout",
     "output_type": "stream",
     "text": [
      "Gradient Boosting Classifier\n",
      "[[179  10]\n",
      " [  8   1]]\n",
      "0.5291005291005292\n",
      "Decision Tree\n",
      "[[175  14]\n",
      " [  8   1]]\n",
      "0.5185185185185185\n",
      "Random Forest\n",
      "[[183   6]\n",
      " [  9   0]]\n",
      "0.48412698412698413\n",
      "Neural Net\n",
      "[[186   3]\n",
      " [  5   4]]\n",
      "0.7142857142857143\n",
      "Naive Bayes\n",
      "[[181   8]\n",
      " [  2   7]]\n",
      "0.8677248677248677\n",
      "AdaBoost\n",
      "[[187   2]\n",
      " [  5   4]]\n",
      "0.716931216931217\n",
      "Gaussian Process\n",
      "[[187   2]\n",
      " [  6   3]]\n",
      "0.6613756613756614\n",
      "=================================================================\n",
      "Results for  90  PCA components\n",
      "=================================================================\n",
      "Logistic Regression\n",
      "[[182   7]\n",
      " [  2   7]]\n",
      "0.8703703703703703\n",
      "Nearest Neighbors\n",
      "[[188   1]\n",
      " [  8   1]]\n",
      "0.5529100529100529\n",
      "Linear SVM\n",
      "[[181   8]\n",
      " [  3   6]]\n",
      "0.8121693121693121\n"
     ]
    },
    {
     "name": "stderr",
     "output_type": "stream",
     "text": [
      "C:\\Users\\Nour Al-Hoda\\Anaconda3\\lib\\site-packages\\sklearn\\linear_model\\logistic.py:433: FutureWarning: Default solver will be changed to 'lbfgs' in 0.22. Specify a solver to silence this warning.\n",
      "  FutureWarning)\n"
     ]
    },
    {
     "name": "stdout",
     "output_type": "stream",
     "text": [
      "Gradient Boosting Classifier\n",
      "[[185   4]\n",
      " [  6   3]]\n",
      "0.656084656084656\n",
      "Decision Tree\n",
      "[[182   7]\n",
      " [  5   4]]\n",
      "0.7037037037037037\n",
      "Random Forest\n",
      "[[185   4]\n",
      " [  9   0]]\n",
      "0.4894179894179894\n",
      "Neural Net\n",
      "[[188   1]\n",
      " [  5   4]]\n",
      "0.7195767195767195\n",
      "Naive Bayes\n",
      "[[182   7]\n",
      " [  3   6]]\n",
      "0.8148148148148149\n",
      "AdaBoost\n",
      "[[187   2]\n",
      " [  6   3]]\n",
      "0.6613756613756614\n",
      "Gaussian Process\n",
      "[[188   1]\n",
      " [  7   2]]\n",
      "0.6084656084656085\n",
      "=================================================================\n",
      "Results for  105  PCA components\n",
      "=================================================================\n",
      "Logistic Regression\n",
      "[[183   6]\n",
      " [  2   7]]\n",
      "0.873015873015873\n",
      "Nearest Neighbors\n",
      "[[188   1]\n",
      " [  8   1]]\n",
      "0.5529100529100529\n",
      "Linear SVM\n",
      "[[184   5]\n",
      " [  3   6]]\n",
      "0.82010582010582\n"
     ]
    },
    {
     "name": "stderr",
     "output_type": "stream",
     "text": [
      "C:\\Users\\Nour Al-Hoda\\Anaconda3\\lib\\site-packages\\sklearn\\linear_model\\logistic.py:433: FutureWarning: Default solver will be changed to 'lbfgs' in 0.22. Specify a solver to silence this warning.\n",
      "  FutureWarning)\n"
     ]
    },
    {
     "name": "stdout",
     "output_type": "stream",
     "text": [
      "Gradient Boosting Classifier\n",
      "[[184   5]\n",
      " [  8   1]]\n",
      "0.5423280423280423\n",
      "Decision Tree\n",
      "[[180   9]\n",
      " [  8   1]]\n",
      "0.5317460317460317\n",
      "Random Forest\n",
      "[[185   4]\n",
      " [  9   0]]\n",
      "0.4894179894179894\n",
      "Neural Net\n",
      "[[184   5]\n",
      " [  5   4]]\n",
      "0.708994708994709\n",
      "Naive Bayes\n",
      "[[181   8]\n",
      " [  4   5]]\n",
      "0.7566137566137566\n",
      "AdaBoost\n",
      "[[186   3]\n",
      " [  5   4]]\n",
      "0.7142857142857143\n",
      "Gaussian Process\n",
      "[[188   1]\n",
      " [  7   2]]\n",
      "0.6084656084656085\n",
      "=================================================================\n",
      "Results for  120  PCA components\n",
      "=================================================================\n",
      "Logistic Regression\n",
      "[[186   3]\n",
      " [  3   6]]\n",
      "0.8253968253968254\n",
      "Nearest Neighbors\n",
      "[[188   1]\n",
      " [  8   1]]\n",
      "0.5529100529100529\n",
      "Linear SVM\n",
      "[[183   6]\n",
      " [  5   4]]\n",
      "0.7063492063492064\n"
     ]
    },
    {
     "name": "stderr",
     "output_type": "stream",
     "text": [
      "C:\\Users\\Nour Al-Hoda\\Anaconda3\\lib\\site-packages\\sklearn\\linear_model\\logistic.py:433: FutureWarning: Default solver will be changed to 'lbfgs' in 0.22. Specify a solver to silence this warning.\n",
      "  FutureWarning)\n"
     ]
    },
    {
     "name": "stdout",
     "output_type": "stream",
     "text": [
      "Gradient Boosting Classifier\n",
      "[[180   9]\n",
      " [  8   1]]\n",
      "0.5317460317460317\n",
      "Decision Tree\n",
      "[[182   7]\n",
      " [  6   3]]\n",
      "0.6481481481481481\n",
      "Random Forest\n",
      "[[183   6]\n",
      " [  9   0]]\n",
      "0.48412698412698413\n",
      "Neural Net\n",
      "[[188   1]\n",
      " [  5   4]]\n",
      "0.7195767195767195\n",
      "Naive Bayes\n",
      "[[176  13]\n",
      " [  4   5]]\n",
      "0.7433862433862433\n",
      "AdaBoost\n",
      "[[189   0]\n",
      " [  5   4]]\n",
      "0.7222222222222222\n",
      "Gaussian Process\n",
      "[[189   0]\n",
      " [  7   2]]\n",
      "0.6111111111111112\n",
      "=================================================================\n",
      "Results for  135  PCA components\n",
      "=================================================================\n",
      "Logistic Regression\n",
      "[[187   2]\n",
      " [  3   6]]\n",
      "0.828042328042328\n",
      "Nearest Neighbors\n",
      "[[188   1]\n",
      " [  8   1]]\n",
      "0.5529100529100529\n",
      "Linear SVM\n",
      "[[184   5]\n",
      " [  4   5]]\n",
      "0.7645502645502645\n"
     ]
    },
    {
     "name": "stderr",
     "output_type": "stream",
     "text": [
      "C:\\Users\\Nour Al-Hoda\\Anaconda3\\lib\\site-packages\\sklearn\\linear_model\\logistic.py:433: FutureWarning: Default solver will be changed to 'lbfgs' in 0.22. Specify a solver to silence this warning.\n",
      "  FutureWarning)\n"
     ]
    },
    {
     "name": "stdout",
     "output_type": "stream",
     "text": [
      "Gradient Boosting Classifier\n",
      "[[183   6]\n",
      " [  7   2]]\n",
      "0.5952380952380952\n",
      "Decision Tree\n",
      "[[175  14]\n",
      " [  6   3]]\n",
      "0.6296296296296295\n",
      "Random Forest\n",
      "[[183   6]\n",
      " [  9   0]]\n",
      "0.48412698412698413\n",
      "Neural Net\n",
      "[[188   1]\n",
      " [  6   3]]\n",
      "0.664021164021164\n",
      "Naive Bayes\n",
      "[[177  12]\n",
      " [  3   6]]\n",
      "0.8015873015873015\n",
      "AdaBoost\n",
      "[[187   2]\n",
      " [  5   4]]\n",
      "0.716931216931217\n",
      "Gaussian Process\n",
      "[[189   0]\n",
      " [  8   1]]\n",
      "0.5555555555555556\n",
      "=================================================================\n",
      "Results for  150  PCA components\n",
      "=================================================================\n",
      "Logistic Regression\n",
      "[[186   3]\n",
      " [  3   6]]\n",
      "0.8253968253968254\n",
      "Nearest Neighbors\n",
      "[[188   1]\n",
      " [  8   1]]\n",
      "0.5529100529100529\n",
      "Linear SVM\n",
      "[[183   6]\n",
      " [  3   6]]\n",
      "0.8174603174603174\n"
     ]
    },
    {
     "name": "stderr",
     "output_type": "stream",
     "text": [
      "C:\\Users\\Nour Al-Hoda\\Anaconda3\\lib\\site-packages\\sklearn\\linear_model\\logistic.py:433: FutureWarning: Default solver will be changed to 'lbfgs' in 0.22. Specify a solver to silence this warning.\n",
      "  FutureWarning)\n"
     ]
    },
    {
     "name": "stdout",
     "output_type": "stream",
     "text": [
      "Gradient Boosting Classifier\n",
      "[[179  10]\n",
      " [  9   0]]\n",
      "0.47354497354497355\n",
      "Decision Tree\n",
      "[[176  13]\n",
      " [  8   1]]\n",
      "0.5211640211640212\n",
      "Random Forest\n",
      "[[183   6]\n",
      " [  9   0]]\n",
      "0.48412698412698413\n",
      "Neural Net\n",
      "[[186   3]\n",
      " [  5   4]]\n",
      "0.7142857142857143\n",
      "Naive Bayes\n",
      "[[177  12]\n",
      " [  2   7]]\n",
      "0.8571428571428571\n",
      "AdaBoost\n",
      "[[187   2]\n",
      " [  3   6]]\n",
      "0.828042328042328\n",
      "Gaussian Process\n",
      "[[189   0]\n",
      " [  8   1]]\n",
      "0.5555555555555556\n",
      "=================================================================\n",
      "Results for  165  PCA components\n",
      "=================================================================\n",
      "Logistic Regression\n",
      "[[186   3]\n",
      " [  3   6]]\n",
      "0.8253968253968254\n",
      "Nearest Neighbors\n",
      "[[188   1]\n",
      " [  8   1]]\n",
      "0.5529100529100529\n",
      "Linear SVM\n",
      "[[183   6]\n",
      " [  4   5]]\n",
      "0.7619047619047619\n"
     ]
    },
    {
     "name": "stderr",
     "output_type": "stream",
     "text": [
      "C:\\Users\\Nour Al-Hoda\\Anaconda3\\lib\\site-packages\\sklearn\\linear_model\\logistic.py:433: FutureWarning: Default solver will be changed to 'lbfgs' in 0.22. Specify a solver to silence this warning.\n",
      "  FutureWarning)\n"
     ]
    },
    {
     "name": "stdout",
     "output_type": "stream",
     "text": [
      "Gradient Boosting Classifier\n",
      "[[181   8]\n",
      " [  7   2]]\n",
      "0.58994708994709\n",
      "Decision Tree\n",
      "[[177  12]\n",
      " [  6   3]]\n",
      "0.6349206349206349\n",
      "Random Forest\n",
      "[[183   6]\n",
      " [  9   0]]\n",
      "0.48412698412698413\n",
      "Neural Net\n",
      "[[189   0]\n",
      " [  5   4]]\n",
      "0.7222222222222222\n",
      "Naive Bayes\n",
      "[[175  14]\n",
      " [  3   6]]\n",
      "0.7962962962962963\n",
      "AdaBoost\n",
      "[[189   0]\n",
      " [  4   5]]\n",
      "0.7777777777777778\n",
      "Gaussian Process\n",
      "[[189   0]\n",
      " [  8   1]]\n",
      "0.5555555555555556\n",
      "=================================================================\n",
      "Results for  180  PCA components\n",
      "=================================================================\n",
      "Logistic Regression\n",
      "[[186   3]\n",
      " [  3   6]]\n",
      "0.8253968253968254\n",
      "Nearest Neighbors\n",
      "[[188   1]\n",
      " [  9   0]]\n",
      "0.4973544973544973\n",
      "Linear SVM\n",
      "[[184   5]\n",
      " [  4   5]]\n",
      "0.7645502645502645\n"
     ]
    },
    {
     "name": "stderr",
     "output_type": "stream",
     "text": [
      "C:\\Users\\Nour Al-Hoda\\Anaconda3\\lib\\site-packages\\sklearn\\linear_model\\logistic.py:433: FutureWarning: Default solver will be changed to 'lbfgs' in 0.22. Specify a solver to silence this warning.\n",
      "  FutureWarning)\n"
     ]
    },
    {
     "name": "stdout",
     "output_type": "stream",
     "text": [
      "Gradient Boosting Classifier\n",
      "[[181   8]\n",
      " [  9   0]]\n",
      "0.47883597883597884\n",
      "Decision Tree\n",
      "[[175  14]\n",
      " [  7   2]]\n",
      "0.5740740740740741\n",
      "Random Forest\n",
      "[[184   5]\n",
      " [  9   0]]\n",
      "0.48677248677248675\n",
      "Neural Net\n",
      "[[188   1]\n",
      " [  5   4]]\n",
      "0.7195767195767195\n",
      "Naive Bayes\n",
      "[[177  12]\n",
      " [  2   7]]\n",
      "0.8571428571428571\n",
      "AdaBoost\n",
      "[[186   3]\n",
      " [  6   3]]\n",
      "0.6587301587301587\n",
      "Gaussian Process\n",
      "[[189   0]\n",
      " [  8   1]]\n",
      "0.5555555555555556\n",
      "=================================================================\n",
      "Results for  195  PCA components\n",
      "=================================================================\n",
      "Logistic Regression\n",
      "[[186   3]\n",
      " [  3   6]]\n",
      "0.8253968253968254\n",
      "Nearest Neighbors\n",
      "[[188   1]\n",
      " [  9   0]]\n",
      "0.4973544973544973\n"
     ]
    },
    {
     "name": "stderr",
     "output_type": "stream",
     "text": [
      "C:\\Users\\Nour Al-Hoda\\Anaconda3\\lib\\site-packages\\sklearn\\linear_model\\logistic.py:433: FutureWarning: Default solver will be changed to 'lbfgs' in 0.22. Specify a solver to silence this warning.\n",
      "  FutureWarning)\n"
     ]
    },
    {
     "name": "stdout",
     "output_type": "stream",
     "text": [
      "Linear SVM\n",
      "[[184   5]\n",
      " [  3   6]]\n",
      "0.82010582010582\n",
      "Gradient Boosting Classifier\n",
      "[[180   9]\n",
      " [  7   2]]\n",
      "0.5873015873015872\n",
      "Decision Tree\n",
      "[[174  15]\n",
      " [  6   3]]\n",
      "0.626984126984127\n",
      "Random Forest\n",
      "[[183   6]\n",
      " [  9   0]]\n",
      "0.48412698412698413\n",
      "Neural Net\n",
      "[[189   0]\n",
      " [  6   3]]\n",
      "0.6666666666666666\n",
      "Naive Bayes\n",
      "[[178  11]\n",
      " [  3   6]]\n",
      "0.8042328042328042\n",
      "AdaBoost\n",
      "[[186   3]\n",
      " [  5   4]]\n",
      "0.7142857142857143\n",
      "Gaussian Process\n",
      "[[189   0]\n",
      " [  8   1]]\n",
      "0.5555555555555556\n",
      "=================================================================\n",
      "Results for  210  PCA components\n",
      "=================================================================\n",
      "Logistic Regression\n",
      "[[186   3]\n",
      " [  3   6]]\n",
      "0.8253968253968254\n",
      "Nearest Neighbors\n",
      "[[188   1]\n",
      " [  9   0]]\n",
      "0.4973544973544973\n",
      "Linear SVM\n",
      "[[184   5]\n",
      " [  3   6]]\n",
      "0.82010582010582\n"
     ]
    },
    {
     "name": "stderr",
     "output_type": "stream",
     "text": [
      "C:\\Users\\Nour Al-Hoda\\Anaconda3\\lib\\site-packages\\sklearn\\linear_model\\logistic.py:433: FutureWarning: Default solver will be changed to 'lbfgs' in 0.22. Specify a solver to silence this warning.\n",
      "  FutureWarning)\n"
     ]
    },
    {
     "name": "stdout",
     "output_type": "stream",
     "text": [
      "Gradient Boosting Classifier\n",
      "[[180   9]\n",
      " [  7   2]]\n",
      "0.5873015873015872\n",
      "Decision Tree\n",
      "[[169  20]\n",
      " [  8   1]]\n",
      "0.5026455026455027\n",
      "Random Forest\n",
      "[[183   6]\n",
      " [  9   0]]\n",
      "0.48412698412698413\n",
      "Neural Net\n",
      "[[188   1]\n",
      " [  5   4]]\n",
      "0.7195767195767195\n",
      "Naive Bayes\n",
      "[[179  10]\n",
      " [  5   4]]\n",
      "0.6957671957671957\n",
      "AdaBoost\n",
      "[[188   1]\n",
      " [  4   5]]\n",
      "0.775132275132275\n",
      "Gaussian Process\n",
      "[[189   0]\n",
      " [  8   1]]\n",
      "0.5555555555555556\n",
      "=================================================================\n",
      "Results for  225  PCA components\n",
      "=================================================================\n",
      "Logistic Regression\n",
      "[[187   2]\n",
      " [  3   6]]\n",
      "0.828042328042328\n",
      "Nearest Neighbors\n",
      "[[188   1]\n",
      " [  9   0]]\n",
      "0.4973544973544973\n",
      "Linear SVM\n",
      "[[184   5]\n",
      " [  3   6]]\n",
      "0.82010582010582\n"
     ]
    },
    {
     "name": "stderr",
     "output_type": "stream",
     "text": [
      "C:\\Users\\Nour Al-Hoda\\Anaconda3\\lib\\site-packages\\sklearn\\linear_model\\logistic.py:433: FutureWarning: Default solver will be changed to 'lbfgs' in 0.22. Specify a solver to silence this warning.\n",
      "  FutureWarning)\n"
     ]
    },
    {
     "name": "stdout",
     "output_type": "stream",
     "text": [
      "Gradient Boosting Classifier\n",
      "[[182   7]\n",
      " [  7   2]]\n",
      "0.5925925925925927\n",
      "Decision Tree\n",
      "[[177  12]\n",
      " [  5   4]]\n",
      "0.6904761904761905\n",
      "Random Forest\n",
      "[[183   6]\n",
      " [  9   0]]\n",
      "0.48412698412698413\n",
      "Neural Net\n",
      "[[186   3]\n",
      " [  3   6]]\n",
      "0.8253968253968254\n",
      "Naive Bayes\n",
      "[[180   9]\n",
      " [  5   4]]\n",
      "0.6984126984126984\n",
      "AdaBoost\n",
      "[[187   2]\n",
      " [  5   4]]\n",
      "0.716931216931217\n",
      "Gaussian Process\n",
      "[[189   0]\n",
      " [  8   1]]\n",
      "0.5555555555555556\n",
      "=================================================================\n",
      "Results for  240  PCA components\n",
      "=================================================================\n",
      "Logistic Regression\n",
      "[[186   3]\n",
      " [  3   6]]\n",
      "0.8253968253968254\n",
      "Nearest Neighbors\n",
      "[[188   1]\n",
      " [  9   0]]\n",
      "0.4973544973544973\n",
      "Linear SVM\n",
      "[[184   5]\n",
      " [  3   6]]\n",
      "0.82010582010582\n"
     ]
    },
    {
     "name": "stderr",
     "output_type": "stream",
     "text": [
      "C:\\Users\\Nour Al-Hoda\\Anaconda3\\lib\\site-packages\\sklearn\\linear_model\\logistic.py:433: FutureWarning: Default solver will be changed to 'lbfgs' in 0.22. Specify a solver to silence this warning.\n",
      "  FutureWarning)\n"
     ]
    },
    {
     "name": "stdout",
     "output_type": "stream",
     "text": [
      "Gradient Boosting Classifier\n",
      "[[179  10]\n",
      " [  7   2]]\n",
      "0.5846560846560848\n",
      "Decision Tree\n",
      "[[171  18]\n",
      " [  7   2]]\n",
      "0.5634920634920635\n",
      "Random Forest\n",
      "[[183   6]\n",
      " [  9   0]]\n",
      "0.48412698412698413\n",
      "Neural Net\n",
      "[[188   1]\n",
      " [  5   4]]\n",
      "0.7195767195767195\n",
      "Naive Bayes\n",
      "[[187   2]\n",
      " [  8   1]]\n",
      "0.5502645502645502\n",
      "AdaBoost\n",
      "[[188   1]\n",
      " [  6   3]]\n",
      "0.664021164021164\n",
      "Gaussian Process\n",
      "[[189   0]\n",
      " [  8   1]]\n",
      "0.5555555555555556\n",
      "=================================================================\n",
      "Results for  255  PCA components\n",
      "=================================================================\n",
      "Logistic Regression\n",
      "[[186   3]\n",
      " [  3   6]]\n",
      "0.8253968253968254\n",
      "Nearest Neighbors\n",
      "[[188   1]\n",
      " [  8   1]]\n",
      "0.5529100529100529\n",
      "Linear SVM\n",
      "[[184   5]\n",
      " [  3   6]]\n",
      "0.82010582010582\n"
     ]
    },
    {
     "name": "stderr",
     "output_type": "stream",
     "text": [
      "C:\\Users\\Nour Al-Hoda\\Anaconda3\\lib\\site-packages\\sklearn\\linear_model\\logistic.py:433: FutureWarning: Default solver will be changed to 'lbfgs' in 0.22. Specify a solver to silence this warning.\n",
      "  FutureWarning)\n"
     ]
    },
    {
     "name": "stdout",
     "output_type": "stream",
     "text": [
      "Gradient Boosting Classifier\n",
      "[[181   8]\n",
      " [  6   3]]\n",
      "0.6455026455026455\n",
      "Decision Tree\n",
      "[[181   8]\n",
      " [  6   3]]\n",
      "0.6455026455026455\n",
      "Random Forest\n",
      "[[183   6]\n",
      " [  9   0]]\n",
      "0.48412698412698413\n",
      "Neural Net\n",
      "[[188   1]\n",
      " [  5   4]]\n",
      "0.7195767195767195\n",
      "Naive Bayes\n",
      "[[189   0]\n",
      " [  9   0]]\n",
      "0.5\n",
      "AdaBoost\n",
      "[[189   0]\n",
      " [  6   3]]\n",
      "0.6666666666666666\n",
      "Gaussian Process\n",
      "[[189   0]\n",
      " [  8   1]]\n",
      "0.5555555555555556\n",
      "=================================================================\n",
      "Results for  270  PCA components\n",
      "=================================================================\n",
      "Logistic Regression\n",
      "[[186   3]\n",
      " [  3   6]]\n",
      "0.8253968253968254\n",
      "Nearest Neighbors\n",
      "[[188   1]\n",
      " [  8   1]]\n",
      "0.5529100529100529\n",
      "Linear SVM\n",
      "[[184   5]\n",
      " [  3   6]]\n",
      "0.82010582010582\n"
     ]
    },
    {
     "name": "stderr",
     "output_type": "stream",
     "text": [
      "C:\\Users\\Nour Al-Hoda\\Anaconda3\\lib\\site-packages\\sklearn\\linear_model\\logistic.py:433: FutureWarning: Default solver will be changed to 'lbfgs' in 0.22. Specify a solver to silence this warning.\n",
      "  FutureWarning)\n"
     ]
    },
    {
     "name": "stdout",
     "output_type": "stream",
     "text": [
      "Gradient Boosting Classifier\n",
      "[[181   8]\n",
      " [  7   2]]\n",
      "0.58994708994709\n",
      "Decision Tree\n",
      "[[167  22]\n",
      " [  3   6]]\n",
      "0.7751322751322751\n",
      "Random Forest\n",
      "[[183   6]\n",
      " [  9   0]]\n",
      "0.48412698412698413\n",
      "Neural Net\n",
      "[[188   1]\n",
      " [  5   4]]\n",
      "0.7195767195767195\n",
      "Naive Bayes\n",
      "[[189   0]\n",
      " [  9   0]]\n",
      "0.5\n",
      "AdaBoost\n",
      "[[187   2]\n",
      " [  5   4]]\n",
      "0.716931216931217\n",
      "Gaussian Process\n",
      "[[189   0]\n",
      " [  8   1]]\n",
      "0.5555555555555556\n",
      "=================================================================\n",
      "Results for  285  PCA components\n",
      "=================================================================\n",
      "Logistic Regression\n",
      "[[186   3]\n",
      " [  3   6]]\n",
      "0.8253968253968254\n"
     ]
    },
    {
     "name": "stderr",
     "output_type": "stream",
     "text": [
      "C:\\Users\\Nour Al-Hoda\\Anaconda3\\lib\\site-packages\\sklearn\\linear_model\\logistic.py:433: FutureWarning: Default solver will be changed to 'lbfgs' in 0.22. Specify a solver to silence this warning.\n",
      "  FutureWarning)\n"
     ]
    },
    {
     "name": "stdout",
     "output_type": "stream",
     "text": [
      "Nearest Neighbors\n",
      "[[188   1]\n",
      " [  8   1]]\n",
      "0.5529100529100529\n",
      "Linear SVM\n",
      "[[184   5]\n",
      " [  3   6]]\n",
      "0.82010582010582\n",
      "Gradient Boosting Classifier\n",
      "[[182   7]\n",
      " [  7   2]]\n",
      "0.5925925925925927\n",
      "Decision Tree\n",
      "[[176  13]\n",
      " [  7   2]]\n",
      "0.5767195767195767\n",
      "Random Forest\n",
      "[[183   6]\n",
      " [  9   0]]\n",
      "0.48412698412698413\n",
      "Neural Net\n",
      "[[186   3]\n",
      " [  2   7]]\n",
      "0.8809523809523809\n",
      "Naive Bayes\n",
      "[[189   0]\n",
      " [  9   0]]\n",
      "0.5\n",
      "AdaBoost\n",
      "[[189   0]\n",
      " [  5   4]]\n",
      "0.7222222222222222\n",
      "Gaussian Process\n",
      "[[189   0]\n",
      " [  8   1]]\n",
      "0.5555555555555556\n",
      "=================================================================\n",
      "Results for  300  PCA components\n",
      "=================================================================\n",
      "Logistic Regression\n",
      "[[186   3]\n",
      " [  3   6]]\n",
      "0.8253968253968254\n",
      "Nearest Neighbors\n",
      "[[188   1]\n",
      " [  8   1]]\n",
      "0.5529100529100529\n",
      "Linear SVM\n",
      "[[184   5]\n",
      " [  3   6]]\n",
      "0.82010582010582\n"
     ]
    },
    {
     "name": "stderr",
     "output_type": "stream",
     "text": [
      "C:\\Users\\Nour Al-Hoda\\Anaconda3\\lib\\site-packages\\sklearn\\linear_model\\logistic.py:433: FutureWarning: Default solver will be changed to 'lbfgs' in 0.22. Specify a solver to silence this warning.\n",
      "  FutureWarning)\n"
     ]
    },
    {
     "name": "stdout",
     "output_type": "stream",
     "text": [
      "Gradient Boosting Classifier\n",
      "[[182   7]\n",
      " [  7   2]]\n",
      "0.5925925925925927\n",
      "Decision Tree\n",
      "[[182   7]\n",
      " [  4   5]]\n",
      "0.7592592592592593\n",
      "Random Forest\n",
      "[[183   6]\n",
      " [  9   0]]\n",
      "0.48412698412698413\n",
      "Neural Net\n",
      "[[188   1]\n",
      " [  6   3]]\n",
      "0.664021164021164\n",
      "Naive Bayes\n",
      "[[189   0]\n",
      " [  9   0]]\n",
      "0.5\n",
      "AdaBoost\n",
      "[[188   1]\n",
      " [  5   4]]\n",
      "0.7195767195767195\n",
      "Gaussian Process\n",
      "[[189   0]\n",
      " [  8   1]]\n",
      "0.5555555555555556\n",
      "=================================================================\n",
      "Results for  315  PCA components\n",
      "=================================================================\n",
      "Logistic Regression\n",
      "[[186   3]\n",
      " [  3   6]]\n",
      "0.8253968253968254\n",
      "Nearest Neighbors\n",
      "[[188   1]\n",
      " [  8   1]]\n",
      "0.5529100529100529\n",
      "Linear SVM\n",
      "[[184   5]\n",
      " [  3   6]]\n"
     ]
    },
    {
     "name": "stderr",
     "output_type": "stream",
     "text": [
      "C:\\Users\\Nour Al-Hoda\\Anaconda3\\lib\\site-packages\\sklearn\\linear_model\\logistic.py:433: FutureWarning: Default solver will be changed to 'lbfgs' in 0.22. Specify a solver to silence this warning.\n",
      "  FutureWarning)\n"
     ]
    },
    {
     "name": "stdout",
     "output_type": "stream",
     "text": [
      "0.82010582010582\n",
      "Gradient Boosting Classifier\n",
      "[[181   8]\n",
      " [  7   2]]\n",
      "0.58994708994709\n",
      "Decision Tree\n",
      "[[174  15]\n",
      " [  6   3]]\n",
      "0.626984126984127\n",
      "Random Forest\n",
      "[[183   6]\n",
      " [  9   0]]\n",
      "0.48412698412698413\n",
      "Neural Net\n",
      "[[187   2]\n",
      " [  6   3]]\n",
      "0.6613756613756614\n",
      "Naive Bayes\n",
      "[[189   0]\n",
      " [  9   0]]\n",
      "0.5\n",
      "AdaBoost\n",
      "[[187   2]\n",
      " [  7   2]]\n",
      "0.6058201058201058\n",
      "Gaussian Process\n",
      "[[189   0]\n",
      " [  8   1]]\n",
      "0.5555555555555556\n",
      "=================================================================\n",
      "Results for  330  PCA components\n",
      "=================================================================\n",
      "Logistic Regression\n",
      "[[186   3]\n",
      " [  3   6]]\n",
      "0.8253968253968254\n",
      "Nearest Neighbors\n",
      "[[188   1]\n",
      " [  8   1]]\n",
      "0.5529100529100529\n",
      "Linear SVM\n",
      "[[184   5]\n",
      " [  3   6]]\n"
     ]
    },
    {
     "name": "stderr",
     "output_type": "stream",
     "text": [
      "C:\\Users\\Nour Al-Hoda\\Anaconda3\\lib\\site-packages\\sklearn\\linear_model\\logistic.py:433: FutureWarning: Default solver will be changed to 'lbfgs' in 0.22. Specify a solver to silence this warning.\n",
      "  FutureWarning)\n"
     ]
    },
    {
     "name": "stdout",
     "output_type": "stream",
     "text": [
      "0.82010582010582\n",
      "Gradient Boosting Classifier\n",
      "[[181   8]\n",
      " [  7   2]]\n",
      "0.58994708994709\n",
      "Decision Tree\n",
      "[[170  19]\n",
      " [  6   3]]\n",
      "0.6164021164021164\n",
      "Random Forest\n",
      "[[183   6]\n",
      " [  9   0]]\n",
      "0.48412698412698413\n",
      "Neural Net\n",
      "[[188   1]\n",
      " [  6   3]]\n",
      "0.664021164021164\n",
      "Naive Bayes\n",
      "[[189   0]\n",
      " [  9   0]]\n",
      "0.5\n",
      "AdaBoost\n",
      "[[187   2]\n",
      " [  4   5]]\n",
      "0.7724867724867726\n",
      "Gaussian Process\n",
      "[[189   0]\n",
      " [  8   1]]\n",
      "0.5555555555555556\n",
      "=================================================================\n",
      "Results for  345  PCA components\n",
      "=================================================================\n",
      "Logistic Regression\n",
      "[[187   2]\n",
      " [  3   6]]\n",
      "0.828042328042328\n",
      "Nearest Neighbors\n",
      "[[188   1]\n",
      " [  8   1]]\n",
      "0.5529100529100529\n",
      "Linear SVM\n",
      "[[184   5]\n",
      " [  3   6]]\n"
     ]
    },
    {
     "name": "stderr",
     "output_type": "stream",
     "text": [
      "C:\\Users\\Nour Al-Hoda\\Anaconda3\\lib\\site-packages\\sklearn\\linear_model\\logistic.py:433: FutureWarning: Default solver will be changed to 'lbfgs' in 0.22. Specify a solver to silence this warning.\n",
      "  FutureWarning)\n"
     ]
    },
    {
     "name": "stdout",
     "output_type": "stream",
     "text": [
      "0.82010582010582\n",
      "Gradient Boosting Classifier\n",
      "[[181   8]\n",
      " [  7   2]]\n",
      "0.58994708994709\n",
      "Decision Tree\n",
      "[[180   9]\n",
      " [  6   3]]\n",
      "0.6428571428571428\n",
      "Random Forest\n",
      "[[183   6]\n",
      " [  9   0]]\n",
      "0.48412698412698413\n",
      "Neural Net\n",
      "[[188   1]\n",
      " [  5   4]]\n",
      "0.7195767195767195\n",
      "Naive Bayes\n",
      "[[189   0]\n",
      " [  9   0]]\n",
      "0.5\n",
      "AdaBoost\n",
      "[[188   1]\n",
      " [  5   4]]\n",
      "0.7195767195767195\n",
      "Gaussian Process\n",
      "[[189   0]\n",
      " [  8   1]]\n",
      "0.5555555555555556\n",
      "=================================================================\n",
      "Results for  360  PCA components\n",
      "=================================================================\n",
      "Logistic Regression\n",
      "[[187   2]\n",
      " [  3   6]]\n",
      "0.828042328042328\n",
      "Nearest Neighbors\n",
      "[[188   1]\n",
      " [  8   1]]\n",
      "0.5529100529100529\n"
     ]
    },
    {
     "name": "stderr",
     "output_type": "stream",
     "text": [
      "C:\\Users\\Nour Al-Hoda\\Anaconda3\\lib\\site-packages\\sklearn\\linear_model\\logistic.py:433: FutureWarning: Default solver will be changed to 'lbfgs' in 0.22. Specify a solver to silence this warning.\n",
      "  FutureWarning)\n"
     ]
    },
    {
     "name": "stdout",
     "output_type": "stream",
     "text": [
      "Linear SVM\n",
      "[[184   5]\n",
      " [  3   6]]\n",
      "0.82010582010582\n",
      "Gradient Boosting Classifier\n",
      "[[181   8]\n",
      " [  7   2]]\n",
      "0.58994708994709\n",
      "Decision Tree\n",
      "[[176  13]\n",
      " [  4   5]]\n",
      "0.7433862433862433\n",
      "Random Forest\n",
      "[[183   6]\n",
      " [  9   0]]\n",
      "0.48412698412698413\n",
      "Neural Net\n",
      "[[189   0]\n",
      " [  8   1]]\n",
      "0.5555555555555556\n",
      "Naive Bayes\n",
      "[[189   0]\n",
      " [  9   0]]\n",
      "0.5\n",
      "AdaBoost\n",
      "[[189   0]\n",
      " [  7   2]]\n",
      "0.6111111111111112\n",
      "Gaussian Process\n",
      "[[189   0]\n",
      " [  8   1]]\n",
      "0.5555555555555556\n",
      "=================================================================\n",
      "Results for  375  PCA components\n",
      "=================================================================\n",
      "Logistic Regression\n",
      "[[187   2]\n",
      " [  3   6]]\n",
      "0.828042328042328\n",
      "Nearest Neighbors\n",
      "[[188   1]\n",
      " [  8   1]]\n",
      "0.5529100529100529\n",
      "Linear SVM\n",
      "[[184   5]\n",
      " [  3   6]]\n"
     ]
    },
    {
     "name": "stderr",
     "output_type": "stream",
     "text": [
      "C:\\Users\\Nour Al-Hoda\\Anaconda3\\lib\\site-packages\\sklearn\\linear_model\\logistic.py:433: FutureWarning: Default solver will be changed to 'lbfgs' in 0.22. Specify a solver to silence this warning.\n",
      "  FutureWarning)\n"
     ]
    },
    {
     "name": "stdout",
     "output_type": "stream",
     "text": [
      "0.82010582010582\n",
      "Gradient Boosting Classifier\n",
      "[[181   8]\n",
      " [  7   2]]\n",
      "0.58994708994709\n",
      "Decision Tree\n",
      "[[177  12]\n",
      " [  6   3]]\n",
      "0.6349206349206349\n",
      "Random Forest\n",
      "[[183   6]\n",
      " [  9   0]]\n",
      "0.48412698412698413\n",
      "Neural Net\n",
      "[[187   2]\n",
      " [  4   5]]\n",
      "0.7724867724867726\n",
      "Naive Bayes\n",
      "[[189   0]\n",
      " [  9   0]]\n",
      "0.5\n",
      "AdaBoost\n",
      "[[185   4]\n",
      " [  5   4]]\n",
      "0.7116402116402116\n",
      "Gaussian Process\n",
      "[[189   0]\n",
      " [  8   1]]\n",
      "0.5555555555555556\n",
      "=================================================================\n",
      "Results for  390  PCA components\n",
      "=================================================================\n",
      "Logistic Regression\n",
      "[[187   2]\n",
      " [  3   6]]\n",
      "0.828042328042328\n",
      "Nearest Neighbors\n",
      "[[188   1]\n",
      " [  8   1]]\n"
     ]
    },
    {
     "name": "stderr",
     "output_type": "stream",
     "text": [
      "C:\\Users\\Nour Al-Hoda\\Anaconda3\\lib\\site-packages\\sklearn\\linear_model\\logistic.py:433: FutureWarning: Default solver will be changed to 'lbfgs' in 0.22. Specify a solver to silence this warning.\n",
      "  FutureWarning)\n"
     ]
    },
    {
     "name": "stdout",
     "output_type": "stream",
     "text": [
      "0.5529100529100529\n",
      "Linear SVM\n",
      "[[184   5]\n",
      " [  3   6]]\n",
      "0.82010582010582\n",
      "Gradient Boosting Classifier\n",
      "[[181   8]\n",
      " [  7   2]]\n",
      "0.58994708994709\n",
      "Decision Tree\n",
      "[[179  10]\n",
      " [  7   2]]\n",
      "0.5846560846560848\n",
      "Random Forest\n",
      "[[183   6]\n",
      " [  9   0]]\n",
      "0.48412698412698413\n",
      "Neural Net\n",
      "[[189   0]\n",
      " [  7   2]]\n",
      "0.6111111111111112\n",
      "Naive Bayes\n",
      "[[189   0]\n",
      " [  9   0]]\n",
      "0.5\n",
      "AdaBoost\n",
      "[[185   4]\n",
      " [  5   4]]\n",
      "0.7116402116402116\n",
      "Gaussian Process\n",
      "[[189   0]\n",
      " [  8   1]]\n",
      "0.5555555555555556\n",
      "=================================================================\n",
      "=================================================================\n",
      "Results for  Yousef\n",
      "(431, 2689)\n",
      "=================================================================\n",
      "=================================================================\n",
      "=================================================================\n",
      "Training 10 different classifiers on raw data\n",
      "=================================================================\n"
     ]
    },
    {
     "name": "stderr",
     "output_type": "stream",
     "text": [
      "C:\\Users\\Nour Al-Hoda\\Anaconda3\\lib\\site-packages\\sklearn\\linear_model\\logistic.py:433: FutureWarning: Default solver will be changed to 'lbfgs' in 0.22. Specify a solver to silence this warning.\n",
      "  FutureWarning)\n"
     ]
    },
    {
     "name": "stdout",
     "output_type": "stream",
     "text": [
      "Logistic Regression\n",
      "[[129   7]\n",
      " [  7   0]]\n",
      "0.4742647058823529\n",
      "Nearest Neighbors\n",
      "[[133   3]\n",
      " [  7   0]]\n",
      "0.4889705882352941\n",
      "Linear SVM\n",
      "[[129   7]\n",
      " [  7   0]]\n",
      "0.4742647058823529\n",
      "Gradient Boosting Classifier\n",
      "[[130   6]\n",
      " [  7   0]]\n",
      "0.47794117647058826\n",
      "Decision Tree\n",
      "[[120  16]\n",
      " [  6   1]]\n",
      "0.5126050420168067\n",
      "Random Forest\n",
      "[[136   0]\n",
      " [  7   0]]\n",
      "0.5\n",
      "Neural Net\n",
      "[[136   0]\n",
      " [  7   0]]\n",
      "0.5\n",
      "Naive Bayes\n",
      "[[81 55]\n",
      " [ 1  6]]\n",
      "0.7263655462184875\n",
      "AdaBoost\n",
      "[[135   1]\n",
      " [  7   0]]\n",
      "0.4963235294117647\n",
      "Gaussian Process\n",
      "[[136   0]\n",
      " [  7   0]]\n",
      "0.5\n",
      "(431, 2689)\n",
      "=================================================================\n",
      "Training 10 different classifiers on data after applying CAR filter\n",
      "=================================================================\n"
     ]
    },
    {
     "name": "stderr",
     "output_type": "stream",
     "text": [
      "C:\\Users\\Nour Al-Hoda\\Anaconda3\\lib\\site-packages\\sklearn\\linear_model\\logistic.py:433: FutureWarning: Default solver will be changed to 'lbfgs' in 0.22. Specify a solver to silence this warning.\n",
      "  FutureWarning)\n"
     ]
    },
    {
     "name": "stdout",
     "output_type": "stream",
     "text": [
      "Logistic Regression\n",
      "[[58 78]\n",
      " [ 3  4]]\n",
      "0.4989495798319328\n",
      "Nearest Neighbors\n",
      "[[133   3]\n",
      " [  7   0]]\n",
      "0.4889705882352941\n",
      "Linear SVM\n",
      "[[129   7]\n",
      " [  7   0]]\n",
      "0.4742647058823529\n",
      "Gradient Boosting Classifier\n",
      "[[130   6]\n",
      " [  7   0]]\n",
      "0.47794117647058826\n",
      "Decision Tree\n",
      "[[122  14]\n",
      " [  7   0]]\n",
      "0.4485294117647059\n",
      "Random Forest\n",
      "[[136   0]\n",
      " [  7   0]]\n",
      "0.5\n",
      "Neural Net\n",
      "[[110  26]\n",
      " [  4   3]]\n",
      "0.6186974789915967\n",
      "Naive Bayes\n",
      "[[81 55]\n",
      " [ 1  6]]\n",
      "0.7263655462184875\n",
      "AdaBoost\n",
      "[[135   1]\n",
      " [  7   0]]\n",
      "0.4963235294117647\n",
      "Gaussian Process\n",
      "[[136   0]\n",
      " [  7   0]]\n",
      "0.5\n",
      "=================================================================\n",
      "Training 10 different classifiers, and different PCA components without CAR filter\n",
      "=================================================================\n",
      "=================================================================\n",
      "Results for  15  PCA components\n",
      "=================================================================\n",
      "Logistic Regression\n",
      "[[136   0]\n",
      " [  7   0]]\n",
      "0.5\n",
      "Nearest Neighbors\n",
      "[[132   4]\n",
      " [  7   0]]\n",
      "0.4852941176470588\n",
      "Linear SVM\n",
      "[[136   0]\n",
      " [  7   0]]\n",
      "0.5\n"
     ]
    },
    {
     "name": "stderr",
     "output_type": "stream",
     "text": [
      "C:\\Users\\Nour Al-Hoda\\Anaconda3\\lib\\site-packages\\sklearn\\linear_model\\logistic.py:433: FutureWarning: Default solver will be changed to 'lbfgs' in 0.22. Specify a solver to silence this warning.\n",
      "  FutureWarning)\n"
     ]
    },
    {
     "name": "stdout",
     "output_type": "stream",
     "text": [
      "Gradient Boosting Classifier\n",
      "[[136   0]\n",
      " [  7   0]]\n",
      "0.5\n",
      "Decision Tree\n",
      "[[130   6]\n",
      " [  6   1]]\n",
      "0.5493697478991596\n",
      "Random Forest\n",
      "[[136   0]\n",
      " [  7   0]]\n",
      "0.5\n"
     ]
    },
    {
     "name": "stderr",
     "output_type": "stream",
     "text": [
      "C:\\Users\\Nour Al-Hoda\\Anaconda3\\lib\\site-packages\\sklearn\\neural_network\\multilayer_perceptron.py:562: ConvergenceWarning: Stochastic Optimizer: Maximum iterations (200) reached and the optimization hasn't converged yet.\n",
      "  % self.max_iter, ConvergenceWarning)\n"
     ]
    },
    {
     "name": "stdout",
     "output_type": "stream",
     "text": [
      "Neural Net\n",
      "[[135   1]\n",
      " [  6   1]]\n",
      "0.5677521008403361\n",
      "Naive Bayes\n",
      "[[80 56]\n",
      " [ 2  5]]\n",
      "0.6512605042016808\n",
      "AdaBoost\n",
      "[[133   3]\n",
      " [  6   1]]\n",
      "0.5603991596638654\n",
      "Gaussian Process\n",
      "[[126  10]\n",
      " [  4   3]]\n",
      "0.6775210084033614\n",
      "=================================================================\n",
      "Results for  30  PCA components\n",
      "=================================================================\n",
      "Logistic Regression\n",
      "[[134   2]\n",
      " [  7   0]]\n",
      "0.49264705882352944\n",
      "Nearest Neighbors\n",
      "[[132   4]\n",
      " [  5   2]]\n",
      "0.6281512605042016\n",
      "Linear SVM\n",
      "[[136   0]\n",
      " [  7   0]]\n",
      "0.5\n"
     ]
    },
    {
     "name": "stderr",
     "output_type": "stream",
     "text": [
      "C:\\Users\\Nour Al-Hoda\\Anaconda3\\lib\\site-packages\\sklearn\\linear_model\\logistic.py:433: FutureWarning: Default solver will be changed to 'lbfgs' in 0.22. Specify a solver to silence this warning.\n",
      "  FutureWarning)\n"
     ]
    },
    {
     "name": "stdout",
     "output_type": "stream",
     "text": [
      "Gradient Boosting Classifier\n",
      "[[135   1]\n",
      " [  7   0]]\n",
      "0.4963235294117647\n",
      "Decision Tree\n",
      "[[128   8]\n",
      " [  6   1]]\n",
      "0.542016806722689\n",
      "Random Forest\n",
      "[[136   0]\n",
      " [  7   0]]\n",
      "0.5\n"
     ]
    },
    {
     "name": "stderr",
     "output_type": "stream",
     "text": [
      "C:\\Users\\Nour Al-Hoda\\Anaconda3\\lib\\site-packages\\sklearn\\neural_network\\multilayer_perceptron.py:562: ConvergenceWarning: Stochastic Optimizer: Maximum iterations (200) reached and the optimization hasn't converged yet.\n",
      "  % self.max_iter, ConvergenceWarning)\n"
     ]
    },
    {
     "name": "stdout",
     "output_type": "stream",
     "text": [
      "Neural Net\n",
      "[[135   1]\n",
      " [  6   1]]\n",
      "0.5677521008403361\n",
      "Naive Bayes\n",
      "[[76 60]\n",
      " [ 2  5]]\n",
      "0.6365546218487395\n",
      "AdaBoost\n",
      "[[134   2]\n",
      " [  6   1]]\n",
      "0.5640756302521008\n",
      "Gaussian Process\n",
      "[[129   7]\n",
      " [  5   2]]\n",
      "0.6171218487394957\n",
      "=================================================================\n",
      "Results for  45  PCA components\n",
      "=================================================================\n",
      "Logistic Regression\n",
      "[[134   2]\n",
      " [  7   0]]\n",
      "0.49264705882352944\n",
      "Nearest Neighbors\n",
      "[[132   4]\n",
      " [  5   2]]\n",
      "0.6281512605042016\n",
      "Linear SVM\n",
      "[[136   0]\n",
      " [  7   0]]\n",
      "0.5\n"
     ]
    },
    {
     "name": "stderr",
     "output_type": "stream",
     "text": [
      "C:\\Users\\Nour Al-Hoda\\Anaconda3\\lib\\site-packages\\sklearn\\linear_model\\logistic.py:433: FutureWarning: Default solver will be changed to 'lbfgs' in 0.22. Specify a solver to silence this warning.\n",
      "  FutureWarning)\n"
     ]
    },
    {
     "name": "stdout",
     "output_type": "stream",
     "text": [
      "Gradient Boosting Classifier\n",
      "[[136   0]\n",
      " [  7   0]]\n",
      "0.5\n",
      "Decision Tree\n",
      "[[129   7]\n",
      " [  7   0]]\n",
      "0.4742647058823529\n",
      "Random Forest\n",
      "[[136   0]\n",
      " [  7   0]]\n",
      "0.5\n"
     ]
    },
    {
     "name": "stderr",
     "output_type": "stream",
     "text": [
      "C:\\Users\\Nour Al-Hoda\\Anaconda3\\lib\\site-packages\\sklearn\\neural_network\\multilayer_perceptron.py:562: ConvergenceWarning: Stochastic Optimizer: Maximum iterations (200) reached and the optimization hasn't converged yet.\n",
      "  % self.max_iter, ConvergenceWarning)\n"
     ]
    },
    {
     "name": "stdout",
     "output_type": "stream",
     "text": [
      "Neural Net\n",
      "[[134   2]\n",
      " [  7   0]]\n",
      "0.49264705882352944\n",
      "Naive Bayes\n",
      "[[75 61]\n",
      " [ 2  5]]\n",
      "0.6328781512605043\n",
      "AdaBoost\n",
      "[[132   4]\n",
      " [  6   1]]\n",
      "0.5567226890756302\n",
      "Gaussian Process\n",
      "[[129   7]\n",
      " [  5   2]]\n",
      "0.6171218487394957\n",
      "=================================================================\n",
      "Results for  60  PCA components\n",
      "=================================================================\n",
      "Logistic Regression\n",
      "[[134   2]\n",
      " [  7   0]]\n",
      "0.49264705882352944\n",
      "Nearest Neighbors\n",
      "[[132   4]\n",
      " [  7   0]]\n",
      "0.4852941176470588\n",
      "Linear SVM\n",
      "[[133   3]\n",
      " [  7   0]]\n",
      "0.4889705882352941\n"
     ]
    },
    {
     "name": "stderr",
     "output_type": "stream",
     "text": [
      "C:\\Users\\Nour Al-Hoda\\Anaconda3\\lib\\site-packages\\sklearn\\linear_model\\logistic.py:433: FutureWarning: Default solver will be changed to 'lbfgs' in 0.22. Specify a solver to silence this warning.\n",
      "  FutureWarning)\n"
     ]
    },
    {
     "name": "stdout",
     "output_type": "stream",
     "text": [
      "Gradient Boosting Classifier\n",
      "[[136   0]\n",
      " [  7   0]]\n",
      "0.5\n",
      "Decision Tree\n",
      "[[128   8]\n",
      " [  7   0]]\n",
      "0.47058823529411764\n",
      "Random Forest\n",
      "[[136   0]\n",
      " [  7   0]]\n",
      "0.5\n"
     ]
    },
    {
     "name": "stderr",
     "output_type": "stream",
     "text": [
      "C:\\Users\\Nour Al-Hoda\\Anaconda3\\lib\\site-packages\\sklearn\\neural_network\\multilayer_perceptron.py:562: ConvergenceWarning: Stochastic Optimizer: Maximum iterations (200) reached and the optimization hasn't converged yet.\n",
      "  % self.max_iter, ConvergenceWarning)\n"
     ]
    },
    {
     "name": "stdout",
     "output_type": "stream",
     "text": [
      "Neural Net\n",
      "[[133   3]\n",
      " [  7   0]]\n",
      "0.4889705882352941\n",
      "Naive Bayes\n",
      "[[73 63]\n",
      " [ 2  5]]\n",
      "0.6255252100840336\n",
      "AdaBoost\n",
      "[[133   3]\n",
      " [  7   0]]\n",
      "0.4889705882352941\n",
      "Gaussian Process\n",
      "[[130   6]\n",
      " [  6   1]]\n",
      "0.5493697478991596\n",
      "=================================================================\n",
      "Results for  75  PCA components\n",
      "=================================================================\n",
      "Logistic Regression\n",
      "[[132   4]\n",
      " [  7   0]]\n",
      "0.4852941176470588\n",
      "Nearest Neighbors\n",
      "[[135   1]\n",
      " [  7   0]]\n",
      "0.4963235294117647\n",
      "Linear SVM\n",
      "[[132   4]\n",
      " [  7   0]]\n",
      "0.4852941176470588\n"
     ]
    },
    {
     "name": "stderr",
     "output_type": "stream",
     "text": [
      "C:\\Users\\Nour Al-Hoda\\Anaconda3\\lib\\site-packages\\sklearn\\linear_model\\logistic.py:433: FutureWarning: Default solver will be changed to 'lbfgs' in 0.22. Specify a solver to silence this warning.\n",
      "  FutureWarning)\n"
     ]
    },
    {
     "name": "stdout",
     "output_type": "stream",
     "text": [
      "Gradient Boosting Classifier\n",
      "[[136   0]\n",
      " [  7   0]]\n",
      "0.5\n",
      "Decision Tree\n",
      "[[131   5]\n",
      " [  7   0]]\n",
      "0.48161764705882354\n",
      "Random Forest\n",
      "[[136   0]\n",
      " [  7   0]]\n",
      "0.5\n"
     ]
    },
    {
     "name": "stderr",
     "output_type": "stream",
     "text": [
      "C:\\Users\\Nour Al-Hoda\\Anaconda3\\lib\\site-packages\\sklearn\\neural_network\\multilayer_perceptron.py:562: ConvergenceWarning: Stochastic Optimizer: Maximum iterations (200) reached and the optimization hasn't converged yet.\n",
      "  % self.max_iter, ConvergenceWarning)\n"
     ]
    },
    {
     "name": "stdout",
     "output_type": "stream",
     "text": [
      "Neural Net\n",
      "[[135   1]\n",
      " [  7   0]]\n",
      "0.4963235294117647\n",
      "Naive Bayes\n",
      "[[74 62]\n",
      " [ 2  5]]\n",
      "0.629201680672269\n",
      "AdaBoost\n",
      "[[134   2]\n",
      " [  7   0]]\n",
      "0.49264705882352944\n",
      "Gaussian Process\n",
      "[[128   8]\n",
      " [  5   2]]\n",
      "0.6134453781512604\n",
      "=================================================================\n",
      "Results for  90  PCA components\n",
      "=================================================================\n",
      "Logistic Regression\n",
      "[[132   4]\n",
      " [  7   0]]\n",
      "0.4852941176470588\n",
      "Nearest Neighbors\n",
      "[[135   1]\n",
      " [  7   0]]\n",
      "0.4963235294117647\n",
      "Linear SVM\n",
      "[[132   4]\n",
      " [  7   0]]\n",
      "0.4852941176470588\n"
     ]
    },
    {
     "name": "stderr",
     "output_type": "stream",
     "text": [
      "C:\\Users\\Nour Al-Hoda\\Anaconda3\\lib\\site-packages\\sklearn\\linear_model\\logistic.py:433: FutureWarning: Default solver will be changed to 'lbfgs' in 0.22. Specify a solver to silence this warning.\n",
      "  FutureWarning)\n"
     ]
    },
    {
     "name": "stdout",
     "output_type": "stream",
     "text": [
      "Gradient Boosting Classifier\n",
      "[[136   0]\n",
      " [  7   0]]\n",
      "0.5\n",
      "Decision Tree\n",
      "[[132   4]\n",
      " [  6   1]]\n",
      "0.5567226890756302\n",
      "Random Forest\n",
      "[[136   0]\n",
      " [  7   0]]\n",
      "0.5\n"
     ]
    },
    {
     "name": "stderr",
     "output_type": "stream",
     "text": [
      "C:\\Users\\Nour Al-Hoda\\Anaconda3\\lib\\site-packages\\sklearn\\neural_network\\multilayer_perceptron.py:562: ConvergenceWarning: Stochastic Optimizer: Maximum iterations (200) reached and the optimization hasn't converged yet.\n",
      "  % self.max_iter, ConvergenceWarning)\n"
     ]
    },
    {
     "name": "stdout",
     "output_type": "stream",
     "text": [
      "Neural Net\n",
      "[[136   0]\n",
      " [  7   0]]\n",
      "0.5\n",
      "Naive Bayes\n",
      "[[85 51]\n",
      " [ 2  5]]\n",
      "0.6696428571428572\n",
      "AdaBoost\n",
      "[[134   2]\n",
      " [  5   2]]\n",
      "0.6355042016806722\n",
      "Gaussian Process\n",
      "[[128   8]\n",
      " [  5   2]]\n",
      "0.6134453781512604\n",
      "=================================================================\n",
      "Results for  105  PCA components\n",
      "=================================================================\n",
      "Logistic Regression\n",
      "[[132   4]\n",
      " [  7   0]]\n",
      "0.4852941176470588\n",
      "Nearest Neighbors\n",
      "[[135   1]\n",
      " [  7   0]]\n",
      "0.4963235294117647\n",
      "Linear SVM\n",
      "[[130   6]\n",
      " [  7   0]]\n",
      "0.47794117647058826\n"
     ]
    },
    {
     "name": "stderr",
     "output_type": "stream",
     "text": [
      "C:\\Users\\Nour Al-Hoda\\Anaconda3\\lib\\site-packages\\sklearn\\linear_model\\logistic.py:433: FutureWarning: Default solver will be changed to 'lbfgs' in 0.22. Specify a solver to silence this warning.\n",
      "  FutureWarning)\n"
     ]
    },
    {
     "name": "stdout",
     "output_type": "stream",
     "text": [
      "Gradient Boosting Classifier\n",
      "[[132   4]\n",
      " [  7   0]]\n",
      "0.4852941176470588\n",
      "Decision Tree\n",
      "[[132   4]\n",
      " [  7   0]]\n",
      "0.4852941176470588\n",
      "Random Forest\n",
      "[[136   0]\n",
      " [  7   0]]\n",
      "0.5\n"
     ]
    },
    {
     "name": "stderr",
     "output_type": "stream",
     "text": [
      "C:\\Users\\Nour Al-Hoda\\Anaconda3\\lib\\site-packages\\sklearn\\neural_network\\multilayer_perceptron.py:562: ConvergenceWarning: Stochastic Optimizer: Maximum iterations (200) reached and the optimization hasn't converged yet.\n",
      "  % self.max_iter, ConvergenceWarning)\n"
     ]
    },
    {
     "name": "stdout",
     "output_type": "stream",
     "text": [
      "Neural Net\n",
      "[[135   1]\n",
      " [  7   0]]\n",
      "0.4963235294117647\n",
      "Naive Bayes\n",
      "[[81 55]\n",
      " [ 2  5]]\n",
      "0.6549369747899161\n",
      "AdaBoost\n",
      "[[133   3]\n",
      " [  7   0]]\n",
      "0.4889705882352941\n",
      "Gaussian Process\n",
      "[[130   6]\n",
      " [  5   2]]\n",
      "0.620798319327731\n",
      "=================================================================\n",
      "Results for  120  PCA components\n",
      "=================================================================\n",
      "Logistic Regression\n",
      "[[132   4]\n",
      " [  7   0]]\n",
      "0.4852941176470588\n",
      "Nearest Neighbors\n",
      "[[135   1]\n",
      " [  7   0]]\n",
      "0.4963235294117647\n",
      "Linear SVM\n",
      "[[132   4]\n",
      " [  7   0]]\n",
      "0.4852941176470588\n"
     ]
    },
    {
     "name": "stderr",
     "output_type": "stream",
     "text": [
      "C:\\Users\\Nour Al-Hoda\\Anaconda3\\lib\\site-packages\\sklearn\\linear_model\\logistic.py:433: FutureWarning: Default solver will be changed to 'lbfgs' in 0.22. Specify a solver to silence this warning.\n",
      "  FutureWarning)\n"
     ]
    },
    {
     "name": "stdout",
     "output_type": "stream",
     "text": [
      "Gradient Boosting Classifier\n",
      "[[132   4]\n",
      " [  7   0]]\n",
      "0.4852941176470588\n",
      "Decision Tree\n",
      "[[129   7]\n",
      " [  7   0]]\n",
      "0.4742647058823529\n",
      "Random Forest\n",
      "[[136   0]\n",
      " [  7   0]]\n",
      "0.5\n"
     ]
    },
    {
     "name": "stderr",
     "output_type": "stream",
     "text": [
      "C:\\Users\\Nour Al-Hoda\\Anaconda3\\lib\\site-packages\\sklearn\\neural_network\\multilayer_perceptron.py:562: ConvergenceWarning: Stochastic Optimizer: Maximum iterations (200) reached and the optimization hasn't converged yet.\n",
      "  % self.max_iter, ConvergenceWarning)\n"
     ]
    },
    {
     "name": "stdout",
     "output_type": "stream",
     "text": [
      "Neural Net\n",
      "[[133   3]\n",
      " [  7   0]]\n",
      "0.4889705882352941\n",
      "Naive Bayes\n",
      "[[81 55]\n",
      " [ 2  5]]\n",
      "0.6549369747899161\n",
      "AdaBoost\n",
      "[[136   0]\n",
      " [  7   0]]\n",
      "0.5\n",
      "Gaussian Process\n",
      "[[129   7]\n",
      " [  5   2]]\n",
      "0.6171218487394957\n",
      "=================================================================\n",
      "Results for  135  PCA components\n",
      "=================================================================\n",
      "Logistic Regression\n",
      "[[128   8]\n",
      " [  7   0]]\n",
      "0.47058823529411764\n",
      "Nearest Neighbors\n",
      "[[135   1]\n",
      " [  7   0]]\n",
      "0.4963235294117647\n",
      "Linear SVM\n",
      "[[130   6]\n",
      " [  7   0]]\n",
      "0.47794117647058826\n"
     ]
    },
    {
     "name": "stderr",
     "output_type": "stream",
     "text": [
      "C:\\Users\\Nour Al-Hoda\\Anaconda3\\lib\\site-packages\\sklearn\\linear_model\\logistic.py:433: FutureWarning: Default solver will be changed to 'lbfgs' in 0.22. Specify a solver to silence this warning.\n",
      "  FutureWarning)\n"
     ]
    },
    {
     "name": "stdout",
     "output_type": "stream",
     "text": [
      "Gradient Boosting Classifier\n",
      "[[132   4]\n",
      " [  7   0]]\n",
      "0.4852941176470588\n",
      "Decision Tree\n",
      "[[128   8]\n",
      " [  7   0]]\n",
      "0.47058823529411764\n",
      "Random Forest\n",
      "[[136   0]\n",
      " [  7   0]]\n",
      "0.5\n"
     ]
    },
    {
     "name": "stderr",
     "output_type": "stream",
     "text": [
      "C:\\Users\\Nour Al-Hoda\\Anaconda3\\lib\\site-packages\\sklearn\\neural_network\\multilayer_perceptron.py:562: ConvergenceWarning: Stochastic Optimizer: Maximum iterations (200) reached and the optimization hasn't converged yet.\n",
      "  % self.max_iter, ConvergenceWarning)\n"
     ]
    },
    {
     "name": "stdout",
     "output_type": "stream",
     "text": [
      "Neural Net\n",
      "[[135   1]\n",
      " [  7   0]]\n",
      "0.4963235294117647\n",
      "Naive Bayes\n",
      "[[84 52]\n",
      " [ 2  5]]\n",
      "0.6659663865546218\n",
      "AdaBoost\n",
      "[[135   1]\n",
      " [  7   0]]\n",
      "0.4963235294117647\n",
      "Gaussian Process\n",
      "[[128   8]\n",
      " [  5   2]]\n",
      "0.6134453781512604\n",
      "=================================================================\n",
      "Results for  150  PCA components\n",
      "=================================================================\n",
      "Logistic Regression\n",
      "[[131   5]\n",
      " [  7   0]]\n",
      "0.48161764705882354\n",
      "Nearest Neighbors\n",
      "[[135   1]\n",
      " [  7   0]]\n",
      "0.4963235294117647\n",
      "Linear SVM\n",
      "[[130   6]\n",
      " [  7   0]]\n",
      "0.47794117647058826\n"
     ]
    },
    {
     "name": "stderr",
     "output_type": "stream",
     "text": [
      "C:\\Users\\Nour Al-Hoda\\Anaconda3\\lib\\site-packages\\sklearn\\linear_model\\logistic.py:433: FutureWarning: Default solver will be changed to 'lbfgs' in 0.22. Specify a solver to silence this warning.\n",
      "  FutureWarning)\n"
     ]
    },
    {
     "name": "stdout",
     "output_type": "stream",
     "text": [
      "Gradient Boosting Classifier\n",
      "[[130   6]\n",
      " [  7   0]]\n",
      "0.47794117647058826\n",
      "Decision Tree\n",
      "[[127   9]\n",
      " [  6   1]]\n",
      "0.5383403361344538\n",
      "Random Forest\n",
      "[[135   1]\n",
      " [  7   0]]\n",
      "0.4963235294117647\n"
     ]
    },
    {
     "name": "stderr",
     "output_type": "stream",
     "text": [
      "C:\\Users\\Nour Al-Hoda\\Anaconda3\\lib\\site-packages\\sklearn\\neural_network\\multilayer_perceptron.py:562: ConvergenceWarning: Stochastic Optimizer: Maximum iterations (200) reached and the optimization hasn't converged yet.\n",
      "  % self.max_iter, ConvergenceWarning)\n"
     ]
    },
    {
     "name": "stdout",
     "output_type": "stream",
     "text": [
      "Neural Net\n",
      "[[134   2]\n",
      " [  7   0]]\n",
      "0.49264705882352944\n",
      "Naive Bayes\n",
      "[[88 48]\n",
      " [ 2  5]]\n",
      "0.680672268907563\n",
      "AdaBoost\n",
      "[[133   3]\n",
      " [  7   0]]\n",
      "0.4889705882352941\n",
      "Gaussian Process\n",
      "[[129   7]\n",
      " [  5   2]]\n",
      "0.6171218487394957\n",
      "=================================================================\n",
      "Results for  165  PCA components\n",
      "=================================================================\n",
      "Logistic Regression\n",
      "[[131   5]\n",
      " [  7   0]]\n",
      "0.48161764705882354\n",
      "Nearest Neighbors\n",
      "[[135   1]\n",
      " [  7   0]]\n",
      "0.4963235294117647\n",
      "Linear SVM\n",
      "[[130   6]\n",
      " [  7   0]]\n",
      "0.47794117647058826\n"
     ]
    },
    {
     "name": "stderr",
     "output_type": "stream",
     "text": [
      "C:\\Users\\Nour Al-Hoda\\Anaconda3\\lib\\site-packages\\sklearn\\linear_model\\logistic.py:433: FutureWarning: Default solver will be changed to 'lbfgs' in 0.22. Specify a solver to silence this warning.\n",
      "  FutureWarning)\n"
     ]
    },
    {
     "name": "stdout",
     "output_type": "stream",
     "text": [
      "Gradient Boosting Classifier\n",
      "[[130   6]\n",
      " [  7   0]]\n",
      "0.47794117647058826\n",
      "Decision Tree\n",
      "[[123  13]\n",
      " [  6   1]]\n",
      "0.5236344537815125\n",
      "Random Forest\n",
      "[[136   0]\n",
      " [  7   0]]\n",
      "0.5\n"
     ]
    },
    {
     "name": "stderr",
     "output_type": "stream",
     "text": [
      "C:\\Users\\Nour Al-Hoda\\Anaconda3\\lib\\site-packages\\sklearn\\neural_network\\multilayer_perceptron.py:562: ConvergenceWarning: Stochastic Optimizer: Maximum iterations (200) reached and the optimization hasn't converged yet.\n",
      "  % self.max_iter, ConvergenceWarning)\n"
     ]
    },
    {
     "name": "stdout",
     "output_type": "stream",
     "text": [
      "Neural Net\n",
      "[[136   0]\n",
      " [  7   0]]\n",
      "0.5\n",
      "Naive Bayes\n",
      "[[93 43]\n",
      " [ 2  5]]\n",
      "0.6990546218487396\n",
      "AdaBoost\n",
      "[[133   3]\n",
      " [  6   1]]\n",
      "0.5603991596638654\n",
      "Gaussian Process\n",
      "[[127   9]\n",
      " [  5   2]]\n",
      "0.6097689075630252\n",
      "=================================================================\n",
      "Results for  180  PCA components\n",
      "=================================================================\n",
      "Logistic Regression\n",
      "[[129   7]\n",
      " [  7   0]]\n",
      "0.4742647058823529\n",
      "Nearest Neighbors\n",
      "[[134   2]\n",
      " [  7   0]]\n",
      "0.49264705882352944\n",
      "Linear SVM\n",
      "[[133   3]\n",
      " [  7   0]]\n",
      "0.4889705882352941\n"
     ]
    },
    {
     "name": "stderr",
     "output_type": "stream",
     "text": [
      "C:\\Users\\Nour Al-Hoda\\Anaconda3\\lib\\site-packages\\sklearn\\linear_model\\logistic.py:433: FutureWarning: Default solver will be changed to 'lbfgs' in 0.22. Specify a solver to silence this warning.\n",
      "  FutureWarning)\n"
     ]
    },
    {
     "name": "stdout",
     "output_type": "stream",
     "text": [
      "Gradient Boosting Classifier\n",
      "[[129   7]\n",
      " [  7   0]]\n",
      "0.4742647058823529\n",
      "Decision Tree\n",
      "[[124  12]\n",
      " [  7   0]]\n",
      "0.45588235294117646\n",
      "Random Forest\n",
      "[[136   0]\n",
      " [  7   0]]\n",
      "0.5\n"
     ]
    },
    {
     "name": "stderr",
     "output_type": "stream",
     "text": [
      "C:\\Users\\Nour Al-Hoda\\Anaconda3\\lib\\site-packages\\sklearn\\neural_network\\multilayer_perceptron.py:562: ConvergenceWarning: Stochastic Optimizer: Maximum iterations (200) reached and the optimization hasn't converged yet.\n",
      "  % self.max_iter, ConvergenceWarning)\n"
     ]
    },
    {
     "name": "stdout",
     "output_type": "stream",
     "text": [
      "Neural Net\n",
      "[[134   2]\n",
      " [  7   0]]\n",
      "0.49264705882352944\n",
      "Naive Bayes\n",
      "[[100  36]\n",
      " [  2   5]]\n",
      "0.7247899159663866\n",
      "AdaBoost\n",
      "[[131   5]\n",
      " [  7   0]]\n",
      "0.48161764705882354\n",
      "Gaussian Process\n",
      "[[129   7]\n",
      " [  5   2]]\n",
      "0.6171218487394957\n",
      "=================================================================\n",
      "Results for  195  PCA components\n",
      "=================================================================\n",
      "Logistic Regression\n",
      "[[132   4]\n",
      " [  7   0]]\n",
      "0.4852941176470588\n",
      "Nearest Neighbors\n",
      "[[134   2]\n",
      " [  7   0]]\n",
      "0.49264705882352944\n",
      "Linear SVM\n",
      "[[132   4]\n",
      " [  7   0]]\n",
      "0.4852941176470588\n"
     ]
    },
    {
     "name": "stderr",
     "output_type": "stream",
     "text": [
      "C:\\Users\\Nour Al-Hoda\\Anaconda3\\lib\\site-packages\\sklearn\\linear_model\\logistic.py:433: FutureWarning: Default solver will be changed to 'lbfgs' in 0.22. Specify a solver to silence this warning.\n",
      "  FutureWarning)\n"
     ]
    },
    {
     "name": "stdout",
     "output_type": "stream",
     "text": [
      "Gradient Boosting Classifier\n",
      "[[127   9]\n",
      " [  7   0]]\n",
      "0.46691176470588236\n",
      "Decision Tree\n",
      "[[122  14]\n",
      " [  7   0]]\n",
      "0.4485294117647059\n",
      "Random Forest\n",
      "[[135   1]\n",
      " [  7   0]]\n",
      "0.4963235294117647\n"
     ]
    },
    {
     "name": "stderr",
     "output_type": "stream",
     "text": [
      "C:\\Users\\Nour Al-Hoda\\Anaconda3\\lib\\site-packages\\sklearn\\neural_network\\multilayer_perceptron.py:562: ConvergenceWarning: Stochastic Optimizer: Maximum iterations (200) reached and the optimization hasn't converged yet.\n",
      "  % self.max_iter, ConvergenceWarning)\n"
     ]
    },
    {
     "name": "stdout",
     "output_type": "stream",
     "text": [
      "Neural Net\n",
      "[[135   1]\n",
      " [  7   0]]\n",
      "0.4963235294117647\n",
      "Naive Bayes\n",
      "[[102  34]\n",
      " [  2   5]]\n",
      "0.7321428571428572\n",
      "AdaBoost\n",
      "[[134   2]\n",
      " [  7   0]]\n",
      "0.49264705882352944\n",
      "Gaussian Process\n",
      "[[129   7]\n",
      " [  5   2]]\n",
      "0.6171218487394957\n"
     ]
    },
    {
     "name": "stderr",
     "output_type": "stream",
     "text": [
      "C:\\Users\\Nour Al-Hoda\\Anaconda3\\lib\\site-packages\\sklearn\\linear_model\\logistic.py:433: FutureWarning: Default solver will be changed to 'lbfgs' in 0.22. Specify a solver to silence this warning.\n",
      "  FutureWarning)\n"
     ]
    },
    {
     "name": "stdout",
     "output_type": "stream",
     "text": [
      "=================================================================\n",
      "Results for  210  PCA components\n",
      "=================================================================\n",
      "Logistic Regression\n",
      "[[132   4]\n",
      " [  7   0]]\n",
      "0.4852941176470588\n",
      "Nearest Neighbors\n",
      "[[134   2]\n",
      " [  7   0]]\n",
      "0.49264705882352944\n",
      "Linear SVM\n",
      "[[131   5]\n",
      " [  7   0]]\n",
      "0.48161764705882354\n",
      "Gradient Boosting Classifier\n",
      "[[124  12]\n",
      " [  7   0]]\n",
      "0.45588235294117646\n",
      "Decision Tree\n",
      "[[120  16]\n",
      " [  7   0]]\n",
      "0.4411764705882353\n",
      "Random Forest\n",
      "[[133   3]\n",
      " [  7   0]]\n",
      "0.4889705882352941\n"
     ]
    },
    {
     "name": "stderr",
     "output_type": "stream",
     "text": [
      "C:\\Users\\Nour Al-Hoda\\Anaconda3\\lib\\site-packages\\sklearn\\neural_network\\multilayer_perceptron.py:562: ConvergenceWarning: Stochastic Optimizer: Maximum iterations (200) reached and the optimization hasn't converged yet.\n",
      "  % self.max_iter, ConvergenceWarning)\n"
     ]
    },
    {
     "name": "stdout",
     "output_type": "stream",
     "text": [
      "Neural Net\n",
      "[[134   2]\n",
      " [  7   0]]\n",
      "0.49264705882352944\n",
      "Naive Bayes\n",
      "[[106  30]\n",
      " [  2   5]]\n",
      "0.7468487394957983\n",
      "AdaBoost\n",
      "[[135   1]\n",
      " [  7   0]]\n",
      "0.4963235294117647\n",
      "Gaussian Process\n",
      "[[130   6]\n",
      " [  5   2]]\n",
      "0.620798319327731\n",
      "=================================================================\n",
      "Results for  225  PCA components\n",
      "=================================================================\n",
      "Logistic Regression\n",
      "[[129   7]\n",
      " [  7   0]]\n",
      "0.4742647058823529\n",
      "Nearest Neighbors\n",
      "[[135   1]\n",
      " [  7   0]]\n",
      "0.4963235294117647\n",
      "Linear SVM\n",
      "[[129   7]\n",
      " [  7   0]]\n",
      "0.4742647058823529\n"
     ]
    },
    {
     "name": "stderr",
     "output_type": "stream",
     "text": [
      "C:\\Users\\Nour Al-Hoda\\Anaconda3\\lib\\site-packages\\sklearn\\linear_model\\logistic.py:433: FutureWarning: Default solver will be changed to 'lbfgs' in 0.22. Specify a solver to silence this warning.\n",
      "  FutureWarning)\n"
     ]
    },
    {
     "name": "stdout",
     "output_type": "stream",
     "text": [
      "Gradient Boosting Classifier\n",
      "[[122  14]\n",
      " [  7   0]]\n",
      "0.4485294117647059\n",
      "Decision Tree\n",
      "[[119  17]\n",
      " [  7   0]]\n",
      "0.4375\n",
      "Random Forest\n",
      "[[132   4]\n",
      " [  7   0]]\n",
      "0.4852941176470588\n"
     ]
    },
    {
     "name": "stderr",
     "output_type": "stream",
     "text": [
      "C:\\Users\\Nour Al-Hoda\\Anaconda3\\lib\\site-packages\\sklearn\\neural_network\\multilayer_perceptron.py:562: ConvergenceWarning: Stochastic Optimizer: Maximum iterations (200) reached and the optimization hasn't converged yet.\n",
      "  % self.max_iter, ConvergenceWarning)\n"
     ]
    },
    {
     "name": "stdout",
     "output_type": "stream",
     "text": [
      "Neural Net\n",
      "[[136   0]\n",
      " [  7   0]]\n",
      "0.5\n",
      "Naive Bayes\n",
      "[[104  32]\n",
      " [  2   5]]\n",
      "0.7394957983193278\n",
      "AdaBoost\n",
      "[[133   3]\n",
      " [  7   0]]\n",
      "0.4889705882352941\n",
      "Gaussian Process\n",
      "[[130   6]\n",
      " [  6   1]]\n",
      "0.5493697478991596\n",
      "=================================================================\n",
      "Results for  240  PCA components\n",
      "=================================================================\n",
      "Logistic Regression\n",
      "[[132   4]\n",
      " [  7   0]]\n",
      "0.4852941176470588\n",
      "Nearest Neighbors\n",
      "[[134   2]\n",
      " [  7   0]]\n",
      "0.49264705882352944\n",
      "Linear SVM\n",
      "[[129   7]\n",
      " [  7   0]]\n",
      "0.4742647058823529\n"
     ]
    },
    {
     "name": "stderr",
     "output_type": "stream",
     "text": [
      "C:\\Users\\Nour Al-Hoda\\Anaconda3\\lib\\site-packages\\sklearn\\linear_model\\logistic.py:433: FutureWarning: Default solver will be changed to 'lbfgs' in 0.22. Specify a solver to silence this warning.\n",
      "  FutureWarning)\n"
     ]
    },
    {
     "name": "stdout",
     "output_type": "stream",
     "text": [
      "Gradient Boosting Classifier\n",
      "[[119  17]\n",
      " [  6   1]]\n",
      "0.5089285714285714\n",
      "Decision Tree\n",
      "[[120  16]\n",
      " [  5   2]]\n",
      "0.5840336134453781\n",
      "Random Forest\n",
      "[[131   5]\n",
      " [  7   0]]\n",
      "0.48161764705882354\n"
     ]
    },
    {
     "name": "stderr",
     "output_type": "stream",
     "text": [
      "C:\\Users\\Nour Al-Hoda\\Anaconda3\\lib\\site-packages\\sklearn\\neural_network\\multilayer_perceptron.py:562: ConvergenceWarning: Stochastic Optimizer: Maximum iterations (200) reached and the optimization hasn't converged yet.\n",
      "  % self.max_iter, ConvergenceWarning)\n"
     ]
    },
    {
     "name": "stdout",
     "output_type": "stream",
     "text": [
      "Neural Net\n",
      "[[136   0]\n",
      " [  7   0]]\n",
      "0.5\n",
      "Naive Bayes\n",
      "[[112  24]\n",
      " [  2   5]]\n",
      "0.7689075630252101\n",
      "AdaBoost\n",
      "[[133   3]\n",
      " [  7   0]]\n",
      "0.4889705882352941\n",
      "Gaussian Process\n",
      "[[130   6]\n",
      " [  5   2]]\n",
      "0.620798319327731\n",
      "=================================================================\n",
      "Results for  255  PCA components\n",
      "=================================================================\n",
      "Logistic Regression\n",
      "[[130   6]\n",
      " [  7   0]]\n",
      "0.47794117647058826\n",
      "Nearest Neighbors\n",
      "[[134   2]\n",
      " [  7   0]]\n",
      "0.49264705882352944\n",
      "Linear SVM\n",
      "[[131   5]\n",
      " [  7   0]]\n",
      "0.48161764705882354\n"
     ]
    },
    {
     "name": "stderr",
     "output_type": "stream",
     "text": [
      "C:\\Users\\Nour Al-Hoda\\Anaconda3\\lib\\site-packages\\sklearn\\linear_model\\logistic.py:433: FutureWarning: Default solver will be changed to 'lbfgs' in 0.22. Specify a solver to silence this warning.\n",
      "  FutureWarning)\n"
     ]
    },
    {
     "name": "stdout",
     "output_type": "stream",
     "text": [
      "Gradient Boosting Classifier\n",
      "[[119  17]\n",
      " [  6   1]]\n",
      "0.5089285714285714\n",
      "Decision Tree\n",
      "[[118  18]\n",
      " [  6   1]]\n",
      "0.5052521008403361\n",
      "Random Forest\n",
      "[[131   5]\n",
      " [  7   0]]\n",
      "0.48161764705882354\n"
     ]
    },
    {
     "name": "stderr",
     "output_type": "stream",
     "text": [
      "C:\\Users\\Nour Al-Hoda\\Anaconda3\\lib\\site-packages\\sklearn\\neural_network\\multilayer_perceptron.py:562: ConvergenceWarning: Stochastic Optimizer: Maximum iterations (200) reached and the optimization hasn't converged yet.\n",
      "  % self.max_iter, ConvergenceWarning)\n"
     ]
    },
    {
     "name": "stdout",
     "output_type": "stream",
     "text": [
      "Neural Net\n",
      "[[136   0]\n",
      " [  7   0]]\n",
      "0.5\n",
      "Naive Bayes\n",
      "[[118  18]\n",
      " [  3   4]]\n",
      "0.7195378151260504\n",
      "AdaBoost\n",
      "[[135   1]\n",
      " [  7   0]]\n",
      "0.4963235294117647\n",
      "Gaussian Process\n",
      "[[129   7]\n",
      " [  5   2]]\n",
      "0.6171218487394957\n",
      "=================================================================\n",
      "Results for  270  PCA components\n",
      "=================================================================\n",
      "Logistic Regression\n",
      "[[130   6]\n",
      " [  7   0]]\n",
      "0.47794117647058826\n",
      "Nearest Neighbors\n",
      "[[134   2]\n",
      " [  7   0]]\n",
      "0.49264705882352944\n",
      "Linear SVM\n",
      "[[130   6]\n",
      " [  7   0]]\n",
      "0.47794117647058826\n"
     ]
    },
    {
     "name": "stderr",
     "output_type": "stream",
     "text": [
      "C:\\Users\\Nour Al-Hoda\\Anaconda3\\lib\\site-packages\\sklearn\\linear_model\\logistic.py:433: FutureWarning: Default solver will be changed to 'lbfgs' in 0.22. Specify a solver to silence this warning.\n",
      "  FutureWarning)\n"
     ]
    },
    {
     "name": "stdout",
     "output_type": "stream",
     "text": [
      "Gradient Boosting Classifier\n",
      "[[119  17]\n",
      " [  7   0]]\n",
      "0.4375\n",
      "Decision Tree\n",
      "[[121  15]\n",
      " [  6   1]]\n",
      "0.516281512605042\n",
      "Random Forest\n",
      "[[131   5]\n",
      " [  7   0]]\n",
      "0.48161764705882354\n"
     ]
    },
    {
     "name": "stderr",
     "output_type": "stream",
     "text": [
      "C:\\Users\\Nour Al-Hoda\\Anaconda3\\lib\\site-packages\\sklearn\\neural_network\\multilayer_perceptron.py:562: ConvergenceWarning: Stochastic Optimizer: Maximum iterations (200) reached and the optimization hasn't converged yet.\n",
      "  % self.max_iter, ConvergenceWarning)\n"
     ]
    },
    {
     "name": "stdout",
     "output_type": "stream",
     "text": [
      "Neural Net\n",
      "[[136   0]\n",
      " [  7   0]]\n",
      "0.5\n",
      "Naive Bayes\n",
      "[[123  13]\n",
      " [  6   1]]\n",
      "0.5236344537815125\n",
      "AdaBoost\n",
      "[[135   1]\n",
      " [  7   0]]\n",
      "0.4963235294117647\n",
      "Gaussian Process\n",
      "[[130   6]\n",
      " [  5   2]]\n",
      "0.620798319327731\n",
      "=================================================================\n",
      "Results for  285  PCA components\n",
      "=================================================================\n",
      "Logistic Regression\n",
      "[[132   4]\n",
      " [  7   0]]\n",
      "0.4852941176470588\n",
      "Nearest Neighbors\n",
      "[[134   2]\n",
      " [  7   0]]\n",
      "0.49264705882352944\n",
      "Linear SVM\n",
      "[[129   7]\n",
      " [  7   0]]\n",
      "0.4742647058823529\n"
     ]
    },
    {
     "name": "stderr",
     "output_type": "stream",
     "text": [
      "C:\\Users\\Nour Al-Hoda\\Anaconda3\\lib\\site-packages\\sklearn\\linear_model\\logistic.py:433: FutureWarning: Default solver will be changed to 'lbfgs' in 0.22. Specify a solver to silence this warning.\n",
      "  FutureWarning)\n"
     ]
    },
    {
     "name": "stdout",
     "output_type": "stream",
     "text": [
      "Gradient Boosting Classifier\n",
      "[[120  16]\n",
      " [  6   1]]\n",
      "0.5126050420168067\n",
      "Decision Tree\n",
      "[[120  16]\n",
      " [  6   1]]\n",
      "0.5126050420168067\n",
      "Random Forest\n",
      "[[130   6]\n",
      " [  7   0]]\n",
      "0.47794117647058826\n"
     ]
    },
    {
     "name": "stderr",
     "output_type": "stream",
     "text": [
      "C:\\Users\\Nour Al-Hoda\\Anaconda3\\lib\\site-packages\\sklearn\\neural_network\\multilayer_perceptron.py:562: ConvergenceWarning: Stochastic Optimizer: Maximum iterations (200) reached and the optimization hasn't converged yet.\n",
      "  % self.max_iter, ConvergenceWarning)\n"
     ]
    },
    {
     "name": "stdout",
     "output_type": "stream",
     "text": [
      "Neural Net\n",
      "[[134   2]\n",
      " [  7   0]]\n",
      "0.49264705882352944\n",
      "Naive Bayes\n",
      "[[131   5]\n",
      " [  7   0]]\n",
      "0.48161764705882354\n",
      "AdaBoost\n",
      "[[135   1]\n",
      " [  7   0]]\n",
      "0.4963235294117647\n",
      "Gaussian Process\n",
      "[[130   6]\n",
      " [  5   2]]\n",
      "0.620798319327731\n",
      "=================================================================\n",
      "Training 10 different classifiers, and different PCA components after CAR filter\n",
      "=================================================================\n",
      "=================================================================\n",
      "Results for  15  PCA components\n",
      "=================================================================\n",
      "Logistic Regression\n",
      "[[136   0]\n",
      " [  7   0]]\n",
      "0.5\n",
      "Nearest Neighbors\n",
      "[[132   4]\n",
      " [  6   1]]\n",
      "0.5567226890756302\n",
      "Linear SVM\n",
      "[[136   0]\n",
      " [  7   0]]\n",
      "0.5\n"
     ]
    },
    {
     "name": "stderr",
     "output_type": "stream",
     "text": [
      "C:\\Users\\Nour Al-Hoda\\Anaconda3\\lib\\site-packages\\sklearn\\linear_model\\logistic.py:433: FutureWarning: Default solver will be changed to 'lbfgs' in 0.22. Specify a solver to silence this warning.\n",
      "  FutureWarning)\n"
     ]
    },
    {
     "name": "stdout",
     "output_type": "stream",
     "text": [
      "Gradient Boosting Classifier\n",
      "[[136   0]\n",
      " [  7   0]]\n",
      "0.5\n",
      "Decision Tree\n",
      "[[133   3]\n",
      " [  6   1]]\n",
      "0.5603991596638654\n",
      "Random Forest\n",
      "[[136   0]\n",
      " [  7   0]]\n",
      "0.5\n"
     ]
    },
    {
     "name": "stderr",
     "output_type": "stream",
     "text": [
      "C:\\Users\\Nour Al-Hoda\\Anaconda3\\lib\\site-packages\\sklearn\\neural_network\\multilayer_perceptron.py:562: ConvergenceWarning: Stochastic Optimizer: Maximum iterations (200) reached and the optimization hasn't converged yet.\n",
      "  % self.max_iter, ConvergenceWarning)\n"
     ]
    },
    {
     "name": "stdout",
     "output_type": "stream",
     "text": [
      "Neural Net\n",
      "[[136   0]\n",
      " [  7   0]]\n",
      "0.5\n",
      "Naive Bayes\n",
      "[[80 56]\n",
      " [ 2  5]]\n",
      "0.6512605042016808\n",
      "AdaBoost\n",
      "[[133   3]\n",
      " [  7   0]]\n",
      "0.4889705882352941\n",
      "Gaussian Process\n",
      "[[126  10]\n",
      " [  4   3]]\n",
      "0.6775210084033614\n",
      "=================================================================\n",
      "Results for  30  PCA components\n",
      "=================================================================\n",
      "Logistic Regression\n",
      "[[135   1]\n",
      " [  7   0]]\n",
      "0.4963235294117647\n",
      "Nearest Neighbors\n",
      "[[132   4]\n",
      " [  6   1]]\n",
      "0.5567226890756302\n",
      "Linear SVM\n",
      "[[136   0]\n",
      " [  7   0]]\n",
      "0.5\n"
     ]
    },
    {
     "name": "stderr",
     "output_type": "stream",
     "text": [
      "C:\\Users\\Nour Al-Hoda\\Anaconda3\\lib\\site-packages\\sklearn\\linear_model\\logistic.py:433: FutureWarning: Default solver will be changed to 'lbfgs' in 0.22. Specify a solver to silence this warning.\n",
      "  FutureWarning)\n"
     ]
    },
    {
     "name": "stdout",
     "output_type": "stream",
     "text": [
      "Gradient Boosting Classifier\n",
      "[[136   0]\n",
      " [  7   0]]\n",
      "0.5\n",
      "Decision Tree\n",
      "[[129   7]\n",
      " [  6   1]]\n",
      "0.5456932773109243\n",
      "Random Forest\n",
      "[[136   0]\n",
      " [  7   0]]\n",
      "0.5\n"
     ]
    },
    {
     "name": "stderr",
     "output_type": "stream",
     "text": [
      "C:\\Users\\Nour Al-Hoda\\Anaconda3\\lib\\site-packages\\sklearn\\neural_network\\multilayer_perceptron.py:562: ConvergenceWarning: Stochastic Optimizer: Maximum iterations (200) reached and the optimization hasn't converged yet.\n",
      "  % self.max_iter, ConvergenceWarning)\n"
     ]
    },
    {
     "name": "stdout",
     "output_type": "stream",
     "text": [
      "Neural Net\n",
      "[[134   2]\n",
      " [  6   1]]\n",
      "0.5640756302521008\n",
      "Naive Bayes\n",
      "[[76 60]\n",
      " [ 2  5]]\n",
      "0.6365546218487395\n",
      "AdaBoost\n",
      "[[131   5]\n",
      " [  6   1]]\n",
      "0.5530462184873949\n",
      "Gaussian Process\n",
      "[[127   9]\n",
      " [  5   2]]\n",
      "0.6097689075630252\n",
      "=================================================================\n",
      "Results for  45  PCA components\n",
      "=================================================================\n",
      "Logistic Regression\n",
      "[[134   2]\n",
      " [  7   0]]\n",
      "0.49264705882352944\n",
      "Nearest Neighbors\n",
      "[[131   5]\n",
      " [  6   1]]\n",
      "0.5530462184873949\n"
     ]
    },
    {
     "name": "stderr",
     "output_type": "stream",
     "text": [
      "C:\\Users\\Nour Al-Hoda\\Anaconda3\\lib\\site-packages\\sklearn\\linear_model\\logistic.py:433: FutureWarning: Default solver will be changed to 'lbfgs' in 0.22. Specify a solver to silence this warning.\n",
      "  FutureWarning)\n"
     ]
    },
    {
     "name": "stdout",
     "output_type": "stream",
     "text": [
      "Linear SVM\n",
      "[[136   0]\n",
      " [  7   0]]\n",
      "0.5\n",
      "Gradient Boosting Classifier\n",
      "[[136   0]\n",
      " [  7   0]]\n",
      "0.5\n",
      "Decision Tree\n",
      "[[130   6]\n",
      " [  7   0]]\n",
      "0.47794117647058826\n",
      "Random Forest\n",
      "[[136   0]\n",
      " [  7   0]]\n",
      "0.5\n"
     ]
    },
    {
     "name": "stderr",
     "output_type": "stream",
     "text": [
      "C:\\Users\\Nour Al-Hoda\\Anaconda3\\lib\\site-packages\\sklearn\\neural_network\\multilayer_perceptron.py:562: ConvergenceWarning: Stochastic Optimizer: Maximum iterations (200) reached and the optimization hasn't converged yet.\n",
      "  % self.max_iter, ConvergenceWarning)\n"
     ]
    },
    {
     "name": "stdout",
     "output_type": "stream",
     "text": [
      "Neural Net\n",
      "[[134   2]\n",
      " [  7   0]]\n",
      "0.49264705882352944\n",
      "Naive Bayes\n",
      "[[75 61]\n",
      " [ 2  5]]\n",
      "0.6328781512605043\n",
      "AdaBoost\n",
      "[[130   6]\n",
      " [  6   1]]\n",
      "0.5493697478991596\n",
      "Gaussian Process\n",
      "[[130   6]\n",
      " [  6   1]]\n",
      "0.5493697478991596\n",
      "=================================================================\n",
      "Results for  60  PCA components\n",
      "=================================================================\n",
      "Logistic Regression\n",
      "[[134   2]\n",
      " [  7   0]]\n",
      "0.49264705882352944\n",
      "Nearest Neighbors\n",
      "[[134   2]\n",
      " [  7   0]]\n",
      "0.49264705882352944\n",
      "Linear SVM\n",
      "[[132   4]\n",
      " [  7   0]]\n",
      "0.4852941176470588\n"
     ]
    },
    {
     "name": "stderr",
     "output_type": "stream",
     "text": [
      "C:\\Users\\Nour Al-Hoda\\Anaconda3\\lib\\site-packages\\sklearn\\linear_model\\logistic.py:433: FutureWarning: Default solver will be changed to 'lbfgs' in 0.22. Specify a solver to silence this warning.\n",
      "  FutureWarning)\n"
     ]
    },
    {
     "name": "stdout",
     "output_type": "stream",
     "text": [
      "Gradient Boosting Classifier\n",
      "[[136   0]\n",
      " [  7   0]]\n",
      "0.5\n",
      "Decision Tree\n",
      "[[129   7]\n",
      " [  7   0]]\n",
      "0.4742647058823529\n",
      "Random Forest\n",
      "[[136   0]\n",
      " [  7   0]]\n",
      "0.5\n"
     ]
    },
    {
     "name": "stderr",
     "output_type": "stream",
     "text": [
      "C:\\Users\\Nour Al-Hoda\\Anaconda3\\lib\\site-packages\\sklearn\\neural_network\\multilayer_perceptron.py:562: ConvergenceWarning: Stochastic Optimizer: Maximum iterations (200) reached and the optimization hasn't converged yet.\n",
      "  % self.max_iter, ConvergenceWarning)\n"
     ]
    },
    {
     "name": "stdout",
     "output_type": "stream",
     "text": [
      "Neural Net\n",
      "[[136   0]\n",
      " [  7   0]]\n",
      "0.5\n",
      "Naive Bayes\n",
      "[[74 62]\n",
      " [ 2  5]]\n",
      "0.629201680672269\n",
      "AdaBoost\n",
      "[[134   2]\n",
      " [  7   0]]\n",
      "0.49264705882352944\n",
      "Gaussian Process\n",
      "[[129   7]\n",
      " [  6   1]]\n",
      "0.5456932773109243\n",
      "=================================================================\n",
      "Results for  75  PCA components\n",
      "=================================================================\n",
      "Logistic Regression\n",
      "[[133   3]\n",
      " [  7   0]]\n",
      "0.4889705882352941\n",
      "Nearest Neighbors\n",
      "[[134   2]\n",
      " [  7   0]]\n",
      "0.49264705882352944\n",
      "Linear SVM\n",
      "[[133   3]\n",
      " [  7   0]]\n",
      "0.4889705882352941\n"
     ]
    },
    {
     "name": "stderr",
     "output_type": "stream",
     "text": [
      "C:\\Users\\Nour Al-Hoda\\Anaconda3\\lib\\site-packages\\sklearn\\linear_model\\logistic.py:433: FutureWarning: Default solver will be changed to 'lbfgs' in 0.22. Specify a solver to silence this warning.\n",
      "  FutureWarning)\n"
     ]
    },
    {
     "name": "stdout",
     "output_type": "stream",
     "text": [
      "Gradient Boosting Classifier\n",
      "[[136   0]\n",
      " [  7   0]]\n",
      "0.5\n",
      "Decision Tree\n",
      "[[127   9]\n",
      " [  7   0]]\n",
      "0.46691176470588236\n",
      "Random Forest\n",
      "[[136   0]\n",
      " [  7   0]]\n",
      "0.5\n"
     ]
    },
    {
     "name": "stderr",
     "output_type": "stream",
     "text": [
      "C:\\Users\\Nour Al-Hoda\\Anaconda3\\lib\\site-packages\\sklearn\\neural_network\\multilayer_perceptron.py:562: ConvergenceWarning: Stochastic Optimizer: Maximum iterations (200) reached and the optimization hasn't converged yet.\n",
      "  % self.max_iter, ConvergenceWarning)\n"
     ]
    },
    {
     "name": "stdout",
     "output_type": "stream",
     "text": [
      "Neural Net\n",
      "[[134   2]\n",
      " [  6   1]]\n",
      "0.5640756302521008\n",
      "Naive Bayes\n",
      "[[76 60]\n",
      " [ 2  5]]\n",
      "0.6365546218487395\n",
      "AdaBoost\n",
      "[[135   1]\n",
      " [  7   0]]\n",
      "0.4963235294117647\n",
      "Gaussian Process\n",
      "[[129   7]\n",
      " [  5   2]]\n",
      "0.6171218487394957\n",
      "=================================================================\n",
      "Results for  90  PCA components\n",
      "=================================================================\n",
      "Logistic Regression\n",
      "[[131   5]\n",
      " [  7   0]]\n",
      "0.48161764705882354\n",
      "Nearest Neighbors\n",
      "[[134   2]\n",
      " [  7   0]]\n",
      "0.49264705882352944\n",
      "Linear SVM\n",
      "[[129   7]\n",
      " [  7   0]]\n",
      "0.4742647058823529\n"
     ]
    },
    {
     "name": "stderr",
     "output_type": "stream",
     "text": [
      "C:\\Users\\Nour Al-Hoda\\Anaconda3\\lib\\site-packages\\sklearn\\linear_model\\logistic.py:433: FutureWarning: Default solver will be changed to 'lbfgs' in 0.22. Specify a solver to silence this warning.\n",
      "  FutureWarning)\n"
     ]
    },
    {
     "name": "stdout",
     "output_type": "stream",
     "text": [
      "Gradient Boosting Classifier\n",
      "[[136   0]\n",
      " [  7   0]]\n",
      "0.5\n",
      "Decision Tree\n",
      "[[126  10]\n",
      " [  7   0]]\n",
      "0.4632352941176471\n",
      "Random Forest\n",
      "[[136   0]\n",
      " [  7   0]]\n",
      "0.5\n"
     ]
    },
    {
     "name": "stderr",
     "output_type": "stream",
     "text": [
      "C:\\Users\\Nour Al-Hoda\\Anaconda3\\lib\\site-packages\\sklearn\\neural_network\\multilayer_perceptron.py:562: ConvergenceWarning: Stochastic Optimizer: Maximum iterations (200) reached and the optimization hasn't converged yet.\n",
      "  % self.max_iter, ConvergenceWarning)\n"
     ]
    },
    {
     "name": "stdout",
     "output_type": "stream",
     "text": [
      "Neural Net\n",
      "[[134   2]\n",
      " [  7   0]]\n",
      "0.49264705882352944\n",
      "Naive Bayes\n",
      "[[83 53]\n",
      " [ 2  5]]\n",
      "0.6622899159663866\n",
      "AdaBoost\n",
      "[[132   4]\n",
      " [  7   0]]\n",
      "0.4852941176470588\n",
      "Gaussian Process\n",
      "[[130   6]\n",
      " [  5   2]]\n",
      "0.620798319327731\n",
      "=================================================================\n",
      "Results for  105  PCA components\n",
      "=================================================================\n",
      "Logistic Regression\n",
      "[[131   5]\n",
      " [  7   0]]\n",
      "0.48161764705882354\n",
      "Nearest Neighbors\n",
      "[[134   2]\n",
      " [  7   0]]\n",
      "0.49264705882352944\n",
      "Linear SVM\n",
      "[[130   6]\n",
      " [  7   0]]\n",
      "0.47794117647058826\n"
     ]
    },
    {
     "name": "stderr",
     "output_type": "stream",
     "text": [
      "C:\\Users\\Nour Al-Hoda\\Anaconda3\\lib\\site-packages\\sklearn\\linear_model\\logistic.py:433: FutureWarning: Default solver will be changed to 'lbfgs' in 0.22. Specify a solver to silence this warning.\n",
      "  FutureWarning)\n"
     ]
    },
    {
     "name": "stdout",
     "output_type": "stream",
     "text": [
      "Gradient Boosting Classifier\n",
      "[[135   1]\n",
      " [  7   0]]\n",
      "0.4963235294117647\n",
      "Decision Tree\n",
      "[[130   6]\n",
      " [  7   0]]\n",
      "0.47794117647058826\n",
      "Random Forest\n",
      "[[136   0]\n",
      " [  7   0]]\n",
      "0.5\n"
     ]
    },
    {
     "name": "stderr",
     "output_type": "stream",
     "text": [
      "C:\\Users\\Nour Al-Hoda\\Anaconda3\\lib\\site-packages\\sklearn\\neural_network\\multilayer_perceptron.py:562: ConvergenceWarning: Stochastic Optimizer: Maximum iterations (200) reached and the optimization hasn't converged yet.\n",
      "  % self.max_iter, ConvergenceWarning)\n"
     ]
    },
    {
     "name": "stdout",
     "output_type": "stream",
     "text": [
      "Neural Net\n",
      "[[134   2]\n",
      " [  7   0]]\n",
      "0.49264705882352944\n",
      "Naive Bayes\n",
      "[[82 54]\n",
      " [ 2  5]]\n",
      "0.6586134453781514\n",
      "AdaBoost\n",
      "[[133   3]\n",
      " [  7   0]]\n",
      "0.4889705882352941\n",
      "Gaussian Process\n",
      "[[130   6]\n",
      " [  5   2]]\n",
      "0.620798319327731\n",
      "=================================================================\n",
      "Results for  120  PCA components\n",
      "=================================================================\n",
      "Logistic Regression\n",
      "[[131   5]\n",
      " [  7   0]]\n",
      "0.48161764705882354\n",
      "Nearest Neighbors\n",
      "[[135   1]\n",
      " [  7   0]]\n",
      "0.4963235294117647\n",
      "Linear SVM\n",
      "[[128   8]\n",
      " [  7   0]]\n",
      "0.47058823529411764\n"
     ]
    },
    {
     "name": "stderr",
     "output_type": "stream",
     "text": [
      "C:\\Users\\Nour Al-Hoda\\Anaconda3\\lib\\site-packages\\sklearn\\linear_model\\logistic.py:433: FutureWarning: Default solver will be changed to 'lbfgs' in 0.22. Specify a solver to silence this warning.\n",
      "  FutureWarning)\n"
     ]
    },
    {
     "name": "stdout",
     "output_type": "stream",
     "text": [
      "Gradient Boosting Classifier\n",
      "[[130   6]\n",
      " [  7   0]]\n",
      "0.47794117647058826\n",
      "Decision Tree\n",
      "[[128   8]\n",
      " [  7   0]]\n",
      "0.47058823529411764\n",
      "Random Forest\n",
      "[[136   0]\n",
      " [  7   0]]\n",
      "0.5\n"
     ]
    },
    {
     "name": "stderr",
     "output_type": "stream",
     "text": [
      "C:\\Users\\Nour Al-Hoda\\Anaconda3\\lib\\site-packages\\sklearn\\neural_network\\multilayer_perceptron.py:562: ConvergenceWarning: Stochastic Optimizer: Maximum iterations (200) reached and the optimization hasn't converged yet.\n",
      "  % self.max_iter, ConvergenceWarning)\n"
     ]
    },
    {
     "name": "stdout",
     "output_type": "stream",
     "text": [
      "Neural Net\n",
      "[[134   2]\n",
      " [  7   0]]\n",
      "0.49264705882352944\n",
      "Naive Bayes\n",
      "[[83 53]\n",
      " [ 2  5]]\n",
      "0.6622899159663866\n",
      "AdaBoost\n",
      "[[135   1]\n",
      " [  7   0]]\n",
      "0.4963235294117647\n",
      "Gaussian Process\n",
      "[[130   6]\n",
      " [  5   2]]\n",
      "0.620798319327731\n",
      "=================================================================\n",
      "Results for  135  PCA components\n",
      "=================================================================\n",
      "Logistic Regression\n",
      "[[128   8]\n",
      " [  7   0]]\n",
      "0.47058823529411764\n",
      "Nearest Neighbors\n",
      "[[135   1]\n",
      " [  7   0]]\n",
      "0.4963235294117647\n",
      "Linear SVM\n",
      "[[131   5]\n",
      " [  7   0]]\n",
      "0.48161764705882354\n"
     ]
    },
    {
     "name": "stderr",
     "output_type": "stream",
     "text": [
      "C:\\Users\\Nour Al-Hoda\\Anaconda3\\lib\\site-packages\\sklearn\\linear_model\\logistic.py:433: FutureWarning: Default solver will be changed to 'lbfgs' in 0.22. Specify a solver to silence this warning.\n",
      "  FutureWarning)\n"
     ]
    },
    {
     "name": "stdout",
     "output_type": "stream",
     "text": [
      "Gradient Boosting Classifier\n",
      "[[131   5]\n",
      " [  7   0]]\n",
      "0.48161764705882354\n",
      "Decision Tree\n",
      "[[126  10]\n",
      " [  7   0]]\n",
      "0.4632352941176471\n",
      "Random Forest\n",
      "[[136   0]\n",
      " [  7   0]]\n",
      "0.5\n"
     ]
    },
    {
     "name": "stderr",
     "output_type": "stream",
     "text": [
      "C:\\Users\\Nour Al-Hoda\\Anaconda3\\lib\\site-packages\\sklearn\\neural_network\\multilayer_perceptron.py:562: ConvergenceWarning: Stochastic Optimizer: Maximum iterations (200) reached and the optimization hasn't converged yet.\n",
      "  % self.max_iter, ConvergenceWarning)\n"
     ]
    },
    {
     "name": "stdout",
     "output_type": "stream",
     "text": [
      "Neural Net\n",
      "[[136   0]\n",
      " [  7   0]]\n",
      "0.5\n",
      "Naive Bayes\n",
      "[[83 53]\n",
      " [ 2  5]]\n",
      "0.6622899159663866\n",
      "AdaBoost\n",
      "[[131   5]\n",
      " [  7   0]]\n",
      "0.48161764705882354\n",
      "Gaussian Process\n",
      "[[129   7]\n",
      " [  5   2]]\n",
      "0.6171218487394957\n",
      "=================================================================\n",
      "Results for  150  PCA components\n",
      "=================================================================\n",
      "Logistic Regression\n",
      "[[131   5]\n",
      " [  7   0]]\n",
      "0.48161764705882354\n",
      "Nearest Neighbors\n",
      "[[134   2]\n",
      " [  7   0]]\n",
      "0.49264705882352944\n",
      "Linear SVM\n",
      "[[129   7]\n",
      " [  7   0]]\n",
      "0.4742647058823529\n"
     ]
    },
    {
     "name": "stderr",
     "output_type": "stream",
     "text": [
      "C:\\Users\\Nour Al-Hoda\\Anaconda3\\lib\\site-packages\\sklearn\\linear_model\\logistic.py:433: FutureWarning: Default solver will be changed to 'lbfgs' in 0.22. Specify a solver to silence this warning.\n",
      "  FutureWarning)\n"
     ]
    },
    {
     "name": "stdout",
     "output_type": "stream",
     "text": [
      "Gradient Boosting Classifier\n",
      "[[133   3]\n",
      " [  7   0]]\n",
      "0.4889705882352941\n",
      "Decision Tree\n",
      "[[130   6]\n",
      " [  7   0]]\n",
      "0.47794117647058826\n",
      "Random Forest\n",
      "[[136   0]\n",
      " [  7   0]]\n",
      "0.5\n"
     ]
    },
    {
     "name": "stderr",
     "output_type": "stream",
     "text": [
      "C:\\Users\\Nour Al-Hoda\\Anaconda3\\lib\\site-packages\\sklearn\\neural_network\\multilayer_perceptron.py:562: ConvergenceWarning: Stochastic Optimizer: Maximum iterations (200) reached and the optimization hasn't converged yet.\n",
      "  % self.max_iter, ConvergenceWarning)\n"
     ]
    },
    {
     "name": "stdout",
     "output_type": "stream",
     "text": [
      "Neural Net\n",
      "[[136   0]\n",
      " [  7   0]]\n",
      "0.5\n",
      "Naive Bayes\n",
      "[[94 42]\n",
      " [ 2  5]]\n",
      "0.7027310924369748\n",
      "AdaBoost\n",
      "[[135   1]\n",
      " [  7   0]]\n",
      "0.4963235294117647\n",
      "Gaussian Process\n",
      "[[129   7]\n",
      " [  5   2]]\n",
      "0.6171218487394957\n",
      "=================================================================\n",
      "Results for  165  PCA components\n",
      "=================================================================\n",
      "Logistic Regression\n",
      "[[131   5]\n",
      " [  7   0]]\n",
      "0.48161764705882354\n",
      "Nearest Neighbors\n",
      "[[135   1]\n",
      " [  7   0]]\n",
      "0.4963235294117647\n",
      "Linear SVM\n",
      "[[130   6]\n",
      " [  7   0]]\n",
      "0.47794117647058826\n"
     ]
    },
    {
     "name": "stderr",
     "output_type": "stream",
     "text": [
      "C:\\Users\\Nour Al-Hoda\\Anaconda3\\lib\\site-packages\\sklearn\\linear_model\\logistic.py:433: FutureWarning: Default solver will be changed to 'lbfgs' in 0.22. Specify a solver to silence this warning.\n",
      "  FutureWarning)\n"
     ]
    },
    {
     "name": "stdout",
     "output_type": "stream",
     "text": [
      "Gradient Boosting Classifier\n",
      "[[123  13]\n",
      " [  7   0]]\n",
      "0.4522058823529412\n",
      "Decision Tree\n",
      "[[123  13]\n",
      " [  7   0]]\n",
      "0.4522058823529412\n",
      "Random Forest\n",
      "[[136   0]\n",
      " [  7   0]]\n",
      "0.5\n"
     ]
    },
    {
     "name": "stderr",
     "output_type": "stream",
     "text": [
      "C:\\Users\\Nour Al-Hoda\\Anaconda3\\lib\\site-packages\\sklearn\\neural_network\\multilayer_perceptron.py:562: ConvergenceWarning: Stochastic Optimizer: Maximum iterations (200) reached and the optimization hasn't converged yet.\n",
      "  % self.max_iter, ConvergenceWarning)\n"
     ]
    },
    {
     "name": "stdout",
     "output_type": "stream",
     "text": [
      "Neural Net\n",
      "[[136   0]\n",
      " [  7   0]]\n",
      "0.5\n",
      "Naive Bayes\n",
      "[[93 43]\n",
      " [ 2  5]]\n",
      "0.6990546218487396\n",
      "AdaBoost\n",
      "[[135   1]\n",
      " [  7   0]]\n",
      "0.4963235294117647\n",
      "Gaussian Process\n",
      "[[130   6]\n",
      " [  5   2]]\n",
      "0.620798319327731\n",
      "=================================================================\n",
      "Results for  180  PCA components\n",
      "=================================================================\n",
      "Logistic Regression\n",
      "[[131   5]\n",
      " [  7   0]]\n",
      "0.48161764705882354\n",
      "Nearest Neighbors\n",
      "[[133   3]\n",
      " [  7   0]]\n",
      "0.4889705882352941\n",
      "Linear SVM\n",
      "[[133   3]\n",
      " [  7   0]]\n",
      "0.4889705882352941\n"
     ]
    },
    {
     "name": "stderr",
     "output_type": "stream",
     "text": [
      "C:\\Users\\Nour Al-Hoda\\Anaconda3\\lib\\site-packages\\sklearn\\linear_model\\logistic.py:433: FutureWarning: Default solver will be changed to 'lbfgs' in 0.22. Specify a solver to silence this warning.\n",
      "  FutureWarning)\n"
     ]
    },
    {
     "name": "stdout",
     "output_type": "stream",
     "text": [
      "Gradient Boosting Classifier\n",
      "[[130   6]\n",
      " [  7   0]]\n",
      "0.47794117647058826\n",
      "Decision Tree\n",
      "[[126  10]\n",
      " [  7   0]]\n",
      "0.4632352941176471\n",
      "Random Forest\n",
      "[[136   0]\n",
      " [  7   0]]\n",
      "0.5\n"
     ]
    },
    {
     "name": "stderr",
     "output_type": "stream",
     "text": [
      "C:\\Users\\Nour Al-Hoda\\Anaconda3\\lib\\site-packages\\sklearn\\neural_network\\multilayer_perceptron.py:562: ConvergenceWarning: Stochastic Optimizer: Maximum iterations (200) reached and the optimization hasn't converged yet.\n",
      "  % self.max_iter, ConvergenceWarning)\n"
     ]
    },
    {
     "name": "stdout",
     "output_type": "stream",
     "text": [
      "Neural Net\n",
      "[[135   1]\n",
      " [  7   0]]\n",
      "0.4963235294117647\n",
      "Naive Bayes\n",
      "[[96 40]\n",
      " [ 2  5]]\n",
      "0.7100840336134453\n",
      "AdaBoost\n",
      "[[133   3]\n",
      " [  7   0]]\n",
      "0.4889705882352941\n",
      "Gaussian Process\n",
      "[[129   7]\n",
      " [  5   2]]\n",
      "0.6171218487394957\n",
      "=================================================================\n",
      "Results for  195  PCA components\n",
      "=================================================================\n",
      "Logistic Regression\n",
      "[[132   4]\n",
      " [  7   0]]\n",
      "0.4852941176470588\n",
      "Nearest Neighbors\n",
      "[[134   2]\n",
      " [  7   0]]\n",
      "0.49264705882352944\n",
      "Linear SVM\n",
      "[[132   4]\n",
      " [  7   0]]\n",
      "0.4852941176470588\n"
     ]
    },
    {
     "name": "stderr",
     "output_type": "stream",
     "text": [
      "C:\\Users\\Nour Al-Hoda\\Anaconda3\\lib\\site-packages\\sklearn\\linear_model\\logistic.py:433: FutureWarning: Default solver will be changed to 'lbfgs' in 0.22. Specify a solver to silence this warning.\n",
      "  FutureWarning)\n"
     ]
    },
    {
     "name": "stdout",
     "output_type": "stream",
     "text": [
      "Gradient Boosting Classifier\n",
      "[[123  13]\n",
      " [  7   0]]\n",
      "0.4522058823529412\n",
      "Decision Tree\n",
      "[[123  13]\n",
      " [  6   1]]\n",
      "0.5236344537815125\n",
      "Random Forest\n",
      "[[133   3]\n",
      " [  7   0]]\n",
      "0.4889705882352941\n"
     ]
    },
    {
     "name": "stderr",
     "output_type": "stream",
     "text": [
      "C:\\Users\\Nour Al-Hoda\\Anaconda3\\lib\\site-packages\\sklearn\\neural_network\\multilayer_perceptron.py:562: ConvergenceWarning: Stochastic Optimizer: Maximum iterations (200) reached and the optimization hasn't converged yet.\n",
      "  % self.max_iter, ConvergenceWarning)\n"
     ]
    },
    {
     "name": "stdout",
     "output_type": "stream",
     "text": [
      "Neural Net\n",
      "[[136   0]\n",
      " [  7   0]]\n",
      "0.5\n",
      "Naive Bayes\n",
      "[[99 37]\n",
      " [ 2  5]]\n",
      "0.7211134453781514\n",
      "AdaBoost\n",
      "[[131   5]\n",
      " [  7   0]]\n",
      "0.48161764705882354\n",
      "Gaussian Process\n",
      "[[129   7]\n",
      " [  5   2]]\n",
      "0.6171218487394957\n",
      "=================================================================\n",
      "Results for  210  PCA components\n",
      "=================================================================\n",
      "Logistic Regression\n",
      "[[132   4]\n",
      " [  7   0]]\n",
      "0.4852941176470588\n",
      "Nearest Neighbors\n",
      "[[134   2]\n",
      " [  7   0]]\n",
      "0.49264705882352944\n",
      "Linear SVM\n",
      "[[130   6]\n",
      " [  7   0]]\n",
      "0.47794117647058826\n"
     ]
    },
    {
     "name": "stderr",
     "output_type": "stream",
     "text": [
      "C:\\Users\\Nour Al-Hoda\\Anaconda3\\lib\\site-packages\\sklearn\\linear_model\\logistic.py:433: FutureWarning: Default solver will be changed to 'lbfgs' in 0.22. Specify a solver to silence this warning.\n",
      "  FutureWarning)\n"
     ]
    },
    {
     "name": "stdout",
     "output_type": "stream",
     "text": [
      "Gradient Boosting Classifier\n",
      "[[125  11]\n",
      " [  7   0]]\n",
      "0.45955882352941174\n",
      "Decision Tree\n",
      "[[118  18]\n",
      " [  7   0]]\n",
      "0.4338235294117647\n",
      "Random Forest\n",
      "[[135   1]\n",
      " [  7   0]]\n",
      "0.4963235294117647\n"
     ]
    },
    {
     "name": "stderr",
     "output_type": "stream",
     "text": [
      "C:\\Users\\Nour Al-Hoda\\Anaconda3\\lib\\site-packages\\sklearn\\neural_network\\multilayer_perceptron.py:562: ConvergenceWarning: Stochastic Optimizer: Maximum iterations (200) reached and the optimization hasn't converged yet.\n",
      "  % self.max_iter, ConvergenceWarning)\n"
     ]
    },
    {
     "name": "stdout",
     "output_type": "stream",
     "text": [
      "Neural Net\n",
      "[[136   0]\n",
      " [  7   0]]\n",
      "0.5\n",
      "Naive Bayes\n",
      "[[103  33]\n",
      " [  2   5]]\n",
      "0.7358193277310925\n",
      "AdaBoost\n",
      "[[135   1]\n",
      " [  7   0]]\n",
      "0.4963235294117647\n",
      "Gaussian Process\n",
      "[[130   6]\n",
      " [  5   2]]\n",
      "0.620798319327731\n",
      "=================================================================\n",
      "Results for  225  PCA components\n",
      "=================================================================\n",
      "Logistic Regression\n",
      "[[131   5]\n",
      " [  7   0]]\n",
      "0.48161764705882354\n",
      "Nearest Neighbors\n",
      "[[134   2]\n",
      " [  7   0]]\n",
      "0.49264705882352944\n",
      "Linear SVM\n",
      "[[128   8]\n",
      " [  7   0]]\n",
      "0.47058823529411764\n"
     ]
    },
    {
     "name": "stderr",
     "output_type": "stream",
     "text": [
      "C:\\Users\\Nour Al-Hoda\\Anaconda3\\lib\\site-packages\\sklearn\\linear_model\\logistic.py:433: FutureWarning: Default solver will be changed to 'lbfgs' in 0.22. Specify a solver to silence this warning.\n",
      "  FutureWarning)\n"
     ]
    },
    {
     "name": "stdout",
     "output_type": "stream",
     "text": [
      "Gradient Boosting Classifier\n",
      "[[120  16]\n",
      " [  7   0]]\n",
      "0.4411764705882353\n",
      "Decision Tree\n",
      "[[119  17]\n",
      " [  6   1]]\n",
      "0.5089285714285714\n",
      "Random Forest\n",
      "[[132   4]\n",
      " [  7   0]]\n",
      "0.4852941176470588\n"
     ]
    },
    {
     "name": "stderr",
     "output_type": "stream",
     "text": [
      "C:\\Users\\Nour Al-Hoda\\Anaconda3\\lib\\site-packages\\sklearn\\neural_network\\multilayer_perceptron.py:562: ConvergenceWarning: Stochastic Optimizer: Maximum iterations (200) reached and the optimization hasn't converged yet.\n",
      "  % self.max_iter, ConvergenceWarning)\n"
     ]
    },
    {
     "name": "stdout",
     "output_type": "stream",
     "text": [
      "Neural Net\n",
      "[[136   0]\n",
      " [  7   0]]\n",
      "0.5\n",
      "Naive Bayes\n",
      "[[104  32]\n",
      " [  2   5]]\n",
      "0.7394957983193278\n",
      "AdaBoost\n",
      "[[135   1]\n",
      " [  7   0]]\n",
      "0.4963235294117647\n",
      "Gaussian Process\n",
      "[[130   6]\n",
      " [  6   1]]\n",
      "0.5493697478991596\n",
      "=================================================================\n",
      "Results for  240  PCA components\n",
      "=================================================================\n",
      "Logistic Regression\n",
      "[[132   4]\n",
      " [  7   0]]\n",
      "0.4852941176470588\n",
      "Nearest Neighbors\n",
      "[[134   2]\n",
      " [  7   0]]\n",
      "0.49264705882352944\n",
      "Linear SVM\n",
      "[[129   7]\n",
      " [  7   0]]\n",
      "0.4742647058823529\n"
     ]
    },
    {
     "name": "stderr",
     "output_type": "stream",
     "text": [
      "C:\\Users\\Nour Al-Hoda\\Anaconda3\\lib\\site-packages\\sklearn\\linear_model\\logistic.py:433: FutureWarning: Default solver will be changed to 'lbfgs' in 0.22. Specify a solver to silence this warning.\n",
      "  FutureWarning)\n"
     ]
    },
    {
     "name": "stdout",
     "output_type": "stream",
     "text": [
      "Gradient Boosting Classifier\n",
      "[[121  15]\n",
      " [  6   1]]\n",
      "0.516281512605042\n",
      "Decision Tree\n",
      "[[119  17]\n",
      " [  6   1]]\n",
      "0.5089285714285714\n",
      "Random Forest\n",
      "[[131   5]\n",
      " [  7   0]]\n",
      "0.48161764705882354\n"
     ]
    },
    {
     "name": "stderr",
     "output_type": "stream",
     "text": [
      "C:\\Users\\Nour Al-Hoda\\Anaconda3\\lib\\site-packages\\sklearn\\neural_network\\multilayer_perceptron.py:562: ConvergenceWarning: Stochastic Optimizer: Maximum iterations (200) reached and the optimization hasn't converged yet.\n",
      "  % self.max_iter, ConvergenceWarning)\n"
     ]
    },
    {
     "name": "stdout",
     "output_type": "stream",
     "text": [
      "Neural Net\n",
      "[[135   1]\n",
      " [  7   0]]\n",
      "0.4963235294117647\n",
      "Naive Bayes\n",
      "[[112  24]\n",
      " [  2   5]]\n",
      "0.7689075630252101\n",
      "AdaBoost\n",
      "[[133   3]\n",
      " [  7   0]]\n",
      "0.4889705882352941\n",
      "Gaussian Process\n",
      "[[130   6]\n",
      " [  5   2]]\n",
      "0.620798319327731\n",
      "=================================================================\n",
      "Results for  255  PCA components\n",
      "=================================================================\n",
      "Logistic Regression\n",
      "[[130   6]\n",
      " [  7   0]]\n",
      "0.47794117647058826\n",
      "Nearest Neighbors\n",
      "[[134   2]\n",
      " [  7   0]]\n",
      "0.49264705882352944\n",
      "Linear SVM\n",
      "[[131   5]\n",
      " [  7   0]]\n",
      "0.48161764705882354\n"
     ]
    },
    {
     "name": "stderr",
     "output_type": "stream",
     "text": [
      "C:\\Users\\Nour Al-Hoda\\Anaconda3\\lib\\site-packages\\sklearn\\linear_model\\logistic.py:433: FutureWarning: Default solver will be changed to 'lbfgs' in 0.22. Specify a solver to silence this warning.\n",
      "  FutureWarning)\n"
     ]
    },
    {
     "name": "stdout",
     "output_type": "stream",
     "text": [
      "Gradient Boosting Classifier\n",
      "[[120  16]\n",
      " [  6   1]]\n",
      "0.5126050420168067\n",
      "Decision Tree\n",
      "[[118  18]\n",
      " [  6   1]]\n",
      "0.5052521008403361\n",
      "Random Forest\n",
      "[[132   4]\n",
      " [  7   0]]\n",
      "0.4852941176470588\n"
     ]
    },
    {
     "name": "stderr",
     "output_type": "stream",
     "text": [
      "C:\\Users\\Nour Al-Hoda\\Anaconda3\\lib\\site-packages\\sklearn\\neural_network\\multilayer_perceptron.py:562: ConvergenceWarning: Stochastic Optimizer: Maximum iterations (200) reached and the optimization hasn't converged yet.\n",
      "  % self.max_iter, ConvergenceWarning)\n"
     ]
    },
    {
     "name": "stdout",
     "output_type": "stream",
     "text": [
      "Neural Net\n",
      "[[136   0]\n",
      " [  7   0]]\n",
      "0.5\n",
      "Naive Bayes\n",
      "[[118  18]\n",
      " [  3   4]]\n",
      "0.7195378151260504\n",
      "AdaBoost\n",
      "[[135   1]\n",
      " [  7   0]]\n",
      "0.4963235294117647\n",
      "Gaussian Process\n",
      "[[129   7]\n",
      " [  5   2]]\n",
      "0.6171218487394957\n",
      "=================================================================\n",
      "Results for  270  PCA components\n",
      "=================================================================\n",
      "Logistic Regression\n",
      "[[130   6]\n",
      " [  7   0]]\n",
      "0.47794117647058826\n",
      "Nearest Neighbors\n",
      "[[134   2]\n",
      " [  7   0]]\n",
      "0.49264705882352944\n",
      "Linear SVM\n",
      "[[130   6]\n",
      " [  7   0]]\n",
      "0.47794117647058826\n"
     ]
    },
    {
     "name": "stderr",
     "output_type": "stream",
     "text": [
      "C:\\Users\\Nour Al-Hoda\\Anaconda3\\lib\\site-packages\\sklearn\\linear_model\\logistic.py:433: FutureWarning: Default solver will be changed to 'lbfgs' in 0.22. Specify a solver to silence this warning.\n",
      "  FutureWarning)\n"
     ]
    },
    {
     "name": "stdout",
     "output_type": "stream",
     "text": [
      "Gradient Boosting Classifier\n",
      "[[119  17]\n",
      " [  6   1]]\n",
      "0.5089285714285714\n",
      "Decision Tree\n",
      "[[114  22]\n",
      " [  6   1]]\n",
      "0.49054621848739494\n",
      "Random Forest\n",
      "[[130   6]\n",
      " [  7   0]]\n",
      "0.47794117647058826\n"
     ]
    },
    {
     "name": "stderr",
     "output_type": "stream",
     "text": [
      "C:\\Users\\Nour Al-Hoda\\Anaconda3\\lib\\site-packages\\sklearn\\neural_network\\multilayer_perceptron.py:562: ConvergenceWarning: Stochastic Optimizer: Maximum iterations (200) reached and the optimization hasn't converged yet.\n",
      "  % self.max_iter, ConvergenceWarning)\n"
     ]
    },
    {
     "name": "stdout",
     "output_type": "stream",
     "text": [
      "Neural Net\n",
      "[[136   0]\n",
      " [  7   0]]\n",
      "0.5\n",
      "Naive Bayes\n",
      "[[123  13]\n",
      " [  6   1]]\n",
      "0.5236344537815125\n",
      "AdaBoost\n",
      "[[135   1]\n",
      " [  7   0]]\n",
      "0.4963235294117647\n",
      "Gaussian Process\n",
      "[[130   6]\n",
      " [  5   2]]\n",
      "0.620798319327731\n",
      "=================================================================\n",
      "Results for  285  PCA components\n",
      "=================================================================\n",
      "Logistic Regression\n",
      "[[132   4]\n",
      " [  7   0]]\n",
      "0.4852941176470588\n",
      "Nearest Neighbors\n",
      "[[134   2]\n",
      " [  7   0]]\n",
      "0.49264705882352944\n",
      "Linear SVM\n",
      "[[129   7]\n",
      " [  7   0]]\n",
      "0.4742647058823529\n"
     ]
    },
    {
     "name": "stderr",
     "output_type": "stream",
     "text": [
      "C:\\Users\\Nour Al-Hoda\\Anaconda3\\lib\\site-packages\\sklearn\\linear_model\\logistic.py:433: FutureWarning: Default solver will be changed to 'lbfgs' in 0.22. Specify a solver to silence this warning.\n",
      "  FutureWarning)\n"
     ]
    },
    {
     "name": "stdout",
     "output_type": "stream",
     "text": [
      "Gradient Boosting Classifier\n",
      "[[119  17]\n",
      " [  6   1]]\n",
      "0.5089285714285714\n",
      "Decision Tree\n",
      "[[111  25]\n",
      " [  6   1]]\n",
      "0.47951680672268904\n",
      "Random Forest\n",
      "[[130   6]\n",
      " [  7   0]]\n",
      "0.47794117647058826\n"
     ]
    },
    {
     "name": "stderr",
     "output_type": "stream",
     "text": [
      "C:\\Users\\Nour Al-Hoda\\Anaconda3\\lib\\site-packages\\sklearn\\neural_network\\multilayer_perceptron.py:562: ConvergenceWarning: Stochastic Optimizer: Maximum iterations (200) reached and the optimization hasn't converged yet.\n",
      "  % self.max_iter, ConvergenceWarning)\n"
     ]
    },
    {
     "name": "stdout",
     "output_type": "stream",
     "text": [
      "Neural Net\n",
      "[[135   1]\n",
      " [  7   0]]\n",
      "0.4963235294117647\n",
      "Naive Bayes\n",
      "[[131   5]\n",
      " [  7   0]]\n",
      "0.48161764705882354\n",
      "AdaBoost\n",
      "[[135   1]\n",
      " [  7   0]]\n",
      "0.4963235294117647\n",
      "Gaussian Process\n",
      "[[130   6]\n",
      " [  5   2]]\n",
      "0.620798319327731\n",
      "=================================================================\n",
      "=================================================================\n",
      "Results for  Hesham\n",
      "(219, 2689)\n",
      "=================================================================\n",
      "=================================================================\n",
      "=================================================================\n",
      "Training 10 different classifiers on raw data\n",
      "=================================================================\n",
      "Logistic Regression\n",
      "[[66  2]\n",
      " [ 5  0]]\n",
      "0.4852941176470588\n"
     ]
    },
    {
     "name": "stderr",
     "output_type": "stream",
     "text": [
      "C:\\Users\\Nour Al-Hoda\\Anaconda3\\lib\\site-packages\\sklearn\\linear_model\\logistic.py:433: FutureWarning: Default solver will be changed to 'lbfgs' in 0.22. Specify a solver to silence this warning.\n",
      "  FutureWarning)\n"
     ]
    },
    {
     "name": "stdout",
     "output_type": "stream",
     "text": [
      "Nearest Neighbors\n",
      "[[66  2]\n",
      " [ 5  0]]\n",
      "0.4852941176470588\n",
      "Linear SVM\n",
      "[[65  3]\n",
      " [ 5  0]]\n",
      "0.47794117647058826\n",
      "Gradient Boosting Classifier\n",
      "[[67  1]\n",
      " [ 5  0]]\n",
      "0.49264705882352944\n",
      "Decision Tree\n",
      "[[64  4]\n",
      " [ 5  0]]\n",
      "0.47058823529411764\n",
      "Random Forest\n",
      "[[68  0]\n",
      " [ 5  0]]\n",
      "0.5\n",
      "Neural Net\n",
      "[[68  0]\n",
      " [ 5  0]]\n",
      "0.5\n",
      "Naive Bayes\n",
      "[[57 11]\n",
      " [ 5  0]]\n",
      "0.41911764705882354\n",
      "AdaBoost\n",
      "[[67  1]\n",
      " [ 5  0]]\n",
      "0.49264705882352944\n",
      "Gaussian Process\n",
      "[[68  0]\n",
      " [ 5  0]]\n",
      "0.5\n",
      "(219, 2689)\n",
      "=================================================================\n",
      "Training 10 different classifiers on data after applying CAR filter\n",
      "=================================================================\n"
     ]
    },
    {
     "name": "stderr",
     "output_type": "stream",
     "text": [
      "C:\\Users\\Nour Al-Hoda\\Anaconda3\\lib\\site-packages\\sklearn\\linear_model\\logistic.py:433: FutureWarning: Default solver will be changed to 'lbfgs' in 0.22. Specify a solver to silence this warning.\n",
      "  FutureWarning)\n"
     ]
    },
    {
     "name": "stdout",
     "output_type": "stream",
     "text": [
      "Logistic Regression\n",
      "[[47 21]\n",
      " [ 3  2]]\n",
      "0.5455882352941176\n",
      "Nearest Neighbors\n",
      "[[66  2]\n",
      " [ 5  0]]\n",
      "0.4852941176470588\n",
      "Linear SVM\n",
      "[[65  3]\n",
      " [ 5  0]]\n",
      "0.47794117647058826\n",
      "Gradient Boosting Classifier\n",
      "[[67  1]\n",
      " [ 5  0]]\n",
      "0.49264705882352944\n",
      "Decision Tree\n",
      "[[65  3]\n",
      " [ 5  0]]\n",
      "0.47794117647058826\n",
      "Random Forest\n",
      "[[68  0]\n",
      " [ 5  0]]\n",
      "0.5\n",
      "Neural Net\n",
      "[[47 21]\n",
      " [ 2  3]]\n",
      "0.6455882352941177\n",
      "Naive Bayes\n",
      "[[57 11]\n",
      " [ 5  0]]\n",
      "0.41911764705882354\n",
      "AdaBoost\n",
      "[[67  1]\n",
      " [ 5  0]]\n",
      "0.49264705882352944\n",
      "Gaussian Process\n",
      "[[68  0]\n",
      " [ 5  0]]\n",
      "0.5\n",
      "=================================================================\n",
      "Training 10 different classifiers, and different PCA components without CAR filter\n",
      "=================================================================\n",
      "=================================================================\n",
      "Results for  15  PCA components\n",
      "=================================================================\n",
      "Logistic Regression\n",
      "[[68  0]\n",
      " [ 5  0]]\n",
      "0.5\n",
      "Nearest Neighbors\n",
      "[[68  0]\n",
      " [ 4  1]]\n",
      "0.6\n",
      "Linear SVM\n",
      "[[68  0]\n",
      " [ 5  0]]\n",
      "0.5\n"
     ]
    },
    {
     "name": "stderr",
     "output_type": "stream",
     "text": [
      "C:\\Users\\Nour Al-Hoda\\Anaconda3\\lib\\site-packages\\sklearn\\linear_model\\logistic.py:433: FutureWarning: Default solver will be changed to 'lbfgs' in 0.22. Specify a solver to silence this warning.\n",
      "  FutureWarning)\n"
     ]
    },
    {
     "name": "stdout",
     "output_type": "stream",
     "text": [
      "Gradient Boosting Classifier\n",
      "[[68  0]\n",
      " [ 5  0]]\n",
      "0.5\n",
      "Decision Tree\n",
      "[[62  6]\n",
      " [ 5  0]]\n",
      "0.45588235294117646\n",
      "Random Forest\n",
      "[[68  0]\n",
      " [ 5  0]]\n",
      "0.5\n"
     ]
    },
    {
     "name": "stderr",
     "output_type": "stream",
     "text": [
      "C:\\Users\\Nour Al-Hoda\\Anaconda3\\lib\\site-packages\\sklearn\\neural_network\\multilayer_perceptron.py:562: ConvergenceWarning: Stochastic Optimizer: Maximum iterations (200) reached and the optimization hasn't converged yet.\n",
      "  % self.max_iter, ConvergenceWarning)\n",
      "C:\\Users\\Nour Al-Hoda\\Anaconda3\\lib\\site-packages\\sklearn\\linear_model\\logistic.py:433: FutureWarning: Default solver will be changed to 'lbfgs' in 0.22. Specify a solver to silence this warning.\n",
      "  FutureWarning)\n"
     ]
    },
    {
     "name": "stdout",
     "output_type": "stream",
     "text": [
      "Neural Net\n",
      "[[67  1]\n",
      " [ 5  0]]\n",
      "0.49264705882352944\n",
      "Naive Bayes\n",
      "[[67  1]\n",
      " [ 5  0]]\n",
      "0.49264705882352944\n",
      "AdaBoost\n",
      "[[64  4]\n",
      " [ 5  0]]\n",
      "0.47058823529411764\n",
      "Gaussian Process\n",
      "[[59  9]\n",
      " [ 4  1]]\n",
      "0.5338235294117647\n",
      "=================================================================\n",
      "Results for  30  PCA components\n",
      "=================================================================\n",
      "Logistic Regression\n",
      "[[66  2]\n",
      " [ 4  1]]\n",
      "0.5852941176470587\n",
      "Nearest Neighbors\n",
      "[[66  2]\n",
      " [ 5  0]]\n",
      "0.4852941176470588\n",
      "Linear SVM\n",
      "[[66  2]\n",
      " [ 4  1]]\n",
      "0.5852941176470587\n",
      "Gradient Boosting Classifier\n",
      "[[68  0]\n",
      " [ 5  0]]\n",
      "0.5\n",
      "Decision Tree\n",
      "[[67  1]\n",
      " [ 5  0]]\n",
      "0.49264705882352944\n",
      "Random Forest\n",
      "[[68  0]\n",
      " [ 5  0]]\n",
      "0.5\n"
     ]
    },
    {
     "name": "stderr",
     "output_type": "stream",
     "text": [
      "C:\\Users\\Nour Al-Hoda\\Anaconda3\\lib\\site-packages\\sklearn\\neural_network\\multilayer_perceptron.py:562: ConvergenceWarning: Stochastic Optimizer: Maximum iterations (200) reached and the optimization hasn't converged yet.\n",
      "  % self.max_iter, ConvergenceWarning)\n"
     ]
    },
    {
     "name": "stdout",
     "output_type": "stream",
     "text": [
      "Neural Net\n",
      "[[67  1]\n",
      " [ 5  0]]\n",
      "0.49264705882352944\n",
      "Naive Bayes\n",
      "[[67  1]\n",
      " [ 5  0]]\n",
      "0.49264705882352944\n",
      "AdaBoost\n",
      "[[66  2]\n",
      " [ 5  0]]\n",
      "0.4852941176470588\n",
      "Gaussian Process\n",
      "[[63  5]\n",
      " [ 5  0]]\n",
      "0.4632352941176471\n",
      "=================================================================\n",
      "Results for  45  PCA components\n",
      "=================================================================\n",
      "Logistic Regression\n",
      "[[66  2]\n",
      " [ 4  1]]\n",
      "0.5852941176470587\n",
      "Nearest Neighbors\n",
      "[[67  1]\n",
      " [ 5  0]]\n",
      "0.49264705882352944\n",
      "Linear SVM\n",
      "[[65  3]\n",
      " [ 4  1]]\n",
      "0.5779411764705882\n"
     ]
    },
    {
     "name": "stderr",
     "output_type": "stream",
     "text": [
      "C:\\Users\\Nour Al-Hoda\\Anaconda3\\lib\\site-packages\\sklearn\\linear_model\\logistic.py:433: FutureWarning: Default solver will be changed to 'lbfgs' in 0.22. Specify a solver to silence this warning.\n",
      "  FutureWarning)\n"
     ]
    },
    {
     "name": "stdout",
     "output_type": "stream",
     "text": [
      "Gradient Boosting Classifier\n",
      "[[67  1]\n",
      " [ 5  0]]\n",
      "0.49264705882352944\n",
      "Decision Tree\n",
      "[[66  2]\n",
      " [ 5  0]]\n",
      "0.4852941176470588\n",
      "Random Forest\n",
      "[[68  0]\n",
      " [ 5  0]]\n",
      "0.5\n"
     ]
    },
    {
     "name": "stderr",
     "output_type": "stream",
     "text": [
      "C:\\Users\\Nour Al-Hoda\\Anaconda3\\lib\\site-packages\\sklearn\\neural_network\\multilayer_perceptron.py:562: ConvergenceWarning: Stochastic Optimizer: Maximum iterations (200) reached and the optimization hasn't converged yet.\n",
      "  % self.max_iter, ConvergenceWarning)\n"
     ]
    },
    {
     "name": "stdout",
     "output_type": "stream",
     "text": [
      "Neural Net\n",
      "[[66  2]\n",
      " [ 5  0]]\n",
      "0.4852941176470588\n",
      "Naive Bayes\n",
      "[[68  0]\n",
      " [ 5  0]]\n",
      "0.5\n",
      "AdaBoost\n",
      "[[68  0]\n",
      " [ 5  0]]\n",
      "0.5\n",
      "Gaussian Process\n",
      "[[63  5]\n",
      " [ 5  0]]\n",
      "0.4632352941176471\n",
      "=================================================================\n",
      "Results for  60  PCA components\n",
      "=================================================================\n",
      "Logistic Regression\n",
      "[[66  2]\n",
      " [ 5  0]]\n",
      "0.4852941176470588\n",
      "Nearest Neighbors\n",
      "[[68  0]\n",
      " [ 5  0]]\n",
      "0.5\n",
      "Linear SVM\n",
      "[[64  4]\n",
      " [ 5  0]]\n",
      "0.47058823529411764\n"
     ]
    },
    {
     "name": "stderr",
     "output_type": "stream",
     "text": [
      "C:\\Users\\Nour Al-Hoda\\Anaconda3\\lib\\site-packages\\sklearn\\linear_model\\logistic.py:433: FutureWarning: Default solver will be changed to 'lbfgs' in 0.22. Specify a solver to silence this warning.\n",
      "  FutureWarning)\n"
     ]
    },
    {
     "name": "stdout",
     "output_type": "stream",
     "text": [
      "Gradient Boosting Classifier\n",
      "[[67  1]\n",
      " [ 5  0]]\n",
      "0.49264705882352944\n",
      "Decision Tree\n",
      "[[67  1]\n",
      " [ 5  0]]\n",
      "0.49264705882352944\n",
      "Random Forest\n",
      "[[68  0]\n",
      " [ 5  0]]\n",
      "0.5\n"
     ]
    },
    {
     "name": "stderr",
     "output_type": "stream",
     "text": [
      "C:\\Users\\Nour Al-Hoda\\Anaconda3\\lib\\site-packages\\sklearn\\neural_network\\multilayer_perceptron.py:562: ConvergenceWarning: Stochastic Optimizer: Maximum iterations (200) reached and the optimization hasn't converged yet.\n",
      "  % self.max_iter, ConvergenceWarning)\n"
     ]
    },
    {
     "name": "stdout",
     "output_type": "stream",
     "text": [
      "Neural Net\n",
      "[[66  2]\n",
      " [ 5  0]]\n",
      "0.4852941176470588\n",
      "Naive Bayes\n",
      "[[67  1]\n",
      " [ 5  0]]\n",
      "0.49264705882352944\n",
      "AdaBoost\n",
      "[[67  1]\n",
      " [ 5  0]]\n",
      "0.49264705882352944\n",
      "Gaussian Process\n",
      "[[64  4]\n",
      " [ 5  0]]\n",
      "0.47058823529411764\n",
      "=================================================================\n",
      "Results for  75  PCA components\n",
      "=================================================================\n",
      "Logistic Regression\n",
      "[[66  2]\n",
      " [ 5  0]]\n",
      "0.4852941176470588\n",
      "Nearest Neighbors\n",
      "[[68  0]\n",
      " [ 5  0]]\n",
      "0.5\n",
      "Linear SVM\n",
      "[[67  1]\n",
      " [ 5  0]]\n",
      "0.49264705882352944\n"
     ]
    },
    {
     "name": "stderr",
     "output_type": "stream",
     "text": [
      "C:\\Users\\Nour Al-Hoda\\Anaconda3\\lib\\site-packages\\sklearn\\linear_model\\logistic.py:433: FutureWarning: Default solver will be changed to 'lbfgs' in 0.22. Specify a solver to silence this warning.\n",
      "  FutureWarning)\n"
     ]
    },
    {
     "name": "stdout",
     "output_type": "stream",
     "text": [
      "Gradient Boosting Classifier\n",
      "[[68  0]\n",
      " [ 5  0]]\n",
      "0.5\n",
      "Decision Tree\n",
      "[[65  3]\n",
      " [ 5  0]]\n",
      "0.47794117647058826\n",
      "Random Forest\n",
      "[[68  0]\n",
      " [ 5  0]]\n",
      "0.5\n"
     ]
    },
    {
     "name": "stderr",
     "output_type": "stream",
     "text": [
      "C:\\Users\\Nour Al-Hoda\\Anaconda3\\lib\\site-packages\\sklearn\\neural_network\\multilayer_perceptron.py:562: ConvergenceWarning: Stochastic Optimizer: Maximum iterations (200) reached and the optimization hasn't converged yet.\n",
      "  % self.max_iter, ConvergenceWarning)\n"
     ]
    },
    {
     "name": "stdout",
     "output_type": "stream",
     "text": [
      "Neural Net\n",
      "[[68  0]\n",
      " [ 5  0]]\n",
      "0.5\n",
      "Naive Bayes\n",
      "[[68  0]\n",
      " [ 5  0]]\n",
      "0.5\n",
      "AdaBoost\n",
      "[[67  1]\n",
      " [ 4  1]]\n",
      "0.5926470588235294\n",
      "Gaussian Process\n",
      "[[65  3]\n",
      " [ 5  0]]\n",
      "0.47794117647058826\n",
      "=================================================================\n",
      "Results for  90  PCA components\n",
      "=================================================================\n",
      "Logistic Regression\n",
      "[[65  3]\n",
      " [ 5  0]]\n",
      "0.47794117647058826\n",
      "Nearest Neighbors\n",
      "[[68  0]\n",
      " [ 5  0]]\n",
      "0.5\n",
      "Linear SVM\n",
      "[[65  3]\n",
      " [ 5  0]]\n",
      "0.47794117647058826\n"
     ]
    },
    {
     "name": "stderr",
     "output_type": "stream",
     "text": [
      "C:\\Users\\Nour Al-Hoda\\Anaconda3\\lib\\site-packages\\sklearn\\linear_model\\logistic.py:433: FutureWarning: Default solver will be changed to 'lbfgs' in 0.22. Specify a solver to silence this warning.\n",
      "  FutureWarning)\n"
     ]
    },
    {
     "name": "stdout",
     "output_type": "stream",
     "text": [
      "Gradient Boosting Classifier\n",
      "[[64  4]\n",
      " [ 5  0]]\n",
      "0.47058823529411764\n",
      "Decision Tree\n",
      "[[65  3]\n",
      " [ 5  0]]\n",
      "0.47794117647058826\n",
      "Random Forest\n",
      "[[68  0]\n",
      " [ 5  0]]\n",
      "0.5\n"
     ]
    },
    {
     "name": "stderr",
     "output_type": "stream",
     "text": [
      "C:\\Users\\Nour Al-Hoda\\Anaconda3\\lib\\site-packages\\sklearn\\neural_network\\multilayer_perceptron.py:562: ConvergenceWarning: Stochastic Optimizer: Maximum iterations (200) reached and the optimization hasn't converged yet.\n",
      "  % self.max_iter, ConvergenceWarning)\n"
     ]
    },
    {
     "name": "stdout",
     "output_type": "stream",
     "text": [
      "Neural Net\n",
      "[[68  0]\n",
      " [ 5  0]]\n",
      "0.5\n",
      "Naive Bayes\n",
      "[[68  0]\n",
      " [ 5  0]]\n",
      "0.5\n",
      "AdaBoost\n",
      "[[67  1]\n",
      " [ 5  0]]\n",
      "0.49264705882352944\n",
      "Gaussian Process\n",
      "[[65  3]\n",
      " [ 5  0]]\n",
      "0.47794117647058826\n",
      "=================================================================\n",
      "Results for  105  PCA components\n",
      "=================================================================\n"
     ]
    },
    {
     "name": "stderr",
     "output_type": "stream",
     "text": [
      "C:\\Users\\Nour Al-Hoda\\Anaconda3\\lib\\site-packages\\sklearn\\linear_model\\logistic.py:433: FutureWarning: Default solver will be changed to 'lbfgs' in 0.22. Specify a solver to silence this warning.\n",
      "  FutureWarning)\n"
     ]
    },
    {
     "name": "stdout",
     "output_type": "stream",
     "text": [
      "Logistic Regression\n",
      "[[66  2]\n",
      " [ 5  0]]\n",
      "0.4852941176470588\n",
      "Nearest Neighbors\n",
      "[[68  0]\n",
      " [ 5  0]]\n",
      "0.5\n",
      "Linear SVM\n",
      "[[65  3]\n",
      " [ 5  0]]\n",
      "0.47794117647058826\n",
      "Gradient Boosting Classifier\n",
      "[[64  4]\n",
      " [ 5  0]]\n",
      "0.47058823529411764\n",
      "Decision Tree\n",
      "[[66  2]\n",
      " [ 5  0]]\n",
      "0.4852941176470588\n",
      "Random Forest\n",
      "[[68  0]\n",
      " [ 5  0]]\n",
      "0.5\n"
     ]
    },
    {
     "name": "stderr",
     "output_type": "stream",
     "text": [
      "C:\\Users\\Nour Al-Hoda\\Anaconda3\\lib\\site-packages\\sklearn\\neural_network\\multilayer_perceptron.py:562: ConvergenceWarning: Stochastic Optimizer: Maximum iterations (200) reached and the optimization hasn't converged yet.\n",
      "  % self.max_iter, ConvergenceWarning)\n"
     ]
    },
    {
     "name": "stdout",
     "output_type": "stream",
     "text": [
      "Neural Net\n",
      "[[67  1]\n",
      " [ 5  0]]\n",
      "0.49264705882352944\n",
      "Naive Bayes\n",
      "[[68  0]\n",
      " [ 5  0]]\n",
      "0.5\n",
      "AdaBoost\n",
      "[[68  0]\n",
      " [ 5  0]]\n",
      "0.5\n",
      "Gaussian Process\n",
      "[[64  4]\n",
      " [ 5  0]]\n",
      "0.47058823529411764\n",
      "=================================================================\n",
      "Results for  120  PCA components\n",
      "=================================================================\n",
      "Logistic Regression\n",
      "[[63  5]\n",
      " [ 5  0]]\n",
      "0.4632352941176471\n",
      "Nearest Neighbors\n",
      "[[68  0]\n",
      " [ 5  0]]\n",
      "0.5\n",
      "Linear SVM\n",
      "[[65  3]\n",
      " [ 5  0]]\n",
      "0.47794117647058826\n"
     ]
    },
    {
     "name": "stderr",
     "output_type": "stream",
     "text": [
      "C:\\Users\\Nour Al-Hoda\\Anaconda3\\lib\\site-packages\\sklearn\\linear_model\\logistic.py:433: FutureWarning: Default solver will be changed to 'lbfgs' in 0.22. Specify a solver to silence this warning.\n",
      "  FutureWarning)\n"
     ]
    },
    {
     "name": "stdout",
     "output_type": "stream",
     "text": [
      "Gradient Boosting Classifier\n",
      "[[64  4]\n",
      " [ 5  0]]\n",
      "0.47058823529411764\n",
      "Decision Tree\n",
      "[[65  3]\n",
      " [ 5  0]]\n",
      "0.47794117647058826\n",
      "Random Forest\n",
      "[[67  1]\n",
      " [ 5  0]]\n",
      "0.49264705882352944\n"
     ]
    },
    {
     "name": "stderr",
     "output_type": "stream",
     "text": [
      "C:\\Users\\Nour Al-Hoda\\Anaconda3\\lib\\site-packages\\sklearn\\neural_network\\multilayer_perceptron.py:562: ConvergenceWarning: Stochastic Optimizer: Maximum iterations (200) reached and the optimization hasn't converged yet.\n",
      "  % self.max_iter, ConvergenceWarning)\n"
     ]
    },
    {
     "name": "stdout",
     "output_type": "stream",
     "text": [
      "Neural Net\n",
      "[[68  0]\n",
      " [ 5  0]]\n",
      "0.5\n",
      "Naive Bayes\n",
      "[[67  1]\n",
      " [ 5  0]]\n",
      "0.49264705882352944\n",
      "AdaBoost\n",
      "[[67  1]\n",
      " [ 5  0]]\n",
      "0.49264705882352944\n",
      "Gaussian Process\n",
      "[[65  3]\n",
      " [ 5  0]]\n",
      "0.47794117647058826\n",
      "=================================================================\n",
      "Results for  135  PCA components\n",
      "=================================================================\n",
      "Logistic Regression\n",
      "[[61  7]\n",
      " [ 5  0]]\n",
      "0.4485294117647059\n",
      "Nearest Neighbors\n",
      "[[68  0]\n",
      " [ 5  0]]\n",
      "0.5\n",
      "Linear SVM\n",
      "[[65  3]\n",
      " [ 5  0]]\n",
      "0.47794117647058826\n"
     ]
    },
    {
     "name": "stderr",
     "output_type": "stream",
     "text": [
      "C:\\Users\\Nour Al-Hoda\\Anaconda3\\lib\\site-packages\\sklearn\\linear_model\\logistic.py:433: FutureWarning: Default solver will be changed to 'lbfgs' in 0.22. Specify a solver to silence this warning.\n",
      "  FutureWarning)\n"
     ]
    },
    {
     "name": "stdout",
     "output_type": "stream",
     "text": [
      "Gradient Boosting Classifier\n",
      "[[64  4]\n",
      " [ 5  0]]\n",
      "0.47058823529411764\n",
      "Decision Tree\n",
      "[[65  3]\n",
      " [ 5  0]]\n",
      "0.47794117647058826\n",
      "Random Forest\n",
      "[[67  1]\n",
      " [ 5  0]]\n",
      "0.49264705882352944\n"
     ]
    },
    {
     "name": "stderr",
     "output_type": "stream",
     "text": [
      "C:\\Users\\Nour Al-Hoda\\Anaconda3\\lib\\site-packages\\sklearn\\neural_network\\multilayer_perceptron.py:562: ConvergenceWarning: Stochastic Optimizer: Maximum iterations (200) reached and the optimization hasn't converged yet.\n",
      "  % self.max_iter, ConvergenceWarning)\n"
     ]
    },
    {
     "name": "stdout",
     "output_type": "stream",
     "text": [
      "Neural Net\n",
      "[[66  2]\n",
      " [ 5  0]]\n",
      "0.4852941176470588\n",
      "Naive Bayes\n",
      "[[68  0]\n",
      " [ 5  0]]\n",
      "0.5\n",
      "AdaBoost\n",
      "[[68  0]\n",
      " [ 5  0]]\n",
      "0.5\n",
      "Gaussian Process\n",
      "[[65  3]\n",
      " [ 5  0]]\n",
      "0.47794117647058826\n",
      "=================================================================\n",
      "Training 10 different classifiers, and different PCA components after CAR filter\n",
      "=================================================================\n",
      "=================================================================\n",
      "Results for  15  PCA components\n",
      "=================================================================\n",
      "Logistic Regression\n",
      "[[67  1]\n",
      " [ 5  0]]\n",
      "0.49264705882352944\n",
      "Nearest Neighbors\n",
      "[[68  0]\n",
      " [ 4  1]]\n",
      "0.6\n",
      "Linear SVM\n",
      "[[68  0]\n",
      " [ 5  0]]\n",
      "0.5\n"
     ]
    },
    {
     "name": "stderr",
     "output_type": "stream",
     "text": [
      "C:\\Users\\Nour Al-Hoda\\Anaconda3\\lib\\site-packages\\sklearn\\linear_model\\logistic.py:433: FutureWarning: Default solver will be changed to 'lbfgs' in 0.22. Specify a solver to silence this warning.\n",
      "  FutureWarning)\n"
     ]
    },
    {
     "name": "stdout",
     "output_type": "stream",
     "text": [
      "Gradient Boosting Classifier\n",
      "[[68  0]\n",
      " [ 5  0]]\n",
      "0.5\n",
      "Decision Tree\n",
      "[[68  0]\n",
      " [ 5  0]]\n",
      "0.5\n",
      "Random Forest\n",
      "[[68  0]\n",
      " [ 5  0]]\n",
      "0.5\n"
     ]
    },
    {
     "name": "stderr",
     "output_type": "stream",
     "text": [
      "C:\\Users\\Nour Al-Hoda\\Anaconda3\\lib\\site-packages\\sklearn\\neural_network\\multilayer_perceptron.py:562: ConvergenceWarning: Stochastic Optimizer: Maximum iterations (200) reached and the optimization hasn't converged yet.\n",
      "  % self.max_iter, ConvergenceWarning)\n"
     ]
    },
    {
     "name": "stdout",
     "output_type": "stream",
     "text": [
      "Neural Net\n",
      "[[68  0]\n",
      " [ 5  0]]\n",
      "0.5\n",
      "Naive Bayes\n",
      "[[67  1]\n",
      " [ 5  0]]\n",
      "0.49264705882352944\n",
      "AdaBoost\n",
      "[[67  1]\n",
      " [ 5  0]]\n",
      "0.49264705882352944\n",
      "Gaussian Process\n",
      "[[58 10]\n",
      " [ 4  1]]\n",
      "0.526470588235294\n",
      "=================================================================\n",
      "Results for  30  PCA components\n",
      "=================================================================\n",
      "Logistic Regression\n",
      "[[66  2]\n",
      " [ 4  1]]\n",
      "0.5852941176470587\n",
      "Nearest Neighbors\n",
      "[[66  2]\n",
      " [ 4  1]]\n",
      "0.5852941176470587\n",
      "Linear SVM\n",
      "[[67  1]\n",
      " [ 4  1]]\n",
      "0.5926470588235294\n"
     ]
    },
    {
     "name": "stderr",
     "output_type": "stream",
     "text": [
      "C:\\Users\\Nour Al-Hoda\\Anaconda3\\lib\\site-packages\\sklearn\\linear_model\\logistic.py:433: FutureWarning: Default solver will be changed to 'lbfgs' in 0.22. Specify a solver to silence this warning.\n",
      "  FutureWarning)\n"
     ]
    },
    {
     "name": "stdout",
     "output_type": "stream",
     "text": [
      "Gradient Boosting Classifier\n",
      "[[67  1]\n",
      " [ 5  0]]\n",
      "0.49264705882352944\n",
      "Decision Tree\n",
      "[[65  3]\n",
      " [ 5  0]]\n",
      "0.47794117647058826\n",
      "Random Forest\n",
      "[[68  0]\n",
      " [ 5  0]]\n",
      "0.5\n"
     ]
    },
    {
     "name": "stderr",
     "output_type": "stream",
     "text": [
      "C:\\Users\\Nour Al-Hoda\\Anaconda3\\lib\\site-packages\\sklearn\\neural_network\\multilayer_perceptron.py:562: ConvergenceWarning: Stochastic Optimizer: Maximum iterations (200) reached and the optimization hasn't converged yet.\n",
      "  % self.max_iter, ConvergenceWarning)\n"
     ]
    },
    {
     "name": "stdout",
     "output_type": "stream",
     "text": [
      "Neural Net\n",
      "[[67  1]\n",
      " [ 5  0]]\n",
      "0.49264705882352944\n",
      "Naive Bayes\n",
      "[[66  2]\n",
      " [ 5  0]]\n",
      "0.4852941176470588\n",
      "AdaBoost\n",
      "[[66  2]\n",
      " [ 5  0]]\n",
      "0.4852941176470588\n",
      "Gaussian Process\n",
      "[[63  5]\n",
      " [ 5  0]]\n",
      "0.4632352941176471\n",
      "=================================================================\n",
      "Results for  45  PCA components\n",
      "=================================================================\n",
      "Logistic Regression\n",
      "[[66  2]\n",
      " [ 4  1]]\n",
      "0.5852941176470587\n",
      "Nearest Neighbors\n",
      "[[67  1]\n",
      " [ 5  0]]\n",
      "0.49264705882352944\n",
      "Linear SVM\n",
      "[[65  3]\n",
      " [ 4  1]]\n",
      "0.5779411764705882\n"
     ]
    },
    {
     "name": "stderr",
     "output_type": "stream",
     "text": [
      "C:\\Users\\Nour Al-Hoda\\Anaconda3\\lib\\site-packages\\sklearn\\linear_model\\logistic.py:433: FutureWarning: Default solver will be changed to 'lbfgs' in 0.22. Specify a solver to silence this warning.\n",
      "  FutureWarning)\n"
     ]
    },
    {
     "name": "stdout",
     "output_type": "stream",
     "text": [
      "Gradient Boosting Classifier\n",
      "[[67  1]\n",
      " [ 5  0]]\n",
      "0.49264705882352944\n",
      "Decision Tree\n",
      "[[67  1]\n",
      " [ 5  0]]\n",
      "0.49264705882352944\n",
      "Random Forest\n",
      "[[68  0]\n",
      " [ 5  0]]\n",
      "0.5\n"
     ]
    },
    {
     "name": "stderr",
     "output_type": "stream",
     "text": [
      "C:\\Users\\Nour Al-Hoda\\Anaconda3\\lib\\site-packages\\sklearn\\neural_network\\multilayer_perceptron.py:562: ConvergenceWarning: Stochastic Optimizer: Maximum iterations (200) reached and the optimization hasn't converged yet.\n",
      "  % self.max_iter, ConvergenceWarning)\n"
     ]
    },
    {
     "name": "stdout",
     "output_type": "stream",
     "text": [
      "Neural Net\n",
      "[[66  2]\n",
      " [ 5  0]]\n",
      "0.4852941176470588\n",
      "Naive Bayes\n",
      "[[68  0]\n",
      " [ 5  0]]\n",
      "0.5\n",
      "AdaBoost\n",
      "[[67  1]\n",
      " [ 5  0]]\n",
      "0.49264705882352944\n",
      "Gaussian Process\n",
      "[[63  5]\n",
      " [ 5  0]]\n",
      "0.4632352941176471\n",
      "=================================================================\n",
      "Results for  60  PCA components\n",
      "=================================================================\n",
      "Logistic Regression\n",
      "[[64  4]\n",
      " [ 5  0]]\n",
      "0.47058823529411764\n",
      "Nearest Neighbors\n",
      "[[68  0]\n",
      " [ 5  0]]\n",
      "0.5\n",
      "Linear SVM\n",
      "[[64  4]\n",
      " [ 5  0]]\n",
      "0.47058823529411764\n"
     ]
    },
    {
     "name": "stderr",
     "output_type": "stream",
     "text": [
      "C:\\Users\\Nour Al-Hoda\\Anaconda3\\lib\\site-packages\\sklearn\\linear_model\\logistic.py:433: FutureWarning: Default solver will be changed to 'lbfgs' in 0.22. Specify a solver to silence this warning.\n",
      "  FutureWarning)\n"
     ]
    },
    {
     "name": "stdout",
     "output_type": "stream",
     "text": [
      "Gradient Boosting Classifier\n",
      "[[67  1]\n",
      " [ 5  0]]\n",
      "0.49264705882352944\n",
      "Decision Tree\n",
      "[[66  2]\n",
      " [ 5  0]]\n",
      "0.4852941176470588\n",
      "Random Forest\n",
      "[[68  0]\n",
      " [ 5  0]]\n",
      "0.5\n"
     ]
    },
    {
     "name": "stderr",
     "output_type": "stream",
     "text": [
      "C:\\Users\\Nour Al-Hoda\\Anaconda3\\lib\\site-packages\\sklearn\\neural_network\\multilayer_perceptron.py:562: ConvergenceWarning: Stochastic Optimizer: Maximum iterations (200) reached and the optimization hasn't converged yet.\n",
      "  % self.max_iter, ConvergenceWarning)\n"
     ]
    },
    {
     "name": "stdout",
     "output_type": "stream",
     "text": [
      "Neural Net\n",
      "[[66  2]\n",
      " [ 5  0]]\n",
      "0.4852941176470588\n",
      "Naive Bayes\n",
      "[[68  0]\n",
      " [ 5  0]]\n",
      "0.5\n",
      "AdaBoost\n",
      "[[65  3]\n",
      " [ 5  0]]\n",
      "0.47794117647058826\n",
      "Gaussian Process\n",
      "[[66  2]\n",
      " [ 5  0]]\n",
      "0.4852941176470588\n",
      "=================================================================\n",
      "Results for  75  PCA components\n",
      "=================================================================\n",
      "Logistic Regression\n",
      "[[67  1]\n",
      " [ 4  1]]\n",
      "0.5926470588235294\n",
      "Nearest Neighbors\n",
      "[[68  0]\n",
      " [ 5  0]]\n",
      "0.5\n",
      "Linear SVM\n",
      "[[65  3]\n",
      " [ 4  1]]\n",
      "0.5779411764705882\n"
     ]
    },
    {
     "name": "stderr",
     "output_type": "stream",
     "text": [
      "C:\\Users\\Nour Al-Hoda\\Anaconda3\\lib\\site-packages\\sklearn\\linear_model\\logistic.py:433: FutureWarning: Default solver will be changed to 'lbfgs' in 0.22. Specify a solver to silence this warning.\n",
      "  FutureWarning)\n"
     ]
    },
    {
     "name": "stdout",
     "output_type": "stream",
     "text": [
      "Gradient Boosting Classifier\n",
      "[[68  0]\n",
      " [ 5  0]]\n",
      "0.5\n",
      "Decision Tree\n",
      "[[66  2]\n",
      " [ 4  1]]\n",
      "0.5852941176470587\n",
      "Random Forest\n",
      "[[68  0]\n",
      " [ 5  0]]\n",
      "0.5\n"
     ]
    },
    {
     "name": "stderr",
     "output_type": "stream",
     "text": [
      "C:\\Users\\Nour Al-Hoda\\Anaconda3\\lib\\site-packages\\sklearn\\neural_network\\multilayer_perceptron.py:562: ConvergenceWarning: Stochastic Optimizer: Maximum iterations (200) reached and the optimization hasn't converged yet.\n",
      "  % self.max_iter, ConvergenceWarning)\n"
     ]
    },
    {
     "name": "stdout",
     "output_type": "stream",
     "text": [
      "Neural Net\n",
      "[[67  1]\n",
      " [ 5  0]]\n",
      "0.49264705882352944\n",
      "Naive Bayes\n",
      "[[68  0]\n",
      " [ 5  0]]\n",
      "0.5\n",
      "AdaBoost\n",
      "[[68  0]\n",
      " [ 4  1]]\n",
      "0.6\n",
      "Gaussian Process\n",
      "[[65  3]\n",
      " [ 5  0]]\n",
      "0.47794117647058826\n",
      "=================================================================\n",
      "Results for  90  PCA components\n",
      "=================================================================\n",
      "Logistic Regression\n",
      "[[65  3]\n",
      " [ 5  0]]\n"
     ]
    },
    {
     "name": "stderr",
     "output_type": "stream",
     "text": [
      "C:\\Users\\Nour Al-Hoda\\Anaconda3\\lib\\site-packages\\sklearn\\linear_model\\logistic.py:433: FutureWarning: Default solver will be changed to 'lbfgs' in 0.22. Specify a solver to silence this warning.\n",
      "  FutureWarning)\n"
     ]
    },
    {
     "name": "stdout",
     "output_type": "stream",
     "text": [
      "0.47794117647058826\n",
      "Nearest Neighbors\n",
      "[[68  0]\n",
      " [ 5  0]]\n",
      "0.5\n",
      "Linear SVM\n",
      "[[65  3]\n",
      " [ 5  0]]\n",
      "0.47794117647058826\n",
      "Gradient Boosting Classifier\n",
      "[[67  1]\n",
      " [ 5  0]]\n",
      "0.49264705882352944\n",
      "Decision Tree\n",
      "[[67  1]\n",
      " [ 5  0]]\n",
      "0.49264705882352944\n",
      "Random Forest\n",
      "[[68  0]\n",
      " [ 5  0]]\n",
      "0.5\n"
     ]
    },
    {
     "name": "stderr",
     "output_type": "stream",
     "text": [
      "C:\\Users\\Nour Al-Hoda\\Anaconda3\\lib\\site-packages\\sklearn\\neural_network\\multilayer_perceptron.py:562: ConvergenceWarning: Stochastic Optimizer: Maximum iterations (200) reached and the optimization hasn't converged yet.\n",
      "  % self.max_iter, ConvergenceWarning)\n"
     ]
    },
    {
     "name": "stdout",
     "output_type": "stream",
     "text": [
      "Neural Net\n",
      "[[67  1]\n",
      " [ 5  0]]\n",
      "0.49264705882352944\n",
      "Naive Bayes\n",
      "[[68  0]\n",
      " [ 5  0]]\n",
      "0.5\n",
      "AdaBoost\n",
      "[[68  0]\n",
      " [ 5  0]]\n",
      "0.5\n",
      "Gaussian Process\n",
      "[[65  3]\n",
      " [ 5  0]]\n",
      "0.47794117647058826\n",
      "=================================================================\n",
      "Results for  105  PCA components\n",
      "=================================================================\n",
      "Logistic Regression\n",
      "[[65  3]\n",
      " [ 5  0]]\n",
      "0.47794117647058826\n",
      "Nearest Neighbors\n",
      "[[68  0]\n",
      " [ 5  0]]\n",
      "0.5\n",
      "Linear SVM\n",
      "[[65  3]\n",
      " [ 5  0]]\n",
      "0.47794117647058826\n"
     ]
    },
    {
     "name": "stderr",
     "output_type": "stream",
     "text": [
      "C:\\Users\\Nour Al-Hoda\\Anaconda3\\lib\\site-packages\\sklearn\\linear_model\\logistic.py:433: FutureWarning: Default solver will be changed to 'lbfgs' in 0.22. Specify a solver to silence this warning.\n",
      "  FutureWarning)\n"
     ]
    },
    {
     "name": "stdout",
     "output_type": "stream",
     "text": [
      "Gradient Boosting Classifier\n",
      "[[68  0]\n",
      " [ 5  0]]\n",
      "0.5\n",
      "Decision Tree\n",
      "[[63  5]\n",
      " [ 5  0]]\n",
      "0.4632352941176471\n",
      "Random Forest\n",
      "[[68  0]\n",
      " [ 5  0]]\n",
      "0.5\n"
     ]
    },
    {
     "name": "stderr",
     "output_type": "stream",
     "text": [
      "C:\\Users\\Nour Al-Hoda\\Anaconda3\\lib\\site-packages\\sklearn\\neural_network\\multilayer_perceptron.py:562: ConvergenceWarning: Stochastic Optimizer: Maximum iterations (200) reached and the optimization hasn't converged yet.\n",
      "  % self.max_iter, ConvergenceWarning)\n"
     ]
    },
    {
     "name": "stdout",
     "output_type": "stream",
     "text": [
      "Neural Net\n",
      "[[68  0]\n",
      " [ 5  0]]\n",
      "0.5\n",
      "Naive Bayes\n",
      "[[68  0]\n",
      " [ 5  0]]\n",
      "0.5\n",
      "AdaBoost\n",
      "[[68  0]\n",
      " [ 5  0]]\n",
      "0.5\n",
      "Gaussian Process\n",
      "[[64  4]\n",
      " [ 5  0]]\n",
      "0.47058823529411764\n",
      "=================================================================\n",
      "Results for  120  PCA components\n",
      "=================================================================\n",
      "Logistic Regression\n",
      "[[63  5]\n",
      " [ 5  0]]\n",
      "0.4632352941176471\n",
      "Nearest Neighbors\n",
      "[[68  0]\n",
      " [ 5  0]]\n",
      "0.5\n",
      "Linear SVM\n",
      "[[65  3]\n",
      " [ 5  0]]\n",
      "0.47794117647058826\n"
     ]
    },
    {
     "name": "stderr",
     "output_type": "stream",
     "text": [
      "C:\\Users\\Nour Al-Hoda\\Anaconda3\\lib\\site-packages\\sklearn\\linear_model\\logistic.py:433: FutureWarning: Default solver will be changed to 'lbfgs' in 0.22. Specify a solver to silence this warning.\n",
      "  FutureWarning)\n"
     ]
    },
    {
     "name": "stdout",
     "output_type": "stream",
     "text": [
      "Gradient Boosting Classifier\n",
      "[[64  4]\n",
      " [ 5  0]]\n",
      "0.47058823529411764\n",
      "Decision Tree\n",
      "[[63  5]\n",
      " [ 5  0]]\n",
      "0.4632352941176471\n",
      "Random Forest\n",
      "[[68  0]\n",
      " [ 5  0]]\n",
      "0.5\n"
     ]
    },
    {
     "name": "stderr",
     "output_type": "stream",
     "text": [
      "C:\\Users\\Nour Al-Hoda\\Anaconda3\\lib\\site-packages\\sklearn\\neural_network\\multilayer_perceptron.py:562: ConvergenceWarning: Stochastic Optimizer: Maximum iterations (200) reached and the optimization hasn't converged yet.\n",
      "  % self.max_iter, ConvergenceWarning)\n"
     ]
    },
    {
     "name": "stdout",
     "output_type": "stream",
     "text": [
      "Neural Net\n",
      "[[66  2]\n",
      " [ 5  0]]\n",
      "0.4852941176470588\n",
      "Naive Bayes\n",
      "[[67  1]\n",
      " [ 5  0]]\n",
      "0.49264705882352944\n",
      "AdaBoost\n",
      "[[67  1]\n",
      " [ 5  0]]\n",
      "0.49264705882352944\n",
      "Gaussian Process\n",
      "[[65  3]\n",
      " [ 5  0]]\n",
      "0.47794117647058826\n",
      "=================================================================\n",
      "Results for  135  PCA components\n",
      "=================================================================\n",
      "Logistic Regression\n",
      "[[61  7]\n",
      " [ 5  0]]\n",
      "0.4485294117647059\n",
      "Nearest Neighbors\n",
      "[[68  0]\n",
      " [ 5  0]]\n",
      "0.5\n",
      "Linear SVM\n",
      "[[65  3]\n",
      " [ 5  0]]\n",
      "0.47794117647058826\n"
     ]
    },
    {
     "name": "stderr",
     "output_type": "stream",
     "text": [
      "C:\\Users\\Nour Al-Hoda\\Anaconda3\\lib\\site-packages\\sklearn\\linear_model\\logistic.py:433: FutureWarning: Default solver will be changed to 'lbfgs' in 0.22. Specify a solver to silence this warning.\n",
      "  FutureWarning)\n"
     ]
    },
    {
     "name": "stdout",
     "output_type": "stream",
     "text": [
      "Gradient Boosting Classifier\n",
      "[[64  4]\n",
      " [ 5  0]]\n",
      "0.47058823529411764\n",
      "Decision Tree\n",
      "[[64  4]\n",
      " [ 5  0]]\n",
      "0.47058823529411764\n",
      "Random Forest\n",
      "[[68  0]\n",
      " [ 5  0]]\n",
      "0.5\n"
     ]
    },
    {
     "name": "stderr",
     "output_type": "stream",
     "text": [
      "C:\\Users\\Nour Al-Hoda\\Anaconda3\\lib\\site-packages\\sklearn\\neural_network\\multilayer_perceptron.py:562: ConvergenceWarning: Stochastic Optimizer: Maximum iterations (200) reached and the optimization hasn't converged yet.\n",
      "  % self.max_iter, ConvergenceWarning)\n"
     ]
    },
    {
     "name": "stdout",
     "output_type": "stream",
     "text": [
      "Neural Net\n",
      "[[67  1]\n",
      " [ 5  0]]\n",
      "0.49264705882352944\n",
      "Naive Bayes\n",
      "[[68  0]\n",
      " [ 5  0]]\n",
      "0.5\n",
      "AdaBoost\n",
      "[[68  0]\n",
      " [ 5  0]]\n",
      "0.5\n",
      "Gaussian Process\n",
      "[[65  3]\n",
      " [ 5  0]]\n",
      "0.47794117647058826\n",
      "=================================================================\n",
      "=================================================================\n",
      "Results for  Tair2\n",
      "(552, 2689)\n",
      "=================================================================\n",
      "=================================================================\n",
      "=================================================================\n",
      "Training 10 different classifiers on raw data\n",
      "=================================================================\n"
     ]
    },
    {
     "name": "stderr",
     "output_type": "stream",
     "text": [
      "C:\\Users\\Nour Al-Hoda\\Anaconda3\\lib\\site-packages\\sklearn\\linear_model\\logistic.py:433: FutureWarning: Default solver will be changed to 'lbfgs' in 0.22. Specify a solver to silence this warning.\n",
      "  FutureWarning)\n"
     ]
    },
    {
     "name": "stdout",
     "output_type": "stream",
     "text": [
      "Logistic Regression\n",
      "[[170   3]\n",
      " [  5   5]]\n",
      "0.741329479768786\n",
      "Nearest Neighbors\n",
      "[[171   2]\n",
      " [  3   7]]\n",
      "0.8442196531791907\n",
      "Linear SVM\n",
      "[[168   5]\n",
      " [  3   7]]\n",
      "0.8355491329479768\n",
      "Gradient Boosting Classifier\n",
      "[[169   4]\n",
      " [  7   3]]\n",
      "0.6384393063583815\n",
      "Decision Tree\n",
      "[[169   4]\n",
      " [  8   2]]\n",
      "0.5884393063583815\n",
      "Random Forest\n",
      "[[169   4]\n",
      " [  5   5]]\n",
      "0.7384393063583816\n",
      "Neural Net\n",
      "[[173   0]\n",
      " [ 10   0]]\n",
      "0.5\n",
      "Naive Bayes\n",
      "[[170   3]\n",
      " [  6   4]]\n",
      "0.6913294797687861\n",
      "AdaBoost\n",
      "[[173   0]\n",
      " [  7   3]]\n",
      "0.65\n",
      "Gaussian Process\n",
      "[[173   0]\n",
      " [ 10   0]]\n",
      "0.5\n",
      "(552, 2689)\n",
      "=================================================================\n",
      "Training 10 different classifiers on data after applying CAR filter\n",
      "=================================================================\n"
     ]
    },
    {
     "name": "stderr",
     "output_type": "stream",
     "text": [
      "C:\\Users\\Nour Al-Hoda\\Anaconda3\\lib\\site-packages\\sklearn\\linear_model\\logistic.py:433: FutureWarning: Default solver will be changed to 'lbfgs' in 0.22. Specify a solver to silence this warning.\n",
      "  FutureWarning)\n",
      "C:\\Users\\Nour Al-Hoda\\Anaconda3\\lib\\site-packages\\sklearn\\svm\\base.py:922: ConvergenceWarning: Liblinear failed to converge, increase the number of iterations.\n",
      "  \"the number of iterations.\", ConvergenceWarning)\n"
     ]
    },
    {
     "name": "stdout",
     "output_type": "stream",
     "text": [
      "Logistic Regression\n",
      "[[153  20]\n",
      " [  3   7]]\n",
      "0.7921965317919076\n",
      "Nearest Neighbors\n",
      "[[171   2]\n",
      " [  3   7]]\n",
      "0.8442196531791907\n",
      "Linear SVM\n",
      "[[168   5]\n",
      " [  3   7]]\n",
      "0.8355491329479768\n",
      "Gradient Boosting Classifier\n",
      "[[169   4]\n",
      " [  7   3]]\n",
      "0.6384393063583815\n",
      "Decision Tree\n",
      "[[169   4]\n",
      " [  8   2]]\n",
      "0.5884393063583815\n",
      "Random Forest\n",
      "[[168   5]\n",
      " [  5   5]]\n",
      "0.7355491329479769\n"
     ]
    },
    {
     "name": "stderr",
     "output_type": "stream",
     "text": [
      "C:\\Users\\Nour Al-Hoda\\Anaconda3\\lib\\site-packages\\sklearn\\neural_network\\multilayer_perceptron.py:562: ConvergenceWarning: Stochastic Optimizer: Maximum iterations (200) reached and the optimization hasn't converged yet.\n",
      "  % self.max_iter, ConvergenceWarning)\n"
     ]
    },
    {
     "name": "stdout",
     "output_type": "stream",
     "text": [
      "Neural Net\n",
      "[[168   5]\n",
      " [  3   7]]\n",
      "0.8355491329479768\n",
      "Naive Bayes\n",
      "[[170   3]\n",
      " [  6   4]]\n",
      "0.6913294797687861\n",
      "AdaBoost\n",
      "[[173   0]\n",
      " [  7   3]]\n",
      "0.65\n",
      "Gaussian Process\n",
      "[[173   0]\n",
      " [ 10   0]]\n",
      "0.5\n",
      "=================================================================\n",
      "Training 10 different classifiers, and different PCA components without CAR filter\n",
      "=================================================================\n",
      "=================================================================\n",
      "Results for  15  PCA components\n",
      "=================================================================\n",
      "Logistic Regression\n",
      "[[170   3]\n",
      " [  5   5]]\n",
      "0.741329479768786\n",
      "Nearest Neighbors\n",
      "[[171   2]\n",
      " [  4   6]]\n",
      "0.7942196531791909\n",
      "Linear SVM\n",
      "[[170   3]\n",
      " [  6   4]]\n",
      "0.6913294797687861\n"
     ]
    },
    {
     "name": "stderr",
     "output_type": "stream",
     "text": [
      "C:\\Users\\Nour Al-Hoda\\Anaconda3\\lib\\site-packages\\sklearn\\linear_model\\logistic.py:433: FutureWarning: Default solver will be changed to 'lbfgs' in 0.22. Specify a solver to silence this warning.\n",
      "  FutureWarning)\n"
     ]
    },
    {
     "name": "stdout",
     "output_type": "stream",
     "text": [
      "Gradient Boosting Classifier\n",
      "[[172   1]\n",
      " [  5   5]]\n",
      "0.7471098265895952\n",
      "Decision Tree\n",
      "[[167   6]\n",
      " [  5   5]]\n",
      "0.7326589595375722\n",
      "Random Forest\n",
      "[[173   0]\n",
      " [  5   5]]\n",
      "0.75\n"
     ]
    },
    {
     "name": "stderr",
     "output_type": "stream",
     "text": [
      "C:\\Users\\Nour Al-Hoda\\Anaconda3\\lib\\site-packages\\sklearn\\neural_network\\multilayer_perceptron.py:562: ConvergenceWarning: Stochastic Optimizer: Maximum iterations (200) reached and the optimization hasn't converged yet.\n",
      "  % self.max_iter, ConvergenceWarning)\n"
     ]
    },
    {
     "name": "stdout",
     "output_type": "stream",
     "text": [
      "Neural Net\n",
      "[[172   1]\n",
      " [  4   6]]\n",
      "0.7971098265895954\n",
      "Naive Bayes\n",
      "[[164   9]\n",
      " [  6   4]]\n",
      "0.6739884393063583\n",
      "AdaBoost\n",
      "[[170   3]\n",
      " [  5   5]]\n",
      "0.741329479768786\n",
      "Gaussian Process\n",
      "[[172   1]\n",
      " [  6   4]]\n",
      "0.6971098265895953\n",
      "=================================================================\n",
      "Results for  30  PCA components\n",
      "=================================================================\n",
      "Logistic Regression\n",
      "[[170   3]\n",
      " [  5   5]]\n"
     ]
    },
    {
     "name": "stderr",
     "output_type": "stream",
     "text": [
      "C:\\Users\\Nour Al-Hoda\\Anaconda3\\lib\\site-packages\\sklearn\\linear_model\\logistic.py:433: FutureWarning: Default solver will be changed to 'lbfgs' in 0.22. Specify a solver to silence this warning.\n",
      "  FutureWarning)\n"
     ]
    },
    {
     "name": "stdout",
     "output_type": "stream",
     "text": [
      "0.741329479768786\n",
      "Nearest Neighbors\n",
      "[[171   2]\n",
      " [  3   7]]\n",
      "0.8442196531791907\n",
      "Linear SVM\n",
      "[[171   2]\n",
      " [  5   5]]\n",
      "0.7442196531791908\n",
      "Gradient Boosting Classifier\n",
      "[[172   1]\n",
      " [  5   5]]\n",
      "0.7471098265895952\n",
      "Decision Tree\n",
      "[[170   3]\n",
      " [  5   5]]\n",
      "0.741329479768786\n",
      "Random Forest\n",
      "[[173   0]\n",
      " [  6   4]]\n",
      "0.7\n"
     ]
    },
    {
     "name": "stderr",
     "output_type": "stream",
     "text": [
      "C:\\Users\\Nour Al-Hoda\\Anaconda3\\lib\\site-packages\\sklearn\\neural_network\\multilayer_perceptron.py:562: ConvergenceWarning: Stochastic Optimizer: Maximum iterations (200) reached and the optimization hasn't converged yet.\n",
      "  % self.max_iter, ConvergenceWarning)\n"
     ]
    },
    {
     "name": "stdout",
     "output_type": "stream",
     "text": [
      "Neural Net\n",
      "[[172   1]\n",
      " [  3   7]]\n",
      "0.8471098265895953\n",
      "Naive Bayes\n",
      "[[161  12]\n",
      " [  7   3]]\n",
      "0.6153179190751445\n",
      "AdaBoost\n",
      "[[170   3]\n",
      " [  4   6]]\n",
      "0.7913294797687862\n",
      "Gaussian Process\n",
      "[[172   1]\n",
      " [  5   5]]\n",
      "0.7471098265895952\n",
      "=================================================================\n",
      "Results for  45  PCA components\n",
      "=================================================================\n",
      "Logistic Regression\n",
      "[[170   3]\n",
      " [  5   5]]\n",
      "0.741329479768786\n",
      "Nearest Neighbors\n",
      "[[172   1]\n",
      " [  3   7]]\n",
      "0.8471098265895953\n",
      "Linear SVM\n",
      "[[172   1]\n",
      " [  5   5]]\n",
      "0.7471098265895952\n"
     ]
    },
    {
     "name": "stderr",
     "output_type": "stream",
     "text": [
      "C:\\Users\\Nour Al-Hoda\\Anaconda3\\lib\\site-packages\\sklearn\\linear_model\\logistic.py:433: FutureWarning: Default solver will be changed to 'lbfgs' in 0.22. Specify a solver to silence this warning.\n",
      "  FutureWarning)\n"
     ]
    },
    {
     "name": "stdout",
     "output_type": "stream",
     "text": [
      "Gradient Boosting Classifier\n",
      "[[172   1]\n",
      " [  5   5]]\n",
      "0.7471098265895952\n",
      "Decision Tree\n",
      "[[167   6]\n",
      " [  5   5]]\n",
      "0.7326589595375722\n",
      "Random Forest\n",
      "[[173   0]\n",
      " [  6   4]]\n",
      "0.7\n"
     ]
    },
    {
     "name": "stderr",
     "output_type": "stream",
     "text": [
      "C:\\Users\\Nour Al-Hoda\\Anaconda3\\lib\\site-packages\\sklearn\\neural_network\\multilayer_perceptron.py:562: ConvergenceWarning: Stochastic Optimizer: Maximum iterations (200) reached and the optimization hasn't converged yet.\n",
      "  % self.max_iter, ConvergenceWarning)\n"
     ]
    },
    {
     "name": "stdout",
     "output_type": "stream",
     "text": [
      "Neural Net\n",
      "[[173   0]\n",
      " [  3   7]]\n",
      "0.85\n",
      "Naive Bayes\n",
      "[[161  12]\n",
      " [  6   4]]\n",
      "0.6653179190751445\n",
      "AdaBoost\n",
      "[[172   1]\n",
      " [  3   7]]\n",
      "0.8471098265895953\n",
      "Gaussian Process\n",
      "[[173   0]\n",
      " [  5   5]]\n",
      "0.75\n",
      "=================================================================\n",
      "Results for  60  PCA components\n",
      "=================================================================\n",
      "Logistic Regression\n",
      "[[169   4]\n",
      " [  4   6]]\n",
      "0.7884393063583816\n",
      "Nearest Neighbors\n",
      "[[172   1]\n",
      " [  3   7]]\n",
      "0.8471098265895953\n",
      "Linear SVM\n",
      "[[171   2]\n",
      " [  5   5]]\n",
      "0.7442196531791908\n"
     ]
    },
    {
     "name": "stderr",
     "output_type": "stream",
     "text": [
      "C:\\Users\\Nour Al-Hoda\\Anaconda3\\lib\\site-packages\\sklearn\\linear_model\\logistic.py:433: FutureWarning: Default solver will be changed to 'lbfgs' in 0.22. Specify a solver to silence this warning.\n",
      "  FutureWarning)\n"
     ]
    },
    {
     "name": "stdout",
     "output_type": "stream",
     "text": [
      "Gradient Boosting Classifier\n",
      "[[171   2]\n",
      " [  5   5]]\n",
      "0.7442196531791908\n",
      "Decision Tree\n",
      "[[168   5]\n",
      " [  5   5]]\n",
      "0.7355491329479769\n",
      "Random Forest\n",
      "[[171   2]\n",
      " [  7   3]]\n",
      "0.6442196531791907\n"
     ]
    },
    {
     "name": "stderr",
     "output_type": "stream",
     "text": [
      "C:\\Users\\Nour Al-Hoda\\Anaconda3\\lib\\site-packages\\sklearn\\neural_network\\multilayer_perceptron.py:562: ConvergenceWarning: Stochastic Optimizer: Maximum iterations (200) reached and the optimization hasn't converged yet.\n",
      "  % self.max_iter, ConvergenceWarning)\n"
     ]
    },
    {
     "name": "stdout",
     "output_type": "stream",
     "text": [
      "Neural Net\n",
      "[[172   1]\n",
      " [  3   7]]\n",
      "0.8471098265895953\n",
      "Naive Bayes\n",
      "[[160  13]\n",
      " [  6   4]]\n",
      "0.6624277456647398\n",
      "AdaBoost\n",
      "[[172   1]\n",
      " [  3   7]]\n",
      "0.8471098265895953\n",
      "Gaussian Process\n",
      "[[173   0]\n",
      " [  5   5]]\n",
      "0.75\n",
      "=================================================================\n",
      "Results for  75  PCA components\n",
      "=================================================================\n",
      "Logistic Regression\n",
      "[[169   4]\n",
      " [  3   7]]\n",
      "0.8384393063583816\n",
      "Nearest Neighbors\n",
      "[[172   1]\n",
      " [  3   7]]\n",
      "0.8471098265895953\n",
      "Linear SVM\n",
      "[[170   3]\n",
      " [  5   5]]\n",
      "0.741329479768786\n"
     ]
    },
    {
     "name": "stderr",
     "output_type": "stream",
     "text": [
      "C:\\Users\\Nour Al-Hoda\\Anaconda3\\lib\\site-packages\\sklearn\\linear_model\\logistic.py:433: FutureWarning: Default solver will be changed to 'lbfgs' in 0.22. Specify a solver to silence this warning.\n",
      "  FutureWarning)\n"
     ]
    },
    {
     "name": "stdout",
     "output_type": "stream",
     "text": [
      "Gradient Boosting Classifier\n",
      "[[165   8]\n",
      " [  6   4]]\n",
      "0.676878612716763\n",
      "Decision Tree\n",
      "[[161  12]\n",
      " [  6   4]]\n",
      "0.6653179190751445\n",
      "Random Forest\n",
      "[[168   5]\n",
      " [  7   3]]\n",
      "0.6355491329479769\n"
     ]
    },
    {
     "name": "stderr",
     "output_type": "stream",
     "text": [
      "C:\\Users\\Nour Al-Hoda\\Anaconda3\\lib\\site-packages\\sklearn\\neural_network\\multilayer_perceptron.py:562: ConvergenceWarning: Stochastic Optimizer: Maximum iterations (200) reached and the optimization hasn't converged yet.\n",
      "  % self.max_iter, ConvergenceWarning)\n"
     ]
    },
    {
     "name": "stdout",
     "output_type": "stream",
     "text": [
      "Neural Net\n",
      "[[172   1]\n",
      " [  3   7]]\n",
      "0.8471098265895953\n",
      "Naive Bayes\n",
      "[[157  16]\n",
      " [  6   4]]\n",
      "0.653757225433526\n",
      "AdaBoost\n",
      "[[171   2]\n",
      " [  3   7]]\n",
      "0.8442196531791907\n",
      "Gaussian Process\n",
      "[[173   0]\n",
      " [  5   5]]\n",
      "0.75\n",
      "=================================================================\n",
      "Results for  90  PCA components\n",
      "=================================================================\n",
      "Logistic Regression\n",
      "[[168   5]\n",
      " [  3   7]]\n",
      "0.8355491329479768\n",
      "Nearest Neighbors\n",
      "[[172   1]\n",
      " [  4   6]]\n",
      "0.7971098265895954\n",
      "Linear SVM\n",
      "[[168   5]\n",
      " [  5   5]]\n",
      "0.7355491329479769\n"
     ]
    },
    {
     "name": "stderr",
     "output_type": "stream",
     "text": [
      "C:\\Users\\Nour Al-Hoda\\Anaconda3\\lib\\site-packages\\sklearn\\linear_model\\logistic.py:433: FutureWarning: Default solver will be changed to 'lbfgs' in 0.22. Specify a solver to silence this warning.\n",
      "  FutureWarning)\n"
     ]
    },
    {
     "name": "stdout",
     "output_type": "stream",
     "text": [
      "Gradient Boosting Classifier\n",
      "[[163  10]\n",
      " [  7   3]]\n",
      "0.6210982658959537\n",
      "Decision Tree\n",
      "[[162  11]\n",
      " [  6   4]]\n",
      "0.6682080924855491\n",
      "Random Forest\n",
      "[[168   5]\n",
      " [  7   3]]\n",
      "0.6355491329479769\n"
     ]
    },
    {
     "name": "stderr",
     "output_type": "stream",
     "text": [
      "C:\\Users\\Nour Al-Hoda\\Anaconda3\\lib\\site-packages\\sklearn\\neural_network\\multilayer_perceptron.py:562: ConvergenceWarning: Stochastic Optimizer: Maximum iterations (200) reached and the optimization hasn't converged yet.\n",
      "  % self.max_iter, ConvergenceWarning)\n"
     ]
    },
    {
     "name": "stdout",
     "output_type": "stream",
     "text": [
      "Neural Net\n",
      "[[172   1]\n",
      " [  3   7]]\n",
      "0.8471098265895953\n",
      "Naive Bayes\n",
      "[[155  18]\n",
      " [  6   4]]\n",
      "0.6479768786127167\n",
      "AdaBoost\n",
      "[[170   3]\n",
      " [  4   6]]\n",
      "0.7913294797687862\n",
      "Gaussian Process\n",
      "[[173   0]\n",
      " [  5   5]]\n",
      "0.75\n",
      "=================================================================\n",
      "Results for  105  PCA components\n",
      "=================================================================\n",
      "Logistic Regression\n",
      "[[170   3]\n",
      " [  3   7]]\n",
      "0.841329479768786\n",
      "Nearest Neighbors\n",
      "[[172   1]\n",
      " [  4   6]]\n",
      "0.7971098265895954\n",
      "Linear SVM\n",
      "[[170   3]\n",
      " [  5   5]]\n",
      "0.741329479768786\n"
     ]
    },
    {
     "name": "stderr",
     "output_type": "stream",
     "text": [
      "C:\\Users\\Nour Al-Hoda\\Anaconda3\\lib\\site-packages\\sklearn\\linear_model\\logistic.py:433: FutureWarning: Default solver will be changed to 'lbfgs' in 0.22. Specify a solver to silence this warning.\n",
      "  FutureWarning)\n"
     ]
    },
    {
     "name": "stdout",
     "output_type": "stream",
     "text": [
      "Gradient Boosting Classifier\n",
      "[[160  13]\n",
      " [  6   4]]\n",
      "0.6624277456647398\n",
      "Decision Tree\n",
      "[[163  10]\n",
      " [  4   6]]\n",
      "0.7710982658959539\n",
      "Random Forest\n",
      "[[167   6]\n",
      " [  7   3]]\n",
      "0.6326589595375723\n"
     ]
    },
    {
     "name": "stderr",
     "output_type": "stream",
     "text": [
      "C:\\Users\\Nour Al-Hoda\\Anaconda3\\lib\\site-packages\\sklearn\\neural_network\\multilayer_perceptron.py:562: ConvergenceWarning: Stochastic Optimizer: Maximum iterations (200) reached and the optimization hasn't converged yet.\n",
      "  % self.max_iter, ConvergenceWarning)\n"
     ]
    },
    {
     "name": "stdout",
     "output_type": "stream",
     "text": [
      "Neural Net\n",
      "[[172   1]\n",
      " [  3   7]]\n",
      "0.8471098265895953\n",
      "Naive Bayes\n",
      "[[154  19]\n",
      " [  6   4]]\n",
      "0.6450867052023121\n",
      "AdaBoost\n",
      "[[170   3]\n",
      " [  5   5]]\n",
      "0.741329479768786\n",
      "Gaussian Process\n",
      "[[173   0]\n",
      " [  5   5]]\n",
      "0.75\n",
      "=================================================================\n",
      "Results for  120  PCA components\n",
      "=================================================================\n",
      "Logistic Regression\n",
      "[[170   3]\n",
      " [  4   6]]\n",
      "0.7913294797687862\n",
      "Nearest Neighbors\n",
      "[[173   0]\n",
      " [  4   6]]\n",
      "0.8\n",
      "Linear SVM\n",
      "[[170   3]\n",
      " [  5   5]]\n",
      "0.741329479768786\n"
     ]
    },
    {
     "name": "stderr",
     "output_type": "stream",
     "text": [
      "C:\\Users\\Nour Al-Hoda\\Anaconda3\\lib\\site-packages\\sklearn\\linear_model\\logistic.py:433: FutureWarning: Default solver will be changed to 'lbfgs' in 0.22. Specify a solver to silence this warning.\n",
      "  FutureWarning)\n"
     ]
    },
    {
     "name": "stdout",
     "output_type": "stream",
     "text": [
      "Gradient Boosting Classifier\n",
      "[[159  14]\n",
      " [  4   6]]\n",
      "0.7595375722543354\n",
      "Decision Tree\n",
      "[[157  16]\n",
      " [  4   6]]\n",
      "0.7537572254335261\n",
      "Random Forest\n",
      "[[165   8]\n",
      " [  7   3]]\n",
      "0.626878612716763\n"
     ]
    },
    {
     "name": "stderr",
     "output_type": "stream",
     "text": [
      "C:\\Users\\Nour Al-Hoda\\Anaconda3\\lib\\site-packages\\sklearn\\neural_network\\multilayer_perceptron.py:562: ConvergenceWarning: Stochastic Optimizer: Maximum iterations (200) reached and the optimization hasn't converged yet.\n",
      "  % self.max_iter, ConvergenceWarning)\n"
     ]
    },
    {
     "name": "stdout",
     "output_type": "stream",
     "text": [
      "Neural Net\n",
      "[[173   0]\n",
      " [  3   7]]\n",
      "0.85\n",
      "Naive Bayes\n",
      "[[153  20]\n",
      " [  6   4]]\n",
      "0.6421965317919075\n",
      "AdaBoost\n",
      "[[172   1]\n",
      " [  4   6]]\n",
      "0.7971098265895954\n",
      "Gaussian Process\n",
      "[[173   0]\n",
      " [  6   4]]\n",
      "0.7\n",
      "=================================================================\n",
      "Results for  135  PCA components\n",
      "=================================================================\n",
      "Logistic Regression\n",
      "[[170   3]\n",
      " [  4   6]]\n",
      "0.7913294797687862\n",
      "Nearest Neighbors\n",
      "[[172   1]\n",
      " [  4   6]]\n",
      "0.7971098265895954\n",
      "Linear SVM\n",
      "[[169   4]\n",
      " [  5   5]]\n",
      "0.7384393063583816\n"
     ]
    },
    {
     "name": "stderr",
     "output_type": "stream",
     "text": [
      "C:\\Users\\Nour Al-Hoda\\Anaconda3\\lib\\site-packages\\sklearn\\linear_model\\logistic.py:433: FutureWarning: Default solver will be changed to 'lbfgs' in 0.22. Specify a solver to silence this warning.\n",
      "  FutureWarning)\n"
     ]
    },
    {
     "name": "stdout",
     "output_type": "stream",
     "text": [
      "Gradient Boosting Classifier\n",
      "[[157  16]\n",
      " [  4   6]]\n",
      "0.7537572254335261\n",
      "Decision Tree\n",
      "[[158  15]\n",
      " [  4   6]]\n",
      "0.7566473988439307\n",
      "Random Forest\n",
      "[[162  11]\n",
      " [  7   3]]\n",
      "0.6182080924855492\n"
     ]
    },
    {
     "name": "stderr",
     "output_type": "stream",
     "text": [
      "C:\\Users\\Nour Al-Hoda\\Anaconda3\\lib\\site-packages\\sklearn\\neural_network\\multilayer_perceptron.py:562: ConvergenceWarning: Stochastic Optimizer: Maximum iterations (200) reached and the optimization hasn't converged yet.\n",
      "  % self.max_iter, ConvergenceWarning)\n"
     ]
    },
    {
     "name": "stdout",
     "output_type": "stream",
     "text": [
      "Neural Net\n",
      "[[172   1]\n",
      " [  3   7]]\n",
      "0.8471098265895953\n",
      "Naive Bayes\n",
      "[[153  20]\n",
      " [  6   4]]\n",
      "0.6421965317919075\n",
      "AdaBoost\n",
      "[[170   3]\n",
      " [  3   7]]\n",
      "0.841329479768786\n",
      "Gaussian Process\n",
      "[[173   0]\n",
      " [  6   4]]\n",
      "0.7\n",
      "=================================================================\n",
      "Results for  150  PCA components\n",
      "=================================================================\n",
      "Logistic Regression\n",
      "[[170   3]\n",
      " [  4   6]]\n",
      "0.7913294797687862\n",
      "Nearest Neighbors\n",
      "[[173   0]\n",
      " [  4   6]]\n",
      "0.8\n",
      "Linear SVM\n",
      "[[169   4]\n",
      " [  5   5]]\n",
      "0.7384393063583816\n"
     ]
    },
    {
     "name": "stderr",
     "output_type": "stream",
     "text": [
      "C:\\Users\\Nour Al-Hoda\\Anaconda3\\lib\\site-packages\\sklearn\\linear_model\\logistic.py:433: FutureWarning: Default solver will be changed to 'lbfgs' in 0.22. Specify a solver to silence this warning.\n",
      "  FutureWarning)\n"
     ]
    },
    {
     "name": "stdout",
     "output_type": "stream",
     "text": [
      "Gradient Boosting Classifier\n",
      "[[162  11]\n",
      " [  6   4]]\n",
      "0.6682080924855491\n",
      "Decision Tree\n",
      "[[161  12]\n",
      " [  4   6]]\n",
      "0.7653179190751446\n",
      "Random Forest\n",
      "[[165   8]\n",
      " [  7   3]]\n",
      "0.626878612716763\n"
     ]
    },
    {
     "name": "stderr",
     "output_type": "stream",
     "text": [
      "C:\\Users\\Nour Al-Hoda\\Anaconda3\\lib\\site-packages\\sklearn\\neural_network\\multilayer_perceptron.py:562: ConvergenceWarning: Stochastic Optimizer: Maximum iterations (200) reached and the optimization hasn't converged yet.\n",
      "  % self.max_iter, ConvergenceWarning)\n"
     ]
    },
    {
     "name": "stdout",
     "output_type": "stream",
     "text": [
      "Neural Net\n",
      "[[173   0]\n",
      " [  3   7]]\n",
      "0.85\n",
      "Naive Bayes\n",
      "[[160  13]\n",
      " [  6   4]]\n",
      "0.6624277456647398\n",
      "AdaBoost\n",
      "[[173   0]\n",
      " [  4   6]]\n",
      "0.8\n",
      "Gaussian Process\n",
      "[[173   0]\n",
      " [  6   4]]\n",
      "0.7\n",
      "=================================================================\n",
      "Results for  165  PCA components\n",
      "=================================================================\n",
      "Logistic Regression\n",
      "[[170   3]\n",
      " [  4   6]]\n",
      "0.7913294797687862\n",
      "Nearest Neighbors\n",
      "[[173   0]\n",
      " [  4   6]]\n",
      "0.8\n",
      "Linear SVM\n",
      "[[169   4]\n",
      " [  5   5]]\n",
      "0.7384393063583816\n"
     ]
    },
    {
     "name": "stderr",
     "output_type": "stream",
     "text": [
      "C:\\Users\\Nour Al-Hoda\\Anaconda3\\lib\\site-packages\\sklearn\\linear_model\\logistic.py:433: FutureWarning: Default solver will be changed to 'lbfgs' in 0.22. Specify a solver to silence this warning.\n",
      "  FutureWarning)\n"
     ]
    },
    {
     "name": "stdout",
     "output_type": "stream",
     "text": [
      "Gradient Boosting Classifier\n",
      "[[162  11]\n",
      " [  4   6]]\n",
      "0.7682080924855492\n",
      "Decision Tree\n",
      "[[161  12]\n",
      " [  4   6]]\n",
      "0.7653179190751446\n",
      "Random Forest\n",
      "[[165   8]\n",
      " [  7   3]]\n",
      "0.626878612716763\n"
     ]
    },
    {
     "name": "stderr",
     "output_type": "stream",
     "text": [
      "C:\\Users\\Nour Al-Hoda\\Anaconda3\\lib\\site-packages\\sklearn\\neural_network\\multilayer_perceptron.py:562: ConvergenceWarning: Stochastic Optimizer: Maximum iterations (200) reached and the optimization hasn't converged yet.\n",
      "  % self.max_iter, ConvergenceWarning)\n"
     ]
    },
    {
     "name": "stdout",
     "output_type": "stream",
     "text": [
      "Neural Net\n",
      "[[172   1]\n",
      " [  3   7]]\n",
      "0.8471098265895953\n",
      "Naive Bayes\n",
      "[[162  11]\n",
      " [  7   3]]\n",
      "0.6182080924855492\n",
      "AdaBoost\n",
      "[[172   1]\n",
      " [  4   6]]\n",
      "0.7971098265895954\n",
      "Gaussian Process\n",
      "[[173   0]\n",
      " [  6   4]]\n",
      "0.7\n",
      "=================================================================\n",
      "Results for  180  PCA components\n",
      "=================================================================\n",
      "Logistic Regression\n",
      "[[170   3]\n",
      " [  4   6]]\n",
      "0.7913294797687862\n",
      "Nearest Neighbors\n",
      "[[173   0]\n",
      " [  4   6]]\n",
      "0.8\n",
      "Linear SVM\n",
      "[[169   4]\n",
      " [  5   5]]\n",
      "0.7384393063583816\n"
     ]
    },
    {
     "name": "stderr",
     "output_type": "stream",
     "text": [
      "C:\\Users\\Nour Al-Hoda\\Anaconda3\\lib\\site-packages\\sklearn\\linear_model\\logistic.py:433: FutureWarning: Default solver will be changed to 'lbfgs' in 0.22. Specify a solver to silence this warning.\n",
      "  FutureWarning)\n"
     ]
    },
    {
     "name": "stdout",
     "output_type": "stream",
     "text": [
      "Gradient Boosting Classifier\n",
      "[[162  11]\n",
      " [  4   6]]\n",
      "0.7682080924855492\n",
      "Decision Tree\n",
      "[[160  13]\n",
      " [  4   6]]\n",
      "0.7624277456647399\n",
      "Random Forest\n",
      "[[163  10]\n",
      " [  7   3]]\n",
      "0.6210982658959537\n"
     ]
    },
    {
     "name": "stderr",
     "output_type": "stream",
     "text": [
      "C:\\Users\\Nour Al-Hoda\\Anaconda3\\lib\\site-packages\\sklearn\\neural_network\\multilayer_perceptron.py:562: ConvergenceWarning: Stochastic Optimizer: Maximum iterations (200) reached and the optimization hasn't converged yet.\n",
      "  % self.max_iter, ConvergenceWarning)\n"
     ]
    },
    {
     "name": "stdout",
     "output_type": "stream",
     "text": [
      "Neural Net\n",
      "[[172   1]\n",
      " [  3   7]]\n",
      "0.8471098265895953\n",
      "Naive Bayes\n",
      "[[170   3]\n",
      " [ 10   0]]\n",
      "0.4913294797687861\n",
      "AdaBoost\n",
      "[[172   1]\n",
      " [  3   7]]\n",
      "0.8471098265895953\n",
      "Gaussian Process\n",
      "[[173   0]\n",
      " [  6   4]]\n",
      "0.7\n",
      "=================================================================\n",
      "Results for  195  PCA components\n",
      "=================================================================\n",
      "Logistic Regression\n",
      "[[170   3]\n",
      " [  4   6]]\n",
      "0.7913294797687862\n",
      "Nearest Neighbors\n",
      "[[173   0]\n",
      " [  4   6]]\n",
      "0.8\n",
      "Linear SVM\n",
      "[[169   4]\n",
      " [  5   5]]\n",
      "0.7384393063583816\n"
     ]
    },
    {
     "name": "stderr",
     "output_type": "stream",
     "text": [
      "C:\\Users\\Nour Al-Hoda\\Anaconda3\\lib\\site-packages\\sklearn\\linear_model\\logistic.py:433: FutureWarning: Default solver will be changed to 'lbfgs' in 0.22. Specify a solver to silence this warning.\n",
      "  FutureWarning)\n"
     ]
    },
    {
     "name": "stdout",
     "output_type": "stream",
     "text": [
      "Gradient Boosting Classifier\n",
      "[[160  13]\n",
      " [  4   6]]\n",
      "0.7624277456647399\n",
      "Decision Tree\n",
      "[[164   9]\n",
      " [  4   6]]\n",
      "0.7739884393063584\n",
      "Random Forest\n",
      "[[166   7]\n",
      " [  7   3]]\n",
      "0.6297687861271676\n"
     ]
    },
    {
     "name": "stderr",
     "output_type": "stream",
     "text": [
      "C:\\Users\\Nour Al-Hoda\\Anaconda3\\lib\\site-packages\\sklearn\\neural_network\\multilayer_perceptron.py:562: ConvergenceWarning: Stochastic Optimizer: Maximum iterations (200) reached and the optimization hasn't converged yet.\n",
      "  % self.max_iter, ConvergenceWarning)\n"
     ]
    },
    {
     "name": "stdout",
     "output_type": "stream",
     "text": [
      "Neural Net\n",
      "[[173   0]\n",
      " [  3   7]]\n",
      "0.85\n",
      "Naive Bayes\n",
      "[[172   1]\n",
      " [ 10   0]]\n",
      "0.49710982658959535\n",
      "AdaBoost\n",
      "[[170   3]\n",
      " [  5   5]]\n",
      "0.741329479768786\n",
      "Gaussian Process\n",
      "[[173   0]\n",
      " [  6   4]]\n",
      "0.7\n",
      "=================================================================\n",
      "Results for  210  PCA components\n",
      "=================================================================\n",
      "Logistic Regression\n",
      "[[170   3]\n",
      " [  4   6]]\n",
      "0.7913294797687862\n",
      "Nearest Neighbors\n",
      "[[173   0]\n",
      " [  4   6]]\n",
      "0.8\n",
      "Linear SVM\n",
      "[[169   4]\n",
      " [  5   5]]\n",
      "0.7384393063583816\n"
     ]
    },
    {
     "name": "stderr",
     "output_type": "stream",
     "text": [
      "C:\\Users\\Nour Al-Hoda\\Anaconda3\\lib\\site-packages\\sklearn\\linear_model\\logistic.py:433: FutureWarning: Default solver will be changed to 'lbfgs' in 0.22. Specify a solver to silence this warning.\n",
      "  FutureWarning)\n"
     ]
    },
    {
     "name": "stdout",
     "output_type": "stream",
     "text": [
      "Gradient Boosting Classifier\n",
      "[[160  13]\n",
      " [  4   6]]\n",
      "0.7624277456647399\n",
      "Decision Tree\n",
      "[[160  13]\n",
      " [  4   6]]\n",
      "0.7624277456647399\n",
      "Random Forest\n",
      "[[164   9]\n",
      " [  7   3]]\n",
      "0.6239884393063584\n"
     ]
    },
    {
     "name": "stderr",
     "output_type": "stream",
     "text": [
      "C:\\Users\\Nour Al-Hoda\\Anaconda3\\lib\\site-packages\\sklearn\\neural_network\\multilayer_perceptron.py:562: ConvergenceWarning: Stochastic Optimizer: Maximum iterations (200) reached and the optimization hasn't converged yet.\n",
      "  % self.max_iter, ConvergenceWarning)\n"
     ]
    },
    {
     "name": "stdout",
     "output_type": "stream",
     "text": [
      "Neural Net\n",
      "[[172   1]\n",
      " [  3   7]]\n",
      "0.8471098265895953\n",
      "Naive Bayes\n",
      "[[172   1]\n",
      " [ 10   0]]\n",
      "0.49710982658959535\n",
      "AdaBoost\n",
      "[[170   3]\n",
      " [  4   6]]\n",
      "0.7913294797687862\n",
      "Gaussian Process\n",
      "[[173   0]\n",
      " [  6   4]]\n",
      "0.7\n",
      "=================================================================\n",
      "Results for  225  PCA components\n",
      "=================================================================\n",
      "Logistic Regression\n",
      "[[170   3]\n",
      " [  4   6]]\n",
      "0.7913294797687862\n",
      "Nearest Neighbors\n",
      "[[173   0]\n",
      " [  4   6]]\n",
      "0.8\n",
      "Linear SVM\n",
      "[[169   4]\n",
      " [  5   5]]\n",
      "0.7384393063583816\n"
     ]
    },
    {
     "name": "stderr",
     "output_type": "stream",
     "text": [
      "C:\\Users\\Nour Al-Hoda\\Anaconda3\\lib\\site-packages\\sklearn\\linear_model\\logistic.py:433: FutureWarning: Default solver will be changed to 'lbfgs' in 0.22. Specify a solver to silence this warning.\n",
      "  FutureWarning)\n"
     ]
    },
    {
     "name": "stdout",
     "output_type": "stream",
     "text": [
      "Gradient Boosting Classifier\n",
      "[[162  11]\n",
      " [  6   4]]\n",
      "0.6682080924855491\n",
      "Decision Tree\n",
      "[[162  11]\n",
      " [  4   6]]\n",
      "0.7682080924855492\n",
      "Random Forest\n",
      "[[165   8]\n",
      " [  7   3]]\n",
      "0.626878612716763\n"
     ]
    },
    {
     "name": "stderr",
     "output_type": "stream",
     "text": [
      "C:\\Users\\Nour Al-Hoda\\Anaconda3\\lib\\site-packages\\sklearn\\neural_network\\multilayer_perceptron.py:562: ConvergenceWarning: Stochastic Optimizer: Maximum iterations (200) reached and the optimization hasn't converged yet.\n",
      "  % self.max_iter, ConvergenceWarning)\n"
     ]
    },
    {
     "name": "stdout",
     "output_type": "stream",
     "text": [
      "Neural Net\n",
      "[[172   1]\n",
      " [  3   7]]\n",
      "0.8471098265895953\n",
      "Naive Bayes\n",
      "[[172   1]\n",
      " [ 10   0]]\n",
      "0.49710982658959535\n",
      "AdaBoost\n",
      "[[171   2]\n",
      " [  5   5]]\n",
      "0.7442196531791908\n",
      "Gaussian Process\n",
      "[[173   0]\n",
      " [  6   4]]\n",
      "0.7\n",
      "=================================================================\n",
      "Results for  240  PCA components\n",
      "=================================================================\n",
      "Logistic Regression\n",
      "[[170   3]\n",
      " [  3   7]]\n",
      "0.841329479768786\n",
      "Nearest Neighbors\n",
      "[[173   0]\n",
      " [  4   6]]\n",
      "0.8\n",
      "Linear SVM\n",
      "[[169   4]\n",
      " [  5   5]]\n",
      "0.7384393063583816\n"
     ]
    },
    {
     "name": "stderr",
     "output_type": "stream",
     "text": [
      "C:\\Users\\Nour Al-Hoda\\Anaconda3\\lib\\site-packages\\sklearn\\linear_model\\logistic.py:433: FutureWarning: Default solver will be changed to 'lbfgs' in 0.22. Specify a solver to silence this warning.\n",
      "  FutureWarning)\n"
     ]
    },
    {
     "name": "stdout",
     "output_type": "stream",
     "text": [
      "Gradient Boosting Classifier\n",
      "[[159  14]\n",
      " [  6   4]]\n",
      "0.6595375722543353\n",
      "Decision Tree\n",
      "[[162  11]\n",
      " [  4   6]]\n",
      "0.7682080924855492\n",
      "Random Forest\n",
      "[[163  10]\n",
      " [  7   3]]\n",
      "0.6210982658959537\n"
     ]
    },
    {
     "name": "stderr",
     "output_type": "stream",
     "text": [
      "C:\\Users\\Nour Al-Hoda\\Anaconda3\\lib\\site-packages\\sklearn\\neural_network\\multilayer_perceptron.py:562: ConvergenceWarning: Stochastic Optimizer: Maximum iterations (200) reached and the optimization hasn't converged yet.\n",
      "  % self.max_iter, ConvergenceWarning)\n"
     ]
    },
    {
     "name": "stdout",
     "output_type": "stream",
     "text": [
      "Neural Net\n",
      "[[173   0]\n",
      " [  3   7]]\n",
      "0.85\n",
      "Naive Bayes\n",
      "[[173   0]\n",
      " [ 10   0]]\n",
      "0.5\n",
      "AdaBoost\n",
      "[[172   1]\n",
      " [  6   4]]\n",
      "0.6971098265895953\n",
      "Gaussian Process\n",
      "[[173   0]\n",
      " [  6   4]]\n",
      "0.7\n",
      "=================================================================\n",
      "Results for  255  PCA components\n",
      "=================================================================\n",
      "Logistic Regression\n",
      "[[170   3]\n",
      " [  3   7]]\n",
      "0.841329479768786\n",
      "Nearest Neighbors\n",
      "[[173   0]\n",
      " [  4   6]]\n",
      "0.8\n",
      "Linear SVM\n",
      "[[169   4]\n",
      " [  5   5]]\n",
      "0.7384393063583816\n"
     ]
    },
    {
     "name": "stderr",
     "output_type": "stream",
     "text": [
      "C:\\Users\\Nour Al-Hoda\\Anaconda3\\lib\\site-packages\\sklearn\\linear_model\\logistic.py:433: FutureWarning: Default solver will be changed to 'lbfgs' in 0.22. Specify a solver to silence this warning.\n",
      "  FutureWarning)\n"
     ]
    },
    {
     "name": "stdout",
     "output_type": "stream",
     "text": [
      "Gradient Boosting Classifier\n",
      "[[161  12]\n",
      " [  6   4]]\n",
      "0.6653179190751445\n",
      "Decision Tree\n",
      "[[155  18]\n",
      " [  3   7]]\n",
      "0.7979768786127166\n",
      "Random Forest\n",
      "[[165   8]\n",
      " [  7   3]]\n",
      "0.626878612716763\n"
     ]
    },
    {
     "name": "stderr",
     "output_type": "stream",
     "text": [
      "C:\\Users\\Nour Al-Hoda\\Anaconda3\\lib\\site-packages\\sklearn\\neural_network\\multilayer_perceptron.py:562: ConvergenceWarning: Stochastic Optimizer: Maximum iterations (200) reached and the optimization hasn't converged yet.\n",
      "  % self.max_iter, ConvergenceWarning)\n"
     ]
    },
    {
     "name": "stdout",
     "output_type": "stream",
     "text": [
      "Neural Net\n",
      "[[172   1]\n",
      " [  3   7]]\n",
      "0.8471098265895953\n",
      "Naive Bayes\n",
      "[[173   0]\n",
      " [ 10   0]]\n",
      "0.5\n",
      "AdaBoost\n",
      "[[171   2]\n",
      " [  4   6]]\n",
      "0.7942196531791909\n",
      "Gaussian Process\n",
      "[[173   0]\n",
      " [  6   4]]\n",
      "0.7\n",
      "=================================================================\n",
      "Results for  270  PCA components\n",
      "=================================================================\n",
      "Logistic Regression\n",
      "[[170   3]\n",
      " [  3   7]]\n",
      "0.841329479768786\n",
      "Nearest Neighbors\n",
      "[[173   0]\n",
      " [  4   6]]\n",
      "0.8\n",
      "Linear SVM\n",
      "[[169   4]\n",
      " [  5   5]]\n",
      "0.7384393063583816\n"
     ]
    },
    {
     "name": "stderr",
     "output_type": "stream",
     "text": [
      "C:\\Users\\Nour Al-Hoda\\Anaconda3\\lib\\site-packages\\sklearn\\linear_model\\logistic.py:433: FutureWarning: Default solver will be changed to 'lbfgs' in 0.22. Specify a solver to silence this warning.\n",
      "  FutureWarning)\n"
     ]
    },
    {
     "name": "stdout",
     "output_type": "stream",
     "text": [
      "Gradient Boosting Classifier\n",
      "[[158  15]\n",
      " [  6   4]]\n",
      "0.6566473988439306\n",
      "Decision Tree\n",
      "[[161  12]\n",
      " [  4   6]]\n",
      "0.7653179190751446\n",
      "Random Forest\n",
      "[[162  11]\n",
      " [  7   3]]\n",
      "0.6182080924855492\n"
     ]
    },
    {
     "name": "stderr",
     "output_type": "stream",
     "text": [
      "C:\\Users\\Nour Al-Hoda\\Anaconda3\\lib\\site-packages\\sklearn\\neural_network\\multilayer_perceptron.py:562: ConvergenceWarning: Stochastic Optimizer: Maximum iterations (200) reached and the optimization hasn't converged yet.\n",
      "  % self.max_iter, ConvergenceWarning)\n"
     ]
    },
    {
     "name": "stdout",
     "output_type": "stream",
     "text": [
      "Neural Net\n",
      "[[173   0]\n",
      " [  3   7]]\n",
      "0.85\n",
      "Naive Bayes\n",
      "[[173   0]\n",
      " [ 10   0]]\n",
      "0.5\n",
      "AdaBoost\n",
      "[[172   1]\n",
      " [  3   7]]\n",
      "0.8471098265895953\n",
      "Gaussian Process\n",
      "[[173   0]\n",
      " [  6   4]]\n",
      "0.7\n",
      "=================================================================\n",
      "Results for  285  PCA components\n",
      "=================================================================\n",
      "Logistic Regression\n",
      "[[170   3]\n",
      " [  3   7]]\n",
      "0.841329479768786\n",
      "Nearest Neighbors\n",
      "[[172   1]\n",
      " [  4   6]]\n",
      "0.7971098265895954\n",
      "Linear SVM\n",
      "[[169   4]\n",
      " [  5   5]]\n",
      "0.7384393063583816\n"
     ]
    },
    {
     "name": "stderr",
     "output_type": "stream",
     "text": [
      "C:\\Users\\Nour Al-Hoda\\Anaconda3\\lib\\site-packages\\sklearn\\linear_model\\logistic.py:433: FutureWarning: Default solver will be changed to 'lbfgs' in 0.22. Specify a solver to silence this warning.\n",
      "  FutureWarning)\n"
     ]
    },
    {
     "name": "stdout",
     "output_type": "stream",
     "text": [
      "Gradient Boosting Classifier\n",
      "[[162  11]\n",
      " [  6   4]]\n",
      "0.6682080924855491\n",
      "Decision Tree\n",
      "[[157  16]\n",
      " [  3   7]]\n",
      "0.803757225433526\n",
      "Random Forest\n",
      "[[165   8]\n",
      " [  7   3]]\n",
      "0.626878612716763\n"
     ]
    },
    {
     "name": "stderr",
     "output_type": "stream",
     "text": [
      "C:\\Users\\Nour Al-Hoda\\Anaconda3\\lib\\site-packages\\sklearn\\neural_network\\multilayer_perceptron.py:562: ConvergenceWarning: Stochastic Optimizer: Maximum iterations (200) reached and the optimization hasn't converged yet.\n",
      "  % self.max_iter, ConvergenceWarning)\n"
     ]
    },
    {
     "name": "stdout",
     "output_type": "stream",
     "text": [
      "Neural Net\n",
      "[[173   0]\n",
      " [  3   7]]\n",
      "0.85\n",
      "Naive Bayes\n",
      "[[173   0]\n",
      " [ 10   0]]\n",
      "0.5\n",
      "AdaBoost\n",
      "[[172   1]\n",
      " [  3   7]]\n",
      "0.8471098265895953\n",
      "Gaussian Process\n",
      "[[173   0]\n",
      " [  6   4]]\n",
      "0.7\n",
      "=================================================================\n",
      "Results for  300  PCA components\n",
      "=================================================================\n",
      "Logistic Regression\n",
      "[[170   3]\n",
      " [  3   7]]\n",
      "0.841329479768786\n",
      "Nearest Neighbors\n",
      "[[172   1]\n",
      " [  4   6]]\n",
      "0.7971098265895954\n",
      "Linear SVM\n",
      "[[169   4]\n",
      " [  5   5]]\n",
      "0.7384393063583816\n"
     ]
    },
    {
     "name": "stderr",
     "output_type": "stream",
     "text": [
      "C:\\Users\\Nour Al-Hoda\\Anaconda3\\lib\\site-packages\\sklearn\\linear_model\\logistic.py:433: FutureWarning: Default solver will be changed to 'lbfgs' in 0.22. Specify a solver to silence this warning.\n",
      "  FutureWarning)\n"
     ]
    },
    {
     "name": "stdout",
     "output_type": "stream",
     "text": [
      "Gradient Boosting Classifier\n",
      "[[162  11]\n",
      " [  6   4]]\n",
      "0.6682080924855491\n",
      "Decision Tree\n",
      "[[159  14]\n",
      " [  4   6]]\n",
      "0.7595375722543354\n",
      "Random Forest\n",
      "[[165   8]\n",
      " [  7   3]]\n",
      "0.626878612716763\n"
     ]
    },
    {
     "name": "stderr",
     "output_type": "stream",
     "text": [
      "C:\\Users\\Nour Al-Hoda\\Anaconda3\\lib\\site-packages\\sklearn\\neural_network\\multilayer_perceptron.py:562: ConvergenceWarning: Stochastic Optimizer: Maximum iterations (200) reached and the optimization hasn't converged yet.\n",
      "  % self.max_iter, ConvergenceWarning)\n"
     ]
    },
    {
     "name": "stdout",
     "output_type": "stream",
     "text": [
      "Neural Net\n",
      "[[172   1]\n",
      " [  3   7]]\n",
      "0.8471098265895953\n",
      "Naive Bayes\n",
      "[[173   0]\n",
      " [ 10   0]]\n",
      "0.5\n",
      "AdaBoost\n",
      "[[172   1]\n",
      " [  5   5]]\n",
      "0.7471098265895952\n",
      "Gaussian Process\n",
      "[[173   0]\n",
      " [  6   4]]\n",
      "0.7\n",
      "=================================================================\n",
      "Results for  315  PCA components\n",
      "=================================================================\n",
      "Logistic Regression\n",
      "[[170   3]\n",
      " [  3   7]]\n",
      "0.841329479768786\n",
      "Nearest Neighbors\n",
      "[[172   1]\n",
      " [  4   6]]\n",
      "0.7971098265895954\n",
      "Linear SVM\n",
      "[[169   4]\n",
      " [  5   5]]\n",
      "0.7384393063583816\n"
     ]
    },
    {
     "name": "stderr",
     "output_type": "stream",
     "text": [
      "C:\\Users\\Nour Al-Hoda\\Anaconda3\\lib\\site-packages\\sklearn\\linear_model\\logistic.py:433: FutureWarning: Default solver will be changed to 'lbfgs' in 0.22. Specify a solver to silence this warning.\n",
      "  FutureWarning)\n"
     ]
    },
    {
     "name": "stdout",
     "output_type": "stream",
     "text": [
      "Gradient Boosting Classifier\n",
      "[[162  11]\n",
      " [  6   4]]\n",
      "0.6682080924855491\n",
      "Decision Tree\n",
      "[[162  11]\n",
      " [  4   6]]\n",
      "0.7682080924855492\n",
      "Random Forest\n",
      "[[164   9]\n",
      " [  7   3]]\n",
      "0.6239884393063584\n"
     ]
    },
    {
     "name": "stderr",
     "output_type": "stream",
     "text": [
      "C:\\Users\\Nour Al-Hoda\\Anaconda3\\lib\\site-packages\\sklearn\\neural_network\\multilayer_perceptron.py:562: ConvergenceWarning: Stochastic Optimizer: Maximum iterations (200) reached and the optimization hasn't converged yet.\n",
      "  % self.max_iter, ConvergenceWarning)\n"
     ]
    },
    {
     "name": "stdout",
     "output_type": "stream",
     "text": [
      "Neural Net\n",
      "[[172   1]\n",
      " [  3   7]]\n",
      "0.8471098265895953\n",
      "Naive Bayes\n",
      "[[173   0]\n",
      " [ 10   0]]\n",
      "0.5\n",
      "AdaBoost\n",
      "[[172   1]\n",
      " [  9   1]]\n",
      "0.5471098265895954\n",
      "Gaussian Process\n",
      "[[173   0]\n",
      " [  6   4]]\n",
      "0.7\n",
      "=================================================================\n",
      "Results for  330  PCA components\n",
      "=================================================================\n",
      "Logistic Regression\n",
      "[[170   3]\n",
      " [  3   7]]\n",
      "0.841329479768786\n",
      "Nearest Neighbors\n",
      "[[172   1]\n",
      " [  4   6]]\n",
      "0.7971098265895954\n",
      "Linear SVM\n",
      "[[169   4]\n",
      " [  5   5]]\n",
      "0.7384393063583816\n"
     ]
    },
    {
     "name": "stderr",
     "output_type": "stream",
     "text": [
      "C:\\Users\\Nour Al-Hoda\\Anaconda3\\lib\\site-packages\\sklearn\\linear_model\\logistic.py:433: FutureWarning: Default solver will be changed to 'lbfgs' in 0.22. Specify a solver to silence this warning.\n",
      "  FutureWarning)\n"
     ]
    },
    {
     "name": "stdout",
     "output_type": "stream",
     "text": [
      "Gradient Boosting Classifier\n",
      "[[162  11]\n",
      " [  6   4]]\n",
      "0.6682080924855491\n",
      "Decision Tree\n",
      "[[157  16]\n",
      " [  3   7]]\n",
      "0.803757225433526\n",
      "Random Forest\n",
      "[[166   7]\n",
      " [  7   3]]\n",
      "0.6297687861271676\n"
     ]
    },
    {
     "name": "stderr",
     "output_type": "stream",
     "text": [
      "C:\\Users\\Nour Al-Hoda\\Anaconda3\\lib\\site-packages\\sklearn\\neural_network\\multilayer_perceptron.py:562: ConvergenceWarning: Stochastic Optimizer: Maximum iterations (200) reached and the optimization hasn't converged yet.\n",
      "  % self.max_iter, ConvergenceWarning)\n"
     ]
    },
    {
     "name": "stdout",
     "output_type": "stream",
     "text": [
      "Neural Net\n",
      "[[172   1]\n",
      " [  3   7]]\n",
      "0.8471098265895953\n",
      "Naive Bayes\n",
      "[[173   0]\n",
      " [ 10   0]]\n",
      "0.5\n",
      "AdaBoost\n",
      "[[172   1]\n",
      " [  4   6]]\n",
      "0.7971098265895954\n",
      "Gaussian Process\n",
      "[[173   0]\n",
      " [  6   4]]\n",
      "0.7\n",
      "=================================================================\n",
      "Results for  345  PCA components\n",
      "=================================================================\n",
      "Logistic Regression\n",
      "[[170   3]\n",
      " [  3   7]]\n",
      "0.841329479768786\n",
      "Nearest Neighbors\n",
      "[[172   1]\n",
      " [  4   6]]\n",
      "0.7971098265895954\n",
      "Linear SVM\n",
      "[[169   4]\n",
      " [  5   5]]\n",
      "0.7384393063583816\n"
     ]
    },
    {
     "name": "stderr",
     "output_type": "stream",
     "text": [
      "C:\\Users\\Nour Al-Hoda\\Anaconda3\\lib\\site-packages\\sklearn\\linear_model\\logistic.py:433: FutureWarning: Default solver will be changed to 'lbfgs' in 0.22. Specify a solver to silence this warning.\n",
      "  FutureWarning)\n"
     ]
    },
    {
     "name": "stdout",
     "output_type": "stream",
     "text": [
      "Gradient Boosting Classifier\n",
      "[[162  11]\n",
      " [  6   4]]\n",
      "0.6682080924855491\n",
      "Decision Tree\n",
      "[[162  11]\n",
      " [  4   6]]\n",
      "0.7682080924855492\n",
      "Random Forest\n",
      "[[166   7]\n",
      " [  7   3]]\n",
      "0.6297687861271676\n"
     ]
    },
    {
     "name": "stderr",
     "output_type": "stream",
     "text": [
      "C:\\Users\\Nour Al-Hoda\\Anaconda3\\lib\\site-packages\\sklearn\\neural_network\\multilayer_perceptron.py:562: ConvergenceWarning: Stochastic Optimizer: Maximum iterations (200) reached and the optimization hasn't converged yet.\n",
      "  % self.max_iter, ConvergenceWarning)\n"
     ]
    },
    {
     "name": "stdout",
     "output_type": "stream",
     "text": [
      "Neural Net\n",
      "[[172   1]\n",
      " [  3   7]]\n",
      "0.8471098265895953\n",
      "Naive Bayes\n",
      "[[173   0]\n",
      " [ 10   0]]\n",
      "0.5\n",
      "AdaBoost\n",
      "[[173   0]\n",
      " [  6   4]]\n",
      "0.7\n",
      "Gaussian Process\n",
      "[[173   0]\n",
      " [  6   4]]\n",
      "0.7\n",
      "=================================================================\n",
      "Results for  360  PCA components\n",
      "=================================================================\n",
      "Logistic Regression\n",
      "[[170   3]\n",
      " [  3   7]]\n",
      "0.841329479768786\n",
      "Nearest Neighbors\n",
      "[[172   1]\n",
      " [  4   6]]\n",
      "0.7971098265895954\n",
      "Linear SVM\n",
      "[[169   4]\n",
      " [  5   5]]\n",
      "0.7384393063583816\n"
     ]
    },
    {
     "name": "stderr",
     "output_type": "stream",
     "text": [
      "C:\\Users\\Nour Al-Hoda\\Anaconda3\\lib\\site-packages\\sklearn\\linear_model\\logistic.py:433: FutureWarning: Default solver will be changed to 'lbfgs' in 0.22. Specify a solver to silence this warning.\n",
      "  FutureWarning)\n"
     ]
    },
    {
     "name": "stdout",
     "output_type": "stream",
     "text": [
      "Gradient Boosting Classifier\n",
      "[[162  11]\n",
      " [  6   4]]\n",
      "0.6682080924855491\n",
      "Decision Tree\n",
      "[[160  13]\n",
      " [  3   7]]\n",
      "0.8124277456647399\n",
      "Random Forest\n",
      "[[165   8]\n",
      " [  7   3]]\n",
      "0.626878612716763\n",
      "Neural Net\n",
      "[[172   1]\n",
      " [  3   7]]\n",
      "0.8471098265895953\n",
      "Naive Bayes\n",
      "[[173   0]\n",
      " [ 10   0]]\n",
      "0.5\n",
      "AdaBoost\n",
      "[[173   0]\n",
      " [  9   1]]\n",
      "0.55\n",
      "Gaussian Process\n",
      "[[173   0]\n",
      " [  6   4]]\n",
      "0.7\n",
      "=================================================================\n",
      "Training 10 different classifiers, and different PCA components after CAR filter\n",
      "=================================================================\n",
      "=================================================================\n",
      "Results for  15  PCA components\n",
      "=================================================================\n",
      "Logistic Regression\n",
      "[[170   3]\n",
      " [  5   5]]\n",
      "0.741329479768786\n"
     ]
    },
    {
     "name": "stderr",
     "output_type": "stream",
     "text": [
      "C:\\Users\\Nour Al-Hoda\\Anaconda3\\lib\\site-packages\\sklearn\\linear_model\\logistic.py:433: FutureWarning: Default solver will be changed to 'lbfgs' in 0.22. Specify a solver to silence this warning.\n",
      "  FutureWarning)\n"
     ]
    },
    {
     "name": "stdout",
     "output_type": "stream",
     "text": [
      "Nearest Neighbors\n",
      "[[171   2]\n",
      " [  4   6]]\n",
      "0.7942196531791909\n",
      "Linear SVM\n",
      "[[170   3]\n",
      " [  6   4]]\n",
      "0.6913294797687861\n",
      "Gradient Boosting Classifier\n",
      "[[172   1]\n",
      " [  5   5]]\n",
      "0.7471098265895952\n",
      "Decision Tree\n",
      "[[167   6]\n",
      " [  5   5]]\n",
      "0.7326589595375722\n",
      "Random Forest\n",
      "[[173   0]\n",
      " [  5   5]]\n",
      "0.75\n"
     ]
    },
    {
     "name": "stderr",
     "output_type": "stream",
     "text": [
      "C:\\Users\\Nour Al-Hoda\\Anaconda3\\lib\\site-packages\\sklearn\\neural_network\\multilayer_perceptron.py:562: ConvergenceWarning: Stochastic Optimizer: Maximum iterations (200) reached and the optimization hasn't converged yet.\n",
      "  % self.max_iter, ConvergenceWarning)\n"
     ]
    },
    {
     "name": "stdout",
     "output_type": "stream",
     "text": [
      "Neural Net\n",
      "[[172   1]\n",
      " [  3   7]]\n",
      "0.8471098265895953\n",
      "Naive Bayes\n",
      "[[164   9]\n",
      " [  6   4]]\n",
      "0.6739884393063583\n",
      "AdaBoost\n",
      "[[170   3]\n",
      " [  5   5]]\n",
      "0.741329479768786\n",
      "Gaussian Process\n",
      "[[172   1]\n",
      " [  6   4]]\n",
      "0.6971098265895953\n",
      "=================================================================\n",
      "Results for  30  PCA components\n",
      "=================================================================\n",
      "Logistic Regression\n",
      "[[170   3]\n",
      " [  5   5]]\n",
      "0.741329479768786\n",
      "Nearest Neighbors\n",
      "[[171   2]\n",
      " [  3   7]]\n",
      "0.8442196531791907\n",
      "Linear SVM\n",
      "[[171   2]\n",
      " [  5   5]]\n",
      "0.7442196531791908\n"
     ]
    },
    {
     "name": "stderr",
     "output_type": "stream",
     "text": [
      "C:\\Users\\Nour Al-Hoda\\Anaconda3\\lib\\site-packages\\sklearn\\linear_model\\logistic.py:433: FutureWarning: Default solver will be changed to 'lbfgs' in 0.22. Specify a solver to silence this warning.\n",
      "  FutureWarning)\n"
     ]
    },
    {
     "name": "stdout",
     "output_type": "stream",
     "text": [
      "Gradient Boosting Classifier\n",
      "[[172   1]\n",
      " [  5   5]]\n",
      "0.7471098265895952\n",
      "Decision Tree\n",
      "[[168   5]\n",
      " [  5   5]]\n",
      "0.7355491329479769\n",
      "Random Forest\n",
      "[[173   0]\n",
      " [  6   4]]\n",
      "0.7\n"
     ]
    },
    {
     "name": "stderr",
     "output_type": "stream",
     "text": [
      "C:\\Users\\Nour Al-Hoda\\Anaconda3\\lib\\site-packages\\sklearn\\neural_network\\multilayer_perceptron.py:562: ConvergenceWarning: Stochastic Optimizer: Maximum iterations (200) reached and the optimization hasn't converged yet.\n",
      "  % self.max_iter, ConvergenceWarning)\n"
     ]
    },
    {
     "name": "stdout",
     "output_type": "stream",
     "text": [
      "Neural Net\n",
      "[[172   1]\n",
      " [  3   7]]\n",
      "0.8471098265895953\n",
      "Naive Bayes\n",
      "[[161  12]\n",
      " [  7   3]]\n",
      "0.6153179190751445\n",
      "AdaBoost\n",
      "[[170   3]\n",
      " [  4   6]]\n",
      "0.7913294797687862\n",
      "Gaussian Process\n",
      "[[172   1]\n",
      " [  5   5]]\n",
      "0.7471098265895952\n",
      "=================================================================\n",
      "Results for  45  PCA components\n",
      "=================================================================\n",
      "Logistic Regression\n",
      "[[170   3]\n",
      " [  5   5]]\n",
      "0.741329479768786\n",
      "Nearest Neighbors\n",
      "[[171   2]\n",
      " [  3   7]]\n",
      "0.8442196531791907\n",
      "Linear SVM\n"
     ]
    },
    {
     "name": "stderr",
     "output_type": "stream",
     "text": [
      "C:\\Users\\Nour Al-Hoda\\Anaconda3\\lib\\site-packages\\sklearn\\linear_model\\logistic.py:433: FutureWarning: Default solver will be changed to 'lbfgs' in 0.22. Specify a solver to silence this warning.\n",
      "  FutureWarning)\n"
     ]
    },
    {
     "name": "stdout",
     "output_type": "stream",
     "text": [
      "[[172   1]\n",
      " [  5   5]]\n",
      "0.7471098265895952\n",
      "Gradient Boosting Classifier\n",
      "[[172   1]\n",
      " [  5   5]]\n",
      "0.7471098265895952\n",
      "Decision Tree\n",
      "[[168   5]\n",
      " [  5   5]]\n",
      "0.7355491329479769\n",
      "Random Forest\n",
      "[[173   0]\n",
      " [  6   4]]\n",
      "0.7\n"
     ]
    },
    {
     "name": "stderr",
     "output_type": "stream",
     "text": [
      "C:\\Users\\Nour Al-Hoda\\Anaconda3\\lib\\site-packages\\sklearn\\neural_network\\multilayer_perceptron.py:562: ConvergenceWarning: Stochastic Optimizer: Maximum iterations (200) reached and the optimization hasn't converged yet.\n",
      "  % self.max_iter, ConvergenceWarning)\n"
     ]
    },
    {
     "name": "stdout",
     "output_type": "stream",
     "text": [
      "Neural Net\n",
      "[[172   1]\n",
      " [  3   7]]\n",
      "0.8471098265895953\n",
      "Naive Bayes\n",
      "[[161  12]\n",
      " [  6   4]]\n",
      "0.6653179190751445\n",
      "AdaBoost\n",
      "[[172   1]\n",
      " [  4   6]]\n",
      "0.7971098265895954\n",
      "Gaussian Process\n",
      "[[173   0]\n",
      " [  5   5]]\n",
      "0.75\n",
      "=================================================================\n",
      "Results for  60  PCA components\n",
      "=================================================================\n",
      "Logistic Regression\n",
      "[[169   4]\n",
      " [  4   6]]\n",
      "0.7884393063583816\n",
      "Nearest Neighbors\n",
      "[[172   1]\n",
      " [  3   7]]\n",
      "0.8471098265895953\n",
      "Linear SVM\n",
      "[[171   2]\n",
      " [  5   5]]\n",
      "0.7442196531791908\n"
     ]
    },
    {
     "name": "stderr",
     "output_type": "stream",
     "text": [
      "C:\\Users\\Nour Al-Hoda\\Anaconda3\\lib\\site-packages\\sklearn\\linear_model\\logistic.py:433: FutureWarning: Default solver will be changed to 'lbfgs' in 0.22. Specify a solver to silence this warning.\n",
      "  FutureWarning)\n"
     ]
    },
    {
     "name": "stdout",
     "output_type": "stream",
     "text": [
      "Gradient Boosting Classifier\n",
      "[[171   2]\n",
      " [  5   5]]\n",
      "0.7442196531791908\n",
      "Decision Tree\n",
      "[[169   4]\n",
      " [  5   5]]\n",
      "0.7384393063583816\n",
      "Random Forest\n",
      "[[172   1]\n",
      " [  6   4]]\n",
      "0.6971098265895953\n"
     ]
    },
    {
     "name": "stderr",
     "output_type": "stream",
     "text": [
      "C:\\Users\\Nour Al-Hoda\\Anaconda3\\lib\\site-packages\\sklearn\\neural_network\\multilayer_perceptron.py:562: ConvergenceWarning: Stochastic Optimizer: Maximum iterations (200) reached and the optimization hasn't converged yet.\n",
      "  % self.max_iter, ConvergenceWarning)\n"
     ]
    },
    {
     "name": "stdout",
     "output_type": "stream",
     "text": [
      "Neural Net\n",
      "[[172   1]\n",
      " [  3   7]]\n",
      "0.8471098265895953\n",
      "Naive Bayes\n",
      "[[160  13]\n",
      " [  6   4]]\n",
      "0.6624277456647398\n",
      "AdaBoost\n",
      "[[172   1]\n",
      " [  4   6]]\n",
      "0.7971098265895954\n",
      "Gaussian Process\n",
      "[[173   0]\n",
      " [  5   5]]\n",
      "0.75\n",
      "=================================================================\n",
      "Results for  75  PCA components\n",
      "=================================================================\n",
      "Logistic Regression\n",
      "[[169   4]\n",
      " [  4   6]]\n",
      "0.7884393063583816\n",
      "Nearest Neighbors\n",
      "[[172   1]\n",
      " [  3   7]]\n",
      "0.8471098265895953\n",
      "Linear SVM\n",
      "[[170   3]\n",
      " [  5   5]]\n",
      "0.741329479768786\n"
     ]
    },
    {
     "name": "stderr",
     "output_type": "stream",
     "text": [
      "C:\\Users\\Nour Al-Hoda\\Anaconda3\\lib\\site-packages\\sklearn\\linear_model\\logistic.py:433: FutureWarning: Default solver will be changed to 'lbfgs' in 0.22. Specify a solver to silence this warning.\n",
      "  FutureWarning)\n"
     ]
    },
    {
     "name": "stdout",
     "output_type": "stream",
     "text": [
      "Gradient Boosting Classifier\n",
      "[[166   7]\n",
      " [  6   4]]\n",
      "0.6797687861271676\n",
      "Decision Tree\n",
      "[[157  16]\n",
      " [  6   4]]\n",
      "0.653757225433526\n",
      "Random Forest\n",
      "[[168   5]\n",
      " [  7   3]]\n",
      "0.6355491329479769\n"
     ]
    },
    {
     "name": "stderr",
     "output_type": "stream",
     "text": [
      "C:\\Users\\Nour Al-Hoda\\Anaconda3\\lib\\site-packages\\sklearn\\neural_network\\multilayer_perceptron.py:562: ConvergenceWarning: Stochastic Optimizer: Maximum iterations (200) reached and the optimization hasn't converged yet.\n",
      "  % self.max_iter, ConvergenceWarning)\n"
     ]
    },
    {
     "name": "stdout",
     "output_type": "stream",
     "text": [
      "Neural Net\n",
      "[[172   1]\n",
      " [  3   7]]\n",
      "0.8471098265895953\n",
      "Naive Bayes\n",
      "[[157  16]\n",
      " [  6   4]]\n",
      "0.653757225433526\n",
      "AdaBoost\n",
      "[[169   4]\n",
      " [  3   7]]\n",
      "0.8384393063583816\n",
      "Gaussian Process\n",
      "[[173   0]\n",
      " [  5   5]]\n",
      "0.75\n",
      "=================================================================\n",
      "Results for  90  PCA components\n",
      "=================================================================\n",
      "Logistic Regression\n",
      "[[169   4]\n",
      " [  3   7]]\n",
      "0.8384393063583816\n",
      "Nearest Neighbors\n",
      "[[172   1]\n",
      " [  4   6]]\n",
      "0.7971098265895954\n",
      "Linear SVM\n",
      "[[169   4]\n",
      " [  5   5]]\n",
      "0.7384393063583816\n"
     ]
    },
    {
     "name": "stderr",
     "output_type": "stream",
     "text": [
      "C:\\Users\\Nour Al-Hoda\\Anaconda3\\lib\\site-packages\\sklearn\\linear_model\\logistic.py:433: FutureWarning: Default solver will be changed to 'lbfgs' in 0.22. Specify a solver to silence this warning.\n",
      "  FutureWarning)\n"
     ]
    },
    {
     "name": "stdout",
     "output_type": "stream",
     "text": [
      "Gradient Boosting Classifier\n",
      "[[162  11]\n",
      " [  6   4]]\n",
      "0.6682080924855491\n",
      "Decision Tree\n",
      "[[159  14]\n",
      " [  6   4]]\n",
      "0.6595375722543353\n",
      "Random Forest\n",
      "[[167   6]\n",
      " [  7   3]]\n",
      "0.6326589595375723\n"
     ]
    },
    {
     "name": "stderr",
     "output_type": "stream",
     "text": [
      "C:\\Users\\Nour Al-Hoda\\Anaconda3\\lib\\site-packages\\sklearn\\neural_network\\multilayer_perceptron.py:562: ConvergenceWarning: Stochastic Optimizer: Maximum iterations (200) reached and the optimization hasn't converged yet.\n",
      "  % self.max_iter, ConvergenceWarning)\n"
     ]
    },
    {
     "name": "stdout",
     "output_type": "stream",
     "text": [
      "Neural Net\n",
      "[[173   0]\n",
      " [  3   7]]\n",
      "0.85\n",
      "Naive Bayes\n",
      "[[155  18]\n",
      " [  6   4]]\n",
      "0.6479768786127167\n",
      "AdaBoost\n",
      "[[169   4]\n",
      " [  3   7]]\n",
      "0.8384393063583816\n",
      "Gaussian Process\n",
      "[[173   0]\n",
      " [  5   5]]\n",
      "0.75\n",
      "=================================================================\n",
      "Results for  105  PCA components\n",
      "=================================================================\n",
      "Logistic Regression\n",
      "[[169   4]\n",
      " [  3   7]]\n",
      "0.8384393063583816\n",
      "Nearest Neighbors\n",
      "[[172   1]\n",
      " [  4   6]]\n",
      "0.7971098265895954\n",
      "Linear SVM\n",
      "[[169   4]\n",
      " [  5   5]]\n",
      "0.7384393063583816\n"
     ]
    },
    {
     "name": "stderr",
     "output_type": "stream",
     "text": [
      "C:\\Users\\Nour Al-Hoda\\Anaconda3\\lib\\site-packages\\sklearn\\linear_model\\logistic.py:433: FutureWarning: Default solver will be changed to 'lbfgs' in 0.22. Specify a solver to silence this warning.\n",
      "  FutureWarning)\n"
     ]
    },
    {
     "name": "stdout",
     "output_type": "stream",
     "text": [
      "Gradient Boosting Classifier\n",
      "[[155  18]\n",
      " [  6   4]]\n",
      "0.6479768786127167\n",
      "Decision Tree\n",
      "[[157  16]\n",
      " [  6   4]]\n",
      "0.653757225433526\n",
      "Random Forest\n",
      "[[166   7]\n",
      " [  7   3]]\n",
      "0.6297687861271676\n"
     ]
    },
    {
     "name": "stderr",
     "output_type": "stream",
     "text": [
      "C:\\Users\\Nour Al-Hoda\\Anaconda3\\lib\\site-packages\\sklearn\\neural_network\\multilayer_perceptron.py:562: ConvergenceWarning: Stochastic Optimizer: Maximum iterations (200) reached and the optimization hasn't converged yet.\n",
      "  % self.max_iter, ConvergenceWarning)\n"
     ]
    },
    {
     "name": "stdout",
     "output_type": "stream",
     "text": [
      "Neural Net\n",
      "[[173   0]\n",
      " [  3   7]]\n",
      "0.85\n",
      "Naive Bayes\n",
      "[[153  20]\n",
      " [  6   4]]\n",
      "0.6421965317919075\n",
      "AdaBoost\n",
      "[[171   2]\n",
      " [  5   5]]\n",
      "0.7442196531791908\n",
      "Gaussian Process\n",
      "[[173   0]\n",
      " [  5   5]]\n",
      "0.75\n",
      "=================================================================\n",
      "Results for  120  PCA components\n",
      "=================================================================\n",
      "Logistic Regression\n",
      "[[170   3]\n",
      " [  3   7]]\n",
      "0.841329479768786\n",
      "Nearest Neighbors\n",
      "[[173   0]\n",
      " [  4   6]]\n",
      "0.8\n",
      "Linear SVM\n",
      "[[169   4]\n",
      " [  5   5]]\n",
      "0.7384393063583816\n"
     ]
    },
    {
     "name": "stderr",
     "output_type": "stream",
     "text": [
      "C:\\Users\\Nour Al-Hoda\\Anaconda3\\lib\\site-packages\\sklearn\\linear_model\\logistic.py:433: FutureWarning: Default solver will be changed to 'lbfgs' in 0.22. Specify a solver to silence this warning.\n",
      "  FutureWarning)\n"
     ]
    },
    {
     "name": "stdout",
     "output_type": "stream",
     "text": [
      "Gradient Boosting Classifier\n",
      "[[160  13]\n",
      " [  6   4]]\n",
      "0.6624277456647398\n",
      "Decision Tree\n",
      "[[161  12]\n",
      " [  5   5]]\n",
      "0.7153179190751445\n",
      "Random Forest\n",
      "[[165   8]\n",
      " [  7   3]]\n",
      "0.626878612716763\n"
     ]
    },
    {
     "name": "stderr",
     "output_type": "stream",
     "text": [
      "C:\\Users\\Nour Al-Hoda\\Anaconda3\\lib\\site-packages\\sklearn\\neural_network\\multilayer_perceptron.py:562: ConvergenceWarning: Stochastic Optimizer: Maximum iterations (200) reached and the optimization hasn't converged yet.\n",
      "  % self.max_iter, ConvergenceWarning)\n"
     ]
    },
    {
     "name": "stdout",
     "output_type": "stream",
     "text": [
      "Neural Net\n",
      "[[172   1]\n",
      " [  3   7]]\n",
      "0.8471098265895953\n",
      "Naive Bayes\n",
      "[[153  20]\n",
      " [  6   4]]\n",
      "0.6421965317919075\n",
      "AdaBoost\n",
      "[[168   5]\n",
      " [  3   7]]\n",
      "0.8355491329479768\n",
      "Gaussian Process\n",
      "[[173   0]\n",
      " [  5   5]]\n",
      "0.75\n",
      "=================================================================\n",
      "Results for  135  PCA components\n",
      "=================================================================\n",
      "Logistic Regression\n",
      "[[170   3]\n",
      " [  4   6]]\n",
      "0.7913294797687862\n",
      "Nearest Neighbors\n",
      "[[172   1]\n",
      " [  4   6]]\n",
      "0.7971098265895954\n",
      "Linear SVM\n",
      "[[169   4]\n",
      " [  5   5]]\n",
      "0.7384393063583816\n"
     ]
    },
    {
     "name": "stderr",
     "output_type": "stream",
     "text": [
      "C:\\Users\\Nour Al-Hoda\\Anaconda3\\lib\\site-packages\\sklearn\\linear_model\\logistic.py:433: FutureWarning: Default solver will be changed to 'lbfgs' in 0.22. Specify a solver to silence this warning.\n",
      "  FutureWarning)\n"
     ]
    },
    {
     "name": "stdout",
     "output_type": "stream",
     "text": [
      "Gradient Boosting Classifier\n",
      "[[158  15]\n",
      " [  4   6]]\n",
      "0.7566473988439307\n",
      "Decision Tree\n",
      "[[161  12]\n",
      " [  4   6]]\n",
      "0.7653179190751446\n",
      "Random Forest\n",
      "[[163  10]\n",
      " [  7   3]]\n",
      "0.6210982658959537\n"
     ]
    },
    {
     "name": "stderr",
     "output_type": "stream",
     "text": [
      "C:\\Users\\Nour Al-Hoda\\Anaconda3\\lib\\site-packages\\sklearn\\neural_network\\multilayer_perceptron.py:562: ConvergenceWarning: Stochastic Optimizer: Maximum iterations (200) reached and the optimization hasn't converged yet.\n",
      "  % self.max_iter, ConvergenceWarning)\n"
     ]
    },
    {
     "name": "stdout",
     "output_type": "stream",
     "text": [
      "Neural Net\n",
      "[[172   1]\n",
      " [  3   7]]\n",
      "0.8471098265895953\n",
      "Naive Bayes\n",
      "[[152  21]\n",
      " [  6   4]]\n",
      "0.6393063583815028\n",
      "AdaBoost\n",
      "[[171   2]\n",
      " [  4   6]]\n",
      "0.7942196531791909\n",
      "Gaussian Process\n",
      "[[173   0]\n",
      " [  6   4]]\n",
      "0.7\n",
      "=================================================================\n",
      "Results for  150  PCA components\n",
      "=================================================================\n",
      "Logistic Regression\n",
      "[[170   3]\n",
      " [  4   6]]\n",
      "0.7913294797687862\n",
      "Nearest Neighbors\n",
      "[[173   0]\n",
      " [  4   6]]\n",
      "0.8\n",
      "Linear SVM\n",
      "[[169   4]\n",
      " [  5   5]]\n",
      "0.7384393063583816\n"
     ]
    },
    {
     "name": "stderr",
     "output_type": "stream",
     "text": [
      "C:\\Users\\Nour Al-Hoda\\Anaconda3\\lib\\site-packages\\sklearn\\linear_model\\logistic.py:433: FutureWarning: Default solver will be changed to 'lbfgs' in 0.22. Specify a solver to silence this warning.\n",
      "  FutureWarning)\n"
     ]
    },
    {
     "name": "stdout",
     "output_type": "stream",
     "text": [
      "Gradient Boosting Classifier\n",
      "[[162  11]\n",
      " [  6   4]]\n",
      "0.6682080924855491\n",
      "Decision Tree\n",
      "[[161  12]\n",
      " [  4   6]]\n",
      "0.7653179190751446\n",
      "Random Forest\n",
      "[[165   8]\n",
      " [  7   3]]\n",
      "0.626878612716763\n"
     ]
    },
    {
     "name": "stderr",
     "output_type": "stream",
     "text": [
      "C:\\Users\\Nour Al-Hoda\\Anaconda3\\lib\\site-packages\\sklearn\\neural_network\\multilayer_perceptron.py:562: ConvergenceWarning: Stochastic Optimizer: Maximum iterations (200) reached and the optimization hasn't converged yet.\n",
      "  % self.max_iter, ConvergenceWarning)\n"
     ]
    },
    {
     "name": "stdout",
     "output_type": "stream",
     "text": [
      "Neural Net\n",
      "[[172   1]\n",
      " [  3   7]]\n",
      "0.8471098265895953\n",
      "Naive Bayes\n",
      "[[160  13]\n",
      " [  6   4]]\n",
      "0.6624277456647398\n",
      "AdaBoost\n",
      "[[172   1]\n",
      " [  5   5]]\n",
      "0.7471098265895952\n",
      "Gaussian Process\n",
      "[[173   0]\n",
      " [  6   4]]\n",
      "0.7\n",
      "=================================================================\n",
      "Results for  165  PCA components\n",
      "=================================================================\n",
      "Logistic Regression\n",
      "[[170   3]\n",
      " [  4   6]]\n",
      "0.7913294797687862\n",
      "Nearest Neighbors\n",
      "[[173   0]\n",
      " [  4   6]]\n",
      "0.8\n",
      "Linear SVM\n",
      "[[169   4]\n",
      " [  5   5]]\n",
      "0.7384393063583816\n"
     ]
    },
    {
     "name": "stderr",
     "output_type": "stream",
     "text": [
      "C:\\Users\\Nour Al-Hoda\\Anaconda3\\lib\\site-packages\\sklearn\\linear_model\\logistic.py:433: FutureWarning: Default solver will be changed to 'lbfgs' in 0.22. Specify a solver to silence this warning.\n",
      "  FutureWarning)\n"
     ]
    },
    {
     "name": "stdout",
     "output_type": "stream",
     "text": [
      "Gradient Boosting Classifier\n",
      "[[161  12]\n",
      " [  6   4]]\n",
      "0.6653179190751445\n",
      "Decision Tree\n",
      "[[161  12]\n",
      " [  4   6]]\n",
      "0.7653179190751446\n",
      "Random Forest\n",
      "[[162  11]\n",
      " [  7   3]]\n",
      "0.6182080924855492\n"
     ]
    },
    {
     "name": "stderr",
     "output_type": "stream",
     "text": [
      "C:\\Users\\Nour Al-Hoda\\Anaconda3\\lib\\site-packages\\sklearn\\neural_network\\multilayer_perceptron.py:562: ConvergenceWarning: Stochastic Optimizer: Maximum iterations (200) reached and the optimization hasn't converged yet.\n",
      "  % self.max_iter, ConvergenceWarning)\n"
     ]
    },
    {
     "name": "stdout",
     "output_type": "stream",
     "text": [
      "Neural Net\n",
      "[[172   1]\n",
      " [  3   7]]\n",
      "0.8471098265895953\n",
      "Naive Bayes\n",
      "[[162  11]\n",
      " [  7   3]]\n",
      "0.6182080924855492\n",
      "AdaBoost\n",
      "[[171   2]\n",
      " [  5   5]]\n",
      "0.7442196531791908\n",
      "Gaussian Process\n",
      "[[173   0]\n",
      " [  6   4]]\n",
      "0.7\n",
      "=================================================================\n",
      "Results for  180  PCA components\n",
      "=================================================================\n",
      "Logistic Regression\n",
      "[[170   3]\n",
      " [  4   6]]\n",
      "0.7913294797687862\n",
      "Nearest Neighbors\n",
      "[[173   0]\n",
      " [  4   6]]\n",
      "0.8\n",
      "Linear SVM\n",
      "[[169   4]\n",
      " [  5   5]]\n",
      "0.7384393063583816\n"
     ]
    },
    {
     "name": "stderr",
     "output_type": "stream",
     "text": [
      "C:\\Users\\Nour Al-Hoda\\Anaconda3\\lib\\site-packages\\sklearn\\linear_model\\logistic.py:433: FutureWarning: Default solver will be changed to 'lbfgs' in 0.22. Specify a solver to silence this warning.\n",
      "  FutureWarning)\n"
     ]
    },
    {
     "name": "stdout",
     "output_type": "stream",
     "text": [
      "Gradient Boosting Classifier\n",
      "[[162  11]\n",
      " [  6   4]]\n",
      "0.6682080924855491\n",
      "Decision Tree\n",
      "[[162  11]\n",
      " [  4   6]]\n",
      "0.7682080924855492\n",
      "Random Forest\n",
      "[[163  10]\n",
      " [  7   3]]\n",
      "0.6210982658959537\n"
     ]
    },
    {
     "name": "stderr",
     "output_type": "stream",
     "text": [
      "C:\\Users\\Nour Al-Hoda\\Anaconda3\\lib\\site-packages\\sklearn\\neural_network\\multilayer_perceptron.py:562: ConvergenceWarning: Stochastic Optimizer: Maximum iterations (200) reached and the optimization hasn't converged yet.\n",
      "  % self.max_iter, ConvergenceWarning)\n"
     ]
    },
    {
     "name": "stdout",
     "output_type": "stream",
     "text": [
      "Neural Net\n",
      "[[172   1]\n",
      " [  3   7]]\n",
      "0.8471098265895953\n",
      "Naive Bayes\n",
      "[[169   4]\n",
      " [ 10   0]]\n",
      "0.4884393063583815\n",
      "AdaBoost\n",
      "[[170   3]\n",
      " [  4   6]]\n",
      "0.7913294797687862\n",
      "Gaussian Process\n",
      "[[173   0]\n",
      " [  6   4]]\n",
      "0.7\n",
      "=================================================================\n",
      "Results for  195  PCA components\n",
      "=================================================================\n",
      "Logistic Regression\n",
      "[[170   3]\n",
      " [  4   6]]\n",
      "0.7913294797687862\n",
      "Nearest Neighbors\n",
      "[[173   0]\n",
      " [  4   6]]\n",
      "0.8\n",
      "Linear SVM\n",
      "[[169   4]\n",
      " [  5   5]]\n",
      "0.7384393063583816\n"
     ]
    },
    {
     "name": "stderr",
     "output_type": "stream",
     "text": [
      "C:\\Users\\Nour Al-Hoda\\Anaconda3\\lib\\site-packages\\sklearn\\linear_model\\logistic.py:433: FutureWarning: Default solver will be changed to 'lbfgs' in 0.22. Specify a solver to silence this warning.\n",
      "  FutureWarning)\n"
     ]
    },
    {
     "name": "stdout",
     "output_type": "stream",
     "text": [
      "Gradient Boosting Classifier\n",
      "[[159  14]\n",
      " [  4   6]]\n",
      "0.7595375722543354\n",
      "Decision Tree\n",
      "[[157  16]\n",
      " [  4   6]]\n",
      "0.7537572254335261\n",
      "Random Forest\n",
      "[[165   8]\n",
      " [  7   3]]\n",
      "0.626878612716763\n"
     ]
    },
    {
     "name": "stderr",
     "output_type": "stream",
     "text": [
      "C:\\Users\\Nour Al-Hoda\\Anaconda3\\lib\\site-packages\\sklearn\\neural_network\\multilayer_perceptron.py:562: ConvergenceWarning: Stochastic Optimizer: Maximum iterations (200) reached and the optimization hasn't converged yet.\n",
      "  % self.max_iter, ConvergenceWarning)\n"
     ]
    },
    {
     "name": "stdout",
     "output_type": "stream",
     "text": [
      "Neural Net\n",
      "[[172   1]\n",
      " [  3   7]]\n",
      "0.8471098265895953\n",
      "Naive Bayes\n",
      "[[172   1]\n",
      " [ 10   0]]\n",
      "0.49710982658959535\n",
      "AdaBoost\n",
      "[[172   1]\n",
      " [  4   6]]\n",
      "0.7971098265895954\n",
      "Gaussian Process\n",
      "[[173   0]\n",
      " [  6   4]]\n",
      "0.7\n",
      "=================================================================\n",
      "Results for  210  PCA components\n",
      "=================================================================\n",
      "Logistic Regression\n",
      "[[170   3]\n",
      " [  4   6]]\n",
      "0.7913294797687862\n",
      "Nearest Neighbors\n",
      "[[173   0]\n",
      " [  4   6]]\n",
      "0.8\n",
      "Linear SVM\n",
      "[[169   4]\n",
      " [  5   5]]\n",
      "0.7384393063583816\n"
     ]
    },
    {
     "name": "stderr",
     "output_type": "stream",
     "text": [
      "C:\\Users\\Nour Al-Hoda\\Anaconda3\\lib\\site-packages\\sklearn\\linear_model\\logistic.py:433: FutureWarning: Default solver will be changed to 'lbfgs' in 0.22. Specify a solver to silence this warning.\n",
      "  FutureWarning)\n"
     ]
    },
    {
     "name": "stdout",
     "output_type": "stream",
     "text": [
      "Gradient Boosting Classifier\n",
      "[[162  11]\n",
      " [  6   4]]\n",
      "0.6682080924855491\n",
      "Decision Tree\n",
      "[[163  10]\n",
      " [  4   6]]\n",
      "0.7710982658959539\n",
      "Random Forest\n",
      "[[164   9]\n",
      " [  7   3]]\n",
      "0.6239884393063584\n"
     ]
    },
    {
     "name": "stderr",
     "output_type": "stream",
     "text": [
      "C:\\Users\\Nour Al-Hoda\\Anaconda3\\lib\\site-packages\\sklearn\\neural_network\\multilayer_perceptron.py:562: ConvergenceWarning: Stochastic Optimizer: Maximum iterations (200) reached and the optimization hasn't converged yet.\n",
      "  % self.max_iter, ConvergenceWarning)\n"
     ]
    },
    {
     "name": "stdout",
     "output_type": "stream",
     "text": [
      "Neural Net\n",
      "[[172   1]\n",
      " [  3   7]]\n",
      "0.8471098265895953\n",
      "Naive Bayes\n",
      "[[172   1]\n",
      " [ 10   0]]\n",
      "0.49710982658959535\n",
      "AdaBoost\n",
      "[[172   1]\n",
      " [  6   4]]\n",
      "0.6971098265895953\n",
      "Gaussian Process\n",
      "[[173   0]\n",
      " [  6   4]]\n",
      "0.7\n",
      "=================================================================\n",
      "Results for  225  PCA components\n",
      "=================================================================\n",
      "Logistic Regression\n",
      "[[170   3]\n",
      " [  4   6]]\n",
      "0.7913294797687862\n",
      "Nearest Neighbors\n",
      "[[173   0]\n",
      " [  4   6]]\n",
      "0.8\n",
      "Linear SVM\n",
      "[[169   4]\n",
      " [  5   5]]\n",
      "0.7384393063583816\n"
     ]
    },
    {
     "name": "stderr",
     "output_type": "stream",
     "text": [
      "C:\\Users\\Nour Al-Hoda\\Anaconda3\\lib\\site-packages\\sklearn\\linear_model\\logistic.py:433: FutureWarning: Default solver will be changed to 'lbfgs' in 0.22. Specify a solver to silence this warning.\n",
      "  FutureWarning)\n"
     ]
    },
    {
     "name": "stdout",
     "output_type": "stream",
     "text": [
      "Gradient Boosting Classifier\n",
      "[[161  12]\n",
      " [  4   6]]\n",
      "0.7653179190751446\n",
      "Decision Tree\n",
      "[[163  10]\n",
      " [  4   6]]\n",
      "0.7710982658959539\n",
      "Random Forest\n",
      "[[165   8]\n",
      " [  7   3]]\n",
      "0.626878612716763\n"
     ]
    },
    {
     "name": "stderr",
     "output_type": "stream",
     "text": [
      "C:\\Users\\Nour Al-Hoda\\Anaconda3\\lib\\site-packages\\sklearn\\neural_network\\multilayer_perceptron.py:562: ConvergenceWarning: Stochastic Optimizer: Maximum iterations (200) reached and the optimization hasn't converged yet.\n",
      "  % self.max_iter, ConvergenceWarning)\n"
     ]
    },
    {
     "name": "stdout",
     "output_type": "stream",
     "text": [
      "Neural Net\n",
      "[[172   1]\n",
      " [  3   7]]\n",
      "0.8471098265895953\n",
      "Naive Bayes\n",
      "[[173   0]\n",
      " [ 10   0]]\n",
      "0.5\n",
      "AdaBoost\n",
      "[[171   2]\n",
      " [  5   5]]\n",
      "0.7442196531791908\n",
      "Gaussian Process\n",
      "[[173   0]\n",
      " [  6   4]]\n",
      "0.7\n"
     ]
    },
    {
     "name": "stderr",
     "output_type": "stream",
     "text": [
      "C:\\Users\\Nour Al-Hoda\\Anaconda3\\lib\\site-packages\\sklearn\\linear_model\\logistic.py:433: FutureWarning: Default solver will be changed to 'lbfgs' in 0.22. Specify a solver to silence this warning.\n",
      "  FutureWarning)\n"
     ]
    },
    {
     "name": "stdout",
     "output_type": "stream",
     "text": [
      "=================================================================\n",
      "Results for  240  PCA components\n",
      "=================================================================\n",
      "Logistic Regression\n",
      "[[170   3]\n",
      " [  4   6]]\n",
      "0.7913294797687862\n",
      "Nearest Neighbors\n",
      "[[173   0]\n",
      " [  4   6]]\n",
      "0.8\n",
      "Linear SVM\n",
      "[[169   4]\n",
      " [  5   5]]\n",
      "0.7384393063583816\n",
      "Gradient Boosting Classifier\n",
      "[[161  12]\n",
      " [  6   4]]\n",
      "0.6653179190751445\n",
      "Decision Tree\n",
      "[[159  14]\n",
      " [  4   6]]\n",
      "0.7595375722543354\n",
      "Random Forest\n",
      "[[164   9]\n",
      " [  7   3]]\n",
      "0.6239884393063584\n"
     ]
    },
    {
     "name": "stderr",
     "output_type": "stream",
     "text": [
      "C:\\Users\\Nour Al-Hoda\\Anaconda3\\lib\\site-packages\\sklearn\\neural_network\\multilayer_perceptron.py:562: ConvergenceWarning: Stochastic Optimizer: Maximum iterations (200) reached and the optimization hasn't converged yet.\n",
      "  % self.max_iter, ConvergenceWarning)\n"
     ]
    },
    {
     "name": "stdout",
     "output_type": "stream",
     "text": [
      "Neural Net\n",
      "[[172   1]\n",
      " [  3   7]]\n",
      "0.8471098265895953\n",
      "Naive Bayes\n",
      "[[173   0]\n",
      " [ 10   0]]\n",
      "0.5\n",
      "AdaBoost\n",
      "[[172   1]\n",
      " [  6   4]]\n",
      "0.6971098265895953\n",
      "Gaussian Process\n",
      "[[173   0]\n",
      " [  6   4]]\n",
      "0.7\n",
      "=================================================================\n",
      "Results for  255  PCA components\n",
      "=================================================================\n",
      "Logistic Regression\n",
      "[[170   3]\n",
      " [  3   7]]\n",
      "0.841329479768786\n",
      "Nearest Neighbors\n",
      "[[173   0]\n",
      " [  4   6]]\n",
      "0.8\n",
      "Linear SVM\n",
      "[[169   4]\n",
      " [  5   5]]\n",
      "0.7384393063583816\n"
     ]
    },
    {
     "name": "stderr",
     "output_type": "stream",
     "text": [
      "C:\\Users\\Nour Al-Hoda\\Anaconda3\\lib\\site-packages\\sklearn\\linear_model\\logistic.py:433: FutureWarning: Default solver will be changed to 'lbfgs' in 0.22. Specify a solver to silence this warning.\n",
      "  FutureWarning)\n"
     ]
    },
    {
     "name": "stdout",
     "output_type": "stream",
     "text": [
      "Gradient Boosting Classifier\n",
      "[[162  11]\n",
      " [  6   4]]\n",
      "0.6682080924855491\n",
      "Decision Tree\n",
      "[[157  16]\n",
      " [  4   6]]\n",
      "0.7537572254335261\n",
      "Random Forest\n",
      "[[166   7]\n",
      " [  7   3]]\n",
      "0.6297687861271676\n"
     ]
    },
    {
     "name": "stderr",
     "output_type": "stream",
     "text": [
      "C:\\Users\\Nour Al-Hoda\\Anaconda3\\lib\\site-packages\\sklearn\\neural_network\\multilayer_perceptron.py:562: ConvergenceWarning: Stochastic Optimizer: Maximum iterations (200) reached and the optimization hasn't converged yet.\n",
      "  % self.max_iter, ConvergenceWarning)\n"
     ]
    },
    {
     "name": "stdout",
     "output_type": "stream",
     "text": [
      "Neural Net\n",
      "[[173   0]\n",
      " [  3   7]]\n",
      "0.85\n",
      "Naive Bayes\n",
      "[[173   0]\n",
      " [ 10   0]]\n",
      "0.5\n",
      "AdaBoost\n",
      "[[173   0]\n",
      " [  7   3]]\n",
      "0.65\n",
      "Gaussian Process\n",
      "[[173   0]\n",
      " [  6   4]]\n",
      "0.7\n",
      "=================================================================\n",
      "Results for  270  PCA components\n",
      "=================================================================\n",
      "Logistic Regression\n",
      "[[170   3]\n",
      " [  3   7]]\n",
      "0.841329479768786\n",
      "Nearest Neighbors\n",
      "[[172   1]\n",
      " [  4   6]]\n",
      "0.7971098265895954\n",
      "Linear SVM\n",
      "[[169   4]\n",
      " [  5   5]]\n",
      "0.7384393063583816\n"
     ]
    },
    {
     "name": "stderr",
     "output_type": "stream",
     "text": [
      "C:\\Users\\Nour Al-Hoda\\Anaconda3\\lib\\site-packages\\sklearn\\linear_model\\logistic.py:433: FutureWarning: Default solver will be changed to 'lbfgs' in 0.22. Specify a solver to silence this warning.\n",
      "  FutureWarning)\n"
     ]
    },
    {
     "name": "stdout",
     "output_type": "stream",
     "text": [
      "Gradient Boosting Classifier\n",
      "[[162  11]\n",
      " [  6   4]]\n",
      "0.6682080924855491\n",
      "Decision Tree\n",
      "[[158  15]\n",
      " [  3   7]]\n",
      "0.8066473988439306\n",
      "Random Forest\n",
      "[[163  10]\n",
      " [  7   3]]\n",
      "0.6210982658959537\n"
     ]
    },
    {
     "name": "stderr",
     "output_type": "stream",
     "text": [
      "C:\\Users\\Nour Al-Hoda\\Anaconda3\\lib\\site-packages\\sklearn\\neural_network\\multilayer_perceptron.py:562: ConvergenceWarning: Stochastic Optimizer: Maximum iterations (200) reached and the optimization hasn't converged yet.\n",
      "  % self.max_iter, ConvergenceWarning)\n"
     ]
    },
    {
     "name": "stdout",
     "output_type": "stream",
     "text": [
      "Neural Net\n",
      "[[172   1]\n",
      " [  3   7]]\n",
      "0.8471098265895953\n",
      "Naive Bayes\n",
      "[[173   0]\n",
      " [ 10   0]]\n",
      "0.5\n",
      "AdaBoost\n",
      "[[173   0]\n",
      " [  6   4]]\n",
      "0.7\n",
      "Gaussian Process\n",
      "[[173   0]\n",
      " [  6   4]]\n",
      "0.7\n",
      "=================================================================\n",
      "Results for  285  PCA components\n",
      "=================================================================\n",
      "Logistic Regression\n",
      "[[170   3]\n",
      " [  3   7]]\n",
      "0.841329479768786\n",
      "Nearest Neighbors\n",
      "[[172   1]\n",
      " [  4   6]]\n",
      "0.7971098265895954\n",
      "Linear SVM\n",
      "[[169   4]\n",
      " [  5   5]]\n",
      "0.7384393063583816\n"
     ]
    },
    {
     "name": "stderr",
     "output_type": "stream",
     "text": [
      "C:\\Users\\Nour Al-Hoda\\Anaconda3\\lib\\site-packages\\sklearn\\linear_model\\logistic.py:433: FutureWarning: Default solver will be changed to 'lbfgs' in 0.22. Specify a solver to silence this warning.\n",
      "  FutureWarning)\n"
     ]
    },
    {
     "name": "stdout",
     "output_type": "stream",
     "text": [
      "Gradient Boosting Classifier\n",
      "[[162  11]\n",
      " [  6   4]]\n",
      "0.6682080924855491\n",
      "Decision Tree\n",
      "[[161  12]\n",
      " [  4   6]]\n",
      "0.7653179190751446\n",
      "Random Forest\n",
      "[[166   7]\n",
      " [  7   3]]\n",
      "0.6297687861271676\n"
     ]
    },
    {
     "name": "stderr",
     "output_type": "stream",
     "text": [
      "C:\\Users\\Nour Al-Hoda\\Anaconda3\\lib\\site-packages\\sklearn\\neural_network\\multilayer_perceptron.py:562: ConvergenceWarning: Stochastic Optimizer: Maximum iterations (200) reached and the optimization hasn't converged yet.\n",
      "  % self.max_iter, ConvergenceWarning)\n"
     ]
    },
    {
     "name": "stdout",
     "output_type": "stream",
     "text": [
      "Neural Net\n",
      "[[173   0]\n",
      " [  3   7]]\n",
      "0.85\n",
      "Naive Bayes\n",
      "[[173   0]\n",
      " [ 10   0]]\n",
      "0.5\n",
      "AdaBoost\n",
      "[[173   0]\n",
      " [  5   5]]\n",
      "0.75\n",
      "Gaussian Process\n",
      "[[173   0]\n",
      " [  6   4]]\n",
      "0.7\n",
      "=================================================================\n",
      "Results for  300  PCA components\n",
      "=================================================================\n",
      "Logistic Regression\n",
      "[[170   3]\n",
      " [  3   7]]\n",
      "0.841329479768786\n",
      "Nearest Neighbors\n",
      "[[172   1]\n",
      " [  4   6]]\n",
      "0.7971098265895954\n",
      "Linear SVM\n",
      "[[169   4]\n",
      " [  5   5]]\n",
      "0.7384393063583816\n"
     ]
    },
    {
     "name": "stderr",
     "output_type": "stream",
     "text": [
      "C:\\Users\\Nour Al-Hoda\\Anaconda3\\lib\\site-packages\\sklearn\\linear_model\\logistic.py:433: FutureWarning: Default solver will be changed to 'lbfgs' in 0.22. Specify a solver to silence this warning.\n",
      "  FutureWarning)\n"
     ]
    },
    {
     "name": "stdout",
     "output_type": "stream",
     "text": [
      "Gradient Boosting Classifier\n",
      "[[163  10]\n",
      " [  6   4]]\n",
      "0.6710982658959538\n",
      "Decision Tree\n",
      "[[162  11]\n",
      " [  4   6]]\n",
      "0.7682080924855492\n",
      "Random Forest\n",
      "[[164   9]\n",
      " [  7   3]]\n",
      "0.6239884393063584\n"
     ]
    },
    {
     "name": "stderr",
     "output_type": "stream",
     "text": [
      "C:\\Users\\Nour Al-Hoda\\Anaconda3\\lib\\site-packages\\sklearn\\neural_network\\multilayer_perceptron.py:562: ConvergenceWarning: Stochastic Optimizer: Maximum iterations (200) reached and the optimization hasn't converged yet.\n",
      "  % self.max_iter, ConvergenceWarning)\n"
     ]
    },
    {
     "name": "stdout",
     "output_type": "stream",
     "text": [
      "Neural Net\n",
      "[[172   1]\n",
      " [  3   7]]\n",
      "0.8471098265895953\n",
      "Naive Bayes\n",
      "[[173   0]\n",
      " [ 10   0]]\n",
      "0.5\n",
      "AdaBoost\n",
      "[[172   1]\n",
      " [  5   5]]\n",
      "0.7471098265895952\n",
      "Gaussian Process\n",
      "[[173   0]\n",
      " [  6   4]]\n",
      "0.7\n",
      "=================================================================\n",
      "Results for  315  PCA components\n",
      "=================================================================\n",
      "Logistic Regression\n",
      "[[170   3]\n",
      " [  3   7]]\n",
      "0.841329479768786\n",
      "Nearest Neighbors\n",
      "[[172   1]\n",
      " [  4   6]]\n",
      "0.7971098265895954\n",
      "Linear SVM\n",
      "[[169   4]\n",
      " [  5   5]]\n",
      "0.7384393063583816\n"
     ]
    },
    {
     "name": "stderr",
     "output_type": "stream",
     "text": [
      "C:\\Users\\Nour Al-Hoda\\Anaconda3\\lib\\site-packages\\sklearn\\linear_model\\logistic.py:433: FutureWarning: Default solver will be changed to 'lbfgs' in 0.22. Specify a solver to silence this warning.\n",
      "  FutureWarning)\n"
     ]
    },
    {
     "name": "stdout",
     "output_type": "stream",
     "text": [
      "Gradient Boosting Classifier\n",
      "[[161  12]\n",
      " [  6   4]]\n",
      "0.6653179190751445\n",
      "Decision Tree\n",
      "[[163  10]\n",
      " [  4   6]]\n",
      "0.7710982658959539\n",
      "Random Forest\n",
      "[[164   9]\n",
      " [  7   3]]\n",
      "0.6239884393063584\n"
     ]
    },
    {
     "name": "stderr",
     "output_type": "stream",
     "text": [
      "C:\\Users\\Nour Al-Hoda\\Anaconda3\\lib\\site-packages\\sklearn\\neural_network\\multilayer_perceptron.py:562: ConvergenceWarning: Stochastic Optimizer: Maximum iterations (200) reached and the optimization hasn't converged yet.\n",
      "  % self.max_iter, ConvergenceWarning)\n"
     ]
    },
    {
     "name": "stdout",
     "output_type": "stream",
     "text": [
      "Neural Net\n",
      "[[172   1]\n",
      " [  3   7]]\n",
      "0.8471098265895953\n",
      "Naive Bayes\n",
      "[[173   0]\n",
      " [ 10   0]]\n",
      "0.5\n",
      "AdaBoost\n",
      "[[172   1]\n",
      " [  9   1]]\n",
      "0.5471098265895954\n",
      "Gaussian Process\n",
      "[[173   0]\n",
      " [  6   4]]\n",
      "0.7\n",
      "=================================================================\n",
      "Results for  330  PCA components\n",
      "=================================================================\n",
      "Logistic Regression\n",
      "[[170   3]\n",
      " [  3   7]]\n",
      "0.841329479768786\n",
      "Nearest Neighbors\n",
      "[[172   1]\n",
      " [  4   6]]\n",
      "0.7971098265895954\n",
      "Linear SVM\n",
      "[[169   4]\n",
      " [  5   5]]\n",
      "0.7384393063583816\n"
     ]
    },
    {
     "name": "stderr",
     "output_type": "stream",
     "text": [
      "C:\\Users\\Nour Al-Hoda\\Anaconda3\\lib\\site-packages\\sklearn\\linear_model\\logistic.py:433: FutureWarning: Default solver will be changed to 'lbfgs' in 0.22. Specify a solver to silence this warning.\n",
      "  FutureWarning)\n"
     ]
    },
    {
     "name": "stdout",
     "output_type": "stream",
     "text": [
      "Gradient Boosting Classifier\n",
      "[[162  11]\n",
      " [  6   4]]\n",
      "0.6682080924855491\n",
      "Decision Tree\n",
      "[[160  13]\n",
      " [  4   6]]\n",
      "0.7624277456647399\n",
      "Random Forest\n",
      "[[164   9]\n",
      " [  7   3]]\n",
      "0.6239884393063584\n"
     ]
    },
    {
     "name": "stderr",
     "output_type": "stream",
     "text": [
      "C:\\Users\\Nour Al-Hoda\\Anaconda3\\lib\\site-packages\\sklearn\\neural_network\\multilayer_perceptron.py:562: ConvergenceWarning: Stochastic Optimizer: Maximum iterations (200) reached and the optimization hasn't converged yet.\n",
      "  % self.max_iter, ConvergenceWarning)\n"
     ]
    },
    {
     "name": "stdout",
     "output_type": "stream",
     "text": [
      "Neural Net\n",
      "[[172   1]\n",
      " [  3   7]]\n",
      "0.8471098265895953\n",
      "Naive Bayes\n",
      "[[173   0]\n",
      " [ 10   0]]\n",
      "0.5\n",
      "AdaBoost\n",
      "[[172   1]\n",
      " [  4   6]]\n",
      "0.7971098265895954\n",
      "Gaussian Process\n",
      "[[173   0]\n",
      " [  6   4]]\n",
      "0.7\n",
      "=================================================================\n",
      "Results for  345  PCA components\n",
      "=================================================================\n",
      "Logistic Regression\n",
      "[[170   3]\n",
      " [  3   7]]\n",
      "0.841329479768786\n",
      "Nearest Neighbors\n",
      "[[172   1]\n",
      " [  4   6]]\n",
      "0.7971098265895954\n",
      "Linear SVM\n",
      "[[169   4]\n",
      " [  5   5]]\n",
      "0.7384393063583816\n"
     ]
    },
    {
     "name": "stderr",
     "output_type": "stream",
     "text": [
      "C:\\Users\\Nour Al-Hoda\\Anaconda3\\lib\\site-packages\\sklearn\\linear_model\\logistic.py:433: FutureWarning: Default solver will be changed to 'lbfgs' in 0.22. Specify a solver to silence this warning.\n",
      "  FutureWarning)\n"
     ]
    },
    {
     "name": "stdout",
     "output_type": "stream",
     "text": [
      "Gradient Boosting Classifier\n",
      "[[162  11]\n",
      " [  6   4]]\n",
      "0.6682080924855491\n",
      "Decision Tree\n",
      "[[164   9]\n",
      " [  4   6]]\n",
      "0.7739884393063584\n",
      "Random Forest\n",
      "[[166   7]\n",
      " [  7   3]]\n",
      "0.6297687861271676\n"
     ]
    },
    {
     "name": "stderr",
     "output_type": "stream",
     "text": [
      "C:\\Users\\Nour Al-Hoda\\Anaconda3\\lib\\site-packages\\sklearn\\neural_network\\multilayer_perceptron.py:562: ConvergenceWarning: Stochastic Optimizer: Maximum iterations (200) reached and the optimization hasn't converged yet.\n",
      "  % self.max_iter, ConvergenceWarning)\n"
     ]
    },
    {
     "name": "stdout",
     "output_type": "stream",
     "text": [
      "Neural Net\n",
      "[[173   0]\n",
      " [  3   7]]\n",
      "0.85\n",
      "Naive Bayes\n",
      "[[173   0]\n",
      " [ 10   0]]\n",
      "0.5\n",
      "AdaBoost\n",
      "[[173   0]\n",
      " [  6   4]]\n",
      "0.7\n",
      "Gaussian Process\n",
      "[[173   0]\n",
      " [  6   4]]\n",
      "0.7\n",
      "=================================================================\n",
      "Results for  360  PCA components\n",
      "=================================================================\n",
      "Logistic Regression\n",
      "[[170   3]\n",
      " [  3   7]]\n",
      "0.841329479768786\n",
      "Nearest Neighbors\n",
      "[[172   1]\n",
      " [  4   6]]\n",
      "0.7971098265895954\n",
      "Linear SVM\n",
      "[[169   4]\n",
      " [  5   5]]\n",
      "0.7384393063583816\n"
     ]
    },
    {
     "name": "stderr",
     "output_type": "stream",
     "text": [
      "C:\\Users\\Nour Al-Hoda\\Anaconda3\\lib\\site-packages\\sklearn\\linear_model\\logistic.py:433: FutureWarning: Default solver will be changed to 'lbfgs' in 0.22. Specify a solver to silence this warning.\n",
      "  FutureWarning)\n"
     ]
    },
    {
     "name": "stdout",
     "output_type": "stream",
     "text": [
      "Gradient Boosting Classifier\n",
      "[[162  11]\n",
      " [  6   4]]\n",
      "0.6682080924855491\n",
      "Decision Tree\n",
      "[[158  15]\n",
      " [  3   7]]\n",
      "0.8066473988439306\n",
      "Random Forest\n",
      "[[166   7]\n",
      " [  7   3]]\n",
      "0.6297687861271676\n",
      "Neural Net\n",
      "[[172   1]\n",
      " [  3   7]]\n",
      "0.8471098265895953\n",
      "Naive Bayes\n",
      "[[173   0]\n",
      " [ 10   0]]\n",
      "0.5\n",
      "AdaBoost\n",
      "[[173   0]\n",
      " [  9   1]]\n",
      "0.55\n",
      "Gaussian Process\n",
      "[[173   0]\n",
      " [  6   4]]\n",
      "0.7\n",
      "=================================================================\n",
      "=================================================================\n",
      "Results for  Mohamed EL-Tair\n",
      "(220, 2689)\n",
      "=================================================================\n",
      "=================================================================\n",
      "=================================================================\n",
      "Training 10 different classifiers on raw data\n",
      "=================================================================\n",
      "Logistic Regression\n",
      "[[67  3]\n",
      " [ 3  0]]\n",
      "0.4785714285714286\n"
     ]
    },
    {
     "name": "stderr",
     "output_type": "stream",
     "text": [
      "C:\\Users\\Nour Al-Hoda\\Anaconda3\\lib\\site-packages\\sklearn\\linear_model\\logistic.py:433: FutureWarning: Default solver will be changed to 'lbfgs' in 0.22. Specify a solver to silence this warning.\n",
      "  FutureWarning)\n"
     ]
    },
    {
     "name": "stdout",
     "output_type": "stream",
     "text": [
      "Nearest Neighbors\n",
      "[[70  0]\n",
      " [ 3  0]]\n",
      "0.5\n",
      "Linear SVM\n",
      "[[67  3]\n",
      " [ 3  0]]\n",
      "0.4785714285714286\n",
      "Gradient Boosting Classifier\n",
      "[[68  2]\n",
      " [ 3  0]]\n",
      "0.4857142857142857\n",
      "Decision Tree\n",
      "[[66  4]\n",
      " [ 3  0]]\n",
      "0.4714285714285714\n",
      "Random Forest\n",
      "[[70  0]\n",
      " [ 3  0]]\n",
      "0.5\n",
      "Neural Net\n",
      "[[70  0]\n",
      " [ 3  0]]\n",
      "0.5\n",
      "Naive Bayes\n",
      "[[28 42]\n",
      " [ 1  2]]\n",
      "0.5333333333333333\n",
      "AdaBoost\n",
      "[[67  3]\n",
      " [ 3  0]]\n",
      "0.4785714285714286\n",
      "Gaussian Process\n",
      "[[70  0]\n",
      " [ 3  0]]\n",
      "0.5\n",
      "(220, 2689)\n",
      "=================================================================\n",
      "Training 10 different classifiers on data after applying CAR filter\n",
      "=================================================================\n"
     ]
    },
    {
     "name": "stderr",
     "output_type": "stream",
     "text": [
      "C:\\Users\\Nour Al-Hoda\\Anaconda3\\lib\\site-packages\\sklearn\\linear_model\\logistic.py:433: FutureWarning: Default solver will be changed to 'lbfgs' in 0.22. Specify a solver to silence this warning.\n",
      "  FutureWarning)\n"
     ]
    },
    {
     "name": "stdout",
     "output_type": "stream",
     "text": [
      "Logistic Regression\n",
      "[[27 43]\n",
      " [ 0  3]]\n",
      "0.6928571428571428\n",
      "Nearest Neighbors\n",
      "[[70  0]\n",
      " [ 3  0]]\n",
      "0.5\n",
      "Linear SVM\n",
      "[[67  3]\n",
      " [ 3  0]]\n",
      "0.4785714285714286\n",
      "Gradient Boosting Classifier\n",
      "[[69  1]\n",
      " [ 3  0]]\n",
      "0.4928571428571429\n",
      "Decision Tree\n",
      "[[67  3]\n",
      " [ 3  0]]\n",
      "0.4785714285714286\n",
      "Random Forest\n",
      "[[70  0]\n",
      " [ 3  0]]\n",
      "0.5\n",
      "Neural Net\n",
      "[[50 20]\n",
      " [ 2  1]]\n",
      "0.5238095238095237\n",
      "Naive Bayes\n",
      "[[28 42]\n",
      " [ 1  2]]\n",
      "0.5333333333333333\n",
      "AdaBoost\n",
      "[[67  3]\n",
      " [ 3  0]]\n",
      "0.4785714285714286\n",
      "Gaussian Process\n",
      "[[70  0]\n",
      " [ 3  0]]\n",
      "0.5\n",
      "=================================================================\n",
      "Training 10 different classifiers, and different PCA components without CAR filter\n",
      "=================================================================\n",
      "=================================================================\n",
      "Results for  15  PCA components\n",
      "=================================================================\n",
      "Logistic Regression\n",
      "[[67  3]\n",
      " [ 3  0]]\n",
      "0.4785714285714286\n",
      "Nearest Neighbors\n",
      "[[68  2]\n",
      " [ 3  0]]\n",
      "0.4857142857142857\n",
      "Linear SVM\n",
      "[[70  0]\n",
      " [ 3  0]]\n",
      "0.5\n"
     ]
    },
    {
     "name": "stderr",
     "output_type": "stream",
     "text": [
      "C:\\Users\\Nour Al-Hoda\\Anaconda3\\lib\\site-packages\\sklearn\\linear_model\\logistic.py:433: FutureWarning: Default solver will be changed to 'lbfgs' in 0.22. Specify a solver to silence this warning.\n",
      "  FutureWarning)\n"
     ]
    },
    {
     "name": "stdout",
     "output_type": "stream",
     "text": [
      "Gradient Boosting Classifier\n",
      "[[67  3]\n",
      " [ 3  0]]\n",
      "0.4785714285714286\n",
      "Decision Tree\n",
      "[[63  7]\n",
      " [ 3  0]]\n",
      "0.45\n",
      "Random Forest\n",
      "[[69  1]\n",
      " [ 3  0]]\n",
      "0.4928571428571429\n"
     ]
    },
    {
     "name": "stderr",
     "output_type": "stream",
     "text": [
      "C:\\Users\\Nour Al-Hoda\\Anaconda3\\lib\\site-packages\\sklearn\\neural_network\\multilayer_perceptron.py:562: ConvergenceWarning: Stochastic Optimizer: Maximum iterations (200) reached and the optimization hasn't converged yet.\n",
      "  % self.max_iter, ConvergenceWarning)\n"
     ]
    },
    {
     "name": "stdout",
     "output_type": "stream",
     "text": [
      "Neural Net\n",
      "[[69  1]\n",
      " [ 3  0]]\n",
      "0.4928571428571429\n",
      "Naive Bayes\n",
      "[[66  4]\n",
      " [ 3  0]]\n",
      "0.4714285714285714\n",
      "AdaBoost\n",
      "[[65  5]\n",
      " [ 3  0]]\n",
      "0.4642857142857143\n",
      "Gaussian Process\n",
      "[[65  5]\n",
      " [ 3  0]]\n",
      "0.4642857142857143\n",
      "=================================================================\n",
      "Results for  30  PCA components\n",
      "=================================================================\n",
      "Logistic Regression\n",
      "[[65  5]\n",
      " [ 3  0]]\n",
      "0.4642857142857143\n",
      "Nearest Neighbors\n",
      "[[69  1]\n",
      " [ 3  0]]\n",
      "0.4928571428571429\n",
      "Linear SVM\n",
      "[[63  7]\n",
      " [ 3  0]]\n",
      "0.45\n"
     ]
    },
    {
     "name": "stderr",
     "output_type": "stream",
     "text": [
      "C:\\Users\\Nour Al-Hoda\\Anaconda3\\lib\\site-packages\\sklearn\\linear_model\\logistic.py:433: FutureWarning: Default solver will be changed to 'lbfgs' in 0.22. Specify a solver to silence this warning.\n",
      "  FutureWarning)\n"
     ]
    },
    {
     "name": "stdout",
     "output_type": "stream",
     "text": [
      "Gradient Boosting Classifier\n",
      "[[69  1]\n",
      " [ 3  0]]\n",
      "0.4928571428571429\n",
      "Decision Tree\n",
      "[[64  6]\n",
      " [ 2  1]]\n",
      "0.6238095238095237\n",
      "Random Forest\n",
      "[[70  0]\n",
      " [ 3  0]]\n",
      "0.5\n"
     ]
    },
    {
     "name": "stderr",
     "output_type": "stream",
     "text": [
      "C:\\Users\\Nour Al-Hoda\\Anaconda3\\lib\\site-packages\\sklearn\\neural_network\\multilayer_perceptron.py:562: ConvergenceWarning: Stochastic Optimizer: Maximum iterations (200) reached and the optimization hasn't converged yet.\n",
      "  % self.max_iter, ConvergenceWarning)\n"
     ]
    },
    {
     "name": "stdout",
     "output_type": "stream",
     "text": [
      "Neural Net\n",
      "[[66  4]\n",
      " [ 3  0]]\n",
      "0.4714285714285714\n",
      "Naive Bayes\n",
      "[[67  3]\n",
      " [ 3  0]]\n",
      "0.4785714285714286\n",
      "AdaBoost\n",
      "[[67  3]\n",
      " [ 3  0]]\n",
      "0.4785714285714286\n",
      "Gaussian Process\n",
      "[[67  3]\n",
      " [ 3  0]]\n",
      "0.4785714285714286\n",
      "=================================================================\n",
      "Results for  45  PCA components\n",
      "=================================================================\n",
      "Logistic Regression\n",
      "[[64  6]\n",
      " [ 3  0]]\n",
      "0.45714285714285713\n",
      "Nearest Neighbors\n",
      "[[70  0]\n",
      " [ 3  0]]\n",
      "0.5\n",
      "Linear SVM\n",
      "[[64  6]\n",
      " [ 3  0]]\n",
      "0.45714285714285713\n"
     ]
    },
    {
     "name": "stderr",
     "output_type": "stream",
     "text": [
      "C:\\Users\\Nour Al-Hoda\\Anaconda3\\lib\\site-packages\\sklearn\\linear_model\\logistic.py:433: FutureWarning: Default solver will be changed to 'lbfgs' in 0.22. Specify a solver to silence this warning.\n",
      "  FutureWarning)\n"
     ]
    },
    {
     "name": "stdout",
     "output_type": "stream",
     "text": [
      "Gradient Boosting Classifier\n",
      "[[69  1]\n",
      " [ 3  0]]\n",
      "0.4928571428571429\n",
      "Decision Tree\n",
      "[[63  7]\n",
      " [ 3  0]]\n",
      "0.45\n",
      "Random Forest\n",
      "[[69  1]\n",
      " [ 3  0]]\n",
      "0.4928571428571429\n"
     ]
    },
    {
     "name": "stderr",
     "output_type": "stream",
     "text": [
      "C:\\Users\\Nour Al-Hoda\\Anaconda3\\lib\\site-packages\\sklearn\\neural_network\\multilayer_perceptron.py:562: ConvergenceWarning: Stochastic Optimizer: Maximum iterations (200) reached and the optimization hasn't converged yet.\n",
      "  % self.max_iter, ConvergenceWarning)\n"
     ]
    },
    {
     "name": "stdout",
     "output_type": "stream",
     "text": [
      "Neural Net\n",
      "[[67  3]\n",
      " [ 3  0]]\n",
      "0.4785714285714286\n",
      "Naive Bayes\n",
      "[[65  5]\n",
      " [ 3  0]]\n",
      "0.4642857142857143\n",
      "AdaBoost\n",
      "[[68  2]\n",
      " [ 3  0]]\n",
      "0.4857142857142857\n",
      "Gaussian Process\n",
      "[[69  1]\n",
      " [ 3  0]]\n",
      "0.4928571428571429\n",
      "=================================================================\n",
      "Results for  60  PCA components\n",
      "=================================================================\n",
      "Logistic Regression\n",
      "[[62  8]\n",
      " [ 3  0]]\n",
      "0.44285714285714284\n",
      "Nearest Neighbors\n",
      "[[70  0]\n",
      " [ 3  0]]\n",
      "0.5\n",
      "Linear SVM\n",
      "[[63  7]\n",
      " [ 3  0]]\n",
      "0.45\n"
     ]
    },
    {
     "name": "stderr",
     "output_type": "stream",
     "text": [
      "C:\\Users\\Nour Al-Hoda\\Anaconda3\\lib\\site-packages\\sklearn\\linear_model\\logistic.py:433: FutureWarning: Default solver will be changed to 'lbfgs' in 0.22. Specify a solver to silence this warning.\n",
      "  FutureWarning)\n"
     ]
    },
    {
     "name": "stdout",
     "output_type": "stream",
     "text": [
      "Gradient Boosting Classifier\n",
      "[[67  3]\n",
      " [ 3  0]]\n",
      "0.4785714285714286\n",
      "Decision Tree\n",
      "[[65  5]\n",
      " [ 3  0]]\n",
      "0.4642857142857143\n",
      "Random Forest\n",
      "[[68  2]\n",
      " [ 3  0]]\n",
      "0.4857142857142857\n"
     ]
    },
    {
     "name": "stderr",
     "output_type": "stream",
     "text": [
      "C:\\Users\\Nour Al-Hoda\\Anaconda3\\lib\\site-packages\\sklearn\\neural_network\\multilayer_perceptron.py:562: ConvergenceWarning: Stochastic Optimizer: Maximum iterations (200) reached and the optimization hasn't converged yet.\n",
      "  % self.max_iter, ConvergenceWarning)\n"
     ]
    },
    {
     "name": "stdout",
     "output_type": "stream",
     "text": [
      "Neural Net\n",
      "[[68  2]\n",
      " [ 3  0]]\n",
      "0.4857142857142857\n",
      "Naive Bayes\n",
      "[[66  4]\n",
      " [ 3  0]]\n",
      "0.4714285714285714\n",
      "AdaBoost\n",
      "[[69  1]\n",
      " [ 3  0]]\n",
      "0.4928571428571429\n",
      "Gaussian Process\n",
      "[[67  3]\n",
      " [ 3  0]]\n",
      "0.4785714285714286\n",
      "=================================================================\n",
      "Results for  75  PCA components\n",
      "=================================================================\n",
      "Logistic Regression\n",
      "[[62  8]\n",
      " [ 3  0]]\n",
      "0.44285714285714284\n",
      "Nearest Neighbors\n",
      "[[70  0]\n",
      " [ 3  0]]\n",
      "0.5\n",
      "Linear SVM\n",
      "[[65  5]\n",
      " [ 3  0]]\n",
      "0.4642857142857143\n"
     ]
    },
    {
     "name": "stderr",
     "output_type": "stream",
     "text": [
      "C:\\Users\\Nour Al-Hoda\\Anaconda3\\lib\\site-packages\\sklearn\\linear_model\\logistic.py:433: FutureWarning: Default solver will be changed to 'lbfgs' in 0.22. Specify a solver to silence this warning.\n",
      "  FutureWarning)\n"
     ]
    },
    {
     "name": "stdout",
     "output_type": "stream",
     "text": [
      "Gradient Boosting Classifier\n",
      "[[65  5]\n",
      " [ 3  0]]\n",
      "0.4642857142857143\n",
      "Decision Tree\n",
      "[[67  3]\n",
      " [ 3  0]]\n",
      "0.4785714285714286\n",
      "Random Forest\n",
      "[[68  2]\n",
      " [ 3  0]]\n",
      "0.4857142857142857\n"
     ]
    },
    {
     "name": "stderr",
     "output_type": "stream",
     "text": [
      "C:\\Users\\Nour Al-Hoda\\Anaconda3\\lib\\site-packages\\sklearn\\neural_network\\multilayer_perceptron.py:562: ConvergenceWarning: Stochastic Optimizer: Maximum iterations (200) reached and the optimization hasn't converged yet.\n",
      "  % self.max_iter, ConvergenceWarning)\n"
     ]
    },
    {
     "name": "stdout",
     "output_type": "stream",
     "text": [
      "Neural Net\n",
      "[[68  2]\n",
      " [ 3  0]]\n",
      "0.4857142857142857\n",
      "Naive Bayes\n",
      "[[66  4]\n",
      " [ 3  0]]\n",
      "0.4714285714285714\n",
      "AdaBoost\n",
      "[[70  0]\n",
      " [ 3  0]]\n",
      "0.5\n",
      "Gaussian Process\n",
      "[[68  2]\n",
      " [ 3  0]]\n",
      "0.4857142857142857\n",
      "=================================================================\n",
      "Results for  90  PCA components\n",
      "=================================================================\n",
      "Logistic Regression\n",
      "[[60 10]\n",
      " [ 3  0]]\n",
      "0.4285714285714286\n",
      "Nearest Neighbors\n",
      "[[70  0]\n",
      " [ 3  0]]\n",
      "0.5\n",
      "Linear SVM\n",
      "[[64  6]\n",
      " [ 3  0]]\n",
      "0.45714285714285713\n"
     ]
    },
    {
     "name": "stderr",
     "output_type": "stream",
     "text": [
      "C:\\Users\\Nour Al-Hoda\\Anaconda3\\lib\\site-packages\\sklearn\\linear_model\\logistic.py:433: FutureWarning: Default solver will be changed to 'lbfgs' in 0.22. Specify a solver to silence this warning.\n",
      "  FutureWarning)\n"
     ]
    },
    {
     "name": "stdout",
     "output_type": "stream",
     "text": [
      "Gradient Boosting Classifier\n",
      "[[66  4]\n",
      " [ 3  0]]\n",
      "0.4714285714285714\n",
      "Decision Tree\n",
      "[[65  5]\n",
      " [ 3  0]]\n",
      "0.4642857142857143\n",
      "Random Forest\n",
      "[[68  2]\n",
      " [ 3  0]]\n",
      "0.4857142857142857\n"
     ]
    },
    {
     "name": "stderr",
     "output_type": "stream",
     "text": [
      "C:\\Users\\Nour Al-Hoda\\Anaconda3\\lib\\site-packages\\sklearn\\neural_network\\multilayer_perceptron.py:562: ConvergenceWarning: Stochastic Optimizer: Maximum iterations (200) reached and the optimization hasn't converged yet.\n",
      "  % self.max_iter, ConvergenceWarning)\n"
     ]
    },
    {
     "name": "stdout",
     "output_type": "stream",
     "text": [
      "Neural Net\n",
      "[[65  5]\n",
      " [ 3  0]]\n",
      "0.4642857142857143\n",
      "Naive Bayes\n",
      "[[69  1]\n",
      " [ 3  0]]\n",
      "0.4928571428571429\n",
      "AdaBoost\n",
      "[[69  1]\n",
      " [ 3  0]]\n",
      "0.4928571428571429\n",
      "Gaussian Process\n",
      "[[69  1]\n",
      " [ 3  0]]\n",
      "0.4928571428571429\n",
      "=================================================================\n",
      "Results for  105  PCA components\n",
      "=================================================================\n",
      "Logistic Regression\n",
      "[[61  9]\n",
      " [ 3  0]]\n",
      "0.4357142857142857\n",
      "Nearest Neighbors\n",
      "[[70  0]\n",
      " [ 3  0]]\n",
      "0.5\n",
      "Linear SVM\n",
      "[[66  4]\n",
      " [ 3  0]]\n",
      "0.4714285714285714\n"
     ]
    },
    {
     "name": "stderr",
     "output_type": "stream",
     "text": [
      "C:\\Users\\Nour Al-Hoda\\Anaconda3\\lib\\site-packages\\sklearn\\linear_model\\logistic.py:433: FutureWarning: Default solver will be changed to 'lbfgs' in 0.22. Specify a solver to silence this warning.\n",
      "  FutureWarning)\n"
     ]
    },
    {
     "name": "stdout",
     "output_type": "stream",
     "text": [
      "Gradient Boosting Classifier\n",
      "[[64  6]\n",
      " [ 3  0]]\n",
      "0.45714285714285713\n",
      "Decision Tree\n",
      "[[64  6]\n",
      " [ 3  0]]\n",
      "0.45714285714285713\n",
      "Random Forest\n",
      "[[68  2]\n",
      " [ 3  0]]\n",
      "0.4857142857142857\n"
     ]
    },
    {
     "name": "stderr",
     "output_type": "stream",
     "text": [
      "C:\\Users\\Nour Al-Hoda\\Anaconda3\\lib\\site-packages\\sklearn\\neural_network\\multilayer_perceptron.py:562: ConvergenceWarning: Stochastic Optimizer: Maximum iterations (200) reached and the optimization hasn't converged yet.\n",
      "  % self.max_iter, ConvergenceWarning)\n"
     ]
    },
    {
     "name": "stdout",
     "output_type": "stream",
     "text": [
      "Neural Net\n",
      "[[68  2]\n",
      " [ 3  0]]\n",
      "0.4857142857142857\n",
      "Naive Bayes\n",
      "[[69  1]\n",
      " [ 3  0]]\n",
      "0.4928571428571429\n",
      "AdaBoost\n",
      "[[69  1]\n",
      " [ 3  0]]\n",
      "0.4928571428571429\n",
      "Gaussian Process\n",
      "[[70  0]\n",
      " [ 3  0]]\n",
      "0.5\n",
      "=================================================================\n",
      "Results for  120  PCA components\n",
      "=================================================================\n",
      "Logistic Regression\n",
      "[[57 13]\n",
      " [ 3  0]]\n",
      "0.40714285714285714\n",
      "Nearest Neighbors\n",
      "[[70  0]\n",
      " [ 3  0]]\n",
      "0.5\n",
      "Linear SVM\n",
      "[[67  3]\n",
      " [ 3  0]]\n",
      "0.4785714285714286\n"
     ]
    },
    {
     "name": "stderr",
     "output_type": "stream",
     "text": [
      "C:\\Users\\Nour Al-Hoda\\Anaconda3\\lib\\site-packages\\sklearn\\linear_model\\logistic.py:433: FutureWarning: Default solver will be changed to 'lbfgs' in 0.22. Specify a solver to silence this warning.\n",
      "  FutureWarning)\n"
     ]
    },
    {
     "name": "stdout",
     "output_type": "stream",
     "text": [
      "Gradient Boosting Classifier\n",
      "[[65  5]\n",
      " [ 3  0]]\n",
      "0.4642857142857143\n",
      "Decision Tree\n",
      "[[63  7]\n",
      " [ 2  1]]\n",
      "0.6166666666666667\n",
      "Random Forest\n",
      "[[68  2]\n",
      " [ 3  0]]\n",
      "0.4857142857142857\n"
     ]
    },
    {
     "name": "stderr",
     "output_type": "stream",
     "text": [
      "C:\\Users\\Nour Al-Hoda\\Anaconda3\\lib\\site-packages\\sklearn\\neural_network\\multilayer_perceptron.py:562: ConvergenceWarning: Stochastic Optimizer: Maximum iterations (200) reached and the optimization hasn't converged yet.\n",
      "  % self.max_iter, ConvergenceWarning)\n"
     ]
    },
    {
     "name": "stdout",
     "output_type": "stream",
     "text": [
      "Neural Net\n",
      "[[70  0]\n",
      " [ 3  0]]\n",
      "0.5\n",
      "Naive Bayes\n",
      "[[70  0]\n",
      " [ 3  0]]\n",
      "0.5\n",
      "AdaBoost\n",
      "[[67  3]\n",
      " [ 3  0]]\n",
      "0.4785714285714286\n",
      "Gaussian Process\n",
      "[[70  0]\n",
      " [ 3  0]]\n",
      "0.5\n",
      "=================================================================\n",
      "Results for  135  PCA components\n",
      "=================================================================\n",
      "Logistic Regression\n",
      "[[59 11]\n",
      " [ 3  0]]\n",
      "0.42142857142857143\n",
      "Nearest Neighbors\n",
      "[[69  1]\n",
      " [ 3  0]]\n",
      "0.4928571428571429\n",
      "Linear SVM\n",
      "[[67  3]\n",
      " [ 3  0]]\n",
      "0.4785714285714286\n"
     ]
    },
    {
     "name": "stderr",
     "output_type": "stream",
     "text": [
      "C:\\Users\\Nour Al-Hoda\\Anaconda3\\lib\\site-packages\\sklearn\\linear_model\\logistic.py:433: FutureWarning: Default solver will be changed to 'lbfgs' in 0.22. Specify a solver to silence this warning.\n",
      "  FutureWarning)\n"
     ]
    },
    {
     "name": "stdout",
     "output_type": "stream",
     "text": [
      "Gradient Boosting Classifier\n",
      "[[65  5]\n",
      " [ 3  0]]\n",
      "0.4642857142857143\n",
      "Decision Tree\n",
      "[[66  4]\n",
      " [ 3  0]]\n",
      "0.4714285714285714\n",
      "Random Forest\n",
      "[[68  2]\n",
      " [ 3  0]]\n",
      "0.4857142857142857\n"
     ]
    },
    {
     "name": "stderr",
     "output_type": "stream",
     "text": [
      "C:\\Users\\Nour Al-Hoda\\Anaconda3\\lib\\site-packages\\sklearn\\neural_network\\multilayer_perceptron.py:562: ConvergenceWarning: Stochastic Optimizer: Maximum iterations (200) reached and the optimization hasn't converged yet.\n",
      "  % self.max_iter, ConvergenceWarning)\n"
     ]
    },
    {
     "name": "stdout",
     "output_type": "stream",
     "text": [
      "Neural Net\n",
      "[[64  6]\n",
      " [ 3  0]]\n",
      "0.45714285714285713\n",
      "Naive Bayes\n",
      "[[69  1]\n",
      " [ 3  0]]\n",
      "0.4928571428571429\n",
      "AdaBoost\n",
      "[[68  2]\n",
      " [ 3  0]]\n",
      "0.4857142857142857\n",
      "Gaussian Process\n",
      "[[70  0]\n",
      " [ 3  0]]\n",
      "0.5\n",
      "=================================================================\n",
      "Training 10 different classifiers, and different PCA components after CAR filter\n",
      "=================================================================\n",
      "=================================================================\n",
      "Results for  15  PCA components\n",
      "=================================================================\n",
      "Logistic Regression\n",
      "[[67  3]\n",
      " [ 3  0]]\n",
      "0.4785714285714286\n",
      "Nearest Neighbors\n",
      "[[68  2]\n",
      " [ 3  0]]\n",
      "0.4857142857142857\n",
      "Linear SVM\n",
      "[[70  0]\n",
      " [ 3  0]]\n",
      "0.5\n"
     ]
    },
    {
     "name": "stderr",
     "output_type": "stream",
     "text": [
      "C:\\Users\\Nour Al-Hoda\\Anaconda3\\lib\\site-packages\\sklearn\\linear_model\\logistic.py:433: FutureWarning: Default solver will be changed to 'lbfgs' in 0.22. Specify a solver to silence this warning.\n",
      "  FutureWarning)\n"
     ]
    },
    {
     "name": "stdout",
     "output_type": "stream",
     "text": [
      "Gradient Boosting Classifier\n",
      "[[66  4]\n",
      " [ 3  0]]\n",
      "0.4714285714285714\n",
      "Decision Tree\n",
      "[[65  5]\n",
      " [ 3  0]]\n",
      "0.4642857142857143\n",
      "Random Forest\n",
      "[[70  0]\n",
      " [ 3  0]]\n",
      "0.5\n"
     ]
    },
    {
     "name": "stderr",
     "output_type": "stream",
     "text": [
      "C:\\Users\\Nour Al-Hoda\\Anaconda3\\lib\\site-packages\\sklearn\\neural_network\\multilayer_perceptron.py:562: ConvergenceWarning: Stochastic Optimizer: Maximum iterations (200) reached and the optimization hasn't converged yet.\n",
      "  % self.max_iter, ConvergenceWarning)\n",
      "C:\\Users\\Nour Al-Hoda\\Anaconda3\\lib\\site-packages\\sklearn\\linear_model\\logistic.py:433: FutureWarning: Default solver will be changed to 'lbfgs' in 0.22. Specify a solver to silence this warning.\n",
      "  FutureWarning)\n"
     ]
    },
    {
     "name": "stdout",
     "output_type": "stream",
     "text": [
      "Neural Net\n",
      "[[67  3]\n",
      " [ 3  0]]\n",
      "0.4785714285714286\n",
      "Naive Bayes\n",
      "[[66  4]\n",
      " [ 3  0]]\n",
      "0.4714285714285714\n",
      "AdaBoost\n",
      "[[67  3]\n",
      " [ 3  0]]\n",
      "0.4785714285714286\n",
      "Gaussian Process\n",
      "[[65  5]\n",
      " [ 3  0]]\n",
      "0.4642857142857143\n",
      "=================================================================\n",
      "Results for  30  PCA components\n",
      "=================================================================\n",
      "Logistic Regression\n",
      "[[65  5]\n",
      " [ 3  0]]\n",
      "0.4642857142857143\n",
      "Nearest Neighbors\n",
      "[[69  1]\n",
      " [ 3  0]]\n",
      "0.4928571428571429\n",
      "Linear SVM\n",
      "[[63  7]\n",
      " [ 3  0]]\n",
      "0.45\n",
      "Gradient Boosting Classifier\n",
      "[[69  1]\n",
      " [ 3  0]]\n",
      "0.4928571428571429\n",
      "Decision Tree\n",
      "[[66  4]\n",
      " [ 2  1]]\n",
      "0.638095238095238\n",
      "Random Forest\n",
      "[[70  0]\n",
      " [ 3  0]]\n",
      "0.5\n"
     ]
    },
    {
     "name": "stderr",
     "output_type": "stream",
     "text": [
      "C:\\Users\\Nour Al-Hoda\\Anaconda3\\lib\\site-packages\\sklearn\\neural_network\\multilayer_perceptron.py:562: ConvergenceWarning: Stochastic Optimizer: Maximum iterations (200) reached and the optimization hasn't converged yet.\n",
      "  % self.max_iter, ConvergenceWarning)\n"
     ]
    },
    {
     "name": "stdout",
     "output_type": "stream",
     "text": [
      "Neural Net\n",
      "[[68  2]\n",
      " [ 3  0]]\n",
      "0.4857142857142857\n",
      "Naive Bayes\n",
      "[[66  4]\n",
      " [ 3  0]]\n",
      "0.4714285714285714\n",
      "AdaBoost\n",
      "[[65  5]\n",
      " [ 3  0]]\n",
      "0.4642857142857143\n",
      "Gaussian Process\n",
      "[[67  3]\n",
      " [ 3  0]]\n",
      "0.4785714285714286\n",
      "=================================================================\n",
      "Results for  45  PCA components\n",
      "=================================================================\n",
      "Logistic Regression\n",
      "[[64  6]\n",
      " [ 3  0]]\n",
      "0.45714285714285713\n",
      "Nearest Neighbors\n",
      "[[70  0]\n",
      " [ 3  0]]\n",
      "0.5\n",
      "Linear SVM\n",
      "[[64  6]\n",
      " [ 3  0]]\n",
      "0.45714285714285713\n"
     ]
    },
    {
     "name": "stderr",
     "output_type": "stream",
     "text": [
      "C:\\Users\\Nour Al-Hoda\\Anaconda3\\lib\\site-packages\\sklearn\\linear_model\\logistic.py:433: FutureWarning: Default solver will be changed to 'lbfgs' in 0.22. Specify a solver to silence this warning.\n",
      "  FutureWarning)\n"
     ]
    },
    {
     "name": "stdout",
     "output_type": "stream",
     "text": [
      "Gradient Boosting Classifier\n",
      "[[67  3]\n",
      " [ 3  0]]\n",
      "0.4785714285714286\n",
      "Decision Tree\n",
      "[[63  7]\n",
      " [ 3  0]]\n",
      "0.45\n",
      "Random Forest\n",
      "[[69  1]\n",
      " [ 3  0]]\n",
      "0.4928571428571429\n"
     ]
    },
    {
     "name": "stderr",
     "output_type": "stream",
     "text": [
      "C:\\Users\\Nour Al-Hoda\\Anaconda3\\lib\\site-packages\\sklearn\\neural_network\\multilayer_perceptron.py:562: ConvergenceWarning: Stochastic Optimizer: Maximum iterations (200) reached and the optimization hasn't converged yet.\n",
      "  % self.max_iter, ConvergenceWarning)\n"
     ]
    },
    {
     "name": "stdout",
     "output_type": "stream",
     "text": [
      "Neural Net\n",
      "[[67  3]\n",
      " [ 3  0]]\n",
      "0.4785714285714286\n",
      "Naive Bayes\n",
      "[[66  4]\n",
      " [ 3  0]]\n",
      "0.4714285714285714\n",
      "AdaBoost\n",
      "[[69  1]\n",
      " [ 3  0]]\n",
      "0.4928571428571429\n",
      "Gaussian Process\n",
      "[[68  2]\n",
      " [ 3  0]]\n",
      "0.4857142857142857\n",
      "=================================================================\n",
      "Results for  60  PCA components\n",
      "=================================================================\n",
      "Logistic Regression\n",
      "[[63  7]\n",
      " [ 3  0]]\n",
      "0.45\n",
      "Nearest Neighbors\n",
      "[[70  0]\n",
      " [ 3  0]]\n",
      "0.5\n",
      "Linear SVM\n",
      "[[63  7]\n",
      " [ 3  0]]\n",
      "0.45\n"
     ]
    },
    {
     "name": "stderr",
     "output_type": "stream",
     "text": [
      "C:\\Users\\Nour Al-Hoda\\Anaconda3\\lib\\site-packages\\sklearn\\linear_model\\logistic.py:433: FutureWarning: Default solver will be changed to 'lbfgs' in 0.22. Specify a solver to silence this warning.\n",
      "  FutureWarning)\n"
     ]
    },
    {
     "name": "stdout",
     "output_type": "stream",
     "text": [
      "Gradient Boosting Classifier\n",
      "[[66  4]\n",
      " [ 3  0]]\n",
      "0.4714285714285714\n",
      "Decision Tree\n",
      "[[65  5]\n",
      " [ 3  0]]\n",
      "0.4642857142857143\n",
      "Random Forest\n",
      "[[69  1]\n",
      " [ 3  0]]\n",
      "0.4928571428571429\n"
     ]
    },
    {
     "name": "stderr",
     "output_type": "stream",
     "text": [
      "C:\\Users\\Nour Al-Hoda\\Anaconda3\\lib\\site-packages\\sklearn\\neural_network\\multilayer_perceptron.py:562: ConvergenceWarning: Stochastic Optimizer: Maximum iterations (200) reached and the optimization hasn't converged yet.\n",
      "  % self.max_iter, ConvergenceWarning)\n"
     ]
    },
    {
     "name": "stdout",
     "output_type": "stream",
     "text": [
      "Neural Net\n",
      "[[67  3]\n",
      " [ 3  0]]\n",
      "0.4785714285714286\n",
      "Naive Bayes\n",
      "[[66  4]\n",
      " [ 3  0]]\n",
      "0.4714285714285714\n",
      "AdaBoost\n",
      "[[68  2]\n",
      " [ 3  0]]\n",
      "0.4857142857142857\n",
      "Gaussian Process\n",
      "[[68  2]\n",
      " [ 3  0]]\n",
      "0.4857142857142857\n",
      "=================================================================\n",
      "Results for  75  PCA components\n",
      "=================================================================\n",
      "Logistic Regression\n",
      "[[61  9]\n",
      " [ 3  0]]\n",
      "0.4357142857142857\n",
      "Nearest Neighbors\n",
      "[[70  0]\n",
      " [ 3  0]]\n",
      "0.5\n",
      "Linear SVM\n",
      "[[66  4]\n",
      " [ 3  0]]\n",
      "0.4714285714285714\n"
     ]
    },
    {
     "name": "stderr",
     "output_type": "stream",
     "text": [
      "C:\\Users\\Nour Al-Hoda\\Anaconda3\\lib\\site-packages\\sklearn\\linear_model\\logistic.py:433: FutureWarning: Default solver will be changed to 'lbfgs' in 0.22. Specify a solver to silence this warning.\n",
      "  FutureWarning)\n"
     ]
    },
    {
     "name": "stdout",
     "output_type": "stream",
     "text": [
      "Gradient Boosting Classifier\n",
      "[[65  5]\n",
      " [ 2  1]]\n",
      "0.6309523809523809\n",
      "Decision Tree\n",
      "[[63  7]\n",
      " [ 3  0]]\n",
      "0.45\n",
      "Random Forest\n",
      "[[68  2]\n",
      " [ 3  0]]\n",
      "0.4857142857142857\n"
     ]
    },
    {
     "name": "stderr",
     "output_type": "stream",
     "text": [
      "C:\\Users\\Nour Al-Hoda\\Anaconda3\\lib\\site-packages\\sklearn\\neural_network\\multilayer_perceptron.py:562: ConvergenceWarning: Stochastic Optimizer: Maximum iterations (200) reached and the optimization hasn't converged yet.\n",
      "  % self.max_iter, ConvergenceWarning)\n"
     ]
    },
    {
     "name": "stdout",
     "output_type": "stream",
     "text": [
      "Neural Net\n",
      "[[67  3]\n",
      " [ 3  0]]\n",
      "0.4785714285714286\n",
      "Naive Bayes\n",
      "[[66  4]\n",
      " [ 3  0]]\n",
      "0.4714285714285714\n",
      "AdaBoost\n",
      "[[69  1]\n",
      " [ 3  0]]\n",
      "0.4928571428571429\n",
      "Gaussian Process\n",
      "[[68  2]\n",
      " [ 3  0]]\n",
      "0.4857142857142857\n",
      "=================================================================\n",
      "Results for  90  PCA components\n",
      "=================================================================\n",
      "Logistic Regression\n",
      "[[60 10]\n",
      " [ 3  0]]\n",
      "0.4285714285714286\n",
      "Nearest Neighbors\n",
      "[[70  0]\n",
      " [ 3  0]]\n",
      "0.5\n",
      "Linear SVM\n",
      "[[66  4]\n",
      " [ 3  0]]\n",
      "0.4714285714285714\n"
     ]
    },
    {
     "name": "stderr",
     "output_type": "stream",
     "text": [
      "C:\\Users\\Nour Al-Hoda\\Anaconda3\\lib\\site-packages\\sklearn\\linear_model\\logistic.py:433: FutureWarning: Default solver will be changed to 'lbfgs' in 0.22. Specify a solver to silence this warning.\n",
      "  FutureWarning)\n"
     ]
    },
    {
     "name": "stdout",
     "output_type": "stream",
     "text": [
      "Gradient Boosting Classifier\n",
      "[[66  4]\n",
      " [ 3  0]]\n",
      "0.4714285714285714\n",
      "Decision Tree\n",
      "[[63  7]\n",
      " [ 3  0]]\n",
      "0.45\n",
      "Random Forest\n",
      "[[68  2]\n",
      " [ 3  0]]\n",
      "0.4857142857142857\n"
     ]
    },
    {
     "name": "stderr",
     "output_type": "stream",
     "text": [
      "C:\\Users\\Nour Al-Hoda\\Anaconda3\\lib\\site-packages\\sklearn\\neural_network\\multilayer_perceptron.py:562: ConvergenceWarning: Stochastic Optimizer: Maximum iterations (200) reached and the optimization hasn't converged yet.\n",
      "  % self.max_iter, ConvergenceWarning)\n"
     ]
    },
    {
     "name": "stdout",
     "output_type": "stream",
     "text": [
      "Neural Net\n",
      "[[67  3]\n",
      " [ 3  0]]\n",
      "0.4785714285714286\n",
      "Naive Bayes\n",
      "[[67  3]\n",
      " [ 3  0]]\n",
      "0.4785714285714286\n",
      "AdaBoost\n",
      "[[69  1]\n",
      " [ 3  0]]\n",
      "0.4928571428571429\n",
      "Gaussian Process\n",
      "[[70  0]\n",
      " [ 3  0]]\n",
      "0.5\n",
      "=================================================================\n",
      "Results for  105  PCA components\n",
      "=================================================================\n",
      "Logistic Regression\n",
      "[[59 11]\n",
      " [ 3  0]]\n",
      "0.42142857142857143\n",
      "Nearest Neighbors\n",
      "[[70  0]\n",
      " [ 3  0]]\n",
      "0.5\n",
      "Linear SVM\n",
      "[[65  5]\n",
      " [ 3  0]]\n",
      "0.4642857142857143\n"
     ]
    },
    {
     "name": "stderr",
     "output_type": "stream",
     "text": [
      "C:\\Users\\Nour Al-Hoda\\Anaconda3\\lib\\site-packages\\sklearn\\linear_model\\logistic.py:433: FutureWarning: Default solver will be changed to 'lbfgs' in 0.22. Specify a solver to silence this warning.\n",
      "  FutureWarning)\n"
     ]
    },
    {
     "name": "stdout",
     "output_type": "stream",
     "text": [
      "Gradient Boosting Classifier\n",
      "[[64  6]\n",
      " [ 3  0]]\n",
      "0.45714285714285713\n",
      "Decision Tree\n",
      "[[63  7]\n",
      " [ 2  1]]\n",
      "0.6166666666666667\n",
      "Random Forest\n",
      "[[68  2]\n",
      " [ 3  0]]\n",
      "0.4857142857142857\n"
     ]
    },
    {
     "name": "stderr",
     "output_type": "stream",
     "text": [
      "C:\\Users\\Nour Al-Hoda\\Anaconda3\\lib\\site-packages\\sklearn\\neural_network\\multilayer_perceptron.py:562: ConvergenceWarning: Stochastic Optimizer: Maximum iterations (200) reached and the optimization hasn't converged yet.\n",
      "  % self.max_iter, ConvergenceWarning)\n"
     ]
    },
    {
     "name": "stdout",
     "output_type": "stream",
     "text": [
      "Neural Net\n",
      "[[69  1]\n",
      " [ 3  0]]\n",
      "0.4928571428571429\n",
      "Naive Bayes\n",
      "[[70  0]\n",
      " [ 3  0]]\n",
      "0.5\n",
      "AdaBoost\n",
      "[[66  4]\n",
      " [ 3  0]]\n",
      "0.4714285714285714\n",
      "Gaussian Process\n",
      "[[69  1]\n",
      " [ 3  0]]\n",
      "0.4928571428571429\n",
      "=================================================================\n",
      "Results for  120  PCA components\n",
      "=================================================================\n",
      "Logistic Regression\n",
      "[[57 13]\n",
      " [ 3  0]]\n",
      "0.40714285714285714\n",
      "Nearest Neighbors\n",
      "[[70  0]\n",
      " [ 3  0]]\n",
      "0.5\n",
      "Linear SVM\n",
      "[[67  3]\n",
      " [ 3  0]]\n",
      "0.4785714285714286\n"
     ]
    },
    {
     "name": "stderr",
     "output_type": "stream",
     "text": [
      "C:\\Users\\Nour Al-Hoda\\Anaconda3\\lib\\site-packages\\sklearn\\linear_model\\logistic.py:433: FutureWarning: Default solver will be changed to 'lbfgs' in 0.22. Specify a solver to silence this warning.\n",
      "  FutureWarning)\n"
     ]
    },
    {
     "name": "stdout",
     "output_type": "stream",
     "text": [
      "Gradient Boosting Classifier\n",
      "[[64  6]\n",
      " [ 3  0]]\n",
      "0.45714285714285713\n",
      "Decision Tree\n",
      "[[67  3]\n",
      " [ 2  1]]\n",
      "0.6452380952380952\n",
      "Random Forest\n",
      "[[68  2]\n",
      " [ 3  0]]\n",
      "0.4857142857142857\n"
     ]
    },
    {
     "name": "stderr",
     "output_type": "stream",
     "text": [
      "C:\\Users\\Nour Al-Hoda\\Anaconda3\\lib\\site-packages\\sklearn\\neural_network\\multilayer_perceptron.py:562: ConvergenceWarning: Stochastic Optimizer: Maximum iterations (200) reached and the optimization hasn't converged yet.\n",
      "  % self.max_iter, ConvergenceWarning)\n"
     ]
    },
    {
     "name": "stdout",
     "output_type": "stream",
     "text": [
      "Neural Net\n",
      "[[65  5]\n",
      " [ 3  0]]\n",
      "0.4642857142857143\n",
      "Naive Bayes\n",
      "[[70  0]\n",
      " [ 3  0]]\n",
      "0.5\n",
      "AdaBoost\n",
      "[[67  3]\n",
      " [ 3  0]]\n",
      "0.4785714285714286\n",
      "Gaussian Process\n",
      "[[70  0]\n",
      " [ 3  0]]\n",
      "0.5\n",
      "=================================================================\n",
      "Results for  135  PCA components\n",
      "=================================================================\n",
      "Logistic Regression\n",
      "[[59 11]\n",
      " [ 3  0]]\n",
      "0.42142857142857143\n",
      "Nearest Neighbors\n",
      "[[69  1]\n",
      " [ 3  0]]\n",
      "0.4928571428571429\n",
      "Linear SVM\n",
      "[[67  3]\n",
      " [ 3  0]]\n",
      "0.4785714285714286\n"
     ]
    },
    {
     "name": "stderr",
     "output_type": "stream",
     "text": [
      "C:\\Users\\Nour Al-Hoda\\Anaconda3\\lib\\site-packages\\sklearn\\linear_model\\logistic.py:433: FutureWarning: Default solver will be changed to 'lbfgs' in 0.22. Specify a solver to silence this warning.\n",
      "  FutureWarning)\n"
     ]
    },
    {
     "name": "stdout",
     "output_type": "stream",
     "text": [
      "Gradient Boosting Classifier\n",
      "[[66  4]\n",
      " [ 3  0]]\n",
      "0.4714285714285714\n",
      "Decision Tree\n",
      "[[66  4]\n",
      " [ 2  1]]\n",
      "0.638095238095238\n",
      "Random Forest\n",
      "[[68  2]\n",
      " [ 3  0]]\n",
      "0.4857142857142857\n"
     ]
    },
    {
     "name": "stderr",
     "output_type": "stream",
     "text": [
      "C:\\Users\\Nour Al-Hoda\\Anaconda3\\lib\\site-packages\\sklearn\\neural_network\\multilayer_perceptron.py:562: ConvergenceWarning: Stochastic Optimizer: Maximum iterations (200) reached and the optimization hasn't converged yet.\n",
      "  % self.max_iter, ConvergenceWarning)\n"
     ]
    },
    {
     "name": "stdout",
     "output_type": "stream",
     "text": [
      "Neural Net\n",
      "[[68  2]\n",
      " [ 3  0]]\n",
      "0.4857142857142857\n",
      "Naive Bayes\n",
      "[[69  1]\n",
      " [ 3  0]]\n",
      "0.4928571428571429\n",
      "AdaBoost\n",
      "[[68  2]\n",
      " [ 3  0]]\n",
      "0.4857142857142857\n",
      "Gaussian Process\n",
      "[[70  0]\n",
      " [ 3  0]]\n",
      "0.5\n",
      "=================================================================\n",
      "=================================================================\n",
      "Results for  Mohamed Wagih\n",
      "(342, 2689)\n",
      "=================================================================\n",
      "=================================================================\n",
      "=================================================================\n",
      "Training 10 different classifiers on raw data\n",
      "=================================================================\n"
     ]
    },
    {
     "name": "stderr",
     "output_type": "stream",
     "text": [
      "C:\\Users\\Nour Al-Hoda\\Anaconda3\\lib\\site-packages\\sklearn\\linear_model\\logistic.py:433: FutureWarning: Default solver will be changed to 'lbfgs' in 0.22. Specify a solver to silence this warning.\n",
      "  FutureWarning)\n"
     ]
    },
    {
     "name": "stdout",
     "output_type": "stream",
     "text": [
      "Logistic Regression\n",
      "[[110   1]\n",
      " [  2   0]]\n",
      "0.4954954954954955\n",
      "Nearest Neighbors\n",
      "[[111   0]\n",
      " [  2   0]]\n",
      "0.5\n",
      "Linear SVM\n",
      "[[110   1]\n",
      " [  2   0]]\n",
      "0.4954954954954955\n",
      "Gradient Boosting Classifier\n",
      "[[108   3]\n",
      " [  2   0]]\n",
      "0.4864864864864865\n",
      "Decision Tree\n",
      "[[110   1]\n",
      " [  2   0]]\n",
      "0.4954954954954955\n",
      "Random Forest\n",
      "[[110   1]\n",
      " [  2   0]]\n",
      "0.4954954954954955\n",
      "Neural Net\n",
      "[[111   0]\n",
      " [  2   0]]\n",
      "0.5\n",
      "Naive Bayes\n",
      "[[108   3]\n",
      " [  2   0]]\n",
      "0.4864864864864865\n",
      "AdaBoost\n",
      "[[110   1]\n",
      " [  2   0]]\n",
      "0.4954954954954955\n",
      "Gaussian Process\n",
      "[[111   0]\n",
      " [  2   0]]\n",
      "0.5\n",
      "(342, 2689)\n",
      "=================================================================\n",
      "Training 10 different classifiers on data after applying CAR filter\n",
      "=================================================================\n"
     ]
    },
    {
     "name": "stderr",
     "output_type": "stream",
     "text": [
      "C:\\Users\\Nour Al-Hoda\\Anaconda3\\lib\\site-packages\\sklearn\\linear_model\\logistic.py:433: FutureWarning: Default solver will be changed to 'lbfgs' in 0.22. Specify a solver to silence this warning.\n",
      "  FutureWarning)\n"
     ]
    },
    {
     "name": "stdout",
     "output_type": "stream",
     "text": [
      "Logistic Regression\n",
      "[[45 66]\n",
      " [ 1  1]]\n",
      "0.45270270270270274\n",
      "Nearest Neighbors\n",
      "[[111   0]\n",
      " [  2   0]]\n",
      "0.5\n",
      "Linear SVM\n",
      "[[110   1]\n",
      " [  2   0]]\n",
      "0.4954954954954955\n",
      "Gradient Boosting Classifier\n",
      "[[108   3]\n",
      " [  2   0]]\n",
      "0.4864864864864865\n",
      "Decision Tree\n",
      "[[108   3]\n",
      " [  2   0]]\n",
      "0.4864864864864865\n",
      "Random Forest\n",
      "[[110   1]\n",
      " [  2   0]]\n",
      "0.4954954954954955\n"
     ]
    },
    {
     "name": "stderr",
     "output_type": "stream",
     "text": [
      "C:\\Users\\Nour Al-Hoda\\Anaconda3\\lib\\site-packages\\sklearn\\neural_network\\multilayer_perceptron.py:562: ConvergenceWarning: Stochastic Optimizer: Maximum iterations (200) reached and the optimization hasn't converged yet.\n",
      "  % self.max_iter, ConvergenceWarning)\n"
     ]
    },
    {
     "name": "stdout",
     "output_type": "stream",
     "text": [
      "Neural Net\n",
      "[[107   4]\n",
      " [  2   0]]\n",
      "0.481981981981982\n",
      "Naive Bayes\n",
      "[[108   3]\n",
      " [  2   0]]\n",
      "0.4864864864864865\n",
      "AdaBoost\n",
      "[[111   0]\n",
      " [  2   0]]\n",
      "0.5\n",
      "Gaussian Process\n",
      "[[111   0]\n",
      " [  2   0]]\n",
      "0.5\n",
      "=================================================================\n",
      "Training 10 different classifiers, and different PCA components without CAR filter\n",
      "=================================================================\n",
      "=================================================================\n",
      "Results for  15  PCA components\n",
      "=================================================================\n",
      "Logistic Regression\n",
      "[[109   2]\n",
      " [  2   0]]\n",
      "0.49099099099099097\n",
      "Nearest Neighbors\n",
      "[[111   0]\n",
      " [  2   0]]\n",
      "0.5\n",
      "Linear SVM\n",
      "[[109   2]\n",
      " [  2   0]]\n",
      "0.49099099099099097\n"
     ]
    },
    {
     "name": "stderr",
     "output_type": "stream",
     "text": [
      "C:\\Users\\Nour Al-Hoda\\Anaconda3\\lib\\site-packages\\sklearn\\linear_model\\logistic.py:433: FutureWarning: Default solver will be changed to 'lbfgs' in 0.22. Specify a solver to silence this warning.\n",
      "  FutureWarning)\n"
     ]
    },
    {
     "name": "stdout",
     "output_type": "stream",
     "text": [
      "Gradient Boosting Classifier\n",
      "[[109   2]\n",
      " [  2   0]]\n",
      "0.49099099099099097\n",
      "Decision Tree\n",
      "[[109   2]\n",
      " [  2   0]]\n",
      "0.49099099099099097\n",
      "Random Forest\n",
      "[[110   1]\n",
      " [  2   0]]\n",
      "0.4954954954954955\n"
     ]
    },
    {
     "name": "stderr",
     "output_type": "stream",
     "text": [
      "C:\\Users\\Nour Al-Hoda\\Anaconda3\\lib\\site-packages\\sklearn\\neural_network\\multilayer_perceptron.py:562: ConvergenceWarning: Stochastic Optimizer: Maximum iterations (200) reached and the optimization hasn't converged yet.\n",
      "  % self.max_iter, ConvergenceWarning)\n"
     ]
    },
    {
     "name": "stdout",
     "output_type": "stream",
     "text": [
      "Neural Net\n",
      "[[110   1]\n",
      " [  2   0]]\n",
      "0.4954954954954955\n",
      "Naive Bayes\n",
      "[[109   2]\n",
      " [  2   0]]\n",
      "0.49099099099099097\n",
      "AdaBoost\n",
      "[[108   3]\n",
      " [  2   0]]\n",
      "0.4864864864864865\n",
      "Gaussian Process\n",
      "[[110   1]\n",
      " [  2   0]]\n",
      "0.4954954954954955\n",
      "=================================================================\n",
      "Results for  30  PCA components\n",
      "=================================================================\n",
      "Logistic Regression\n",
      "[[111   0]\n",
      " [  2   0]]\n",
      "0.5\n",
      "Nearest Neighbors\n",
      "[[111   0]\n",
      " [  2   0]]\n",
      "0.5\n",
      "Linear SVM\n",
      "[[110   1]\n",
      " [  2   0]]\n",
      "0.4954954954954955\n"
     ]
    },
    {
     "name": "stderr",
     "output_type": "stream",
     "text": [
      "C:\\Users\\Nour Al-Hoda\\Anaconda3\\lib\\site-packages\\sklearn\\linear_model\\logistic.py:433: FutureWarning: Default solver will be changed to 'lbfgs' in 0.22. Specify a solver to silence this warning.\n",
      "  FutureWarning)\n"
     ]
    },
    {
     "name": "stdout",
     "output_type": "stream",
     "text": [
      "Gradient Boosting Classifier\n",
      "[[110   1]\n",
      " [  2   0]]\n",
      "0.4954954954954955\n",
      "Decision Tree\n",
      "[[109   2]\n",
      " [  2   0]]\n",
      "0.49099099099099097\n",
      "Random Forest\n",
      "[[111   0]\n",
      " [  2   0]]\n",
      "0.5\n"
     ]
    },
    {
     "name": "stderr",
     "output_type": "stream",
     "text": [
      "C:\\Users\\Nour Al-Hoda\\Anaconda3\\lib\\site-packages\\sklearn\\neural_network\\multilayer_perceptron.py:562: ConvergenceWarning: Stochastic Optimizer: Maximum iterations (200) reached and the optimization hasn't converged yet.\n",
      "  % self.max_iter, ConvergenceWarning)\n"
     ]
    },
    {
     "name": "stdout",
     "output_type": "stream",
     "text": [
      "Neural Net\n",
      "[[110   1]\n",
      " [  2   0]]\n",
      "0.4954954954954955\n",
      "Naive Bayes\n",
      "[[107   4]\n",
      " [  2   0]]\n",
      "0.481981981981982\n",
      "AdaBoost\n",
      "[[110   1]\n",
      " [  2   0]]\n",
      "0.4954954954954955\n",
      "Gaussian Process\n",
      "[[110   1]\n",
      " [  2   0]]\n",
      "0.4954954954954955\n",
      "=================================================================\n",
      "Results for  45  PCA components\n",
      "=================================================================\n",
      "Logistic Regression\n",
      "[[110   1]\n",
      " [  2   0]]\n",
      "0.4954954954954955\n",
      "Nearest Neighbors\n",
      "[[111   0]\n",
      " [  2   0]]\n",
      "0.5\n",
      "Linear SVM\n",
      "[[110   1]\n",
      " [  2   0]]\n",
      "0.4954954954954955\n"
     ]
    },
    {
     "name": "stderr",
     "output_type": "stream",
     "text": [
      "C:\\Users\\Nour Al-Hoda\\Anaconda3\\lib\\site-packages\\sklearn\\linear_model\\logistic.py:433: FutureWarning: Default solver will be changed to 'lbfgs' in 0.22. Specify a solver to silence this warning.\n",
      "  FutureWarning)\n"
     ]
    },
    {
     "name": "stdout",
     "output_type": "stream",
     "text": [
      "Gradient Boosting Classifier\n",
      "[[109   2]\n",
      " [  2   0]]\n",
      "0.49099099099099097\n",
      "Decision Tree\n",
      "[[109   2]\n",
      " [  2   0]]\n",
      "0.49099099099099097\n",
      "Random Forest\n",
      "[[111   0]\n",
      " [  2   0]]\n",
      "0.5\n"
     ]
    },
    {
     "name": "stderr",
     "output_type": "stream",
     "text": [
      "C:\\Users\\Nour Al-Hoda\\Anaconda3\\lib\\site-packages\\sklearn\\neural_network\\multilayer_perceptron.py:562: ConvergenceWarning: Stochastic Optimizer: Maximum iterations (200) reached and the optimization hasn't converged yet.\n",
      "  % self.max_iter, ConvergenceWarning)\n"
     ]
    },
    {
     "name": "stdout",
     "output_type": "stream",
     "text": [
      "Neural Net\n",
      "[[110   1]\n",
      " [  2   0]]\n",
      "0.4954954954954955\n",
      "Naive Bayes\n",
      "[[106   5]\n",
      " [  2   0]]\n",
      "0.4774774774774775\n",
      "AdaBoost\n",
      "[[111   0]\n",
      " [  2   0]]\n",
      "0.5\n",
      "Gaussian Process\n",
      "[[110   1]\n",
      " [  2   0]]\n",
      "0.4954954954954955\n",
      "=================================================================\n",
      "Results for  60  PCA components\n",
      "=================================================================\n",
      "Logistic Regression\n",
      "[[110   1]\n",
      " [  2   0]]\n",
      "0.4954954954954955\n",
      "Nearest Neighbors\n",
      "[[111   0]\n",
      " [  2   0]]\n",
      "0.5\n",
      "Linear SVM\n",
      "[[110   1]\n",
      " [  2   0]]\n",
      "0.4954954954954955\n"
     ]
    },
    {
     "name": "stderr",
     "output_type": "stream",
     "text": [
      "C:\\Users\\Nour Al-Hoda\\Anaconda3\\lib\\site-packages\\sklearn\\linear_model\\logistic.py:433: FutureWarning: Default solver will be changed to 'lbfgs' in 0.22. Specify a solver to silence this warning.\n",
      "  FutureWarning)\n"
     ]
    },
    {
     "name": "stdout",
     "output_type": "stream",
     "text": [
      "Gradient Boosting Classifier\n",
      "[[108   3]\n",
      " [  2   0]]\n",
      "0.4864864864864865\n",
      "Decision Tree\n",
      "[[108   3]\n",
      " [  2   0]]\n",
      "0.4864864864864865\n",
      "Random Forest\n",
      "[[111   0]\n",
      " [  2   0]]\n",
      "0.5\n"
     ]
    },
    {
     "name": "stderr",
     "output_type": "stream",
     "text": [
      "C:\\Users\\Nour Al-Hoda\\Anaconda3\\lib\\site-packages\\sklearn\\neural_network\\multilayer_perceptron.py:562: ConvergenceWarning: Stochastic Optimizer: Maximum iterations (200) reached and the optimization hasn't converged yet.\n",
      "  % self.max_iter, ConvergenceWarning)\n"
     ]
    },
    {
     "name": "stdout",
     "output_type": "stream",
     "text": [
      "Neural Net\n",
      "[[110   1]\n",
      " [  2   0]]\n",
      "0.4954954954954955\n",
      "Naive Bayes\n",
      "[[105   6]\n",
      " [  2   0]]\n",
      "0.47297297297297297\n",
      "AdaBoost\n",
      "[[111   0]\n",
      " [  2   0]]\n",
      "0.5\n",
      "Gaussian Process\n",
      "[[111   0]\n",
      " [  2   0]]\n",
      "0.5\n",
      "=================================================================\n",
      "Results for  75  PCA components\n",
      "=================================================================\n",
      "Logistic Regression\n",
      "[[109   2]\n",
      " [  2   0]]\n",
      "0.49099099099099097\n",
      "Nearest Neighbors\n",
      "[[111   0]\n",
      " [  2   0]]\n",
      "0.5\n",
      "Linear SVM\n",
      "[[109   2]\n",
      " [  2   0]]\n",
      "0.49099099099099097\n"
     ]
    },
    {
     "name": "stderr",
     "output_type": "stream",
     "text": [
      "C:\\Users\\Nour Al-Hoda\\Anaconda3\\lib\\site-packages\\sklearn\\linear_model\\logistic.py:433: FutureWarning: Default solver will be changed to 'lbfgs' in 0.22. Specify a solver to silence this warning.\n",
      "  FutureWarning)\n"
     ]
    },
    {
     "name": "stdout",
     "output_type": "stream",
     "text": [
      "Gradient Boosting Classifier\n",
      "[[108   3]\n",
      " [  2   0]]\n",
      "0.4864864864864865\n",
      "Decision Tree\n",
      "[[106   5]\n",
      " [  2   0]]\n",
      "0.4774774774774775\n",
      "Random Forest\n",
      "[[111   0]\n",
      " [  2   0]]\n",
      "0.5\n"
     ]
    },
    {
     "name": "stderr",
     "output_type": "stream",
     "text": [
      "C:\\Users\\Nour Al-Hoda\\Anaconda3\\lib\\site-packages\\sklearn\\neural_network\\multilayer_perceptron.py:562: ConvergenceWarning: Stochastic Optimizer: Maximum iterations (200) reached and the optimization hasn't converged yet.\n",
      "  % self.max_iter, ConvergenceWarning)\n"
     ]
    },
    {
     "name": "stdout",
     "output_type": "stream",
     "text": [
      "Neural Net\n",
      "[[110   1]\n",
      " [  2   0]]\n",
      "0.4954954954954955\n",
      "Naive Bayes\n",
      "[[108   3]\n",
      " [  2   0]]\n",
      "0.4864864864864865\n",
      "AdaBoost\n",
      "[[110   1]\n",
      " [  2   0]]\n",
      "0.4954954954954955\n",
      "Gaussian Process\n",
      "[[111   0]\n",
      " [  2   0]]\n",
      "0.5\n",
      "=================================================================\n",
      "Results for  90  PCA components\n",
      "=================================================================\n",
      "Logistic Regression\n",
      "[[109   2]\n",
      " [  2   0]]\n"
     ]
    },
    {
     "name": "stderr",
     "output_type": "stream",
     "text": [
      "C:\\Users\\Nour Al-Hoda\\Anaconda3\\lib\\site-packages\\sklearn\\linear_model\\logistic.py:433: FutureWarning: Default solver will be changed to 'lbfgs' in 0.22. Specify a solver to silence this warning.\n",
      "  FutureWarning)\n"
     ]
    },
    {
     "name": "stdout",
     "output_type": "stream",
     "text": [
      "0.49099099099099097\n",
      "Nearest Neighbors\n",
      "[[111   0]\n",
      " [  2   0]]\n",
      "0.5\n",
      "Linear SVM\n",
      "[[109   2]\n",
      " [  2   0]]\n",
      "0.49099099099099097\n",
      "Gradient Boosting Classifier\n",
      "[[109   2]\n",
      " [  2   0]]\n",
      "0.49099099099099097\n",
      "Decision Tree\n",
      "[[105   6]\n",
      " [  2   0]]\n",
      "0.47297297297297297\n",
      "Random Forest\n",
      "[[110   1]\n",
      " [  2   0]]\n",
      "0.4954954954954955\n"
     ]
    },
    {
     "name": "stderr",
     "output_type": "stream",
     "text": [
      "C:\\Users\\Nour Al-Hoda\\Anaconda3\\lib\\site-packages\\sklearn\\neural_network\\multilayer_perceptron.py:562: ConvergenceWarning: Stochastic Optimizer: Maximum iterations (200) reached and the optimization hasn't converged yet.\n",
      "  % self.max_iter, ConvergenceWarning)\n"
     ]
    },
    {
     "name": "stdout",
     "output_type": "stream",
     "text": [
      "Neural Net\n",
      "[[111   0]\n",
      " [  2   0]]\n",
      "0.5\n",
      "Naive Bayes\n",
      "[[109   2]\n",
      " [  2   0]]\n",
      "0.49099099099099097\n",
      "AdaBoost\n",
      "[[111   0]\n",
      " [  2   0]]\n",
      "0.5\n",
      "Gaussian Process\n",
      "[[111   0]\n",
      " [  2   0]]\n",
      "0.5\n",
      "=================================================================\n",
      "Results for  105  PCA components\n",
      "=================================================================\n",
      "Logistic Regression\n",
      "[[107   4]\n",
      " [  2   0]]\n",
      "0.481981981981982\n",
      "Nearest Neighbors\n",
      "[[111   0]\n",
      " [  2   0]]\n",
      "0.5\n",
      "Linear SVM\n",
      "[[109   2]\n",
      " [  2   0]]\n",
      "0.49099099099099097\n"
     ]
    },
    {
     "name": "stderr",
     "output_type": "stream",
     "text": [
      "C:\\Users\\Nour Al-Hoda\\Anaconda3\\lib\\site-packages\\sklearn\\linear_model\\logistic.py:433: FutureWarning: Default solver will be changed to 'lbfgs' in 0.22. Specify a solver to silence this warning.\n",
      "  FutureWarning)\n"
     ]
    },
    {
     "name": "stdout",
     "output_type": "stream",
     "text": [
      "Gradient Boosting Classifier\n",
      "[[108   3]\n",
      " [  2   0]]\n",
      "0.4864864864864865\n",
      "Decision Tree\n",
      "[[106   5]\n",
      " [  2   0]]\n",
      "0.4774774774774775\n",
      "Random Forest\n",
      "[[111   0]\n",
      " [  2   0]]\n",
      "0.5\n"
     ]
    },
    {
     "name": "stderr",
     "output_type": "stream",
     "text": [
      "C:\\Users\\Nour Al-Hoda\\Anaconda3\\lib\\site-packages\\sklearn\\neural_network\\multilayer_perceptron.py:562: ConvergenceWarning: Stochastic Optimizer: Maximum iterations (200) reached and the optimization hasn't converged yet.\n",
      "  % self.max_iter, ConvergenceWarning)\n"
     ]
    },
    {
     "name": "stdout",
     "output_type": "stream",
     "text": [
      "Neural Net\n",
      "[[111   0]\n",
      " [  2   0]]\n",
      "0.5\n",
      "Naive Bayes\n",
      "[[111   0]\n",
      " [  2   0]]\n",
      "0.5\n",
      "AdaBoost\n",
      "[[111   0]\n",
      " [  2   0]]\n",
      "0.5\n",
      "Gaussian Process\n",
      "[[111   0]\n",
      " [  2   0]]\n",
      "0.5\n",
      "=================================================================\n",
      "Results for  120  PCA components\n",
      "=================================================================\n",
      "Logistic Regression\n",
      "[[105   6]\n",
      " [  2   0]]\n",
      "0.47297297297297297\n",
      "Nearest Neighbors\n",
      "[[111   0]\n",
      " [  2   0]]\n",
      "0.5\n",
      "Linear SVM\n",
      "[[109   2]\n",
      " [  2   0]]\n",
      "0.49099099099099097\n"
     ]
    },
    {
     "name": "stderr",
     "output_type": "stream",
     "text": [
      "C:\\Users\\Nour Al-Hoda\\Anaconda3\\lib\\site-packages\\sklearn\\linear_model\\logistic.py:433: FutureWarning: Default solver will be changed to 'lbfgs' in 0.22. Specify a solver to silence this warning.\n",
      "  FutureWarning)\n"
     ]
    },
    {
     "name": "stdout",
     "output_type": "stream",
     "text": [
      "Gradient Boosting Classifier\n",
      "[[108   3]\n",
      " [  2   0]]\n",
      "0.4864864864864865\n",
      "Decision Tree\n",
      "[[105   6]\n",
      " [  1   1]]\n",
      "0.7229729729729729\n",
      "Random Forest\n",
      "[[111   0]\n",
      " [  2   0]]\n",
      "0.5\n"
     ]
    },
    {
     "name": "stderr",
     "output_type": "stream",
     "text": [
      "C:\\Users\\Nour Al-Hoda\\Anaconda3\\lib\\site-packages\\sklearn\\neural_network\\multilayer_perceptron.py:562: ConvergenceWarning: Stochastic Optimizer: Maximum iterations (200) reached and the optimization hasn't converged yet.\n",
      "  % self.max_iter, ConvergenceWarning)\n"
     ]
    },
    {
     "name": "stdout",
     "output_type": "stream",
     "text": [
      "Neural Net\n",
      "[[110   1]\n",
      " [  2   0]]\n",
      "0.4954954954954955\n",
      "Naive Bayes\n",
      "[[111   0]\n",
      " [  2   0]]\n",
      "0.5\n",
      "AdaBoost\n",
      "[[110   1]\n",
      " [  2   0]]\n",
      "0.4954954954954955\n",
      "Gaussian Process\n",
      "[[111   0]\n",
      " [  2   0]]\n",
      "0.5\n",
      "=================================================================\n",
      "Results for  135  PCA components\n",
      "=================================================================\n",
      "Logistic Regression\n",
      "[[107   4]\n",
      " [  2   0]]\n",
      "0.481981981981982\n",
      "Nearest Neighbors\n",
      "[[111   0]\n",
      " [  2   0]]\n",
      "0.5\n",
      "Linear SVM\n",
      "[[109   2]\n",
      " [  2   0]]\n",
      "0.49099099099099097\n"
     ]
    },
    {
     "name": "stderr",
     "output_type": "stream",
     "text": [
      "C:\\Users\\Nour Al-Hoda\\Anaconda3\\lib\\site-packages\\sklearn\\linear_model\\logistic.py:433: FutureWarning: Default solver will be changed to 'lbfgs' in 0.22. Specify a solver to silence this warning.\n",
      "  FutureWarning)\n"
     ]
    },
    {
     "name": "stdout",
     "output_type": "stream",
     "text": [
      "Gradient Boosting Classifier\n",
      "[[107   4]\n",
      " [  2   0]]\n",
      "0.481981981981982\n",
      "Decision Tree\n",
      "[[106   5]\n",
      " [  2   0]]\n",
      "0.4774774774774775\n",
      "Random Forest\n",
      "[[111   0]\n",
      " [  2   0]]\n",
      "0.5\n"
     ]
    },
    {
     "name": "stderr",
     "output_type": "stream",
     "text": [
      "C:\\Users\\Nour Al-Hoda\\Anaconda3\\lib\\site-packages\\sklearn\\neural_network\\multilayer_perceptron.py:562: ConvergenceWarning: Stochastic Optimizer: Maximum iterations (200) reached and the optimization hasn't converged yet.\n",
      "  % self.max_iter, ConvergenceWarning)\n"
     ]
    },
    {
     "name": "stdout",
     "output_type": "stream",
     "text": [
      "Neural Net\n",
      "[[111   0]\n",
      " [  2   0]]\n",
      "0.5\n",
      "Naive Bayes\n",
      "[[111   0]\n",
      " [  2   0]]\n",
      "0.5\n",
      "AdaBoost\n",
      "[[110   1]\n",
      " [  2   0]]\n",
      "0.4954954954954955\n",
      "Gaussian Process\n",
      "[[111   0]\n",
      " [  2   0]]\n",
      "0.5\n",
      "=================================================================\n",
      "Results for  150  PCA components\n",
      "=================================================================\n",
      "Logistic Regression\n",
      "[[107   4]\n",
      " [  2   0]]\n",
      "0.481981981981982\n",
      "Nearest Neighbors\n",
      "[[111   0]\n",
      " [  2   0]]\n",
      "0.5\n",
      "Linear SVM\n",
      "[[109   2]\n",
      " [  2   0]]\n",
      "0.49099099099099097\n"
     ]
    },
    {
     "name": "stderr",
     "output_type": "stream",
     "text": [
      "C:\\Users\\Nour Al-Hoda\\Anaconda3\\lib\\site-packages\\sklearn\\linear_model\\logistic.py:433: FutureWarning: Default solver will be changed to 'lbfgs' in 0.22. Specify a solver to silence this warning.\n",
      "  FutureWarning)\n"
     ]
    },
    {
     "name": "stdout",
     "output_type": "stream",
     "text": [
      "Gradient Boosting Classifier\n",
      "[[109   2]\n",
      " [  2   0]]\n",
      "0.49099099099099097\n",
      "Decision Tree\n",
      "[[105   6]\n",
      " [  2   0]]\n",
      "0.47297297297297297\n",
      "Random Forest\n",
      "[[110   1]\n",
      " [  2   0]]\n",
      "0.4954954954954955\n"
     ]
    },
    {
     "name": "stderr",
     "output_type": "stream",
     "text": [
      "C:\\Users\\Nour Al-Hoda\\Anaconda3\\lib\\site-packages\\sklearn\\neural_network\\multilayer_perceptron.py:562: ConvergenceWarning: Stochastic Optimizer: Maximum iterations (200) reached and the optimization hasn't converged yet.\n",
      "  % self.max_iter, ConvergenceWarning)\n"
     ]
    },
    {
     "name": "stdout",
     "output_type": "stream",
     "text": [
      "Neural Net\n",
      "[[110   1]\n",
      " [  2   0]]\n",
      "0.4954954954954955\n",
      "Naive Bayes\n",
      "[[111   0]\n",
      " [  2   0]]\n",
      "0.5\n",
      "AdaBoost\n",
      "[[111   0]\n",
      " [  2   0]]\n",
      "0.5\n",
      "Gaussian Process\n",
      "[[111   0]\n",
      " [  2   0]]\n",
      "0.5\n",
      "=================================================================\n",
      "Results for  165  PCA components\n",
      "=================================================================\n",
      "Logistic Regression\n",
      "[[107   4]\n",
      " [  2   0]]\n",
      "0.481981981981982\n",
      "Nearest Neighbors\n",
      "[[111   0]\n",
      " [  2   0]]\n",
      "0.5\n",
      "Linear SVM\n",
      "[[109   2]\n",
      " [  2   0]]\n",
      "0.49099099099099097\n"
     ]
    },
    {
     "name": "stderr",
     "output_type": "stream",
     "text": [
      "C:\\Users\\Nour Al-Hoda\\Anaconda3\\lib\\site-packages\\sklearn\\linear_model\\logistic.py:433: FutureWarning: Default solver will be changed to 'lbfgs' in 0.22. Specify a solver to silence this warning.\n",
      "  FutureWarning)\n"
     ]
    },
    {
     "name": "stdout",
     "output_type": "stream",
     "text": [
      "Gradient Boosting Classifier\n",
      "[[106   5]\n",
      " [  2   0]]\n",
      "0.4774774774774775\n",
      "Decision Tree\n",
      "[[104   7]\n",
      " [  2   0]]\n",
      "0.46846846846846846\n",
      "Random Forest\n",
      "[[111   0]\n",
      " [  2   0]]\n",
      "0.5\n"
     ]
    },
    {
     "name": "stderr",
     "output_type": "stream",
     "text": [
      "C:\\Users\\Nour Al-Hoda\\Anaconda3\\lib\\site-packages\\sklearn\\neural_network\\multilayer_perceptron.py:562: ConvergenceWarning: Stochastic Optimizer: Maximum iterations (200) reached and the optimization hasn't converged yet.\n",
      "  % self.max_iter, ConvergenceWarning)\n"
     ]
    },
    {
     "name": "stdout",
     "output_type": "stream",
     "text": [
      "Neural Net\n",
      "[[111   0]\n",
      " [  2   0]]\n",
      "0.5\n",
      "Naive Bayes\n",
      "[[111   0]\n",
      " [  2   0]]\n",
      "0.5\n",
      "AdaBoost\n",
      "[[110   1]\n",
      " [  2   0]]\n",
      "0.4954954954954955\n",
      "Gaussian Process\n",
      "[[111   0]\n",
      " [  2   0]]\n",
      "0.5\n",
      "=================================================================\n",
      "Results for  180  PCA components\n",
      "=================================================================\n",
      "Logistic Regression\n",
      "[[107   4]\n",
      " [  2   0]]\n",
      "0.481981981981982\n",
      "Nearest Neighbors\n",
      "[[111   0]\n",
      " [  2   0]]\n",
      "0.5\n",
      "Linear SVM\n",
      "[[109   2]\n",
      " [  2   0]]\n",
      "0.49099099099099097\n"
     ]
    },
    {
     "name": "stderr",
     "output_type": "stream",
     "text": [
      "C:\\Users\\Nour Al-Hoda\\Anaconda3\\lib\\site-packages\\sklearn\\linear_model\\logistic.py:433: FutureWarning: Default solver will be changed to 'lbfgs' in 0.22. Specify a solver to silence this warning.\n",
      "  FutureWarning)\n"
     ]
    },
    {
     "name": "stdout",
     "output_type": "stream",
     "text": [
      "Gradient Boosting Classifier\n",
      "[[104   7]\n",
      " [  2   0]]\n",
      "0.46846846846846846\n",
      "Decision Tree\n",
      "[[104   7]\n",
      " [  2   0]]\n",
      "0.46846846846846846\n",
      "Random Forest\n",
      "[[111   0]\n",
      " [  2   0]]\n",
      "0.5\n"
     ]
    },
    {
     "name": "stderr",
     "output_type": "stream",
     "text": [
      "C:\\Users\\Nour Al-Hoda\\Anaconda3\\lib\\site-packages\\sklearn\\neural_network\\multilayer_perceptron.py:562: ConvergenceWarning: Stochastic Optimizer: Maximum iterations (200) reached and the optimization hasn't converged yet.\n",
      "  % self.max_iter, ConvergenceWarning)\n"
     ]
    },
    {
     "name": "stdout",
     "output_type": "stream",
     "text": [
      "Neural Net\n",
      "[[111   0]\n",
      " [  2   0]]\n",
      "0.5\n",
      "Naive Bayes\n",
      "[[111   0]\n",
      " [  2   0]]\n",
      "0.5\n",
      "AdaBoost\n",
      "[[111   0]\n",
      " [  2   0]]\n",
      "0.5\n",
      "Gaussian Process\n",
      "[[111   0]\n",
      " [  2   0]]\n",
      "0.5\n",
      "=================================================================\n",
      "Results for  195  PCA components\n",
      "=================================================================\n"
     ]
    },
    {
     "name": "stderr",
     "output_type": "stream",
     "text": [
      "C:\\Users\\Nour Al-Hoda\\Anaconda3\\lib\\site-packages\\sklearn\\linear_model\\logistic.py:433: FutureWarning: Default solver will be changed to 'lbfgs' in 0.22. Specify a solver to silence this warning.\n",
      "  FutureWarning)\n"
     ]
    },
    {
     "name": "stdout",
     "output_type": "stream",
     "text": [
      "Logistic Regression\n",
      "[[107   4]\n",
      " [  2   0]]\n",
      "0.481981981981982\n",
      "Nearest Neighbors\n",
      "[[111   0]\n",
      " [  2   0]]\n",
      "0.5\n",
      "Linear SVM\n",
      "[[109   2]\n",
      " [  2   0]]\n",
      "0.49099099099099097\n",
      "Gradient Boosting Classifier\n",
      "[[106   5]\n",
      " [  2   0]]\n",
      "0.4774774774774775\n",
      "Decision Tree\n",
      "[[105   6]\n",
      " [  2   0]]\n",
      "0.47297297297297297\n",
      "Random Forest\n",
      "[[111   0]\n",
      " [  2   0]]\n",
      "0.5\n",
      "Neural Net\n",
      "[[111   0]\n",
      " [  2   0]]\n",
      "0.5\n",
      "Naive Bayes\n",
      "[[111   0]\n",
      " [  2   0]]\n",
      "0.5\n"
     ]
    },
    {
     "name": "stderr",
     "output_type": "stream",
     "text": [
      "C:\\Users\\Nour Al-Hoda\\Anaconda3\\lib\\site-packages\\sklearn\\neural_network\\multilayer_perceptron.py:562: ConvergenceWarning: Stochastic Optimizer: Maximum iterations (200) reached and the optimization hasn't converged yet.\n",
      "  % self.max_iter, ConvergenceWarning)\n"
     ]
    },
    {
     "name": "stdout",
     "output_type": "stream",
     "text": [
      "AdaBoost\n",
      "[[111   0]\n",
      " [  2   0]]\n",
      "0.5\n",
      "Gaussian Process\n",
      "[[111   0]\n",
      " [  2   0]]\n",
      "0.5\n",
      "=================================================================\n",
      "Results for  210  PCA components\n",
      "=================================================================\n",
      "Logistic Regression\n",
      "[[107   4]\n",
      " [  2   0]]\n",
      "0.481981981981982\n",
      "Nearest Neighbors\n",
      "[[111   0]\n",
      " [  2   0]]\n",
      "0.5\n",
      "Linear SVM\n",
      "[[109   2]\n",
      " [  2   0]]\n",
      "0.49099099099099097\n"
     ]
    },
    {
     "name": "stderr",
     "output_type": "stream",
     "text": [
      "C:\\Users\\Nour Al-Hoda\\Anaconda3\\lib\\site-packages\\sklearn\\linear_model\\logistic.py:433: FutureWarning: Default solver will be changed to 'lbfgs' in 0.22. Specify a solver to silence this warning.\n",
      "  FutureWarning)\n"
     ]
    },
    {
     "name": "stdout",
     "output_type": "stream",
     "text": [
      "Gradient Boosting Classifier\n",
      "[[106   5]\n",
      " [  2   0]]\n",
      "0.4774774774774775\n",
      "Decision Tree\n",
      "[[104   7]\n",
      " [  2   0]]\n",
      "0.46846846846846846\n",
      "Random Forest\n",
      "[[111   0]\n",
      " [  2   0]]\n",
      "0.5\n"
     ]
    },
    {
     "name": "stderr",
     "output_type": "stream",
     "text": [
      "C:\\Users\\Nour Al-Hoda\\Anaconda3\\lib\\site-packages\\sklearn\\neural_network\\multilayer_perceptron.py:562: ConvergenceWarning: Stochastic Optimizer: Maximum iterations (200) reached and the optimization hasn't converged yet.\n",
      "  % self.max_iter, ConvergenceWarning)\n"
     ]
    },
    {
     "name": "stdout",
     "output_type": "stream",
     "text": [
      "Neural Net\n",
      "[[110   1]\n",
      " [  2   0]]\n",
      "0.4954954954954955\n",
      "Naive Bayes\n",
      "[[111   0]\n",
      " [  2   0]]\n",
      "0.5\n",
      "AdaBoost\n",
      "[[111   0]\n",
      " [  2   0]]\n",
      "0.5\n",
      "Gaussian Process\n",
      "[[111   0]\n",
      " [  2   0]]\n",
      "0.5\n",
      "=================================================================\n",
      "Results for  225  PCA components\n",
      "=================================================================\n"
     ]
    },
    {
     "name": "stderr",
     "output_type": "stream",
     "text": [
      "C:\\Users\\Nour Al-Hoda\\Anaconda3\\lib\\site-packages\\sklearn\\linear_model\\logistic.py:433: FutureWarning: Default solver will be changed to 'lbfgs' in 0.22. Specify a solver to silence this warning.\n",
      "  FutureWarning)\n"
     ]
    },
    {
     "name": "stdout",
     "output_type": "stream",
     "text": [
      "Logistic Regression\n",
      "[[107   4]\n",
      " [  2   0]]\n",
      "0.481981981981982\n",
      "Nearest Neighbors\n",
      "[[111   0]\n",
      " [  2   0]]\n",
      "0.5\n",
      "Linear SVM\n",
      "[[109   2]\n",
      " [  2   0]]\n",
      "0.49099099099099097\n",
      "Gradient Boosting Classifier\n",
      "[[106   5]\n",
      " [  2   0]]\n",
      "0.4774774774774775\n",
      "Decision Tree\n",
      "[[105   6]\n",
      " [  2   0]]\n",
      "0.47297297297297297\n",
      "Random Forest\n",
      "[[111   0]\n",
      " [  2   0]]\n",
      "0.5\n"
     ]
    },
    {
     "name": "stderr",
     "output_type": "stream",
     "text": [
      "C:\\Users\\Nour Al-Hoda\\Anaconda3\\lib\\site-packages\\sklearn\\neural_network\\multilayer_perceptron.py:562: ConvergenceWarning: Stochastic Optimizer: Maximum iterations (200) reached and the optimization hasn't converged yet.\n",
      "  % self.max_iter, ConvergenceWarning)\n"
     ]
    },
    {
     "name": "stdout",
     "output_type": "stream",
     "text": [
      "Neural Net\n",
      "[[111   0]\n",
      " [  2   0]]\n",
      "0.5\n",
      "Naive Bayes\n",
      "[[111   0]\n",
      " [  2   0]]\n",
      "0.5\n",
      "AdaBoost\n",
      "[[111   0]\n",
      " [  2   0]]\n",
      "0.5\n",
      "Gaussian Process\n",
      "[[111   0]\n",
      " [  2   0]]\n",
      "0.5\n",
      "=================================================================\n",
      "Training 10 different classifiers, and different PCA components after CAR filter\n",
      "=================================================================\n",
      "=================================================================\n",
      "Results for  15  PCA components\n",
      "=================================================================\n"
     ]
    },
    {
     "name": "stderr",
     "output_type": "stream",
     "text": [
      "C:\\Users\\Nour Al-Hoda\\Anaconda3\\lib\\site-packages\\sklearn\\linear_model\\logistic.py:433: FutureWarning: Default solver will be changed to 'lbfgs' in 0.22. Specify a solver to silence this warning.\n",
      "  FutureWarning)\n"
     ]
    },
    {
     "name": "stdout",
     "output_type": "stream",
     "text": [
      "Logistic Regression\n",
      "[[109   2]\n",
      " [  2   0]]\n",
      "0.49099099099099097\n",
      "Nearest Neighbors\n",
      "[[111   0]\n",
      " [  2   0]]\n",
      "0.5\n",
      "Linear SVM\n",
      "[[109   2]\n",
      " [  2   0]]\n",
      "0.49099099099099097\n",
      "Gradient Boosting Classifier\n",
      "[[109   2]\n",
      " [  2   0]]\n",
      "0.49099099099099097\n",
      "Decision Tree\n",
      "[[109   2]\n",
      " [  2   0]]\n",
      "0.49099099099099097\n",
      "Random Forest\n",
      "[[110   1]\n",
      " [  2   0]]\n",
      "0.4954954954954955\n"
     ]
    },
    {
     "name": "stderr",
     "output_type": "stream",
     "text": [
      "C:\\Users\\Nour Al-Hoda\\Anaconda3\\lib\\site-packages\\sklearn\\neural_network\\multilayer_perceptron.py:562: ConvergenceWarning: Stochastic Optimizer: Maximum iterations (200) reached and the optimization hasn't converged yet.\n",
      "  % self.max_iter, ConvergenceWarning)\n"
     ]
    },
    {
     "name": "stdout",
     "output_type": "stream",
     "text": [
      "Neural Net\n",
      "[[110   1]\n",
      " [  2   0]]\n",
      "0.4954954954954955\n",
      "Naive Bayes\n",
      "[[109   2]\n",
      " [  2   0]]\n",
      "0.49099099099099097\n",
      "AdaBoost\n",
      "[[108   3]\n",
      " [  2   0]]\n",
      "0.4864864864864865\n",
      "Gaussian Process\n",
      "[[110   1]\n",
      " [  2   0]]\n",
      "0.4954954954954955\n",
      "=================================================================\n",
      "Results for  30  PCA components\n",
      "=================================================================\n",
      "Logistic Regression\n",
      "[[111   0]\n",
      " [  2   0]]\n",
      "0.5\n",
      "Nearest Neighbors\n",
      "[[111   0]\n",
      " [  2   0]]\n",
      "0.5\n",
      "Linear SVM\n",
      "[[110   1]\n",
      " [  2   0]]\n",
      "0.4954954954954955\n"
     ]
    },
    {
     "name": "stderr",
     "output_type": "stream",
     "text": [
      "C:\\Users\\Nour Al-Hoda\\Anaconda3\\lib\\site-packages\\sklearn\\linear_model\\logistic.py:433: FutureWarning: Default solver will be changed to 'lbfgs' in 0.22. Specify a solver to silence this warning.\n",
      "  FutureWarning)\n"
     ]
    },
    {
     "name": "stdout",
     "output_type": "stream",
     "text": [
      "Gradient Boosting Classifier\n",
      "[[110   1]\n",
      " [  2   0]]\n",
      "0.4954954954954955\n",
      "Decision Tree\n",
      "[[109   2]\n",
      " [  2   0]]\n",
      "0.49099099099099097\n",
      "Random Forest\n",
      "[[111   0]\n",
      " [  2   0]]\n",
      "0.5\n"
     ]
    },
    {
     "name": "stderr",
     "output_type": "stream",
     "text": [
      "C:\\Users\\Nour Al-Hoda\\Anaconda3\\lib\\site-packages\\sklearn\\neural_network\\multilayer_perceptron.py:562: ConvergenceWarning: Stochastic Optimizer: Maximum iterations (200) reached and the optimization hasn't converged yet.\n",
      "  % self.max_iter, ConvergenceWarning)\n"
     ]
    },
    {
     "name": "stdout",
     "output_type": "stream",
     "text": [
      "Neural Net\n",
      "[[111   0]\n",
      " [  2   0]]\n",
      "0.5\n",
      "Naive Bayes\n",
      "[[107   4]\n",
      " [  2   0]]\n",
      "0.481981981981982\n",
      "AdaBoost\n",
      "[[110   1]\n",
      " [  2   0]]\n",
      "0.4954954954954955\n",
      "Gaussian Process\n",
      "[[110   1]\n",
      " [  2   0]]\n",
      "0.4954954954954955\n",
      "=================================================================\n",
      "Results for  45  PCA components\n",
      "=================================================================\n",
      "Logistic Regression\n",
      "[[110   1]\n",
      " [  2   0]]\n",
      "0.4954954954954955\n",
      "Nearest Neighbors\n",
      "[[111   0]\n",
      " [  2   0]]\n",
      "0.5\n",
      "Linear SVM\n",
      "[[110   1]\n",
      " [  2   0]]\n",
      "0.4954954954954955\n"
     ]
    },
    {
     "name": "stderr",
     "output_type": "stream",
     "text": [
      "C:\\Users\\Nour Al-Hoda\\Anaconda3\\lib\\site-packages\\sklearn\\linear_model\\logistic.py:433: FutureWarning: Default solver will be changed to 'lbfgs' in 0.22. Specify a solver to silence this warning.\n",
      "  FutureWarning)\n"
     ]
    },
    {
     "name": "stdout",
     "output_type": "stream",
     "text": [
      "Gradient Boosting Classifier\n",
      "[[109   2]\n",
      " [  2   0]]\n",
      "0.49099099099099097\n",
      "Decision Tree\n",
      "[[109   2]\n",
      " [  2   0]]\n",
      "0.49099099099099097\n",
      "Random Forest\n",
      "[[111   0]\n",
      " [  2   0]]\n",
      "0.5\n"
     ]
    },
    {
     "name": "stderr",
     "output_type": "stream",
     "text": [
      "C:\\Users\\Nour Al-Hoda\\Anaconda3\\lib\\site-packages\\sklearn\\neural_network\\multilayer_perceptron.py:562: ConvergenceWarning: Stochastic Optimizer: Maximum iterations (200) reached and the optimization hasn't converged yet.\n",
      "  % self.max_iter, ConvergenceWarning)\n"
     ]
    },
    {
     "name": "stdout",
     "output_type": "stream",
     "text": [
      "Neural Net\n",
      "[[111   0]\n",
      " [  2   0]]\n",
      "0.5\n",
      "Naive Bayes\n",
      "[[106   5]\n",
      " [  2   0]]\n",
      "0.4774774774774775\n",
      "AdaBoost\n",
      "[[110   1]\n",
      " [  2   0]]\n",
      "0.4954954954954955\n",
      "Gaussian Process\n",
      "[[110   1]\n",
      " [  2   0]]\n",
      "0.4954954954954955\n",
      "=================================================================\n",
      "Results for  60  PCA components\n",
      "=================================================================\n",
      "Logistic Regression\n",
      "[[110   1]\n",
      " [  2   0]]\n",
      "0.4954954954954955\n",
      "Nearest Neighbors\n",
      "[[111   0]\n",
      " [  2   0]]\n",
      "0.5\n",
      "Linear SVM\n",
      "[[110   1]\n",
      " [  2   0]]\n",
      "0.4954954954954955\n"
     ]
    },
    {
     "name": "stderr",
     "output_type": "stream",
     "text": [
      "C:\\Users\\Nour Al-Hoda\\Anaconda3\\lib\\site-packages\\sklearn\\linear_model\\logistic.py:433: FutureWarning: Default solver will be changed to 'lbfgs' in 0.22. Specify a solver to silence this warning.\n",
      "  FutureWarning)\n"
     ]
    },
    {
     "name": "stdout",
     "output_type": "stream",
     "text": [
      "Gradient Boosting Classifier\n",
      "[[109   2]\n",
      " [  2   0]]\n",
      "0.49099099099099097\n",
      "Decision Tree\n",
      "[[108   3]\n",
      " [  2   0]]\n",
      "0.4864864864864865\n",
      "Random Forest\n",
      "[[111   0]\n",
      " [  2   0]]\n",
      "0.5\n"
     ]
    },
    {
     "name": "stderr",
     "output_type": "stream",
     "text": [
      "C:\\Users\\Nour Al-Hoda\\Anaconda3\\lib\\site-packages\\sklearn\\neural_network\\multilayer_perceptron.py:562: ConvergenceWarning: Stochastic Optimizer: Maximum iterations (200) reached and the optimization hasn't converged yet.\n",
      "  % self.max_iter, ConvergenceWarning)\n"
     ]
    },
    {
     "name": "stdout",
     "output_type": "stream",
     "text": [
      "Neural Net\n",
      "[[111   0]\n",
      " [  2   0]]\n",
      "0.5\n",
      "Naive Bayes\n",
      "[[105   6]\n",
      " [  2   0]]\n",
      "0.47297297297297297\n",
      "AdaBoost\n",
      "[[110   1]\n",
      " [  2   0]]\n",
      "0.4954954954954955\n",
      "Gaussian Process\n",
      "[[111   0]\n",
      " [  2   0]]\n",
      "0.5\n",
      "=================================================================\n",
      "Results for  75  PCA components\n",
      "=================================================================\n",
      "Logistic Regression\n",
      "[[109   2]\n",
      " [  2   0]]\n",
      "0.49099099099099097\n",
      "Nearest Neighbors\n",
      "[[111   0]\n",
      " [  2   0]]\n",
      "0.5\n",
      "Linear SVM\n",
      "[[109   2]\n",
      " [  2   0]]\n",
      "0.49099099099099097\n"
     ]
    },
    {
     "name": "stderr",
     "output_type": "stream",
     "text": [
      "C:\\Users\\Nour Al-Hoda\\Anaconda3\\lib\\site-packages\\sklearn\\linear_model\\logistic.py:433: FutureWarning: Default solver will be changed to 'lbfgs' in 0.22. Specify a solver to silence this warning.\n",
      "  FutureWarning)\n"
     ]
    },
    {
     "name": "stdout",
     "output_type": "stream",
     "text": [
      "Gradient Boosting Classifier\n",
      "[[108   3]\n",
      " [  2   0]]\n",
      "0.4864864864864865\n",
      "Decision Tree\n",
      "[[106   5]\n",
      " [  2   0]]\n",
      "0.4774774774774775\n",
      "Random Forest\n",
      "[[110   1]\n",
      " [  2   0]]\n",
      "0.4954954954954955\n"
     ]
    },
    {
     "name": "stderr",
     "output_type": "stream",
     "text": [
      "C:\\Users\\Nour Al-Hoda\\Anaconda3\\lib\\site-packages\\sklearn\\neural_network\\multilayer_perceptron.py:562: ConvergenceWarning: Stochastic Optimizer: Maximum iterations (200) reached and the optimization hasn't converged yet.\n",
      "  % self.max_iter, ConvergenceWarning)\n"
     ]
    },
    {
     "name": "stdout",
     "output_type": "stream",
     "text": [
      "Neural Net\n",
      "[[111   0]\n",
      " [  2   0]]\n",
      "0.5\n",
      "Naive Bayes\n",
      "[[108   3]\n",
      " [  2   0]]\n",
      "0.4864864864864865\n",
      "AdaBoost\n",
      "[[111   0]\n",
      " [  2   0]]\n",
      "0.5\n",
      "Gaussian Process\n",
      "[[111   0]\n",
      " [  2   0]]\n",
      "0.5\n",
      "=================================================================\n",
      "Results for  90  PCA components\n",
      "=================================================================\n",
      "Logistic Regression\n",
      "[[109   2]\n",
      " [  2   0]]\n",
      "0.49099099099099097\n",
      "Nearest Neighbors\n",
      "[[111   0]\n",
      " [  2   0]]\n",
      "0.5\n",
      "Linear SVM\n",
      "[[109   2]\n",
      " [  2   0]]\n",
      "0.49099099099099097\n"
     ]
    },
    {
     "name": "stderr",
     "output_type": "stream",
     "text": [
      "C:\\Users\\Nour Al-Hoda\\Anaconda3\\lib\\site-packages\\sklearn\\linear_model\\logistic.py:433: FutureWarning: Default solver will be changed to 'lbfgs' in 0.22. Specify a solver to silence this warning.\n",
      "  FutureWarning)\n"
     ]
    },
    {
     "name": "stdout",
     "output_type": "stream",
     "text": [
      "Gradient Boosting Classifier\n",
      "[[109   2]\n",
      " [  2   0]]\n",
      "0.49099099099099097\n",
      "Decision Tree\n",
      "[[106   5]\n",
      " [  2   0]]\n",
      "0.4774774774774775\n",
      "Random Forest\n",
      "[[111   0]\n",
      " [  2   0]]\n",
      "0.5\n"
     ]
    },
    {
     "name": "stderr",
     "output_type": "stream",
     "text": [
      "C:\\Users\\Nour Al-Hoda\\Anaconda3\\lib\\site-packages\\sklearn\\neural_network\\multilayer_perceptron.py:562: ConvergenceWarning: Stochastic Optimizer: Maximum iterations (200) reached and the optimization hasn't converged yet.\n",
      "  % self.max_iter, ConvergenceWarning)\n"
     ]
    },
    {
     "name": "stdout",
     "output_type": "stream",
     "text": [
      "Neural Net\n",
      "[[110   1]\n",
      " [  2   0]]\n",
      "0.4954954954954955\n",
      "Naive Bayes\n",
      "[[109   2]\n",
      " [  2   0]]\n",
      "0.49099099099099097\n",
      "AdaBoost\n",
      "[[111   0]\n",
      " [  2   0]]\n",
      "0.5\n",
      "Gaussian Process\n",
      "[[111   0]\n",
      " [  2   0]]\n",
      "0.5\n",
      "=================================================================\n",
      "Results for  105  PCA components\n",
      "=================================================================\n",
      "Logistic Regression\n",
      "[[107   4]\n",
      " [  2   0]]\n",
      "0.481981981981982\n",
      "Nearest Neighbors\n",
      "[[111   0]\n",
      " [  2   0]]\n",
      "0.5\n",
      "Linear SVM\n",
      "[[109   2]\n",
      " [  2   0]]\n",
      "0.49099099099099097\n"
     ]
    },
    {
     "name": "stderr",
     "output_type": "stream",
     "text": [
      "C:\\Users\\Nour Al-Hoda\\Anaconda3\\lib\\site-packages\\sklearn\\linear_model\\logistic.py:433: FutureWarning: Default solver will be changed to 'lbfgs' in 0.22. Specify a solver to silence this warning.\n",
      "  FutureWarning)\n"
     ]
    },
    {
     "name": "stdout",
     "output_type": "stream",
     "text": [
      "Gradient Boosting Classifier\n",
      "[[108   3]\n",
      " [  2   0]]\n",
      "0.4864864864864865\n",
      "Decision Tree\n",
      "[[107   4]\n",
      " [  2   0]]\n",
      "0.481981981981982\n",
      "Random Forest\n",
      "[[111   0]\n",
      " [  2   0]]\n",
      "0.5\n"
     ]
    },
    {
     "name": "stderr",
     "output_type": "stream",
     "text": [
      "C:\\Users\\Nour Al-Hoda\\Anaconda3\\lib\\site-packages\\sklearn\\neural_network\\multilayer_perceptron.py:562: ConvergenceWarning: Stochastic Optimizer: Maximum iterations (200) reached and the optimization hasn't converged yet.\n",
      "  % self.max_iter, ConvergenceWarning)\n"
     ]
    },
    {
     "name": "stdout",
     "output_type": "stream",
     "text": [
      "Neural Net\n",
      "[[110   1]\n",
      " [  2   0]]\n",
      "0.4954954954954955\n",
      "Naive Bayes\n",
      "[[111   0]\n",
      " [  2   0]]\n",
      "0.5\n",
      "AdaBoost\n",
      "[[111   0]\n",
      " [  2   0]]\n",
      "0.5\n",
      "Gaussian Process\n",
      "[[111   0]\n",
      " [  2   0]]\n",
      "0.5\n",
      "=================================================================\n",
      "Results for  120  PCA components\n",
      "=================================================================\n",
      "Logistic Regression\n",
      "[[107   4]\n",
      " [  2   0]]\n",
      "0.481981981981982\n",
      "Nearest Neighbors\n",
      "[[111   0]\n",
      " [  2   0]]\n",
      "0.5\n",
      "Linear SVM\n",
      "[[109   2]\n",
      " [  2   0]]\n",
      "0.49099099099099097\n"
     ]
    },
    {
     "name": "stderr",
     "output_type": "stream",
     "text": [
      "C:\\Users\\Nour Al-Hoda\\Anaconda3\\lib\\site-packages\\sklearn\\linear_model\\logistic.py:433: FutureWarning: Default solver will be changed to 'lbfgs' in 0.22. Specify a solver to silence this warning.\n",
      "  FutureWarning)\n"
     ]
    },
    {
     "name": "stdout",
     "output_type": "stream",
     "text": [
      "Gradient Boosting Classifier\n",
      "[[108   3]\n",
      " [  2   0]]\n",
      "0.4864864864864865\n",
      "Decision Tree\n",
      "[[106   5]\n",
      " [  2   0]]\n",
      "0.4774774774774775\n",
      "Random Forest\n",
      "[[110   1]\n",
      " [  2   0]]\n",
      "0.4954954954954955\n"
     ]
    },
    {
     "name": "stderr",
     "output_type": "stream",
     "text": [
      "C:\\Users\\Nour Al-Hoda\\Anaconda3\\lib\\site-packages\\sklearn\\neural_network\\multilayer_perceptron.py:562: ConvergenceWarning: Stochastic Optimizer: Maximum iterations (200) reached and the optimization hasn't converged yet.\n",
      "  % self.max_iter, ConvergenceWarning)\n"
     ]
    },
    {
     "name": "stdout",
     "output_type": "stream",
     "text": [
      "Neural Net\n",
      "[[111   0]\n",
      " [  2   0]]\n",
      "0.5\n",
      "Naive Bayes\n",
      "[[111   0]\n",
      " [  2   0]]\n",
      "0.5\n",
      "AdaBoost\n",
      "[[111   0]\n",
      " [  2   0]]\n",
      "0.5\n",
      "Gaussian Process\n",
      "[[111   0]\n",
      " [  2   0]]\n",
      "0.5\n",
      "=================================================================\n",
      "Results for  135  PCA components\n",
      "=================================================================\n",
      "Logistic Regression\n",
      "[[106   5]\n",
      " [  2   0]]\n",
      "0.4774774774774775\n",
      "Nearest Neighbors\n",
      "[[111   0]\n",
      " [  2   0]]\n",
      "0.5\n",
      "Linear SVM\n",
      "[[109   2]\n",
      " [  2   0]]\n",
      "0.49099099099099097\n"
     ]
    },
    {
     "name": "stderr",
     "output_type": "stream",
     "text": [
      "C:\\Users\\Nour Al-Hoda\\Anaconda3\\lib\\site-packages\\sklearn\\linear_model\\logistic.py:433: FutureWarning: Default solver will be changed to 'lbfgs' in 0.22. Specify a solver to silence this warning.\n",
      "  FutureWarning)\n"
     ]
    },
    {
     "name": "stdout",
     "output_type": "stream",
     "text": [
      "Gradient Boosting Classifier\n",
      "[[109   2]\n",
      " [  2   0]]\n",
      "0.49099099099099097\n",
      "Decision Tree\n",
      "[[107   4]\n",
      " [  2   0]]\n",
      "0.481981981981982\n",
      "Random Forest\n",
      "[[110   1]\n",
      " [  2   0]]\n",
      "0.4954954954954955\n"
     ]
    },
    {
     "name": "stderr",
     "output_type": "stream",
     "text": [
      "C:\\Users\\Nour Al-Hoda\\Anaconda3\\lib\\site-packages\\sklearn\\neural_network\\multilayer_perceptron.py:562: ConvergenceWarning: Stochastic Optimizer: Maximum iterations (200) reached and the optimization hasn't converged yet.\n",
      "  % self.max_iter, ConvergenceWarning)\n"
     ]
    },
    {
     "name": "stdout",
     "output_type": "stream",
     "text": [
      "Neural Net\n",
      "[[111   0]\n",
      " [  2   0]]\n",
      "0.5\n",
      "Naive Bayes\n",
      "[[111   0]\n",
      " [  2   0]]\n",
      "0.5\n",
      "AdaBoost\n",
      "[[110   1]\n",
      " [  2   0]]\n",
      "0.4954954954954955\n",
      "Gaussian Process\n",
      "[[111   0]\n",
      " [  2   0]]\n",
      "0.5\n",
      "=================================================================\n",
      "Results for  150  PCA components\n",
      "=================================================================\n",
      "Logistic Regression\n",
      "[[107   4]\n",
      " [  2   0]]\n",
      "0.481981981981982\n",
      "Nearest Neighbors\n",
      "[[111   0]\n",
      " [  2   0]]\n",
      "0.5\n",
      "Linear SVM\n",
      "[[109   2]\n",
      " [  2   0]]\n",
      "0.49099099099099097\n"
     ]
    },
    {
     "name": "stderr",
     "output_type": "stream",
     "text": [
      "C:\\Users\\Nour Al-Hoda\\Anaconda3\\lib\\site-packages\\sklearn\\linear_model\\logistic.py:433: FutureWarning: Default solver will be changed to 'lbfgs' in 0.22. Specify a solver to silence this warning.\n",
      "  FutureWarning)\n"
     ]
    },
    {
     "name": "stdout",
     "output_type": "stream",
     "text": [
      "Gradient Boosting Classifier\n",
      "[[108   3]\n",
      " [  2   0]]\n",
      "0.4864864864864865\n",
      "Decision Tree\n",
      "[[107   4]\n",
      " [  2   0]]\n",
      "0.481981981981982\n",
      "Random Forest\n",
      "[[110   1]\n",
      " [  2   0]]\n",
      "0.4954954954954955\n"
     ]
    },
    {
     "name": "stderr",
     "output_type": "stream",
     "text": [
      "C:\\Users\\Nour Al-Hoda\\Anaconda3\\lib\\site-packages\\sklearn\\neural_network\\multilayer_perceptron.py:562: ConvergenceWarning: Stochastic Optimizer: Maximum iterations (200) reached and the optimization hasn't converged yet.\n",
      "  % self.max_iter, ConvergenceWarning)\n"
     ]
    },
    {
     "name": "stdout",
     "output_type": "stream",
     "text": [
      "Neural Net\n",
      "[[110   1]\n",
      " [  2   0]]\n",
      "0.4954954954954955\n",
      "Naive Bayes\n",
      "[[111   0]\n",
      " [  2   0]]\n",
      "0.5\n",
      "AdaBoost\n",
      "[[111   0]\n",
      " [  2   0]]\n",
      "0.5\n",
      "Gaussian Process\n",
      "[[111   0]\n",
      " [  2   0]]\n",
      "0.5\n",
      "=================================================================\n",
      "Results for  165  PCA components\n",
      "=================================================================\n",
      "Logistic Regression\n",
      "[[107   4]\n",
      " [  2   0]]\n",
      "0.481981981981982\n",
      "Nearest Neighbors\n",
      "[[111   0]\n",
      " [  2   0]]\n",
      "0.5\n",
      "Linear SVM\n",
      "[[109   2]\n",
      " [  2   0]]\n",
      "0.49099099099099097\n"
     ]
    },
    {
     "name": "stderr",
     "output_type": "stream",
     "text": [
      "C:\\Users\\Nour Al-Hoda\\Anaconda3\\lib\\site-packages\\sklearn\\linear_model\\logistic.py:433: FutureWarning: Default solver will be changed to 'lbfgs' in 0.22. Specify a solver to silence this warning.\n",
      "  FutureWarning)\n"
     ]
    },
    {
     "name": "stdout",
     "output_type": "stream",
     "text": [
      "Gradient Boosting Classifier\n",
      "[[104   7]\n",
      " [  2   0]]\n",
      "0.46846846846846846\n",
      "Decision Tree\n",
      "[[104   7]\n",
      " [  2   0]]\n",
      "0.46846846846846846\n",
      "Random Forest\n",
      "[[110   1]\n",
      " [  2   0]]\n",
      "0.4954954954954955\n"
     ]
    },
    {
     "name": "stderr",
     "output_type": "stream",
     "text": [
      "C:\\Users\\Nour Al-Hoda\\Anaconda3\\lib\\site-packages\\sklearn\\neural_network\\multilayer_perceptron.py:562: ConvergenceWarning: Stochastic Optimizer: Maximum iterations (200) reached and the optimization hasn't converged yet.\n",
      "  % self.max_iter, ConvergenceWarning)\n"
     ]
    },
    {
     "name": "stdout",
     "output_type": "stream",
     "text": [
      "Neural Net\n",
      "[[110   1]\n",
      " [  2   0]]\n",
      "0.4954954954954955\n",
      "Naive Bayes\n",
      "[[111   0]\n",
      " [  2   0]]\n",
      "0.5\n",
      "AdaBoost\n",
      "[[111   0]\n",
      " [  2   0]]\n",
      "0.5\n",
      "Gaussian Process\n",
      "[[111   0]\n",
      " [  2   0]]\n",
      "0.5\n",
      "=================================================================\n",
      "Results for  180  PCA components\n",
      "=================================================================\n",
      "Logistic Regression\n",
      "[[107   4]\n",
      " [  2   0]]\n",
      "0.481981981981982\n",
      "Nearest Neighbors\n",
      "[[111   0]\n",
      " [  2   0]]\n",
      "0.5\n",
      "Linear SVM\n",
      "[[109   2]\n",
      " [  2   0]]\n",
      "0.49099099099099097\n"
     ]
    },
    {
     "name": "stderr",
     "output_type": "stream",
     "text": [
      "C:\\Users\\Nour Al-Hoda\\Anaconda3\\lib\\site-packages\\sklearn\\linear_model\\logistic.py:433: FutureWarning: Default solver will be changed to 'lbfgs' in 0.22. Specify a solver to silence this warning.\n",
      "  FutureWarning)\n"
     ]
    },
    {
     "name": "stdout",
     "output_type": "stream",
     "text": [
      "Gradient Boosting Classifier\n",
      "[[106   5]\n",
      " [  2   0]]\n",
      "0.4774774774774775\n",
      "Decision Tree\n",
      "[[105   6]\n",
      " [  2   0]]\n",
      "0.47297297297297297\n",
      "Random Forest\n",
      "[[111   0]\n",
      " [  2   0]]\n",
      "0.5\n"
     ]
    },
    {
     "name": "stderr",
     "output_type": "stream",
     "text": [
      "C:\\Users\\Nour Al-Hoda\\Anaconda3\\lib\\site-packages\\sklearn\\neural_network\\multilayer_perceptron.py:562: ConvergenceWarning: Stochastic Optimizer: Maximum iterations (200) reached and the optimization hasn't converged yet.\n",
      "  % self.max_iter, ConvergenceWarning)\n"
     ]
    },
    {
     "name": "stdout",
     "output_type": "stream",
     "text": [
      "Neural Net\n",
      "[[111   0]\n",
      " [  2   0]]\n",
      "0.5\n",
      "Naive Bayes\n",
      "[[111   0]\n",
      " [  2   0]]\n",
      "0.5\n",
      "AdaBoost\n",
      "[[110   1]\n",
      " [  2   0]]\n",
      "0.4954954954954955\n",
      "Gaussian Process\n",
      "[[111   0]\n",
      " [  2   0]]\n",
      "0.5\n",
      "=================================================================\n",
      "Results for  195  PCA components\n",
      "=================================================================\n"
     ]
    },
    {
     "name": "stderr",
     "output_type": "stream",
     "text": [
      "C:\\Users\\Nour Al-Hoda\\Anaconda3\\lib\\site-packages\\sklearn\\linear_model\\logistic.py:433: FutureWarning: Default solver will be changed to 'lbfgs' in 0.22. Specify a solver to silence this warning.\n",
      "  FutureWarning)\n"
     ]
    },
    {
     "name": "stdout",
     "output_type": "stream",
     "text": [
      "Logistic Regression\n",
      "[[107   4]\n",
      " [  2   0]]\n",
      "0.481981981981982\n",
      "Nearest Neighbors\n",
      "[[111   0]\n",
      " [  2   0]]\n",
      "0.5\n",
      "Linear SVM\n",
      "[[109   2]\n",
      " [  2   0]]\n",
      "0.49099099099099097\n",
      "Gradient Boosting Classifier\n",
      "[[106   5]\n",
      " [  2   0]]\n",
      "0.4774774774774775\n",
      "Decision Tree\n",
      "[[105   6]\n",
      " [  2   0]]\n",
      "0.47297297297297297\n",
      "Random Forest\n",
      "[[110   1]\n",
      " [  2   0]]\n",
      "0.4954954954954955\n"
     ]
    },
    {
     "name": "stderr",
     "output_type": "stream",
     "text": [
      "C:\\Users\\Nour Al-Hoda\\Anaconda3\\lib\\site-packages\\sklearn\\neural_network\\multilayer_perceptron.py:562: ConvergenceWarning: Stochastic Optimizer: Maximum iterations (200) reached and the optimization hasn't converged yet.\n",
      "  % self.max_iter, ConvergenceWarning)\n"
     ]
    },
    {
     "name": "stdout",
     "output_type": "stream",
     "text": [
      "Neural Net\n",
      "[[110   1]\n",
      " [  2   0]]\n",
      "0.4954954954954955\n",
      "Naive Bayes\n",
      "[[111   0]\n",
      " [  2   0]]\n",
      "0.5\n",
      "AdaBoost\n",
      "[[111   0]\n",
      " [  2   0]]\n",
      "0.5\n",
      "Gaussian Process\n",
      "[[111   0]\n",
      " [  2   0]]\n",
      "0.5\n",
      "=================================================================\n",
      "Results for  210  PCA components\n",
      "=================================================================\n"
     ]
    },
    {
     "name": "stderr",
     "output_type": "stream",
     "text": [
      "C:\\Users\\Nour Al-Hoda\\Anaconda3\\lib\\site-packages\\sklearn\\linear_model\\logistic.py:433: FutureWarning: Default solver will be changed to 'lbfgs' in 0.22. Specify a solver to silence this warning.\n",
      "  FutureWarning)\n"
     ]
    },
    {
     "name": "stdout",
     "output_type": "stream",
     "text": [
      "Logistic Regression\n",
      "[[107   4]\n",
      " [  2   0]]\n",
      "0.481981981981982\n",
      "Nearest Neighbors\n",
      "[[111   0]\n",
      " [  2   0]]\n",
      "0.5\n",
      "Linear SVM\n",
      "[[109   2]\n",
      " [  2   0]]\n",
      "0.49099099099099097\n",
      "Gradient Boosting Classifier\n",
      "[[106   5]\n",
      " [  2   0]]\n",
      "0.4774774774774775\n",
      "Decision Tree\n",
      "[[104   7]\n",
      " [  2   0]]\n",
      "0.46846846846846846\n",
      "Random Forest\n",
      "[[111   0]\n",
      " [  2   0]]\n",
      "0.5\n"
     ]
    },
    {
     "name": "stderr",
     "output_type": "stream",
     "text": [
      "C:\\Users\\Nour Al-Hoda\\Anaconda3\\lib\\site-packages\\sklearn\\neural_network\\multilayer_perceptron.py:562: ConvergenceWarning: Stochastic Optimizer: Maximum iterations (200) reached and the optimization hasn't converged yet.\n",
      "  % self.max_iter, ConvergenceWarning)\n"
     ]
    },
    {
     "name": "stdout",
     "output_type": "stream",
     "text": [
      "Neural Net\n",
      "[[110   1]\n",
      " [  2   0]]\n",
      "0.4954954954954955\n",
      "Naive Bayes\n",
      "[[111   0]\n",
      " [  2   0]]\n",
      "0.5\n",
      "AdaBoost\n",
      "[[111   0]\n",
      " [  2   0]]\n",
      "0.5\n",
      "Gaussian Process\n",
      "[[111   0]\n",
      " [  2   0]]\n",
      "0.5\n",
      "=================================================================\n",
      "Results for  225  PCA components\n",
      "=================================================================\n",
      "Logistic Regression\n",
      "[[107   4]\n",
      " [  2   0]]\n",
      "0.481981981981982\n",
      "Nearest Neighbors\n",
      "[[111   0]\n",
      " [  2   0]]\n",
      "0.5\n",
      "Linear SVM\n",
      "[[109   2]\n",
      " [  2   0]]\n",
      "0.49099099099099097\n"
     ]
    },
    {
     "name": "stderr",
     "output_type": "stream",
     "text": [
      "C:\\Users\\Nour Al-Hoda\\Anaconda3\\lib\\site-packages\\sklearn\\linear_model\\logistic.py:433: FutureWarning: Default solver will be changed to 'lbfgs' in 0.22. Specify a solver to silence this warning.\n",
      "  FutureWarning)\n"
     ]
    },
    {
     "name": "stdout",
     "output_type": "stream",
     "text": [
      "Gradient Boosting Classifier\n",
      "[[105   6]\n",
      " [  2   0]]\n",
      "0.47297297297297297\n",
      "Decision Tree\n",
      "[[105   6]\n",
      " [  2   0]]\n",
      "0.47297297297297297\n",
      "Random Forest\n",
      "[[110   1]\n",
      " [  2   0]]\n",
      "0.4954954954954955\n"
     ]
    },
    {
     "name": "stderr",
     "output_type": "stream",
     "text": [
      "C:\\Users\\Nour Al-Hoda\\Anaconda3\\lib\\site-packages\\sklearn\\neural_network\\multilayer_perceptron.py:562: ConvergenceWarning: Stochastic Optimizer: Maximum iterations (200) reached and the optimization hasn't converged yet.\n",
      "  % self.max_iter, ConvergenceWarning)\n"
     ]
    },
    {
     "name": "stdout",
     "output_type": "stream",
     "text": [
      "Neural Net\n",
      "[[110   1]\n",
      " [  2   0]]\n",
      "0.4954954954954955\n",
      "Naive Bayes\n",
      "[[111   0]\n",
      " [  2   0]]\n",
      "0.5\n",
      "AdaBoost\n",
      "[[111   0]\n",
      " [  2   0]]\n",
      "0.5\n",
      "Gaussian Process\n",
      "[[111   0]\n",
      " [  2   0]]\n",
      "0.5\n",
      "=================================================================\n",
      "=================================================================\n",
      "Results for  Wagih2\n",
      "(721, 2689)\n",
      "=================================================================\n",
      "=================================================================\n",
      "=================================================================\n",
      "Training 10 different classifiers on raw data\n",
      "=================================================================\n"
     ]
    },
    {
     "name": "stderr",
     "output_type": "stream",
     "text": [
      "C:\\Users\\Nour Al-Hoda\\Anaconda3\\lib\\site-packages\\sklearn\\linear_model\\logistic.py:433: FutureWarning: Default solver will be changed to 'lbfgs' in 0.22. Specify a solver to silence this warning.\n",
      "  FutureWarning)\n"
     ]
    },
    {
     "name": "stdout",
     "output_type": "stream",
     "text": [
      "Logistic Regression\n",
      "[[229   2]\n",
      " [  3   4]]\n",
      "0.7813852813852814\n",
      "Nearest Neighbors\n",
      "[[231   0]\n",
      " [  7   0]]\n",
      "0.5\n",
      "Linear SVM\n",
      "[[228   3]\n",
      " [  2   5]]\n",
      "0.8506493506493508\n",
      "Gradient Boosting Classifier\n",
      "[[230   1]\n",
      " [  6   1]]\n",
      "0.5692640692640693\n",
      "Decision Tree\n",
      "[[219  12]\n",
      " [  2   5]]\n",
      "0.8311688311688312\n",
      "Random Forest\n",
      "[[230   1]\n",
      " [  5   2]]\n",
      "0.6406926406926406\n",
      "Neural Net\n",
      "[[  0 231]\n",
      " [  0   7]]\n",
      "0.5\n",
      "Naive Bayes\n",
      "[[216  15]\n",
      " [  2   5]]\n",
      "0.8246753246753248\n",
      "AdaBoost\n",
      "[[231   0]\n",
      " [  5   2]]\n",
      "0.6428571428571428\n",
      "Gaussian Process\n",
      "[[231   0]\n",
      " [  7   0]]\n",
      "0.5\n",
      "(721, 2689)\n",
      "=================================================================\n",
      "Training 10 different classifiers on data after applying CAR filter\n",
      "=================================================================\n"
     ]
    },
    {
     "name": "stderr",
     "output_type": "stream",
     "text": [
      "C:\\Users\\Nour Al-Hoda\\Anaconda3\\lib\\site-packages\\sklearn\\linear_model\\logistic.py:433: FutureWarning: Default solver will be changed to 'lbfgs' in 0.22. Specify a solver to silence this warning.\n",
      "  FutureWarning)\n"
     ]
    },
    {
     "name": "stdout",
     "output_type": "stream",
     "text": [
      "Logistic Regression\n",
      "[[114 117]\n",
      " [  1   6]]\n",
      "0.6753246753246753\n",
      "Nearest Neighbors\n",
      "[[231   0]\n",
      " [  7   0]]\n",
      "0.5\n",
      "Linear SVM\n",
      "[[228   3]\n",
      " [  2   5]]\n",
      "0.8506493506493508\n",
      "Gradient Boosting Classifier\n",
      "[[229   2]\n",
      " [  6   1]]\n",
      "0.5670995670995671\n",
      "Decision Tree\n",
      "[[218  13]\n",
      " [  2   5]]\n",
      "0.8290043290043291\n",
      "Random Forest\n",
      "[[230   1]\n",
      " [  5   2]]\n",
      "0.6406926406926406\n"
     ]
    },
    {
     "name": "stderr",
     "output_type": "stream",
     "text": [
      "C:\\Users\\Nour Al-Hoda\\Anaconda3\\lib\\site-packages\\sklearn\\neural_network\\multilayer_perceptron.py:562: ConvergenceWarning: Stochastic Optimizer: Maximum iterations (200) reached and the optimization hasn't converged yet.\n",
      "  % self.max_iter, ConvergenceWarning)\n"
     ]
    },
    {
     "name": "stdout",
     "output_type": "stream",
     "text": [
      "Neural Net\n",
      "[[225   6]\n",
      " [  2   5]]\n",
      "0.8441558441558442\n",
      "Naive Bayes\n",
      "[[216  15]\n",
      " [  2   5]]\n",
      "0.8246753246753248\n",
      "AdaBoost\n",
      "[[231   0]\n",
      " [  5   2]]\n",
      "0.6428571428571428\n",
      "Gaussian Process\n",
      "[[231   0]\n",
      " [  7   0]]\n",
      "0.5\n",
      "=================================================================\n",
      "Training 10 different classifiers, and different PCA components without CAR filter\n",
      "=================================================================\n",
      "=================================================================\n",
      "Results for  15  PCA components\n",
      "=================================================================\n"
     ]
    },
    {
     "name": "stderr",
     "output_type": "stream",
     "text": [
      "C:\\Users\\Nour Al-Hoda\\Anaconda3\\lib\\site-packages\\sklearn\\linear_model\\logistic.py:433: FutureWarning: Default solver will be changed to 'lbfgs' in 0.22. Specify a solver to silence this warning.\n",
      "  FutureWarning)\n"
     ]
    },
    {
     "name": "stdout",
     "output_type": "stream",
     "text": [
      "Logistic Regression\n",
      "[[226   5]\n",
      " [  6   1]]\n",
      "0.5606060606060606\n",
      "Nearest Neighbors\n",
      "[[231   0]\n",
      " [  6   1]]\n",
      "0.5714285714285714\n",
      "Linear SVM\n",
      "[[225   6]\n",
      " [  6   1]]\n",
      "0.5584415584415584\n",
      "Gradient Boosting Classifier\n",
      "[[228   3]\n",
      " [  5   2]]\n",
      "0.6363636363636364\n",
      "Decision Tree\n",
      "[[224   7]\n",
      " [  4   3]]\n",
      "0.6991341991341992\n",
      "Random Forest\n",
      "[[228   3]\n",
      " [  7   0]]\n",
      "0.4935064935064935\n"
     ]
    },
    {
     "name": "stderr",
     "output_type": "stream",
     "text": [
      "C:\\Users\\Nour Al-Hoda\\Anaconda3\\lib\\site-packages\\sklearn\\neural_network\\multilayer_perceptron.py:562: ConvergenceWarning: Stochastic Optimizer: Maximum iterations (200) reached and the optimization hasn't converged yet.\n",
      "  % self.max_iter, ConvergenceWarning)\n"
     ]
    },
    {
     "name": "stdout",
     "output_type": "stream",
     "text": [
      "Neural Net\n",
      "[[230   1]\n",
      " [  4   3]]\n",
      "0.7121212121212122\n",
      "Naive Bayes\n",
      "[[224   7]\n",
      " [  4   3]]\n",
      "0.6991341991341992\n",
      "AdaBoost\n",
      "[[229   2]\n",
      " [  6   1]]\n",
      "0.5670995670995671\n",
      "Gaussian Process\n",
      "[[228   3]\n",
      " [  6   1]]\n",
      "0.5649350649350648\n",
      "=================================================================\n",
      "Results for  30  PCA components\n",
      "=================================================================\n"
     ]
    },
    {
     "name": "stderr",
     "output_type": "stream",
     "text": [
      "C:\\Users\\Nour Al-Hoda\\Anaconda3\\lib\\site-packages\\sklearn\\linear_model\\logistic.py:433: FutureWarning: Default solver will be changed to 'lbfgs' in 0.22. Specify a solver to silence this warning.\n",
      "  FutureWarning)\n"
     ]
    },
    {
     "name": "stdout",
     "output_type": "stream",
     "text": [
      "Logistic Regression\n",
      "[[227   4]\n",
      " [  2   5]]\n",
      "0.8484848484848486\n",
      "Nearest Neighbors\n",
      "[[231   0]\n",
      " [  7   0]]\n",
      "0.5\n",
      "Linear SVM\n",
      "[[226   5]\n",
      " [  3   4]]\n",
      "0.7748917748917749\n",
      "Gradient Boosting Classifier\n",
      "[[228   3]\n",
      " [  7   0]]\n",
      "0.4935064935064935\n",
      "Decision Tree\n",
      "[[229   2]\n",
      " [  3   4]]\n",
      "0.7813852813852814\n",
      "Random Forest\n",
      "[[231   0]\n",
      " [  7   0]]\n",
      "0.5\n"
     ]
    },
    {
     "name": "stderr",
     "output_type": "stream",
     "text": [
      "C:\\Users\\Nour Al-Hoda\\Anaconda3\\lib\\site-packages\\sklearn\\neural_network\\multilayer_perceptron.py:562: ConvergenceWarning: Stochastic Optimizer: Maximum iterations (200) reached and the optimization hasn't converged yet.\n",
      "  % self.max_iter, ConvergenceWarning)\n"
     ]
    },
    {
     "name": "stdout",
     "output_type": "stream",
     "text": [
      "Neural Net\n",
      "[[231   0]\n",
      " [  4   3]]\n",
      "0.7142857142857143\n",
      "Naive Bayes\n",
      "[[217  14]\n",
      " [  4   3]]\n",
      "0.683982683982684\n",
      "AdaBoost\n",
      "[[229   2]\n",
      " [  6   1]]\n",
      "0.5670995670995671\n",
      "Gaussian Process\n",
      "[[231   0]\n",
      " [  7   0]]\n",
      "0.5\n",
      "=================================================================\n",
      "Results for  45  PCA components\n",
      "=================================================================\n",
      "Logistic Regression\n",
      "[[227   4]\n",
      " [  2   5]]\n",
      "0.8484848484848486\n",
      "Nearest Neighbors\n",
      "[[231   0]\n",
      " [  7   0]]\n",
      "0.5\n",
      "Linear SVM\n",
      "[[225   6]\n",
      " [  3   4]]\n",
      "0.7727272727272727\n"
     ]
    },
    {
     "name": "stderr",
     "output_type": "stream",
     "text": [
      "C:\\Users\\Nour Al-Hoda\\Anaconda3\\lib\\site-packages\\sklearn\\linear_model\\logistic.py:433: FutureWarning: Default solver will be changed to 'lbfgs' in 0.22. Specify a solver to silence this warning.\n",
      "  FutureWarning)\n"
     ]
    },
    {
     "name": "stdout",
     "output_type": "stream",
     "text": [
      "Gradient Boosting Classifier\n",
      "[[227   4]\n",
      " [  5   2]]\n",
      "0.6341991341991342\n",
      "Decision Tree\n",
      "[[223   8]\n",
      " [  4   3]]\n",
      "0.696969696969697\n",
      "Random Forest\n",
      "[[228   3]\n",
      " [  6   1]]\n",
      "0.5649350649350648\n"
     ]
    },
    {
     "name": "stderr",
     "output_type": "stream",
     "text": [
      "C:\\Users\\Nour Al-Hoda\\Anaconda3\\lib\\site-packages\\sklearn\\neural_network\\multilayer_perceptron.py:562: ConvergenceWarning: Stochastic Optimizer: Maximum iterations (200) reached and the optimization hasn't converged yet.\n",
      "  % self.max_iter, ConvergenceWarning)\n"
     ]
    },
    {
     "name": "stdout",
     "output_type": "stream",
     "text": [
      "Neural Net\n",
      "[[230   1]\n",
      " [  6   1]]\n",
      "0.5692640692640693\n",
      "Naive Bayes\n",
      "[[216  15]\n",
      " [  1   6]]\n",
      "0.8961038961038962\n",
      "AdaBoost\n",
      "[[231   0]\n",
      " [  3   4]]\n",
      "0.7857142857142857\n",
      "Gaussian Process\n",
      "[[231   0]\n",
      " [  7   0]]\n",
      "0.5\n",
      "=================================================================\n",
      "Results for  60  PCA components\n",
      "=================================================================\n"
     ]
    },
    {
     "name": "stderr",
     "output_type": "stream",
     "text": [
      "C:\\Users\\Nour Al-Hoda\\Anaconda3\\lib\\site-packages\\sklearn\\linear_model\\logistic.py:433: FutureWarning: Default solver will be changed to 'lbfgs' in 0.22. Specify a solver to silence this warning.\n",
      "  FutureWarning)\n"
     ]
    },
    {
     "name": "stdout",
     "output_type": "stream",
     "text": [
      "Logistic Regression\n",
      "[[228   3]\n",
      " [  3   4]]\n",
      "0.7792207792207791\n",
      "Nearest Neighbors\n",
      "[[231   0]\n",
      " [  7   0]]\n",
      "0.5\n",
      "Linear SVM\n",
      "[[228   3]\n",
      " [  3   4]]\n",
      "0.7792207792207791\n",
      "Gradient Boosting Classifier\n",
      "[[226   5]\n",
      " [  4   3]]\n",
      "0.7034632034632035\n",
      "Decision Tree\n",
      "[[228   3]\n",
      " [  3   4]]\n",
      "0.7792207792207791\n",
      "Random Forest\n",
      "[[229   2]\n",
      " [  6   1]]\n",
      "0.5670995670995671\n"
     ]
    },
    {
     "name": "stderr",
     "output_type": "stream",
     "text": [
      "C:\\Users\\Nour Al-Hoda\\Anaconda3\\lib\\site-packages\\sklearn\\neural_network\\multilayer_perceptron.py:562: ConvergenceWarning: Stochastic Optimizer: Maximum iterations (200) reached and the optimization hasn't converged yet.\n",
      "  % self.max_iter, ConvergenceWarning)\n"
     ]
    },
    {
     "name": "stdout",
     "output_type": "stream",
     "text": [
      "Neural Net\n",
      "[[230   1]\n",
      " [  4   3]]\n",
      "0.7121212121212122\n",
      "Naive Bayes\n",
      "[[214  17]\n",
      " [  1   6]]\n",
      "0.8917748917748918\n",
      "AdaBoost\n",
      "[[228   3]\n",
      " [  3   4]]\n",
      "0.7792207792207791\n",
      "Gaussian Process\n",
      "[[231   0]\n",
      " [  7   0]]\n",
      "0.5\n",
      "=================================================================\n",
      "Results for  75  PCA components\n",
      "=================================================================\n",
      "Logistic Regression\n",
      "[[228   3]\n",
      " [  2   5]]\n",
      "0.8506493506493508\n",
      "Nearest Neighbors\n",
      "[[231   0]\n",
      " [  7   0]]\n",
      "0.5\n",
      "Linear SVM\n",
      "[[228   3]\n",
      " [  2   5]]\n",
      "0.8506493506493508\n"
     ]
    },
    {
     "name": "stderr",
     "output_type": "stream",
     "text": [
      "C:\\Users\\Nour Al-Hoda\\Anaconda3\\lib\\site-packages\\sklearn\\linear_model\\logistic.py:433: FutureWarning: Default solver will be changed to 'lbfgs' in 0.22. Specify a solver to silence this warning.\n",
      "  FutureWarning)\n"
     ]
    },
    {
     "name": "stdout",
     "output_type": "stream",
     "text": [
      "Gradient Boosting Classifier\n",
      "[[224   7]\n",
      " [  3   4]]\n",
      "0.7705627705627706\n",
      "Decision Tree\n",
      "[[221  10]\n",
      " [  4   3]]\n",
      "0.6926406926406927\n",
      "Random Forest\n",
      "[[228   3]\n",
      " [  6   1]]\n",
      "0.5649350649350648\n"
     ]
    },
    {
     "name": "stderr",
     "output_type": "stream",
     "text": [
      "C:\\Users\\Nour Al-Hoda\\Anaconda3\\lib\\site-packages\\sklearn\\neural_network\\multilayer_perceptron.py:562: ConvergenceWarning: Stochastic Optimizer: Maximum iterations (200) reached and the optimization hasn't converged yet.\n",
      "  % self.max_iter, ConvergenceWarning)\n"
     ]
    },
    {
     "name": "stdout",
     "output_type": "stream",
     "text": [
      "Neural Net\n",
      "[[230   1]\n",
      " [  5   2]]\n",
      "0.6406926406926406\n",
      "Naive Bayes\n",
      "[[209  22]\n",
      " [  1   6]]\n",
      "0.880952380952381\n",
      "AdaBoost\n",
      "[[229   2]\n",
      " [  3   4]]\n",
      "0.7813852813852814\n",
      "Gaussian Process\n",
      "[[231   0]\n",
      " [  7   0]]\n",
      "0.5\n",
      "=================================================================\n",
      "Results for  90  PCA components\n",
      "=================================================================\n",
      "Logistic Regression\n",
      "[[227   4]\n",
      " [  3   4]]\n",
      "0.777056277056277\n",
      "Nearest Neighbors\n",
      "[[231   0]\n",
      " [  7   0]]\n",
      "0.5\n",
      "Linear SVM\n",
      "[[227   4]\n",
      " [  3   4]]\n",
      "0.777056277056277\n"
     ]
    },
    {
     "name": "stderr",
     "output_type": "stream",
     "text": [
      "C:\\Users\\Nour Al-Hoda\\Anaconda3\\lib\\site-packages\\sklearn\\linear_model\\logistic.py:433: FutureWarning: Default solver will be changed to 'lbfgs' in 0.22. Specify a solver to silence this warning.\n",
      "  FutureWarning)\n"
     ]
    },
    {
     "name": "stdout",
     "output_type": "stream",
     "text": [
      "Gradient Boosting Classifier\n",
      "[[228   3]\n",
      " [  3   4]]\n",
      "0.7792207792207791\n",
      "Decision Tree\n",
      "[[228   3]\n",
      " [  4   3]]\n",
      "0.7077922077922078\n",
      "Random Forest\n",
      "[[226   5]\n",
      " [  5   2]]\n",
      "0.632034632034632\n"
     ]
    },
    {
     "name": "stderr",
     "output_type": "stream",
     "text": [
      "C:\\Users\\Nour Al-Hoda\\Anaconda3\\lib\\site-packages\\sklearn\\neural_network\\multilayer_perceptron.py:562: ConvergenceWarning: Stochastic Optimizer: Maximum iterations (200) reached and the optimization hasn't converged yet.\n",
      "  % self.max_iter, ConvergenceWarning)\n"
     ]
    },
    {
     "name": "stdout",
     "output_type": "stream",
     "text": [
      "Neural Net\n",
      "[[230   1]\n",
      " [  5   2]]\n",
      "0.6406926406926406\n",
      "Naive Bayes\n",
      "[[207  24]\n",
      " [  1   6]]\n",
      "0.8766233766233766\n",
      "AdaBoost\n",
      "[[229   2]\n",
      " [  3   4]]\n",
      "0.7813852813852814\n",
      "Gaussian Process\n",
      "[[231   0]\n",
      " [  7   0]]\n",
      "0.5\n",
      "=================================================================\n",
      "Results for  105  PCA components\n",
      "=================================================================\n",
      "Logistic Regression\n",
      "[[228   3]\n",
      " [  2   5]]\n",
      "0.8506493506493508\n",
      "Nearest Neighbors\n",
      "[[231   0]\n",
      " [  7   0]]\n",
      "0.5\n",
      "Linear SVM\n",
      "[[229   2]\n",
      " [  3   4]]\n",
      "0.7813852813852814\n"
     ]
    },
    {
     "name": "stderr",
     "output_type": "stream",
     "text": [
      "C:\\Users\\Nour Al-Hoda\\Anaconda3\\lib\\site-packages\\sklearn\\linear_model\\logistic.py:433: FutureWarning: Default solver will be changed to 'lbfgs' in 0.22. Specify a solver to silence this warning.\n",
      "  FutureWarning)\n"
     ]
    },
    {
     "name": "stdout",
     "output_type": "stream",
     "text": [
      "Gradient Boosting Classifier\n",
      "[[228   3]\n",
      " [  5   2]]\n",
      "0.6363636363636364\n",
      "Decision Tree\n",
      "[[226   5]\n",
      " [  4   3]]\n",
      "0.7034632034632035\n",
      "Random Forest\n",
      "[[227   4]\n",
      " [  6   1]]\n",
      "0.5627705627705628\n"
     ]
    },
    {
     "name": "stderr",
     "output_type": "stream",
     "text": [
      "C:\\Users\\Nour Al-Hoda\\Anaconda3\\lib\\site-packages\\sklearn\\neural_network\\multilayer_perceptron.py:562: ConvergenceWarning: Stochastic Optimizer: Maximum iterations (200) reached and the optimization hasn't converged yet.\n",
      "  % self.max_iter, ConvergenceWarning)\n"
     ]
    },
    {
     "name": "stdout",
     "output_type": "stream",
     "text": [
      "Neural Net\n",
      "[[230   1]\n",
      " [  6   1]]\n",
      "0.5692640692640693\n",
      "Naive Bayes\n",
      "[[206  25]\n",
      " [  1   6]]\n",
      "0.8744588744588745\n",
      "AdaBoost\n",
      "[[226   5]\n",
      " [  3   4]]\n",
      "0.7748917748917749\n",
      "Gaussian Process\n",
      "[[231   0]\n",
      " [  7   0]]\n",
      "0.5\n",
      "=================================================================\n",
      "Results for  120  PCA components\n",
      "=================================================================\n",
      "Logistic Regression\n",
      "[[228   3]\n",
      " [  2   5]]\n",
      "0.8506493506493508\n",
      "Nearest Neighbors\n",
      "[[231   0]\n",
      " [  7   0]]\n",
      "0.5\n",
      "Linear SVM\n",
      "[[229   2]\n",
      " [  2   5]]\n",
      "0.8528138528138529\n"
     ]
    },
    {
     "name": "stderr",
     "output_type": "stream",
     "text": [
      "C:\\Users\\Nour Al-Hoda\\Anaconda3\\lib\\site-packages\\sklearn\\linear_model\\logistic.py:433: FutureWarning: Default solver will be changed to 'lbfgs' in 0.22. Specify a solver to silence this warning.\n",
      "  FutureWarning)\n"
     ]
    },
    {
     "name": "stdout",
     "output_type": "stream",
     "text": [
      "Gradient Boosting Classifier\n",
      "[[227   4]\n",
      " [  4   3]]\n",
      "0.7056277056277056\n",
      "Decision Tree\n",
      "[[228   3]\n",
      " [  3   4]]\n",
      "0.7792207792207791\n",
      "Random Forest\n",
      "[[226   5]\n",
      " [  5   2]]\n",
      "0.632034632034632\n"
     ]
    },
    {
     "name": "stderr",
     "output_type": "stream",
     "text": [
      "C:\\Users\\Nour Al-Hoda\\Anaconda3\\lib\\site-packages\\sklearn\\neural_network\\multilayer_perceptron.py:562: ConvergenceWarning: Stochastic Optimizer: Maximum iterations (200) reached and the optimization hasn't converged yet.\n",
      "  % self.max_iter, ConvergenceWarning)\n"
     ]
    },
    {
     "name": "stdout",
     "output_type": "stream",
     "text": [
      "Neural Net\n",
      "[[230   1]\n",
      " [  4   3]]\n",
      "0.7121212121212122\n",
      "Naive Bayes\n",
      "[[206  25]\n",
      " [  1   6]]\n",
      "0.8744588744588745\n",
      "AdaBoost\n",
      "[[225   6]\n",
      " [  3   4]]\n",
      "0.7727272727272727\n",
      "Gaussian Process\n",
      "[[231   0]\n",
      " [  7   0]]\n",
      "0.5\n",
      "=================================================================\n",
      "Results for  135  PCA components\n",
      "=================================================================\n",
      "Logistic Regression\n",
      "[[228   3]\n",
      " [  2   5]]\n",
      "0.8506493506493508\n",
      "Nearest Neighbors\n",
      "[[231   0]\n",
      " [  7   0]]\n",
      "0.5\n",
      "Linear SVM\n",
      "[[229   2]\n",
      " [  2   5]]\n",
      "0.8528138528138529\n"
     ]
    },
    {
     "name": "stderr",
     "output_type": "stream",
     "text": [
      "C:\\Users\\Nour Al-Hoda\\Anaconda3\\lib\\site-packages\\sklearn\\linear_model\\logistic.py:433: FutureWarning: Default solver will be changed to 'lbfgs' in 0.22. Specify a solver to silence this warning.\n",
      "  FutureWarning)\n"
     ]
    },
    {
     "name": "stdout",
     "output_type": "stream",
     "text": [
      "Gradient Boosting Classifier\n",
      "[[226   5]\n",
      " [  4   3]]\n",
      "0.7034632034632035\n",
      "Decision Tree\n",
      "[[227   4]\n",
      " [  4   3]]\n",
      "0.7056277056277056\n",
      "Random Forest\n",
      "[[226   5]\n",
      " [  7   0]]\n",
      "0.48917748917748916\n"
     ]
    },
    {
     "name": "stderr",
     "output_type": "stream",
     "text": [
      "C:\\Users\\Nour Al-Hoda\\Anaconda3\\lib\\site-packages\\sklearn\\neural_network\\multilayer_perceptron.py:562: ConvergenceWarning: Stochastic Optimizer: Maximum iterations (200) reached and the optimization hasn't converged yet.\n",
      "  % self.max_iter, ConvergenceWarning)\n"
     ]
    },
    {
     "name": "stdout",
     "output_type": "stream",
     "text": [
      "Neural Net\n",
      "[[230   1]\n",
      " [  5   2]]\n",
      "0.6406926406926406\n",
      "Naive Bayes\n",
      "[[205  26]\n",
      " [  1   6]]\n",
      "0.8722943722943723\n",
      "AdaBoost\n",
      "[[228   3]\n",
      " [  4   3]]\n",
      "0.7077922077922078\n",
      "Gaussian Process\n",
      "[[231   0]\n",
      " [  7   0]]\n",
      "0.5\n",
      "=================================================================\n",
      "Results for  150  PCA components\n",
      "=================================================================\n",
      "Logistic Regression\n",
      "[[228   3]\n",
      " [  2   5]]\n",
      "0.8506493506493508\n",
      "Nearest Neighbors\n",
      "[[231   0]\n",
      " [  7   0]]\n",
      "0.5\n",
      "Linear SVM\n",
      "[[228   3]\n",
      " [  2   5]]\n",
      "0.8506493506493508\n"
     ]
    },
    {
     "name": "stderr",
     "output_type": "stream",
     "text": [
      "C:\\Users\\Nour Al-Hoda\\Anaconda3\\lib\\site-packages\\sklearn\\linear_model\\logistic.py:433: FutureWarning: Default solver will be changed to 'lbfgs' in 0.22. Specify a solver to silence this warning.\n",
      "  FutureWarning)\n"
     ]
    },
    {
     "name": "stdout",
     "output_type": "stream",
     "text": [
      "Gradient Boosting Classifier\n",
      "[[228   3]\n",
      " [  5   2]]\n",
      "0.6363636363636364\n",
      "Decision Tree\n",
      "[[225   6]\n",
      " [  3   4]]\n",
      "0.7727272727272727\n",
      "Random Forest\n",
      "[[226   5]\n",
      " [  7   0]]\n",
      "0.48917748917748916\n"
     ]
    },
    {
     "name": "stderr",
     "output_type": "stream",
     "text": [
      "C:\\Users\\Nour Al-Hoda\\Anaconda3\\lib\\site-packages\\sklearn\\neural_network\\multilayer_perceptron.py:562: ConvergenceWarning: Stochastic Optimizer: Maximum iterations (200) reached and the optimization hasn't converged yet.\n",
      "  % self.max_iter, ConvergenceWarning)\n"
     ]
    },
    {
     "name": "stdout",
     "output_type": "stream",
     "text": [
      "Neural Net\n",
      "[[230   1]\n",
      " [  4   3]]\n",
      "0.7121212121212122\n",
      "Naive Bayes\n",
      "[[206  25]\n",
      " [  1   6]]\n",
      "0.8744588744588745\n",
      "AdaBoost\n",
      "[[228   3]\n",
      " [  5   2]]\n",
      "0.6363636363636364\n",
      "Gaussian Process\n",
      "[[231   0]\n",
      " [  7   0]]\n",
      "0.5\n",
      "=================================================================\n",
      "Results for  165  PCA components\n",
      "=================================================================\n",
      "Logistic Regression\n",
      "[[228   3]\n",
      " [  2   5]]\n",
      "0.8506493506493508\n",
      "Nearest Neighbors\n",
      "[[231   0]\n",
      " [  7   0]]\n",
      "0.5\n",
      "Linear SVM\n",
      "[[228   3]\n",
      " [  2   5]]\n",
      "0.8506493506493508\n"
     ]
    },
    {
     "name": "stderr",
     "output_type": "stream",
     "text": [
      "C:\\Users\\Nour Al-Hoda\\Anaconda3\\lib\\site-packages\\sklearn\\linear_model\\logistic.py:433: FutureWarning: Default solver will be changed to 'lbfgs' in 0.22. Specify a solver to silence this warning.\n",
      "  FutureWarning)\n"
     ]
    },
    {
     "name": "stdout",
     "output_type": "stream",
     "text": [
      "Gradient Boosting Classifier\n",
      "[[227   4]\n",
      " [  4   3]]\n",
      "0.7056277056277056\n",
      "Decision Tree\n",
      "[[226   5]\n",
      " [  3   4]]\n",
      "0.7748917748917749\n",
      "Random Forest\n",
      "[[226   5]\n",
      " [  7   0]]\n",
      "0.48917748917748916\n"
     ]
    },
    {
     "name": "stderr",
     "output_type": "stream",
     "text": [
      "C:\\Users\\Nour Al-Hoda\\Anaconda3\\lib\\site-packages\\sklearn\\neural_network\\multilayer_perceptron.py:562: ConvergenceWarning: Stochastic Optimizer: Maximum iterations (200) reached and the optimization hasn't converged yet.\n",
      "  % self.max_iter, ConvergenceWarning)\n"
     ]
    },
    {
     "name": "stdout",
     "output_type": "stream",
     "text": [
      "Neural Net\n",
      "[[230   1]\n",
      " [  5   2]]\n",
      "0.6406926406926406\n",
      "Naive Bayes\n",
      "[[211  20]\n",
      " [  1   6]]\n",
      "0.8852813852813853\n",
      "AdaBoost\n",
      "[[229   2]\n",
      " [  4   3]]\n",
      "0.70995670995671\n",
      "Gaussian Process\n",
      "[[231   0]\n",
      " [  7   0]]\n",
      "0.5\n",
      "=================================================================\n",
      "Results for  180  PCA components\n",
      "=================================================================\n",
      "Logistic Regression\n",
      "[[229   2]\n",
      " [  2   5]]\n",
      "0.8528138528138529\n",
      "Nearest Neighbors\n",
      "[[231   0]\n",
      " [  7   0]]\n",
      "0.5\n",
      "Linear SVM\n",
      "[[229   2]\n",
      " [  2   5]]\n",
      "0.8528138528138529\n"
     ]
    },
    {
     "name": "stderr",
     "output_type": "stream",
     "text": [
      "C:\\Users\\Nour Al-Hoda\\Anaconda3\\lib\\site-packages\\sklearn\\linear_model\\logistic.py:433: FutureWarning: Default solver will be changed to 'lbfgs' in 0.22. Specify a solver to silence this warning.\n",
      "  FutureWarning)\n"
     ]
    },
    {
     "name": "stdout",
     "output_type": "stream",
     "text": [
      "Gradient Boosting Classifier\n",
      "[[227   4]\n",
      " [  4   3]]\n",
      "0.7056277056277056\n",
      "Decision Tree\n",
      "[[229   2]\n",
      " [  4   3]]\n",
      "0.70995670995671\n",
      "Random Forest\n",
      "[[226   5]\n",
      " [  7   0]]\n",
      "0.48917748917748916\n"
     ]
    },
    {
     "name": "stderr",
     "output_type": "stream",
     "text": [
      "C:\\Users\\Nour Al-Hoda\\Anaconda3\\lib\\site-packages\\sklearn\\neural_network\\multilayer_perceptron.py:562: ConvergenceWarning: Stochastic Optimizer: Maximum iterations (200) reached and the optimization hasn't converged yet.\n",
      "  % self.max_iter, ConvergenceWarning)\n"
     ]
    },
    {
     "name": "stdout",
     "output_type": "stream",
     "text": [
      "Neural Net\n",
      "[[230   1]\n",
      " [  3   4]]\n",
      "0.7835497835497836\n",
      "Naive Bayes\n",
      "[[215  16]\n",
      " [  3   4]]\n",
      "0.7510822510822511\n",
      "AdaBoost\n",
      "[[229   2]\n",
      " [  5   2]]\n",
      "0.6385281385281385\n",
      "Gaussian Process\n",
      "[[231   0]\n",
      " [  7   0]]\n",
      "0.5\n",
      "=================================================================\n",
      "Results for  195  PCA components\n",
      "=================================================================\n",
      "Logistic Regression\n",
      "[[228   3]\n",
      " [  2   5]]\n",
      "0.8506493506493508\n",
      "Nearest Neighbors\n",
      "[[231   0]\n",
      " [  7   0]]\n",
      "0.5\n",
      "Linear SVM\n",
      "[[228   3]\n",
      " [  2   5]]\n",
      "0.8506493506493508\n"
     ]
    },
    {
     "name": "stderr",
     "output_type": "stream",
     "text": [
      "C:\\Users\\Nour Al-Hoda\\Anaconda3\\lib\\site-packages\\sklearn\\linear_model\\logistic.py:433: FutureWarning: Default solver will be changed to 'lbfgs' in 0.22. Specify a solver to silence this warning.\n",
      "  FutureWarning)\n"
     ]
    },
    {
     "name": "stdout",
     "output_type": "stream",
     "text": [
      "Gradient Boosting Classifier\n",
      "[[227   4]\n",
      " [  4   3]]\n",
      "0.7056277056277056\n",
      "Decision Tree\n",
      "[[226   5]\n",
      " [  4   3]]\n",
      "0.7034632034632035\n",
      "Random Forest\n",
      "[[225   6]\n",
      " [  7   0]]\n",
      "0.487012987012987\n"
     ]
    },
    {
     "name": "stderr",
     "output_type": "stream",
     "text": [
      "C:\\Users\\Nour Al-Hoda\\Anaconda3\\lib\\site-packages\\sklearn\\neural_network\\multilayer_perceptron.py:562: ConvergenceWarning: Stochastic Optimizer: Maximum iterations (200) reached and the optimization hasn't converged yet.\n",
      "  % self.max_iter, ConvergenceWarning)\n"
     ]
    },
    {
     "name": "stdout",
     "output_type": "stream",
     "text": [
      "Neural Net\n",
      "[[229   2]\n",
      " [  6   1]]\n",
      "0.5670995670995671\n",
      "Naive Bayes\n",
      "[[222   9]\n",
      " [  4   3]]\n",
      "0.6948051948051948\n",
      "AdaBoost\n",
      "[[227   4]\n",
      " [  4   3]]\n",
      "0.7056277056277056\n",
      "Gaussian Process\n",
      "[[231   0]\n",
      " [  7   0]]\n",
      "0.5\n",
      "=================================================================\n",
      "Results for  210  PCA components\n",
      "=================================================================\n",
      "Logistic Regression\n",
      "[[228   3]\n",
      " [  2   5]]\n",
      "0.8506493506493508\n",
      "Nearest Neighbors\n",
      "[[231   0]\n",
      " [  7   0]]\n",
      "0.5\n",
      "Linear SVM\n",
      "[[229   2]\n",
      " [  2   5]]\n",
      "0.8528138528138529\n"
     ]
    },
    {
     "name": "stderr",
     "output_type": "stream",
     "text": [
      "C:\\Users\\Nour Al-Hoda\\Anaconda3\\lib\\site-packages\\sklearn\\linear_model\\logistic.py:433: FutureWarning: Default solver will be changed to 'lbfgs' in 0.22. Specify a solver to silence this warning.\n",
      "  FutureWarning)\n"
     ]
    },
    {
     "name": "stdout",
     "output_type": "stream",
     "text": [
      "Gradient Boosting Classifier\n",
      "[[228   3]\n",
      " [  4   3]]\n",
      "0.7077922077922078\n",
      "Decision Tree\n",
      "[[225   6]\n",
      " [  3   4]]\n",
      "0.7727272727272727\n",
      "Random Forest\n",
      "[[226   5]\n",
      " [  7   0]]\n",
      "0.48917748917748916\n"
     ]
    },
    {
     "name": "stderr",
     "output_type": "stream",
     "text": [
      "C:\\Users\\Nour Al-Hoda\\Anaconda3\\lib\\site-packages\\sklearn\\neural_network\\multilayer_perceptron.py:562: ConvergenceWarning: Stochastic Optimizer: Maximum iterations (200) reached and the optimization hasn't converged yet.\n",
      "  % self.max_iter, ConvergenceWarning)\n"
     ]
    },
    {
     "name": "stdout",
     "output_type": "stream",
     "text": [
      "Neural Net\n",
      "[[229   2]\n",
      " [  5   2]]\n",
      "0.6385281385281385\n",
      "Naive Bayes\n",
      "[[228   3]\n",
      " [  6   1]]\n",
      "0.5649350649350648\n",
      "AdaBoost\n",
      "[[229   2]\n",
      " [  2   5]]\n",
      "0.8528138528138529\n",
      "Gaussian Process\n",
      "[[231   0]\n",
      " [  7   0]]\n",
      "0.5\n",
      "=================================================================\n",
      "Results for  225  PCA components\n",
      "=================================================================\n",
      "Logistic Regression\n",
      "[[228   3]\n",
      " [  2   5]]\n",
      "0.8506493506493508\n",
      "Nearest Neighbors\n",
      "[[231   0]\n",
      " [  7   0]]\n",
      "0.5\n",
      "Linear SVM\n",
      "[[229   2]\n",
      " [  2   5]]\n",
      "0.8528138528138529\n"
     ]
    },
    {
     "name": "stderr",
     "output_type": "stream",
     "text": [
      "C:\\Users\\Nour Al-Hoda\\Anaconda3\\lib\\site-packages\\sklearn\\linear_model\\logistic.py:433: FutureWarning: Default solver will be changed to 'lbfgs' in 0.22. Specify a solver to silence this warning.\n",
      "  FutureWarning)\n"
     ]
    },
    {
     "name": "stdout",
     "output_type": "stream",
     "text": [
      "Gradient Boosting Classifier\n",
      "[[228   3]\n",
      " [  4   3]]\n",
      "0.7077922077922078\n",
      "Decision Tree\n",
      "[[228   3]\n",
      " [  4   3]]\n",
      "0.7077922077922078\n",
      "Random Forest\n",
      "[[225   6]\n",
      " [  7   0]]\n",
      "0.487012987012987\n"
     ]
    },
    {
     "name": "stderr",
     "output_type": "stream",
     "text": [
      "C:\\Users\\Nour Al-Hoda\\Anaconda3\\lib\\site-packages\\sklearn\\neural_network\\multilayer_perceptron.py:562: ConvergenceWarning: Stochastic Optimizer: Maximum iterations (200) reached and the optimization hasn't converged yet.\n",
      "  % self.max_iter, ConvergenceWarning)\n"
     ]
    },
    {
     "name": "stdout",
     "output_type": "stream",
     "text": [
      "Neural Net\n",
      "[[230   1]\n",
      " [  4   3]]\n",
      "0.7121212121212122\n",
      "Naive Bayes\n",
      "[[229   2]\n",
      " [  7   0]]\n",
      "0.49567099567099565\n",
      "AdaBoost\n",
      "[[227   4]\n",
      " [  3   4]]\n",
      "0.777056277056277\n",
      "Gaussian Process\n",
      "[[231   0]\n",
      " [  7   0]]\n",
      "0.5\n",
      "=================================================================\n",
      "Results for  240  PCA components\n",
      "=================================================================\n",
      "Logistic Regression\n",
      "[[228   3]\n",
      " [  2   5]]\n",
      "0.8506493506493508\n",
      "Nearest Neighbors\n",
      "[[231   0]\n",
      " [  7   0]]\n",
      "0.5\n",
      "Linear SVM\n",
      "[[229   2]\n",
      " [  2   5]]\n"
     ]
    },
    {
     "name": "stderr",
     "output_type": "stream",
     "text": [
      "C:\\Users\\Nour Al-Hoda\\Anaconda3\\lib\\site-packages\\sklearn\\linear_model\\logistic.py:433: FutureWarning: Default solver will be changed to 'lbfgs' in 0.22. Specify a solver to silence this warning.\n",
      "  FutureWarning)\n"
     ]
    },
    {
     "name": "stdout",
     "output_type": "stream",
     "text": [
      "0.8528138528138529\n",
      "Gradient Boosting Classifier\n",
      "[[228   3]\n",
      " [  4   3]]\n",
      "0.7077922077922078\n",
      "Decision Tree\n",
      "[[227   4]\n",
      " [  4   3]]\n",
      "0.7056277056277056\n",
      "Random Forest\n",
      "[[227   4]\n",
      " [  7   0]]\n",
      "0.49134199134199136\n"
     ]
    },
    {
     "name": "stderr",
     "output_type": "stream",
     "text": [
      "C:\\Users\\Nour Al-Hoda\\Anaconda3\\lib\\site-packages\\sklearn\\neural_network\\multilayer_perceptron.py:562: ConvergenceWarning: Stochastic Optimizer: Maximum iterations (200) reached and the optimization hasn't converged yet.\n",
      "  % self.max_iter, ConvergenceWarning)\n"
     ]
    },
    {
     "name": "stdout",
     "output_type": "stream",
     "text": [
      "Neural Net\n",
      "[[231   0]\n",
      " [  6   1]]\n",
      "0.5714285714285714\n",
      "Naive Bayes\n",
      "[[231   0]\n",
      " [  7   0]]\n",
      "0.5\n",
      "AdaBoost\n",
      "[[230   1]\n",
      " [  4   3]]\n",
      "0.7121212121212122\n",
      "Gaussian Process\n",
      "[[231   0]\n",
      " [  7   0]]\n",
      "0.5\n",
      "=================================================================\n",
      "Results for  255  PCA components\n",
      "=================================================================\n",
      "Logistic Regression\n",
      "[[229   2]\n",
      " [  2   5]]\n",
      "0.8528138528138529\n",
      "Nearest Neighbors\n",
      "[[231   0]\n",
      " [  7   0]]\n",
      "0.5\n",
      "Linear SVM\n",
      "[[229   2]\n",
      " [  2   5]]\n"
     ]
    },
    {
     "name": "stderr",
     "output_type": "stream",
     "text": [
      "C:\\Users\\Nour Al-Hoda\\Anaconda3\\lib\\site-packages\\sklearn\\linear_model\\logistic.py:433: FutureWarning: Default solver will be changed to 'lbfgs' in 0.22. Specify a solver to silence this warning.\n",
      "  FutureWarning)\n"
     ]
    },
    {
     "name": "stdout",
     "output_type": "stream",
     "text": [
      "0.8528138528138529\n",
      "Gradient Boosting Classifier\n",
      "[[226   5]\n",
      " [  4   3]]\n",
      "0.7034632034632035\n",
      "Decision Tree\n",
      "[[228   3]\n",
      " [  4   3]]\n",
      "0.7077922077922078\n",
      "Random Forest\n",
      "[[227   4]\n",
      " [  7   0]]\n",
      "0.49134199134199136\n"
     ]
    },
    {
     "name": "stderr",
     "output_type": "stream",
     "text": [
      "C:\\Users\\Nour Al-Hoda\\Anaconda3\\lib\\site-packages\\sklearn\\neural_network\\multilayer_perceptron.py:562: ConvergenceWarning: Stochastic Optimizer: Maximum iterations (200) reached and the optimization hasn't converged yet.\n",
      "  % self.max_iter, ConvergenceWarning)\n"
     ]
    },
    {
     "name": "stdout",
     "output_type": "stream",
     "text": [
      "Neural Net\n",
      "[[229   2]\n",
      " [  6   1]]\n",
      "0.5670995670995671\n",
      "Naive Bayes\n",
      "[[231   0]\n",
      " [  7   0]]\n",
      "0.5\n",
      "AdaBoost\n",
      "[[231   0]\n",
      " [  4   3]]\n",
      "0.7142857142857143\n",
      "Gaussian Process\n",
      "[[231   0]\n",
      " [  7   0]]\n",
      "0.5\n",
      "=================================================================\n",
      "Results for  270  PCA components\n",
      "=================================================================\n",
      "Logistic Regression\n",
      "[[229   2]\n",
      " [  2   5]]\n",
      "0.8528138528138529\n",
      "Nearest Neighbors\n",
      "[[231   0]\n",
      " [  7   0]]\n"
     ]
    },
    {
     "name": "stderr",
     "output_type": "stream",
     "text": [
      "C:\\Users\\Nour Al-Hoda\\Anaconda3\\lib\\site-packages\\sklearn\\linear_model\\logistic.py:433: FutureWarning: Default solver will be changed to 'lbfgs' in 0.22. Specify a solver to silence this warning.\n",
      "  FutureWarning)\n"
     ]
    },
    {
     "name": "stdout",
     "output_type": "stream",
     "text": [
      "0.5\n",
      "Linear SVM\n",
      "[[229   2]\n",
      " [  2   5]]\n",
      "0.8528138528138529\n",
      "Gradient Boosting Classifier\n",
      "[[226   5]\n",
      " [  4   3]]\n",
      "0.7034632034632035\n",
      "Decision Tree\n",
      "[[226   5]\n",
      " [  4   3]]\n",
      "0.7034632034632035\n",
      "Random Forest\n",
      "[[225   6]\n",
      " [  7   0]]\n",
      "0.487012987012987\n"
     ]
    },
    {
     "name": "stderr",
     "output_type": "stream",
     "text": [
      "C:\\Users\\Nour Al-Hoda\\Anaconda3\\lib\\site-packages\\sklearn\\neural_network\\multilayer_perceptron.py:562: ConvergenceWarning: Stochastic Optimizer: Maximum iterations (200) reached and the optimization hasn't converged yet.\n",
      "  % self.max_iter, ConvergenceWarning)\n"
     ]
    },
    {
     "name": "stdout",
     "output_type": "stream",
     "text": [
      "Neural Net\n",
      "[[230   1]\n",
      " [  6   1]]\n",
      "0.5692640692640693\n",
      "Naive Bayes\n",
      "[[231   0]\n",
      " [  7   0]]\n",
      "0.5\n",
      "AdaBoost\n",
      "[[227   4]\n",
      " [  2   5]]\n",
      "0.8484848484848486\n",
      "Gaussian Process\n",
      "[[231   0]\n",
      " [  7   0]]\n",
      "0.5\n",
      "=================================================================\n",
      "Results for  285  PCA components\n",
      "=================================================================\n",
      "Logistic Regression\n",
      "[[229   2]\n",
      " [  2   5]]\n",
      "0.8528138528138529\n",
      "Nearest Neighbors\n",
      "[[231   0]\n",
      " [  7   0]]\n"
     ]
    },
    {
     "name": "stderr",
     "output_type": "stream",
     "text": [
      "C:\\Users\\Nour Al-Hoda\\Anaconda3\\lib\\site-packages\\sklearn\\linear_model\\logistic.py:433: FutureWarning: Default solver will be changed to 'lbfgs' in 0.22. Specify a solver to silence this warning.\n",
      "  FutureWarning)\n"
     ]
    },
    {
     "name": "stdout",
     "output_type": "stream",
     "text": [
      "0.5\n",
      "Linear SVM\n",
      "[[229   2]\n",
      " [  2   5]]\n",
      "0.8528138528138529\n",
      "Gradient Boosting Classifier\n",
      "[[227   4]\n",
      " [  4   3]]\n",
      "0.7056277056277056\n",
      "Decision Tree\n",
      "[[226   5]\n",
      " [  3   4]]\n",
      "0.7748917748917749\n",
      "Random Forest\n",
      "[[227   4]\n",
      " [  7   0]]\n",
      "0.49134199134199136\n"
     ]
    },
    {
     "name": "stderr",
     "output_type": "stream",
     "text": [
      "C:\\Users\\Nour Al-Hoda\\Anaconda3\\lib\\site-packages\\sklearn\\neural_network\\multilayer_perceptron.py:562: ConvergenceWarning: Stochastic Optimizer: Maximum iterations (200) reached and the optimization hasn't converged yet.\n",
      "  % self.max_iter, ConvergenceWarning)\n"
     ]
    },
    {
     "name": "stdout",
     "output_type": "stream",
     "text": [
      "Neural Net\n",
      "[[230   1]\n",
      " [  5   2]]\n",
      "0.6406926406926406\n",
      "Naive Bayes\n",
      "[[231   0]\n",
      " [  7   0]]\n",
      "0.5\n",
      "AdaBoost\n",
      "[[229   2]\n",
      " [  3   4]]\n",
      "0.7813852813852814\n",
      "Gaussian Process\n",
      "[[231   0]\n",
      " [  7   0]]\n",
      "0.5\n",
      "=================================================================\n",
      "Results for  300  PCA components\n",
      "=================================================================\n",
      "Logistic Regression\n",
      "[[229   2]\n",
      " [  2   5]]\n",
      "0.8528138528138529\n",
      "Nearest Neighbors\n",
      "[[231   0]\n",
      " [  7   0]]\n"
     ]
    },
    {
     "name": "stderr",
     "output_type": "stream",
     "text": [
      "C:\\Users\\Nour Al-Hoda\\Anaconda3\\lib\\site-packages\\sklearn\\linear_model\\logistic.py:433: FutureWarning: Default solver will be changed to 'lbfgs' in 0.22. Specify a solver to silence this warning.\n",
      "  FutureWarning)\n"
     ]
    },
    {
     "name": "stdout",
     "output_type": "stream",
     "text": [
      "0.5\n",
      "Linear SVM\n",
      "[[229   2]\n",
      " [  2   5]]\n",
      "0.8528138528138529\n",
      "Gradient Boosting Classifier\n",
      "[[228   3]\n",
      " [  3   4]]\n",
      "0.7792207792207791\n",
      "Decision Tree\n",
      "[[226   5]\n",
      " [  3   4]]\n",
      "0.7748917748917749\n",
      "Random Forest\n",
      "[[226   5]\n",
      " [  7   0]]\n",
      "0.48917748917748916\n"
     ]
    },
    {
     "name": "stderr",
     "output_type": "stream",
     "text": [
      "C:\\Users\\Nour Al-Hoda\\Anaconda3\\lib\\site-packages\\sklearn\\neural_network\\multilayer_perceptron.py:562: ConvergenceWarning: Stochastic Optimizer: Maximum iterations (200) reached and the optimization hasn't converged yet.\n",
      "  % self.max_iter, ConvergenceWarning)\n"
     ]
    },
    {
     "name": "stdout",
     "output_type": "stream",
     "text": [
      "Neural Net\n",
      "[[230   1]\n",
      " [  5   2]]\n",
      "0.6406926406926406\n",
      "Naive Bayes\n",
      "[[231   0]\n",
      " [  7   0]]\n",
      "0.5\n",
      "AdaBoost\n",
      "[[230   1]\n",
      " [  4   3]]\n",
      "0.7121212121212122\n",
      "Gaussian Process\n",
      "[[231   0]\n",
      " [  7   0]]\n",
      "0.5\n",
      "=================================================================\n",
      "Results for  315  PCA components\n",
      "=================================================================\n",
      "Logistic Regression\n",
      "[[229   2]\n",
      " [  2   5]]\n",
      "0.8528138528138529\n",
      "Nearest Neighbors\n",
      "[[231   0]\n",
      " [  7   0]]\n"
     ]
    },
    {
     "name": "stderr",
     "output_type": "stream",
     "text": [
      "C:\\Users\\Nour Al-Hoda\\Anaconda3\\lib\\site-packages\\sklearn\\linear_model\\logistic.py:433: FutureWarning: Default solver will be changed to 'lbfgs' in 0.22. Specify a solver to silence this warning.\n",
      "  FutureWarning)\n"
     ]
    },
    {
     "name": "stdout",
     "output_type": "stream",
     "text": [
      "0.5\n",
      "Linear SVM\n",
      "[[229   2]\n",
      " [  2   5]]\n",
      "0.8528138528138529\n",
      "Gradient Boosting Classifier\n",
      "[[226   5]\n",
      " [  4   3]]\n",
      "0.7034632034632035\n",
      "Decision Tree\n",
      "[[225   6]\n",
      " [  3   4]]\n",
      "0.7727272727272727\n",
      "Random Forest\n",
      "[[227   4]\n",
      " [  7   0]]\n",
      "0.49134199134199136\n"
     ]
    },
    {
     "name": "stderr",
     "output_type": "stream",
     "text": [
      "C:\\Users\\Nour Al-Hoda\\Anaconda3\\lib\\site-packages\\sklearn\\neural_network\\multilayer_perceptron.py:562: ConvergenceWarning: Stochastic Optimizer: Maximum iterations (200) reached and the optimization hasn't converged yet.\n",
      "  % self.max_iter, ConvergenceWarning)\n"
     ]
    },
    {
     "name": "stdout",
     "output_type": "stream",
     "text": [
      "Neural Net\n",
      "[[230   1]\n",
      " [  5   2]]\n",
      "0.6406926406926406\n",
      "Naive Bayes\n",
      "[[231   0]\n",
      " [  7   0]]\n",
      "0.5\n",
      "AdaBoost\n",
      "[[230   1]\n",
      " [  4   3]]\n",
      "0.7121212121212122\n",
      "Gaussian Process\n",
      "[[231   0]\n",
      " [  7   0]]\n",
      "0.5\n",
      "=================================================================\n",
      "Results for  330  PCA components\n",
      "=================================================================\n",
      "Logistic Regression\n",
      "[[229   2]\n",
      " [  2   5]]\n",
      "0.8528138528138529\n"
     ]
    },
    {
     "name": "stderr",
     "output_type": "stream",
     "text": [
      "C:\\Users\\Nour Al-Hoda\\Anaconda3\\lib\\site-packages\\sklearn\\linear_model\\logistic.py:433: FutureWarning: Default solver will be changed to 'lbfgs' in 0.22. Specify a solver to silence this warning.\n",
      "  FutureWarning)\n"
     ]
    },
    {
     "name": "stdout",
     "output_type": "stream",
     "text": [
      "Nearest Neighbors\n",
      "[[231   0]\n",
      " [  7   0]]\n",
      "0.5\n",
      "Linear SVM\n",
      "[[229   2]\n",
      " [  2   5]]\n",
      "0.8528138528138529\n",
      "Gradient Boosting Classifier\n",
      "[[226   5]\n",
      " [  4   3]]\n",
      "0.7034632034632035\n",
      "Decision Tree\n",
      "[[228   3]\n",
      " [  4   3]]\n",
      "0.7077922077922078\n",
      "Random Forest\n",
      "[[226   5]\n",
      " [  7   0]]\n",
      "0.48917748917748916\n"
     ]
    },
    {
     "name": "stderr",
     "output_type": "stream",
     "text": [
      "C:\\Users\\Nour Al-Hoda\\Anaconda3\\lib\\site-packages\\sklearn\\neural_network\\multilayer_perceptron.py:562: ConvergenceWarning: Stochastic Optimizer: Maximum iterations (200) reached and the optimization hasn't converged yet.\n",
      "  % self.max_iter, ConvergenceWarning)\n"
     ]
    },
    {
     "name": "stdout",
     "output_type": "stream",
     "text": [
      "Neural Net\n",
      "[[229   2]\n",
      " [  4   3]]\n",
      "0.70995670995671\n",
      "Naive Bayes\n",
      "[[231   0]\n",
      " [  7   0]]\n",
      "0.5\n",
      "AdaBoost\n",
      "[[231   0]\n",
      " [  5   2]]\n",
      "0.6428571428571428\n",
      "Gaussian Process\n",
      "[[231   0]\n",
      " [  7   0]]\n",
      "0.5\n",
      "=================================================================\n",
      "Results for  345  PCA components\n",
      "=================================================================\n",
      "Logistic Regression\n",
      "[[229   2]\n",
      " [  2   5]]\n",
      "0.8528138528138529\n"
     ]
    },
    {
     "name": "stderr",
     "output_type": "stream",
     "text": [
      "C:\\Users\\Nour Al-Hoda\\Anaconda3\\lib\\site-packages\\sklearn\\linear_model\\logistic.py:433: FutureWarning: Default solver will be changed to 'lbfgs' in 0.22. Specify a solver to silence this warning.\n",
      "  FutureWarning)\n"
     ]
    },
    {
     "name": "stdout",
     "output_type": "stream",
     "text": [
      "Nearest Neighbors\n",
      "[[231   0]\n",
      " [  7   0]]\n",
      "0.5\n",
      "Linear SVM\n",
      "[[229   2]\n",
      " [  2   5]]\n",
      "0.8528138528138529\n",
      "Gradient Boosting Classifier\n",
      "[[226   5]\n",
      " [  4   3]]\n",
      "0.7034632034632035\n",
      "Decision Tree\n",
      "[[228   3]\n",
      " [  4   3]]\n",
      "0.7077922077922078\n",
      "Random Forest\n",
      "[[227   4]\n",
      " [  7   0]]\n",
      "0.49134199134199136\n"
     ]
    },
    {
     "name": "stderr",
     "output_type": "stream",
     "text": [
      "C:\\Users\\Nour Al-Hoda\\Anaconda3\\lib\\site-packages\\sklearn\\neural_network\\multilayer_perceptron.py:562: ConvergenceWarning: Stochastic Optimizer: Maximum iterations (200) reached and the optimization hasn't converged yet.\n",
      "  % self.max_iter, ConvergenceWarning)\n"
     ]
    },
    {
     "name": "stdout",
     "output_type": "stream",
     "text": [
      "Neural Net\n",
      "[[230   1]\n",
      " [  4   3]]\n",
      "0.7121212121212122\n",
      "Naive Bayes\n",
      "[[231   0]\n",
      " [  7   0]]\n",
      "0.5\n",
      "AdaBoost\n",
      "[[227   4]\n",
      " [  4   3]]\n",
      "0.7056277056277056\n",
      "Gaussian Process\n",
      "[[231   0]\n",
      " [  7   0]]\n",
      "0.5\n",
      "=================================================================\n",
      "Results for  360  PCA components\n",
      "=================================================================\n",
      "Logistic Regression\n",
      "[[229   2]\n",
      " [  2   5]]\n",
      "0.8528138528138529\n"
     ]
    },
    {
     "name": "stderr",
     "output_type": "stream",
     "text": [
      "C:\\Users\\Nour Al-Hoda\\Anaconda3\\lib\\site-packages\\sklearn\\linear_model\\logistic.py:433: FutureWarning: Default solver will be changed to 'lbfgs' in 0.22. Specify a solver to silence this warning.\n",
      "  FutureWarning)\n"
     ]
    },
    {
     "name": "stdout",
     "output_type": "stream",
     "text": [
      "Nearest Neighbors\n",
      "[[231   0]\n",
      " [  7   0]]\n",
      "0.5\n",
      "Linear SVM\n",
      "[[229   2]\n",
      " [  2   5]]\n",
      "0.8528138528138529\n",
      "Gradient Boosting Classifier\n",
      "[[226   5]\n",
      " [  4   3]]\n",
      "0.7034632034632035\n",
      "Decision Tree\n",
      "[[226   5]\n",
      " [  4   3]]\n",
      "0.7034632034632035\n",
      "Random Forest\n",
      "[[226   5]\n",
      " [  7   0]]\n",
      "0.48917748917748916\n"
     ]
    },
    {
     "name": "stderr",
     "output_type": "stream",
     "text": [
      "C:\\Users\\Nour Al-Hoda\\Anaconda3\\lib\\site-packages\\sklearn\\neural_network\\multilayer_perceptron.py:562: ConvergenceWarning: Stochastic Optimizer: Maximum iterations (200) reached and the optimization hasn't converged yet.\n",
      "  % self.max_iter, ConvergenceWarning)\n"
     ]
    },
    {
     "name": "stdout",
     "output_type": "stream",
     "text": [
      "Neural Net\n",
      "[[229   2]\n",
      " [  4   3]]\n",
      "0.70995670995671\n",
      "Naive Bayes\n",
      "[[231   0]\n",
      " [  7   0]]\n",
      "0.5\n",
      "AdaBoost\n",
      "[[229   2]\n",
      " [  6   1]]\n",
      "0.5670995670995671\n",
      "Gaussian Process\n",
      "[[231   0]\n",
      " [  7   0]]\n",
      "0.5\n",
      "=================================================================\n",
      "Results for  375  PCA components\n",
      "=================================================================\n",
      "Logistic Regression\n",
      "[[229   2]\n",
      " [  2   5]]\n",
      "0.8528138528138529\n"
     ]
    },
    {
     "name": "stderr",
     "output_type": "stream",
     "text": [
      "C:\\Users\\Nour Al-Hoda\\Anaconda3\\lib\\site-packages\\sklearn\\linear_model\\logistic.py:433: FutureWarning: Default solver will be changed to 'lbfgs' in 0.22. Specify a solver to silence this warning.\n",
      "  FutureWarning)\n"
     ]
    },
    {
     "name": "stdout",
     "output_type": "stream",
     "text": [
      "Nearest Neighbors\n",
      "[[231   0]\n",
      " [  7   0]]\n",
      "0.5\n",
      "Linear SVM\n",
      "[[229   2]\n",
      " [  2   5]]\n",
      "0.8528138528138529\n",
      "Gradient Boosting Classifier\n",
      "[[226   5]\n",
      " [  4   3]]\n",
      "0.7034632034632035\n",
      "Decision Tree\n",
      "[[226   5]\n",
      " [  3   4]]\n",
      "0.7748917748917749\n",
      "Random Forest\n",
      "[[227   4]\n",
      " [  7   0]]\n",
      "0.49134199134199136\n"
     ]
    },
    {
     "name": "stderr",
     "output_type": "stream",
     "text": [
      "C:\\Users\\Nour Al-Hoda\\Anaconda3\\lib\\site-packages\\sklearn\\neural_network\\multilayer_perceptron.py:562: ConvergenceWarning: Stochastic Optimizer: Maximum iterations (200) reached and the optimization hasn't converged yet.\n",
      "  % self.max_iter, ConvergenceWarning)\n"
     ]
    },
    {
     "name": "stdout",
     "output_type": "stream",
     "text": [
      "Neural Net\n",
      "[[229   2]\n",
      " [  4   3]]\n",
      "0.70995670995671\n",
      "Naive Bayes\n",
      "[[231   0]\n",
      " [  7   0]]\n",
      "0.5\n",
      "AdaBoost\n",
      "[[227   4]\n",
      " [  5   2]]\n",
      "0.6341991341991342\n",
      "Gaussian Process\n",
      "[[231   0]\n",
      " [  7   0]]\n",
      "0.5\n",
      "=================================================================\n",
      "Results for  390  PCA components\n",
      "=================================================================\n",
      "Logistic Regression\n",
      "[[229   2]\n",
      " [  2   5]]\n",
      "0.8528138528138529\n"
     ]
    },
    {
     "name": "stderr",
     "output_type": "stream",
     "text": [
      "C:\\Users\\Nour Al-Hoda\\Anaconda3\\lib\\site-packages\\sklearn\\linear_model\\logistic.py:433: FutureWarning: Default solver will be changed to 'lbfgs' in 0.22. Specify a solver to silence this warning.\n",
      "  FutureWarning)\n"
     ]
    },
    {
     "name": "stdout",
     "output_type": "stream",
     "text": [
      "Nearest Neighbors\n",
      "[[231   0]\n",
      " [  7   0]]\n",
      "0.5\n",
      "Linear SVM\n",
      "[[229   2]\n",
      " [  2   5]]\n",
      "0.8528138528138529\n",
      "Gradient Boosting Classifier\n",
      "[[227   4]\n",
      " [  4   3]]\n",
      "0.7056277056277056\n",
      "Decision Tree\n",
      "[[226   5]\n",
      " [  4   3]]\n",
      "0.7034632034632035\n",
      "Random Forest\n",
      "[[228   3]\n",
      " [  7   0]]\n",
      "0.4935064935064935\n",
      "Neural Net\n",
      "[[230   1]\n",
      " [  6   1]]\n",
      "0.5692640692640693\n",
      "Naive Bayes\n",
      "[[231   0]\n",
      " [  7   0]]\n",
      "0.5\n",
      "AdaBoost\n",
      "[[230   1]\n",
      " [  3   4]]\n",
      "0.7835497835497836\n",
      "Gaussian Process\n",
      "[[231   0]\n",
      " [  7   0]]\n",
      "0.5\n",
      "=================================================================\n",
      "Results for  405  PCA components\n",
      "=================================================================\n",
      "Logistic Regression\n",
      "[[229   2]\n",
      " [  2   5]]\n",
      "0.8528138528138529\n"
     ]
    },
    {
     "name": "stderr",
     "output_type": "stream",
     "text": [
      "C:\\Users\\Nour Al-Hoda\\Anaconda3\\lib\\site-packages\\sklearn\\linear_model\\logistic.py:433: FutureWarning: Default solver will be changed to 'lbfgs' in 0.22. Specify a solver to silence this warning.\n",
      "  FutureWarning)\n"
     ]
    },
    {
     "name": "stdout",
     "output_type": "stream",
     "text": [
      "Nearest Neighbors\n",
      "[[231   0]\n",
      " [  7   0]]\n",
      "0.5\n",
      "Linear SVM\n",
      "[[229   2]\n",
      " [  2   5]]\n",
      "0.8528138528138529\n",
      "Gradient Boosting Classifier\n",
      "[[228   3]\n",
      " [  4   3]]\n",
      "0.7077922077922078\n",
      "Decision Tree\n",
      "[[227   4]\n",
      " [  4   3]]\n",
      "0.7056277056277056\n",
      "Random Forest\n",
      "[[228   3]\n",
      " [  7   0]]\n",
      "0.4935064935064935\n"
     ]
    },
    {
     "name": "stderr",
     "output_type": "stream",
     "text": [
      "C:\\Users\\Nour Al-Hoda\\Anaconda3\\lib\\site-packages\\sklearn\\neural_network\\multilayer_perceptron.py:562: ConvergenceWarning: Stochastic Optimizer: Maximum iterations (200) reached and the optimization hasn't converged yet.\n",
      "  % self.max_iter, ConvergenceWarning)\n"
     ]
    },
    {
     "name": "stdout",
     "output_type": "stream",
     "text": [
      "Neural Net\n",
      "[[230   1]\n",
      " [  4   3]]\n",
      "0.7121212121212122\n",
      "Naive Bayes\n",
      "[[231   0]\n",
      " [  7   0]]\n",
      "0.5\n",
      "AdaBoost\n",
      "[[230   1]\n",
      " [  3   4]]\n",
      "0.7835497835497836\n",
      "Gaussian Process\n",
      "[[231   0]\n",
      " [  7   0]]\n",
      "0.5\n",
      "=================================================================\n",
      "Results for  420  PCA components\n",
      "=================================================================\n",
      "Logistic Regression\n",
      "[[229   2]\n",
      " [  2   5]]\n",
      "0.8528138528138529\n"
     ]
    },
    {
     "name": "stderr",
     "output_type": "stream",
     "text": [
      "C:\\Users\\Nour Al-Hoda\\Anaconda3\\lib\\site-packages\\sklearn\\linear_model\\logistic.py:433: FutureWarning: Default solver will be changed to 'lbfgs' in 0.22. Specify a solver to silence this warning.\n",
      "  FutureWarning)\n"
     ]
    },
    {
     "name": "stdout",
     "output_type": "stream",
     "text": [
      "Nearest Neighbors\n",
      "[[231   0]\n",
      " [  7   0]]\n",
      "0.5\n",
      "Linear SVM\n",
      "[[229   2]\n",
      " [  2   5]]\n",
      "0.8528138528138529\n",
      "Gradient Boosting Classifier\n",
      "[[228   3]\n",
      " [  4   3]]\n",
      "0.7077922077922078\n",
      "Decision Tree\n",
      "[[227   4]\n",
      " [  4   3]]\n",
      "0.7056277056277056\n",
      "Random Forest\n",
      "[[228   3]\n",
      " [  7   0]]\n",
      "0.4935064935064935\n"
     ]
    },
    {
     "name": "stderr",
     "output_type": "stream",
     "text": [
      "C:\\Users\\Nour Al-Hoda\\Anaconda3\\lib\\site-packages\\sklearn\\neural_network\\multilayer_perceptron.py:562: ConvergenceWarning: Stochastic Optimizer: Maximum iterations (200) reached and the optimization hasn't converged yet.\n",
      "  % self.max_iter, ConvergenceWarning)\n"
     ]
    },
    {
     "name": "stdout",
     "output_type": "stream",
     "text": [
      "Neural Net\n",
      "[[230   1]\n",
      " [  5   2]]\n",
      "0.6406926406926406\n",
      "Naive Bayes\n",
      "[[231   0]\n",
      " [  7   0]]\n",
      "0.5\n",
      "AdaBoost\n",
      "[[230   1]\n",
      " [  3   4]]\n",
      "0.7835497835497836\n",
      "Gaussian Process\n",
      "[[231   0]\n",
      " [  7   0]]\n",
      "0.5\n",
      "=================================================================\n",
      "Results for  435  PCA components\n",
      "=================================================================\n",
      "Logistic Regression\n",
      "[[229   2]\n",
      " [  2   5]]\n",
      "0.8528138528138529\n"
     ]
    },
    {
     "name": "stderr",
     "output_type": "stream",
     "text": [
      "C:\\Users\\Nour Al-Hoda\\Anaconda3\\lib\\site-packages\\sklearn\\linear_model\\logistic.py:433: FutureWarning: Default solver will be changed to 'lbfgs' in 0.22. Specify a solver to silence this warning.\n",
      "  FutureWarning)\n"
     ]
    },
    {
     "name": "stdout",
     "output_type": "stream",
     "text": [
      "Nearest Neighbors\n",
      "[[231   0]\n",
      " [  7   0]]\n",
      "0.5\n",
      "Linear SVM\n",
      "[[229   2]\n",
      " [  2   5]]\n",
      "0.8528138528138529\n",
      "Gradient Boosting Classifier\n",
      "[[229   2]\n",
      " [  4   3]]\n",
      "0.70995670995671\n",
      "Decision Tree\n",
      "[[228   3]\n",
      " [  4   3]]\n",
      "0.7077922077922078\n",
      "Random Forest\n",
      "[[227   4]\n",
      " [  7   0]]\n",
      "0.49134199134199136\n"
     ]
    },
    {
     "name": "stderr",
     "output_type": "stream",
     "text": [
      "C:\\Users\\Nour Al-Hoda\\Anaconda3\\lib\\site-packages\\sklearn\\neural_network\\multilayer_perceptron.py:562: ConvergenceWarning: Stochastic Optimizer: Maximum iterations (200) reached and the optimization hasn't converged yet.\n",
      "  % self.max_iter, ConvergenceWarning)\n"
     ]
    },
    {
     "name": "stdout",
     "output_type": "stream",
     "text": [
      "Neural Net\n",
      "[[230   1]\n",
      " [  4   3]]\n",
      "0.7121212121212122\n",
      "Naive Bayes\n",
      "[[231   0]\n",
      " [  7   0]]\n",
      "0.5\n",
      "AdaBoost\n",
      "[[229   2]\n",
      " [  3   4]]\n",
      "0.7813852813852814\n",
      "Gaussian Process\n",
      "[[231   0]\n",
      " [  7   0]]\n",
      "0.5\n",
      "=================================================================\n",
      "Results for  450  PCA components\n",
      "=================================================================\n",
      "Logistic Regression\n",
      "[[229   2]\n",
      " [  2   5]]\n",
      "0.8528138528138529\n"
     ]
    },
    {
     "name": "stderr",
     "output_type": "stream",
     "text": [
      "C:\\Users\\Nour Al-Hoda\\Anaconda3\\lib\\site-packages\\sklearn\\linear_model\\logistic.py:433: FutureWarning: Default solver will be changed to 'lbfgs' in 0.22. Specify a solver to silence this warning.\n",
      "  FutureWarning)\n"
     ]
    },
    {
     "name": "stdout",
     "output_type": "stream",
     "text": [
      "Nearest Neighbors\n",
      "[[231   0]\n",
      " [  7   0]]\n",
      "0.5\n",
      "Linear SVM\n",
      "[[229   2]\n",
      " [  2   5]]\n",
      "0.8528138528138529\n",
      "Gradient Boosting Classifier\n",
      "[[227   4]\n",
      " [  4   3]]\n",
      "0.7056277056277056\n",
      "Decision Tree\n",
      "[[229   2]\n",
      " [  4   3]]\n",
      "0.70995670995671\n",
      "Random Forest\n",
      "[[228   3]\n",
      " [  7   0]]\n",
      "0.4935064935064935\n",
      "Neural Net\n",
      "[[230   1]\n",
      " [  6   1]]\n",
      "0.5692640692640693\n",
      "Naive Bayes\n",
      "[[231   0]\n",
      " [  7   0]]\n",
      "0.5\n",
      "AdaBoost\n",
      "[[225   6]\n",
      " [  6   1]]\n",
      "0.5584415584415584\n",
      "Gaussian Process\n",
      "[[231   0]\n",
      " [  7   0]]\n",
      "0.5\n",
      "=================================================================\n",
      "Results for  465  PCA components\n",
      "=================================================================\n",
      "Logistic Regression\n",
      "[[229   2]\n",
      " [  2   5]]\n"
     ]
    },
    {
     "name": "stderr",
     "output_type": "stream",
     "text": [
      "C:\\Users\\Nour Al-Hoda\\Anaconda3\\lib\\site-packages\\sklearn\\linear_model\\logistic.py:433: FutureWarning: Default solver will be changed to 'lbfgs' in 0.22. Specify a solver to silence this warning.\n",
      "  FutureWarning)\n"
     ]
    },
    {
     "name": "stdout",
     "output_type": "stream",
     "text": [
      "0.8528138528138529\n",
      "Nearest Neighbors\n",
      "[[231   0]\n",
      " [  7   0]]\n",
      "0.5\n",
      "Linear SVM\n",
      "[[229   2]\n",
      " [  2   5]]\n",
      "0.8528138528138529\n",
      "Gradient Boosting Classifier\n",
      "[[227   4]\n",
      " [  4   3]]\n",
      "0.7056277056277056\n",
      "Decision Tree\n",
      "[[226   5]\n",
      " [  4   3]]\n",
      "0.7034632034632035\n",
      "Random Forest\n",
      "[[227   4]\n",
      " [  7   0]]\n",
      "0.49134199134199136\n",
      "Neural Net\n",
      "[[230   1]\n",
      " [  6   1]]\n",
      "0.5692640692640693\n",
      "Naive Bayes\n",
      "[[231   0]\n",
      " [  7   0]]\n",
      "0.5\n",
      "AdaBoost\n",
      "[[230   1]\n",
      " [  6   1]]\n",
      "0.5692640692640693\n",
      "Gaussian Process\n",
      "[[231   0]\n",
      " [  7   0]]\n",
      "0.5\n",
      "=================================================================\n",
      "Results for  480  PCA components\n",
      "=================================================================\n"
     ]
    },
    {
     "name": "stderr",
     "output_type": "stream",
     "text": [
      "C:\\Users\\Nour Al-Hoda\\Anaconda3\\lib\\site-packages\\sklearn\\linear_model\\logistic.py:433: FutureWarning: Default solver will be changed to 'lbfgs' in 0.22. Specify a solver to silence this warning.\n",
      "  FutureWarning)\n"
     ]
    },
    {
     "name": "stdout",
     "output_type": "stream",
     "text": [
      "Logistic Regression\n",
      "[[229   2]\n",
      " [  2   5]]\n",
      "0.8528138528138529\n",
      "Nearest Neighbors\n",
      "[[231   0]\n",
      " [  7   0]]\n",
      "0.5\n",
      "Linear SVM\n",
      "[[229   2]\n",
      " [  2   5]]\n",
      "0.8528138528138529\n",
      "Gradient Boosting Classifier\n",
      "[[227   4]\n",
      " [  4   3]]\n",
      "0.7056277056277056\n",
      "Decision Tree\n",
      "[[227   4]\n",
      " [  4   3]]\n",
      "0.7056277056277056\n",
      "Random Forest\n",
      "[[228   3]\n",
      " [  7   0]]\n",
      "0.4935064935064935\n",
      "Neural Net\n",
      "[[230   1]\n",
      " [  5   2]]\n",
      "0.6406926406926406\n",
      "Naive Bayes\n",
      "[[231   0]\n",
      " [  7   0]]\n",
      "0.5\n",
      "AdaBoost\n",
      "[[230   1]\n",
      " [  6   1]]\n",
      "0.5692640692640693\n",
      "Gaussian Process\n",
      "[[231   0]\n",
      " [  7   0]]\n",
      "0.5\n",
      "=================================================================\n",
      "Training 10 different classifiers, and different PCA components after CAR filter\n",
      "=================================================================\n",
      "=================================================================\n",
      "Results for  15  PCA components\n",
      "=================================================================\n"
     ]
    },
    {
     "name": "stderr",
     "output_type": "stream",
     "text": [
      "C:\\Users\\Nour Al-Hoda\\Anaconda3\\lib\\site-packages\\sklearn\\linear_model\\logistic.py:433: FutureWarning: Default solver will be changed to 'lbfgs' in 0.22. Specify a solver to silence this warning.\n",
      "  FutureWarning)\n"
     ]
    },
    {
     "name": "stdout",
     "output_type": "stream",
     "text": [
      "Logistic Regression\n",
      "[[226   5]\n",
      " [  6   1]]\n",
      "0.5606060606060606\n",
      "Nearest Neighbors\n",
      "[[231   0]\n",
      " [  6   1]]\n",
      "0.5714285714285714\n",
      "Linear SVM\n",
      "[[225   6]\n",
      " [  6   1]]\n",
      "0.5584415584415584\n",
      "Gradient Boosting Classifier\n",
      "[[226   5]\n",
      " [  6   1]]\n",
      "0.5606060606060606\n",
      "Decision Tree\n",
      "[[223   8]\n",
      " [  4   3]]\n",
      "0.696969696969697\n",
      "Random Forest\n",
      "[[228   3]\n",
      " [  7   0]]\n",
      "0.4935064935064935\n"
     ]
    },
    {
     "name": "stderr",
     "output_type": "stream",
     "text": [
      "C:\\Users\\Nour Al-Hoda\\Anaconda3\\lib\\site-packages\\sklearn\\neural_network\\multilayer_perceptron.py:562: ConvergenceWarning: Stochastic Optimizer: Maximum iterations (200) reached and the optimization hasn't converged yet.\n",
      "  % self.max_iter, ConvergenceWarning)\n"
     ]
    },
    {
     "name": "stdout",
     "output_type": "stream",
     "text": [
      "Neural Net\n",
      "[[230   1]\n",
      " [  6   1]]\n",
      "0.5692640692640693\n",
      "Naive Bayes\n",
      "[[223   8]\n",
      " [  4   3]]\n",
      "0.696969696969697\n",
      "AdaBoost\n",
      "[[227   4]\n",
      " [  7   0]]\n",
      "0.49134199134199136\n",
      "Gaussian Process\n",
      "[[228   3]\n",
      " [  6   1]]\n",
      "0.5649350649350648\n",
      "=================================================================\n",
      "Results for  30  PCA components\n",
      "=================================================================\n",
      "Logistic Regression\n",
      "[[227   4]\n",
      " [  2   5]]\n",
      "0.8484848484848486\n",
      "Nearest Neighbors\n",
      "[[231   0]\n",
      " [  7   0]]\n"
     ]
    },
    {
     "name": "stderr",
     "output_type": "stream",
     "text": [
      "C:\\Users\\Nour Al-Hoda\\Anaconda3\\lib\\site-packages\\sklearn\\linear_model\\logistic.py:433: FutureWarning: Default solver will be changed to 'lbfgs' in 0.22. Specify a solver to silence this warning.\n",
      "  FutureWarning)\n"
     ]
    },
    {
     "name": "stdout",
     "output_type": "stream",
     "text": [
      "0.5\n",
      "Linear SVM\n",
      "[[226   5]\n",
      " [  3   4]]\n",
      "0.7748917748917749\n",
      "Gradient Boosting Classifier\n",
      "[[228   3]\n",
      " [  7   0]]\n",
      "0.4935064935064935\n",
      "Decision Tree\n",
      "[[228   3]\n",
      " [  3   4]]\n",
      "0.7792207792207791\n",
      "Random Forest\n",
      "[[230   1]\n",
      " [  7   0]]\n",
      "0.49783549783549785\n"
     ]
    },
    {
     "name": "stderr",
     "output_type": "stream",
     "text": [
      "C:\\Users\\Nour Al-Hoda\\Anaconda3\\lib\\site-packages\\sklearn\\neural_network\\multilayer_perceptron.py:562: ConvergenceWarning: Stochastic Optimizer: Maximum iterations (200) reached and the optimization hasn't converged yet.\n",
      "  % self.max_iter, ConvergenceWarning)\n"
     ]
    },
    {
     "name": "stdout",
     "output_type": "stream",
     "text": [
      "Neural Net\n",
      "[[230   1]\n",
      " [  4   3]]\n",
      "0.7121212121212122\n",
      "Naive Bayes\n",
      "[[217  14]\n",
      " [  4   3]]\n",
      "0.683982683982684\n",
      "AdaBoost\n",
      "[[230   1]\n",
      " [  5   2]]\n",
      "0.6406926406926406\n",
      "Gaussian Process\n",
      "[[231   0]\n",
      " [  7   0]]\n",
      "0.5\n",
      "=================================================================\n",
      "Results for  45  PCA components\n",
      "=================================================================\n",
      "Logistic Regression\n",
      "[[227   4]\n",
      " [  2   5]]\n",
      "0.8484848484848486\n",
      "Nearest Neighbors\n",
      "[[231   0]\n",
      " [  7   0]]\n",
      "0.5\n",
      "Linear SVM\n",
      "[[225   6]\n",
      " [  3   4]]\n",
      "0.7727272727272727\n"
     ]
    },
    {
     "name": "stderr",
     "output_type": "stream",
     "text": [
      "C:\\Users\\Nour Al-Hoda\\Anaconda3\\lib\\site-packages\\sklearn\\linear_model\\logistic.py:433: FutureWarning: Default solver will be changed to 'lbfgs' in 0.22. Specify a solver to silence this warning.\n",
      "  FutureWarning)\n"
     ]
    },
    {
     "name": "stdout",
     "output_type": "stream",
     "text": [
      "Gradient Boosting Classifier\n",
      "[[227   4]\n",
      " [  5   2]]\n",
      "0.6341991341991342\n",
      "Decision Tree\n",
      "[[224   7]\n",
      " [  4   3]]\n",
      "0.6991341991341992\n",
      "Random Forest\n",
      "[[228   3]\n",
      " [  7   0]]\n",
      "0.4935064935064935\n"
     ]
    },
    {
     "name": "stderr",
     "output_type": "stream",
     "text": [
      "C:\\Users\\Nour Al-Hoda\\Anaconda3\\lib\\site-packages\\sklearn\\neural_network\\multilayer_perceptron.py:562: ConvergenceWarning: Stochastic Optimizer: Maximum iterations (200) reached and the optimization hasn't converged yet.\n",
      "  % self.max_iter, ConvergenceWarning)\n"
     ]
    },
    {
     "name": "stdout",
     "output_type": "stream",
     "text": [
      "Neural Net\n",
      "[[230   1]\n",
      " [  4   3]]\n",
      "0.7121212121212122\n",
      "Naive Bayes\n",
      "[[216  15]\n",
      " [  1   6]]\n",
      "0.8961038961038962\n",
      "AdaBoost\n",
      "[[229   2]\n",
      " [  6   1]]\n",
      "0.5670995670995671\n",
      "Gaussian Process\n",
      "[[231   0]\n",
      " [  7   0]]\n",
      "0.5\n",
      "=================================================================\n",
      "Results for  60  PCA components\n",
      "=================================================================\n"
     ]
    },
    {
     "name": "stderr",
     "output_type": "stream",
     "text": [
      "C:\\Users\\Nour Al-Hoda\\Anaconda3\\lib\\site-packages\\sklearn\\linear_model\\logistic.py:433: FutureWarning: Default solver will be changed to 'lbfgs' in 0.22. Specify a solver to silence this warning.\n",
      "  FutureWarning)\n"
     ]
    },
    {
     "name": "stdout",
     "output_type": "stream",
     "text": [
      "Logistic Regression\n",
      "[[228   3]\n",
      " [  3   4]]\n",
      "0.7792207792207791\n",
      "Nearest Neighbors\n",
      "[[231   0]\n",
      " [  7   0]]\n",
      "0.5\n",
      "Linear SVM\n",
      "[[227   4]\n",
      " [  3   4]]\n",
      "0.777056277056277\n",
      "Gradient Boosting Classifier\n",
      "[[226   5]\n",
      " [  5   2]]\n",
      "0.632034632034632\n",
      "Decision Tree\n",
      "[[224   7]\n",
      " [  4   3]]\n",
      "0.6991341991341992\n",
      "Random Forest\n",
      "[[229   2]\n",
      " [  6   1]]\n",
      "0.5670995670995671\n"
     ]
    },
    {
     "name": "stderr",
     "output_type": "stream",
     "text": [
      "C:\\Users\\Nour Al-Hoda\\Anaconda3\\lib\\site-packages\\sklearn\\neural_network\\multilayer_perceptron.py:562: ConvergenceWarning: Stochastic Optimizer: Maximum iterations (200) reached and the optimization hasn't converged yet.\n",
      "  % self.max_iter, ConvergenceWarning)\n"
     ]
    },
    {
     "name": "stdout",
     "output_type": "stream",
     "text": [
      "Neural Net\n",
      "[[230   1]\n",
      " [  4   3]]\n",
      "0.7121212121212122\n",
      "Naive Bayes\n",
      "[[214  17]\n",
      " [  1   6]]\n",
      "0.8917748917748918\n",
      "AdaBoost\n",
      "[[228   3]\n",
      " [  3   4]]\n",
      "0.7792207792207791\n",
      "Gaussian Process\n",
      "[[231   0]\n",
      " [  7   0]]\n",
      "0.5\n",
      "=================================================================\n",
      "Results for  75  PCA components\n",
      "=================================================================\n",
      "Logistic Regression\n",
      "[[228   3]\n",
      " [  2   5]]\n",
      "0.8506493506493508\n",
      "Nearest Neighbors\n",
      "[[231   0]\n",
      " [  7   0]]\n",
      "0.5\n",
      "Linear SVM\n",
      "[[229   2]\n",
      " [  2   5]]\n",
      "0.8528138528138529\n"
     ]
    },
    {
     "name": "stderr",
     "output_type": "stream",
     "text": [
      "C:\\Users\\Nour Al-Hoda\\Anaconda3\\lib\\site-packages\\sklearn\\linear_model\\logistic.py:433: FutureWarning: Default solver will be changed to 'lbfgs' in 0.22. Specify a solver to silence this warning.\n",
      "  FutureWarning)\n"
     ]
    },
    {
     "name": "stdout",
     "output_type": "stream",
     "text": [
      "Gradient Boosting Classifier\n",
      "[[227   4]\n",
      " [  5   2]]\n",
      "0.6341991341991342\n",
      "Decision Tree\n",
      "[[226   5]\n",
      " [  3   4]]\n",
      "0.7748917748917749\n",
      "Random Forest\n",
      "[[227   4]\n",
      " [  6   1]]\n",
      "0.5627705627705628\n"
     ]
    },
    {
     "name": "stderr",
     "output_type": "stream",
     "text": [
      "C:\\Users\\Nour Al-Hoda\\Anaconda3\\lib\\site-packages\\sklearn\\neural_network\\multilayer_perceptron.py:562: ConvergenceWarning: Stochastic Optimizer: Maximum iterations (200) reached and the optimization hasn't converged yet.\n",
      "  % self.max_iter, ConvergenceWarning)\n"
     ]
    },
    {
     "name": "stdout",
     "output_type": "stream",
     "text": [
      "Neural Net\n",
      "[[230   1]\n",
      " [  6   1]]\n",
      "0.5692640692640693\n",
      "Naive Bayes\n",
      "[[210  21]\n",
      " [  1   6]]\n",
      "0.8831168831168831\n",
      "AdaBoost\n",
      "[[230   1]\n",
      " [  3   4]]\n",
      "0.7835497835497836\n",
      "Gaussian Process\n",
      "[[231   0]\n",
      " [  7   0]]\n",
      "0.5\n",
      "=================================================================\n",
      "Results for  90  PCA components\n",
      "=================================================================\n",
      "Logistic Regression\n",
      "[[228   3]\n",
      " [  2   5]]\n",
      "0.8506493506493508\n",
      "Nearest Neighbors\n",
      "[[231   0]\n",
      " [  7   0]]\n",
      "0.5\n",
      "Linear SVM\n",
      "[[228   3]\n",
      " [  2   5]]\n",
      "0.8506493506493508\n"
     ]
    },
    {
     "name": "stderr",
     "output_type": "stream",
     "text": [
      "C:\\Users\\Nour Al-Hoda\\Anaconda3\\lib\\site-packages\\sklearn\\linear_model\\logistic.py:433: FutureWarning: Default solver will be changed to 'lbfgs' in 0.22. Specify a solver to silence this warning.\n",
      "  FutureWarning)\n"
     ]
    },
    {
     "name": "stdout",
     "output_type": "stream",
     "text": [
      "Gradient Boosting Classifier\n",
      "[[226   5]\n",
      " [  5   2]]\n",
      "0.632034632034632\n",
      "Decision Tree\n",
      "[[225   6]\n",
      " [  4   3]]\n",
      "0.7012987012987013\n",
      "Random Forest\n",
      "[[226   5]\n",
      " [  7   0]]\n",
      "0.48917748917748916\n"
     ]
    },
    {
     "name": "stderr",
     "output_type": "stream",
     "text": [
      "C:\\Users\\Nour Al-Hoda\\Anaconda3\\lib\\site-packages\\sklearn\\neural_network\\multilayer_perceptron.py:562: ConvergenceWarning: Stochastic Optimizer: Maximum iterations (200) reached and the optimization hasn't converged yet.\n",
      "  % self.max_iter, ConvergenceWarning)\n"
     ]
    },
    {
     "name": "stdout",
     "output_type": "stream",
     "text": [
      "Neural Net\n",
      "[[230   1]\n",
      " [  4   3]]\n",
      "0.7121212121212122\n",
      "Naive Bayes\n",
      "[[208  23]\n",
      " [  1   6]]\n",
      "0.8787878787878788\n",
      "AdaBoost\n",
      "[[227   4]\n",
      " [  3   4]]\n",
      "0.777056277056277\n",
      "Gaussian Process\n",
      "[[231   0]\n",
      " [  7   0]]\n",
      "0.5\n",
      "=================================================================\n",
      "Results for  105  PCA components\n",
      "=================================================================\n",
      "Logistic Regression\n",
      "[[228   3]\n",
      " [  2   5]]\n",
      "0.8506493506493508\n",
      "Nearest Neighbors\n",
      "[[231   0]\n",
      " [  7   0]]\n",
      "0.5\n",
      "Linear SVM\n",
      "[[229   2]\n",
      " [  3   4]]\n",
      "0.7813852813852814\n"
     ]
    },
    {
     "name": "stderr",
     "output_type": "stream",
     "text": [
      "C:\\Users\\Nour Al-Hoda\\Anaconda3\\lib\\site-packages\\sklearn\\linear_model\\logistic.py:433: FutureWarning: Default solver will be changed to 'lbfgs' in 0.22. Specify a solver to silence this warning.\n",
      "  FutureWarning)\n"
     ]
    },
    {
     "name": "stdout",
     "output_type": "stream",
     "text": [
      "Gradient Boosting Classifier\n",
      "[[228   3]\n",
      " [  5   2]]\n",
      "0.6363636363636364\n",
      "Decision Tree\n",
      "[[224   7]\n",
      " [  3   4]]\n",
      "0.7705627705627706\n",
      "Random Forest\n",
      "[[225   6]\n",
      " [  6   1]]\n",
      "0.5584415584415584\n"
     ]
    },
    {
     "name": "stderr",
     "output_type": "stream",
     "text": [
      "C:\\Users\\Nour Al-Hoda\\Anaconda3\\lib\\site-packages\\sklearn\\neural_network\\multilayer_perceptron.py:562: ConvergenceWarning: Stochastic Optimizer: Maximum iterations (200) reached and the optimization hasn't converged yet.\n",
      "  % self.max_iter, ConvergenceWarning)\n"
     ]
    },
    {
     "name": "stdout",
     "output_type": "stream",
     "text": [
      "Neural Net\n",
      "[[229   2]\n",
      " [  4   3]]\n",
      "0.70995670995671\n",
      "Naive Bayes\n",
      "[[205  26]\n",
      " [  1   6]]\n",
      "0.8722943722943723\n",
      "AdaBoost\n",
      "[[229   2]\n",
      " [  3   4]]\n",
      "0.7813852813852814\n",
      "Gaussian Process\n",
      "[[231   0]\n",
      " [  7   0]]\n",
      "0.5\n",
      "=================================================================\n",
      "Results for  120  PCA components\n",
      "=================================================================\n",
      "Logistic Regression\n",
      "[[228   3]\n",
      " [  2   5]]\n",
      "0.8506493506493508\n",
      "Nearest Neighbors\n",
      "[[231   0]\n",
      " [  7   0]]\n",
      "0.5\n",
      "Linear SVM\n",
      "[[229   2]\n",
      " [  2   5]]\n",
      "0.8528138528138529\n"
     ]
    },
    {
     "name": "stderr",
     "output_type": "stream",
     "text": [
      "C:\\Users\\Nour Al-Hoda\\Anaconda3\\lib\\site-packages\\sklearn\\linear_model\\logistic.py:433: FutureWarning: Default solver will be changed to 'lbfgs' in 0.22. Specify a solver to silence this warning.\n",
      "  FutureWarning)\n"
     ]
    },
    {
     "name": "stdout",
     "output_type": "stream",
     "text": [
      "Gradient Boosting Classifier\n",
      "[[227   4]\n",
      " [  5   2]]\n",
      "0.6341991341991342\n",
      "Decision Tree\n",
      "[[226   5]\n",
      " [  4   3]]\n",
      "0.7034632034632035\n",
      "Random Forest\n",
      "[[227   4]\n",
      " [  6   1]]\n",
      "0.5627705627705628\n"
     ]
    },
    {
     "name": "stderr",
     "output_type": "stream",
     "text": [
      "C:\\Users\\Nour Al-Hoda\\Anaconda3\\lib\\site-packages\\sklearn\\neural_network\\multilayer_perceptron.py:562: ConvergenceWarning: Stochastic Optimizer: Maximum iterations (200) reached and the optimization hasn't converged yet.\n",
      "  % self.max_iter, ConvergenceWarning)\n"
     ]
    },
    {
     "name": "stdout",
     "output_type": "stream",
     "text": [
      "Neural Net\n",
      "[[230   1]\n",
      " [  4   3]]\n",
      "0.7121212121212122\n",
      "Naive Bayes\n",
      "[[206  25]\n",
      " [  1   6]]\n",
      "0.8744588744588745\n",
      "AdaBoost\n",
      "[[227   4]\n",
      " [  3   4]]\n",
      "0.777056277056277\n",
      "Gaussian Process\n",
      "[[231   0]\n",
      " [  7   0]]\n",
      "0.5\n",
      "=================================================================\n",
      "Results for  135  PCA components\n",
      "=================================================================\n",
      "Logistic Regression\n",
      "[[228   3]\n",
      " [  2   5]]\n",
      "0.8506493506493508\n",
      "Nearest Neighbors\n",
      "[[231   0]\n",
      " [  7   0]]\n",
      "0.5\n",
      "Linear SVM\n",
      "[[229   2]\n",
      " [  2   5]]\n",
      "0.8528138528138529\n"
     ]
    },
    {
     "name": "stderr",
     "output_type": "stream",
     "text": [
      "C:\\Users\\Nour Al-Hoda\\Anaconda3\\lib\\site-packages\\sklearn\\linear_model\\logistic.py:433: FutureWarning: Default solver will be changed to 'lbfgs' in 0.22. Specify a solver to silence this warning.\n",
      "  FutureWarning)\n"
     ]
    },
    {
     "name": "stdout",
     "output_type": "stream",
     "text": [
      "Gradient Boosting Classifier\n",
      "[[228   3]\n",
      " [  4   3]]\n",
      "0.7077922077922078\n",
      "Decision Tree\n",
      "[[226   5]\n",
      " [  3   4]]\n",
      "0.7748917748917749\n",
      "Random Forest\n",
      "[[227   4]\n",
      " [  7   0]]\n",
      "0.49134199134199136\n"
     ]
    },
    {
     "name": "stderr",
     "output_type": "stream",
     "text": [
      "C:\\Users\\Nour Al-Hoda\\Anaconda3\\lib\\site-packages\\sklearn\\neural_network\\multilayer_perceptron.py:562: ConvergenceWarning: Stochastic Optimizer: Maximum iterations (200) reached and the optimization hasn't converged yet.\n",
      "  % self.max_iter, ConvergenceWarning)\n"
     ]
    },
    {
     "name": "stdout",
     "output_type": "stream",
     "text": [
      "Neural Net\n",
      "[[230   1]\n",
      " [  5   2]]\n",
      "0.6406926406926406\n",
      "Naive Bayes\n",
      "[[205  26]\n",
      " [  1   6]]\n",
      "0.8722943722943723\n",
      "AdaBoost\n",
      "[[229   2]\n",
      " [  5   2]]\n",
      "0.6385281385281385\n",
      "Gaussian Process\n",
      "[[231   0]\n",
      " [  7   0]]\n",
      "0.5\n",
      "=================================================================\n",
      "Results for  150  PCA components\n",
      "=================================================================\n",
      "Logistic Regression\n",
      "[[228   3]\n",
      " [  2   5]]\n",
      "0.8506493506493508\n",
      "Nearest Neighbors\n",
      "[[231   0]\n",
      " [  7   0]]\n",
      "0.5\n",
      "Linear SVM\n",
      "[[229   2]\n",
      " [  2   5]]\n",
      "0.8528138528138529\n"
     ]
    },
    {
     "name": "stderr",
     "output_type": "stream",
     "text": [
      "C:\\Users\\Nour Al-Hoda\\Anaconda3\\lib\\site-packages\\sklearn\\linear_model\\logistic.py:433: FutureWarning: Default solver will be changed to 'lbfgs' in 0.22. Specify a solver to silence this warning.\n",
      "  FutureWarning)\n"
     ]
    },
    {
     "name": "stdout",
     "output_type": "stream",
     "text": [
      "Gradient Boosting Classifier\n",
      "[[227   4]\n",
      " [  5   2]]\n",
      "0.6341991341991342\n",
      "Decision Tree\n",
      "[[227   4]\n",
      " [  4   3]]\n",
      "0.7056277056277056\n",
      "Random Forest\n",
      "[[225   6]\n",
      " [  5   2]]\n",
      "0.6298701298701298\n"
     ]
    },
    {
     "name": "stderr",
     "output_type": "stream",
     "text": [
      "C:\\Users\\Nour Al-Hoda\\Anaconda3\\lib\\site-packages\\sklearn\\neural_network\\multilayer_perceptron.py:562: ConvergenceWarning: Stochastic Optimizer: Maximum iterations (200) reached and the optimization hasn't converged yet.\n",
      "  % self.max_iter, ConvergenceWarning)\n"
     ]
    },
    {
     "name": "stdout",
     "output_type": "stream",
     "text": [
      "Neural Net\n",
      "[[230   1]\n",
      " [  5   2]]\n",
      "0.6406926406926406\n",
      "Naive Bayes\n",
      "[[207  24]\n",
      " [  1   6]]\n",
      "0.8766233766233766\n",
      "AdaBoost\n",
      "[[230   1]\n",
      " [  2   5]]\n",
      "0.8549783549783551\n",
      "Gaussian Process\n",
      "[[231   0]\n",
      " [  7   0]]\n",
      "0.5\n",
      "=================================================================\n",
      "Results for  165  PCA components\n",
      "=================================================================\n",
      "Logistic Regression\n",
      "[[228   3]\n",
      " [  2   5]]\n",
      "0.8506493506493508\n",
      "Nearest Neighbors\n",
      "[[231   0]\n",
      " [  7   0]]\n",
      "0.5\n",
      "Linear SVM\n",
      "[[229   2]\n",
      " [  2   5]]\n",
      "0.8528138528138529\n"
     ]
    },
    {
     "name": "stderr",
     "output_type": "stream",
     "text": [
      "C:\\Users\\Nour Al-Hoda\\Anaconda3\\lib\\site-packages\\sklearn\\linear_model\\logistic.py:433: FutureWarning: Default solver will be changed to 'lbfgs' in 0.22. Specify a solver to silence this warning.\n",
      "  FutureWarning)\n"
     ]
    },
    {
     "name": "stdout",
     "output_type": "stream",
     "text": [
      "Gradient Boosting Classifier\n",
      "[[228   3]\n",
      " [  6   1]]\n",
      "0.5649350649350648\n",
      "Decision Tree\n",
      "[[228   3]\n",
      " [  3   4]]\n",
      "0.7792207792207791\n",
      "Random Forest\n",
      "[[225   6]\n",
      " [  7   0]]\n",
      "0.487012987012987\n"
     ]
    },
    {
     "name": "stderr",
     "output_type": "stream",
     "text": [
      "C:\\Users\\Nour Al-Hoda\\Anaconda3\\lib\\site-packages\\sklearn\\neural_network\\multilayer_perceptron.py:562: ConvergenceWarning: Stochastic Optimizer: Maximum iterations (200) reached and the optimization hasn't converged yet.\n",
      "  % self.max_iter, ConvergenceWarning)\n"
     ]
    },
    {
     "name": "stdout",
     "output_type": "stream",
     "text": [
      "Neural Net\n",
      "[[230   1]\n",
      " [  5   2]]\n",
      "0.6406926406926406\n",
      "Naive Bayes\n",
      "[[211  20]\n",
      " [  1   6]]\n",
      "0.8852813852813853\n",
      "AdaBoost\n",
      "[[227   4]\n",
      " [  3   4]]\n",
      "0.777056277056277\n",
      "Gaussian Process\n",
      "[[231   0]\n",
      " [  7   0]]\n",
      "0.5\n",
      "=================================================================\n",
      "Results for  180  PCA components\n",
      "=================================================================\n",
      "Logistic Regression\n",
      "[[229   2]\n",
      " [  2   5]]\n",
      "0.8528138528138529\n",
      "Nearest Neighbors\n",
      "[[231   0]\n",
      " [  7   0]]\n",
      "0.5\n",
      "Linear SVM\n",
      "[[229   2]\n",
      " [  2   5]]\n",
      "0.8528138528138529\n"
     ]
    },
    {
     "name": "stderr",
     "output_type": "stream",
     "text": [
      "C:\\Users\\Nour Al-Hoda\\Anaconda3\\lib\\site-packages\\sklearn\\linear_model\\logistic.py:433: FutureWarning: Default solver will be changed to 'lbfgs' in 0.22. Specify a solver to silence this warning.\n",
      "  FutureWarning)\n"
     ]
    },
    {
     "name": "stdout",
     "output_type": "stream",
     "text": [
      "Gradient Boosting Classifier\n",
      "[[227   4]\n",
      " [  4   3]]\n",
      "0.7056277056277056\n",
      "Decision Tree\n",
      "[[227   4]\n",
      " [  4   3]]\n",
      "0.7056277056277056\n",
      "Random Forest\n",
      "[[227   4]\n",
      " [  7   0]]\n",
      "0.49134199134199136\n"
     ]
    },
    {
     "name": "stderr",
     "output_type": "stream",
     "text": [
      "C:\\Users\\Nour Al-Hoda\\Anaconda3\\lib\\site-packages\\sklearn\\neural_network\\multilayer_perceptron.py:562: ConvergenceWarning: Stochastic Optimizer: Maximum iterations (200) reached and the optimization hasn't converged yet.\n",
      "  % self.max_iter, ConvergenceWarning)\n"
     ]
    },
    {
     "name": "stdout",
     "output_type": "stream",
     "text": [
      "Neural Net\n",
      "[[230   1]\n",
      " [  5   2]]\n",
      "0.6406926406926406\n",
      "Naive Bayes\n",
      "[[217  14]\n",
      " [  2   5]]\n",
      "0.826839826839827\n",
      "AdaBoost\n",
      "[[229   2]\n",
      " [  4   3]]\n",
      "0.70995670995671\n",
      "Gaussian Process\n",
      "[[231   0]\n",
      " [  7   0]]\n",
      "0.5\n",
      "=================================================================\n",
      "Results for  195  PCA components\n",
      "=================================================================\n",
      "Logistic Regression\n",
      "[[228   3]\n",
      " [  2   5]]\n",
      "0.8506493506493508\n",
      "Nearest Neighbors\n",
      "[[231   0]\n",
      " [  7   0]]\n",
      "0.5\n",
      "Linear SVM\n",
      "[[229   2]\n",
      " [  2   5]]\n",
      "0.8528138528138529\n"
     ]
    },
    {
     "name": "stderr",
     "output_type": "stream",
     "text": [
      "C:\\Users\\Nour Al-Hoda\\Anaconda3\\lib\\site-packages\\sklearn\\linear_model\\logistic.py:433: FutureWarning: Default solver will be changed to 'lbfgs' in 0.22. Specify a solver to silence this warning.\n",
      "  FutureWarning)\n"
     ]
    },
    {
     "name": "stdout",
     "output_type": "stream",
     "text": [
      "Gradient Boosting Classifier\n",
      "[[225   6]\n",
      " [  4   3]]\n",
      "0.7012987012987013\n",
      "Decision Tree\n",
      "[[226   5]\n",
      " [  4   3]]\n",
      "0.7034632034632035\n",
      "Random Forest\n",
      "[[226   5]\n",
      " [  7   0]]\n",
      "0.48917748917748916\n"
     ]
    },
    {
     "name": "stderr",
     "output_type": "stream",
     "text": [
      "C:\\Users\\Nour Al-Hoda\\Anaconda3\\lib\\site-packages\\sklearn\\neural_network\\multilayer_perceptron.py:562: ConvergenceWarning: Stochastic Optimizer: Maximum iterations (200) reached and the optimization hasn't converged yet.\n",
      "  % self.max_iter, ConvergenceWarning)\n"
     ]
    },
    {
     "name": "stdout",
     "output_type": "stream",
     "text": [
      "Neural Net\n",
      "[[229   2]\n",
      " [  6   1]]\n",
      "0.5670995670995671\n",
      "Naive Bayes\n",
      "[[224   7]\n",
      " [  4   3]]\n",
      "0.6991341991341992\n",
      "AdaBoost\n",
      "[[227   4]\n",
      " [  5   2]]\n",
      "0.6341991341991342\n",
      "Gaussian Process\n",
      "[[231   0]\n",
      " [  7   0]]\n",
      "0.5\n",
      "=================================================================\n",
      "Results for  210  PCA components\n",
      "=================================================================\n",
      "Logistic Regression\n",
      "[[228   3]\n",
      " [  2   5]]\n",
      "0.8506493506493508\n",
      "Nearest Neighbors\n",
      "[[231   0]\n",
      " [  7   0]]\n",
      "0.5\n",
      "Linear SVM\n",
      "[[229   2]\n",
      " [  2   5]]\n",
      "0.8528138528138529\n"
     ]
    },
    {
     "name": "stderr",
     "output_type": "stream",
     "text": [
      "C:\\Users\\Nour Al-Hoda\\Anaconda3\\lib\\site-packages\\sklearn\\linear_model\\logistic.py:433: FutureWarning: Default solver will be changed to 'lbfgs' in 0.22. Specify a solver to silence this warning.\n",
      "  FutureWarning)\n"
     ]
    },
    {
     "name": "stdout",
     "output_type": "stream",
     "text": [
      "Gradient Boosting Classifier\n",
      "[[227   4]\n",
      " [  4   3]]\n",
      "0.7056277056277056\n",
      "Decision Tree\n",
      "[[226   5]\n",
      " [  3   4]]\n",
      "0.7748917748917749\n",
      "Random Forest\n",
      "[[226   5]\n",
      " [  7   0]]\n",
      "0.48917748917748916\n"
     ]
    },
    {
     "name": "stderr",
     "output_type": "stream",
     "text": [
      "C:\\Users\\Nour Al-Hoda\\Anaconda3\\lib\\site-packages\\sklearn\\neural_network\\multilayer_perceptron.py:562: ConvergenceWarning: Stochastic Optimizer: Maximum iterations (200) reached and the optimization hasn't converged yet.\n",
      "  % self.max_iter, ConvergenceWarning)\n"
     ]
    },
    {
     "name": "stdout",
     "output_type": "stream",
     "text": [
      "Neural Net\n",
      "[[230   1]\n",
      " [  5   2]]\n",
      "0.6406926406926406\n",
      "Naive Bayes\n",
      "[[225   6]\n",
      " [  6   1]]\n",
      "0.5584415584415584\n",
      "AdaBoost\n",
      "[[231   0]\n",
      " [  3   4]]\n",
      "0.7857142857142857\n",
      "Gaussian Process\n",
      "[[231   0]\n",
      " [  7   0]]\n",
      "0.5\n",
      "=================================================================\n",
      "Results for  225  PCA components\n",
      "=================================================================\n",
      "Logistic Regression\n",
      "[[228   3]\n",
      " [  2   5]]\n",
      "0.8506493506493508\n",
      "Nearest Neighbors\n",
      "[[231   0]\n",
      " [  7   0]]\n",
      "0.5\n",
      "Linear SVM\n",
      "[[229   2]\n",
      " [  2   5]]\n"
     ]
    },
    {
     "name": "stderr",
     "output_type": "stream",
     "text": [
      "C:\\Users\\Nour Al-Hoda\\Anaconda3\\lib\\site-packages\\sklearn\\linear_model\\logistic.py:433: FutureWarning: Default solver will be changed to 'lbfgs' in 0.22. Specify a solver to silence this warning.\n",
      "  FutureWarning)\n"
     ]
    },
    {
     "name": "stdout",
     "output_type": "stream",
     "text": [
      "0.8528138528138529\n",
      "Gradient Boosting Classifier\n",
      "[[226   5]\n",
      " [  4   3]]\n",
      "0.7034632034632035\n",
      "Decision Tree\n",
      "[[227   4]\n",
      " [  4   3]]\n",
      "0.7056277056277056\n",
      "Random Forest\n",
      "[[226   5]\n",
      " [  7   0]]\n",
      "0.48917748917748916\n"
     ]
    },
    {
     "name": "stderr",
     "output_type": "stream",
     "text": [
      "C:\\Users\\Nour Al-Hoda\\Anaconda3\\lib\\site-packages\\sklearn\\neural_network\\multilayer_perceptron.py:562: ConvergenceWarning: Stochastic Optimizer: Maximum iterations (200) reached and the optimization hasn't converged yet.\n",
      "  % self.max_iter, ConvergenceWarning)\n"
     ]
    },
    {
     "name": "stdout",
     "output_type": "stream",
     "text": [
      "Neural Net\n",
      "[[230   1]\n",
      " [  5   2]]\n",
      "0.6406926406926406\n",
      "Naive Bayes\n",
      "[[230   1]\n",
      " [  7   0]]\n",
      "0.49783549783549785\n",
      "AdaBoost\n",
      "[[228   3]\n",
      " [  5   2]]\n",
      "0.6363636363636364\n",
      "Gaussian Process\n",
      "[[231   0]\n",
      " [  7   0]]\n",
      "0.5\n",
      "=================================================================\n",
      "Results for  240  PCA components\n",
      "=================================================================\n",
      "Logistic Regression\n",
      "[[229   2]\n",
      " [  2   5]]\n",
      "0.8528138528138529\n",
      "Nearest Neighbors\n",
      "[[231   0]\n",
      " [  7   0]]\n",
      "0.5\n",
      "Linear SVM\n",
      "[[229   2]\n",
      " [  2   5]]\n",
      "0.8528138528138529\n"
     ]
    },
    {
     "name": "stderr",
     "output_type": "stream",
     "text": [
      "C:\\Users\\Nour Al-Hoda\\Anaconda3\\lib\\site-packages\\sklearn\\linear_model\\logistic.py:433: FutureWarning: Default solver will be changed to 'lbfgs' in 0.22. Specify a solver to silence this warning.\n",
      "  FutureWarning)\n"
     ]
    },
    {
     "name": "stdout",
     "output_type": "stream",
     "text": [
      "Gradient Boosting Classifier\n",
      "[[227   4]\n",
      " [  4   3]]\n",
      "0.7056277056277056\n",
      "Decision Tree\n",
      "[[227   4]\n",
      " [  3   4]]\n",
      "0.777056277056277\n",
      "Random Forest\n",
      "[[226   5]\n",
      " [  7   0]]\n",
      "0.48917748917748916\n"
     ]
    },
    {
     "name": "stderr",
     "output_type": "stream",
     "text": [
      "C:\\Users\\Nour Al-Hoda\\Anaconda3\\lib\\site-packages\\sklearn\\neural_network\\multilayer_perceptron.py:562: ConvergenceWarning: Stochastic Optimizer: Maximum iterations (200) reached and the optimization hasn't converged yet.\n",
      "  % self.max_iter, ConvergenceWarning)\n"
     ]
    },
    {
     "name": "stdout",
     "output_type": "stream",
     "text": [
      "Neural Net\n",
      "[[229   2]\n",
      " [  3   4]]\n",
      "0.7813852813852814\n",
      "Naive Bayes\n",
      "[[231   0]\n",
      " [  7   0]]\n",
      "0.5\n",
      "AdaBoost\n",
      "[[230   1]\n",
      " [  4   3]]\n",
      "0.7121212121212122\n",
      "Gaussian Process\n",
      "[[231   0]\n",
      " [  7   0]]\n",
      "0.5\n",
      "=================================================================\n",
      "Results for  255  PCA components\n",
      "=================================================================\n",
      "Logistic Regression\n",
      "[[229   2]\n",
      " [  2   5]]\n",
      "0.8528138528138529\n",
      "Nearest Neighbors\n",
      "[[231   0]\n",
      " [  7   0]]\n",
      "0.5\n",
      "Linear SVM\n",
      "[[229   2]\n",
      " [  2   5]]\n"
     ]
    },
    {
     "name": "stderr",
     "output_type": "stream",
     "text": [
      "C:\\Users\\Nour Al-Hoda\\Anaconda3\\lib\\site-packages\\sklearn\\linear_model\\logistic.py:433: FutureWarning: Default solver will be changed to 'lbfgs' in 0.22. Specify a solver to silence this warning.\n",
      "  FutureWarning)\n"
     ]
    },
    {
     "name": "stdout",
     "output_type": "stream",
     "text": [
      "0.8528138528138529\n",
      "Gradient Boosting Classifier\n",
      "[[226   5]\n",
      " [  4   3]]\n",
      "0.7034632034632035\n",
      "Decision Tree\n",
      "[[224   7]\n",
      " [  3   4]]\n",
      "0.7705627705627706\n",
      "Random Forest\n",
      "[[225   6]\n",
      " [  7   0]]\n",
      "0.487012987012987\n"
     ]
    },
    {
     "name": "stderr",
     "output_type": "stream",
     "text": [
      "C:\\Users\\Nour Al-Hoda\\Anaconda3\\lib\\site-packages\\sklearn\\neural_network\\multilayer_perceptron.py:562: ConvergenceWarning: Stochastic Optimizer: Maximum iterations (200) reached and the optimization hasn't converged yet.\n",
      "  % self.max_iter, ConvergenceWarning)\n"
     ]
    },
    {
     "name": "stdout",
     "output_type": "stream",
     "text": [
      "Neural Net\n",
      "[[230   1]\n",
      " [  6   1]]\n",
      "0.5692640692640693\n",
      "Naive Bayes\n",
      "[[231   0]\n",
      " [  7   0]]\n",
      "0.5\n",
      "AdaBoost\n",
      "[[228   3]\n",
      " [  3   4]]\n",
      "0.7792207792207791\n",
      "Gaussian Process\n",
      "[[231   0]\n",
      " [  7   0]]\n",
      "0.5\n",
      "=================================================================\n",
      "Results for  270  PCA components\n",
      "=================================================================\n",
      "Logistic Regression\n",
      "[[229   2]\n",
      " [  2   5]]\n",
      "0.8528138528138529\n",
      "Nearest Neighbors\n",
      "[[231   0]\n",
      " [  7   0]]\n"
     ]
    },
    {
     "name": "stderr",
     "output_type": "stream",
     "text": [
      "C:\\Users\\Nour Al-Hoda\\Anaconda3\\lib\\site-packages\\sklearn\\linear_model\\logistic.py:433: FutureWarning: Default solver will be changed to 'lbfgs' in 0.22. Specify a solver to silence this warning.\n",
      "  FutureWarning)\n"
     ]
    },
    {
     "name": "stdout",
     "output_type": "stream",
     "text": [
      "0.5\n",
      "Linear SVM\n",
      "[[229   2]\n",
      " [  2   5]]\n",
      "0.8528138528138529\n",
      "Gradient Boosting Classifier\n",
      "[[226   5]\n",
      " [  4   3]]\n",
      "0.7034632034632035\n",
      "Decision Tree\n",
      "[[228   3]\n",
      " [  3   4]]\n",
      "0.7792207792207791\n",
      "Random Forest\n",
      "[[227   4]\n",
      " [  7   0]]\n",
      "0.49134199134199136\n"
     ]
    },
    {
     "name": "stderr",
     "output_type": "stream",
     "text": [
      "C:\\Users\\Nour Al-Hoda\\Anaconda3\\lib\\site-packages\\sklearn\\neural_network\\multilayer_perceptron.py:562: ConvergenceWarning: Stochastic Optimizer: Maximum iterations (200) reached and the optimization hasn't converged yet.\n",
      "  % self.max_iter, ConvergenceWarning)\n"
     ]
    },
    {
     "name": "stdout",
     "output_type": "stream",
     "text": [
      "Neural Net\n",
      "[[230   1]\n",
      " [  6   1]]\n",
      "0.5692640692640693\n",
      "Naive Bayes\n",
      "[[231   0]\n",
      " [  7   0]]\n",
      "0.5\n",
      "AdaBoost\n",
      "[[231   0]\n",
      " [  4   3]]\n",
      "0.7142857142857143\n",
      "Gaussian Process\n",
      "[[231   0]\n",
      " [  7   0]]\n",
      "0.5\n",
      "=================================================================\n",
      "Results for  285  PCA components\n",
      "=================================================================\n",
      "Logistic Regression\n",
      "[[229   2]\n",
      " [  2   5]]\n",
      "0.8528138528138529\n",
      "Nearest Neighbors\n",
      "[[231   0]\n",
      " [  7   0]]\n",
      "0.5\n",
      "Linear SVM\n",
      "[[229   2]\n",
      " [  2   5]]\n"
     ]
    },
    {
     "name": "stderr",
     "output_type": "stream",
     "text": [
      "C:\\Users\\Nour Al-Hoda\\Anaconda3\\lib\\site-packages\\sklearn\\linear_model\\logistic.py:433: FutureWarning: Default solver will be changed to 'lbfgs' in 0.22. Specify a solver to silence this warning.\n",
      "  FutureWarning)\n"
     ]
    },
    {
     "name": "stdout",
     "output_type": "stream",
     "text": [
      "0.8528138528138529\n",
      "Gradient Boosting Classifier\n",
      "[[227   4]\n",
      " [  4   3]]\n",
      "0.7056277056277056\n",
      "Decision Tree\n",
      "[[227   4]\n",
      " [  4   3]]\n",
      "0.7056277056277056\n",
      "Random Forest\n",
      "[[227   4]\n",
      " [  7   0]]\n",
      "0.49134199134199136\n"
     ]
    },
    {
     "name": "stderr",
     "output_type": "stream",
     "text": [
      "C:\\Users\\Nour Al-Hoda\\Anaconda3\\lib\\site-packages\\sklearn\\neural_network\\multilayer_perceptron.py:562: ConvergenceWarning: Stochastic Optimizer: Maximum iterations (200) reached and the optimization hasn't converged yet.\n",
      "  % self.max_iter, ConvergenceWarning)\n"
     ]
    },
    {
     "name": "stdout",
     "output_type": "stream",
     "text": [
      "Neural Net\n",
      "[[230   1]\n",
      " [  3   4]]\n",
      "0.7835497835497836\n",
      "Naive Bayes\n",
      "[[231   0]\n",
      " [  7   0]]\n",
      "0.5\n",
      "AdaBoost\n",
      "[[229   2]\n",
      " [  4   3]]\n",
      "0.70995670995671\n",
      "Gaussian Process\n",
      "[[231   0]\n",
      " [  7   0]]\n",
      "0.5\n",
      "=================================================================\n",
      "Results for  300  PCA components\n",
      "=================================================================\n",
      "Logistic Regression\n",
      "[[229   2]\n",
      " [  2   5]]\n",
      "0.8528138528138529\n",
      "Nearest Neighbors\n",
      "[[231   0]\n",
      " [  7   0]]\n"
     ]
    },
    {
     "name": "stderr",
     "output_type": "stream",
     "text": [
      "C:\\Users\\Nour Al-Hoda\\Anaconda3\\lib\\site-packages\\sklearn\\linear_model\\logistic.py:433: FutureWarning: Default solver will be changed to 'lbfgs' in 0.22. Specify a solver to silence this warning.\n",
      "  FutureWarning)\n"
     ]
    },
    {
     "name": "stdout",
     "output_type": "stream",
     "text": [
      "0.5\n",
      "Linear SVM\n",
      "[[229   2]\n",
      " [  2   5]]\n",
      "0.8528138528138529\n",
      "Gradient Boosting Classifier\n",
      "[[227   4]\n",
      " [  3   4]]\n",
      "0.777056277056277\n",
      "Decision Tree\n",
      "[[227   4]\n",
      " [  4   3]]\n",
      "0.7056277056277056\n",
      "Random Forest\n",
      "[[226   5]\n",
      " [  7   0]]\n",
      "0.48917748917748916\n"
     ]
    },
    {
     "name": "stderr",
     "output_type": "stream",
     "text": [
      "C:\\Users\\Nour Al-Hoda\\Anaconda3\\lib\\site-packages\\sklearn\\neural_network\\multilayer_perceptron.py:562: ConvergenceWarning: Stochastic Optimizer: Maximum iterations (200) reached and the optimization hasn't converged yet.\n",
      "  % self.max_iter, ConvergenceWarning)\n"
     ]
    },
    {
     "name": "stdout",
     "output_type": "stream",
     "text": [
      "Neural Net\n",
      "[[229   2]\n",
      " [  3   4]]\n",
      "0.7813852813852814\n",
      "Naive Bayes\n",
      "[[231   0]\n",
      " [  7   0]]\n",
      "0.5\n",
      "AdaBoost\n",
      "[[230   1]\n",
      " [  5   2]]\n",
      "0.6406926406926406\n",
      "Gaussian Process\n",
      "[[231   0]\n",
      " [  7   0]]\n",
      "0.5\n",
      "=================================================================\n",
      "Results for  315  PCA components\n",
      "=================================================================\n",
      "Logistic Regression\n",
      "[[229   2]\n",
      " [  2   5]]\n",
      "0.8528138528138529\n",
      "Nearest Neighbors\n",
      "[[231   0]\n",
      " [  7   0]]\n"
     ]
    },
    {
     "name": "stderr",
     "output_type": "stream",
     "text": [
      "C:\\Users\\Nour Al-Hoda\\Anaconda3\\lib\\site-packages\\sklearn\\linear_model\\logistic.py:433: FutureWarning: Default solver will be changed to 'lbfgs' in 0.22. Specify a solver to silence this warning.\n",
      "  FutureWarning)\n"
     ]
    },
    {
     "name": "stdout",
     "output_type": "stream",
     "text": [
      "0.5\n",
      "Linear SVM\n",
      "[[229   2]\n",
      " [  2   5]]\n",
      "0.8528138528138529\n",
      "Gradient Boosting Classifier\n",
      "[[227   4]\n",
      " [  4   3]]\n",
      "0.7056277056277056\n",
      "Decision Tree\n",
      "[[228   3]\n",
      " [  4   3]]\n",
      "0.7077922077922078\n",
      "Random Forest\n",
      "[[226   5]\n",
      " [  7   0]]\n",
      "0.48917748917748916\n"
     ]
    },
    {
     "name": "stderr",
     "output_type": "stream",
     "text": [
      "C:\\Users\\Nour Al-Hoda\\Anaconda3\\lib\\site-packages\\sklearn\\neural_network\\multilayer_perceptron.py:562: ConvergenceWarning: Stochastic Optimizer: Maximum iterations (200) reached and the optimization hasn't converged yet.\n",
      "  % self.max_iter, ConvergenceWarning)\n"
     ]
    },
    {
     "name": "stdout",
     "output_type": "stream",
     "text": [
      "Neural Net\n",
      "[[230   1]\n",
      " [  2   5]]\n",
      "0.8549783549783551\n",
      "Naive Bayes\n",
      "[[231   0]\n",
      " [  7   0]]\n",
      "0.5\n",
      "AdaBoost\n",
      "[[230   1]\n",
      " [  5   2]]\n",
      "0.6406926406926406\n",
      "Gaussian Process\n",
      "[[231   0]\n",
      " [  7   0]]\n",
      "0.5\n",
      "=================================================================\n",
      "Results for  330  PCA components\n",
      "=================================================================\n",
      "Logistic Regression\n",
      "[[229   2]\n",
      " [  2   5]]\n",
      "0.8528138528138529\n"
     ]
    },
    {
     "name": "stderr",
     "output_type": "stream",
     "text": [
      "C:\\Users\\Nour Al-Hoda\\Anaconda3\\lib\\site-packages\\sklearn\\linear_model\\logistic.py:433: FutureWarning: Default solver will be changed to 'lbfgs' in 0.22. Specify a solver to silence this warning.\n",
      "  FutureWarning)\n"
     ]
    },
    {
     "name": "stdout",
     "output_type": "stream",
     "text": [
      "Nearest Neighbors\n",
      "[[231   0]\n",
      " [  7   0]]\n",
      "0.5\n",
      "Linear SVM\n",
      "[[229   2]\n",
      " [  2   5]]\n",
      "0.8528138528138529\n",
      "Gradient Boosting Classifier\n",
      "[[228   3]\n",
      " [  4   3]]\n",
      "0.7077922077922078\n",
      "Decision Tree\n",
      "[[226   5]\n",
      " [  4   3]]\n",
      "0.7034632034632035\n",
      "Random Forest\n",
      "[[229   2]\n",
      " [  7   0]]\n",
      "0.49567099567099565\n"
     ]
    },
    {
     "name": "stderr",
     "output_type": "stream",
     "text": [
      "C:\\Users\\Nour Al-Hoda\\Anaconda3\\lib\\site-packages\\sklearn\\neural_network\\multilayer_perceptron.py:562: ConvergenceWarning: Stochastic Optimizer: Maximum iterations (200) reached and the optimization hasn't converged yet.\n",
      "  % self.max_iter, ConvergenceWarning)\n"
     ]
    },
    {
     "name": "stdout",
     "output_type": "stream",
     "text": [
      "Neural Net\n",
      "[[230   1]\n",
      " [  5   2]]\n",
      "0.6406926406926406\n",
      "Naive Bayes\n",
      "[[231   0]\n",
      " [  7   0]]\n",
      "0.5\n",
      "AdaBoost\n",
      "[[231   0]\n",
      " [  4   3]]\n",
      "0.7142857142857143\n",
      "Gaussian Process\n",
      "[[231   0]\n",
      " [  7   0]]\n",
      "0.5\n",
      "=================================================================\n",
      "Results for  345  PCA components\n",
      "=================================================================\n",
      "Logistic Regression\n",
      "[[229   2]\n",
      " [  2   5]]\n",
      "0.8528138528138529\n"
     ]
    },
    {
     "name": "stderr",
     "output_type": "stream",
     "text": [
      "C:\\Users\\Nour Al-Hoda\\Anaconda3\\lib\\site-packages\\sklearn\\linear_model\\logistic.py:433: FutureWarning: Default solver will be changed to 'lbfgs' in 0.22. Specify a solver to silence this warning.\n",
      "  FutureWarning)\n"
     ]
    },
    {
     "name": "stdout",
     "output_type": "stream",
     "text": [
      "Nearest Neighbors\n",
      "[[231   0]\n",
      " [  7   0]]\n",
      "0.5\n",
      "Linear SVM\n",
      "[[229   2]\n",
      " [  2   5]]\n",
      "0.8528138528138529\n",
      "Gradient Boosting Classifier\n",
      "[[227   4]\n",
      " [  4   3]]\n",
      "0.7056277056277056\n",
      "Decision Tree\n",
      "[[228   3]\n",
      " [  4   3]]\n",
      "0.7077922077922078\n",
      "Random Forest\n",
      "[[227   4]\n",
      " [  7   0]]\n",
      "0.49134199134199136\n"
     ]
    },
    {
     "name": "stderr",
     "output_type": "stream",
     "text": [
      "C:\\Users\\Nour Al-Hoda\\Anaconda3\\lib\\site-packages\\sklearn\\neural_network\\multilayer_perceptron.py:562: ConvergenceWarning: Stochastic Optimizer: Maximum iterations (200) reached and the optimization hasn't converged yet.\n",
      "  % self.max_iter, ConvergenceWarning)\n"
     ]
    },
    {
     "name": "stdout",
     "output_type": "stream",
     "text": [
      "Neural Net\n",
      "[[230   1]\n",
      " [  5   2]]\n",
      "0.6406926406926406\n",
      "Naive Bayes\n",
      "[[231   0]\n",
      " [  7   0]]\n",
      "0.5\n",
      "AdaBoost\n",
      "[[226   5]\n",
      " [  5   2]]\n",
      "0.632034632034632\n",
      "Gaussian Process\n",
      "[[231   0]\n",
      " [  7   0]]\n",
      "0.5\n",
      "=================================================================\n",
      "Results for  360  PCA components\n",
      "=================================================================\n",
      "Logistic Regression\n",
      "[[229   2]\n",
      " [  2   5]]\n",
      "0.8528138528138529\n"
     ]
    },
    {
     "name": "stderr",
     "output_type": "stream",
     "text": [
      "C:\\Users\\Nour Al-Hoda\\Anaconda3\\lib\\site-packages\\sklearn\\linear_model\\logistic.py:433: FutureWarning: Default solver will be changed to 'lbfgs' in 0.22. Specify a solver to silence this warning.\n",
      "  FutureWarning)\n"
     ]
    },
    {
     "name": "stdout",
     "output_type": "stream",
     "text": [
      "Nearest Neighbors\n",
      "[[231   0]\n",
      " [  7   0]]\n",
      "0.5\n",
      "Linear SVM\n",
      "[[229   2]\n",
      " [  2   5]]\n",
      "0.8528138528138529\n",
      "Gradient Boosting Classifier\n",
      "[[225   6]\n",
      " [  6   1]]\n",
      "0.5584415584415584\n",
      "Decision Tree\n",
      "[[224   7]\n",
      " [  6   1]]\n",
      "0.5562770562770563\n",
      "Random Forest\n",
      "[[227   4]\n",
      " [  7   0]]\n",
      "0.49134199134199136\n"
     ]
    },
    {
     "name": "stderr",
     "output_type": "stream",
     "text": [
      "C:\\Users\\Nour Al-Hoda\\Anaconda3\\lib\\site-packages\\sklearn\\neural_network\\multilayer_perceptron.py:562: ConvergenceWarning: Stochastic Optimizer: Maximum iterations (200) reached and the optimization hasn't converged yet.\n",
      "  % self.max_iter, ConvergenceWarning)\n"
     ]
    },
    {
     "name": "stdout",
     "output_type": "stream",
     "text": [
      "Neural Net\n",
      "[[230   1]\n",
      " [  3   4]]\n",
      "0.7835497835497836\n",
      "Naive Bayes\n",
      "[[231   0]\n",
      " [  7   0]]\n",
      "0.5\n",
      "AdaBoost\n",
      "[[231   0]\n",
      " [  6   1]]\n",
      "0.5714285714285714\n",
      "Gaussian Process\n",
      "[[231   0]\n",
      " [  7   0]]\n",
      "0.5\n",
      "=================================================================\n",
      "Results for  375  PCA components\n",
      "=================================================================\n",
      "Logistic Regression\n",
      "[[229   2]\n",
      " [  2   5]]\n",
      "0.8528138528138529\n"
     ]
    },
    {
     "name": "stderr",
     "output_type": "stream",
     "text": [
      "C:\\Users\\Nour Al-Hoda\\Anaconda3\\lib\\site-packages\\sklearn\\linear_model\\logistic.py:433: FutureWarning: Default solver will be changed to 'lbfgs' in 0.22. Specify a solver to silence this warning.\n",
      "  FutureWarning)\n"
     ]
    },
    {
     "name": "stdout",
     "output_type": "stream",
     "text": [
      "Nearest Neighbors\n",
      "[[231   0]\n",
      " [  7   0]]\n",
      "0.5\n",
      "Linear SVM\n",
      "[[229   2]\n",
      " [  2   5]]\n",
      "0.8528138528138529\n",
      "Gradient Boosting Classifier\n",
      "[[227   4]\n",
      " [  4   3]]\n",
      "0.7056277056277056\n",
      "Decision Tree\n",
      "[[226   5]\n",
      " [  4   3]]\n",
      "0.7034632034632035\n",
      "Random Forest\n",
      "[[227   4]\n",
      " [  7   0]]\n",
      "0.49134199134199136\n",
      "Neural Net\n",
      "[[230   1]\n",
      " [  4   3]]\n",
      "0.7121212121212122\n",
      "Naive Bayes\n",
      "[[231   0]\n",
      " [  7   0]]\n",
      "0.5\n",
      "AdaBoost\n",
      "[[231   0]\n",
      " [  5   2]]\n",
      "0.6428571428571428\n",
      "Gaussian Process\n",
      "[[231   0]\n",
      " [  7   0]]\n",
      "0.5\n",
      "=================================================================\n",
      "Results for  390  PCA components\n",
      "=================================================================\n",
      "Logistic Regression\n",
      "[[229   2]\n",
      " [  2   5]]\n",
      "0.8528138528138529\n"
     ]
    },
    {
     "name": "stderr",
     "output_type": "stream",
     "text": [
      "C:\\Users\\Nour Al-Hoda\\Anaconda3\\lib\\site-packages\\sklearn\\linear_model\\logistic.py:433: FutureWarning: Default solver will be changed to 'lbfgs' in 0.22. Specify a solver to silence this warning.\n",
      "  FutureWarning)\n"
     ]
    },
    {
     "name": "stdout",
     "output_type": "stream",
     "text": [
      "Nearest Neighbors\n",
      "[[231   0]\n",
      " [  7   0]]\n",
      "0.5\n",
      "Linear SVM\n",
      "[[229   2]\n",
      " [  2   5]]\n",
      "0.8528138528138529\n",
      "Gradient Boosting Classifier\n",
      "[[227   4]\n",
      " [  4   3]]\n",
      "0.7056277056277056\n",
      "Decision Tree\n",
      "[[225   6]\n",
      " [  4   3]]\n",
      "0.7012987012987013\n",
      "Random Forest\n",
      "[[228   3]\n",
      " [  7   0]]\n",
      "0.4935064935064935\n"
     ]
    },
    {
     "name": "stderr",
     "output_type": "stream",
     "text": [
      "C:\\Users\\Nour Al-Hoda\\Anaconda3\\lib\\site-packages\\sklearn\\neural_network\\multilayer_perceptron.py:562: ConvergenceWarning: Stochastic Optimizer: Maximum iterations (200) reached and the optimization hasn't converged yet.\n",
      "  % self.max_iter, ConvergenceWarning)\n"
     ]
    },
    {
     "name": "stdout",
     "output_type": "stream",
     "text": [
      "Neural Net\n",
      "[[230   1]\n",
      " [  4   3]]\n",
      "0.7121212121212122\n",
      "Naive Bayes\n",
      "[[231   0]\n",
      " [  7   0]]\n",
      "0.5\n",
      "AdaBoost\n",
      "[[230   1]\n",
      " [  3   4]]\n",
      "0.7835497835497836\n",
      "Gaussian Process\n",
      "[[231   0]\n",
      " [  7   0]]\n",
      "0.5\n",
      "=================================================================\n",
      "Results for  405  PCA components\n",
      "=================================================================\n",
      "Logistic Regression\n",
      "[[229   2]\n",
      " [  2   5]]\n",
      "0.8528138528138529\n"
     ]
    },
    {
     "name": "stderr",
     "output_type": "stream",
     "text": [
      "C:\\Users\\Nour Al-Hoda\\Anaconda3\\lib\\site-packages\\sklearn\\linear_model\\logistic.py:433: FutureWarning: Default solver will be changed to 'lbfgs' in 0.22. Specify a solver to silence this warning.\n",
      "  FutureWarning)\n"
     ]
    },
    {
     "name": "stdout",
     "output_type": "stream",
     "text": [
      "Nearest Neighbors\n",
      "[[231   0]\n",
      " [  7   0]]\n",
      "0.5\n",
      "Linear SVM\n",
      "[[229   2]\n",
      " [  2   5]]\n",
      "0.8528138528138529\n",
      "Gradient Boosting Classifier\n",
      "[[228   3]\n",
      " [  4   3]]\n",
      "0.7077922077922078\n",
      "Decision Tree\n",
      "[[225   6]\n",
      " [  4   3]]\n",
      "0.7012987012987013\n",
      "Random Forest\n",
      "[[227   4]\n",
      " [  7   0]]\n",
      "0.49134199134199136\n"
     ]
    },
    {
     "name": "stderr",
     "output_type": "stream",
     "text": [
      "C:\\Users\\Nour Al-Hoda\\Anaconda3\\lib\\site-packages\\sklearn\\neural_network\\multilayer_perceptron.py:562: ConvergenceWarning: Stochastic Optimizer: Maximum iterations (200) reached and the optimization hasn't converged yet.\n",
      "  % self.max_iter, ConvergenceWarning)\n"
     ]
    },
    {
     "name": "stdout",
     "output_type": "stream",
     "text": [
      "Neural Net\n",
      "[[230   1]\n",
      " [  4   3]]\n",
      "0.7121212121212122\n",
      "Naive Bayes\n",
      "[[231   0]\n",
      " [  7   0]]\n",
      "0.5\n",
      "AdaBoost\n",
      "[[230   1]\n",
      " [  3   4]]\n",
      "0.7835497835497836\n",
      "Gaussian Process\n",
      "[[231   0]\n",
      " [  7   0]]\n",
      "0.5\n",
      "=================================================================\n",
      "Results for  420  PCA components\n",
      "=================================================================\n",
      "Logistic Regression\n",
      "[[229   2]\n",
      " [  2   5]]\n",
      "0.8528138528138529\n"
     ]
    },
    {
     "name": "stderr",
     "output_type": "stream",
     "text": [
      "C:\\Users\\Nour Al-Hoda\\Anaconda3\\lib\\site-packages\\sklearn\\linear_model\\logistic.py:433: FutureWarning: Default solver will be changed to 'lbfgs' in 0.22. Specify a solver to silence this warning.\n",
      "  FutureWarning)\n"
     ]
    },
    {
     "name": "stdout",
     "output_type": "stream",
     "text": [
      "Nearest Neighbors\n",
      "[[231   0]\n",
      " [  7   0]]\n",
      "0.5\n",
      "Linear SVM\n",
      "[[229   2]\n",
      " [  2   5]]\n",
      "0.8528138528138529\n",
      "Gradient Boosting Classifier\n",
      "[[228   3]\n",
      " [  4   3]]\n",
      "0.7077922077922078\n",
      "Decision Tree\n",
      "[[227   4]\n",
      " [  3   4]]\n",
      "0.777056277056277\n",
      "Random Forest\n",
      "[[227   4]\n",
      " [  7   0]]\n",
      "0.49134199134199136\n"
     ]
    },
    {
     "name": "stderr",
     "output_type": "stream",
     "text": [
      "C:\\Users\\Nour Al-Hoda\\Anaconda3\\lib\\site-packages\\sklearn\\neural_network\\multilayer_perceptron.py:562: ConvergenceWarning: Stochastic Optimizer: Maximum iterations (200) reached and the optimization hasn't converged yet.\n",
      "  % self.max_iter, ConvergenceWarning)\n"
     ]
    },
    {
     "name": "stdout",
     "output_type": "stream",
     "text": [
      "Neural Net\n",
      "[[230   1]\n",
      " [  5   2]]\n",
      "0.6406926406926406\n",
      "Naive Bayes\n",
      "[[231   0]\n",
      " [  7   0]]\n",
      "0.5\n",
      "AdaBoost\n",
      "[[230   1]\n",
      " [  3   4]]\n",
      "0.7835497835497836\n",
      "Gaussian Process\n",
      "[[231   0]\n",
      " [  7   0]]\n",
      "0.5\n",
      "=================================================================\n",
      "Results for  435  PCA components\n",
      "=================================================================\n",
      "Logistic Regression\n",
      "[[229   2]\n",
      " [  2   5]]\n",
      "0.8528138528138529\n"
     ]
    },
    {
     "name": "stderr",
     "output_type": "stream",
     "text": [
      "C:\\Users\\Nour Al-Hoda\\Anaconda3\\lib\\site-packages\\sklearn\\linear_model\\logistic.py:433: FutureWarning: Default solver will be changed to 'lbfgs' in 0.22. Specify a solver to silence this warning.\n",
      "  FutureWarning)\n"
     ]
    },
    {
     "name": "stdout",
     "output_type": "stream",
     "text": [
      "Nearest Neighbors\n",
      "[[231   0]\n",
      " [  7   0]]\n",
      "0.5\n",
      "Linear SVM\n",
      "[[229   2]\n",
      " [  2   5]]\n",
      "0.8528138528138529\n",
      "Gradient Boosting Classifier\n",
      "[[228   3]\n",
      " [  4   3]]\n",
      "0.7077922077922078\n",
      "Decision Tree\n",
      "[[229   2]\n",
      " [  4   3]]\n",
      "0.70995670995671\n",
      "Random Forest\n",
      "[[226   5]\n",
      " [  7   0]]\n",
      "0.48917748917748916\n"
     ]
    },
    {
     "name": "stderr",
     "output_type": "stream",
     "text": [
      "C:\\Users\\Nour Al-Hoda\\Anaconda3\\lib\\site-packages\\sklearn\\neural_network\\multilayer_perceptron.py:562: ConvergenceWarning: Stochastic Optimizer: Maximum iterations (200) reached and the optimization hasn't converged yet.\n",
      "  % self.max_iter, ConvergenceWarning)\n"
     ]
    },
    {
     "name": "stdout",
     "output_type": "stream",
     "text": [
      "Neural Net\n",
      "[[229   2]\n",
      " [  5   2]]\n",
      "0.6385281385281385\n",
      "Naive Bayes\n",
      "[[231   0]\n",
      " [  7   0]]\n",
      "0.5\n",
      "AdaBoost\n",
      "[[229   2]\n",
      " [  3   4]]\n",
      "0.7813852813852814\n",
      "Gaussian Process\n",
      "[[231   0]\n",
      " [  7   0]]\n",
      "0.5\n",
      "=================================================================\n",
      "Results for  450  PCA components\n",
      "=================================================================\n"
     ]
    },
    {
     "name": "stderr",
     "output_type": "stream",
     "text": [
      "C:\\Users\\Nour Al-Hoda\\Anaconda3\\lib\\site-packages\\sklearn\\linear_model\\logistic.py:433: FutureWarning: Default solver will be changed to 'lbfgs' in 0.22. Specify a solver to silence this warning.\n",
      "  FutureWarning)\n"
     ]
    },
    {
     "name": "stdout",
     "output_type": "stream",
     "text": [
      "Logistic Regression\n",
      "[[229   2]\n",
      " [  2   5]]\n",
      "0.8528138528138529\n",
      "Nearest Neighbors\n",
      "[[231   0]\n",
      " [  7   0]]\n",
      "0.5\n",
      "Linear SVM\n",
      "[[229   2]\n",
      " [  2   5]]\n",
      "0.8528138528138529\n",
      "Gradient Boosting Classifier\n",
      "[[226   5]\n",
      " [  4   3]]\n",
      "0.7034632034632035\n",
      "Decision Tree\n",
      "[[226   5]\n",
      " [  4   3]]\n",
      "0.7034632034632035\n",
      "Random Forest\n",
      "[[229   2]\n",
      " [  7   0]]\n",
      "0.49567099567099565\n"
     ]
    },
    {
     "name": "stderr",
     "output_type": "stream",
     "text": [
      "C:\\Users\\Nour Al-Hoda\\Anaconda3\\lib\\site-packages\\sklearn\\neural_network\\multilayer_perceptron.py:562: ConvergenceWarning: Stochastic Optimizer: Maximum iterations (200) reached and the optimization hasn't converged yet.\n",
      "  % self.max_iter, ConvergenceWarning)\n"
     ]
    },
    {
     "name": "stdout",
     "output_type": "stream",
     "text": [
      "Neural Net\n",
      "[[230   1]\n",
      " [  6   1]]\n",
      "0.5692640692640693\n",
      "Naive Bayes\n",
      "[[231   0]\n",
      " [  7   0]]\n",
      "0.5\n",
      "AdaBoost\n",
      "[[225   6]\n",
      " [  6   1]]\n",
      "0.5584415584415584\n",
      "Gaussian Process\n",
      "[[231   0]\n",
      " [  7   0]]\n",
      "0.5\n",
      "=================================================================\n",
      "Results for  465  PCA components\n",
      "=================================================================\n",
      "Logistic Regression\n",
      "[[229   2]\n",
      " [  2   5]]\n",
      "0.8528138528138529\n"
     ]
    },
    {
     "name": "stderr",
     "output_type": "stream",
     "text": [
      "C:\\Users\\Nour Al-Hoda\\Anaconda3\\lib\\site-packages\\sklearn\\linear_model\\logistic.py:433: FutureWarning: Default solver will be changed to 'lbfgs' in 0.22. Specify a solver to silence this warning.\n",
      "  FutureWarning)\n"
     ]
    },
    {
     "name": "stdout",
     "output_type": "stream",
     "text": [
      "Nearest Neighbors\n",
      "[[231   0]\n",
      " [  7   0]]\n",
      "0.5\n",
      "Linear SVM\n",
      "[[229   2]\n",
      " [  2   5]]\n",
      "0.8528138528138529\n",
      "Gradient Boosting Classifier\n",
      "[[226   5]\n",
      " [  4   3]]\n",
      "0.7034632034632035\n",
      "Decision Tree\n",
      "[[227   4]\n",
      " [  4   3]]\n",
      "0.7056277056277056\n",
      "Random Forest\n",
      "[[229   2]\n",
      " [  7   0]]\n",
      "0.49567099567099565\n"
     ]
    },
    {
     "name": "stderr",
     "output_type": "stream",
     "text": [
      "C:\\Users\\Nour Al-Hoda\\Anaconda3\\lib\\site-packages\\sklearn\\neural_network\\multilayer_perceptron.py:562: ConvergenceWarning: Stochastic Optimizer: Maximum iterations (200) reached and the optimization hasn't converged yet.\n",
      "  % self.max_iter, ConvergenceWarning)\n"
     ]
    },
    {
     "name": "stdout",
     "output_type": "stream",
     "text": [
      "Neural Net\n",
      "[[229   2]\n",
      " [  4   3]]\n",
      "0.70995670995671\n",
      "Naive Bayes\n",
      "[[231   0]\n",
      " [  7   0]]\n",
      "0.5\n",
      "AdaBoost\n",
      "[[230   1]\n",
      " [  6   1]]\n",
      "0.5692640692640693\n",
      "Gaussian Process\n",
      "[[231   0]\n",
      " [  7   0]]\n",
      "0.5\n",
      "=================================================================\n",
      "Results for  480  PCA components\n",
      "=================================================================\n",
      "Logistic Regression\n",
      "[[229   2]\n",
      " [  2   5]]\n"
     ]
    },
    {
     "name": "stderr",
     "output_type": "stream",
     "text": [
      "C:\\Users\\Nour Al-Hoda\\Anaconda3\\lib\\site-packages\\sklearn\\linear_model\\logistic.py:433: FutureWarning: Default solver will be changed to 'lbfgs' in 0.22. Specify a solver to silence this warning.\n",
      "  FutureWarning)\n"
     ]
    },
    {
     "name": "stdout",
     "output_type": "stream",
     "text": [
      "0.8528138528138529\n",
      "Nearest Neighbors\n",
      "[[231   0]\n",
      " [  7   0]]\n",
      "0.5\n",
      "Linear SVM\n",
      "[[229   2]\n",
      " [  2   5]]\n",
      "0.8528138528138529\n",
      "Gradient Boosting Classifier\n",
      "[[227   4]\n",
      " [  4   3]]\n",
      "0.7056277056277056\n",
      "Decision Tree\n",
      "[[228   3]\n",
      " [  3   4]]\n",
      "0.7792207792207791\n",
      "Random Forest\n",
      "[[228   3]\n",
      " [  7   0]]\n",
      "0.4935064935064935\n"
     ]
    },
    {
     "name": "stderr",
     "output_type": "stream",
     "text": [
      "C:\\Users\\Nour Al-Hoda\\Anaconda3\\lib\\site-packages\\sklearn\\neural_network\\multilayer_perceptron.py:562: ConvergenceWarning: Stochastic Optimizer: Maximum iterations (200) reached and the optimization hasn't converged yet.\n",
      "  % self.max_iter, ConvergenceWarning)\n"
     ]
    },
    {
     "name": "stdout",
     "output_type": "stream",
     "text": [
      "Neural Net\n",
      "[[230   1]\n",
      " [  5   2]]\n",
      "0.6406926406926406\n",
      "Naive Bayes\n",
      "[[231   0]\n",
      " [  7   0]]\n",
      "0.5\n",
      "AdaBoost\n",
      "[[230   1]\n",
      " [  6   1]]\n",
      "0.5692640692640693\n",
      "Gaussian Process\n",
      "[[231   0]\n",
      " [  7   0]]\n",
      "0.5\n",
      "=================================================================\n",
      "=================================================================\n",
      "Results for  Hesham2\n",
      "(567, 2689)\n",
      "=================================================================\n",
      "=================================================================\n",
      "=================================================================\n",
      "Training 10 different classifiers on raw data\n",
      "=================================================================\n"
     ]
    },
    {
     "name": "stderr",
     "output_type": "stream",
     "text": [
      "C:\\Users\\Nour Al-Hoda\\Anaconda3\\lib\\site-packages\\sklearn\\linear_model\\logistic.py:433: FutureWarning: Default solver will be changed to 'lbfgs' in 0.22. Specify a solver to silence this warning.\n",
      "  FutureWarning)\n"
     ]
    },
    {
     "name": "stdout",
     "output_type": "stream",
     "text": [
      "Logistic Regression\n",
      "[[182   0]\n",
      " [  2   4]]\n",
      "0.8333333333333333\n",
      "Nearest Neighbors\n",
      "[[182   0]\n",
      " [  3   3]]\n",
      "0.75\n",
      "Linear SVM\n",
      "[[182   0]\n",
      " [  2   4]]\n",
      "0.8333333333333333\n",
      "Gradient Boosting Classifier\n",
      "[[177   5]\n",
      " [  2   4]]\n",
      "0.8195970695970695\n",
      "Decision Tree\n",
      "[[175   7]\n",
      " [  2   4]]\n",
      "0.814102564102564\n",
      "Random Forest\n",
      "[[181   1]\n",
      " [  2   4]]\n",
      "0.8305860805860805\n",
      "Neural Net\n",
      "[[182   0]\n",
      " [  6   0]]\n",
      "0.5\n",
      "Naive Bayes\n",
      "[[161  21]\n",
      " [  0   6]]\n",
      "0.9423076923076923\n",
      "AdaBoost\n",
      "[[182   0]\n",
      " [  1   5]]\n",
      "0.9166666666666667\n",
      "Gaussian Process\n",
      "[[182   0]\n",
      " [  6   0]]\n",
      "0.5\n",
      "(567, 2689)\n",
      "=================================================================\n",
      "Training 10 different classifiers on data after applying CAR filter\n",
      "=================================================================\n"
     ]
    },
    {
     "name": "stderr",
     "output_type": "stream",
     "text": [
      "C:\\Users\\Nour Al-Hoda\\Anaconda3\\lib\\site-packages\\sklearn\\linear_model\\logistic.py:433: FutureWarning: Default solver will be changed to 'lbfgs' in 0.22. Specify a solver to silence this warning.\n",
      "  FutureWarning)\n"
     ]
    },
    {
     "name": "stdout",
     "output_type": "stream",
     "text": [
      "Logistic Regression\n",
      "[[117  65]\n",
      " [  0   6]]\n",
      "0.8214285714285714\n",
      "Nearest Neighbors\n",
      "[[182   0]\n",
      " [  3   3]]\n",
      "0.75\n",
      "Linear SVM\n",
      "[[182   0]\n",
      " [  2   4]]\n",
      "0.8333333333333333\n",
      "Gradient Boosting Classifier\n",
      "[[176   6]\n",
      " [  2   4]]\n",
      "0.8168498168498167\n",
      "Decision Tree\n",
      "[[172  10]\n",
      " [  2   4]]\n",
      "0.8058608058608058\n",
      "Random Forest\n",
      "[[181   1]\n",
      " [  3   3]]\n",
      "0.7472527472527473\n"
     ]
    },
    {
     "name": "stderr",
     "output_type": "stream",
     "text": [
      "C:\\Users\\Nour Al-Hoda\\Anaconda3\\lib\\site-packages\\sklearn\\neural_network\\multilayer_perceptron.py:562: ConvergenceWarning: Stochastic Optimizer: Maximum iterations (200) reached and the optimization hasn't converged yet.\n",
      "  % self.max_iter, ConvergenceWarning)\n"
     ]
    },
    {
     "name": "stdout",
     "output_type": "stream",
     "text": [
      "Neural Net\n",
      "[[180   2]\n",
      " [  1   5]]\n",
      "0.9111721611721613\n",
      "Naive Bayes\n",
      "[[161  21]\n",
      " [  0   6]]\n",
      "0.9423076923076923\n",
      "AdaBoost\n",
      "[[182   0]\n",
      " [  1   5]]\n",
      "0.9166666666666667\n",
      "Gaussian Process\n",
      "[[182   0]\n",
      " [  6   0]]\n",
      "0.5\n",
      "=================================================================\n",
      "Training 10 different classifiers, and different PCA components without CAR filter\n",
      "=================================================================\n",
      "=================================================================\n",
      "Results for  15  PCA components\n",
      "=================================================================\n",
      "Logistic Regression\n",
      "[[182   0]\n",
      " [  3   3]]\n",
      "0.75\n",
      "Nearest Neighbors\n",
      "[[182   0]\n",
      " [  3   3]]\n",
      "0.75\n",
      "Linear SVM\n",
      "[[180   2]\n",
      " [  3   3]]\n"
     ]
    },
    {
     "name": "stderr",
     "output_type": "stream",
     "text": [
      "C:\\Users\\Nour Al-Hoda\\Anaconda3\\lib\\site-packages\\sklearn\\linear_model\\logistic.py:433: FutureWarning: Default solver will be changed to 'lbfgs' in 0.22. Specify a solver to silence this warning.\n",
      "  FutureWarning)\n"
     ]
    },
    {
     "name": "stdout",
     "output_type": "stream",
     "text": [
      "0.7445054945054945\n",
      "Gradient Boosting Classifier\n",
      "[[176   6]\n",
      " [  4   2]]\n",
      "0.6501831501831501\n",
      "Decision Tree\n",
      "[[167  15]\n",
      " [  5   1]]\n",
      "0.5421245421245421\n",
      "Random Forest\n",
      "[[182   0]\n",
      " [  4   2]]\n",
      "0.6666666666666666\n"
     ]
    },
    {
     "name": "stderr",
     "output_type": "stream",
     "text": [
      "C:\\Users\\Nour Al-Hoda\\Anaconda3\\lib\\site-packages\\sklearn\\neural_network\\multilayer_perceptron.py:562: ConvergenceWarning: Stochastic Optimizer: Maximum iterations (200) reached and the optimization hasn't converged yet.\n",
      "  % self.max_iter, ConvergenceWarning)\n"
     ]
    },
    {
     "name": "stdout",
     "output_type": "stream",
     "text": [
      "Neural Net\n",
      "[[181   1]\n",
      " [  1   5]]\n",
      "0.913919413919414\n",
      "Naive Bayes\n",
      "[[172  10]\n",
      " [  3   3]]\n",
      "0.7225274725274724\n",
      "AdaBoost\n",
      "[[178   4]\n",
      " [  3   3]]\n",
      "0.7390109890109889\n",
      "Gaussian Process\n",
      "[[180   2]\n",
      " [  3   3]]\n",
      "0.7445054945054945\n",
      "=================================================================\n",
      "Results for  30  PCA components\n",
      "=================================================================\n",
      "Logistic Regression\n",
      "[[180   2]\n",
      " [  2   4]]\n",
      "0.8278388278388278\n",
      "Nearest Neighbors\n",
      "[[182   0]\n",
      " [  3   3]]\n",
      "0.75\n",
      "Linear SVM\n",
      "[[179   3]\n",
      " [  3   3]]\n",
      "0.7417582417582417\n"
     ]
    },
    {
     "name": "stderr",
     "output_type": "stream",
     "text": [
      "C:\\Users\\Nour Al-Hoda\\Anaconda3\\lib\\site-packages\\sklearn\\linear_model\\logistic.py:433: FutureWarning: Default solver will be changed to 'lbfgs' in 0.22. Specify a solver to silence this warning.\n",
      "  FutureWarning)\n"
     ]
    },
    {
     "name": "stdout",
     "output_type": "stream",
     "text": [
      "Gradient Boosting Classifier\n",
      "[[174   8]\n",
      " [  4   2]]\n",
      "0.6446886446886446\n",
      "Decision Tree\n",
      "[[173   9]\n",
      " [  5   1]]\n",
      "0.5586080586080586\n",
      "Random Forest\n",
      "[[180   2]\n",
      " [  5   1]]\n",
      "0.5778388278388279\n"
     ]
    },
    {
     "name": "stderr",
     "output_type": "stream",
     "text": [
      "C:\\Users\\Nour Al-Hoda\\Anaconda3\\lib\\site-packages\\sklearn\\neural_network\\multilayer_perceptron.py:562: ConvergenceWarning: Stochastic Optimizer: Maximum iterations (200) reached and the optimization hasn't converged yet.\n",
      "  % self.max_iter, ConvergenceWarning)\n"
     ]
    },
    {
     "name": "stdout",
     "output_type": "stream",
     "text": [
      "Neural Net\n",
      "[[182   0]\n",
      " [  3   3]]\n",
      "0.75\n",
      "Naive Bayes\n",
      "[[169  13]\n",
      " [  3   3]]\n",
      "0.7142857142857143\n",
      "AdaBoost\n",
      "[[181   1]\n",
      " [  4   2]]\n",
      "0.6639194139194139\n",
      "Gaussian Process\n",
      "[[182   0]\n",
      " [  6   0]]\n",
      "0.5\n",
      "=================================================================\n",
      "Results for  45  PCA components\n",
      "=================================================================\n",
      "Logistic Regression\n",
      "[[182   0]\n",
      " [  2   4]]\n",
      "0.8333333333333333\n",
      "Nearest Neighbors\n",
      "[[182   0]\n",
      " [  3   3]]\n",
      "0.75\n",
      "Linear SVM\n",
      "[[182   0]\n",
      " [  2   4]]\n",
      "0.8333333333333333\n"
     ]
    },
    {
     "name": "stderr",
     "output_type": "stream",
     "text": [
      "C:\\Users\\Nour Al-Hoda\\Anaconda3\\lib\\site-packages\\sklearn\\linear_model\\logistic.py:433: FutureWarning: Default solver will be changed to 'lbfgs' in 0.22. Specify a solver to silence this warning.\n",
      "  FutureWarning)\n"
     ]
    },
    {
     "name": "stdout",
     "output_type": "stream",
     "text": [
      "Gradient Boosting Classifier\n",
      "[[178   4]\n",
      " [  4   2]]\n",
      "0.6556776556776556\n",
      "Decision Tree\n",
      "[[169  13]\n",
      " [  4   2]]\n",
      "0.6309523809523809\n",
      "Random Forest\n",
      "[[181   1]\n",
      " [  6   0]]\n",
      "0.49725274725274726\n"
     ]
    },
    {
     "name": "stderr",
     "output_type": "stream",
     "text": [
      "C:\\Users\\Nour Al-Hoda\\Anaconda3\\lib\\site-packages\\sklearn\\neural_network\\multilayer_perceptron.py:562: ConvergenceWarning: Stochastic Optimizer: Maximum iterations (200) reached and the optimization hasn't converged yet.\n",
      "  % self.max_iter, ConvergenceWarning)\n"
     ]
    },
    {
     "name": "stdout",
     "output_type": "stream",
     "text": [
      "Neural Net\n",
      "[[182   0]\n",
      " [  2   4]]\n",
      "0.8333333333333333\n",
      "Naive Bayes\n",
      "[[169  13]\n",
      " [  3   3]]\n",
      "0.7142857142857143\n",
      "AdaBoost\n",
      "[[180   2]\n",
      " [  3   3]]\n",
      "0.7445054945054945\n",
      "Gaussian Process\n",
      "[[182   0]\n",
      " [  6   0]]\n",
      "0.5\n",
      "=================================================================\n",
      "Results for  60  PCA components\n",
      "=================================================================\n",
      "Logistic Regression\n",
      "[[182   0]\n",
      " [  2   4]]\n",
      "0.8333333333333333\n",
      "Nearest Neighbors\n",
      "[[182   0]\n",
      " [  4   2]]\n",
      "0.6666666666666666\n",
      "Linear SVM\n",
      "[[182   0]\n",
      " [  3   3]]\n",
      "0.75\n"
     ]
    },
    {
     "name": "stderr",
     "output_type": "stream",
     "text": [
      "C:\\Users\\Nour Al-Hoda\\Anaconda3\\lib\\site-packages\\sklearn\\linear_model\\logistic.py:433: FutureWarning: Default solver will be changed to 'lbfgs' in 0.22. Specify a solver to silence this warning.\n",
      "  FutureWarning)\n"
     ]
    },
    {
     "name": "stdout",
     "output_type": "stream",
     "text": [
      "Gradient Boosting Classifier\n",
      "[[180   2]\n",
      " [  4   2]]\n",
      "0.6611721611721612\n",
      "Decision Tree\n",
      "[[173   9]\n",
      " [  3   3]]\n",
      "0.7252747252747251\n",
      "Random Forest\n",
      "[[181   1]\n",
      " [  6   0]]\n",
      "0.49725274725274726\n"
     ]
    },
    {
     "name": "stderr",
     "output_type": "stream",
     "text": [
      "C:\\Users\\Nour Al-Hoda\\Anaconda3\\lib\\site-packages\\sklearn\\neural_network\\multilayer_perceptron.py:562: ConvergenceWarning: Stochastic Optimizer: Maximum iterations (200) reached and the optimization hasn't converged yet.\n",
      "  % self.max_iter, ConvergenceWarning)\n"
     ]
    },
    {
     "name": "stdout",
     "output_type": "stream",
     "text": [
      "Neural Net\n",
      "[[182   0]\n",
      " [  3   3]]\n",
      "0.75\n",
      "Naive Bayes\n",
      "[[166  16]\n",
      " [  3   3]]\n",
      "0.7060439560439561\n",
      "AdaBoost\n",
      "[[179   3]\n",
      " [  4   2]]\n",
      "0.6584249084249083\n",
      "Gaussian Process\n",
      "[[182   0]\n",
      " [  6   0]]\n",
      "0.5\n",
      "=================================================================\n",
      "Results for  75  PCA components\n",
      "=================================================================\n",
      "Logistic Regression\n",
      "[[181   1]\n",
      " [  1   5]]\n",
      "0.913919413919414\n",
      "Nearest Neighbors\n",
      "[[182   0]\n",
      " [  4   2]]\n",
      "0.6666666666666666\n",
      "Linear SVM\n",
      "[[182   0]\n",
      " [  2   4]]\n",
      "0.8333333333333333\n"
     ]
    },
    {
     "name": "stderr",
     "output_type": "stream",
     "text": [
      "C:\\Users\\Nour Al-Hoda\\Anaconda3\\lib\\site-packages\\sklearn\\linear_model\\logistic.py:433: FutureWarning: Default solver will be changed to 'lbfgs' in 0.22. Specify a solver to silence this warning.\n",
      "  FutureWarning)\n"
     ]
    },
    {
     "name": "stdout",
     "output_type": "stream",
     "text": [
      "Gradient Boosting Classifier\n",
      "[[177   5]\n",
      " [  5   1]]\n",
      "0.5695970695970696\n",
      "Decision Tree\n",
      "[[172  10]\n",
      " [  4   2]]\n",
      "0.6391941391941391\n",
      "Random Forest\n",
      "[[179   3]\n",
      " [  6   0]]\n",
      "0.49175824175824173\n"
     ]
    },
    {
     "name": "stderr",
     "output_type": "stream",
     "text": [
      "C:\\Users\\Nour Al-Hoda\\Anaconda3\\lib\\site-packages\\sklearn\\neural_network\\multilayer_perceptron.py:562: ConvergenceWarning: Stochastic Optimizer: Maximum iterations (200) reached and the optimization hasn't converged yet.\n",
      "  % self.max_iter, ConvergenceWarning)\n"
     ]
    },
    {
     "name": "stdout",
     "output_type": "stream",
     "text": [
      "Neural Net\n",
      "[[181   1]\n",
      " [  0   6]]\n",
      "0.9972527472527473\n",
      "Naive Bayes\n",
      "[[166  16]\n",
      " [  3   3]]\n",
      "0.7060439560439561\n",
      "AdaBoost\n",
      "[[179   3]\n",
      " [  4   2]]\n",
      "0.6584249084249083\n",
      "Gaussian Process\n",
      "[[182   0]\n",
      " [  6   0]]\n",
      "0.5\n",
      "=================================================================\n",
      "Results for  90  PCA components\n",
      "=================================================================\n",
      "Logistic Regression\n",
      "[[181   1]\n",
      " [  0   6]]\n",
      "0.9972527472527473\n",
      "Nearest Neighbors\n",
      "[[182   0]\n",
      " [  5   1]]\n",
      "0.5833333333333334\n",
      "Linear SVM\n",
      "[[181   1]\n",
      " [  2   4]]\n",
      "0.8305860805860805\n"
     ]
    },
    {
     "name": "stderr",
     "output_type": "stream",
     "text": [
      "C:\\Users\\Nour Al-Hoda\\Anaconda3\\lib\\site-packages\\sklearn\\linear_model\\logistic.py:433: FutureWarning: Default solver will be changed to 'lbfgs' in 0.22. Specify a solver to silence this warning.\n",
      "  FutureWarning)\n"
     ]
    },
    {
     "name": "stdout",
     "output_type": "stream",
     "text": [
      "Gradient Boosting Classifier\n",
      "[[178   4]\n",
      " [  4   2]]\n",
      "0.6556776556776556\n",
      "Decision Tree\n",
      "[[176   6]\n",
      " [  2   4]]\n",
      "0.8168498168498167\n",
      "Random Forest\n",
      "[[179   3]\n",
      " [  6   0]]\n",
      "0.49175824175824173\n"
     ]
    },
    {
     "name": "stderr",
     "output_type": "stream",
     "text": [
      "C:\\Users\\Nour Al-Hoda\\Anaconda3\\lib\\site-packages\\sklearn\\neural_network\\multilayer_perceptron.py:562: ConvergenceWarning: Stochastic Optimizer: Maximum iterations (200) reached and the optimization hasn't converged yet.\n",
      "  % self.max_iter, ConvergenceWarning)\n"
     ]
    },
    {
     "name": "stdout",
     "output_type": "stream",
     "text": [
      "Neural Net\n",
      "[[182   0]\n",
      " [  2   4]]\n",
      "0.8333333333333333\n",
      "Naive Bayes\n",
      "[[165  17]\n",
      " [  3   3]]\n",
      "0.7032967032967034\n",
      "AdaBoost\n",
      "[[179   3]\n",
      " [  3   3]]\n",
      "0.7417582417582417\n",
      "Gaussian Process\n",
      "[[182   0]\n",
      " [  6   0]]\n",
      "0.5\n",
      "=================================================================\n",
      "Results for  105  PCA components\n",
      "=================================================================\n",
      "Logistic Regression\n",
      "[[181   1]\n",
      " [  0   6]]\n",
      "0.9972527472527473\n",
      "Nearest Neighbors\n",
      "[[182   0]\n",
      " [  5   1]]\n",
      "0.5833333333333334\n",
      "Linear SVM\n",
      "[[181   1]\n",
      " [  2   4]]\n",
      "0.8305860805860805\n"
     ]
    },
    {
     "name": "stderr",
     "output_type": "stream",
     "text": [
      "C:\\Users\\Nour Al-Hoda\\Anaconda3\\lib\\site-packages\\sklearn\\linear_model\\logistic.py:433: FutureWarning: Default solver will be changed to 'lbfgs' in 0.22. Specify a solver to silence this warning.\n",
      "  FutureWarning)\n"
     ]
    },
    {
     "name": "stdout",
     "output_type": "stream",
     "text": [
      "Gradient Boosting Classifier\n",
      "[[178   4]\n",
      " [  5   1]]\n",
      "0.5723443223443223\n",
      "Decision Tree\n",
      "[[175   7]\n",
      " [  4   2]]\n",
      "0.6474358974358974\n",
      "Random Forest\n",
      "[[177   5]\n",
      " [  6   0]]\n",
      "0.48626373626373626\n"
     ]
    },
    {
     "name": "stderr",
     "output_type": "stream",
     "text": [
      "C:\\Users\\Nour Al-Hoda\\Anaconda3\\lib\\site-packages\\sklearn\\neural_network\\multilayer_perceptron.py:562: ConvergenceWarning: Stochastic Optimizer: Maximum iterations (200) reached and the optimization hasn't converged yet.\n",
      "  % self.max_iter, ConvergenceWarning)\n"
     ]
    },
    {
     "name": "stdout",
     "output_type": "stream",
     "text": [
      "Neural Net\n",
      "[[182   0]\n",
      " [  3   3]]\n",
      "0.75\n",
      "Naive Bayes\n",
      "[[166  16]\n",
      " [  3   3]]\n",
      "0.7060439560439561\n",
      "AdaBoost\n",
      "[[180   2]\n",
      " [  4   2]]\n",
      "0.6611721611721612\n",
      "Gaussian Process\n",
      "[[182   0]\n",
      " [  6   0]]\n",
      "0.5\n",
      "=================================================================\n",
      "Results for  120  PCA components\n",
      "=================================================================\n",
      "Logistic Regression\n",
      "[[181   1]\n",
      " [  0   6]]\n",
      "0.9972527472527473\n",
      "Nearest Neighbors\n",
      "[[182   0]\n",
      " [  5   1]]\n",
      "0.5833333333333334\n",
      "Linear SVM\n",
      "[[181   1]\n",
      " [  2   4]]\n",
      "0.8305860805860805\n"
     ]
    },
    {
     "name": "stderr",
     "output_type": "stream",
     "text": [
      "C:\\Users\\Nour Al-Hoda\\Anaconda3\\lib\\site-packages\\sklearn\\linear_model\\logistic.py:433: FutureWarning: Default solver will be changed to 'lbfgs' in 0.22. Specify a solver to silence this warning.\n",
      "  FutureWarning)\n"
     ]
    },
    {
     "name": "stdout",
     "output_type": "stream",
     "text": [
      "Gradient Boosting Classifier\n",
      "[[179   3]\n",
      " [  5   1]]\n",
      "0.575091575091575\n",
      "Decision Tree\n",
      "[[171  11]\n",
      " [  4   2]]\n",
      "0.6364468864468864\n",
      "Random Forest\n",
      "[[178   4]\n",
      " [  6   0]]\n",
      "0.489010989010989\n"
     ]
    },
    {
     "name": "stderr",
     "output_type": "stream",
     "text": [
      "C:\\Users\\Nour Al-Hoda\\Anaconda3\\lib\\site-packages\\sklearn\\neural_network\\multilayer_perceptron.py:562: ConvergenceWarning: Stochastic Optimizer: Maximum iterations (200) reached and the optimization hasn't converged yet.\n",
      "  % self.max_iter, ConvergenceWarning)\n"
     ]
    },
    {
     "name": "stdout",
     "output_type": "stream",
     "text": [
      "Neural Net\n",
      "[[182   0]\n",
      " [  2   4]]\n",
      "0.8333333333333333\n",
      "Naive Bayes\n",
      "[[166  16]\n",
      " [  2   4]]\n",
      "0.7893772893772893\n",
      "AdaBoost\n",
      "[[178   4]\n",
      " [  3   3]]\n",
      "0.7390109890109889\n",
      "Gaussian Process\n",
      "[[182   0]\n",
      " [  6   0]]\n",
      "0.5\n",
      "=================================================================\n",
      "Results for  135  PCA components\n",
      "=================================================================\n",
      "Logistic Regression\n",
      "[[182   0]\n",
      " [  0   6]]\n",
      "1.0\n",
      "Nearest Neighbors\n",
      "[[182   0]\n",
      " [  5   1]]\n",
      "0.5833333333333334\n",
      "Linear SVM\n",
      "[[181   1]\n",
      " [  2   4]]\n",
      "0.8305860805860805\n"
     ]
    },
    {
     "name": "stderr",
     "output_type": "stream",
     "text": [
      "C:\\Users\\Nour Al-Hoda\\Anaconda3\\lib\\site-packages\\sklearn\\linear_model\\logistic.py:433: FutureWarning: Default solver will be changed to 'lbfgs' in 0.22. Specify a solver to silence this warning.\n",
      "  FutureWarning)\n"
     ]
    },
    {
     "name": "stdout",
     "output_type": "stream",
     "text": [
      "Gradient Boosting Classifier\n",
      "[[178   4]\n",
      " [  5   1]]\n",
      "0.5723443223443223\n",
      "Decision Tree\n",
      "[[175   7]\n",
      " [  2   4]]\n",
      "0.814102564102564\n",
      "Random Forest\n",
      "[[178   4]\n",
      " [  6   0]]\n",
      "0.489010989010989\n"
     ]
    },
    {
     "name": "stderr",
     "output_type": "stream",
     "text": [
      "C:\\Users\\Nour Al-Hoda\\Anaconda3\\lib\\site-packages\\sklearn\\neural_network\\multilayer_perceptron.py:562: ConvergenceWarning: Stochastic Optimizer: Maximum iterations (200) reached and the optimization hasn't converged yet.\n",
      "  % self.max_iter, ConvergenceWarning)\n"
     ]
    },
    {
     "name": "stdout",
     "output_type": "stream",
     "text": [
      "Neural Net\n",
      "[[182   0]\n",
      " [  2   4]]\n",
      "0.8333333333333333\n",
      "Naive Bayes\n",
      "[[166  16]\n",
      " [  2   4]]\n",
      "0.7893772893772893\n",
      "AdaBoost\n",
      "[[178   4]\n",
      " [  4   2]]\n",
      "0.6556776556776556\n",
      "Gaussian Process\n",
      "[[182   0]\n",
      " [  6   0]]\n",
      "0.5\n",
      "=================================================================\n",
      "Results for  150  PCA components\n",
      "=================================================================\n",
      "Logistic Regression\n",
      "[[182   0]\n",
      " [  0   6]]\n",
      "1.0\n",
      "Nearest Neighbors\n",
      "[[182   0]\n",
      " [  5   1]]\n",
      "0.5833333333333334\n",
      "Linear SVM\n",
      "[[181   1]\n",
      " [  2   4]]\n",
      "0.8305860805860805\n"
     ]
    },
    {
     "name": "stderr",
     "output_type": "stream",
     "text": [
      "C:\\Users\\Nour Al-Hoda\\Anaconda3\\lib\\site-packages\\sklearn\\linear_model\\logistic.py:433: FutureWarning: Default solver will be changed to 'lbfgs' in 0.22. Specify a solver to silence this warning.\n",
      "  FutureWarning)\n"
     ]
    },
    {
     "name": "stdout",
     "output_type": "stream",
     "text": [
      "Gradient Boosting Classifier\n",
      "[[178   4]\n",
      " [  3   3]]\n",
      "0.7390109890109889\n",
      "Decision Tree\n",
      "[[171  11]\n",
      " [  4   2]]\n",
      "0.6364468864468864\n",
      "Random Forest\n",
      "[[177   5]\n",
      " [  6   0]]\n",
      "0.48626373626373626\n"
     ]
    },
    {
     "name": "stderr",
     "output_type": "stream",
     "text": [
      "C:\\Users\\Nour Al-Hoda\\Anaconda3\\lib\\site-packages\\sklearn\\neural_network\\multilayer_perceptron.py:562: ConvergenceWarning: Stochastic Optimizer: Maximum iterations (200) reached and the optimization hasn't converged yet.\n",
      "  % self.max_iter, ConvergenceWarning)\n"
     ]
    },
    {
     "name": "stdout",
     "output_type": "stream",
     "text": [
      "Neural Net\n",
      "[[182   0]\n",
      " [  3   3]]\n",
      "0.75\n",
      "Naive Bayes\n",
      "[[164  18]\n",
      " [  1   5]]\n",
      "0.8672161172161172\n",
      "AdaBoost\n",
      "[[181   1]\n",
      " [  4   2]]\n",
      "0.6639194139194139\n",
      "Gaussian Process\n",
      "[[182   0]\n",
      " [  6   0]]\n",
      "0.5\n",
      "=================================================================\n",
      "Results for  165  PCA components\n",
      "=================================================================\n",
      "Logistic Regression\n",
      "[[182   0]\n",
      " [  0   6]]\n",
      "1.0\n",
      "Nearest Neighbors\n",
      "[[182   0]\n",
      " [  5   1]]\n",
      "0.5833333333333334\n",
      "Linear SVM\n",
      "[[181   1]\n",
      " [  2   4]]\n",
      "0.8305860805860805\n"
     ]
    },
    {
     "name": "stderr",
     "output_type": "stream",
     "text": [
      "C:\\Users\\Nour Al-Hoda\\Anaconda3\\lib\\site-packages\\sklearn\\linear_model\\logistic.py:433: FutureWarning: Default solver will be changed to 'lbfgs' in 0.22. Specify a solver to silence this warning.\n",
      "  FutureWarning)\n"
     ]
    },
    {
     "name": "stdout",
     "output_type": "stream",
     "text": [
      "Gradient Boosting Classifier\n",
      "[[178   4]\n",
      " [  4   2]]\n",
      "0.6556776556776556\n",
      "Decision Tree\n",
      "[[175   7]\n",
      " [  5   1]]\n",
      "0.5641025641025641\n",
      "Random Forest\n",
      "[[177   5]\n",
      " [  6   0]]\n",
      "0.48626373626373626\n"
     ]
    },
    {
     "name": "stderr",
     "output_type": "stream",
     "text": [
      "C:\\Users\\Nour Al-Hoda\\Anaconda3\\lib\\site-packages\\sklearn\\neural_network\\multilayer_perceptron.py:562: ConvergenceWarning: Stochastic Optimizer: Maximum iterations (200) reached and the optimization hasn't converged yet.\n",
      "  % self.max_iter, ConvergenceWarning)\n"
     ]
    },
    {
     "name": "stdout",
     "output_type": "stream",
     "text": [
      "Neural Net\n",
      "[[182   0]\n",
      " [  2   4]]\n",
      "0.8333333333333333\n",
      "Naive Bayes\n",
      "[[166  16]\n",
      " [  2   4]]\n",
      "0.7893772893772893\n",
      "AdaBoost\n",
      "[[179   3]\n",
      " [  4   2]]\n",
      "0.6584249084249083\n",
      "Gaussian Process\n",
      "[[182   0]\n",
      " [  6   0]]\n",
      "0.5\n",
      "=================================================================\n",
      "Results for  180  PCA components\n",
      "=================================================================\n",
      "Logistic Regression\n",
      "[[182   0]\n",
      " [  0   6]]\n",
      "1.0\n",
      "Nearest Neighbors\n",
      "[[182   0]\n",
      " [  5   1]]\n",
      "0.5833333333333334\n",
      "Linear SVM\n",
      "[[182   0]\n",
      " [  2   4]]\n",
      "0.8333333333333333\n"
     ]
    },
    {
     "name": "stderr",
     "output_type": "stream",
     "text": [
      "C:\\Users\\Nour Al-Hoda\\Anaconda3\\lib\\site-packages\\sklearn\\linear_model\\logistic.py:433: FutureWarning: Default solver will be changed to 'lbfgs' in 0.22. Specify a solver to silence this warning.\n",
      "  FutureWarning)\n"
     ]
    },
    {
     "name": "stdout",
     "output_type": "stream",
     "text": [
      "Gradient Boosting Classifier\n",
      "[[177   5]\n",
      " [  4   2]]\n",
      "0.6529304029304028\n",
      "Decision Tree\n",
      "[[178   4]\n",
      " [  4   2]]\n",
      "0.6556776556776556\n",
      "Random Forest\n",
      "[[177   5]\n",
      " [  6   0]]\n",
      "0.48626373626373626\n"
     ]
    },
    {
     "name": "stderr",
     "output_type": "stream",
     "text": [
      "C:\\Users\\Nour Al-Hoda\\Anaconda3\\lib\\site-packages\\sklearn\\neural_network\\multilayer_perceptron.py:562: ConvergenceWarning: Stochastic Optimizer: Maximum iterations (200) reached and the optimization hasn't converged yet.\n",
      "  % self.max_iter, ConvergenceWarning)\n"
     ]
    },
    {
     "name": "stdout",
     "output_type": "stream",
     "text": [
      "Neural Net\n",
      "[[182   0]\n",
      " [  3   3]]\n",
      "0.75\n",
      "Naive Bayes\n",
      "[[168  14]\n",
      " [  3   3]]\n",
      "0.7115384615384616\n",
      "AdaBoost\n",
      "[[180   2]\n",
      " [  4   2]]\n",
      "0.6611721611721612\n",
      "Gaussian Process\n",
      "[[182   0]\n",
      " [  6   0]]\n",
      "0.5\n",
      "=================================================================\n",
      "Results for  195  PCA components\n",
      "=================================================================\n",
      "Logistic Regression\n",
      "[[182   0]\n",
      " [  0   6]]\n",
      "1.0\n",
      "Nearest Neighbors\n",
      "[[182   0]\n",
      " [  5   1]]\n",
      "0.5833333333333334\n",
      "Linear SVM\n",
      "[[181   1]\n",
      " [  2   4]]\n",
      "0.8305860805860805\n"
     ]
    },
    {
     "name": "stderr",
     "output_type": "stream",
     "text": [
      "C:\\Users\\Nour Al-Hoda\\Anaconda3\\lib\\site-packages\\sklearn\\linear_model\\logistic.py:433: FutureWarning: Default solver will be changed to 'lbfgs' in 0.22. Specify a solver to silence this warning.\n",
      "  FutureWarning)\n"
     ]
    },
    {
     "name": "stdout",
     "output_type": "stream",
     "text": [
      "Gradient Boosting Classifier\n",
      "[[179   3]\n",
      " [  4   2]]\n",
      "0.6584249084249083\n",
      "Decision Tree\n",
      "[[174   8]\n",
      " [  3   3]]\n",
      "0.728021978021978\n",
      "Random Forest\n",
      "[[177   5]\n",
      " [  6   0]]\n",
      "0.48626373626373626\n"
     ]
    },
    {
     "name": "stderr",
     "output_type": "stream",
     "text": [
      "C:\\Users\\Nour Al-Hoda\\Anaconda3\\lib\\site-packages\\sklearn\\neural_network\\multilayer_perceptron.py:562: ConvergenceWarning: Stochastic Optimizer: Maximum iterations (200) reached and the optimization hasn't converged yet.\n",
      "  % self.max_iter, ConvergenceWarning)\n"
     ]
    },
    {
     "name": "stdout",
     "output_type": "stream",
     "text": [
      "Neural Net\n",
      "[[182   0]\n",
      " [  2   4]]\n",
      "0.8333333333333333\n",
      "Naive Bayes\n",
      "[[167  15]\n",
      " [  2   4]]\n",
      "0.7921245421245421\n",
      "AdaBoost\n",
      "[[178   4]\n",
      " [  3   3]]\n",
      "0.7390109890109889\n",
      "Gaussian Process\n",
      "[[182   0]\n",
      " [  6   0]]\n",
      "0.5\n",
      "=================================================================\n",
      "Results for  210  PCA components\n",
      "=================================================================\n",
      "Logistic Regression\n",
      "[[182   0]\n",
      " [  0   6]]\n",
      "1.0\n",
      "Nearest Neighbors\n",
      "[[182   0]\n",
      " [  5   1]]\n",
      "0.5833333333333334\n",
      "Linear SVM\n",
      "[[181   1]\n",
      " [  2   4]]\n",
      "0.8305860805860805\n"
     ]
    },
    {
     "name": "stderr",
     "output_type": "stream",
     "text": [
      "C:\\Users\\Nour Al-Hoda\\Anaconda3\\lib\\site-packages\\sklearn\\linear_model\\logistic.py:433: FutureWarning: Default solver will be changed to 'lbfgs' in 0.22. Specify a solver to silence this warning.\n",
      "  FutureWarning)\n"
     ]
    },
    {
     "name": "stdout",
     "output_type": "stream",
     "text": [
      "Gradient Boosting Classifier\n",
      "[[178   4]\n",
      " [  5   1]]\n",
      "0.5723443223443223\n",
      "Decision Tree\n",
      "[[175   7]\n",
      " [  4   2]]\n",
      "0.6474358974358974\n",
      "Random Forest\n",
      "[[177   5]\n",
      " [  6   0]]\n",
      "0.48626373626373626\n"
     ]
    },
    {
     "name": "stderr",
     "output_type": "stream",
     "text": [
      "C:\\Users\\Nour Al-Hoda\\Anaconda3\\lib\\site-packages\\sklearn\\neural_network\\multilayer_perceptron.py:562: ConvergenceWarning: Stochastic Optimizer: Maximum iterations (200) reached and the optimization hasn't converged yet.\n",
      "  % self.max_iter, ConvergenceWarning)\n"
     ]
    },
    {
     "name": "stdout",
     "output_type": "stream",
     "text": [
      "Neural Net\n",
      "[[182   0]\n",
      " [  3   3]]\n",
      "0.75\n",
      "Naive Bayes\n",
      "[[171  11]\n",
      " [  4   2]]\n",
      "0.6364468864468864\n",
      "AdaBoost\n",
      "[[178   4]\n",
      " [  4   2]]\n",
      "0.6556776556776556\n",
      "Gaussian Process\n",
      "[[182   0]\n",
      " [  6   0]]\n",
      "0.5\n",
      "=================================================================\n",
      "Results for  225  PCA components\n",
      "=================================================================\n",
      "Logistic Regression\n",
      "[[182   0]\n",
      " [  0   6]]\n",
      "1.0\n",
      "Nearest Neighbors\n",
      "[[182   0]\n",
      " [  5   1]]\n",
      "0.5833333333333334\n",
      "Linear SVM\n",
      "[[182   0]\n",
      " [  2   4]]\n",
      "0.8333333333333333\n"
     ]
    },
    {
     "name": "stderr",
     "output_type": "stream",
     "text": [
      "C:\\Users\\Nour Al-Hoda\\Anaconda3\\lib\\site-packages\\sklearn\\linear_model\\logistic.py:433: FutureWarning: Default solver will be changed to 'lbfgs' in 0.22. Specify a solver to silence this warning.\n",
      "  FutureWarning)\n"
     ]
    },
    {
     "name": "stdout",
     "output_type": "stream",
     "text": [
      "Gradient Boosting Classifier\n",
      "[[178   4]\n",
      " [  5   1]]\n",
      "0.5723443223443223\n",
      "Decision Tree\n",
      "[[175   7]\n",
      " [  4   2]]\n",
      "0.6474358974358974\n",
      "Random Forest\n",
      "[[177   5]\n",
      " [  6   0]]\n",
      "0.48626373626373626\n"
     ]
    },
    {
     "name": "stderr",
     "output_type": "stream",
     "text": [
      "C:\\Users\\Nour Al-Hoda\\Anaconda3\\lib\\site-packages\\sklearn\\neural_network\\multilayer_perceptron.py:562: ConvergenceWarning: Stochastic Optimizer: Maximum iterations (200) reached and the optimization hasn't converged yet.\n",
      "  % self.max_iter, ConvergenceWarning)\n"
     ]
    },
    {
     "name": "stdout",
     "output_type": "stream",
     "text": [
      "Neural Net\n",
      "[[182   0]\n",
      " [  3   3]]\n",
      "0.75\n",
      "Naive Bayes\n",
      "[[178   4]\n",
      " [  6   0]]\n",
      "0.489010989010989\n",
      "AdaBoost\n",
      "[[177   5]\n",
      " [  4   2]]\n",
      "0.6529304029304028\n",
      "Gaussian Process\n",
      "[[182   0]\n",
      " [  6   0]]\n",
      "0.5\n",
      "=================================================================\n",
      "Results for  240  PCA components\n",
      "=================================================================\n",
      "Logistic Regression\n",
      "[[182   0]\n",
      " [  0   6]]\n",
      "1.0\n",
      "Nearest Neighbors\n",
      "[[182   0]\n",
      " [  5   1]]\n",
      "0.5833333333333334\n",
      "Linear SVM\n",
      "[[181   1]\n",
      " [  2   4]]\n",
      "0.8305860805860805\n"
     ]
    },
    {
     "name": "stderr",
     "output_type": "stream",
     "text": [
      "C:\\Users\\Nour Al-Hoda\\Anaconda3\\lib\\site-packages\\sklearn\\linear_model\\logistic.py:433: FutureWarning: Default solver will be changed to 'lbfgs' in 0.22. Specify a solver to silence this warning.\n",
      "  FutureWarning)\n"
     ]
    },
    {
     "name": "stdout",
     "output_type": "stream",
     "text": [
      "Gradient Boosting Classifier\n",
      "[[179   3]\n",
      " [  4   2]]\n",
      "0.6584249084249083\n",
      "Decision Tree\n",
      "[[173   9]\n",
      " [  4   2]]\n",
      "0.6419413919413919\n",
      "Random Forest\n",
      "[[177   5]\n",
      " [  6   0]]\n",
      "0.48626373626373626\n"
     ]
    },
    {
     "name": "stderr",
     "output_type": "stream",
     "text": [
      "C:\\Users\\Nour Al-Hoda\\Anaconda3\\lib\\site-packages\\sklearn\\neural_network\\multilayer_perceptron.py:562: ConvergenceWarning: Stochastic Optimizer: Maximum iterations (200) reached and the optimization hasn't converged yet.\n",
      "  % self.max_iter, ConvergenceWarning)\n"
     ]
    },
    {
     "name": "stdout",
     "output_type": "stream",
     "text": [
      "Neural Net\n",
      "[[182   0]\n",
      " [  3   3]]\n",
      "0.75\n",
      "Naive Bayes\n",
      "[[180   2]\n",
      " [  6   0]]\n",
      "0.4945054945054945\n",
      "AdaBoost\n",
      "[[178   4]\n",
      " [  4   2]]\n",
      "0.6556776556776556\n",
      "Gaussian Process\n",
      "[[182   0]\n",
      " [  6   0]]\n",
      "0.5\n",
      "=================================================================\n",
      "Results for  255  PCA components\n",
      "=================================================================\n",
      "Logistic Regression\n",
      "[[182   0]\n",
      " [  0   6]]\n",
      "1.0\n",
      "Nearest Neighbors\n",
      "[[182   0]\n",
      " [  5   1]]\n",
      "0.5833333333333334\n",
      "Linear SVM\n",
      "[[182   0]\n",
      " [  2   4]]\n",
      "0.8333333333333333\n"
     ]
    },
    {
     "name": "stderr",
     "output_type": "stream",
     "text": [
      "C:\\Users\\Nour Al-Hoda\\Anaconda3\\lib\\site-packages\\sklearn\\linear_model\\logistic.py:433: FutureWarning: Default solver will be changed to 'lbfgs' in 0.22. Specify a solver to silence this warning.\n",
      "  FutureWarning)\n"
     ]
    },
    {
     "name": "stdout",
     "output_type": "stream",
     "text": [
      "Gradient Boosting Classifier\n",
      "[[178   4]\n",
      " [  5   1]]\n",
      "0.5723443223443223\n",
      "Decision Tree\n",
      "[[173   9]\n",
      " [  5   1]]\n",
      "0.5586080586080586\n",
      "Random Forest\n",
      "[[177   5]\n",
      " [  6   0]]\n",
      "0.48626373626373626\n"
     ]
    },
    {
     "name": "stderr",
     "output_type": "stream",
     "text": [
      "C:\\Users\\Nour Al-Hoda\\Anaconda3\\lib\\site-packages\\sklearn\\neural_network\\multilayer_perceptron.py:562: ConvergenceWarning: Stochastic Optimizer: Maximum iterations (200) reached and the optimization hasn't converged yet.\n",
      "  % self.max_iter, ConvergenceWarning)\n"
     ]
    },
    {
     "name": "stdout",
     "output_type": "stream",
     "text": [
      "Neural Net\n",
      "[[182   0]\n",
      " [  3   3]]\n",
      "0.75\n",
      "Naive Bayes\n",
      "[[182   0]\n",
      " [  6   0]]\n",
      "0.5\n",
      "AdaBoost\n",
      "[[179   3]\n",
      " [  4   2]]\n",
      "0.6584249084249083\n",
      "Gaussian Process\n",
      "[[182   0]\n",
      " [  6   0]]\n",
      "0.5\n",
      "=================================================================\n",
      "Results for  270  PCA components\n",
      "=================================================================\n",
      "Logistic Regression\n",
      "[[182   0]\n",
      " [  0   6]]\n",
      "1.0\n",
      "Nearest Neighbors\n",
      "[[182   0]\n",
      " [  5   1]]\n",
      "0.5833333333333334\n",
      "Linear SVM\n",
      "[[182   0]\n",
      " [  2   4]]\n",
      "0.8333333333333333\n"
     ]
    },
    {
     "name": "stderr",
     "output_type": "stream",
     "text": [
      "C:\\Users\\Nour Al-Hoda\\Anaconda3\\lib\\site-packages\\sklearn\\linear_model\\logistic.py:433: FutureWarning: Default solver will be changed to 'lbfgs' in 0.22. Specify a solver to silence this warning.\n",
      "  FutureWarning)\n"
     ]
    },
    {
     "name": "stdout",
     "output_type": "stream",
     "text": [
      "Gradient Boosting Classifier\n",
      "[[178   4]\n",
      " [  5   1]]\n",
      "0.5723443223443223\n",
      "Decision Tree\n",
      "[[175   7]\n",
      " [  4   2]]\n",
      "0.6474358974358974\n",
      "Random Forest\n",
      "[[177   5]\n",
      " [  6   0]]\n",
      "0.48626373626373626\n"
     ]
    },
    {
     "name": "stderr",
     "output_type": "stream",
     "text": [
      "C:\\Users\\Nour Al-Hoda\\Anaconda3\\lib\\site-packages\\sklearn\\neural_network\\multilayer_perceptron.py:562: ConvergenceWarning: Stochastic Optimizer: Maximum iterations (200) reached and the optimization hasn't converged yet.\n",
      "  % self.max_iter, ConvergenceWarning)\n"
     ]
    },
    {
     "name": "stdout",
     "output_type": "stream",
     "text": [
      "Neural Net\n",
      "[[182   0]\n",
      " [  2   4]]\n",
      "0.8333333333333333\n",
      "Naive Bayes\n",
      "[[182   0]\n",
      " [  6   0]]\n",
      "0.5\n",
      "AdaBoost\n",
      "[[179   3]\n",
      " [  4   2]]\n",
      "0.6584249084249083\n",
      "Gaussian Process\n",
      "[[182   0]\n",
      " [  6   0]]\n",
      "0.5\n",
      "=================================================================\n",
      "Results for  285  PCA components\n",
      "=================================================================\n",
      "Logistic Regression\n",
      "[[182   0]\n",
      " [  0   6]]\n",
      "1.0\n",
      "Nearest Neighbors\n",
      "[[182   0]\n",
      " [  5   1]]\n",
      "0.5833333333333334\n",
      "Linear SVM\n",
      "[[182   0]\n",
      " [  2   4]]\n",
      "0.8333333333333333\n"
     ]
    },
    {
     "name": "stderr",
     "output_type": "stream",
     "text": [
      "C:\\Users\\Nour Al-Hoda\\Anaconda3\\lib\\site-packages\\sklearn\\linear_model\\logistic.py:433: FutureWarning: Default solver will be changed to 'lbfgs' in 0.22. Specify a solver to silence this warning.\n",
      "  FutureWarning)\n"
     ]
    },
    {
     "name": "stdout",
     "output_type": "stream",
     "text": [
      "Gradient Boosting Classifier\n",
      "[[178   4]\n",
      " [  5   1]]\n",
      "0.5723443223443223\n",
      "Decision Tree\n",
      "[[174   8]\n",
      " [  4   2]]\n",
      "0.6446886446886446\n",
      "Random Forest\n",
      "[[177   5]\n",
      " [  6   0]]\n",
      "0.48626373626373626\n"
     ]
    },
    {
     "name": "stderr",
     "output_type": "stream",
     "text": [
      "C:\\Users\\Nour Al-Hoda\\Anaconda3\\lib\\site-packages\\sklearn\\neural_network\\multilayer_perceptron.py:562: ConvergenceWarning: Stochastic Optimizer: Maximum iterations (200) reached and the optimization hasn't converged yet.\n",
      "  % self.max_iter, ConvergenceWarning)\n"
     ]
    },
    {
     "name": "stdout",
     "output_type": "stream",
     "text": [
      "Neural Net\n",
      "[[182   0]\n",
      " [  2   4]]\n",
      "0.8333333333333333\n",
      "Naive Bayes\n",
      "[[182   0]\n",
      " [  6   0]]\n",
      "0.5\n",
      "AdaBoost\n",
      "[[180   2]\n",
      " [  4   2]]\n",
      "0.6611721611721612\n",
      "Gaussian Process\n",
      "[[182   0]\n",
      " [  6   0]]\n",
      "0.5\n"
     ]
    },
    {
     "name": "stderr",
     "output_type": "stream",
     "text": [
      "C:\\Users\\Nour Al-Hoda\\Anaconda3\\lib\\site-packages\\sklearn\\linear_model\\logistic.py:433: FutureWarning: Default solver will be changed to 'lbfgs' in 0.22. Specify a solver to silence this warning.\n",
      "  FutureWarning)\n"
     ]
    },
    {
     "name": "stdout",
     "output_type": "stream",
     "text": [
      "=================================================================\n",
      "Results for  300  PCA components\n",
      "=================================================================\n",
      "Logistic Regression\n",
      "[[182   0]\n",
      " [  0   6]]\n",
      "1.0\n",
      "Nearest Neighbors\n",
      "[[182   0]\n",
      " [  5   1]]\n",
      "0.5833333333333334\n",
      "Linear SVM\n",
      "[[182   0]\n",
      " [  2   4]]\n",
      "0.8333333333333333\n",
      "Gradient Boosting Classifier\n",
      "[[179   3]\n",
      " [  5   1]]\n",
      "0.575091575091575\n",
      "Decision Tree\n",
      "[[173   9]\n",
      " [  3   3]]\n",
      "0.7252747252747251\n",
      "Random Forest\n",
      "[[177   5]\n",
      " [  6   0]]\n",
      "0.48626373626373626\n"
     ]
    },
    {
     "name": "stderr",
     "output_type": "stream",
     "text": [
      "C:\\Users\\Nour Al-Hoda\\Anaconda3\\lib\\site-packages\\sklearn\\neural_network\\multilayer_perceptron.py:562: ConvergenceWarning: Stochastic Optimizer: Maximum iterations (200) reached and the optimization hasn't converged yet.\n",
      "  % self.max_iter, ConvergenceWarning)\n"
     ]
    },
    {
     "name": "stdout",
     "output_type": "stream",
     "text": [
      "Neural Net\n",
      "[[182   0]\n",
      " [  2   4]]\n",
      "0.8333333333333333\n",
      "Naive Bayes\n",
      "[[182   0]\n",
      " [  6   0]]\n",
      "0.5\n",
      "AdaBoost\n",
      "[[179   3]\n",
      " [  4   2]]\n",
      "0.6584249084249083\n",
      "Gaussian Process\n",
      "[[182   0]\n",
      " [  6   0]]\n",
      "0.5\n",
      "=================================================================\n",
      "Results for  315  PCA components\n",
      "=================================================================\n",
      "Logistic Regression\n",
      "[[182   0]\n",
      " [  0   6]]\n",
      "1.0\n",
      "Nearest Neighbors\n",
      "[[182   0]\n",
      " [  5   1]]\n",
      "0.5833333333333334\n",
      "Linear SVM\n",
      "[[182   0]\n",
      " [  2   4]]\n",
      "0.8333333333333333\n"
     ]
    },
    {
     "name": "stderr",
     "output_type": "stream",
     "text": [
      "C:\\Users\\Nour Al-Hoda\\Anaconda3\\lib\\site-packages\\sklearn\\linear_model\\logistic.py:433: FutureWarning: Default solver will be changed to 'lbfgs' in 0.22. Specify a solver to silence this warning.\n",
      "  FutureWarning)\n"
     ]
    },
    {
     "name": "stdout",
     "output_type": "stream",
     "text": [
      "Gradient Boosting Classifier\n",
      "[[180   2]\n",
      " [  5   1]]\n",
      "0.5778388278388279\n",
      "Decision Tree\n",
      "[[173   9]\n",
      " [  5   1]]\n",
      "0.5586080586080586\n",
      "Random Forest\n",
      "[[177   5]\n",
      " [  6   0]]\n",
      "0.48626373626373626\n"
     ]
    },
    {
     "name": "stderr",
     "output_type": "stream",
     "text": [
      "C:\\Users\\Nour Al-Hoda\\Anaconda3\\lib\\site-packages\\sklearn\\neural_network\\multilayer_perceptron.py:562: ConvergenceWarning: Stochastic Optimizer: Maximum iterations (200) reached and the optimization hasn't converged yet.\n",
      "  % self.max_iter, ConvergenceWarning)\n"
     ]
    },
    {
     "name": "stdout",
     "output_type": "stream",
     "text": [
      "Neural Net\n",
      "[[182   0]\n",
      " [  2   4]]\n",
      "0.8333333333333333\n",
      "Naive Bayes\n",
      "[[182   0]\n",
      " [  6   0]]\n",
      "0.5\n",
      "AdaBoost\n",
      "[[179   3]\n",
      " [  3   3]]\n",
      "0.7417582417582417\n",
      "Gaussian Process\n",
      "[[182   0]\n",
      " [  6   0]]\n",
      "0.5\n",
      "=================================================================\n",
      "Results for  330  PCA components\n",
      "=================================================================\n",
      "Logistic Regression\n",
      "[[182   0]\n",
      " [  0   6]]\n",
      "1.0\n",
      "Nearest Neighbors\n",
      "[[182   0]\n",
      " [  5   1]]\n",
      "0.5833333333333334\n",
      "Linear SVM\n",
      "[[182   0]\n",
      " [  2   4]]\n",
      "0.8333333333333333\n"
     ]
    },
    {
     "name": "stderr",
     "output_type": "stream",
     "text": [
      "C:\\Users\\Nour Al-Hoda\\Anaconda3\\lib\\site-packages\\sklearn\\linear_model\\logistic.py:433: FutureWarning: Default solver will be changed to 'lbfgs' in 0.22. Specify a solver to silence this warning.\n",
      "  FutureWarning)\n"
     ]
    },
    {
     "name": "stdout",
     "output_type": "stream",
     "text": [
      "Gradient Boosting Classifier\n",
      "[[179   3]\n",
      " [  5   1]]\n",
      "0.575091575091575\n",
      "Decision Tree\n",
      "[[175   7]\n",
      " [  4   2]]\n",
      "0.6474358974358974\n",
      "Random Forest\n",
      "[[177   5]\n",
      " [  6   0]]\n",
      "0.48626373626373626\n"
     ]
    },
    {
     "name": "stderr",
     "output_type": "stream",
     "text": [
      "C:\\Users\\Nour Al-Hoda\\Anaconda3\\lib\\site-packages\\sklearn\\neural_network\\multilayer_perceptron.py:562: ConvergenceWarning: Stochastic Optimizer: Maximum iterations (200) reached and the optimization hasn't converged yet.\n",
      "  % self.max_iter, ConvergenceWarning)\n"
     ]
    },
    {
     "name": "stdout",
     "output_type": "stream",
     "text": [
      "Neural Net\n",
      "[[182   0]\n",
      " [  2   4]]\n",
      "0.8333333333333333\n",
      "Naive Bayes\n",
      "[[182   0]\n",
      " [  6   0]]\n",
      "0.5\n",
      "AdaBoost\n",
      "[[179   3]\n",
      " [  4   2]]\n",
      "0.6584249084249083\n",
      "Gaussian Process\n",
      "[[182   0]\n",
      " [  6   0]]\n",
      "0.5\n",
      "=================================================================\n",
      "Results for  345  PCA components\n",
      "=================================================================\n",
      "Logistic Regression\n",
      "[[182   0]\n",
      " [  0   6]]\n",
      "1.0\n",
      "Nearest Neighbors\n",
      "[[182   0]\n",
      " [  5   1]]\n",
      "0.5833333333333334\n",
      "Linear SVM\n",
      "[[182   0]\n",
      " [  2   4]]\n",
      "0.8333333333333333\n"
     ]
    },
    {
     "name": "stderr",
     "output_type": "stream",
     "text": [
      "C:\\Users\\Nour Al-Hoda\\Anaconda3\\lib\\site-packages\\sklearn\\linear_model\\logistic.py:433: FutureWarning: Default solver will be changed to 'lbfgs' in 0.22. Specify a solver to silence this warning.\n",
      "  FutureWarning)\n"
     ]
    },
    {
     "name": "stdout",
     "output_type": "stream",
     "text": [
      "Gradient Boosting Classifier\n",
      "[[177   5]\n",
      " [  4   2]]\n",
      "0.6529304029304028\n",
      "Decision Tree\n",
      "[[175   7]\n",
      " [  5   1]]\n",
      "0.5641025641025641\n",
      "Random Forest\n",
      "[[176   6]\n",
      " [  6   0]]\n",
      "0.4835164835164835\n",
      "Neural Net\n",
      "[[182   0]\n",
      " [  2   4]]\n",
      "0.8333333333333333\n",
      "Naive Bayes\n",
      "[[182   0]\n",
      " [  6   0]]\n",
      "0.5\n"
     ]
    },
    {
     "name": "stderr",
     "output_type": "stream",
     "text": [
      "C:\\Users\\Nour Al-Hoda\\Anaconda3\\lib\\site-packages\\sklearn\\neural_network\\multilayer_perceptron.py:562: ConvergenceWarning: Stochastic Optimizer: Maximum iterations (200) reached and the optimization hasn't converged yet.\n",
      "  % self.max_iter, ConvergenceWarning)\n"
     ]
    },
    {
     "name": "stdout",
     "output_type": "stream",
     "text": [
      "AdaBoost\n",
      "[[179   3]\n",
      " [  4   2]]\n",
      "0.6584249084249083\n",
      "Gaussian Process\n",
      "[[182   0]\n",
      " [  6   0]]\n",
      "0.5\n",
      "=================================================================\n",
      "Results for  360  PCA components\n",
      "=================================================================\n",
      "Logistic Regression\n",
      "[[182   0]\n",
      " [  0   6]]\n",
      "1.0\n",
      "Nearest Neighbors\n",
      "[[182   0]\n",
      " [  5   1]]\n",
      "0.5833333333333334\n",
      "Linear SVM\n",
      "[[182   0]\n",
      " [  2   4]]\n",
      "0.8333333333333333\n"
     ]
    },
    {
     "name": "stderr",
     "output_type": "stream",
     "text": [
      "C:\\Users\\Nour Al-Hoda\\Anaconda3\\lib\\site-packages\\sklearn\\linear_model\\logistic.py:433: FutureWarning: Default solver will be changed to 'lbfgs' in 0.22. Specify a solver to silence this warning.\n",
      "  FutureWarning)\n"
     ]
    },
    {
     "name": "stdout",
     "output_type": "stream",
     "text": [
      "Gradient Boosting Classifier\n",
      "[[178   4]\n",
      " [  5   1]]\n",
      "0.5723443223443223\n",
      "Decision Tree\n",
      "[[173   9]\n",
      " [  4   2]]\n",
      "0.6419413919413919\n",
      "Random Forest\n",
      "[[177   5]\n",
      " [  6   0]]\n",
      "0.48626373626373626\n"
     ]
    },
    {
     "name": "stderr",
     "output_type": "stream",
     "text": [
      "C:\\Users\\Nour Al-Hoda\\Anaconda3\\lib\\site-packages\\sklearn\\neural_network\\multilayer_perceptron.py:562: ConvergenceWarning: Stochastic Optimizer: Maximum iterations (200) reached and the optimization hasn't converged yet.\n",
      "  % self.max_iter, ConvergenceWarning)\n"
     ]
    },
    {
     "name": "stdout",
     "output_type": "stream",
     "text": [
      "Neural Net\n",
      "[[182   0]\n",
      " [  2   4]]\n",
      "0.8333333333333333\n",
      "Naive Bayes\n",
      "[[182   0]\n",
      " [  6   0]]\n",
      "0.5\n",
      "AdaBoost\n",
      "[[181   1]\n",
      " [  4   2]]\n",
      "0.6639194139194139\n",
      "Gaussian Process\n",
      "[[182   0]\n",
      " [  6   0]]\n",
      "0.5\n",
      "=================================================================\n",
      "Results for  375  PCA components\n",
      "=================================================================\n",
      "Logistic Regression\n",
      "[[182   0]\n",
      " [  0   6]]\n",
      "1.0\n",
      "Nearest Neighbors\n",
      "[[182   0]\n",
      " [  5   1]]\n",
      "0.5833333333333334\n",
      "Linear SVM\n",
      "[[182   0]\n",
      " [  2   4]]\n",
      "0.8333333333333333\n"
     ]
    },
    {
     "name": "stderr",
     "output_type": "stream",
     "text": [
      "C:\\Users\\Nour Al-Hoda\\Anaconda3\\lib\\site-packages\\sklearn\\linear_model\\logistic.py:433: FutureWarning: Default solver will be changed to 'lbfgs' in 0.22. Specify a solver to silence this warning.\n",
      "  FutureWarning)\n"
     ]
    },
    {
     "name": "stdout",
     "output_type": "stream",
     "text": [
      "Gradient Boosting Classifier\n",
      "[[178   4]\n",
      " [  5   1]]\n",
      "0.5723443223443223\n",
      "Decision Tree\n",
      "[[175   7]\n",
      " [  4   2]]\n",
      "0.6474358974358974\n",
      "Random Forest\n",
      "[[177   5]\n",
      " [  6   0]]\n",
      "0.48626373626373626\n"
     ]
    },
    {
     "name": "stderr",
     "output_type": "stream",
     "text": [
      "C:\\Users\\Nour Al-Hoda\\Anaconda3\\lib\\site-packages\\sklearn\\neural_network\\multilayer_perceptron.py:562: ConvergenceWarning: Stochastic Optimizer: Maximum iterations (200) reached and the optimization hasn't converged yet.\n",
      "  % self.max_iter, ConvergenceWarning)\n"
     ]
    },
    {
     "name": "stdout",
     "output_type": "stream",
     "text": [
      "Neural Net\n",
      "[[182   0]\n",
      " [  2   4]]\n",
      "0.8333333333333333\n",
      "Naive Bayes\n",
      "[[182   0]\n",
      " [  6   0]]\n",
      "0.5\n",
      "AdaBoost\n",
      "[[181   1]\n",
      " [  4   2]]\n",
      "0.6639194139194139\n",
      "Gaussian Process\n",
      "[[182   0]\n",
      " [  6   0]]\n",
      "0.5\n",
      "=================================================================\n",
      "Training 10 different classifiers, and different PCA components after CAR filter\n",
      "=================================================================\n",
      "=================================================================\n",
      "Results for  15  PCA components\n",
      "=================================================================\n",
      "Logistic Regression\n",
      "[[182   0]\n",
      " [  3   3]]\n",
      "0.75\n",
      "Nearest Neighbors\n",
      "[[182   0]\n",
      " [  3   3]]\n",
      "0.75\n",
      "Linear SVM\n",
      "[[180   2]\n",
      " [  3   3]]\n",
      "0.7445054945054945\n"
     ]
    },
    {
     "name": "stderr",
     "output_type": "stream",
     "text": [
      "C:\\Users\\Nour Al-Hoda\\Anaconda3\\lib\\site-packages\\sklearn\\linear_model\\logistic.py:433: FutureWarning: Default solver will be changed to 'lbfgs' in 0.22. Specify a solver to silence this warning.\n",
      "  FutureWarning)\n"
     ]
    },
    {
     "name": "stdout",
     "output_type": "stream",
     "text": [
      "Gradient Boosting Classifier\n",
      "[[175   7]\n",
      " [  4   2]]\n",
      "0.6474358974358974\n",
      "Decision Tree\n",
      "[[173   9]\n",
      " [  5   1]]\n",
      "0.5586080586080586\n",
      "Random Forest\n",
      "[[182   0]\n",
      " [  4   2]]\n",
      "0.6666666666666666\n"
     ]
    },
    {
     "name": "stderr",
     "output_type": "stream",
     "text": [
      "C:\\Users\\Nour Al-Hoda\\Anaconda3\\lib\\site-packages\\sklearn\\neural_network\\multilayer_perceptron.py:562: ConvergenceWarning: Stochastic Optimizer: Maximum iterations (200) reached and the optimization hasn't converged yet.\n",
      "  % self.max_iter, ConvergenceWarning)\n"
     ]
    },
    {
     "name": "stdout",
     "output_type": "stream",
     "text": [
      "Neural Net\n",
      "[[180   2]\n",
      " [  2   4]]\n",
      "0.8278388278388278\n",
      "Naive Bayes\n",
      "[[172  10]\n",
      " [  3   3]]\n",
      "0.7225274725274724\n",
      "AdaBoost\n",
      "[[179   3]\n",
      " [  2   4]]\n",
      "0.8250915750915749\n",
      "Gaussian Process\n",
      "[[180   2]\n",
      " [  3   3]]\n",
      "0.7445054945054945\n",
      "=================================================================\n",
      "Results for  30  PCA components\n",
      "=================================================================\n",
      "Logistic Regression\n",
      "[[180   2]\n",
      " [  2   4]]\n",
      "0.8278388278388278\n",
      "Nearest Neighbors\n",
      "[[182   0]\n",
      " [  3   3]]\n",
      "0.75\n",
      "Linear SVM\n",
      "[[179   3]\n",
      " [  3   3]]\n"
     ]
    },
    {
     "name": "stderr",
     "output_type": "stream",
     "text": [
      "C:\\Users\\Nour Al-Hoda\\Anaconda3\\lib\\site-packages\\sklearn\\linear_model\\logistic.py:433: FutureWarning: Default solver will be changed to 'lbfgs' in 0.22. Specify a solver to silence this warning.\n",
      "  FutureWarning)\n"
     ]
    },
    {
     "name": "stdout",
     "output_type": "stream",
     "text": [
      "0.7417582417582417\n",
      "Gradient Boosting Classifier\n",
      "[[176   6]\n",
      " [  3   3]]\n",
      "0.7335164835164835\n",
      "Decision Tree\n",
      "[[167  15]\n",
      " [  4   2]]\n",
      "0.6254578754578753\n",
      "Random Forest\n",
      "[[181   1]\n",
      " [  5   1]]\n",
      "0.5805860805860806\n"
     ]
    },
    {
     "name": "stderr",
     "output_type": "stream",
     "text": [
      "C:\\Users\\Nour Al-Hoda\\Anaconda3\\lib\\site-packages\\sklearn\\neural_network\\multilayer_perceptron.py:562: ConvergenceWarning: Stochastic Optimizer: Maximum iterations (200) reached and the optimization hasn't converged yet.\n",
      "  % self.max_iter, ConvergenceWarning)\n"
     ]
    },
    {
     "name": "stdout",
     "output_type": "stream",
     "text": [
      "Neural Net\n",
      "[[182   0]\n",
      " [  2   4]]\n",
      "0.8333333333333333\n",
      "Naive Bayes\n",
      "[[169  13]\n",
      " [  3   3]]\n",
      "0.7142857142857143\n",
      "AdaBoost\n",
      "[[181   1]\n",
      " [  4   2]]\n",
      "0.6639194139194139\n",
      "Gaussian Process\n",
      "[[182   0]\n",
      " [  6   0]]\n",
      "0.5\n",
      "=================================================================\n",
      "Results for  45  PCA components\n",
      "=================================================================\n",
      "Logistic Regression\n",
      "[[182   0]\n",
      " [  2   4]]\n",
      "0.8333333333333333\n",
      "Nearest Neighbors\n",
      "[[182   0]\n",
      " [  3   3]]\n",
      "0.75\n",
      "Linear SVM\n",
      "[[181   1]\n",
      " [  2   4]]\n",
      "0.8305860805860805\n"
     ]
    },
    {
     "name": "stderr",
     "output_type": "stream",
     "text": [
      "C:\\Users\\Nour Al-Hoda\\Anaconda3\\lib\\site-packages\\sklearn\\linear_model\\logistic.py:433: FutureWarning: Default solver will be changed to 'lbfgs' in 0.22. Specify a solver to silence this warning.\n",
      "  FutureWarning)\n"
     ]
    },
    {
     "name": "stdout",
     "output_type": "stream",
     "text": [
      "Gradient Boosting Classifier\n",
      "[[180   2]\n",
      " [  4   2]]\n",
      "0.6611721611721612\n",
      "Decision Tree\n",
      "[[177   5]\n",
      " [  4   2]]\n",
      "0.6529304029304028\n",
      "Random Forest\n",
      "[[180   2]\n",
      " [  6   0]]\n",
      "0.4945054945054945\n"
     ]
    },
    {
     "name": "stderr",
     "output_type": "stream",
     "text": [
      "C:\\Users\\Nour Al-Hoda\\Anaconda3\\lib\\site-packages\\sklearn\\neural_network\\multilayer_perceptron.py:562: ConvergenceWarning: Stochastic Optimizer: Maximum iterations (200) reached and the optimization hasn't converged yet.\n",
      "  % self.max_iter, ConvergenceWarning)\n"
     ]
    },
    {
     "name": "stdout",
     "output_type": "stream",
     "text": [
      "Neural Net\n",
      "[[182   0]\n",
      " [  2   4]]\n",
      "0.8333333333333333\n",
      "Naive Bayes\n",
      "[[168  14]\n",
      " [  3   3]]\n",
      "0.7115384615384616\n",
      "AdaBoost\n",
      "[[180   2]\n",
      " [  3   3]]\n",
      "0.7445054945054945\n",
      "Gaussian Process\n",
      "[[182   0]\n",
      " [  6   0]]\n",
      "0.5\n",
      "=================================================================\n",
      "Results for  60  PCA components\n",
      "=================================================================\n",
      "Logistic Regression\n",
      "[[182   0]\n",
      " [  2   4]]\n",
      "0.8333333333333333\n",
      "Nearest Neighbors\n",
      "[[182   0]\n",
      " [  4   2]]\n",
      "0.6666666666666666\n",
      "Linear SVM\n",
      "[[182   0]\n",
      " [  2   4]]\n",
      "0.8333333333333333\n"
     ]
    },
    {
     "name": "stderr",
     "output_type": "stream",
     "text": [
      "C:\\Users\\Nour Al-Hoda\\Anaconda3\\lib\\site-packages\\sklearn\\linear_model\\logistic.py:433: FutureWarning: Default solver will be changed to 'lbfgs' in 0.22. Specify a solver to silence this warning.\n",
      "  FutureWarning)\n"
     ]
    },
    {
     "name": "stdout",
     "output_type": "stream",
     "text": [
      "Gradient Boosting Classifier\n",
      "[[179   3]\n",
      " [  4   2]]\n",
      "0.6584249084249083\n",
      "Decision Tree\n",
      "[[176   6]\n",
      " [  4   2]]\n",
      "0.6501831501831501\n",
      "Random Forest\n",
      "[[181   1]\n",
      " [  6   0]]\n",
      "0.49725274725274726\n"
     ]
    },
    {
     "name": "stderr",
     "output_type": "stream",
     "text": [
      "C:\\Users\\Nour Al-Hoda\\Anaconda3\\lib\\site-packages\\sklearn\\neural_network\\multilayer_perceptron.py:562: ConvergenceWarning: Stochastic Optimizer: Maximum iterations (200) reached and the optimization hasn't converged yet.\n",
      "  % self.max_iter, ConvergenceWarning)\n"
     ]
    },
    {
     "name": "stdout",
     "output_type": "stream",
     "text": [
      "Neural Net\n",
      "[[182   0]\n",
      " [  3   3]]\n",
      "0.75\n",
      "Naive Bayes\n",
      "[[167  15]\n",
      " [  3   3]]\n",
      "0.7087912087912088\n",
      "AdaBoost\n",
      "[[179   3]\n",
      " [  3   3]]\n",
      "0.7417582417582417\n",
      "Gaussian Process\n",
      "[[182   0]\n",
      " [  6   0]]\n",
      "0.5\n",
      "=================================================================\n",
      "Results for  75  PCA components\n",
      "=================================================================\n",
      "Logistic Regression\n",
      "[[181   1]\n",
      " [  1   5]]\n",
      "0.913919413919414\n",
      "Nearest Neighbors\n",
      "[[182   0]\n",
      " [  4   2]]\n",
      "0.6666666666666666\n",
      "Linear SVM\n",
      "[[182   0]\n",
      " [  2   4]]\n",
      "0.8333333333333333\n"
     ]
    },
    {
     "name": "stderr",
     "output_type": "stream",
     "text": [
      "C:\\Users\\Nour Al-Hoda\\Anaconda3\\lib\\site-packages\\sklearn\\linear_model\\logistic.py:433: FutureWarning: Default solver will be changed to 'lbfgs' in 0.22. Specify a solver to silence this warning.\n",
      "  FutureWarning)\n"
     ]
    },
    {
     "name": "stdout",
     "output_type": "stream",
     "text": [
      "Gradient Boosting Classifier\n",
      "[[176   6]\n",
      " [  5   1]]\n",
      "0.5668498168498168\n",
      "Decision Tree\n",
      "[[172  10]\n",
      " [  3   3]]\n",
      "0.7225274725274724\n",
      "Random Forest\n",
      "[[180   2]\n",
      " [  6   0]]\n",
      "0.4945054945054945\n"
     ]
    },
    {
     "name": "stderr",
     "output_type": "stream",
     "text": [
      "C:\\Users\\Nour Al-Hoda\\Anaconda3\\lib\\site-packages\\sklearn\\neural_network\\multilayer_perceptron.py:562: ConvergenceWarning: Stochastic Optimizer: Maximum iterations (200) reached and the optimization hasn't converged yet.\n",
      "  % self.max_iter, ConvergenceWarning)\n"
     ]
    },
    {
     "name": "stdout",
     "output_type": "stream",
     "text": [
      "Neural Net\n",
      "[[181   1]\n",
      " [  2   4]]\n",
      "0.8305860805860805\n",
      "Naive Bayes\n",
      "[[166  16]\n",
      " [  3   3]]\n",
      "0.7060439560439561\n",
      "AdaBoost\n",
      "[[179   3]\n",
      " [  4   2]]\n",
      "0.6584249084249083\n",
      "Gaussian Process\n",
      "[[182   0]\n",
      " [  6   0]]\n",
      "0.5\n",
      "=================================================================\n",
      "Results for  90  PCA components\n",
      "=================================================================\n",
      "Logistic Regression\n",
      "[[181   1]\n",
      " [  0   6]]\n",
      "0.9972527472527473\n",
      "Nearest Neighbors\n",
      "[[182   0]\n",
      " [  5   1]]\n",
      "0.5833333333333334\n",
      "Linear SVM\n",
      "[[181   1]\n",
      " [  2   4]]\n",
      "0.8305860805860805\n"
     ]
    },
    {
     "name": "stderr",
     "output_type": "stream",
     "text": [
      "C:\\Users\\Nour Al-Hoda\\Anaconda3\\lib\\site-packages\\sklearn\\linear_model\\logistic.py:433: FutureWarning: Default solver will be changed to 'lbfgs' in 0.22. Specify a solver to silence this warning.\n",
      "  FutureWarning)\n"
     ]
    },
    {
     "name": "stdout",
     "output_type": "stream",
     "text": [
      "Gradient Boosting Classifier\n",
      "[[173   9]\n",
      " [  4   2]]\n",
      "0.6419413919413919\n",
      "Decision Tree\n",
      "[[170  12]\n",
      " [  3   3]]\n",
      "0.717032967032967\n",
      "Random Forest\n",
      "[[180   2]\n",
      " [  6   0]]\n",
      "0.4945054945054945\n"
     ]
    },
    {
     "name": "stderr",
     "output_type": "stream",
     "text": [
      "C:\\Users\\Nour Al-Hoda\\Anaconda3\\lib\\site-packages\\sklearn\\neural_network\\multilayer_perceptron.py:562: ConvergenceWarning: Stochastic Optimizer: Maximum iterations (200) reached and the optimization hasn't converged yet.\n",
      "  % self.max_iter, ConvergenceWarning)\n"
     ]
    },
    {
     "name": "stdout",
     "output_type": "stream",
     "text": [
      "Neural Net\n",
      "[[182   0]\n",
      " [  3   3]]\n",
      "0.75\n",
      "Naive Bayes\n",
      "[[166  16]\n",
      " [  3   3]]\n",
      "0.7060439560439561\n",
      "AdaBoost\n",
      "[[179   3]\n",
      " [  3   3]]\n",
      "0.7417582417582417\n",
      "Gaussian Process\n",
      "[[182   0]\n",
      " [  6   0]]\n",
      "0.5\n",
      "=================================================================\n",
      "Results for  105  PCA components\n",
      "=================================================================\n",
      "Logistic Regression\n",
      "[[181   1]\n",
      " [  0   6]]\n",
      "0.9972527472527473\n",
      "Nearest Neighbors\n",
      "[[182   0]\n",
      " [  5   1]]\n",
      "0.5833333333333334\n",
      "Linear SVM\n",
      "[[181   1]\n",
      " [  2   4]]\n",
      "0.8305860805860805\n"
     ]
    },
    {
     "name": "stderr",
     "output_type": "stream",
     "text": [
      "C:\\Users\\Nour Al-Hoda\\Anaconda3\\lib\\site-packages\\sklearn\\linear_model\\logistic.py:433: FutureWarning: Default solver will be changed to 'lbfgs' in 0.22. Specify a solver to silence this warning.\n",
      "  FutureWarning)\n"
     ]
    },
    {
     "name": "stdout",
     "output_type": "stream",
     "text": [
      "Gradient Boosting Classifier\n",
      "[[178   4]\n",
      " [  5   1]]\n",
      "0.5723443223443223\n",
      "Decision Tree\n",
      "[[171  11]\n",
      " [  4   2]]\n",
      "0.6364468864468864\n",
      "Random Forest\n",
      "[[177   5]\n",
      " [  6   0]]\n",
      "0.48626373626373626\n"
     ]
    },
    {
     "name": "stderr",
     "output_type": "stream",
     "text": [
      "C:\\Users\\Nour Al-Hoda\\Anaconda3\\lib\\site-packages\\sklearn\\neural_network\\multilayer_perceptron.py:562: ConvergenceWarning: Stochastic Optimizer: Maximum iterations (200) reached and the optimization hasn't converged yet.\n",
      "  % self.max_iter, ConvergenceWarning)\n"
     ]
    },
    {
     "name": "stdout",
     "output_type": "stream",
     "text": [
      "Neural Net\n",
      "[[182   0]\n",
      " [  2   4]]\n",
      "0.8333333333333333\n",
      "Naive Bayes\n",
      "[[165  17]\n",
      " [  3   3]]\n",
      "0.7032967032967034\n",
      "AdaBoost\n",
      "[[176   6]\n",
      " [  3   3]]\n",
      "0.7335164835164835\n",
      "Gaussian Process\n",
      "[[182   0]\n",
      " [  6   0]]\n",
      "0.5\n",
      "=================================================================\n",
      "Results for  120  PCA components\n",
      "=================================================================\n",
      "Logistic Regression\n",
      "[[181   1]\n",
      " [  0   6]]\n",
      "0.9972527472527473\n",
      "Nearest Neighbors\n",
      "[[182   0]\n",
      " [  5   1]]\n",
      "0.5833333333333334\n",
      "Linear SVM\n",
      "[[181   1]\n",
      " [  2   4]]\n",
      "0.8305860805860805\n"
     ]
    },
    {
     "name": "stderr",
     "output_type": "stream",
     "text": [
      "C:\\Users\\Nour Al-Hoda\\Anaconda3\\lib\\site-packages\\sklearn\\linear_model\\logistic.py:433: FutureWarning: Default solver will be changed to 'lbfgs' in 0.22. Specify a solver to silence this warning.\n",
      "  FutureWarning)\n"
     ]
    },
    {
     "name": "stdout",
     "output_type": "stream",
     "text": [
      "Gradient Boosting Classifier\n",
      "[[178   4]\n",
      " [  4   2]]\n",
      "0.6556776556776556\n",
      "Decision Tree\n",
      "[[173   9]\n",
      " [  4   2]]\n",
      "0.6419413919413919\n",
      "Random Forest\n",
      "[[178   4]\n",
      " [  6   0]]\n",
      "0.489010989010989\n"
     ]
    },
    {
     "name": "stderr",
     "output_type": "stream",
     "text": [
      "C:\\Users\\Nour Al-Hoda\\Anaconda3\\lib\\site-packages\\sklearn\\neural_network\\multilayer_perceptron.py:562: ConvergenceWarning: Stochastic Optimizer: Maximum iterations (200) reached and the optimization hasn't converged yet.\n",
      "  % self.max_iter, ConvergenceWarning)\n"
     ]
    },
    {
     "name": "stdout",
     "output_type": "stream",
     "text": [
      "Neural Net\n",
      "[[182   0]\n",
      " [  2   4]]\n",
      "0.8333333333333333\n",
      "Naive Bayes\n",
      "[[164  18]\n",
      " [  2   4]]\n",
      "0.7838827838827839\n",
      "AdaBoost\n",
      "[[179   3]\n",
      " [  4   2]]\n",
      "0.6584249084249083\n",
      "Gaussian Process\n",
      "[[182   0]\n",
      " [  6   0]]\n",
      "0.5\n",
      "=================================================================\n",
      "Results for  135  PCA components\n",
      "=================================================================\n",
      "Logistic Regression\n",
      "[[182   0]\n",
      " [  0   6]]\n",
      "1.0\n",
      "Nearest Neighbors\n",
      "[[182   0]\n",
      " [  5   1]]\n",
      "0.5833333333333334\n",
      "Linear SVM\n",
      "[[181   1]\n",
      " [  2   4]]\n",
      "0.8305860805860805\n"
     ]
    },
    {
     "name": "stderr",
     "output_type": "stream",
     "text": [
      "C:\\Users\\Nour Al-Hoda\\Anaconda3\\lib\\site-packages\\sklearn\\linear_model\\logistic.py:433: FutureWarning: Default solver will be changed to 'lbfgs' in 0.22. Specify a solver to silence this warning.\n",
      "  FutureWarning)\n"
     ]
    },
    {
     "name": "stdout",
     "output_type": "stream",
     "text": [
      "Gradient Boosting Classifier\n",
      "[[178   4]\n",
      " [  4   2]]\n",
      "0.6556776556776556\n",
      "Decision Tree\n",
      "[[175   7]\n",
      " [  5   1]]\n",
      "0.5641025641025641\n",
      "Random Forest\n",
      "[[177   5]\n",
      " [  6   0]]\n",
      "0.48626373626373626\n"
     ]
    },
    {
     "name": "stderr",
     "output_type": "stream",
     "text": [
      "C:\\Users\\Nour Al-Hoda\\Anaconda3\\lib\\site-packages\\sklearn\\neural_network\\multilayer_perceptron.py:562: ConvergenceWarning: Stochastic Optimizer: Maximum iterations (200) reached and the optimization hasn't converged yet.\n",
      "  % self.max_iter, ConvergenceWarning)\n"
     ]
    },
    {
     "name": "stdout",
     "output_type": "stream",
     "text": [
      "Neural Net\n",
      "[[182   0]\n",
      " [  3   3]]\n",
      "0.75\n",
      "Naive Bayes\n",
      "[[164  18]\n",
      " [  2   4]]\n",
      "0.7838827838827839\n",
      "AdaBoost\n",
      "[[179   3]\n",
      " [  4   2]]\n",
      "0.6584249084249083\n",
      "Gaussian Process\n",
      "[[182   0]\n",
      " [  6   0]]\n",
      "0.5\n",
      "=================================================================\n",
      "Results for  150  PCA components\n",
      "=================================================================\n",
      "Logistic Regression\n",
      "[[182   0]\n",
      " [  0   6]]\n",
      "1.0\n",
      "Nearest Neighbors\n",
      "[[182   0]\n",
      " [  5   1]]\n",
      "0.5833333333333334\n",
      "Linear SVM\n",
      "[[181   1]\n",
      " [  2   4]]\n",
      "0.8305860805860805\n"
     ]
    },
    {
     "name": "stderr",
     "output_type": "stream",
     "text": [
      "C:\\Users\\Nour Al-Hoda\\Anaconda3\\lib\\site-packages\\sklearn\\linear_model\\logistic.py:433: FutureWarning: Default solver will be changed to 'lbfgs' in 0.22. Specify a solver to silence this warning.\n",
      "  FutureWarning)\n"
     ]
    },
    {
     "name": "stdout",
     "output_type": "stream",
     "text": [
      "Gradient Boosting Classifier\n",
      "[[178   4]\n",
      " [  4   2]]\n",
      "0.6556776556776556\n",
      "Decision Tree\n",
      "[[175   7]\n",
      " [  5   1]]\n",
      "0.5641025641025641\n",
      "Random Forest\n",
      "[[177   5]\n",
      " [  6   0]]\n",
      "0.48626373626373626\n"
     ]
    },
    {
     "name": "stderr",
     "output_type": "stream",
     "text": [
      "C:\\Users\\Nour Al-Hoda\\Anaconda3\\lib\\site-packages\\sklearn\\neural_network\\multilayer_perceptron.py:562: ConvergenceWarning: Stochastic Optimizer: Maximum iterations (200) reached and the optimization hasn't converged yet.\n",
      "  % self.max_iter, ConvergenceWarning)\n"
     ]
    },
    {
     "name": "stdout",
     "output_type": "stream",
     "text": [
      "Neural Net\n",
      "[[182   0]\n",
      " [  3   3]]\n",
      "0.75\n",
      "Naive Bayes\n",
      "[[165  17]\n",
      " [  1   5]]\n",
      "0.86996336996337\n",
      "AdaBoost\n",
      "[[177   5]\n",
      " [  4   2]]\n",
      "0.6529304029304028\n",
      "Gaussian Process\n",
      "[[182   0]\n",
      " [  6   0]]\n",
      "0.5\n",
      "=================================================================\n",
      "Results for  165  PCA components\n",
      "=================================================================\n",
      "Logistic Regression\n",
      "[[182   0]\n",
      " [  0   6]]\n",
      "1.0\n",
      "Nearest Neighbors\n",
      "[[182   0]\n",
      " [  5   1]]\n",
      "0.5833333333333334\n",
      "Linear SVM\n",
      "[[181   1]\n",
      " [  2   4]]\n",
      "0.8305860805860805\n"
     ]
    },
    {
     "name": "stderr",
     "output_type": "stream",
     "text": [
      "C:\\Users\\Nour Al-Hoda\\Anaconda3\\lib\\site-packages\\sklearn\\linear_model\\logistic.py:433: FutureWarning: Default solver will be changed to 'lbfgs' in 0.22. Specify a solver to silence this warning.\n",
      "  FutureWarning)\n"
     ]
    },
    {
     "name": "stdout",
     "output_type": "stream",
     "text": [
      "Gradient Boosting Classifier\n",
      "[[178   4]\n",
      " [  5   1]]\n",
      "0.5723443223443223\n",
      "Decision Tree\n",
      "[[173   9]\n",
      " [  4   2]]\n",
      "0.6419413919413919\n",
      "Random Forest\n",
      "[[177   5]\n",
      " [  6   0]]\n",
      "0.48626373626373626\n"
     ]
    },
    {
     "name": "stderr",
     "output_type": "stream",
     "text": [
      "C:\\Users\\Nour Al-Hoda\\Anaconda3\\lib\\site-packages\\sklearn\\neural_network\\multilayer_perceptron.py:562: ConvergenceWarning: Stochastic Optimizer: Maximum iterations (200) reached and the optimization hasn't converged yet.\n",
      "  % self.max_iter, ConvergenceWarning)\n"
     ]
    },
    {
     "name": "stdout",
     "output_type": "stream",
     "text": [
      "Neural Net\n",
      "[[182   0]\n",
      " [  3   3]]\n",
      "0.75\n",
      "Naive Bayes\n",
      "[[165  17]\n",
      " [  1   5]]\n",
      "0.86996336996337\n",
      "AdaBoost\n",
      "[[178   4]\n",
      " [  4   2]]\n",
      "0.6556776556776556\n",
      "Gaussian Process\n",
      "[[182   0]\n",
      " [  6   0]]\n",
      "0.5\n",
      "=================================================================\n",
      "Results for  180  PCA components\n",
      "=================================================================\n",
      "Logistic Regression\n",
      "[[182   0]\n",
      " [  0   6]]\n",
      "1.0\n",
      "Nearest Neighbors\n",
      "[[182   0]\n",
      " [  5   1]]\n",
      "0.5833333333333334\n",
      "Linear SVM\n",
      "[[181   1]\n",
      " [  2   4]]\n",
      "0.8305860805860805\n"
     ]
    },
    {
     "name": "stderr",
     "output_type": "stream",
     "text": [
      "C:\\Users\\Nour Al-Hoda\\Anaconda3\\lib\\site-packages\\sklearn\\linear_model\\logistic.py:433: FutureWarning: Default solver will be changed to 'lbfgs' in 0.22. Specify a solver to silence this warning.\n",
      "  FutureWarning)\n"
     ]
    },
    {
     "name": "stdout",
     "output_type": "stream",
     "text": [
      "Gradient Boosting Classifier\n",
      "[[178   4]\n",
      " [  3   3]]\n",
      "0.7390109890109889\n",
      "Decision Tree\n",
      "[[177   5]\n",
      " [  4   2]]\n",
      "0.6529304029304028\n",
      "Random Forest\n",
      "[[177   5]\n",
      " [  6   0]]\n",
      "0.48626373626373626\n"
     ]
    },
    {
     "name": "stderr",
     "output_type": "stream",
     "text": [
      "C:\\Users\\Nour Al-Hoda\\Anaconda3\\lib\\site-packages\\sklearn\\neural_network\\multilayer_perceptron.py:562: ConvergenceWarning: Stochastic Optimizer: Maximum iterations (200) reached and the optimization hasn't converged yet.\n",
      "  % self.max_iter, ConvergenceWarning)\n"
     ]
    },
    {
     "name": "stdout",
     "output_type": "stream",
     "text": [
      "Neural Net\n",
      "[[182   0]\n",
      " [  2   4]]\n",
      "0.8333333333333333\n",
      "Naive Bayes\n",
      "[[167  15]\n",
      " [  2   4]]\n",
      "0.7921245421245421\n",
      "AdaBoost\n",
      "[[180   2]\n",
      " [  4   2]]\n",
      "0.6611721611721612\n",
      "Gaussian Process\n",
      "[[182   0]\n",
      " [  6   0]]\n",
      "0.5\n",
      "=================================================================\n",
      "Results for  195  PCA components\n",
      "=================================================================\n",
      "Logistic Regression\n",
      "[[182   0]\n",
      " [  0   6]]\n",
      "1.0\n",
      "Nearest Neighbors\n",
      "[[182   0]\n",
      " [  5   1]]\n",
      "0.5833333333333334\n",
      "Linear SVM\n",
      "[[182   0]\n",
      " [  2   4]]\n",
      "0.8333333333333333\n"
     ]
    },
    {
     "name": "stderr",
     "output_type": "stream",
     "text": [
      "C:\\Users\\Nour Al-Hoda\\Anaconda3\\lib\\site-packages\\sklearn\\linear_model\\logistic.py:433: FutureWarning: Default solver will be changed to 'lbfgs' in 0.22. Specify a solver to silence this warning.\n",
      "  FutureWarning)\n"
     ]
    },
    {
     "name": "stdout",
     "output_type": "stream",
     "text": [
      "Gradient Boosting Classifier\n",
      "[[178   4]\n",
      " [  5   1]]\n",
      "0.5723443223443223\n",
      "Decision Tree\n",
      "[[173   9]\n",
      " [  4   2]]\n",
      "0.6419413919413919\n",
      "Random Forest\n",
      "[[177   5]\n",
      " [  6   0]]\n",
      "0.48626373626373626\n"
     ]
    },
    {
     "name": "stderr",
     "output_type": "stream",
     "text": [
      "C:\\Users\\Nour Al-Hoda\\Anaconda3\\lib\\site-packages\\sklearn\\neural_network\\multilayer_perceptron.py:562: ConvergenceWarning: Stochastic Optimizer: Maximum iterations (200) reached and the optimization hasn't converged yet.\n",
      "  % self.max_iter, ConvergenceWarning)\n"
     ]
    },
    {
     "name": "stdout",
     "output_type": "stream",
     "text": [
      "Neural Net\n",
      "[[182   0]\n",
      " [  1   5]]\n",
      "0.9166666666666667\n",
      "Naive Bayes\n",
      "[[168  14]\n",
      " [  2   4]]\n",
      "0.7948717948717948\n",
      "AdaBoost\n",
      "[[179   3]\n",
      " [  4   2]]\n",
      "0.6584249084249083\n",
      "Gaussian Process\n",
      "[[182   0]\n",
      " [  6   0]]\n",
      "0.5\n",
      "=================================================================\n",
      "Results for  210  PCA components\n",
      "=================================================================\n",
      "Logistic Regression\n",
      "[[182   0]\n",
      " [  0   6]]\n",
      "1.0\n",
      "Nearest Neighbors\n",
      "[[182   0]\n",
      " [  5   1]]\n",
      "0.5833333333333334\n",
      "Linear SVM\n",
      "[[182   0]\n",
      " [  2   4]]\n",
      "0.8333333333333333\n"
     ]
    },
    {
     "name": "stderr",
     "output_type": "stream",
     "text": [
      "C:\\Users\\Nour Al-Hoda\\Anaconda3\\lib\\site-packages\\sklearn\\linear_model\\logistic.py:433: FutureWarning: Default solver will be changed to 'lbfgs' in 0.22. Specify a solver to silence this warning.\n",
      "  FutureWarning)\n"
     ]
    },
    {
     "name": "stdout",
     "output_type": "stream",
     "text": [
      "Gradient Boosting Classifier\n",
      "[[177   5]\n",
      " [  4   2]]\n",
      "0.6529304029304028\n",
      "Decision Tree\n",
      "[[179   3]\n",
      " [  4   2]]\n",
      "0.6584249084249083\n",
      "Random Forest\n",
      "[[177   5]\n",
      " [  6   0]]\n",
      "0.48626373626373626\n"
     ]
    },
    {
     "name": "stderr",
     "output_type": "stream",
     "text": [
      "C:\\Users\\Nour Al-Hoda\\Anaconda3\\lib\\site-packages\\sklearn\\neural_network\\multilayer_perceptron.py:562: ConvergenceWarning: Stochastic Optimizer: Maximum iterations (200) reached and the optimization hasn't converged yet.\n",
      "  % self.max_iter, ConvergenceWarning)\n"
     ]
    },
    {
     "name": "stdout",
     "output_type": "stream",
     "text": [
      "Neural Net\n",
      "[[182   0]\n",
      " [  1   5]]\n",
      "0.9166666666666667\n",
      "Naive Bayes\n",
      "[[174   8]\n",
      " [  4   2]]\n",
      "0.6446886446886446\n",
      "AdaBoost\n",
      "[[178   4]\n",
      " [  3   3]]\n",
      "0.7390109890109889\n",
      "Gaussian Process\n",
      "[[182   0]\n",
      " [  6   0]]\n",
      "0.5\n",
      "=================================================================\n",
      "Results for  225  PCA components\n",
      "=================================================================\n",
      "Logistic Regression\n",
      "[[182   0]\n",
      " [  0   6]]\n",
      "1.0\n",
      "Nearest Neighbors\n",
      "[[182   0]\n",
      " [  5   1]]\n",
      "0.5833333333333334\n",
      "Linear SVM\n",
      "[[181   1]\n",
      " [  2   4]]\n",
      "0.8305860805860805\n"
     ]
    },
    {
     "name": "stderr",
     "output_type": "stream",
     "text": [
      "C:\\Users\\Nour Al-Hoda\\Anaconda3\\lib\\site-packages\\sklearn\\linear_model\\logistic.py:433: FutureWarning: Default solver will be changed to 'lbfgs' in 0.22. Specify a solver to silence this warning.\n",
      "  FutureWarning)\n"
     ]
    },
    {
     "name": "stdout",
     "output_type": "stream",
     "text": [
      "Gradient Boosting Classifier\n",
      "[[178   4]\n",
      " [  4   2]]\n",
      "0.6556776556776556\n",
      "Decision Tree\n",
      "[[174   8]\n",
      " [  4   2]]\n",
      "0.6446886446886446\n",
      "Random Forest\n",
      "[[177   5]\n",
      " [  6   0]]\n",
      "0.48626373626373626\n"
     ]
    },
    {
     "name": "stderr",
     "output_type": "stream",
     "text": [
      "C:\\Users\\Nour Al-Hoda\\Anaconda3\\lib\\site-packages\\sklearn\\neural_network\\multilayer_perceptron.py:562: ConvergenceWarning: Stochastic Optimizer: Maximum iterations (200) reached and the optimization hasn't converged yet.\n",
      "  % self.max_iter, ConvergenceWarning)\n"
     ]
    },
    {
     "name": "stdout",
     "output_type": "stream",
     "text": [
      "Neural Net\n",
      "[[182   0]\n",
      " [  3   3]]\n",
      "0.75\n",
      "Naive Bayes\n",
      "[[178   4]\n",
      " [  6   0]]\n",
      "0.489010989010989\n",
      "AdaBoost\n",
      "[[180   2]\n",
      " [  3   3]]\n",
      "0.7445054945054945\n",
      "Gaussian Process\n",
      "[[182   0]\n",
      " [  6   0]]\n",
      "0.5\n",
      "=================================================================\n",
      "Results for  240  PCA components\n",
      "=================================================================\n",
      "Logistic Regression\n",
      "[[182   0]\n",
      " [  0   6]]\n",
      "1.0\n",
      "Nearest Neighbors\n",
      "[[182   0]\n",
      " [  5   1]]\n",
      "0.5833333333333334\n",
      "Linear SVM\n",
      "[[181   1]\n",
      " [  2   4]]\n",
      "0.8305860805860805\n"
     ]
    },
    {
     "name": "stderr",
     "output_type": "stream",
     "text": [
      "C:\\Users\\Nour Al-Hoda\\Anaconda3\\lib\\site-packages\\sklearn\\linear_model\\logistic.py:433: FutureWarning: Default solver will be changed to 'lbfgs' in 0.22. Specify a solver to silence this warning.\n",
      "  FutureWarning)\n"
     ]
    },
    {
     "name": "stdout",
     "output_type": "stream",
     "text": [
      "Gradient Boosting Classifier\n",
      "[[178   4]\n",
      " [  5   1]]\n",
      "0.5723443223443223\n",
      "Decision Tree\n",
      "[[176   6]\n",
      " [  4   2]]\n",
      "0.6501831501831501\n",
      "Random Forest\n",
      "[[177   5]\n",
      " [  6   0]]\n",
      "0.48626373626373626\n"
     ]
    },
    {
     "name": "stderr",
     "output_type": "stream",
     "text": [
      "C:\\Users\\Nour Al-Hoda\\Anaconda3\\lib\\site-packages\\sklearn\\neural_network\\multilayer_perceptron.py:562: ConvergenceWarning: Stochastic Optimizer: Maximum iterations (200) reached and the optimization hasn't converged yet.\n",
      "  % self.max_iter, ConvergenceWarning)\n"
     ]
    },
    {
     "name": "stdout",
     "output_type": "stream",
     "text": [
      "Neural Net\n",
      "[[182   0]\n",
      " [  2   4]]\n",
      "0.8333333333333333\n",
      "Naive Bayes\n",
      "[[179   3]\n",
      " [  6   0]]\n",
      "0.49175824175824173\n",
      "AdaBoost\n",
      "[[179   3]\n",
      " [  4   2]]\n",
      "0.6584249084249083\n",
      "Gaussian Process\n",
      "[[182   0]\n",
      " [  6   0]]\n",
      "0.5\n",
      "=================================================================\n",
      "Results for  255  PCA components\n",
      "=================================================================\n",
      "Logistic Regression\n",
      "[[182   0]\n",
      " [  0   6]]\n",
      "1.0\n",
      "Nearest Neighbors\n",
      "[[182   0]\n",
      " [  5   1]]\n",
      "0.5833333333333334\n",
      "Linear SVM\n",
      "[[182   0]\n",
      " [  2   4]]\n",
      "0.8333333333333333\n"
     ]
    },
    {
     "name": "stderr",
     "output_type": "stream",
     "text": [
      "C:\\Users\\Nour Al-Hoda\\Anaconda3\\lib\\site-packages\\sklearn\\linear_model\\logistic.py:433: FutureWarning: Default solver will be changed to 'lbfgs' in 0.22. Specify a solver to silence this warning.\n",
      "  FutureWarning)\n"
     ]
    },
    {
     "name": "stdout",
     "output_type": "stream",
     "text": [
      "Gradient Boosting Classifier\n",
      "[[179   3]\n",
      " [  5   1]]\n",
      "0.575091575091575\n",
      "Decision Tree\n",
      "[[172  10]\n",
      " [  4   2]]\n",
      "0.6391941391941391\n",
      "Random Forest\n",
      "[[177   5]\n",
      " [  6   0]]\n",
      "0.48626373626373626\n"
     ]
    },
    {
     "name": "stderr",
     "output_type": "stream",
     "text": [
      "C:\\Users\\Nour Al-Hoda\\Anaconda3\\lib\\site-packages\\sklearn\\neural_network\\multilayer_perceptron.py:562: ConvergenceWarning: Stochastic Optimizer: Maximum iterations (200) reached and the optimization hasn't converged yet.\n",
      "  % self.max_iter, ConvergenceWarning)\n"
     ]
    },
    {
     "name": "stdout",
     "output_type": "stream",
     "text": [
      "Neural Net\n",
      "[[182   0]\n",
      " [  3   3]]\n",
      "0.75\n",
      "Naive Bayes\n",
      "[[182   0]\n",
      " [  6   0]]\n",
      "0.5\n",
      "AdaBoost\n",
      "[[181   1]\n",
      " [  5   1]]\n",
      "0.5805860805860806\n",
      "Gaussian Process\n",
      "[[182   0]\n",
      " [  6   0]]\n",
      "0.5\n",
      "=================================================================\n",
      "Results for  270  PCA components\n",
      "=================================================================\n",
      "Logistic Regression\n",
      "[[182   0]\n",
      " [  0   6]]\n",
      "1.0\n",
      "Nearest Neighbors\n",
      "[[182   0]\n",
      " [  5   1]]\n",
      "0.5833333333333334\n",
      "Linear SVM\n",
      "[[182   0]\n",
      " [  2   4]]\n",
      "0.8333333333333333\n"
     ]
    },
    {
     "name": "stderr",
     "output_type": "stream",
     "text": [
      "C:\\Users\\Nour Al-Hoda\\Anaconda3\\lib\\site-packages\\sklearn\\linear_model\\logistic.py:433: FutureWarning: Default solver will be changed to 'lbfgs' in 0.22. Specify a solver to silence this warning.\n",
      "  FutureWarning)\n"
     ]
    },
    {
     "name": "stdout",
     "output_type": "stream",
     "text": [
      "Gradient Boosting Classifier\n",
      "[[178   4]\n",
      " [  5   1]]\n",
      "0.5723443223443223\n",
      "Decision Tree\n",
      "[[177   5]\n",
      " [  5   1]]\n",
      "0.5695970695970696\n",
      "Random Forest\n",
      "[[177   5]\n",
      " [  6   0]]\n",
      "0.48626373626373626\n"
     ]
    },
    {
     "name": "stderr",
     "output_type": "stream",
     "text": [
      "C:\\Users\\Nour Al-Hoda\\Anaconda3\\lib\\site-packages\\sklearn\\neural_network\\multilayer_perceptron.py:562: ConvergenceWarning: Stochastic Optimizer: Maximum iterations (200) reached and the optimization hasn't converged yet.\n",
      "  % self.max_iter, ConvergenceWarning)\n"
     ]
    },
    {
     "name": "stdout",
     "output_type": "stream",
     "text": [
      "Neural Net\n",
      "[[182   0]\n",
      " [  2   4]]\n",
      "0.8333333333333333\n",
      "Naive Bayes\n",
      "[[182   0]\n",
      " [  6   0]]\n",
      "0.5\n",
      "AdaBoost\n",
      "[[178   4]\n",
      " [  4   2]]\n",
      "0.6556776556776556\n",
      "Gaussian Process\n",
      "[[182   0]\n",
      " [  6   0]]\n",
      "0.5\n",
      "=================================================================\n",
      "Results for  285  PCA components\n",
      "=================================================================\n",
      "Logistic Regression\n",
      "[[182   0]\n",
      " [  0   6]]\n",
      "1.0\n",
      "Nearest Neighbors\n",
      "[[182   0]\n",
      " [  5   1]]\n",
      "0.5833333333333334\n",
      "Linear SVM\n",
      "[[182   0]\n",
      " [  2   4]]\n",
      "0.8333333333333333\n"
     ]
    },
    {
     "name": "stderr",
     "output_type": "stream",
     "text": [
      "C:\\Users\\Nour Al-Hoda\\Anaconda3\\lib\\site-packages\\sklearn\\linear_model\\logistic.py:433: FutureWarning: Default solver will be changed to 'lbfgs' in 0.22. Specify a solver to silence this warning.\n",
      "  FutureWarning)\n"
     ]
    },
    {
     "name": "stdout",
     "output_type": "stream",
     "text": [
      "Gradient Boosting Classifier\n",
      "[[176   6]\n",
      " [  5   1]]\n",
      "0.5668498168498168\n",
      "Decision Tree\n",
      "[[173   9]\n",
      " [  4   2]]\n",
      "0.6419413919413919\n",
      "Random Forest\n",
      "[[177   5]\n",
      " [  6   0]]\n",
      "0.48626373626373626\n"
     ]
    },
    {
     "name": "stderr",
     "output_type": "stream",
     "text": [
      "C:\\Users\\Nour Al-Hoda\\Anaconda3\\lib\\site-packages\\sklearn\\neural_network\\multilayer_perceptron.py:562: ConvergenceWarning: Stochastic Optimizer: Maximum iterations (200) reached and the optimization hasn't converged yet.\n",
      "  % self.max_iter, ConvergenceWarning)\n"
     ]
    },
    {
     "name": "stdout",
     "output_type": "stream",
     "text": [
      "Neural Net\n",
      "[[182   0]\n",
      " [  2   4]]\n",
      "0.8333333333333333\n",
      "Naive Bayes\n",
      "[[182   0]\n",
      " [  6   0]]\n",
      "0.5\n",
      "AdaBoost\n",
      "[[177   5]\n",
      " [  4   2]]\n",
      "0.6529304029304028\n",
      "Gaussian Process\n",
      "[[182   0]\n",
      " [  6   0]]\n",
      "0.5\n",
      "=================================================================\n",
      "Results for  300  PCA components\n",
      "=================================================================\n",
      "Logistic Regression\n",
      "[[182   0]\n",
      " [  0   6]]\n",
      "1.0\n",
      "Nearest Neighbors\n",
      "[[182   0]\n",
      " [  5   1]]\n",
      "0.5833333333333334\n",
      "Linear SVM\n",
      "[[182   0]\n",
      " [  2   4]]\n",
      "0.8333333333333333\n"
     ]
    },
    {
     "name": "stderr",
     "output_type": "stream",
     "text": [
      "C:\\Users\\Nour Al-Hoda\\Anaconda3\\lib\\site-packages\\sklearn\\linear_model\\logistic.py:433: FutureWarning: Default solver will be changed to 'lbfgs' in 0.22. Specify a solver to silence this warning.\n",
      "  FutureWarning)\n"
     ]
    },
    {
     "name": "stdout",
     "output_type": "stream",
     "text": [
      "Gradient Boosting Classifier\n",
      "[[177   5]\n",
      " [  5   1]]\n",
      "0.5695970695970696\n",
      "Decision Tree\n",
      "[[175   7]\n",
      " [  5   1]]\n",
      "0.5641025641025641\n",
      "Random Forest\n",
      "[[176   6]\n",
      " [  6   0]]\n",
      "0.4835164835164835\n"
     ]
    },
    {
     "name": "stderr",
     "output_type": "stream",
     "text": [
      "C:\\Users\\Nour Al-Hoda\\Anaconda3\\lib\\site-packages\\sklearn\\neural_network\\multilayer_perceptron.py:562: ConvergenceWarning: Stochastic Optimizer: Maximum iterations (200) reached and the optimization hasn't converged yet.\n",
      "  % self.max_iter, ConvergenceWarning)\n"
     ]
    },
    {
     "name": "stdout",
     "output_type": "stream",
     "text": [
      "Neural Net\n",
      "[[182   0]\n",
      " [  3   3]]\n",
      "0.75\n",
      "Naive Bayes\n",
      "[[182   0]\n",
      " [  6   0]]\n",
      "0.5\n",
      "AdaBoost\n",
      "[[180   2]\n",
      " [  4   2]]\n",
      "0.6611721611721612\n",
      "Gaussian Process\n",
      "[[182   0]\n",
      " [  6   0]]\n",
      "0.5\n",
      "=================================================================\n",
      "Results for  315  PCA components\n",
      "=================================================================\n",
      "Logistic Regression\n",
      "[[182   0]\n",
      " [  0   6]]\n",
      "1.0\n",
      "Nearest Neighbors\n",
      "[[182   0]\n",
      " [  5   1]]\n",
      "0.5833333333333334\n",
      "Linear SVM\n",
      "[[182   0]\n",
      " [  2   4]]\n",
      "0.8333333333333333\n"
     ]
    },
    {
     "name": "stderr",
     "output_type": "stream",
     "text": [
      "C:\\Users\\Nour Al-Hoda\\Anaconda3\\lib\\site-packages\\sklearn\\linear_model\\logistic.py:433: FutureWarning: Default solver will be changed to 'lbfgs' in 0.22. Specify a solver to silence this warning.\n",
      "  FutureWarning)\n"
     ]
    },
    {
     "name": "stdout",
     "output_type": "stream",
     "text": [
      "Gradient Boosting Classifier\n",
      "[[179   3]\n",
      " [  4   2]]\n",
      "0.6584249084249083\n",
      "Decision Tree\n",
      "[[177   5]\n",
      " [  4   2]]\n",
      "0.6529304029304028\n",
      "Random Forest\n",
      "[[177   5]\n",
      " [  6   0]]\n",
      "0.48626373626373626\n"
     ]
    },
    {
     "name": "stderr",
     "output_type": "stream",
     "text": [
      "C:\\Users\\Nour Al-Hoda\\Anaconda3\\lib\\site-packages\\sklearn\\neural_network\\multilayer_perceptron.py:562: ConvergenceWarning: Stochastic Optimizer: Maximum iterations (200) reached and the optimization hasn't converged yet.\n",
      "  % self.max_iter, ConvergenceWarning)\n"
     ]
    },
    {
     "name": "stdout",
     "output_type": "stream",
     "text": [
      "Neural Net\n",
      "[[182   0]\n",
      " [  2   4]]\n",
      "0.8333333333333333\n",
      "Naive Bayes\n",
      "[[182   0]\n",
      " [  6   0]]\n",
      "0.5\n",
      "AdaBoost\n",
      "[[179   3]\n",
      " [  3   3]]\n",
      "0.7417582417582417\n",
      "Gaussian Process\n",
      "[[182   0]\n",
      " [  6   0]]\n",
      "0.5\n",
      "=================================================================\n",
      "Results for  330  PCA components\n",
      "=================================================================\n",
      "Logistic Regression\n",
      "[[182   0]\n",
      " [  0   6]]\n",
      "1.0\n",
      "Nearest Neighbors\n",
      "[[182   0]\n",
      " [  5   1]]\n",
      "0.5833333333333334\n",
      "Linear SVM\n",
      "[[182   0]\n",
      " [  2   4]]\n",
      "0.8333333333333333\n"
     ]
    },
    {
     "name": "stderr",
     "output_type": "stream",
     "text": [
      "C:\\Users\\Nour Al-Hoda\\Anaconda3\\lib\\site-packages\\sklearn\\linear_model\\logistic.py:433: FutureWarning: Default solver will be changed to 'lbfgs' in 0.22. Specify a solver to silence this warning.\n",
      "  FutureWarning)\n"
     ]
    },
    {
     "name": "stdout",
     "output_type": "stream",
     "text": [
      "Gradient Boosting Classifier\n",
      "[[178   4]\n",
      " [  5   1]]\n",
      "0.5723443223443223\n",
      "Decision Tree\n",
      "[[173   9]\n",
      " [  3   3]]\n",
      "0.7252747252747251\n",
      "Random Forest\n",
      "[[176   6]\n",
      " [  6   0]]\n",
      "0.4835164835164835\n"
     ]
    },
    {
     "name": "stderr",
     "output_type": "stream",
     "text": [
      "C:\\Users\\Nour Al-Hoda\\Anaconda3\\lib\\site-packages\\sklearn\\neural_network\\multilayer_perceptron.py:562: ConvergenceWarning: Stochastic Optimizer: Maximum iterations (200) reached and the optimization hasn't converged yet.\n",
      "  % self.max_iter, ConvergenceWarning)\n"
     ]
    },
    {
     "name": "stdout",
     "output_type": "stream",
     "text": [
      "Neural Net\n",
      "[[182   0]\n",
      " [  2   4]]\n",
      "0.8333333333333333\n",
      "Naive Bayes\n",
      "[[182   0]\n",
      " [  6   0]]\n",
      "0.5\n",
      "AdaBoost\n",
      "[[179   3]\n",
      " [  4   2]]\n",
      "0.6584249084249083\n",
      "Gaussian Process\n",
      "[[182   0]\n",
      " [  6   0]]\n",
      "0.5\n",
      "=================================================================\n",
      "Results for  345  PCA components\n",
      "=================================================================\n",
      "Logistic Regression\n",
      "[[182   0]\n",
      " [  0   6]]\n",
      "1.0\n",
      "Nearest Neighbors\n",
      "[[182   0]\n",
      " [  5   1]]\n",
      "0.5833333333333334\n",
      "Linear SVM\n",
      "[[182   0]\n",
      " [  2   4]]\n",
      "0.8333333333333333\n"
     ]
    },
    {
     "name": "stderr",
     "output_type": "stream",
     "text": [
      "C:\\Users\\Nour Al-Hoda\\Anaconda3\\lib\\site-packages\\sklearn\\linear_model\\logistic.py:433: FutureWarning: Default solver will be changed to 'lbfgs' in 0.22. Specify a solver to silence this warning.\n",
      "  FutureWarning)\n"
     ]
    },
    {
     "name": "stdout",
     "output_type": "stream",
     "text": [
      "Gradient Boosting Classifier\n",
      "[[179   3]\n",
      " [  4   2]]\n",
      "0.6584249084249083\n",
      "Decision Tree\n",
      "[[176   6]\n",
      " [  4   2]]\n",
      "0.6501831501831501\n",
      "Random Forest\n",
      "[[176   6]\n",
      " [  6   0]]\n",
      "0.4835164835164835\n"
     ]
    },
    {
     "name": "stderr",
     "output_type": "stream",
     "text": [
      "C:\\Users\\Nour Al-Hoda\\Anaconda3\\lib\\site-packages\\sklearn\\neural_network\\multilayer_perceptron.py:562: ConvergenceWarning: Stochastic Optimizer: Maximum iterations (200) reached and the optimization hasn't converged yet.\n",
      "  % self.max_iter, ConvergenceWarning)\n"
     ]
    },
    {
     "name": "stdout",
     "output_type": "stream",
     "text": [
      "Neural Net\n",
      "[[182   0]\n",
      " [  2   4]]\n",
      "0.8333333333333333\n",
      "Naive Bayes\n",
      "[[182   0]\n",
      " [  6   0]]\n",
      "0.5\n",
      "AdaBoost\n",
      "[[179   3]\n",
      " [  4   2]]\n",
      "0.6584249084249083\n",
      "Gaussian Process\n",
      "[[182   0]\n",
      " [  6   0]]\n",
      "0.5\n",
      "=================================================================\n",
      "Results for  360  PCA components\n",
      "=================================================================\n",
      "Logistic Regression\n",
      "[[182   0]\n",
      " [  0   6]]\n",
      "1.0\n",
      "Nearest Neighbors\n",
      "[[182   0]\n",
      " [  5   1]]\n",
      "0.5833333333333334\n",
      "Linear SVM\n",
      "[[182   0]\n",
      " [  2   4]]\n",
      "0.8333333333333333\n"
     ]
    },
    {
     "name": "stderr",
     "output_type": "stream",
     "text": [
      "C:\\Users\\Nour Al-Hoda\\Anaconda3\\lib\\site-packages\\sklearn\\linear_model\\logistic.py:433: FutureWarning: Default solver will be changed to 'lbfgs' in 0.22. Specify a solver to silence this warning.\n",
      "  FutureWarning)\n"
     ]
    },
    {
     "name": "stdout",
     "output_type": "stream",
     "text": [
      "Gradient Boosting Classifier\n",
      "[[178   4]\n",
      " [  5   1]]\n",
      "0.5723443223443223\n",
      "Decision Tree\n",
      "[[174   8]\n",
      " [  4   2]]\n",
      "0.6446886446886446\n",
      "Random Forest\n",
      "[[177   5]\n",
      " [  6   0]]\n",
      "0.48626373626373626\n"
     ]
    },
    {
     "name": "stderr",
     "output_type": "stream",
     "text": [
      "C:\\Users\\Nour Al-Hoda\\Anaconda3\\lib\\site-packages\\sklearn\\neural_network\\multilayer_perceptron.py:562: ConvergenceWarning: Stochastic Optimizer: Maximum iterations (200) reached and the optimization hasn't converged yet.\n",
      "  % self.max_iter, ConvergenceWarning)\n"
     ]
    },
    {
     "name": "stdout",
     "output_type": "stream",
     "text": [
      "Neural Net\n",
      "[[182   0]\n",
      " [  4   2]]\n",
      "0.6666666666666666\n",
      "Naive Bayes\n",
      "[[182   0]\n",
      " [  6   0]]\n",
      "0.5\n",
      "AdaBoost\n",
      "[[181   1]\n",
      " [  4   2]]\n",
      "0.6639194139194139\n",
      "Gaussian Process\n",
      "[[182   0]\n",
      " [  6   0]]\n",
      "0.5\n",
      "=================================================================\n",
      "Results for  375  PCA components\n",
      "=================================================================\n",
      "Logistic Regression\n",
      "[[182   0]\n",
      " [  0   6]]\n",
      "1.0\n",
      "Nearest Neighbors\n",
      "[[182   0]\n",
      " [  5   1]]\n",
      "0.5833333333333334\n",
      "Linear SVM\n",
      "[[182   0]\n",
      " [  2   4]]\n"
     ]
    },
    {
     "name": "stderr",
     "output_type": "stream",
     "text": [
      "C:\\Users\\Nour Al-Hoda\\Anaconda3\\lib\\site-packages\\sklearn\\linear_model\\logistic.py:433: FutureWarning: Default solver will be changed to 'lbfgs' in 0.22. Specify a solver to silence this warning.\n",
      "  FutureWarning)\n"
     ]
    },
    {
     "name": "stdout",
     "output_type": "stream",
     "text": [
      "0.8333333333333333\n",
      "Gradient Boosting Classifier\n",
      "[[178   4]\n",
      " [  4   2]]\n",
      "0.6556776556776556\n",
      "Decision Tree\n",
      "[[175   7]\n",
      " [  4   2]]\n",
      "0.6474358974358974\n",
      "Random Forest\n",
      "[[177   5]\n",
      " [  6   0]]\n",
      "0.48626373626373626\n"
     ]
    },
    {
     "name": "stderr",
     "output_type": "stream",
     "text": [
      "C:\\Users\\Nour Al-Hoda\\Anaconda3\\lib\\site-packages\\sklearn\\neural_network\\multilayer_perceptron.py:562: ConvergenceWarning: Stochastic Optimizer: Maximum iterations (200) reached and the optimization hasn't converged yet.\n",
      "  % self.max_iter, ConvergenceWarning)\n"
     ]
    },
    {
     "name": "stdout",
     "output_type": "stream",
     "text": [
      "Neural Net\n",
      "[[182   0]\n",
      " [  2   4]]\n",
      "0.8333333333333333\n",
      "Naive Bayes\n",
      "[[182   0]\n",
      " [  6   0]]\n",
      "0.5\n",
      "AdaBoost\n",
      "[[181   1]\n",
      " [  4   2]]\n",
      "0.6639194139194139\n",
      "Gaussian Process\n",
      "[[182   0]\n",
      " [  6   0]]\n",
      "0.5\n"
     ]
    }
   ],
   "source": [
    "for i in range (8):\n",
    "    df = LoadData(\"csv/\" + fnames[i] + \"neg\" + \".csv\", \"csv/\" + fnames[i] + \"pos\" + \".csv\")\n",
    "    print (\"=================================================================\")\n",
    "    print (\"=================================================================\")\n",
    "    print (\"Results for \", fnames[i])\n",
    "    print (df.shape)\n",
    "    print (\"=================================================================\")\n",
    "    print (\"=================================================================\")\n",
    "    \n",
    "    \n",
    "    traningFeatures, testFeatures, trainingLabels, actualResults = SplitData(df)\n",
    "    print (\"=================================================================\")\n",
    "    print (\"Training 10 different classifiers on raw data\")\n",
    "    print (\"=================================================================\")\n",
    "    dictModels = batch_classify(traningFeatures, trainingLabels, testFeatures, actualResults, no_classifiers=10)\n",
    "    \n",
    "    \n",
    "    df_CAR = CAR_Filter(df)\n",
    "    print (df.shape)\n",
    "    traningFeatures_CAR, testFeatures_CAR, trainingLabels_CAR, actualResults_CAR = SplitData(df_CAR)\n",
    "    print (\"=================================================================\")\n",
    "    print (\"Training 10 different classifiers on data after applying CAR filter\")\n",
    "    print (\"=================================================================\")\n",
    "    dictModels = batch_classify(traningFeatures_CAR, trainingLabels_CAR, testFeatures_CAR, actualResults_CAR, no_classifiers=10)\n",
    "    \n",
    "    print (\"=================================================================\")\n",
    "    print (\"Training 10 different classifiers, and different PCA components without CAR filter\")\n",
    "    print (\"=================================================================\")\n",
    "    scaler = StandardScaler()\n",
    "    # Fit on training set only.\n",
    "    scaler.fit(traningFeatures)\n",
    "    # Apply transform to both the training set and the test set.\n",
    "    train_img = scaler.transform(traningFeatures)\n",
    "    test_img = scaler.transform(testFeatures)\n",
    "    for i in range (15, traningFeatures.shape[0], 15):\n",
    "        pca = PCA(n_components=i)\n",
    "        pca.fit(train_img)\n",
    "        PCA_training_features = pca.transform(train_img)\n",
    "        PCA_testing_features = pca.transform(test_img)\n",
    "        print (\"=================================================================\")\n",
    "        print (\"Results for \", i, \" PCA components\")\n",
    "        print (\"=================================================================\")\n",
    "        batch_classify(PCA_training_features, trainingLabels, PCA_testing_features, actualResults, no_classifiers=10)\n",
    "        \n",
    "    print (\"=================================================================\")\n",
    "    print (\"Training 10 different classifiers, and different PCA components after CAR filter\")\n",
    "    print (\"=================================================================\")\n",
    "    scaler = StandardScaler()\n",
    "    # Fit on training set only.\n",
    "    scaler.fit(traningFeatures)\n",
    "    # Apply transform to both the training set and the test set.\n",
    "    train_img = scaler.transform(traningFeatures_CAR)\n",
    "    test_img = scaler.transform(testFeatures_CAR)\n",
    "    for i in range (15, traningFeatures_CAR.shape[0], 15):\n",
    "        pca = PCA(n_components=i)\n",
    "        pca.fit(train_img)\n",
    "        PCA_training_features = pca.transform(train_img)\n",
    "        PCA_testing_features = pca.transform(test_img)\n",
    "        print (\"=================================================================\")\n",
    "        print (\"Results for \", i, \" PCA components\")\n",
    "        print (\"=================================================================\")\n",
    "        batch_classify(PCA_training_features, trainingLabels_CAR, PCA_testing_features, actualResults_CAR, no_classifiers=10)"
   ]
  },
  {
   "cell_type": "code",
   "execution_count": null,
   "metadata": {},
   "outputs": [],
   "source": []
  }
 ],
 "metadata": {
  "kernelspec": {
   "display_name": "Python 3",
   "language": "python",
   "name": "python3"
  },
  "language_info": {
   "codemirror_mode": {
    "name": "ipython",
    "version": 3
   },
   "file_extension": ".py",
   "mimetype": "text/x-python",
   "name": "python",
   "nbconvert_exporter": "python",
   "pygments_lexer": "ipython3",
   "version": "3.7.1"
  }
 },
 "nbformat": 4,
 "nbformat_minor": 2
}
