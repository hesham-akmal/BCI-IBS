{
 "cells": [
  {
   "cell_type": "code",
   "execution_count": 1,
   "metadata": {},
   "outputs": [],
   "source": [
    "import airsim # uses local airsim package (pip install is NOT needed)\n",
    "\n",
    "import numpy as np\n",
    "\n",
    "# To view images\n",
    "from PIL import Image\n",
    "import io\n",
    "\n",
    "# To estimate code time, gets timestamp\n",
    "import time\n",
    "\n",
    "#gets timestamp\n",
    "import datetime\n",
    "\n",
    "# To play sounds\n",
    "import winsound"
   ]
  },
  {
   "cell_type": "markdown",
   "metadata": {},
   "source": [
    "# Emergency Full Brake Function"
   ]
  },
  {
   "cell_type": "code",
   "execution_count": null,
   "metadata": {},
   "outputs": [],
   "source": [
    "def BeepAlert():\n",
    "    for i in range(5):\n",
    "        winsound.Beep(500, 200)\n",
    "        \n",
    "# Overrides driver controls and initiates the brakes until speed is less than 1        \n",
    "def EmergencyBrake_TillCarStop():\n",
    "    BeepAlert()\n",
    "    client = airsim.CarClient() #Connect to client\n",
    "    client.confirmConnection() #Returns string with success/failure\n",
    "    car_controls = airsim.CarControls()\n",
    "    client.enableApiControl(True) # Immediately disables keyboard/joystick controls\n",
    "    car_controls.brake = 1 # Will not immediately set brakes to true, still needs \"client.setCarControls(car_controls)\"\" \n",
    "    client.setCarControls(car_controls)  # Must be set after changing properties of \"car_controls\"\n",
    "\n",
    "#     Keep brakes on till car speed almost zero\n",
    "    while(client.getCarState().speed > 1):\n",
    "        time.sleep(0.1)\n",
    "    \n",
    "    car_controls.brake = 0\n",
    "    client.setCarControls(car_controls)\n",
    "    client.enableApiControl(False) # Enables back keyboard/joystick controls"
   ]
  },
  {
   "cell_type": "markdown",
   "metadata": {},
   "source": [
    "# Brake Test after 10 sec"
   ]
  },
  {
   "cell_type": "code",
   "execution_count": null,
   "metadata": {},
   "outputs": [],
   "source": [
    "client = airsim.CarClient()\n",
    "time.sleep(10)\n",
    "EmergencyBrake_TillCarStop()"
   ]
  },
  {
   "cell_type": "markdown",
   "metadata": {},
   "source": [
    "# Prints car speed every half second"
   ]
  },
  {
   "cell_type": "code",
   "execution_count": null,
   "metadata": {},
   "outputs": [],
   "source": [
    "client = airsim.CarClient()\n",
    "client.confirmConnection()\n",
    "while(True):\n",
    "    time.sleep(0.5)\n",
    "    print(client.getCarState().speed)"
   ]
  },
  {
   "cell_type": "markdown",
   "metadata": {},
   "source": [
    "# Take one image and show it"
   ]
  },
  {
   "cell_type": "code",
   "execution_count": null,
   "metadata": {},
   "outputs": [],
   "source": [
    "client = airsim.CarClient()\n",
    "png_image = client.simGetImage(\"4\", airsim.ImageType.Scene)\n",
    "Image.open(io.BytesIO(png_image)).show()"
   ]
  },
  {
   "cell_type": "markdown",
   "metadata": {},
   "source": [
    "# Helpful APIs"
   ]
  },
  {
   "cell_type": "code",
   "execution_count": null,
   "metadata": {},
   "outputs": [],
   "source": [
    "# Get multiple images in one call (Faster than getting a single image in a for loop)\n",
    "responses = client.simGetImages([ airsim.ImageRequest(0, airsim.ImageType.Scene), \n",
    "                               airsim.ImageRequest(0, airsim.ImageType.Scene), \n",
    "                               airsim.ImageRequest(0, airsim.ImageType.Scene), \n",
    "                               airsim.ImageRequest(0, airsim.ImageType.Scene), \n",
    "                               airsim.ImageRequest(0, airsim.ImageType.Scene), \n",
    "                               airsim.ImageRequest(0, airsim.ImageType.Scene)])\n",
    "\n",
    "\n",
    "\n",
    "# reset driver control\n",
    "client.enableApiControl(False) # Enables keyboard/joystick controls\n",
    "\n",
    "\n",
    "\n",
    "\n",
    "# to estimate code time\n",
    "start = time.time()\n",
    "# \n",
    "print(time.time() - start)\n",
    "\n",
    "\n",
    "\n",
    "# Run cmd command at proj root dir\n",
    "import os\n",
    "\n",
    "project_root = dirname(dirname(\"__file__\"))\n",
    "\n",
    "# os.system(\"start / wait cmd \" + project_root + \"/k test.exe\")\n",
    "os.system(\"start cmd \" + project_root + \"/k test.exe\")"
   ]
  },
  {
   "cell_type": "markdown",
   "metadata": {},
   "source": [
    "# Print freq of frames (Scene View) is taken from 1 camera"
   ]
  },
  {
   "cell_type": "code",
   "execution_count": null,
   "metadata": {
    "scrolled": true
   },
   "outputs": [],
   "source": [
    "client = airsim.CarClient()\n",
    "while(True):\n",
    "\n",
    "    x = 0\n",
    "    start = time.time()\n",
    "\n",
    "    while(True):\n",
    "        png_image = client.simGetImage(\"0\", airsim.ImageType.Scene)\n",
    "        if(time.time() - start > 1):\n",
    "            break\n",
    "        x+=1\n",
    "\n",
    "    print(x)"
   ]
  },
  {
   "cell_type": "markdown",
   "metadata": {},
   "source": [
    "# Print freq of frames (Scene View) is taken from 2 cameras"
   ]
  },
  {
   "cell_type": "code",
   "execution_count": null,
   "metadata": {},
   "outputs": [],
   "source": [
    "client = airsim.CarClient()\n",
    "while(True):\n",
    "\n",
    "    x = 0\n",
    "    start = time.time()\n",
    "\n",
    "    while(True):\n",
    "        responses = client.simGetImages([ airsim.ImageRequest(1, airsim.ImageType.Scene)\n",
    "                                        , airsim.ImageRequest(2, airsim.ImageType.Scene)\n",
    "                                        ]) \n",
    "        if(time.time() - start > 1):\n",
    "            break\n",
    "        x+=1\n",
    "\n",
    "    print(x)"
   ]
  },
  {
   "cell_type": "code",
   "execution_count": null,
   "metadata": {},
   "outputs": [],
   "source": [
    "# DEPRECATED, USE DISTANCE FROM ENGINE INSTEAD\n",
    "# Estimate frequency of calculating nearest objects distances per second\n",
    "\n",
    "client = airsim.CarClient()\n",
    "\n",
    "#Rotate camera upwards to prevent getting distances from ground \n",
    "client.simSetCameraOrientation(0, airsim.to_quaternion(0.5, 0, 0)); #radians\n",
    "\n",
    "while(True):\n",
    "\n",
    "    x = 0\n",
    "    start = time.time()\n",
    "\n",
    "    while(True):\n",
    "        responses = client.simGetImages([ airsim.ImageRequest(0, airsim.ImageType.DepthPerspective, True)])\n",
    "        minDist = min(float(s) for s in responses[0].image_data_float)\n",
    "#         print(minDist)\n",
    "        \n",
    "        if(time.time() - start > 1):\n",
    "            break\n",
    "        x+=1\n",
    "        \n",
    "    print(x)"
   ]
  },
  {
   "cell_type": "markdown",
   "metadata": {},
   "source": [
    "# Calculate actual distance from two positions of car"
   ]
  },
  {
   "cell_type": "code",
   "execution_count": null,
   "metadata": {},
   "outputs": [],
   "source": [
    "#Run at position 1\n",
    "\n",
    "client = airsim.CarClient()\n",
    "\n",
    "v = client.simGetVehiclePose().position\n",
    "x1 = v.x_val\n",
    "y1 = v.y_val\n",
    "z1 = v.z_val"
   ]
  },
  {
   "cell_type": "code",
   "execution_count": null,
   "metadata": {},
   "outputs": [],
   "source": [
    "#Run at position 2 to get distance\n",
    "v = client.simGetVehiclePose().position\n",
    "x2 = v.x_val\n",
    "y2 = v.y_val\n",
    "z2 = v.z_val\n",
    "\n",
    "import math  \n",
    "def calculateDistance(x1,y1,z1,x2,y2,z2):  \n",
    "     return math.sqrt((x2 - x1)**2 + (y2 - y1)**2 + (z2 - z1)**2)\n",
    "\n",
    "calculateDistance(x1,y1,z1,x2,y2,y2)"
   ]
  },
  {
   "cell_type": "code",
   "execution_count": null,
   "metadata": {},
   "outputs": [],
   "source": []
  },
  {
   "cell_type": "markdown",
   "metadata": {},
   "source": [
    "# New functions for BADAS\n",
    "Only works with the BADAS Sim versions\n",
    "\n",
    "client.getAdasPacket()\n",
    "Returns a packet, includes float \"Distance from car\" , int \"EventNumber\", more later\n",
    "\n",
    "client.getCarControls()\n",
    "Returns car controls which include car brake value (Possible that it will return brake pedal value)"
   ]
  },
  {
   "cell_type": "code",
   "execution_count": 3,
   "metadata": {
    "scrolled": true
   },
   "outputs": [
    {
     "name": "stdout",
     "output_type": "stream",
     "text": [
      "Car Event Number: 0\n",
      "Human Event Number: 0\n",
      "Distance Between Cars: 7.387209892272949\n",
      "Car Event Number: 0\n",
      "Human Event Number: 0\n",
      "Distance Between Cars: 13.506753921508789\n",
      "Car Event Number: 0\n",
      "Human Event Number: 0\n",
      "Distance Between Cars: 22.299602508544922\n",
      "Car Event Number: 0\n",
      "Human Event Number: 0\n",
      "Distance Between Cars: 32.612789154052734\n",
      "Car Event Number: 0\n",
      "Human Event Number: 1\n",
      "Distance Between Cars: 44.782100677490234\n",
      "Car Event Number: 1\n",
      "Human Event Number: 0\n",
      "Distance Between Cars: 58.706153869628906\n",
      "Car Event Number: 1\n",
      "Human Event Number: 0\n",
      "Distance Between Cars: 67.26978302001953\n",
      "Car Event Number: 1\n",
      "Human Event Number: 0\n",
      "Distance Between Cars: 68.48748779296875\n",
      "Car Event Number: 1\n",
      "Human Event Number: 0\n",
      "Distance Between Cars: 68.48748779296875\n",
      "Car Event Number: 1\n",
      "Human Event Number: 0\n",
      "Distance Between Cars: 68.48748779296875\n",
      "Car Event Number: 1\n",
      "Human Event Number: 1\n",
      "Distance Between Cars: 68.48748779296875\n",
      "Car Event Number: 1\n",
      "Human Event Number: 0\n",
      "Distance Between Cars: 68.48748779296875\n",
      "Car Event Number: 1\n",
      "Human Event Number: 0\n",
      "Distance Between Cars: 68.48748779296875\n",
      "Car Event Number: 1\n",
      "Human Event Number: 0\n",
      "Distance Between Cars: 68.48748779296875\n",
      "Car Event Number: 1\n",
      "Human Event Number: 0\n",
      "Distance Between Cars: 68.48748779296875\n",
      "Car Event Number: 1\n",
      "Human Event Number: 0\n",
      "Distance Between Cars: 68.48748779296875\n",
      "Car Event Number: 1\n",
      "Human Event Number: 3\n",
      "Distance Between Cars: 68.48748779296875\n",
      "Car Event Number: 1\n",
      "Human Event Number: 2\n",
      "Distance Between Cars: 68.48748779296875\n",
      "Car Event Number: 1\n",
      "Human Event Number: 2\n",
      "Distance Between Cars: 68.48748779296875\n",
      "Car Event Number: 1\n",
      "Human Event Number: 2\n",
      "Distance Between Cars: 68.48748779296875\n",
      "Car Event Number: 1\n",
      "Human Event Number: 2\n",
      "Distance Between Cars: 68.48748779296875\n",
      "Car Event Number: 1\n",
      "Human Event Number: 2\n",
      "Distance Between Cars: 68.48748779296875\n",
      "Car Event Number: 1\n",
      "Human Event Number: 2\n",
      "Distance Between Cars: 68.48748779296875\n",
      "Car Event Number: 1\n",
      "Human Event Number: 2\n",
      "Distance Between Cars: 68.48748779296875\n",
      "Car Event Number: 1\n",
      "Human Event Number: 2\n",
      "Distance Between Cars: 68.48748779296875\n"
     ]
    },
    {
     "ename": "KeyboardInterrupt",
     "evalue": "",
     "output_type": "error",
     "traceback": [
      "\u001b[1;31m---------------------------------------------------------------------------\u001b[0m",
      "\u001b[1;31mKeyboardInterrupt\u001b[0m                         Traceback (most recent call last)",
      "\u001b[1;32m<ipython-input-3-a6cc59951b08>\u001b[0m in \u001b[0;36m<module>\u001b[1;34m()\u001b[0m\n\u001b[0;32m      2\u001b[0m \u001b[0mclient\u001b[0m \u001b[1;33m=\u001b[0m \u001b[0mairsim\u001b[0m\u001b[1;33m.\u001b[0m\u001b[0mCarClient\u001b[0m\u001b[1;33m(\u001b[0m\u001b[1;33m)\u001b[0m \u001b[1;31m#Connect to airsim\u001b[0m\u001b[1;33m\u001b[0m\u001b[0m\n\u001b[0;32m      3\u001b[0m \u001b[1;32mwhile\u001b[0m \u001b[1;33m(\u001b[0m\u001b[1;32mTrue\u001b[0m\u001b[1;33m)\u001b[0m\u001b[1;33m:\u001b[0m\u001b[1;33m\u001b[0m\u001b[0m\n\u001b[1;32m----> 4\u001b[1;33m     \u001b[0mtime\u001b[0m\u001b[1;33m.\u001b[0m\u001b[0msleep\u001b[0m\u001b[1;33m(\u001b[0m\u001b[1;36m1\u001b[0m\u001b[1;33m)\u001b[0m\u001b[1;33m\u001b[0m\u001b[0m\n\u001b[0m\u001b[0;32m      5\u001b[0m     \u001b[0mx\u001b[0m \u001b[1;33m=\u001b[0m \u001b[0mclient\u001b[0m\u001b[1;33m.\u001b[0m\u001b[0mgetAdasPacket\u001b[0m\u001b[1;33m(\u001b[0m\u001b[1;33m)\u001b[0m\u001b[1;33m\u001b[0m\u001b[0m\n\u001b[0;32m      6\u001b[0m     \u001b[0mprint\u001b[0m\u001b[1;33m(\u001b[0m\u001b[1;34m'Car Event Number:'\u001b[0m \u001b[1;33m,\u001b[0m \u001b[0mx\u001b[0m\u001b[1;33m[\u001b[0m\u001b[1;36m0\u001b[0m\u001b[1;33m]\u001b[0m\u001b[1;33m)\u001b[0m\u001b[1;33m\u001b[0m\u001b[0m\n",
      "\u001b[1;31mKeyboardInterrupt\u001b[0m: "
     ]
    }
   ],
   "source": [
    "#Testing getAdasPacket()\n",
    "client = airsim.CarClient() #Connect to airsim\n",
    "while (True):\n",
    "    time.sleep(1)\n",
    "    x = client.getAdasPacket()\n",
    "    print('Car Event Number:' , x[0])\n",
    "    print('Pedestrian Event Number:' , x[1])\n",
    "    print('Distance Between Cars:' , x[2])"
   ]
  },
  {
   "cell_type": "code",
   "execution_count": null,
   "metadata": {},
   "outputs": [],
   "source": [
    "client = airsim.CarClient() #Connect to airsim\n",
    "while (True):\n",
    "    time.sleep(1)\n",
    "    x = client.getCarControls()\n",
    "    print(x['brake'])"
   ]
  }
 ],
 "metadata": {
  "kernelspec": {
   "display_name": "Python 3",
   "language": "python",
   "name": "python3"
  },
  "language_info": {
   "codemirror_mode": {
    "name": "ipython",
    "version": 3
   },
   "file_extension": ".py",
   "mimetype": "text/x-python",
   "name": "python",
   "nbconvert_exporter": "python",
   "pygments_lexer": "ipython3",
   "version": "3.6.6"
  }
 },
 "nbformat": 4,
 "nbformat_minor": 2
}
