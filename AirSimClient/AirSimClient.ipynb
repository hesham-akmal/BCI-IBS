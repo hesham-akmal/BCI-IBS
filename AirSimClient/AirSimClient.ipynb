{
 "cells": [
  {
   "cell_type": "code",
   "execution_count": 2,
   "metadata": {},
   "outputs": [
    {
     "name": "stdout",
     "output_type": "stream",
     "text": [
      "Trying to find haptics\n",
      "Found 0 : b'LS-USBMX1/2/3 Steering\\xc2\\xa1\\xc2\\xad'\n",
      "Using device 0\n",
      "   effect 0 Sine Wave\n",
      "   effect 1 Triangle\n",
      "   effect 2 Sawtooth Up\n",
      "   effect 3 Sawtooth Down\n",
      "   effect 4 Ramp\n",
      "   effect 5 Constant Force\n"
     ]
    }
   ],
   "source": [
    "# Use local airsim package (DO NOT pip install airsim, UNINSTALL IF ALREADY INSTALLED > \"pip uninstall airsim\")\n",
    "import airsim \n",
    "\n",
    "import numpy as np\n",
    "import math\n",
    "\n",
    "# To view images\n",
    "from PIL import Image\n",
    "import io\n",
    "\n",
    "# To estimate code time, gets timestamp\n",
    "import time\n",
    "\n",
    "#gets timestamp\n",
    "import datetime\n",
    "\n",
    "# To play sounds\n",
    "import winsound\n",
    "\n",
    "import threading\n",
    "import sys\n",
    "\n",
    "################################################################################################################################################################################\n",
    "################################################################################################################################################################################\n",
    "\n",
    "#Feedback Haptic effects\n",
    "from pathlib import Path\n",
    "sys.path.append(str(Path().resolve().parent).replace('\\\\','/') + '/Nitho SDK')\n",
    "import sdl2 #Local sdl2 dir which is a wrapper to SDL2.dll\n",
    "\n",
    "sdl2.SDL_Init(sdl2.SDL_INIT_JOYSTICK)\n",
    "joystick = sdl2.SDL_JoystickOpen(0)\n",
    "def getBrakeVal():\n",
    "    sdl2.SDL_PumpEvents()\n",
    "    joy_y = sdl2.SDL_JoystickGetAxis(joystick, 1) \n",
    "    joy_y = (joy_y / 32767)\n",
    "    if(joy_y < 0.001):\n",
    "        joy_y=0\n",
    "    return joy_y\n",
    "\n",
    "class Haptic:\n",
    "\n",
    "    def __init__(self):\n",
    "        sdl2.SDL_Init(sdl2.SDL_INIT_TIMER | sdl2.SDL_INIT_JOYSTICK | sdl2.SDL_INIT_HAPTIC)\n",
    "\n",
    "        print(\"Trying to find haptics\")\n",
    "        if (sdl2.SDL_NumHaptics() == 0):\n",
    "            print(\"No haptic devices found\")\n",
    "            sdl2.SDL_Quit()\n",
    "\n",
    "        for index in range(0, sdl2.SDL_NumHaptics()):\n",
    "\t        print(\"Found\", index, \":\", sdl2.SDL_HapticName(index))\n",
    "    \n",
    "        index = 0\n",
    "\n",
    "        self.haptic = sdl2.SDL_HapticOpen(index)\n",
    "        if self.haptic == None:\n",
    "            print(\"Unable to open device\")\n",
    "            sdl2.SDL_Quit()\n",
    "            exit(0)\n",
    "        else:\n",
    "            print(\"Using device\", index)\n",
    "\n",
    "        self.nefx = 0\n",
    "        self.efx = [0] * 12\n",
    "        self.id = [0] * 12\n",
    "        supported = sdl2.SDL_HapticQuery(self.haptic)\n",
    "    \n",
    "        if (supported & sdl2.SDL_HAPTIC_SINE):\n",
    "            print(\"   effect\", self.nefx, \"Sine Wave\")\n",
    "            self.efx[self.nefx] = sdl2.SDL_HapticEffect(type=sdl2.SDL_HAPTIC_SINE, periodic= \\\n",
    "                sdl2.SDL_HapticPeriodic(type=sdl2.SDL_HAPTIC_SINE, direction=sdl2.SDL_HapticDirection(type=sdl2.SDL_HAPTIC_POLAR, dir=(9000,0,0)), \\\n",
    "                period=1000, magnitude=0x4000, length=5000, attack_length=1000, fade_length=1000))\n",
    "            self.id[self.nefx] = sdl2.SDL_HapticNewEffect(self.haptic, self.efx[self.nefx])\n",
    "            self.nefx += 1\n",
    "\n",
    "        if (supported & sdl2.SDL_HAPTIC_TRIANGLE):\n",
    "            print(\"   effect\", self.nefx, \"Triangle\")\n",
    "            self.efx[self.nefx] = sdl2.SDL_HapticEffect(type=sdl2.SDL_HAPTIC_TRIANGLE, periodic= \\\n",
    "                sdl2.SDL_HapticPeriodic(type=sdl2.SDL_HAPTIC_SINE, direction=sdl2.SDL_HapticDirection(type=sdl2.SDL_HAPTIC_CARTESIAN, dir=(1,0,0)), \\\n",
    "                period=1000, magnitude=0x4000, length=5000, attack_length=1000, fade_length=1000))\n",
    "            self.id[self.nefx] = sdl2.SDL_HapticNewEffect(self.haptic, self.efx[self.nefx])\n",
    "            self.nefx += 1\n",
    "\n",
    "        if (supported & sdl2.SDL_HAPTIC_SAWTOOTHUP):\n",
    "            print(\"   effect\", self.nefx, \"Sawtooth Up\")\n",
    "            self.efx[self.nefx] = sdl2.SDL_HapticEffect(type=sdl2.SDL_HAPTIC_SAWTOOTHUP, periodic= \\\n",
    "                sdl2.SDL_HapticPeriodic(type=sdl2.SDL_HAPTIC_SAWTOOTHUP, direction=sdl2.SDL_HapticDirection(type=sdl2.SDL_HAPTIC_POLAR, dir=(9000,0,0)), \\\n",
    "                period=500, magnitude=0x5000, length=5000, attack_length=1000, fade_length=1000))\n",
    "            self.id[self.nefx] = sdl2.SDL_HapticNewEffect(self.haptic, self.efx[self.nefx])\n",
    "            self.nefx += 1\n",
    "\n",
    "        if (supported & sdl2.SDL_HAPTIC_SAWTOOTHDOWN):\n",
    "            print(\"   effect\", self.nefx, \"Sawtooth Down\")\n",
    "            self.efx[self.nefx] = sdl2.SDL_HapticEffect(type=sdl2.SDL_HAPTIC_SAWTOOTHDOWN, periodic= \\\n",
    "                sdl2.SDL_HapticPeriodic(type=sdl2.SDL_HAPTIC_SAWTOOTHDOWN, direction=sdl2.SDL_HapticDirection(type=sdl2.SDL_HAPTIC_CARTESIAN, dir=(1,0,0)), \\\n",
    "                period=500, magnitude=0x5000, length=5000, attack_length=1000, fade_length=1000))\n",
    "            self.id[self.nefx] = sdl2.SDL_HapticNewEffect(self.haptic, self.efx[self.nefx])\n",
    "            self.nefx += 1\n",
    "\n",
    "        if (supported & sdl2.SDL_HAPTIC_RAMP):\n",
    "            print(\"   effect\", self.nefx, \"Ramp\")\n",
    "            self.efx[self.nefx] = sdl2.SDL_HapticEffect(type=sdl2.SDL_HAPTIC_RAMP, ramp= \\\n",
    "                sdl2.SDL_HapticRamp(type=sdl2.SDL_HAPTIC_RAMP, direction=sdl2.SDL_HapticDirection(type=sdl2.SDL_HAPTIC_POLAR, dir=(9000,0,0)), \\\n",
    "                start=0x5000, end=0x0000, length=5000, attack_length=1000, fade_length=1000))\n",
    "            self.id[self.nefx] = sdl2.SDL_HapticNewEffect(self.haptic, self.efx[self.nefx])\n",
    "            self.nefx += 1\n",
    "\n",
    "        if (supported & sdl2.SDL_HAPTIC_CONSTANT):\n",
    "            print(\"   effect\", self.nefx, \"Constant Force\")\n",
    "            self.efx[self.nefx] = sdl2.SDL_HapticEffect(type=sdl2.SDL_HAPTIC_CONSTANT, constant= \\\n",
    "                sdl2.SDL_HapticConstant(type=sdl2.SDL_HAPTIC_CONSTANT, direction=sdl2.SDL_HapticDirection(type=sdl2.SDL_HAPTIC_CARTESIAN, dir=(1,0,0)), \\\n",
    "                length=5000, level=0x4000, attack_length=1000, fade_length=1000))\n",
    "            self.id[self.nefx] = sdl2.SDL_HapticNewEffect(self.haptic, self.efx[self.nefx])\n",
    "            self.nefx += 1\n",
    "    \n",
    "    def start_haptic(self,haptic_number):\n",
    "        sdl2.SDL_HapticRunEffect(self.haptic, self.id[haptic_number], 1)\n",
    "\n",
    "    def stop_haptic(self):\n",
    "        sdl2.SDL_HapticStopAll(self.haptic)\n",
    "\n",
    "import time\n",
    "h = Haptic()\n",
    "\n",
    "#h.start_haptic(5) #Starts Haptic Feedback, Value is haptic effect number\n",
    "#h.stop_haptic() #Stops Haptic Feedback\n",
    "\n",
    "################################################################################################################################################################################\n",
    "################################################################################################################################################################################\n",
    "\n",
    "#(Only on jupyter notebook) I've been experiencing an issue/bug where calling \"airsim.CarClient()\" makes jupyter kernel stuck in a loop and no other commands can be run.\n",
    "#So we're going to call it from a new thread\n",
    "\n",
    "def Find_BADAS_ClientNormal():\n",
    "    global client\n",
    "    client = airsim.CarClient()\n",
    "\n",
    "def Find_BADAS_Client(): #Thread\n",
    "    threading.Thread(target=Find_BADAS_ClientNormal).start()\n",
    "\n",
    "Find_BADAS_Client() #Connect to client, call one time"
   ]
  },
  {
   "cell_type": "markdown",
   "metadata": {},
   "source": [
    "# Emergency Brake Functions"
   ]
  },
  {
   "cell_type": "code",
   "execution_count": null,
   "metadata": {},
   "outputs": [],
   "source": [
    "def BeepAlert():\n",
    "    for i in range(5):\n",
    "        winsound.Beep(1000, 100)\n",
    "        \n",
    "def StartFullBrake():\n",
    "    client.setBrakeInput(1)\n",
    "    threading.Thread(target=BeepAlert).start()\n",
    "\n",
    "def StopBrake():\n",
    "    client.setBrakeInput(0)\n",
    "        \n",
    "# Overrides brake control and brakes until speed is less than 1        \n",
    "def EmergencyBrake_TillCarStop():\n",
    "    h.start_haptic(5) # Start Steering wheel Haptic\n",
    "    StartFullBrake()\n",
    "    \n",
    "#     Keep brakes on till car speed almost zero\n",
    "    while(client.getCarState().speed > 1):\n",
    "        time.sleep(0.1)\n",
    "    \n",
    "    StopBrake()\n",
    "    h.stop_haptic()"
   ]
  },
  {
   "cell_type": "markdown",
   "metadata": {},
   "source": [
    "# Brake Test after 5 sec"
   ]
  },
  {
   "cell_type": "code",
   "execution_count": null,
   "metadata": {},
   "outputs": [],
   "source": [
    "time.sleep(6)\n",
    "EmergencyBrake_TillCarStop()"
   ]
  },
  {
   "cell_type": "markdown",
   "metadata": {},
   "source": [
    "# Prints car speed every half second"
   ]
  },
  {
   "cell_type": "code",
   "execution_count": null,
   "metadata": {},
   "outputs": [],
   "source": [
    "while(True):\n",
    "    time.sleep(0.5)\n",
    "    print(client.getCarState().speed)"
   ]
  },
  {
   "cell_type": "markdown",
   "metadata": {},
   "source": [
    "# Take one image and show it"
   ]
  },
  {
   "cell_type": "code",
   "execution_count": null,
   "metadata": {},
   "outputs": [],
   "source": [
    "png_image = client.simGetImage(\"1\", airsim.ImageType.Scene)\n",
    "Image.open(io.BytesIO(png_image)).show()"
   ]
  },
  {
   "cell_type": "markdown",
   "metadata": {},
   "source": [
    "# Helpful"
   ]
  },
  {
   "cell_type": "code",
   "execution_count": null,
   "metadata": {},
   "outputs": [],
   "source": [
    "# Get multiple images in one call (Faster than getting a single image in a for loop)\n",
    "responses = client.simGetImages([ airsim.ImageRequest(0, airsim.ImageType.Scene), \n",
    "                               airsim.ImageRequest(0, airsim.ImageType.Scene), \n",
    "                               airsim.ImageRequest(0, airsim.ImageType.Scene), \n",
    "                               airsim.ImageRequest(0, airsim.ImageType.Scene), \n",
    "                               airsim.ImageRequest(0, airsim.ImageType.Scene), \n",
    "                               airsim.ImageRequest(0, airsim.ImageType.Scene)])\n",
    "\n",
    "\n",
    "\n",
    "# reset driver control\n",
    "client.enableApiControl(False) # Enables keyboard/joystick controls\n",
    "\n",
    "#     Control car Api, fully disables player control\n",
    "#     car_controls = airsim.CarControls()\n",
    "#     client.enableApiControl(True) # Immediately disables keyboard/joystick controls\n",
    "#     car_controls.brake = 1 # Will not immediately set brakes to true, still needs \"client.setCarControls(car_controls)\"\" \n",
    "#     client.setCarControls(car_controls)  # Must be set after changing properties of \"car_controls\"\n",
    "#     # WAIT X SECONDS\n",
    "#     car_controls.brake = 0\n",
    "#     client.setCarControls(car_controls)\n",
    "#     client.enableApiControl(False) # Enables back keyboard/joystick controls\n",
    "\n",
    "# to estimate code time\n",
    "start = time.time()\n",
    "# \n",
    "print(time.time() - start)\n",
    "\n",
    "# Run cmd command at proj root dir\n",
    "import os\n",
    "project_root = dirname(dirname(\"__file__\"))\n",
    "# os.system(\"start / wait cmd \" + project_root + \"/k test.exe\")\n",
    "os.system(\"start cmd \" + project_root + \"/k test.exe\")"
   ]
  },
  {
   "cell_type": "markdown",
   "metadata": {},
   "source": [
    "# Print freq of frames (Scene View) is taken from 1 camera"
   ]
  },
  {
   "cell_type": "code",
   "execution_count": null,
   "metadata": {
    "scrolled": true
   },
   "outputs": [],
   "source": [
    "while(True):\n",
    "\n",
    "    x = 0\n",
    "    start = time.time()\n",
    "\n",
    "    while(True):\n",
    "        png_image = client.simGetImage(\"0\", airsim.ImageType.Scene)\n",
    "        if(time.time() - start > 1):\n",
    "            break\n",
    "        x+=1\n",
    "\n",
    "    print(x)"
   ]
  },
  {
   "cell_type": "markdown",
   "metadata": {},
   "source": [
    "# Print freq of frames (Scene View) is taken from 2 cameras"
   ]
  },
  {
   "cell_type": "code",
   "execution_count": null,
   "metadata": {},
   "outputs": [],
   "source": [
    "while(True):\n",
    "\n",
    "    x = 0\n",
    "    start = time.time()\n",
    "\n",
    "    while(True):\n",
    "        responses = client.simGetImages([ airsim.ImageRequest(1, airsim.ImageType.Scene)\n",
    "                                        , airsim.ImageRequest(2, airsim.ImageType.Scene)\n",
    "                                        ]) \n",
    "        if(time.time() - start > 1):\n",
    "            break\n",
    "        x+=1\n",
    "\n",
    "    print(x)"
   ]
  },
  {
   "cell_type": "code",
   "execution_count": null,
   "metadata": {},
   "outputs": [],
   "source": [
    "# DEPRECATED, USE DISTANCE FROM ENGINE INSTEAD\n",
    "# Estimate frequency of calculating nearest objects distances per second\n",
    "\n",
    "#Rotate camera upwards to prevent getting distances from ground \n",
    "client.simSetCameraOrientation(0, airsim.to_quaternion(0.5, 0, 0)); #radians\n",
    "\n",
    "while(True):\n",
    "\n",
    "    x = 0\n",
    "    start = time.time()\n",
    "\n",
    "    while(True):\n",
    "        responses = client.simGetImages([ airsim.ImageRequest(0, airsim.ImageType.DepthPerspective, True)])\n",
    "        minDist = min(float(s) for s in responses[0].image_data_float)\n",
    "#         print(minDist)\n",
    "        \n",
    "        if(time.time() - start > 1):\n",
    "            break\n",
    "        x+=1\n",
    "        \n",
    "    print(x)"
   ]
  },
  {
   "cell_type": "markdown",
   "metadata": {},
   "source": [
    "# Calculate actual distance from two positions of car"
   ]
  },
  {
   "cell_type": "code",
   "execution_count": null,
   "metadata": {},
   "outputs": [],
   "source": [
    "#Run at position 1\n",
    "v = client.simGetVehiclePose().position\n",
    "x1 = v.x_val\n",
    "y1 = v.y_val\n",
    "z1 = v.z_val"
   ]
  },
  {
   "cell_type": "code",
   "execution_count": null,
   "metadata": {},
   "outputs": [],
   "source": [
    "#Run at position 2 to get distance\n",
    "v = client.simGetVehiclePose().position\n",
    "x2 = v.x_val\n",
    "y2 = v.y_val\n",
    "z2 = v.z_val\n",
    "\n",
    "def calculateDistance(x1,y1,z1,x2,y2,z2):  \n",
    "     return math.sqrt((x2 - x1)**2 + (y2 - y1)**2 + (z2 - z1)**2)\n",
    "\n",
    "calculateDistance(x1,y1,z1,x2,y2,y2)"
   ]
  },
  {
   "cell_type": "markdown",
   "metadata": {},
   "source": [
    "# New functions for BADAS\n",
    "Only works with the BADAS Sim versions. Make sure to have the latest version."
   ]
  },
  {
   "cell_type": "code",
   "execution_count": null,
   "metadata": {
    "scrolled": true
   },
   "outputs": [],
   "source": [
    "#Testing getAdasPacket()\n",
    "while (True):\n",
    "    time.sleep(1)\n",
    "    x = client.getAdasPacket()\n",
    "    print('Event Number Cars: ' , x[0])\n",
    "    print('Distance Cars: ' , x[1])\n",
    "    print('Event Number Pedestrian: ' , x[2])\n",
    "    print('Distance Pedestrian: ' , x[3])"
   ]
  },
  {
   "cell_type": "code",
   "execution_count": null,
   "metadata": {},
   "outputs": [],
   "source": [
    "#Get brake value\n",
    "while (True):\n",
    "    time.sleep(1)\n",
    "    x = client.getCarControls() #CarState vs CarControls?\n",
    "    print(x['brake'])"
   ]
  },
  {
   "cell_type": "code",
   "execution_count": null,
   "metadata": {},
   "outputs": [],
   "source": [
    "# #Test maneuver\n",
    "# #Steering without braking\n",
    "# maxSteerAngle = 50\n",
    "# def Steer(angle):\n",
    "#     car_controls = airsim.CarControls()\n",
    "#     car_controls.throttle = 0\n",
    "#     car_controls.steering = angle/maxSteerAngle\n",
    "#     client.enableApiControl(True)\n",
    "#     client.setCarControls(car_controls)\n",
    "#     time.sleep(10)\n",
    "#     client.enableApiControl(False)\n",
    "# time.sleep(5)    \n",
    "# Steer(25)"
   ]
  },
  {
   "cell_type": "code",
   "execution_count": 3,
   "metadata": {},
   "outputs": [],
   "source": [
    "def unit_vector(vector):\n",
    "    \"\"\" Returns the unit vector of the vector.  \"\"\"\n",
    "    return vector / np.linalg.norm(vector)\n",
    "\n",
    "def angle_between(v1, v2):\n",
    "    v1_u = unit_vector(v1)\n",
    "    v2_u = unit_vector(v2)\n",
    "    return np.arccos(np.clip(np.dot(v1_u, v2_u), -1.0, 1.0))\n",
    "\n",
    "#BADAS v2.6+\n",
    "def SteerByAngle(angle, direction):\n",
    "    \n",
    "    FirstVec = client.getSuvFwdVec() #Get first forward vector\n",
    "    \n",
    "    car_controls = airsim.CarControls()\n",
    "    \n",
    "    car_controls.throttle = 0 # Change later, need to meet certain velocity depending on manuever equation\n",
    "    \n",
    "    if(direction == 'right'):\n",
    "        car_controls.steering = 1\n",
    "    elif(direction == 'left'):\n",
    "        car_controls.steering = -1\n",
    "        \n",
    "    #Start steering    \n",
    "    client.enableApiControl(True)  \n",
    "    client.setCarControls(car_controls)\n",
    "    \n",
    "    #Keep steering until required angle is met\n",
    "    while (True):\n",
    "        SecVec = client.getSuvFwdVec()\n",
    "        radians = angle_between( (FirstVec['X'], FirstVec['Y']), (SecVec['X'], SecVec['Y'])) #Get angle betwen first and second forward vectors\n",
    "        \n",
    "        if(math.degrees(radians) >= angle): #Stop steering if required angle is met\n",
    "            break\n",
    "        \n",
    "        if(client.getCarState().speed < 1): #Stop steering in case of errors\n",
    "            break\n",
    "            \n",
    "        time.sleep(0.01)\n",
    "        \n",
    "    client.enableApiControl(False) # Return driver full controls\n",
    "\n"
   ]
  },
  {
   "cell_type": "code",
   "execution_count": 4,
   "metadata": {},
   "outputs": [],
   "source": [
    "#Test\n",
    "time.sleep(5)    \n",
    "SteerByAngle(15,'right')\n",
    "time.sleep(0.2)   \n",
    "SteerByAngle(15,'left')"
   ]
  },
  {
   "cell_type": "code",
   "execution_count": 19,
   "metadata": {},
   "outputs": [
    {
     "data": {
      "text/plain": [
       "1550253117.417256"
      ]
     },
     "execution_count": 19,
     "metadata": {},
     "output_type": "execute_result"
    }
   ],
   "source": [
    "import time\n",
    "\n",
    "time.time()"
   ]
  },
  {
   "cell_type": "code",
   "execution_count": 32,
   "metadata": {},
   "outputs": [
    {
     "name": "stdout",
     "output_type": "stream",
     "text": [
      "100\n"
     ]
    }
   ],
   "source": [
    "import time\n",
    "millis1 = int(round(time.time() * 1000))\n",
    "\n",
    "time.sleep(0.1)\n",
    "\n",
    "millis2 = int(round(time.time() * 1000))\n",
    "\n",
    "print(millis2-millis1)"
   ]
  },
  {
   "cell_type": "code",
   "execution_count": 2,
   "metadata": {},
   "outputs": [],
   "source": [
    "Find_BADAS_Client() #Connect to client, call one time"
   ]
  },
  {
   "cell_type": "code",
   "execution_count": 8,
   "metadata": {},
   "outputs": [
    {
     "name": "stdout",
     "output_type": "stream",
     "text": [
      "event happened\n",
      "brake happened\n",
      "Time to brake after emerg:  0.5652458667755127\n"
     ]
    }
   ],
   "source": [
    "timeSinceBrakeEvent = 0\n",
    "timeOfBrakePressed = 0\n",
    "while True:\n",
    "    AdasPacket = client.getAdasPacket()\n",
    "    if AdasPacket[0] == 1:\n",
    "        timeSinceBrakeEvent = time.time()\n",
    "        print('event happened')\n",
    "        break\n",
    "while True:\n",
    "    BrakeVal = getBrakeVal()\n",
    "    if BrakeVal > 0:\n",
    "        timeOfBrakePressed = time.time()\n",
    "        print('brake happened')\n",
    "        break\n",
    "T = timeOfBrakePressed - timeSinceBrakeEvent\n",
    "print('Time to brake after emerg: ' ,  T)"
   ]
  },
  {
   "cell_type": "code",
   "execution_count": null,
   "metadata": {},
   "outputs": [],
   "source": []
  }
 ],
 "metadata": {
  "kernelspec": {
   "display_name": "Python 3",
   "language": "python",
   "name": "python3"
  },
  "language_info": {
   "codemirror_mode": {
    "name": "ipython",
    "version": 3
   },
   "file_extension": ".py",
   "mimetype": "text/x-python",
   "name": "python",
   "nbconvert_exporter": "python",
   "pygments_lexer": "ipython3",
   "version": "3.7.1"
  }
 },
 "nbformat": 4,
 "nbformat_minor": 2
}
