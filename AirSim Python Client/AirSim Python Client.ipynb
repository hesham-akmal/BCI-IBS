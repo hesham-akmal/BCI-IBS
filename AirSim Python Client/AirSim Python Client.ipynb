{
 "cells": [
  {
   "cell_type": "code",
   "execution_count": null,
   "metadata": {},
   "outputs": [],
   "source": [
    "import airsim # pip install airsim\n",
    "\n",
    "import numpy as np\n",
    "\n",
    "# To view images\n",
    "from PIL import Image\n",
    "import io\n",
    "\n",
    "# To estimate code time\n",
    "import time\n",
    "\n",
    "# To play sounds\n",
    "import winsound"
   ]
  },
  {
   "cell_type": "code",
   "execution_count": null,
   "metadata": {},
   "outputs": [],
   "source": [
    "def BeepAlert():\n",
    "    for i in range(5):\n",
    "        winsound.Beep(500, 200)\n",
    "        \n",
    "# Overrides driver controls and initiates the brakes until speed is less than 1        \n",
    "def EmergencyBrake_TillCarStop():\n",
    "    BeepAlert()\n",
    "    client = airsim.CarClient() #Connect to client\n",
    "    client.confirmConnection() #Returns string with success/failure\n",
    "    car_controls = airsim.CarControls()\n",
    "    client.enableApiControl(True) # Immediately disables keyboard/joystick controls\n",
    "    car_controls.brake = 1 # Will not immediately set brakes to true, still needs \"client.setCarControls(car_controls)\"\" \n",
    "    client.setCarControls(car_controls)  # Must be set after changing properties of \"car_controls\"\n",
    "\n",
    "#     Keep brakes on till car speed almost zero\n",
    "    while(client.getCarState().speed > 1):\n",
    "        time.sleep(0.1)\n",
    "    \n",
    "    car_controls.brake = 0\n",
    "    client.setCarControls(car_controls)\n",
    "    client.enableApiControl(False) # Enables back keyboard/joystick controls"
   ]
  },
  {
   "cell_type": "code",
   "execution_count": null,
   "metadata": {},
   "outputs": [],
   "source": [
    "# Emergency Brake Test after 10 sec\n",
    "time.sleep(10)\n",
    "EmergencyBrake_TillCarStop()"
   ]
  },
  {
   "cell_type": "code",
   "execution_count": null,
   "metadata": {},
   "outputs": [],
   "source": [
    "# to estimate code time\n",
    "start = time.time()\n",
    "# \n",
    "print(time.time() - start)"
   ]
  },
  {
   "cell_type": "code",
   "execution_count": null,
   "metadata": {},
   "outputs": [],
   "source": [
    "# reset driver control\n",
    "client.enableApiControl(False) # Enables keyboard/joystick controls"
   ]
  },
  {
   "cell_type": "code",
   "execution_count": null,
   "metadata": {},
   "outputs": [],
   "source": [
    "# Prints car speed every half second\n",
    "client = airsim.CarClient()\n",
    "client.confirmConnection()\n",
    "while(True):\n",
    "    time.sleep(0.5)\n",
    "    print(client.getCarState().speed)"
   ]
  },
  {
   "cell_type": "code",
   "execution_count": null,
   "metadata": {},
   "outputs": [],
   "source": [
    "#Take one image and show it\n",
    "client = airsim.CarClient()\n",
    "png_image = client.simGetImage(\"0\", airsim.ImageType.Scene)\n",
    "Image.open(io.BytesIO(png_image)).show()"
   ]
  },
  {
   "cell_type": "code",
   "execution_count": null,
   "metadata": {},
   "outputs": [],
   "source": [
    "# get image every 1/20 sec\n",
    "client = airsim.CarClient()\n",
    "t = 1.0/20.0\n",
    "starttime=time.time()\n",
    "\n",
    "while True:\n",
    "    responses = client.simGetImages([ airsim.ImageRequest(0, airsim.ImageType.DepthPerspective, True) ])\n",
    "#     do smth with img here \"responses[0]\"\n",
    "    time.sleep(t - ((time.time() - starttime) % t))"
   ]
  },
  {
   "cell_type": "code",
   "execution_count": null,
   "metadata": {},
   "outputs": [],
   "source": [
    "# Get multiple images in one call (Faster than getting a single image in a for loop)\n",
    "responses = client.simGetImages([ airsim.ImageRequest(0, airsim.ImageType.Scene), \n",
    "                               airsim.ImageRequest(0, airsim.ImageType.Scene), \n",
    "                               airsim.ImageRequest(0, airsim.ImageType.Scene), \n",
    "                               airsim.ImageRequest(0, airsim.ImageType.Scene), \n",
    "                               airsim.ImageRequest(0, airsim.ImageType.Scene), \n",
    "                               airsim.ImageRequest(0, airsim.ImageType.Scene)])"
   ]
  },
  {
   "cell_type": "code",
   "execution_count": null,
   "metadata": {},
   "outputs": [],
   "source": [
    "# Print how many frames (of Scene) is taken (From one camera) every second\n",
    "client = airsim.CarClient()\n",
    "while(True):\n",
    "\n",
    "    x = 0\n",
    "    start = time.time()\n",
    "\n",
    "    while(True):\n",
    "        png_image = client.simGetImage(\"0\", airsim.ImageType.Scene)\n",
    "        if(time.time() - start > 1):\n",
    "            break\n",
    "        x+=1\n",
    "\n",
    "    print(x)"
   ]
  },
  {
   "cell_type": "code",
   "execution_count": null,
   "metadata": {},
   "outputs": [],
   "source": [
    "# Estimate frequency of calculating nearest objects distances per second\n",
    "\n",
    "client = airsim.CarClient()\n",
    "\n",
    "#Rotate camera upwards to prevent getting distances from ground \n",
    "client.simSetCameraOrientation(0, airsim.to_quaternion(0.5, 0, 0)); #radians\n",
    "\n",
    "while(True):\n",
    "\n",
    "    x = 0\n",
    "    start = time.time()\n",
    "\n",
    "    while(True):\n",
    "        responses = client.simGetImages([ airsim.ImageRequest(0, airsim.ImageType.DepthPerspective, True)])\n",
    "        minDist = min(float(s) for s in responses[0].image_data_float)\n",
    "#         print(minDist)\n",
    "        \n",
    "        if(time.time() - start > 1):\n",
    "            break\n",
    "        x+=1\n",
    "        \n",
    "    print(x)"
   ]
  },
  {
   "cell_type": "code",
   "execution_count": null,
   "metadata": {},
   "outputs": [],
   "source": [
    "# Get nearest object distance from camera, every 0.1 sec\n",
    "\n",
    "client = airsim.CarClient()\n",
    "\n",
    "#Rotate camera upwards to prevent getting distances from ground \n",
    "client.simSetCameraOrientation(0, airsim.to_quaternion(0.5, 0, 0)); #radians\n",
    "\n",
    "while(True):\n",
    "    responses = client.simGetImages([ airsim.ImageRequest(0, airsim.ImageType.DepthPerspective, True) ])\n",
    "    x = min(float(s) for s in responses[0].image_data_float)\n",
    "    print(x)\n",
    "    time.sleep(0.1)"
   ]
  },
  {
   "cell_type": "code",
   "execution_count": null,
   "metadata": {},
   "outputs": [],
   "source": []
  },
  {
   "cell_type": "code",
   "execution_count": null,
   "metadata": {},
   "outputs": [],
   "source": []
  },
  {
   "cell_type": "code",
   "execution_count": null,
   "metadata": {},
   "outputs": [],
   "source": []
  },
  {
   "cell_type": "code",
   "execution_count": null,
   "metadata": {},
   "outputs": [],
   "source": []
  },
  {
   "cell_type": "code",
   "execution_count": null,
   "metadata": {},
   "outputs": [],
   "source": []
  },
  {
   "cell_type": "code",
   "execution_count": null,
   "metadata": {},
   "outputs": [],
   "source": [
    "# Run cmd command at proj root dir\n",
    "import os\n",
    "\n",
    "project_root = dirname(dirname(\"__file__\"))\n",
    "\n",
    "# os.system(\"start / wait cmd \" + project_root + \"/k test.exe\")\n",
    "os.system(\"start cmd \" + project_root + \"/k test.exe\")"
   ]
  },
  {
   "cell_type": "code",
   "execution_count": null,
   "metadata": {},
   "outputs": [],
   "source": []
  },
  {
   "cell_type": "code",
   "execution_count": null,
   "metadata": {},
   "outputs": [],
   "source": [
    "# Calculate actual distance from two positions of car"
   ]
  },
  {
   "cell_type": "code",
   "execution_count": null,
   "metadata": {},
   "outputs": [],
   "source": [
    "client = airsim.CarClient()\n",
    "\n",
    "v = client.simGetVehiclePose().position\n",
    "x1 = v.x_val\n",
    "y1 = v.y_val\n",
    "z1 = v.z_val"
   ]
  },
  {
   "cell_type": "code",
   "execution_count": null,
   "metadata": {},
   "outputs": [],
   "source": [
    "v = client.simGetVehiclePose().position\n",
    "x2 = v.x_val\n",
    "y2 = v.y_val\n",
    "z2 = v.z_val"
   ]
  },
  {
   "cell_type": "code",
   "execution_count": null,
   "metadata": {},
   "outputs": [],
   "source": [
    "import math  \n",
    "def calculateDistance(x1,y1,z1,x2,y2,z2):  \n",
    "     return math.sqrt((x2 - x1)**2 + (y2 - y1)**2 + (z2 - z1)**2)\n",
    "\n",
    "calculateDistance(x1,y1,z1,x2,y2,y2)"
   ]
  },
  {
   "cell_type": "code",
   "execution_count": null,
   "metadata": {},
   "outputs": [],
   "source": []
  }
 ],
 "metadata": {
  "kernelspec": {
   "display_name": "Python 3",
   "language": "python",
   "name": "python3"
  },
  "language_info": {
   "codemirror_mode": {
    "name": "ipython",
    "version": 3
   },
   "file_extension": ".py",
   "mimetype": "text/x-python",
   "name": "python",
   "nbconvert_exporter": "python",
   "pygments_lexer": "ipython3",
   "version": "3.6.6"
  }
 },
 "nbformat": 4,
 "nbformat_minor": 2
}
